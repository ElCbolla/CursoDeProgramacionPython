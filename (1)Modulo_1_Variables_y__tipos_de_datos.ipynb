{
  "nbformat": 4,
  "nbformat_minor": 0,
  "metadata": {
    "colab": {
      "provenance": [],
      "authorship_tag": "ABX9TyPNE8yXmpkfenp9zgOan7dg",
      "include_colab_link": true
    },
    "kernelspec": {
      "name": "python3",
      "display_name": "Python 3"
    },
    "language_info": {
      "name": "python"
    }
  },
  "cells": [
    {
      "cell_type": "markdown",
      "metadata": {
        "id": "view-in-github",
        "colab_type": "text"
      },
      "source": [
        "<a href=\"https://colab.research.google.com/github/ElCbolla/CursoDeProgramacionPython/blob/main/(1)Modulo_1_Variables_y__tipos_de_datos.ipynb\" target=\"_parent\"><img src=\"https://colab.research.google.com/assets/colab-badge.svg\" alt=\"Open In Colab\"/></a>"
      ]
    },
    {
      "cell_type": "markdown",
      "source": [
        "# Tipos de datos en python\n",
        "\n",
        "\n",
        "\n"
      ],
      "metadata": {
        "id": "PCPi1xu4E-nX"
      }
    },
    {
      "cell_type": "markdown",
      "source": [
        "Las variables en pseint se definian mediante un\n",
        "\n",
        "1.   `\"Definir\" y seguidamente de eso el nombre de nuestra variable `\n",
        "\n",
        "como se muestra a continuacion :\n",
        "\n",
        "![image (7).webp](data:image/webp;base64,UklGRqIEAABXRUJQVlA4TJYEAAAvWIEJAMfCIJIkJ/1eMqDgfGERBRnEYINVJMlO+nnJgAJc8osKxOTg5TmOZFtV5rsLvnUnAhL4OZMGrNzd3WH+A+r4/bHBAW8MpHDHCkvM0BRAFWVoiCNmcUGSGWxwQcsE5JGEAp8JFTggy7DBQZElgw0OmJMuRGAjCgU+P4jK4AMdacuxI8AEAxaQQY0XU4YEqnyoIEEEAT8Ye2l8IO60wpI3YbfkhB3MENg0mEBdwLJWrb3sW/CeeZCubZsbJZ+zoUxC753RLB104gZWOth7d/X8D2XmaxnidfFLI/oPwW0bSZJq0diaU6701PEF85/fdvDBWjs65zGvrV3TwDm1h0tYTUCrMja3yfoAkHwo3lvUvj7UMvQde037SOdjNNDAOTXnFBxiUM+0glOI7csjHjHWJTgdQrEmfJvRF+N1EOp23gSrVJcU5FX7AE1Fsn5eEYEJf3cX8cd7B4yWpvPym7Wzyts/arWqnQKstoqiNCa7rWFGIc78ItPMZS3GmP1voXJKRqrWkVctA4UoSnX3sij/avgJpPPuW5zqu5EX3PTEaaxh9r/Z2f1P1o6uG9aJvQ92gpSd8zL5Dcxw7J0DwGI3MNybGZwUzlzVhUNkZwBjm8yEMjgBWPDI4qwG+NIl0MFmjWiX7e/9hGikSfGcmbQFPTa5CJsvBbRA7CJpXQpIW1NC2qyXedovSsrzGmIrXORXDyCUO/6UAst9pLRKuEGGMz4KAmqOAadgjUiX6z8HYiSmYBH12OQSfL4U4M+b9mgu3/Dm5bcw8+g6LyRWHr/mVtsXIvPdznvrjEw1qCc8ZrgXb9fsLJQwOqyaS4DN7FlRRoHxrskuoCgRxfFiNwg65LDpjbmt84ohSE94ycjEdEz/9s8TY8yrYCSkIGVEiHp8cgEheXO40r3An4u+IAWOrKoqmDVYQ/wGzCXMYBlYxTV5DtEmgsaRmmV9blV8Do5+AYKZVXgjPOyl/O5B7YQUPKIen5xBkTwlry3T1pqDP/e9mtGyAcO9vArgMTfkrg4Po7GlzDBGpDjMTEDbqgRvRArAvfvw+hgAjmGVlFqBrCckpyiSp+y8T8usacRIpQeNTQB9SwQJyKwSIwz3az/lkDq8EXV5Trye14wRTqFA1mOTy5ymhBaIL48xbWa4V/y+Q7jbnCFOaNRIkDqd8GQbiGbtQd0ASa8pRZn8g1zEuvaDxnBM7ihgthnyxWm4BCcaoXBLvVXB9TnoUegJyeWLS8o+3n+8iEfq1kPO/OJLZPKKjKLIc5jwMoM6r7ARz3APipLXy/oNUOjxyRUvmfDpOHr7LVSDbCOmtszROztVtRdcApA+SAFMoE1WXrGQ4R7fNubwbLwiHF7XsCoZkVuajvwp2irvnkCDi0KPT86gSN4U0uak88ackeDPKU5EcEqEOQXpYCJT/K6JkVyCAVnZFtj1a0Ey4iZtQXXigkU+i4h6bHL2KAJ5JeRLwej8Fr3J334OTG6YVqM5SiuY8Hs/0eFXgcmuj9ERl1IsbktGTPdHXN1ovGLBXzZC1GOTS/D5mvHgfvd407/73fVe+++/apsB)\n",
        "\n",
        "2. `Despues de esto seguia un \"Como\" y despues el tipo de dato que queremos que tenga nuestra variable :`\n",
        "\n",
        "![image.png](data:image/png;base64,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)\n",
        "\n",
        "En el caso de python el primer paso (1) no es necesario, es decir, en este caso no hace falta escribir \"Definir\" antes del nombre de nuestra variable, en el contexto de python simplemente se debe poner el nombre de la variable e igualar esta variable a un valor, el tipo de dato de nuestra variable tampoco importa ya que esta se adaptara segun el dato que le igualemos.\n",
        "\n",
        "\n",
        "\n"
      ],
      "metadata": {
        "id": "jntlAbnmFrUa"
      }
    },
    {
      "cell_type": "markdown",
      "source": [
        "# Diferencias entre definiciones de variables (python y pseint).\n"
      ],
      "metadata": {
        "id": "yvUQgLK_ht1L"
      }
    },
    {
      "cell_type": "code",
      "execution_count": null,
      "metadata": {
        "id": "ugDxVsTkEWzq",
        "colab": {
          "base_uri": "https://localhost:8080/",
          "height": 143
        },
        "outputId": "b3a5d2f7-d8dd-48c9-d99f-3fdf228ea07d"
      },
      "outputs": [
        {
          "output_type": "execute_result",
          "data": {
            "text/plain": [
              "                 Aspecto                                             Pseint  \\\n",
              "1-  Tipo de declaracion.                    Es Necesario utilizar (Definir)   \n",
              "2-         Tipo de datos  Se debe especificar el tipo de dato que quiere...   \n",
              "3-    Tipo de estructura  En pseint la estructura es mas compleja y meno...   \n",
              "\n",
              "                                               Python  \n",
              "1-  Con simplemente poner el nombre de la variable...  \n",
              "2-  El tipo de dato se adapta automaticamente depe...  \n",
              "3-  En python la estructura es mas flexible y adap...  "
            ],
            "text/html": [
              "\n",
              "  <div id=\"df-6bd9a351-311c-4751-abc4-220cd5c93c46\" class=\"colab-df-container\">\n",
              "    <div>\n",
              "<style scoped>\n",
              "    .dataframe tbody tr th:only-of-type {\n",
              "        vertical-align: middle;\n",
              "    }\n",
              "\n",
              "    .dataframe tbody tr th {\n",
              "        vertical-align: top;\n",
              "    }\n",
              "\n",
              "    .dataframe thead th {\n",
              "        text-align: right;\n",
              "    }\n",
              "</style>\n",
              "<table border=\"1\" class=\"dataframe\">\n",
              "  <thead>\n",
              "    <tr style=\"text-align: right;\">\n",
              "      <th></th>\n",
              "      <th>Aspecto</th>\n",
              "      <th>Pseint</th>\n",
              "      <th>Python</th>\n",
              "    </tr>\n",
              "  </thead>\n",
              "  <tbody>\n",
              "    <tr>\n",
              "      <th>1-</th>\n",
              "      <td>Tipo de declaracion.</td>\n",
              "      <td>Es Necesario utilizar (Definir)</td>\n",
              "      <td>Con simplemente poner el nombre de la variable...</td>\n",
              "    </tr>\n",
              "    <tr>\n",
              "      <th>2-</th>\n",
              "      <td>Tipo de datos</td>\n",
              "      <td>Se debe especificar el tipo de dato que quiere...</td>\n",
              "      <td>El tipo de dato se adapta automaticamente depe...</td>\n",
              "    </tr>\n",
              "    <tr>\n",
              "      <th>3-</th>\n",
              "      <td>Tipo de estructura</td>\n",
              "      <td>En pseint la estructura es mas compleja y meno...</td>\n",
              "      <td>En python la estructura es mas flexible y adap...</td>\n",
              "    </tr>\n",
              "  </tbody>\n",
              "</table>\n",
              "</div>\n",
              "    <div class=\"colab-df-buttons\">\n",
              "\n",
              "  <div class=\"colab-df-container\">\n",
              "    <button class=\"colab-df-convert\" onclick=\"convertToInteractive('df-6bd9a351-311c-4751-abc4-220cd5c93c46')\"\n",
              "            title=\"Convert this dataframe to an interactive table.\"\n",
              "            style=\"display:none;\">\n",
              "\n",
              "  <svg xmlns=\"http://www.w3.org/2000/svg\" height=\"24px\" viewBox=\"0 -960 960 960\">\n",
              "    <path d=\"M120-120v-720h720v720H120Zm60-500h600v-160H180v160Zm220 220h160v-160H400v160Zm0 220h160v-160H400v160ZM180-400h160v-160H180v160Zm440 0h160v-160H620v160ZM180-180h160v-160H180v160Zm440 0h160v-160H620v160Z\"/>\n",
              "  </svg>\n",
              "    </button>\n",
              "\n",
              "  <style>\n",
              "    .colab-df-container {\n",
              "      display:flex;\n",
              "      gap: 12px;\n",
              "    }\n",
              "\n",
              "    .colab-df-convert {\n",
              "      background-color: #E8F0FE;\n",
              "      border: none;\n",
              "      border-radius: 50%;\n",
              "      cursor: pointer;\n",
              "      display: none;\n",
              "      fill: #1967D2;\n",
              "      height: 32px;\n",
              "      padding: 0 0 0 0;\n",
              "      width: 32px;\n",
              "    }\n",
              "\n",
              "    .colab-df-convert:hover {\n",
              "      background-color: #E2EBFA;\n",
              "      box-shadow: 0px 1px 2px rgba(60, 64, 67, 0.3), 0px 1px 3px 1px rgba(60, 64, 67, 0.15);\n",
              "      fill: #174EA6;\n",
              "    }\n",
              "\n",
              "    .colab-df-buttons div {\n",
              "      margin-bottom: 4px;\n",
              "    }\n",
              "\n",
              "    [theme=dark] .colab-df-convert {\n",
              "      background-color: #3B4455;\n",
              "      fill: #D2E3FC;\n",
              "    }\n",
              "\n",
              "    [theme=dark] .colab-df-convert:hover {\n",
              "      background-color: #434B5C;\n",
              "      box-shadow: 0px 1px 3px 1px rgba(0, 0, 0, 0.15);\n",
              "      filter: drop-shadow(0px 1px 2px rgba(0, 0, 0, 0.3));\n",
              "      fill: #FFFFFF;\n",
              "    }\n",
              "  </style>\n",
              "\n",
              "    <script>\n",
              "      const buttonEl =\n",
              "        document.querySelector('#df-6bd9a351-311c-4751-abc4-220cd5c93c46 button.colab-df-convert');\n",
              "      buttonEl.style.display =\n",
              "        google.colab.kernel.accessAllowed ? 'block' : 'none';\n",
              "\n",
              "      async function convertToInteractive(key) {\n",
              "        const element = document.querySelector('#df-6bd9a351-311c-4751-abc4-220cd5c93c46');\n",
              "        const dataTable =\n",
              "          await google.colab.kernel.invokeFunction('convertToInteractive',\n",
              "                                                    [key], {});\n",
              "        if (!dataTable) return;\n",
              "\n",
              "        const docLinkHtml = 'Like what you see? Visit the ' +\n",
              "          '<a target=\"_blank\" href=https://colab.research.google.com/notebooks/data_table.ipynb>data table notebook</a>'\n",
              "          + ' to learn more about interactive tables.';\n",
              "        element.innerHTML = '';\n",
              "        dataTable['output_type'] = 'display_data';\n",
              "        await google.colab.output.renderOutput(dataTable, element);\n",
              "        const docLink = document.createElement('div');\n",
              "        docLink.innerHTML = docLinkHtml;\n",
              "        element.appendChild(docLink);\n",
              "      }\n",
              "    </script>\n",
              "  </div>\n",
              "\n",
              "\n",
              "<div id=\"df-967aabc3-8911-4e25-bd5e-6c54aa2f4434\">\n",
              "  <button class=\"colab-df-quickchart\" onclick=\"quickchart('df-967aabc3-8911-4e25-bd5e-6c54aa2f4434')\"\n",
              "            title=\"Suggest charts\"\n",
              "            style=\"display:none;\">\n",
              "\n",
              "<svg xmlns=\"http://www.w3.org/2000/svg\" height=\"24px\"viewBox=\"0 0 24 24\"\n",
              "     width=\"24px\">\n",
              "    <g>\n",
              "        <path d=\"M19 3H5c-1.1 0-2 .9-2 2v14c0 1.1.9 2 2 2h14c1.1 0 2-.9 2-2V5c0-1.1-.9-2-2-2zM9 17H7v-7h2v7zm4 0h-2V7h2v10zm4 0h-2v-4h2v4z\"/>\n",
              "    </g>\n",
              "</svg>\n",
              "  </button>\n",
              "\n",
              "<style>\n",
              "  .colab-df-quickchart {\n",
              "      --bg-color: #E8F0FE;\n",
              "      --fill-color: #1967D2;\n",
              "      --hover-bg-color: #E2EBFA;\n",
              "      --hover-fill-color: #174EA6;\n",
              "      --disabled-fill-color: #AAA;\n",
              "      --disabled-bg-color: #DDD;\n",
              "  }\n",
              "\n",
              "  [theme=dark] .colab-df-quickchart {\n",
              "      --bg-color: #3B4455;\n",
              "      --fill-color: #D2E3FC;\n",
              "      --hover-bg-color: #434B5C;\n",
              "      --hover-fill-color: #FFFFFF;\n",
              "      --disabled-bg-color: #3B4455;\n",
              "      --disabled-fill-color: #666;\n",
              "  }\n",
              "\n",
              "  .colab-df-quickchart {\n",
              "    background-color: var(--bg-color);\n",
              "    border: none;\n",
              "    border-radius: 50%;\n",
              "    cursor: pointer;\n",
              "    display: none;\n",
              "    fill: var(--fill-color);\n",
              "    height: 32px;\n",
              "    padding: 0;\n",
              "    width: 32px;\n",
              "  }\n",
              "\n",
              "  .colab-df-quickchart:hover {\n",
              "    background-color: var(--hover-bg-color);\n",
              "    box-shadow: 0 1px 2px rgba(60, 64, 67, 0.3), 0 1px 3px 1px rgba(60, 64, 67, 0.15);\n",
              "    fill: var(--button-hover-fill-color);\n",
              "  }\n",
              "\n",
              "  .colab-df-quickchart-complete:disabled,\n",
              "  .colab-df-quickchart-complete:disabled:hover {\n",
              "    background-color: var(--disabled-bg-color);\n",
              "    fill: var(--disabled-fill-color);\n",
              "    box-shadow: none;\n",
              "  }\n",
              "\n",
              "  .colab-df-spinner {\n",
              "    border: 2px solid var(--fill-color);\n",
              "    border-color: transparent;\n",
              "    border-bottom-color: var(--fill-color);\n",
              "    animation:\n",
              "      spin 1s steps(1) infinite;\n",
              "  }\n",
              "\n",
              "  @keyframes spin {\n",
              "    0% {\n",
              "      border-color: transparent;\n",
              "      border-bottom-color: var(--fill-color);\n",
              "      border-left-color: var(--fill-color);\n",
              "    }\n",
              "    20% {\n",
              "      border-color: transparent;\n",
              "      border-left-color: var(--fill-color);\n",
              "      border-top-color: var(--fill-color);\n",
              "    }\n",
              "    30% {\n",
              "      border-color: transparent;\n",
              "      border-left-color: var(--fill-color);\n",
              "      border-top-color: var(--fill-color);\n",
              "      border-right-color: var(--fill-color);\n",
              "    }\n",
              "    40% {\n",
              "      border-color: transparent;\n",
              "      border-right-color: var(--fill-color);\n",
              "      border-top-color: var(--fill-color);\n",
              "    }\n",
              "    60% {\n",
              "      border-color: transparent;\n",
              "      border-right-color: var(--fill-color);\n",
              "    }\n",
              "    80% {\n",
              "      border-color: transparent;\n",
              "      border-right-color: var(--fill-color);\n",
              "      border-bottom-color: var(--fill-color);\n",
              "    }\n",
              "    90% {\n",
              "      border-color: transparent;\n",
              "      border-bottom-color: var(--fill-color);\n",
              "    }\n",
              "  }\n",
              "</style>\n",
              "\n",
              "  <script>\n",
              "    async function quickchart(key) {\n",
              "      const quickchartButtonEl =\n",
              "        document.querySelector('#' + key + ' button');\n",
              "      quickchartButtonEl.disabled = true;  // To prevent multiple clicks.\n",
              "      quickchartButtonEl.classList.add('colab-df-spinner');\n",
              "      try {\n",
              "        const charts = await google.colab.kernel.invokeFunction(\n",
              "            'suggestCharts', [key], {});\n",
              "      } catch (error) {\n",
              "        console.error('Error during call to suggestCharts:', error);\n",
              "      }\n",
              "      quickchartButtonEl.classList.remove('colab-df-spinner');\n",
              "      quickchartButtonEl.classList.add('colab-df-quickchart-complete');\n",
              "    }\n",
              "    (() => {\n",
              "      let quickchartButtonEl =\n",
              "        document.querySelector('#df-967aabc3-8911-4e25-bd5e-6c54aa2f4434 button');\n",
              "      quickchartButtonEl.style.display =\n",
              "        google.colab.kernel.accessAllowed ? 'block' : 'none';\n",
              "    })();\n",
              "  </script>\n",
              "</div>\n",
              "\n",
              "  <div id=\"id_116bec3c-5c7c-47bd-ae31-6651787a83d0\">\n",
              "    <style>\n",
              "      .colab-df-generate {\n",
              "        background-color: #E8F0FE;\n",
              "        border: none;\n",
              "        border-radius: 50%;\n",
              "        cursor: pointer;\n",
              "        display: none;\n",
              "        fill: #1967D2;\n",
              "        height: 32px;\n",
              "        padding: 0 0 0 0;\n",
              "        width: 32px;\n",
              "      }\n",
              "\n",
              "      .colab-df-generate:hover {\n",
              "        background-color: #E2EBFA;\n",
              "        box-shadow: 0px 1px 2px rgba(60, 64, 67, 0.3), 0px 1px 3px 1px rgba(60, 64, 67, 0.15);\n",
              "        fill: #174EA6;\n",
              "      }\n",
              "\n",
              "      [theme=dark] .colab-df-generate {\n",
              "        background-color: #3B4455;\n",
              "        fill: #D2E3FC;\n",
              "      }\n",
              "\n",
              "      [theme=dark] .colab-df-generate:hover {\n",
              "        background-color: #434B5C;\n",
              "        box-shadow: 0px 1px 3px 1px rgba(0, 0, 0, 0.15);\n",
              "        filter: drop-shadow(0px 1px 2px rgba(0, 0, 0, 0.3));\n",
              "        fill: #FFFFFF;\n",
              "      }\n",
              "    </style>\n",
              "    <button class=\"colab-df-generate\" onclick=\"generateWithVariable('DataFrame')\"\n",
              "            title=\"Generate code using this dataframe.\"\n",
              "            style=\"display:none;\">\n",
              "\n",
              "  <svg xmlns=\"http://www.w3.org/2000/svg\" height=\"24px\"viewBox=\"0 0 24 24\"\n",
              "       width=\"24px\">\n",
              "    <path d=\"M7,19H8.4L18.45,9,17,7.55,7,17.6ZM5,21V16.75L18.45,3.32a2,2,0,0,1,2.83,0l1.4,1.43a1.91,1.91,0,0,1,.58,1.4,1.91,1.91,0,0,1-.58,1.4L9.25,21ZM18.45,9,17,7.55Zm-12,3A5.31,5.31,0,0,0,4.9,8.1,5.31,5.31,0,0,0,1,6.5,5.31,5.31,0,0,0,4.9,4.9,5.31,5.31,0,0,0,6.5,1,5.31,5.31,0,0,0,8.1,4.9,5.31,5.31,0,0,0,12,6.5,5.46,5.46,0,0,0,6.5,12Z\"/>\n",
              "  </svg>\n",
              "    </button>\n",
              "    <script>\n",
              "      (() => {\n",
              "      const buttonEl =\n",
              "        document.querySelector('#id_116bec3c-5c7c-47bd-ae31-6651787a83d0 button.colab-df-generate');\n",
              "      buttonEl.style.display =\n",
              "        google.colab.kernel.accessAllowed ? 'block' : 'none';\n",
              "\n",
              "      buttonEl.onclick = () => {\n",
              "        google.colab.notebook.generateWithVariable('DataFrame');\n",
              "      }\n",
              "      })();\n",
              "    </script>\n",
              "  </div>\n",
              "\n",
              "    </div>\n",
              "  </div>\n"
            ],
            "application/vnd.google.colaboratory.intrinsic+json": {
              "type": "dataframe",
              "variable_name": "DataFrame",
              "summary": "{\n  \"name\": \"DataFrame\",\n  \"rows\": 3,\n  \"fields\": [\n    {\n      \"column\": \"Aspecto\",\n      \"properties\": {\n        \"dtype\": \"string\",\n        \"num_unique_values\": 3,\n        \"samples\": [\n          \"Tipo de declaracion.\",\n          \"Tipo de datos\",\n          \"Tipo de estructura\"\n        ],\n        \"semantic_type\": \"\",\n        \"description\": \"\"\n      }\n    },\n    {\n      \"column\": \"Pseint\",\n      \"properties\": {\n        \"dtype\": \"string\",\n        \"num_unique_values\": 3,\n        \"samples\": [\n          \"Es Necesario utilizar (Definir)\",\n          \"Se debe especificar el tipo de dato que quieres que sea la variable mediante un (Como) + el tipo de dato.\",\n          \"En pseint la estructura es mas compleja y menos flexible.\"\n        ],\n        \"semantic_type\": \"\",\n        \"description\": \"\"\n      }\n    },\n    {\n      \"column\": \"Python\",\n      \"properties\": {\n        \"dtype\": \"string\",\n        \"num_unique_values\": 3,\n        \"samples\": [\n          \"Con simplemente poner el nombre de la variable es suficiente\",\n          \"El tipo de dato se adapta automaticamente dependiendo del valor que le iguales\",\n          \"En python la estructura es mas flexible y adaptable.\"\n        ],\n        \"semantic_type\": \"\",\n        \"description\": \"\"\n      }\n    }\n  ]\n}"
            }
          },
          "metadata": {},
          "execution_count": 36
        }
      ],
      "source": [
        "import pandas as pd\n",
        "\n",
        "TablaDeEjemplos = {\"Aspecto\" : [\"Tipo de declaracion.\",\"Tipo de datos\",\"Tipo de estructura\"],\n",
        "                   \"Pseint\" : [\"Es Necesario utilizar (Definir)\",\"Se debe especificar el tipo de dato que quieres que sea la variable mediante un (Como) + el tipo de dato.\",\"En pseint la estructura es mas compleja y menos flexible.\"],\n",
        "                   \"Python\" : [\"Con simplemente poner el nombre de la variable es suficiente\",\"El tipo de dato se adapta automaticamente dependiendo del valor que le iguales\",\"En python la estructura es mas flexible y adaptable.\"]}\n",
        "\n",
        "DataFrame = pd.DataFrame(TablaDeEjemplos,index=[\"1-\",\"2-\",\"3-\"])\n",
        "\n",
        "DataFrame"
      ]
    },
    {
      "cell_type": "markdown",
      "source": [
        "# Ejemplos de definicion y asignacion (python)\n",
        "\n",
        "Primero Ingresamos el nombre de nuestra variable ` -Nombre de variable-` Despues igualamos el nombre de nuestra variable mediante un `=` y despues ingresamos algun valor ya sea   `Enteros Reales Textos Logicos`."
      ],
      "metadata": {
        "id": "6BDktBRyiOvE"
      }
    },
    {
      "cell_type": "code",
      "source": [
        "\n",
        "#Tipo de dato entero, denotado como {int} :\n",
        "Nombre_de_variable = 10\n",
        "\n",
        "print(type(Nombre_de_variable))\n",
        "\n",
        "#Nuestra variable adaptara el tipo variable entero cuando se le iguale cualquier numero entero {-1,-2,-3, 1, 2, 3}."
      ],
      "metadata": {
        "id": "VyvoHHrL7P-a",
        "colab": {
          "base_uri": "https://localhost:8080/"
        },
        "outputId": "62ed0388-205f-440e-f297-c45297d9d486",
        "collapsed": true
      },
      "execution_count": null,
      "outputs": [
        {
          "output_type": "stream",
          "name": "stdout",
          "text": [
            "<class 'float'>\n"
          ]
        }
      ]
    },
    {
      "cell_type": "code",
      "source": [
        "#Tipo de dato reales, denotado como {float} :\n",
        "\n",
        "Nombre_de_variable = 2.2\n",
        "\n",
        "print(type(Nombre_de_variable))\n",
        "\n",
        "#Nuestra variable adaptara el tipo variable real cuando se le iguale cualquier numero con decimales {1.5, 2.2 , 3.3, 2.5, 10.0, 0.02}."
      ],
      "metadata": {
        "colab": {
          "base_uri": "https://localhost:8080/"
        },
        "id": "PLuZg8Dnkdnu",
        "outputId": "2646bc69-62f6-4a0d-ffba-541901c98089"
      },
      "execution_count": null,
      "outputs": [
        {
          "output_type": "stream",
          "name": "stdout",
          "text": [
            "<class 'float'>\n"
          ]
        }
      ]
    },
    {
      "cell_type": "code",
      "source": [
        "#Tipo de dato texto, denotado como {str} :\n",
        "\n",
        "Nombre_de_variable = \"Texto\"\n",
        "\n",
        "print(type(Nombre_de_variable))\n",
        "\n",
        "#Nuestra variable adaptara el tipo variable de texto cuando se le iguale cualquier cosa que este dentro de comillas doble ( \" \" ) - {\"Texto\" , \"1\" , \"Hola\"}."
      ],
      "metadata": {
        "colab": {
          "base_uri": "https://localhost:8080/"
        },
        "id": "v6lN3DeJlvgo",
        "outputId": "d300a406-9ec9-41b2-cb01-c0336a33b6d4"
      },
      "execution_count": null,
      "outputs": [
        {
          "output_type": "stream",
          "name": "stdout",
          "text": [
            "<class 'str'>\n"
          ]
        }
      ]
    },
    {
      "cell_type": "code",
      "source": [
        "#Tipo de dato logico, denotado como {bool} :\n",
        "\n",
        "Nombre_de_variable = True\n",
        "\n",
        "print(type(Nombre_de_variable))\n",
        "\n",
        "#Nuestra variable adaptara el tipo variable logico cuando se le iguale a un valor True o False."
      ],
      "metadata": {
        "colab": {
          "base_uri": "https://localhost:8080/"
        },
        "id": "90CRO2YUmc6Y",
        "outputId": "5e04e666-f961-4e49-c41e-0c72e112d78e"
      },
      "execution_count": null,
      "outputs": [
        {
          "output_type": "stream",
          "name": "stdout",
          "text": [
            "<class 'bool'>\n"
          ]
        }
      ]
    },
    {
      "cell_type": "markdown",
      "source": [
        "# Esto seria una mezcla entre el \"Definir\" de pseint y el \"Asignar\" de pseint.\n",
        "\n",
        "![image.png](data:image/png;base64,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)\n",
        "\n",
        "# Ya que primero debemos establecer el nombre de nuestra variable, y en este caso el simbolo de la asignacion ⬅ seria nuestro `( = )` para otorgarle un valor a nuestra variable.\n",
        "\n",
        "\n",
        "En pseint :\n",
        "```\n",
        "--- NombreDeLaVariable <- ValorDeLaVariable\n",
        "```\n",
        "En python :\n",
        "\n",
        "\n",
        "```\n",
        "--- NombreDeLaVariable = ValorDeLaVariable\n",
        "```\n",
        "\n",
        "Si vemos, la estructura es la misma, solamente cambia el simbolo de asignacion ( ⬅ ) a ( = )\n",
        "\n"
      ],
      "metadata": {
        "id": "wV12a5NMmig1"
      }
    },
    {
      "cell_type": "markdown",
      "source": [
        "# **Diferencias y manera de definir los diversos tipos de dato**.\n"
      ],
      "metadata": {
        "id": "AecGKanUnCa0"
      }
    },
    {
      "cell_type": "code",
      "source": [
        "import pandas as pd\n",
        "\n",
        "\n",
        "TablaDeEjemplos = {\n",
        "    \"Variable entera (int)\": [10, 20,\"Los tipo de dato {int} solo pueden ser numeros enteros\"],\n",
        "    \"Variable real (float)\": [1.5, 2.5,\"Los tipo de dato {float} solo pueden ser numeros con decimales\"],\n",
        "    \"Variable de texto (str)\": [\"˝Texto1˝ \", \"˝Texto2˝ \",\"Los tipo de dato {str} pueden ser cualquier cosa siempre y cuando esten entre comillas.\"],\n",
        "    \"Variable logica (bool)\":[True,False,\"Los tipo de dato {bool} solo pueden ser True o False\"]\n",
        "}\n",
        "\n",
        "\n",
        "DataFrame = pd.DataFrame(TablaDeEjemplos, index=[\"Ejemplo 1\", \"Ejemplo 2\", \"Caracteristicas\"])\n",
        "\n",
        "\n",
        "DataFrame\n"
      ],
      "metadata": {
        "id": "l4THtvyooOBV",
        "colab": {
          "base_uri": "https://localhost:8080/",
          "height": 217
        },
        "outputId": "8f15203a-e293-424e-b061-6f42614ba0dc"
      },
      "execution_count": null,
      "outputs": [
        {
          "output_type": "execute_result",
          "data": {
            "text/plain": [
              "                                             Variable entera (int)  \\\n",
              "Ejemplo 1                                                       10   \n",
              "Ejemplo 2                                                       20   \n",
              "Caracteristicas  Los tipo de dato {int} solo pueden ser numeros...   \n",
              "\n",
              "                                             Variable real (float)  \\\n",
              "Ejemplo 1                                                      1.5   \n",
              "Ejemplo 2                                                      2.5   \n",
              "Caracteristicas  Los tipo de dato {float} solo pueden ser numer...   \n",
              "\n",
              "                                           Variable de texto (str)  \\\n",
              "Ejemplo 1                                                ˝Texto1˝    \n",
              "Ejemplo 2                                                ˝Texto2˝    \n",
              "Caracteristicas  Los tipo de dato {str} pueden ser cualquier co...   \n",
              "\n",
              "                                            Variable logica (bool)  \n",
              "Ejemplo 1                                                     True  \n",
              "Ejemplo 2                                                    False  \n",
              "Caracteristicas  Los tipo de dato {bool} solo pueden ser True o...  "
            ],
            "text/html": [
              "\n",
              "  <div id=\"df-02ebc35b-bcbe-4a4c-84dc-0f0b0db57fbf\" class=\"colab-df-container\">\n",
              "    <div>\n",
              "<style scoped>\n",
              "    .dataframe tbody tr th:only-of-type {\n",
              "        vertical-align: middle;\n",
              "    }\n",
              "\n",
              "    .dataframe tbody tr th {\n",
              "        vertical-align: top;\n",
              "    }\n",
              "\n",
              "    .dataframe thead th {\n",
              "        text-align: right;\n",
              "    }\n",
              "</style>\n",
              "<table border=\"1\" class=\"dataframe\">\n",
              "  <thead>\n",
              "    <tr style=\"text-align: right;\">\n",
              "      <th></th>\n",
              "      <th>Variable entera (int)</th>\n",
              "      <th>Variable real (float)</th>\n",
              "      <th>Variable de texto (str)</th>\n",
              "      <th>Variable logica (bool)</th>\n",
              "    </tr>\n",
              "  </thead>\n",
              "  <tbody>\n",
              "    <tr>\n",
              "      <th>Ejemplo 1</th>\n",
              "      <td>10</td>\n",
              "      <td>1.5</td>\n",
              "      <td>˝Texto1˝</td>\n",
              "      <td>True</td>\n",
              "    </tr>\n",
              "    <tr>\n",
              "      <th>Ejemplo 2</th>\n",
              "      <td>20</td>\n",
              "      <td>2.5</td>\n",
              "      <td>˝Texto2˝</td>\n",
              "      <td>False</td>\n",
              "    </tr>\n",
              "    <tr>\n",
              "      <th>Caracteristicas</th>\n",
              "      <td>Los tipo de dato {int} solo pueden ser numeros...</td>\n",
              "      <td>Los tipo de dato {float} solo pueden ser numer...</td>\n",
              "      <td>Los tipo de dato {str} pueden ser cualquier co...</td>\n",
              "      <td>Los tipo de dato {bool} solo pueden ser True o...</td>\n",
              "    </tr>\n",
              "  </tbody>\n",
              "</table>\n",
              "</div>\n",
              "    <div class=\"colab-df-buttons\">\n",
              "\n",
              "  <div class=\"colab-df-container\">\n",
              "    <button class=\"colab-df-convert\" onclick=\"convertToInteractive('df-02ebc35b-bcbe-4a4c-84dc-0f0b0db57fbf')\"\n",
              "            title=\"Convert this dataframe to an interactive table.\"\n",
              "            style=\"display:none;\">\n",
              "\n",
              "  <svg xmlns=\"http://www.w3.org/2000/svg\" height=\"24px\" viewBox=\"0 -960 960 960\">\n",
              "    <path d=\"M120-120v-720h720v720H120Zm60-500h600v-160H180v160Zm220 220h160v-160H400v160Zm0 220h160v-160H400v160ZM180-400h160v-160H180v160Zm440 0h160v-160H620v160ZM180-180h160v-160H180v160Zm440 0h160v-160H620v160Z\"/>\n",
              "  </svg>\n",
              "    </button>\n",
              "\n",
              "  <style>\n",
              "    .colab-df-container {\n",
              "      display:flex;\n",
              "      gap: 12px;\n",
              "    }\n",
              "\n",
              "    .colab-df-convert {\n",
              "      background-color: #E8F0FE;\n",
              "      border: none;\n",
              "      border-radius: 50%;\n",
              "      cursor: pointer;\n",
              "      display: none;\n",
              "      fill: #1967D2;\n",
              "      height: 32px;\n",
              "      padding: 0 0 0 0;\n",
              "      width: 32px;\n",
              "    }\n",
              "\n",
              "    .colab-df-convert:hover {\n",
              "      background-color: #E2EBFA;\n",
              "      box-shadow: 0px 1px 2px rgba(60, 64, 67, 0.3), 0px 1px 3px 1px rgba(60, 64, 67, 0.15);\n",
              "      fill: #174EA6;\n",
              "    }\n",
              "\n",
              "    .colab-df-buttons div {\n",
              "      margin-bottom: 4px;\n",
              "    }\n",
              "\n",
              "    [theme=dark] .colab-df-convert {\n",
              "      background-color: #3B4455;\n",
              "      fill: #D2E3FC;\n",
              "    }\n",
              "\n",
              "    [theme=dark] .colab-df-convert:hover {\n",
              "      background-color: #434B5C;\n",
              "      box-shadow: 0px 1px 3px 1px rgba(0, 0, 0, 0.15);\n",
              "      filter: drop-shadow(0px 1px 2px rgba(0, 0, 0, 0.3));\n",
              "      fill: #FFFFFF;\n",
              "    }\n",
              "  </style>\n",
              "\n",
              "    <script>\n",
              "      const buttonEl =\n",
              "        document.querySelector('#df-02ebc35b-bcbe-4a4c-84dc-0f0b0db57fbf button.colab-df-convert');\n",
              "      buttonEl.style.display =\n",
              "        google.colab.kernel.accessAllowed ? 'block' : 'none';\n",
              "\n",
              "      async function convertToInteractive(key) {\n",
              "        const element = document.querySelector('#df-02ebc35b-bcbe-4a4c-84dc-0f0b0db57fbf');\n",
              "        const dataTable =\n",
              "          await google.colab.kernel.invokeFunction('convertToInteractive',\n",
              "                                                    [key], {});\n",
              "        if (!dataTable) return;\n",
              "\n",
              "        const docLinkHtml = 'Like what you see? Visit the ' +\n",
              "          '<a target=\"_blank\" href=https://colab.research.google.com/notebooks/data_table.ipynb>data table notebook</a>'\n",
              "          + ' to learn more about interactive tables.';\n",
              "        element.innerHTML = '';\n",
              "        dataTable['output_type'] = 'display_data';\n",
              "        await google.colab.output.renderOutput(dataTable, element);\n",
              "        const docLink = document.createElement('div');\n",
              "        docLink.innerHTML = docLinkHtml;\n",
              "        element.appendChild(docLink);\n",
              "      }\n",
              "    </script>\n",
              "  </div>\n",
              "\n",
              "\n",
              "<div id=\"df-711e9b96-d73c-4dab-9aa8-f9e18d9a3c08\">\n",
              "  <button class=\"colab-df-quickchart\" onclick=\"quickchart('df-711e9b96-d73c-4dab-9aa8-f9e18d9a3c08')\"\n",
              "            title=\"Suggest charts\"\n",
              "            style=\"display:none;\">\n",
              "\n",
              "<svg xmlns=\"http://www.w3.org/2000/svg\" height=\"24px\"viewBox=\"0 0 24 24\"\n",
              "     width=\"24px\">\n",
              "    <g>\n",
              "        <path d=\"M19 3H5c-1.1 0-2 .9-2 2v14c0 1.1.9 2 2 2h14c1.1 0 2-.9 2-2V5c0-1.1-.9-2-2-2zM9 17H7v-7h2v7zm4 0h-2V7h2v10zm4 0h-2v-4h2v4z\"/>\n",
              "    </g>\n",
              "</svg>\n",
              "  </button>\n",
              "\n",
              "<style>\n",
              "  .colab-df-quickchart {\n",
              "      --bg-color: #E8F0FE;\n",
              "      --fill-color: #1967D2;\n",
              "      --hover-bg-color: #E2EBFA;\n",
              "      --hover-fill-color: #174EA6;\n",
              "      --disabled-fill-color: #AAA;\n",
              "      --disabled-bg-color: #DDD;\n",
              "  }\n",
              "\n",
              "  [theme=dark] .colab-df-quickchart {\n",
              "      --bg-color: #3B4455;\n",
              "      --fill-color: #D2E3FC;\n",
              "      --hover-bg-color: #434B5C;\n",
              "      --hover-fill-color: #FFFFFF;\n",
              "      --disabled-bg-color: #3B4455;\n",
              "      --disabled-fill-color: #666;\n",
              "  }\n",
              "\n",
              "  .colab-df-quickchart {\n",
              "    background-color: var(--bg-color);\n",
              "    border: none;\n",
              "    border-radius: 50%;\n",
              "    cursor: pointer;\n",
              "    display: none;\n",
              "    fill: var(--fill-color);\n",
              "    height: 32px;\n",
              "    padding: 0;\n",
              "    width: 32px;\n",
              "  }\n",
              "\n",
              "  .colab-df-quickchart:hover {\n",
              "    background-color: var(--hover-bg-color);\n",
              "    box-shadow: 0 1px 2px rgba(60, 64, 67, 0.3), 0 1px 3px 1px rgba(60, 64, 67, 0.15);\n",
              "    fill: var(--button-hover-fill-color);\n",
              "  }\n",
              "\n",
              "  .colab-df-quickchart-complete:disabled,\n",
              "  .colab-df-quickchart-complete:disabled:hover {\n",
              "    background-color: var(--disabled-bg-color);\n",
              "    fill: var(--disabled-fill-color);\n",
              "    box-shadow: none;\n",
              "  }\n",
              "\n",
              "  .colab-df-spinner {\n",
              "    border: 2px solid var(--fill-color);\n",
              "    border-color: transparent;\n",
              "    border-bottom-color: var(--fill-color);\n",
              "    animation:\n",
              "      spin 1s steps(1) infinite;\n",
              "  }\n",
              "\n",
              "  @keyframes spin {\n",
              "    0% {\n",
              "      border-color: transparent;\n",
              "      border-bottom-color: var(--fill-color);\n",
              "      border-left-color: var(--fill-color);\n",
              "    }\n",
              "    20% {\n",
              "      border-color: transparent;\n",
              "      border-left-color: var(--fill-color);\n",
              "      border-top-color: var(--fill-color);\n",
              "    }\n",
              "    30% {\n",
              "      border-color: transparent;\n",
              "      border-left-color: var(--fill-color);\n",
              "      border-top-color: var(--fill-color);\n",
              "      border-right-color: var(--fill-color);\n",
              "    }\n",
              "    40% {\n",
              "      border-color: transparent;\n",
              "      border-right-color: var(--fill-color);\n",
              "      border-top-color: var(--fill-color);\n",
              "    }\n",
              "    60% {\n",
              "      border-color: transparent;\n",
              "      border-right-color: var(--fill-color);\n",
              "    }\n",
              "    80% {\n",
              "      border-color: transparent;\n",
              "      border-right-color: var(--fill-color);\n",
              "      border-bottom-color: var(--fill-color);\n",
              "    }\n",
              "    90% {\n",
              "      border-color: transparent;\n",
              "      border-bottom-color: var(--fill-color);\n",
              "    }\n",
              "  }\n",
              "</style>\n",
              "\n",
              "  <script>\n",
              "    async function quickchart(key) {\n",
              "      const quickchartButtonEl =\n",
              "        document.querySelector('#' + key + ' button');\n",
              "      quickchartButtonEl.disabled = true;  // To prevent multiple clicks.\n",
              "      quickchartButtonEl.classList.add('colab-df-spinner');\n",
              "      try {\n",
              "        const charts = await google.colab.kernel.invokeFunction(\n",
              "            'suggestCharts', [key], {});\n",
              "      } catch (error) {\n",
              "        console.error('Error during call to suggestCharts:', error);\n",
              "      }\n",
              "      quickchartButtonEl.classList.remove('colab-df-spinner');\n",
              "      quickchartButtonEl.classList.add('colab-df-quickchart-complete');\n",
              "    }\n",
              "    (() => {\n",
              "      let quickchartButtonEl =\n",
              "        document.querySelector('#df-711e9b96-d73c-4dab-9aa8-f9e18d9a3c08 button');\n",
              "      quickchartButtonEl.style.display =\n",
              "        google.colab.kernel.accessAllowed ? 'block' : 'none';\n",
              "    })();\n",
              "  </script>\n",
              "</div>\n",
              "\n",
              "  <div id=\"id_e6398c79-5d34-4b70-93c6-f2cf8e9c00af\">\n",
              "    <style>\n",
              "      .colab-df-generate {\n",
              "        background-color: #E8F0FE;\n",
              "        border: none;\n",
              "        border-radius: 50%;\n",
              "        cursor: pointer;\n",
              "        display: none;\n",
              "        fill: #1967D2;\n",
              "        height: 32px;\n",
              "        padding: 0 0 0 0;\n",
              "        width: 32px;\n",
              "      }\n",
              "\n",
              "      .colab-df-generate:hover {\n",
              "        background-color: #E2EBFA;\n",
              "        box-shadow: 0px 1px 2px rgba(60, 64, 67, 0.3), 0px 1px 3px 1px rgba(60, 64, 67, 0.15);\n",
              "        fill: #174EA6;\n",
              "      }\n",
              "\n",
              "      [theme=dark] .colab-df-generate {\n",
              "        background-color: #3B4455;\n",
              "        fill: #D2E3FC;\n",
              "      }\n",
              "\n",
              "      [theme=dark] .colab-df-generate:hover {\n",
              "        background-color: #434B5C;\n",
              "        box-shadow: 0px 1px 3px 1px rgba(0, 0, 0, 0.15);\n",
              "        filter: drop-shadow(0px 1px 2px rgba(0, 0, 0, 0.3));\n",
              "        fill: #FFFFFF;\n",
              "      }\n",
              "    </style>\n",
              "    <button class=\"colab-df-generate\" onclick=\"generateWithVariable('DataFrame')\"\n",
              "            title=\"Generate code using this dataframe.\"\n",
              "            style=\"display:none;\">\n",
              "\n",
              "  <svg xmlns=\"http://www.w3.org/2000/svg\" height=\"24px\"viewBox=\"0 0 24 24\"\n",
              "       width=\"24px\">\n",
              "    <path d=\"M7,19H8.4L18.45,9,17,7.55,7,17.6ZM5,21V16.75L18.45,3.32a2,2,0,0,1,2.83,0l1.4,1.43a1.91,1.91,0,0,1,.58,1.4,1.91,1.91,0,0,1-.58,1.4L9.25,21ZM18.45,9,17,7.55Zm-12,3A5.31,5.31,0,0,0,4.9,8.1,5.31,5.31,0,0,0,1,6.5,5.31,5.31,0,0,0,4.9,4.9,5.31,5.31,0,0,0,6.5,1,5.31,5.31,0,0,0,8.1,4.9,5.31,5.31,0,0,0,12,6.5,5.46,5.46,0,0,0,6.5,12Z\"/>\n",
              "  </svg>\n",
              "    </button>\n",
              "    <script>\n",
              "      (() => {\n",
              "      const buttonEl =\n",
              "        document.querySelector('#id_e6398c79-5d34-4b70-93c6-f2cf8e9c00af button.colab-df-generate');\n",
              "      buttonEl.style.display =\n",
              "        google.colab.kernel.accessAllowed ? 'block' : 'none';\n",
              "\n",
              "      buttonEl.onclick = () => {\n",
              "        google.colab.notebook.generateWithVariable('DataFrame');\n",
              "      }\n",
              "      })();\n",
              "    </script>\n",
              "  </div>\n",
              "\n",
              "    </div>\n",
              "  </div>\n"
            ],
            "application/vnd.google.colaboratory.intrinsic+json": {
              "type": "dataframe",
              "variable_name": "DataFrame",
              "summary": "{\n  \"name\": \"DataFrame\",\n  \"rows\": 3,\n  \"fields\": [\n    {\n      \"column\": \"Variable entera (int)\",\n      \"properties\": {\n        \"dtype\": \"string\",\n        \"num_unique_values\": 3,\n        \"samples\": [\n          10,\n          20,\n          \"Los tipo de dato {int} solo pueden ser numeros enteros\"\n        ],\n        \"semantic_type\": \"\",\n        \"description\": \"\"\n      }\n    },\n    {\n      \"column\": \"Variable real (float)\",\n      \"properties\": {\n        \"dtype\": \"string\",\n        \"num_unique_values\": 3,\n        \"samples\": [\n          1.5,\n          2.5,\n          \"Los tipo de dato {float} solo pueden ser numeros con decimales\"\n        ],\n        \"semantic_type\": \"\",\n        \"description\": \"\"\n      }\n    },\n    {\n      \"column\": \"Variable de texto (str)\",\n      \"properties\": {\n        \"dtype\": \"string\",\n        \"num_unique_values\": 3,\n        \"samples\": [\n          \"\\u02ddTexto1\\u02dd \",\n          \"\\u02ddTexto2\\u02dd \",\n          \"Los tipo de dato {str} pueden ser cualquier cosa siempre y cuando esten entre comillas.\"\n        ],\n        \"semantic_type\": \"\",\n        \"description\": \"\"\n      }\n    },\n    {\n      \"column\": \"Variable logica (bool)\",\n      \"properties\": {\n        \"dtype\": \"string\",\n        \"num_unique_values\": 3,\n        \"samples\": [\n          true,\n          false,\n          \"Los tipo de dato {bool} solo pueden ser True o False\"\n        ],\n        \"semantic_type\": \"\",\n        \"description\": \"\"\n      }\n    }\n  ]\n}"
            }
          },
          "metadata": {},
          "execution_count": 50
        }
      ]
    },
    {
      "cell_type": "markdown",
      "source": [
        "# Preguntas de tipo de datos.\n"
      ],
      "metadata": {
        "id": "1u0bNjQRs8gB"
      }
    },
    {
      "cell_type": "markdown",
      "source": [
        "\n",
        "\n",
        "1.   `Que tipo de dato es el siguiente ejemplo?`\n",
        "\n",
        "\n",
        "\n"
      ],
      "metadata": {
        "id": "EgkuYUCktKCN"
      }
    },
    {
      "cell_type": "code",
      "source": [
        "\n",
        "Nombre_de_variable = -255\n",
        "\n",
        "print(type(Nombre_de_variable))"
      ],
      "metadata": {
        "colab": {
          "base_uri": "https://localhost:8080/"
        },
        "id": "StnA67vXtCeR",
        "outputId": "10b8f4c5-41dd-4335-9c5c-2ed75776a469"
      },
      "execution_count": null,
      "outputs": [
        {
          "output_type": "stream",
          "name": "stdout",
          "text": [
            "<class 'int'>\n"
          ]
        }
      ]
    },
    {
      "cell_type": "markdown",
      "source": [
        "2.   `Que tipo de dato es el siguiente ejemplo?`\n",
        "\n"
      ],
      "metadata": {
        "id": "zAnTaabbtblt"
      }
    },
    {
      "cell_type": "code",
      "source": [
        "Nombre_de_variable = \"Hola\"\n",
        "\n",
        "print(type(Nombre_de_variable))"
      ],
      "metadata": {
        "id": "DKmDP9fTuWp6"
      },
      "execution_count": null,
      "outputs": []
    },
    {
      "cell_type": "markdown",
      "source": [
        "3. `Que tipo de dato es el siguiente ejemplo?`"
      ],
      "metadata": {
        "id": "UyujPDoEubOa"
      }
    },
    {
      "cell_type": "code",
      "source": [
        "Nombre_de_variable = -14.5\n",
        "\n",
        "print(type(Nombre_de_variable))"
      ],
      "metadata": {
        "colab": {
          "base_uri": "https://localhost:8080/"
        },
        "id": "SAWjv5t-uag1",
        "outputId": "2181142e-0403-48fa-8417-852ec72dd3a9"
      },
      "execution_count": null,
      "outputs": [
        {
          "output_type": "stream",
          "name": "stdout",
          "text": [
            "<class 'float'>\n"
          ]
        }
      ]
    },
    {
      "cell_type": "markdown",
      "source": [
        "4. `Que tipo de dato es el siguiente ejemplo?`"
      ],
      "metadata": {
        "id": "jIZfCpcdtlpa"
      }
    },
    {
      "cell_type": "code",
      "source": [
        "Nombre_de_variable = False\n",
        "\n",
        "print(type(Nombre_de_variable))"
      ],
      "metadata": {
        "id": "MIzogb4YutZM"
      },
      "execution_count": null,
      "outputs": []
    },
    {
      "cell_type": "markdown",
      "source": [
        "5. `Que tipo de dato es el siguiente ejemplo?`"
      ],
      "metadata": {
        "id": "ygFx1kb5tju-"
      }
    },
    {
      "cell_type": "code",
      "source": [
        "Nombre_de_variable = -10.0\n",
        "\n",
        "print(type(Nombre_de_variable))"
      ],
      "metadata": {
        "id": "lZlGFaMWu0tT"
      },
      "execution_count": null,
      "outputs": []
    },
    {
      "cell_type": "markdown",
      "source": [
        "6. `Que tipo de dato es el siguiente ejemplo?`"
      ],
      "metadata": {
        "id": "ef09ndpgu7sK"
      }
    },
    {
      "cell_type": "code",
      "source": [
        "Nombre_de_variable = \"True\"\n",
        "\n",
        "print(type(Nombre_de_variable))"
      ],
      "metadata": {
        "id": "l4pnjVgQu6nd"
      },
      "execution_count": null,
      "outputs": []
    },
    {
      "cell_type": "markdown",
      "source": [
        "7. `Que tipo de dato es el siguiente ejemplo?`\n"
      ],
      "metadata": {
        "id": "8yksCchdvNmW"
      }
    },
    {
      "cell_type": "code",
      "source": [
        "Nombre_de_variable = \"255 + 140 + 90\"\n",
        "\n",
        "print(type(Nombre_de_variable))"
      ],
      "metadata": {
        "colab": {
          "base_uri": "https://localhost:8080/"
        },
        "id": "alXuB8aavR1m",
        "outputId": "b7346638-53de-4a9b-9bbb-6e8c7f49add8"
      },
      "execution_count": null,
      "outputs": [
        {
          "output_type": "stream",
          "name": "stdout",
          "text": [
            "<class 'str'>\n"
          ]
        }
      ]
    },
    {
      "cell_type": "markdown",
      "source": [],
      "metadata": {
        "id": "oEF21itmwDku"
      }
    },
    {
      "cell_type": "markdown",
      "source": [
        "# Programas asociados a la definicion y tipo de datos."
      ],
      "metadata": {
        "id": "1OpHA3GZwbbK"
      }
    }
  ]
}