{
  "nbformat": 4,
  "nbformat_minor": 0,
  "metadata": {
    "colab": {
      "provenance": [],
      "authorship_tag": "ABX9TyNge9oiPJecf8TW8/4cSBh5",
      "include_colab_link": true
    },
    "kernelspec": {
      "name": "python3",
      "display_name": "Python 3"
    },
    "language_info": {
      "name": "python"
    }
  },
  "cells": [
    {
      "cell_type": "markdown",
      "metadata": {
        "id": "view-in-github",
        "colab_type": "text"
      },
      "source": [
        "<a href=\"https://colab.research.google.com/github/ElCbolla/CursoDeProgramacionPython/blob/main/(6)Modulo_2_Problemas_Asociados_a_Condicionales_Sencillas.ipynb\" target=\"_parent\"><img src=\"https://colab.research.google.com/assets/colab-badge.svg\" alt=\"Open In Colab\"/></a>"
      ]
    },
    {
      "cell_type": "markdown",
      "source": [
        "### **Problema 1**\n",
        "\n",
        "Crea un programa donde:\n",
        "\n",
        "1. Se definan tres variables: `A`, `B` y `C`.\n",
        "   - `A` debe ser igual a `20`.\n",
        "   - `B` debe ser igual a `15`.\n",
        "   - `C` debe ser igual a `10`.\n",
        "\n",
        "2. Realiza las siguientes comparaciones.\n",
        "   - Si `A` es mayor que `B`, imprime `\"A es mayor que B\"`.\n",
        "   - Si `B` es mayor que `C`, imprime `\"B es mayor que C\"`.\n",
        "   - Si `C` es menor que `A`, imprime `\"C es menor que A\"`.\n",
        "   - Si ninguna de las condiciones anteriores se cumple, imprime `\"No se cumple ninguna condicion\"`.\n",
        "\n",
        "3. Imprime los resultados usando la función `print()`."
      ],
      "metadata": {
        "id": "ZQH2C2ckc3XS"
      }
    },
    {
      "cell_type": "code",
      "execution_count": null,
      "metadata": {
        "id": "ufBILb3xcs-k"
      },
      "outputs": [],
      "source": [
        "#Programa-1\n",
        "\n",
        "\n",
        "\n",
        "\n",
        "\n",
        "\n"
      ]
    },
    {
      "cell_type": "markdown",
      "source": [
        "\n",
        "\n",
        "---\n",
        "\n",
        "\n",
        "### **Problema 2**\n",
        "\n",
        "Crea un programa donde:\n",
        "\n",
        "1. Se definan tres variables: `P`, `Q` y `R`.\n",
        "   - `P` debe ser igual a `40`.\n",
        "   - `Q` debe ser igual a `20`.\n",
        "   - `R` debe ser igual a `60`.\n",
        "\n",
        "2. Realiza las siguientes comparaciones.\n",
        "   - Si `P` es igual a `Q`, imprime \"`P es igual a Q`\".\n",
        "   - Si `Q` es mayor que `R`, imprime \"`Q es mayor que R`\".\n",
        "   - Si `R` es mayor que `P`, imprime \"`R es mayor que P`\".\n",
        "   - Si ninguna de las condiciones anteriores se cumple, imprime `\"No se cumple ninguna condicion\"`.\n",
        "\n",
        "3. Imprime los resultados usando la función `print()`.\n"
      ],
      "metadata": {
        "id": "aAG4RydUnefy"
      }
    },
    {
      "cell_type": "code",
      "source": [
        "#Programa-2\n",
        "\n",
        "\n",
        "\n",
        "\n",
        "\n",
        "\n",
        "\n",
        "\n"
      ],
      "metadata": {
        "id": "SGN5L1TennJr"
      },
      "execution_count": null,
      "outputs": []
    },
    {
      "cell_type": "markdown",
      "source": [
        "\n",
        "\n",
        "---\n",
        "\n",
        "\n",
        "### **Problema 3**\n",
        "\n",
        "Crea un programa donde:\n",
        "\n",
        "1. Se definan tres variables: `P`, `Q` y `R`.\n",
        "   - `P` debe ser igual a `40`.\n",
        "   - `Q` debe ser igual a `20`.\n",
        "   - `R` debe ser igual a `60`.\n",
        "\n",
        "2. Realiza las siguientes comparaciones.\n",
        "   - Si `P` es igual a `Q`, imprime \"`P es igual a Q`\".\n",
        "   - Si `Q` es mayor que `R`, imprime \"`Q es mayor que R`\".\n",
        "   - Si `R` es mayor que `P`, imprime \"`R es mayor que P`\".\n",
        "   - Si ninguna de las condiciones anteriores se cumple, imprime `\"No se cumple ninguna condicion\"`.\n",
        "\n",
        "3. Imprime los resultados usando la función `print()`.\n"
      ],
      "metadata": {
        "id": "DAhl3fFSnlk3"
      }
    },
    {
      "cell_type": "code",
      "source": [
        "#Programa-3\n",
        "\n",
        "\n",
        "\n",
        "\n",
        "\n",
        "\n",
        "\n",
        "\n",
        "\n"
      ],
      "metadata": {
        "id": "saLC3EgYn-K-"
      },
      "execution_count": null,
      "outputs": []
    },
    {
      "cell_type": "markdown",
      "source": [
        "\n",
        "\n",
        "---\n",
        "### **Problema 4**\n",
        "\n",
        "Crea un programa donde:\n",
        "\n",
        "1. Se definan tres variables: `A`, `B` y `C`.\n",
        "   - `A` debe ser igual a `10`.\n",
        "   - `B` debe ser igual a `5`.\n",
        "   - `C` debe ser igual a `20`.\n",
        "\n",
        "2. Realiza las siguientes comparaciones.\n",
        "   - Si `A` es mayor que `C`, imprime \"`A es mayor que C`\".\n",
        "   - Si `B` es menor que `A`, imprime \"`B es menor que A`\".\n",
        "   - Si `C` es menor que `B`, imprime \"`C es menor que B`\".\n",
        "   - Si ninguna de las condiciones anteriores se cumple, imprime `\"No se cumple ninguna condicion\"`.\n",
        "\n",
        "3. Imprime los resultados usando la función `print()`.\n",
        "\n"
      ],
      "metadata": {
        "id": "SzsOhqrqoATK"
      }
    },
    {
      "cell_type": "code",
      "source": [
        "#Programa-4\n",
        "\n",
        "\n",
        "\n",
        "\n",
        "\n",
        "\n"
      ],
      "metadata": {
        "id": "vfdPKcxwoiBH"
      },
      "execution_count": null,
      "outputs": []
    },
    {
      "cell_type": "markdown",
      "source": [
        "\n",
        "\n",
        "---\n",
        "\n",
        "### **Problema 5**\n",
        "\n",
        "Crea un programa donde:\n",
        "\n",
        "1. Se definan tres variables: `A`, `B` y `C`.\n",
        "   - `A` debe ser igual a `10`.\n",
        "   - `B` debe ser igual a `5`.\n",
        "   - `C` debe ser igual a `20`.\n",
        "\n",
        "2. Realiza las siguientes comparaciones.\n",
        "   - Si `A` es mayor que `C`, imprime \"`A es mayor que C`\".\n",
        "   - Si `B` es menor que `A`, imprime \"`B es menor que A`\".\n",
        "   - Si `C` es menor que `B`, imprime \"`C es menor que B`\".\n",
        "   - Si ninguna de las condiciones anteriores se cumple, imprime `\"No se cumple ninguna condicion\"`.\n",
        "\n",
        "3. Imprime los resultados usando la función `print()`.\n"
      ],
      "metadata": {
        "id": "3SuLPT_wouKv"
      }
    },
    {
      "cell_type": "code",
      "source": [
        "#Programa-5\n",
        "\n",
        "\n",
        "\n",
        "\n",
        "\n",
        "\n",
        "\n",
        "\n",
        "\n"
      ],
      "metadata": {
        "id": "Rc5zjybVpBgC"
      },
      "execution_count": null,
      "outputs": []
    },
    {
      "cell_type": "markdown",
      "source": [
        "\n",
        "\n",
        "---\n",
        "\n",
        "\n",
        "### **Problema 6**\n",
        "\n",
        "Crea un programa donde:\n",
        "\n",
        "1. Se definan tres variables: `X`, `Y` y `Z`.\n",
        "   - `X` debe ser igual a `25`.\n",
        "   - `Y` debe ser igual a `15`.\n",
        "   - `Z` debe ser igual a `30`.\n",
        "\n",
        "2. Realiza las siguientes comparaciones.\n",
        "   - Si `X` es diferente de `Y`, imprime \"`X es diferente de Y`\".\n",
        "   - Si `Y` es menor que `Z`, imprime \"`Y es menor que Z`\".\n",
        "   - Si `Z` es igual a `X`, imprime \"`Z es igual a X`\".\n",
        "   - Si ninguna de las condiciones anteriores se cumple, imprime `\"No se cumple ninguna condicion\"`.\n",
        "\n",
        "3. Imprime los resultados usando la funcion `print()`.\n"
      ],
      "metadata": {
        "id": "P5y3RKMRpXyc"
      }
    },
    {
      "cell_type": "code",
      "source": [
        "#Programa-6\n",
        "\n",
        "\n",
        "\n",
        "\n",
        "\n",
        "\n",
        "\n",
        "\n"
      ],
      "metadata": {
        "id": "fHL8glRJpXgU"
      },
      "execution_count": null,
      "outputs": []
    },
    {
      "cell_type": "markdown",
      "source": [
        "\n",
        "\n",
        "---\n",
        "\n",
        "### **Problema 7**\n",
        "\n",
        "Crea un programa donde:\n",
        "\n",
        "1. Se definan tres variables: `A`, `B` y `C`.\n",
        "   - `A` debe ser igual a `12`.\n",
        "   - `B` debe ser igual a `18`.\n",
        "   - `C` debe ser igual a `12`.\n",
        "\n",
        "2. Realiza las siguientes comparaciones.\n",
        "   - Si `A` es mayor que `B`, imprime \"`A es mayor que B`\".\n",
        "   - Si `B` es diferente de `C`, imprime \"`B es diferente de C`\".\n",
        "   - Si `C` es igual a `A`, imprime \"`C es igual a A`\".\n",
        "   - Si ninguna de las condiciones anteriores se cumple, imprime `\"No se cumple ninguna condicion\"`.\n",
        "\n",
        "3. Imprime los resultados usando la funcion `print()`.\n"
      ],
      "metadata": {
        "id": "HTqn3cX4pfl3"
      }
    },
    {
      "cell_type": "code",
      "source": [
        "#Programa-7\n",
        "\n",
        "\n",
        "\n",
        "\n",
        "\n",
        "\n",
        "\n",
        "\n"
      ],
      "metadata": {
        "id": "rjq1wNJ-p0mj"
      },
      "execution_count": null,
      "outputs": []
    },
    {
      "cell_type": "markdown",
      "source": [
        "\n",
        "\n",
        "---\n",
        "\n",
        "### **Problema 8**\n",
        "\n",
        "Crea un programa donde:\n",
        "\n",
        "1. Se definan tres variables: `P`, `Q` y `R`.\n",
        "   - `P` debe ser igual a `40`.\n",
        "   - `Q` debe ser igual a `25`.\n",
        "   - `R` debe ser igual a `15`.\n",
        "\n",
        "2. Realiza las siguientes comparaciones.\n",
        "   - Si `P` es diferente de `Q`, imprime \"`P es diferente de Q`\".\n",
        "   - Si `Q` es igual a `R`, imprime \"`Q es igual a R`\".\n",
        "   - Si `R` es menor que `P`, imprime \"`R es menor que P`\".\n",
        "   - Si ninguna de las condiciones anteriores se cumple, imprime `\"No se cumple ninguna condicion\"`.\n",
        "\n",
        "3. Imprime los resultados usando la funcion `print()`.\n"
      ],
      "metadata": {
        "id": "A3-othAhp9ch"
      }
    },
    {
      "cell_type": "code",
      "source": [
        "#Programa-8\n",
        "\n",
        "\n",
        "\n",
        "\n",
        "\n",
        "\n",
        "\n",
        "\n",
        "\n"
      ],
      "metadata": {
        "id": "hn3ye5pNqWy_"
      },
      "execution_count": null,
      "outputs": []
    },
    {
      "cell_type": "markdown",
      "source": [
        "\n",
        "\n",
        "---\n",
        "\n",
        "\n",
        "### **Problema 9**\n",
        "\n",
        "Crea un programa donde:\n",
        "\n",
        "1. Se definan tres variables: `L`, `M` y `N`.\n",
        "   - `L` debe ser igual a `22`.\n",
        "   - `M` debe ser igual a `10`.\n",
        "   - `N` debe ser igual a `22`.\n",
        "\n",
        "2. Realiza las siguientes comparaciones.\n",
        "   - Si `L` es diferente de `M`, imprime \"`L es diferente de M`\".\n",
        "   - Si `N` es mayor que `M`, imprime \"`N es mayor que M`\".\n",
        "   - Si `M` es igual a `L`, imprime \"`M es igual a L`\".\n",
        "   - Si ninguna de las condiciones anteriores se cumple, imprime `\"No se cumple ninguna condicion\"`.\n",
        "\n",
        "3. Imprime los resultados usando la funcion `print()`.\n",
        "\n"
      ],
      "metadata": {
        "id": "g93AmTZoqZGS"
      }
    },
    {
      "cell_type": "code",
      "source": [
        "#Programa-9\n",
        "\n",
        "\n",
        "\n",
        "\n",
        "\n",
        "\n",
        "\n",
        "\n",
        "\n"
      ],
      "metadata": {
        "id": "zh2CbPxlqlka"
      },
      "execution_count": null,
      "outputs": []
    },
    {
      "cell_type": "markdown",
      "source": [
        "\n",
        "\n",
        "---\n",
        "\n",
        "### **Problema 10**\n",
        "\n",
        "Crea un programa donde:\n",
        "\n",
        "1. Se definan tres variables: `X`, `Y` y `Z`.\n",
        "   - `X` debe ser igual a `14`.\n",
        "   - `Y` debe ser igual a `14`.\n",
        "   - `Z` debe ser igual a `20`.\n",
        "\n",
        "2. Realiza las siguientes comparaciones.\n",
        "   - Si `X` es igual a `Y`, imprime \"`X es igual a Y`\".\n",
        "   - Si `Z` es diferente de `Y`, imprime \"`Z es diferente de Y`\".\n",
        "   - Si `Y` es menor que `Z`, imprime \"`Y es menor que Z`\".\n",
        "   - Si ninguna de las condiciones anteriores se cumple, imprime `\"No se cumple ninguna condicion\"`.\n",
        "\n",
        "3. Imprime los resultados usando la funcion `print()`.\n"
      ],
      "metadata": {
        "id": "aITH-siOqnee"
      }
    },
    {
      "cell_type": "code",
      "source": [
        "#Programa-10\n",
        "\n",
        "\n",
        "\n",
        "\n",
        "\n",
        "\n",
        "\n",
        "\n"
      ],
      "metadata": {
        "id": "rYWkqze6q7Rg"
      },
      "execution_count": null,
      "outputs": []
    },
    {
      "cell_type": "markdown",
      "source": [
        "\n",
        "\n",
        "---\n",
        "\n",
        "\n",
        "### **Problema 11**\n",
        "\n",
        "Crea un programa donde:\n",
        "\n",
        "1. Se definan tres variables: `D`, `E` y `F`.\n",
        "   - `D` debe ser igual a `50`.\n",
        "   - `E` debe ser igual a `35`.\n",
        "   - `F` debe ser igual a `50`.\n",
        "\n",
        "2. Realiza las siguientes comparaciones.\n",
        "   - Si `D` es diferente de `E`, imprime \"`D es diferente de E`\".\n",
        "   - Si `E` es menor que `F`, imprime \"`E es menor que F`\".\n",
        "   - Si `F` es igual a `D`, imprime \"`F es igual a D`\".\n",
        "   - Si ninguna de las condiciones anteriores se cumple, imprime `\"No se cumple ninguna condicion\"`.\n",
        "\n",
        "3. Imprime los resultados usando la funcion `print()`.\n",
        "\n",
        "\n",
        "\n",
        "\n",
        "\n",
        "\n"
      ],
      "metadata": {
        "id": "7szQbXXlrDBo"
      }
    },
    {
      "cell_type": "code",
      "source": [
        "#Programa-11\n",
        "\n",
        "\n",
        "\n",
        "\n",
        "\n",
        "\n"
      ],
      "metadata": {
        "id": "KV0gPWK3rUmS"
      },
      "execution_count": null,
      "outputs": []
    },
    {
      "cell_type": "markdown",
      "source": [
        "\n",
        "\n",
        "---\n",
        "### **Problema 12**\n",
        "\n",
        "Crea un programa donde:\n",
        "\n",
        "1. Se definan tres variables: `A`, `B` y `C`.\n",
        "   - `A` debe ser igual a `60`.\n",
        "   - `B` debe ser igual a `45`.\n",
        "   - `C` debe ser igual a `30`.\n",
        "\n",
        "2. Realiza las siguientes comparaciones.\n",
        "   - Si `A` es mayor que `B`, imprime \"`A es mayor que B`\".\n",
        "   - Si `B` es diferente de `C`, imprime \"`B es diferente de C`\".\n",
        "   - Si `C` es menor que `A`, imprime \"`C es menor que A`\".\n",
        "   - Si ninguna de las condiciones anteriores se cumple, imprime `\"No se cumple ninguna condicion\"`.\n",
        "\n",
        "3. Imprime los resultados usando la funcion `print()`.\n",
        "\n",
        "\n"
      ],
      "metadata": {
        "id": "BL5eZe4erV2b"
      }
    },
    {
      "cell_type": "code",
      "source": [
        "#Programa-12\n",
        "\n",
        "\n",
        "\n",
        "\n",
        "\n",
        "\n",
        "\n",
        "\n",
        "\n",
        "\n"
      ],
      "metadata": {
        "id": "F32sM8KJrgXe"
      },
      "execution_count": null,
      "outputs": []
    }
  ]
}