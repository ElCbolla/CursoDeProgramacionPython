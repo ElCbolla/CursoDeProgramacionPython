{
  "nbformat": 4,
  "nbformat_minor": 0,
  "metadata": {
    "colab": {
      "provenance": [],
      "authorship_tag": "ABX9TyOzZdy4RRkRz3ByrlLFGN0D",
      "include_colab_link": true
    },
    "kernelspec": {
      "name": "python3",
      "display_name": "Python 3"
    },
    "language_info": {
      "name": "python"
    }
  },
  "cells": [
    {
      "cell_type": "markdown",
      "metadata": {
        "id": "view-in-github",
        "colab_type": "text"
      },
      "source": [
        "<a href=\"https://colab.research.google.com/github/ElCbolla/CursoDeProgramacionPython/blob/main/Dia(3)Problemas_extras.ipynb\" target=\"_parent\"><img src=\"https://colab.research.google.com/assets/colab-badge.svg\" alt=\"Open In Colab\"/></a>"
      ]
    },
    {
      "cell_type": "markdown",
      "source": [
        "## **Problema 1**\n",
        "\n",
        "Crea un programa donde:\n",
        "\n",
        "1. Se definan **cuatro variables**: `Texto1`, `Texto2`, `Numero1`, `Numero2`.\n",
        "2. Las variables `Texto1` y `Texto2` deben ser de tipo `{str}`.\n",
        "3. Las variables `Numero1` y `Numero2` deben ser de tipo `{int}`.\n",
        "4. **Concatena** las dos variables de texto usando el operador`( + )`.\n",
        "5. Suma las dos variables numéricas y concatena este resultado con el texto usando `( , )` dentro de la función `print`.\n"
      ],
      "metadata": {
        "id": "zQr7jFS5V6-1"
      }
    },
    {
      "cell_type": "code",
      "execution_count": null,
      "metadata": {
        "id": "N5X_aB0jUWq1"
      },
      "outputs": [],
      "source": [
        "#Programa-1"
      ]
    },
    {
      "cell_type": "markdown",
      "source": [
        "# **Problema-2**\n",
        "\n",
        "\n",
        "1. Se definan cuatro variables: `Cadena1`, `Cadena2`, `NumeroA`, `NumeroB`.  \n",
        "2. Las variables `Cadena1` y `Cadena2` deben ser de tipo `{str}`.  \n",
        "3. Las variables `NumeroA` y `NumeroB` deben ser de tipo `{int}`.  \n",
        "4. Concatena las dos cadenas de texto usando el operador `( + )`.  \n",
        "5. Calcula la división entre las variables numericas y concatena este resultado con el texto usando la función `print`.\n"
      ],
      "metadata": {
        "id": "54yLdmVVY-RQ"
      }
    },
    {
      "cell_type": "code",
      "source": [
        "#Programa-2"
      ],
      "metadata": {
        "id": "FNmrXIoHZpa4"
      },
      "execution_count": null,
      "outputs": []
    },
    {
      "cell_type": "markdown",
      "source": [
        "#**Problema-3**\n",
        "\n",
        "1. Se definan cuatro variables: `Texto1`, `Texto2`, `ValorX`, `ValorY`.\n",
        "2. Las variables `Texto1` y `Texto2` deben ser de tipo `{str}`.\n",
        "3. Las variables `ValorX` y `ValorY` deben ser de tipo `{int}`.\n",
        "4. Concatenar las dos cadenas de texto usando el operador `( + )`.\n",
        "5. Realiza la multiplicación entre las variables numericas y concatena este resultado con el texto usando la función `print`.\n"
      ],
      "metadata": {
        "id": "-kciajP-bEL7"
      }
    },
    {
      "cell_type": "code",
      "source": [
        "#Programa-3"
      ],
      "metadata": {
        "id": "BvFYrJaRbV1V"
      },
      "execution_count": null,
      "outputs": []
    },
    {
      "cell_type": "markdown",
      "source": [
        "\n",
        "\n",
        "---\n",
        "## **Problema 4**\n",
        "\n",
        "\n",
        "\n",
        "Crea un programa donde:\n",
        "1. Se definan cuatro variables : `Palabra1`, `Palabra2`, `Numero1`, `Numero2`.  \n",
        "2. Las variables `Palabra1` y `Palabra2` deben ser de tipo `{str}`.  \n",
        "3. Las variables `Numero1` y `Numero2` deben ser de tipo `{int}`.  \n",
        "4. Repite la primera palabra el numero de veces indicado por `Numero1` usando el operador `( * )`.  \n",
        "5. Suma `Numero1` y `Numero2`, concatena este resultado con la segunda palabra y muestra todo usando la función `print`.\n",
        "\n"
      ],
      "metadata": {
        "id": "jcT4FvREXPc1"
      }
    },
    {
      "cell_type": "code",
      "source": [
        "#Programa-4"
      ],
      "metadata": {
        "id": "mSyuv3ozY1M8"
      },
      "execution_count": null,
      "outputs": []
    },
    {
      "cell_type": "markdown",
      "source": [
        "\n",
        "\n",
        "---\n",
        "\n",
        "\n",
        "\n"
      ],
      "metadata": {
        "id": "5QUYXgl4Zt66"
      }
    },
    {
      "cell_type": "markdown",
      "source": [
        "# **Programa 5**\n",
        "\n",
        "Crea un programa donde :\n",
        "1. Se definan cuatro variables: `Frase1`, `Frase2`, `Valor1`, `Valor2`.\n",
        "2. Las variables `Frase1` y `Frase2` deben ser de tipo `{str}`.\n",
        "3. Las variables `Valor1` y `Valor2` deben ser de tipo `{int}`.\n",
        "4. Repite la segunda frase el número de veces indicado por `Valor2` usando el operador `( * )`.\n",
        "5. Resta `Valor1` y `Valor2`, concatena este resultado con la primera frase y muestra todo usando la función `print`.\n"
      ],
      "metadata": {
        "id": "lddXjpuHbvNF"
      }
    },
    {
      "cell_type": "code",
      "source": [
        "#Programa-5"
      ],
      "metadata": {
        "id": "jwCdujjMcFUN"
      },
      "execution_count": null,
      "outputs": []
    },
    {
      "cell_type": "markdown",
      "source": [
        "#**Problema 6**\n",
        "\n",
        "Crea un programa donde:\n",
        "\n",
        "1. Se definan cuatro variables: `CadenaA`, `CadenaB`, `NumeroX`, `NumeroY`.\n",
        "2. Las variables `CadenaA` y `CadenaB` deben ser de tipo `{str}`.\n",
        "3. Las variables `NumeroX` y `NumeroY` deben ser de tipo `{int}`.\n",
        "4. Repite la primera cadena el numero de veces indicado por `NumeroY` usando el operador `( * )`.\n",
        "5. Divide `NumeroX` entre `NumeroY`, concatena este resultado con la segunda cadena y muestra todo usando la función `print`.\n",
        "\n"
      ],
      "metadata": {
        "id": "7nrGNW9qcIo1"
      }
    },
    {
      "cell_type": "code",
      "source": [
        "#Programa-6"
      ],
      "metadata": {
        "id": "9ExG_cH1cgrr"
      },
      "execution_count": null,
      "outputs": []
    }
  ]
}