{
  "nbformat": 4,
  "nbformat_minor": 0,
  "metadata": {
    "colab": {
      "provenance": [],
      "authorship_tag": "ABX9TyOb/Lbzo5YUvESssI2hy+OF",
      "include_colab_link": true
    },
    "kernelspec": {
      "name": "python3",
      "display_name": "Python 3"
    },
    "language_info": {
      "name": "python"
    }
  },
  "cells": [
    {
      "cell_type": "markdown",
      "metadata": {
        "id": "view-in-github",
        "colab_type": "text"
      },
      "source": [
        "<a href=\"https://colab.research.google.com/github/ElCbolla/CursoDeProgramacionPython/blob/main/(6.5)Programas__Asociados_a_inputs.ipynb\" target=\"_parent\"><img src=\"https://colab.research.google.com/assets/colab-badge.svg\" alt=\"Open In Colab\"/></a>"
      ]
    },
    {
      "cell_type": "markdown",
      "source": [
        "# **Programa-1**\n",
        "\n",
        "Crea un programa donde:\n",
        "\n",
        "1. Se definan dos variables mediante entradas del usuario:\n",
        "    - `Texto1` y `Texto2`, que deben ser cadenas de texto.\n",
        "\n",
        "2. El programa debe concatenar `Texto1` y `Texto2`, separados por un espacio, e imprimir el resultado con la funcion `print()`\n",
        "\n",
        "\n"
      ],
      "metadata": {
        "id": "AA_i_nD6ISxm"
      }
    },
    {
      "cell_type": "code",
      "execution_count": null,
      "metadata": {
        "id": "THgzblKxHh5Q"
      },
      "outputs": [],
      "source": [
        "#Programa-1\n",
        "\n",
        "\n",
        "\n",
        "\n",
        "\n"
      ]
    },
    {
      "cell_type": "markdown",
      "source": [
        "\n",
        "\n",
        "---\n",
        "\n",
        "# **Programa-2**\n",
        "\n",
        "Crea un programa donde:\n",
        "\n",
        "1. Se definan tres variables mediante entradas del usuario:\n",
        "    - `Numero1` y `Numero2`, que deben ser numeros enteros.\n",
        "    - `Multiplicador`, que debe ser un numero entero,\n",
        "\n",
        "2. Calcula el producto de `Numero1` y `Numero2` y multiplica este resultado por el valor de `Multiplicador`.\n",
        "\n",
        "3. Imprime el resultado final.\n"
      ],
      "metadata": {
        "id": "omDCEFwWIlr-"
      }
    },
    {
      "cell_type": "code",
      "source": [
        "#Programa-2\n",
        "\n",
        "\n"
      ],
      "metadata": {
        "id": "5EqluQB2JpZD"
      },
      "execution_count": null,
      "outputs": []
    },
    {
      "cell_type": "markdown",
      "source": [
        "\n",
        "\n",
        "---\n",
        "#**Programa-3**\n",
        "\n",
        "\n",
        "Crea un programa donde:\n",
        "\n",
        "1. Se definan tres variables mediante entradas del usuario:\n",
        "    - `Texto` debe ser una cadena de texto.\n",
        "    - `Repeticiones` debe ser un numero entero positivo.\n",
        "\n",
        "2. El programa debe repetir `Texto` la cantidad de veces indicada por `Repeticiones`, e imprimir mediante la funcion `print()`\n",
        "\n"
      ],
      "metadata": {
        "id": "Mk-CkPc2I3IZ"
      }
    },
    {
      "cell_type": "code",
      "source": [
        "#Programa-3"
      ],
      "metadata": {
        "id": "dHkua7IBJofO"
      },
      "execution_count": null,
      "outputs": []
    },
    {
      "cell_type": "markdown",
      "source": [
        "\n",
        "\n",
        "---\n",
        "# **Programa-4**\n",
        "\n",
        "Crea un programa donde:\n",
        "\n",
        "1. Se definan tres variables mediante entradas del usuario:\n",
        "    - `Numero1`, `Numero2` y `Numero3`, que deben ser numeros enteros.\n",
        "\n",
        "2. Calcula el promedio de los tres numeros recordando que el promedio es la suma de los datos entre la cantidad de datos e imprime el resultado mediante una funcion `print()`\n"
      ],
      "metadata": {
        "id": "xzUNNxgWJGFb"
      }
    },
    {
      "cell_type": "code",
      "source": [
        "#Programa-4\n",
        "\n",
        "\n",
        "\n"
      ],
      "metadata": {
        "id": "DkkVBMGKJxlA"
      },
      "execution_count": null,
      "outputs": []
    },
    {
      "cell_type": "markdown",
      "source": [
        "\n",
        "\n",
        "---\n",
        "#**Programa-5**\n",
        "\n",
        "Crea un programa donde:\n",
        "\n",
        "1. Se definan una variable mediante entrada del usuario:\n",
        "    - `Calificacion`, que debe ser un numero entero entre 0 y 100.\n",
        "\n",
        "2. El programa debe determinar la letra correspondiente a la calificacion:\n",
        "    - Si `Calificacion` es mayor o igual a 90, imprime `\"Tu letra es A.\"`.\n",
        "    - Si `Calificacion` esta entre 80 y 89, imprime `\"Tu letra es B.\"`.\n",
        "    - Si `Calificacion` esta entre 70 y 79, imprime `\"Tu letra es C.\"`.\n",
        "    - Si `Calificacion` es menor de 70, imprime `\"Tu letra es D.\"`.\n",
        "\n",
        "3. Imprime el resultado correspondiente mediante la funcion `print()`\n",
        "\n"
      ],
      "metadata": {
        "id": "Bsbd2y48J6mo"
      }
    },
    {
      "cell_type": "code",
      "source": [
        "#Programa-5\n",
        "\n",
        "\n",
        "\n",
        "\n",
        "\n",
        "\n"
      ],
      "metadata": {
        "id": "-WiL04frWNpP"
      },
      "execution_count": null,
      "outputs": []
    },
    {
      "cell_type": "markdown",
      "source": [
        "# **Programa-6**\n",
        "\n",
        "Crea un programa donde:\n",
        "\n",
        "1. Se defina una variable mediante entrada del usuario:\n",
        "    - `Temperatura`, que debe ser un numero entero.\n",
        "\n",
        "2. El programa debe clasificar la temperatura en las siguientes categorias:\n",
        "    - Si `Temperatura` es mayor o igual a 30, imprime `\"Hace mucho calor.\"`.\n",
        "    - Si `Temperatura` esta entre 20 y 29, imprime `\"El clima es calido.\"`.\n",
        "    - Si `Temperatura` esta entre 10 y 19, imprime `\"El clima es fresco.\"`.\n",
        "    - Si `Temperatura` es menor de 10, imprime `\"Hace frio.\"`.\n",
        "3. Imprime el resultado correspondiente mediante la funcion `print()`"
      ],
      "metadata": {
        "id": "qO7uX290WCuA"
      }
    },
    {
      "cell_type": "code",
      "source": [
        "#Programa-6\n",
        "\n",
        "\n",
        "\n",
        "\n",
        "\n",
        "\n",
        "\n"
      ],
      "metadata": {
        "id": "Hcz61WtgXt5G"
      },
      "execution_count": null,
      "outputs": []
    },
    {
      "cell_type": "markdown",
      "source": [
        "# **Programa-7**\n",
        "Crea un programa donde:\n",
        "\n",
        "1. Se definan tres variables mediante entradas del usuario:\n",
        "    - `Numero1` y `Numero2`, que deben ser numeros enteros.\n",
        "    - `Operacion`, que debe ser un texto que indique la operacion a realizar: `\"suma\"`, `\"resta\"`, `\"multiplicacion\"`\n",
        "\n",
        "2. El programa debe realizar la operacion seleccionada:\n",
        "    - Si `Operacion` es `\"suma\"`, calcula e imprime la suma de los dos numeros.\n",
        "    - Si `Operacion` es `\"resta\"`, calcula e imprime la resta de los dos numeros.\n",
        "    - Si `Operacion` es `\"multiplicacion\"`, calcula e imprime el producto de los dos numeros.\n",
        "  \n",
        "- Si la operacion ingresada no es valida, imprime `\"Operacion no reconocida.\"`."
      ],
      "metadata": {
        "id": "oeLVun_QXhnP"
      }
    },
    {
      "cell_type": "code",
      "source": [
        "#Programa-7\n",
        "\n",
        "\n",
        "\n",
        "\n",
        "\n",
        "\n",
        "\n",
        "\n"
      ],
      "metadata": {
        "id": "rF7_KJJwXwmC"
      },
      "execution_count": null,
      "outputs": []
    },
    {
      "cell_type": "markdown",
      "source": [
        "---\n",
        "\n",
        "# **Problema 8**\n",
        "\n",
        "Crea un programa donde:\n",
        "\n",
        "1. Se solicite al usuario que ingrese un comando para controlar una luz:\n",
        "   - `\"encender\"`, `\"apagar\"`, o `\"estado\"`.\n",
        "\n",
        "2. El programa debe realizar lo siguiente:\n",
        "   - Si el comando es `\"encender\"`, imprime `\"La luz está encendida\"`.\n",
        "   - Si el comando es `\"apagar\"`, imprime `\"La luz está apagada\"`.\n",
        "   - Si el comando ingresado no es valido, imprime `\"Comando no reconocido.\"`.\n",
        "\n"
      ],
      "metadata": {
        "id": "EwC37F13ZAPg"
      }
    },
    {
      "cell_type": "code",
      "source": [
        "#Programa-8\n",
        "\n",
        "\n",
        "\n",
        "\n",
        "\n",
        "\n"
      ],
      "metadata": {
        "id": "RmsqK7ZIZXs5"
      },
      "execution_count": null,
      "outputs": []
    },
    {
      "cell_type": "markdown",
      "source": [
        "\n",
        "\n",
        "---\n",
        "### **Programa-9**\n",
        "\n",
        "Crea un programa donde:\n",
        "\n",
        "1. Se definan dos variables mediante entradas del usuario:\n",
        "   - `Base`, que debe ser un numero entero.\n",
        "   - `Exponente`, que debe ser un numero entero no negativo.\n",
        "\n",
        "2. El programa debe calcular el resultado de elevar la `Base` al `Exponente` utilizando potencias y mostrar el resultado.\n",
        "\n",
        "3. Si el `Exponente` es menor que `0`, imprime `\"El exponente no puede ser negativo.\"` y no realiza ninguna operacion.\n"
      ],
      "metadata": {
        "id": "GwLjezie5FWs"
      }
    },
    {
      "cell_type": "code",
      "source": [
        "#Programa-9\n",
        "\n",
        "\n",
        "\n",
        "\n",
        "\n",
        "\n",
        "\n",
        "\n"
      ],
      "metadata": {
        "id": "yKm0vXEt6jXK"
      },
      "execution_count": null,
      "outputs": []
    },
    {
      "cell_type": "markdown",
      "source": [
        "### Programa-10\n",
        "\n",
        "Crea un programa donde:\n",
        "\n",
        "1. Se definan dos variables mediante entradas del usuario:\n",
        "   - `Temperatura`, que debe ser un numero que represente la temperatura.\n",
        "   - `Conversion` que debe ser un texto que indique la conversion a realizar: `\"fahrenheit\"` o `\"celsius\"`.\n",
        "\n",
        "2. El programa debe realizar la conversion seleccionada:\n",
        "   - Si `Conversion` es `\"fahrenheit\"`, convierte la temperatura de grados Celsius a grados Fahrenheit usando la formula: `((Temperatura × 9/5) + 32)` e imprime el resultado.\n",
        "   - Si `Conversion` es `\"celsius\"`, convierte la temperatura de grados Fahrenheit a grados Celsius usando la formula: `((Temperatura - 32) × 5/9)` e imprime el resultado.\n",
        "\n",
        "3. Si la conversion ingresada no es valida, imprime `\"Conversion no reconocida.\"`\n"
      ],
      "metadata": {
        "id": "2R19aar777o1"
      }
    },
    {
      "cell_type": "code",
      "source": [
        "#Programa-10\n",
        "\n",
        "\n",
        "\n",
        "\n",
        "\n",
        "\n"
      ],
      "metadata": {
        "id": "Xbyn_b33-Yn9"
      },
      "execution_count": null,
      "outputs": []
    },
    {
      "cell_type": "markdown",
      "source": [
        "\n",
        "\n",
        "---\n",
        "### **Programa-11**\n",
        "\n",
        "Crea un programa donde:\n",
        "\n",
        "1. Se definan dos variables mediante entradas del usuario:\n",
        "   - `Figura`, que debe ser un texto que indique la figura geometrica: `\"cuadrado\"`, `\"rectangulo\"` o `\"circulo\"`.\n",
        "   - Los datos necesarios para calcular el area segun la figura seleccionada:\n",
        "     - Si es `\"cuadrado\"`, pide el valor de un lado.\n",
        "     - Si es `\"rectangulo\"`, pide la base y la altura.\n",
        "     - Si es `\"circulo\"`, pide el radio.\n",
        "\n",
        "2. El programa debe calcular e imprimir el area de la figura seleccionada:\n",
        "   - Para `\"cuadrado\"`, el area es lado².\n",
        "   - Para `\"rectangulo\"`, el area es base × altura.\n",
        "   - Para `\"circulo\"`, el area es π × radio² (usa 3.1416 como valor de π).\n",
        "\n",
        "3. Si la figura ingresada no es valida, imprime `\"Figura no reconocida.\"`\n",
        "\n"
      ],
      "metadata": {
        "id": "ZI33xvjA6vQ_"
      }
    },
    {
      "cell_type": "code",
      "source": [
        "#Programa-11\n",
        "\n",
        "\n",
        "\n",
        "\n",
        "\n",
        "\n",
        "\n"
      ],
      "metadata": {
        "id": "9UlmLQlU-dY6"
      },
      "execution_count": null,
      "outputs": []
    },
    {
      "cell_type": "markdown",
      "source": [
        "\n",
        "\n",
        "---\n",
        "\n",
        "### **Programa-11**\n",
        "\n",
        "Crea un programa donde:\n",
        "\n",
        "1. Se definan dos variables mediante entradas del usuario:\n",
        "   - `Figura`, que debe ser un texto que indique la figura geometrica: `\"cuadrado\"`, `\"rectangulo\"` o `\"circulo\"`.\n",
        "   - Los datos necesarios para calcular el perimetro segun la figura seleccionada:\n",
        "     - Si es `\"cuadrado\"`, pide el valor de un lado.\n",
        "     - Si es `\"rectangulo\"`, pide la base y la altura.\n",
        "     - Si es `\"circulo\"`, pide el radio.\n",
        "\n",
        "2. El programa debe calcular e imprimir el perimetro de la figura seleccionada:\n",
        "   - Para `\"cuadrado\"`, el perimetro es 4 × lado.\n",
        "   - Para `\"rectangulo\"`, el perimetro es 2 × (base + altura).\n",
        "   - Para `\"circulo\"`, el perimetro es 2 × pi × radio (usa 3.14 como valor de pi).\n",
        "\n",
        "3. Si la figura ingresada no es valida, imprime `\"Figura no reconocida.\"`"
      ],
      "metadata": {
        "id": "djteJdoA7IcE"
      }
    },
    {
      "cell_type": "code",
      "source": [
        "#Programa-12\n",
        "\n",
        "\n",
        "\n",
        "\n",
        "\n",
        "\n",
        "\n",
        "\n",
        "\n",
        "\n"
      ],
      "metadata": {
        "id": "x7yMp2c8-fmX"
      },
      "execution_count": null,
      "outputs": []
    }
  ]
}