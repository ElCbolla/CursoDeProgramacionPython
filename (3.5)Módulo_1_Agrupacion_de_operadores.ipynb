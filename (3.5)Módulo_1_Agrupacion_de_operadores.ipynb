{
  "nbformat": 4,
  "nbformat_minor": 0,
  "metadata": {
    "colab": {
      "provenance": [],
      "authorship_tag": "ABX9TyNAj/SdZnhNS77P3+WCmVMW",
      "include_colab_link": true
    },
    "kernelspec": {
      "name": "python3",
      "display_name": "Python 3"
    },
    "language_info": {
      "name": "python"
    }
  },
  "cells": [
    {
      "cell_type": "markdown",
      "metadata": {
        "id": "view-in-github",
        "colab_type": "text"
      },
      "source": [
        "<a href=\"https://colab.research.google.com/github/ElCbolla/CursoDeProgramacionPython/blob/main/(3.5)M%C3%B3dulo_1_Agrupacion_de_operadores.ipynb\" target=\"_parent\"><img src=\"https://colab.research.google.com/assets/colab-badge.svg\" alt=\"Open In Colab\"/></a>"
      ]
    },
    {
      "cell_type": "markdown",
      "source": [
        "# **Al igual que en las matematicas se pueden usar los parentesis** `()` para dar prioridad a ciertas operaciones, y esto en programacion nos puede ayudar a evitar muchos errores."
      ],
      "metadata": {
        "id": "1dOuRUpepryM"
      }
    },
    {
      "cell_type": "markdown",
      "source": [
        "**Ejemplos sencillos del uso de parentesis :**"
      ],
      "metadata": {
        "id": "OK3i_8ZCqe1S"
      }
    },
    {
      "cell_type": "code",
      "execution_count": null,
      "metadata": {
        "colab": {
          "base_uri": "https://localhost:8080/"
        },
        "id": "CPDQWANWpfV7",
        "outputId": "b27b1beb-d77a-4984-a50c-18a27443933a"
      },
      "outputs": [
        {
          "output_type": "stream",
          "name": "stdout",
          "text": [
            "10\n"
          ]
        }
      ],
      "source": [
        "print( 2*2 + (3+2)) #Por la jerarquia de operaciones primero se haran los parentesis, luego la multiplicacion, y al final la suma."
      ]
    },
    {
      "cell_type": "markdown",
      "source": [
        "**El anterior ejemplo es simple y algo obvio, pero otra de las utilidades es poder agrupar los terminos de una operacion de manera correcta.**\n",
        "\n",
        "*Si por ejemplo queremos realizar la siguiente operacion :*\n",
        "\n",
        "![image.png](data:image/png;base64,iVBORw0KGgoAAAANSUhEUgAAAEQAAAA5CAYAAACPr42tAAAAAXNSR0IArs4c6QAAAARnQU1BAACxjwv8YQUAAAAJcEhZcwAADsMAAA7DAcdvqGQAAALoSURBVGhD7dltSFNRGAfwv2KSJREVkqUZggUFhR/KKImJQmRRVkawwCAwCKMgqKQIijCSoC8qQVSg1IKyQMkXKFkfzDA1siKj6GVLU+dr5WblYu2cjnE7Nto9q02vzw8OXp+D7PL33rN77hPm8QL5JVz8JAIFIqFAJBSIhAKRUCCSgAO5WWVF3tGz4rfQs7V3YVtuPnr7B0VFn4ACefe+E4cLijDkdIlK6PQNfMSla5VYlmFGc2sbRtxuMaOPciDsA4suX+ehBOrcBQsfKoacwzBl78US0w68fGPH2pRkMaNGOZBa6wMkJcYjLjZGVNSNjLj5UBE9PQr3ys+ju7UWhcf2YdbMGWJGjVIg7Z0OPG17jfVpq0XFOHQH4nZ/x9VbtTBvWYfIyAhRNQ7dgdRYG7AwPpYPI9IViKN3AC1PXmBrZpqoGI/fgbC3BBctFdi+MR1TIox3q4zyO5C6+ibMjZmNpYsTRUWfTkcvElZuRtj8lDEj/3QJH3+aW5Saza/MoGEviP7G+9TnOVJQ7Pk85BKVnz5093gWrNjkydl/QlTUnCku5eNfYOfCzomdmwq/rpDSG1VofPQMqVm58H4YH5EJazAveQPsHV0oK6/m/012BbArYSLzK5CDe8yweh9+Ht+5AntTJR/fbPfRXFOKaVFTkZOdCU9HI2wPKxAbM0f81cSk61tmMlAOxHu78SfW4S9f0T/4CU7XsJgJHXa7Pn/1lp9TT18Qd7uFJWUIj1uFrN2HeDC379YjOsnEN1lssxVsuw6c5GsYW9PYTrenbwDLM3YqrWvjog0xutNla1WoUV9GQouqhAKRUCASn2uIOe+4ODIeS8kpcTSWz0Cq6xrEkfFkpvt+00ffMhJaQyQBB0KNKg1qVGlQo0pCjSoNalRpUKNKQo0qDWpUabAHWmpUaVCjSoMaVRJqVEmoUTWJKQfivd2oUTWKGlX/GTWqxjFaVCUUiIQCkVAgEgpEQoFIKJDfAD8ARsOx1ObchpAAAAAASUVORK5CYII=)\n",
        "\n",
        "**Seguramente pensarias en el siguiente codigo :**"
      ],
      "metadata": {
        "id": "x1cFzieurTMs"
      }
    },
    {
      "cell_type": "code",
      "source": [
        "print( 4+1 / 4+1 )"
      ],
      "metadata": {
        "colab": {
          "base_uri": "https://localhost:8080/"
        },
        "id": "uEZD1dmOrUHu",
        "outputId": "f2da016c-3fa4-4ac3-dd2f-2344a64e5282"
      },
      "execution_count": null,
      "outputs": [
        {
          "output_type": "stream",
          "name": "stdout",
          "text": [
            "5.25\n"
          ]
        }
      ]
    },
    {
      "cell_type": "markdown",
      "source": [
        "**Y si ejecutamos la operacion veremos que el resultado no coincide, Ya que el codigo lo esta leyendo como :**\n",
        "\n",
        "`1 + 1/4 + 1` o\n",
        "\n",
        "![image.png](data:image/png;base64,iVBORw0KGgoAAAANSUhEUgAAAJ4AAABQCAYAAADoZ8y/AAAAAXNSR0IArs4c6QAAAARnQU1BAACxjwv8YQUAAAAJcEhZcwAADsMAAA7DAcdvqGQAAATiSURBVHhe7dx/TFVlGAfw5zKwLFutOUuwq0kQ2Q8rSyYaEsOl06I1mn/Ywpb9mitauUls0KgtSNNiZmwuNJJabY4lsWnSJqGzrGTBZjguA5IR8wehcflhwb3d5/Twj7ute8698ryX+/1sd5z7vIy95+zLec95z3uvyx9AAJMsTn4CTCoED1QgeKACwQMVCB6oQPBABYIHKhA8UIHggQoED1QgeKACwQMVCB6oQPBABYIHKhA8UIHggQoED1QgeKACwQMVCB6oQPBABYIHKhA8UIHggQoED1QgeKAC351iw+ilv6ijq4cqqr6k8fFx2r29WFrALpzxQuAdGqGsvJcoeckTVFN7kPZ/0xQInk9awQkELwQzrp1Ojfsqqbe5ngo2rKXpV18lLeAUggcqEDxQgeCBCgQPVCB4oMKo4PGU4paP9tLWyhqpwFRlVPB+OdlOZTuqyefDHFm4eJ6x7+x5+mJ/A92xfC193XBEWsxgTPBGRi9RydZddOHPQamAU/kFpXR9WjYVlVVSQ9NxOtXRLS3mMCZ4dYeaaM7sWfIuPC2/eujJ59+goeERqUQP7jP3nffBqeqKN8nraaQ97xdT6ny3VM1iRPC6e/qo70w/rcrOkEp4xsbG6e+xscA1oxQi6Fz/BevszGdm/hlp3GfuO+/DVKYePD7AtQcOU96abHK5pGggHr5cSem0MGddIHwDgTP0EbomOdOqmXb9FA3Ug3f0pxaa706K2DB7pfDw5e89HvT16IqH5LcgVKrB6x+4SC2BO9nVOUulArFCLXg8Z8fD1eqcZZQQHy9ViBVqwWtt67CWF902b45UIJaoBI8XVjY0/Ui5j2RKxb6z5wcodVmedXF/+euBVfnWYs3rUrOCtr9YWC5/RQ/3IVjfuM/cd96HYO28z7zv0U5l6bs1m54yjxYuSJHKv/ju8LH1m6i8aCNt3vi0VO070XqK3v6gimp2vGUt4nTi8LETsuXMwxmLZMse/qd86uUSKn71WVp0T5pUnXt356dU+M5OqvvkPaNugiY9eHxg1+S/Rt993yyV/+ZOupl+qK+i2bNmSiU0kQhe6baPrUd4Tjx47wIqemW9vLMnVoLHF/nGqDvU5KfExf7yD6ul4szPLW3+3Gc2+Qe9w1KJHtxn7jvvQyTwseRjysfWJOrzeBCbjAker6bwdPVY23zxzI+NIDz83Pdke6e1zY8kTfpknHrwJj46GO9eQq+XVli17bs+p2lzl1p1bgd7+LqO74BnpGTR3n0HrNoLm8usY8x1Ix7xyZA7pQRuCvx5zxX6vUNX7hrP5/P5C0q2RfzaifvMfed9mMrwTQIO8TzkynUF9NXuLXhW6wBuLhzgZ8yf1R6kuDiDl9MYDsGziQeI+m+P0uMrl9O0hASpgl0Ink28Mvj25Ll0S+JNUgEnEDwbLg56qc3TTen33SkVcArBCxEPsY3HmmlF5mJymbxUOkogeCFq7zxNt7oTaeaNN0gFwoHghYAnsbtO/053pyVLBcKF4IWgtc1D6fffhSE2gjCB/D/OnPuDMnI3UOdvvVIJLtw1hLEGwXNoYtGqcevcogSGWocmPsw9NDxq3fGCPTjj2TRxprscznz2IHigAkMtqEDwQAWCByoQPFCB4IEKBA9UIHigAsEDFQgeqEDwQAWCByoQPFBA9A9BKn2mL+miuAAAAABJRU5ErkJggg==)\n",
        "\n",
        "**ya que interpreta la operacion como tres terminos independientes.**\n",
        "\n",
        "\n",
        "\n",
        "> `Primer termino (4)`\n",
        "\n",
        ">`Segundo termino (1/4)`\n",
        "\n",
        ">`Tercer termino (1)`\n",
        "\n",
        "Para conseguir el resultado que buscamos solo necesitamos dos terminos, el numerador de `4+1` y el denominador de `4+1`, y para eso debemos agrupar nuestros terminos con parentesis `()`\n",
        "\n",
        "\n",
        "\n",
        "```\n",
        "--- (4+1)/(4+1)\n",
        "\n",
        "Primer termino ➡ (4+1)\n",
        "\n",
        "Segundo termino ➡ (4+1)\n",
        "```\n",
        "\n",
        "\n",
        "\n"
      ],
      "metadata": {
        "id": "NKN8-iz5slbx"
      }
    },
    {
      "cell_type": "code",
      "source": [
        "print( (4+1) / (4+1) )"
      ],
      "metadata": {
        "colab": {
          "base_uri": "https://localhost:8080/"
        },
        "id": "H8TFIzfNvOOW",
        "outputId": "2095f588-ac36-4dc2-ce23-1adeb150e7c7"
      },
      "execution_count": null,
      "outputs": [
        {
          "output_type": "stream",
          "name": "stdout",
          "text": [
            "1.0\n"
          ]
        }
      ]
    },
    {
      "cell_type": "markdown",
      "source": [
        "**De esta manera conseguimos el resultado de la operacion que buscabamos :**\n",
        "\n",
        "![image.png](data:image/png;base64,iVBORw0KGgoAAAANSUhEUgAAAF0AAAA6CAYAAADSgFUhAAAAAXNSR0IArs4c6QAAAARnQU1BAACxjwv8YQUAAAAJcEhZcwAADsMAAA7DAcdvqGQAAALlSURBVHhe7Zp/SFNRFMe/G1lZSQll1kr/GAhRIPRD6YehZP8EEcSoICiQDCJCCgqpf4rIIqKgiCjCICRCJDErSgtq+0NW5MCK+qMIAifqatMZurZlu28XYm6DKbvnbux84LJ3zt1j7MPj3HffO6bJCGBIMctPhhCWrgGWrgGWrgGWrgGWrgGWrgGWrgGWrgGWrgFy6d32tzh86qKM6JkI/MHHL99Qf7IJdSfOyywtpNKHPF4cP3sNgcgfp2bs9ziqbUdg3bgbLY+eo+OFHeHwXzlLC5l08VztYUcXfnlHZWZm3G5px9U7D2SUOgvm5+N12y309z5Bw6G9yJ87R87QQybd6fqEFcuKUGYtkZmZ4RvxIxgMySg7IZE+4h/D9x9u1FZVyExuo1y6KCuvHO+wbcsGmM2kS0jGotxC3+evWLl8KYoWF8oMo1S6uGMYGPRgffkqmWEESqX3vP+AyrVrYDKZZCZ1OrsdMFkq40Zj001jJJq70dwqz85slEkXC6eleAkKFxbIzPTYub0Kk/3OuHHp9FFjJJo7VrdHnp3ZKJN+4fo9rK7ZF3MlFpRV401PL+63PTNisVkRJSjXUCb97pUzcVei2/UUJZZiHLDtMGKxWRGbllxDaU2fitjUhEJh4/lHMKRvgzP804fxiQB8o37jkxoS6QNDHpRW7DKGe3AYrZ0vMbt0Mw42nJPfSJ1FkTUiL2+WjKaH+D1R1spr90fEe/G4y4F51q1GTizcVHCzkQZIywsThaVrgKVrgKVrIK0LqXgTY3e6ZJT91GxaJ4/SS9ql2+obZZT9tDdflkfphW8ZNcA1XQMsXQMsXQPk0rnZiFg6NxtFIZMubpK42SgKmXRuNvoPiXRuNopFuXRRVrjZKBblFrjZKB6l0rnZKDFKpXOzUWKUSedmo+Qok87NRslRJp2bjZKjtKZPhZuNopBI52ajWPjNkQZIywsThaVrgKVrgKVrgKVrgKVrgKWTA/wDA5O8tgdNP7sAAAAASUVORK5CYII=)"
      ],
      "metadata": {
        "id": "JhbcbaVVvUd3"
      }
    },
    {
      "cell_type": "markdown",
      "source": [
        "**Pero si por ejemplo hubiera agrupado de la siguiente forma :**\n",
        "\n",
        "\n",
        "\n",
        "```\n",
        "--- (4+1)/4+1\n",
        "```\n",
        "\n",
        "**Esto hubiera tomado tres terminos y el resultado seguiria sin ser el esperado.**\n",
        "\n",
        "\n",
        "\n",
        "```\n",
        "> `Primer termino (4+1)`\n",
        "\n",
        ">`Segundo termino (4)`\n",
        "\n",
        "> Tercer termino (1)\n",
        "```\n",
        "\n",
        "![image.png](data:image/png;base64,iVBORw0KGgoAAAANSUhEUgAAAKQAAABJCAYAAACzb40dAAAAAXNSR0IArs4c6QAAAARnQU1BAACxjwv8YQUAAAAJcEhZcwAADsMAAA7DAcdvqGQAAAbGSURBVHhe7d0NTJR1HAfwH4oKnPiG7+T5MnVGJaQgSAhU6sL5kvNtzkjd0rBWy3BJtZVZS12+NXM6ys23sqWuYSi+lSIuXiRFppjJfCNQ8AQEEe54uZ7fv/+ViAd3J3f87nl+n+0ZPj/E3e6+/N+f6WFWAGNEtJNfGSOBA8lI4UAyUjiQjBQOJCOFA8lI4UAyUjiQjBQOJCOFA8lI4UAyUjiQjBQOJCOFA8lI4UAyUjiQjBQOJCOFZCCra4ywduv3UHj7jqyow9HUTDhwNA34kL515AJZW1cHK9Z9C5FhQeDft5esqsOEyDFw9UYh/JxyUlbYo0gFEluODYl7wKtTRwgJDJBV9fDw8IDYmTHw3Z4DkJVzUVbZw0gFMisnD3bvT4EFsyeLD0+N/Lp3hddnToLlX3wD96uqZZVZkAkkdtXrlHFjZNjzMGhAP1lVp3GhQXCzqBiSj5+WFWZBJpC5eflw+GQ6TIwKs6t1xAlQ7Lsr4I/cP2XFtXCYUWIogx+TjkHIpAU2vY7+fXpC2KhnYftPyeL1s/+RCWRqxlno4OkJwwYPkBXb7Nh7EJKOpMo71/rlWBp46sNh4dKVkPLb75D31zX5nebhLxz2BGeUIcr1gluyyhCJQGIrgy1L395+0Muvm6y2DGesh0+kQ319g6zY73haFixJWCPv7DNlwjioL0iHg7s2QMDwwbJqG33/PlBaXgH51wtkhSESgax6UCPWHHv5dVdm2J1ktXk45jyktEqzp4yXFcdgl/mgukbeuU7vnj3Ax9vL5lZVK0gEsrKqCq7dLBLrjjofL1lt3qmMc8p4MxR8O/vIinvp3tUXuvjqVLf4/6TIjCGRZ/v2Nk1obvx9G4ymWhg+RC8r7sfbuxN07NAB7lXclxWGSAXSFthVZ567AC+Gj5YVpiakAllXX9/iPi9OfsaOfg68vWwba1JVXW0EU20tdO3SWVYYIhFIX50OBuv7i/EUTnCswe83NDTAAGWGai8Msm5oFHj4hza6pi5YBjv3HWpSxysuYbX86dZXdq8SKiqrSO/X1xhNcOVagThbEDh+HtwqMcjvOA+JQOJEBj+YO3fLlDfh8QvF2HLijDQkyLE97tEjR0BVfiqYCzMbXQe2rxVbeY/W8dq6OkH+dOsrMZSK2b29y0WugMEbFDoNRkTOgl37UiDpyCkod9FYl0QgcSKDgbldclcJZbmsNpZ7KR9mLFoOHQe+0KgVwxYOP9jgmPniHher3QFuHfbo1gWGDrJvI8AW5/OuwKzFHyq9jWN75f1694TrmUni+uCtWJcOK8iMIaPCRokJC3YRjxMYMAwqLp9o0oqt/uhtsZ6XnbJD3ONiNXXY2uOyFbb2zti3r6urF+9lC8NxksgEcmTAUHgleiwcTc1ocWJjgX8PJwb41dHWoDXgh4/72fhacPelJUXFBsg4e0GcanL3yVlrIxNI3MeOj5snWg5b9nfXbN4J7Z4Kg0++ShS7LVEz4sSkxd5DFhgIbGEdYZko4TBifeIPomWaOPcdMXSInrnE6vGytMwcsXU4eXyErLD/KK0LGcoM2qwEzbxq03bxZzUylJabY157z5x57oKstL7s85fM0xYuM1fefyArjsN/Q/llN+tDppqLiu/IqvOQaSERTm6WLp4rlkTOnM+TVfVQ3m8xa31j7lQYE/SMrLKHkQokwq57RfwipevOUd0+77FTWTBkoD9Mj4mWFfYo/n9q3BROoiJeXWR1VaI5b8ZOt3mNFcfBk+e/Lw6/ZCRvE0tCzuTyQOLZxS0798s7Zs0QvT9Mejlc3tkHJ1ufb9wGuzethM46b1l1jCYC+enaRHnHrAkPHsmBZOrgzoEkN6lh2saBZM0qKCoWF24+WDtn0Jo4kNLFy1dhTtzHVndXtATfA9xpwh2ngOg54mE6PImFR9CwNnDMNKcdReNAKvC3P+HLzVBsKJUV9+bp2V6s59rxeHsjOO48uW9Lk4MslutGVpLTxpIcSMWvp89A3hX1PP2HJ6P2Jq4Cnc+TTWjaguYDid0RntyOCAmUFdaWNB1IPDaGx8B4K48OTQcSj7oFBz7NZxIJ0WwgcSkDzy+687PdaqTJQGIQ8bmTlyKCZYVRoclAZudeEjNRXBphtGgukIbScsCDwI48282cT3OHK/DZl/jPvpZ3j6f37+uSgwSsKT7to7CcaEHJO9Y/8QkZ5jhNL/tY4HqkyVQLRqMJjCaTrLK2oOkW0tIypqaflZV/RY0dxS1lG+Eum5HCXTYjhQPJSOFAMlI4kIwUDiQjhQPJSOFAMlI4kIwUDiQjhQPJSOFAMlI4kIwQgH8AhqJNqD+zwhUAAAAASUVORK5CYII=)\n",
        "\n",
        "\n"
      ],
      "metadata": {
        "id": "cgUX49jmvnun"
      }
    },
    {
      "cell_type": "markdown",
      "source": [
        "**Esto sucede por que los programas interpretan cada numero como un termino completamente independiente al resto, por eso es importante agruparlos para que el programa lea un conjunto de numeros como un termino unico y podamos obtener las operaciones que deseamos.**\n",
        "\n",
        "\n",
        "---\n",
        "\n",
        "\n",
        "*Ejemplo-1 :*\n",
        "\n",
        "\n",
        "\n",
        "```\n",
        "Operacion = 5 + 5 + 2\n",
        "\n",
        "```\n",
        "**El ejemplo anterior posee 3 terminos.**\n",
        "\n",
        "\n",
        "```\n",
        "- Primer termino : 5\n",
        "- Segundo termino 5\n",
        "- Tercer termino : 2\n",
        "```\n",
        "\n",
        "\n",
        "---\n",
        "\n",
        "\n",
        "*Ejemplo-2 :*\n",
        "\n",
        "\n",
        "\n",
        "```\n",
        "Operacion = (10 + 2) + 2\n",
        "```\n",
        "**El ejemplo anterior posee 2 terminos :**\n",
        "\n",
        "\n",
        "```\n",
        "- Primer termino : (10 + 2)\n",
        "- Segundo termino : 2\n",
        "```\n",
        "\n",
        "\n",
        "---\n",
        "\n",
        "\n",
        "*Ejemplo-3 :*\n",
        "\n",
        "```\n",
        "Operacion = (5 + 2) + (2 + 1)\n",
        "```\n",
        "**El ejemplo anterior posee 2 terminos :**\n",
        "\n",
        "\n",
        "```\n",
        "- Primer termino : (5 + 2)\n",
        "- Segundo termino : (2 + 1)\n",
        "```\n",
        "\n",
        "\n",
        "---\n",
        "\n",
        "Sabiendo esto y tambien conociendo que la operacion de division toma solo el primer termino que esta de su lado izquierdo y el primero que esta de su lado derecho se puede conseguir la operacion que deseemos.\n",
        "\n",
        "\n",
        "\n",
        "---\n",
        "\n",
        "*Ejemplo-1 :*\n",
        "\n",
        "\n",
        "\n",
        "```\n",
        "Operacion = 2 / 5\n",
        "```\n",
        "\n",
        "En este caso es evidente que tomara el 2 y el 5 ya que son los unicos terminos que hay, pero por ejemplo si hubieran mas termino como en :\n",
        "\n",
        "\n",
        "\n",
        "```\n",
        "Operacion = 2 + 7 / 3 + 1\n",
        "```\n",
        "\n",
        "Debemos tomar de referencia el simbolo del divisor `/`, el primer termino que este de su lado izquierdo sera el numerador, y el primer termino que este de su lado derecho sera su denominador, por lo que la anterior operacion seria :\n",
        "\n",
        "![image.png](data:image/png;base64,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)\n",
        "\n",
        "\n",
        "\n",
        "\n",
        "\n",
        "\n",
        "\n",
        "\n"
      ],
      "metadata": {
        "id": "QIc-OEfLOxGI"
      }
    },
    {
      "cell_type": "markdown",
      "source": [
        "**Bajo este mismo concepto podemos tener un nominador y denominador de varios numeros al agruparlos mediante un parentesis `()`**\n",
        "\n",
        "\n",
        "\n",
        "```\n",
        "Operacion = 1 + (2 * 3) / 4 - 1\n",
        "```\n",
        "\n",
        "En el anterior ejemplo podemos ver que ese `( 2 * 3 )` el codigo lo lee como un solo termino independiente por el hecho de estar entre parentesis, y si tomamos de referencia el simbolo divisor `/` el primer termino que esta a su lado izquierdo es `( 2 * 3 )` por lo que podemos llegar a la conclusion de que ese es el numerador, Y el denominador seria el primer termino que encontramos a su derecha, que es 4, Con eso conseguimos la siguiente operacion :\n",
        "\n",
        "![image.png](data:image/png;base64,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)\n"
      ],
      "metadata": {
        "id": "VwQdfSeYVml2"
      }
    },
    {
      "cell_type": "markdown",
      "source": [
        "#**Preguntas de agrupacion.**"
      ],
      "metadata": {
        "id": "_jm5iG20YiK3"
      }
    },
    {
      "cell_type": "markdown",
      "source": [
        "\n",
        "\n",
        "---\n",
        "\n",
        "\n",
        "**En la siguiente operacion.**\n",
        "\n",
        "1.   `Cuantos terminos tiene?`\n",
        "2.    `Cual es el numerador y el denominador de la fraccion?`\n",
        "\n"
      ],
      "metadata": {
        "id": "Pyl9LXSkYtZ9"
      }
    },
    {
      "cell_type": "code",
      "source": [
        "Operacion = 10 + 5 / 2 * 2"
      ],
      "metadata": {
        "colab": {
          "base_uri": "https://localhost:8080/"
        },
        "id": "zQQMibUVwJ1I",
        "outputId": "6b7819fe-9f3c-4600-bde8-fd04b008be57"
      },
      "execution_count": null,
      "outputs": [
        {
          "output_type": "stream",
          "name": "stdout",
          "text": [
            "2.25\n"
          ]
        }
      ]
    },
    {
      "cell_type": "markdown",
      "source": [
        "\n",
        "\n",
        "---\n",
        "\n",
        "\n",
        "**En la siguiente operacion.**\n",
        "\n",
        "1.   `Cuantos terminos tiene?`\n",
        "2.    `Cual es el numerador y el denominador de la fraccion?`\n",
        "\n"
      ],
      "metadata": {
        "id": "tN-qusViZMTg"
      }
    },
    {
      "cell_type": "code",
      "source": [
        "Operacion = 10 + 5 / (2 * 2)"
      ],
      "metadata": {
        "id": "Xf26EzhSZQqd"
      },
      "execution_count": null,
      "outputs": []
    },
    {
      "cell_type": "markdown",
      "source": [
        "\n",
        "\n",
        "---\n",
        "\n",
        "\n",
        "**En la siguiente operacion.**\n",
        "\n",
        "1.   `Cuantos terminos tiene?`\n",
        "2.    `Cual es el numerador y el denominador de la fraccion?`\n",
        "\n",
        "\n"
      ],
      "metadata": {
        "id": "EVxmV15fsjGR"
      }
    },
    {
      "cell_type": "code",
      "source": [
        "Operacion = (10 + 5) / (2 * 2)"
      ],
      "metadata": {
        "id": "9QI9SUmKZU1c"
      },
      "execution_count": null,
      "outputs": []
    },
    {
      "cell_type": "markdown",
      "source": [
        "\n",
        "\n",
        "---\n",
        "\n",
        "\n",
        "**En la siguiente operacion.**\n",
        "\n",
        "1.   `Cuantos terminos tiene?`\n",
        "2.    `Cual es el numerador y el denominador de la fraccion?`\n",
        "\n"
      ],
      "metadata": {
        "id": "B4vBbEglZZYf"
      }
    },
    {
      "cell_type": "code",
      "source": [
        "Operacion = (10 + 5) + 4 / (2 * 2) - 4"
      ],
      "metadata": {
        "id": "YLM1svQCZdeo"
      },
      "execution_count": null,
      "outputs": []
    },
    {
      "cell_type": "markdown",
      "source": [
        "\n",
        "\n",
        "---\n",
        "\n",
        "\n",
        "**En la siguiente operacion.**\n",
        "\n",
        "1.   `Cuantos terminos tiene?`\n",
        "2.    `Cual es el numerador y el denominador de la fraccion?`\n",
        "\n"
      ],
      "metadata": {
        "id": "M6dWf50uZsJr"
      }
    },
    {
      "cell_type": "code",
      "source": [
        "Operacion = (10 + 5) + 4 / (2 * 2) - 4"
      ],
      "metadata": {
        "id": "KUCw_TY0Ztoa"
      },
      "execution_count": null,
      "outputs": []
    },
    {
      "cell_type": "markdown",
      "source": [
        "\n",
        "\n",
        "---\n",
        "\n",
        "\n",
        "**En la siguiente operacion.**\n",
        "\n",
        "1.   `Cuantos terminos tiene?`\n",
        "2.    `Cual es el numerador y el denominador de la fraccion?`\n",
        "\n"
      ],
      "metadata": {
        "id": "MN3Avnt-Z8PU"
      }
    },
    {
      "cell_type": "code",
      "source": [
        "Operacion = (10 + 5) + 4 / 2 - (2 * 2) - (5 + 1) - 1"
      ],
      "metadata": {
        "id": "wscef6BRZ-Co"
      },
      "execution_count": null,
      "outputs": []
    },
    {
      "cell_type": "markdown",
      "source": [
        "# **Estos mismo fundamentos se aplican en la operacion de exponenciacion, para elevar un numero a una potencia que tenga mas de un termino necesitas que el exponente del numero este agrupado mediante un parentesis `()`**\n",
        "\n",
        "\n",
        "---\n",
        "\n",
        "\n",
        "***Ejemplo :***"
      ],
      "metadata": {
        "id": "riAYwLY0mWjM"
      }
    },
    {
      "cell_type": "markdown",
      "source": [
        "**Si queremos realizar la siguiente operacion :**\n",
        "\n",
        "![image.png](data:image/png;base64,iVBORw0KGgoAAAANSUhEUgAAAH4AAABBCAYAAAAXDxDwAAAAAXNSR0IArs4c6QAAAARnQU1BAACxjwv8YQUAAAAJcEhZcwAADsMAAA7DAcdvqGQAAAWvSURBVHhe7Z1dTBRHAMf/NGIAJR6xIYCEiFao1WAoAVMSBC9GQwhq2zfNkbSUwgPFhz5gmhYS9EGBPtBqY+zRhxKb+GArEA8JHyGESCQo5UP5aoAIcgiaO3IKFzjY7gxTbfGkt3dg7mbml2z29r93x7G/ndmZ2eHwU1QgEY532FoiGFK8oEjxgiLFC4oULyhSvKBI8YIixQuKFC8oUrygSPGCIsULihQvKFK8oEjxgiLFC4oULyhci19cXERFRQW6u7tZ4ru8ePEC586dw9TUFEs8g1vxZEbZpUuXEBERgQMHDrDUd9myZQsMBgOKioowOzvLUvfhVnxtbS26urpw8uRJlvg+O3fuxKFDh1BYWEhrM0/gUvzExATOnz+PnJwc+Pv7s5QP0tPT8fDhQ9TV1bHEPbgUbzQaERQUhPj4eJbww/bt25GRkUFP7GfPnrFUO9yJf/LkCa5fv05LxtatW1nKF0eOHMHAwAAaGhpYoh3uxN+9exdDQ0NISEhgyZuxWq24ffs2jh49irKyMpa+Pex2O/r6+lBQUEBL8fPnz9metdm1axdiY2NRXV0Nh8PBUm1wJ76xsRGhoaH04LyJe/fuYdu2bbRW6O3tRVtbG5aXl9nejYcITktLw+7du6m89vZ22l1zFZ1Oh5iYGHR0dLhd3XMlnhzQnp4eREZGIiQkhKWvQ2oD0iUiB1yv18PPz4/tcQ9SW2hpbJFLUEtLCx4/fowzZ87QrpoWyOfdt28fzGYzHj16xFJtcCXeZrNhdHSUlubNmzezdOMhtYW7Va67kEbe/Py82wM6XIkn12xS6nfs2KG5FPkaZGCKMDw8TNda4Ur83NwcbTCJhLsDOdw17iSuIcULClfiyWhdQEAA21pfyGXk2LFjtEW9ejl79iyOHz/udF9eXh57h43B3SFprsST/i3pKpFukpZ+sSuQk6q+vp7e9Vu9XLhwATU1NU73Xblyhb3D+jI5OUnXe/bsoWutcCU+ODgY0dHRtI++sLDAUj4hAzeBgYEICwtjiTa4Ek9Ke1xcHL07Z7FYWMofpCZ58OABwsPDERUVxVJtcNe4IzcwpqenMTIywhL+IOMV5H5EUlISHchxB68Wb//rd3yRGPKyoRQY/iFO/9gO6xqDZAcPHqTj2GQ8/v9YWlqizyMNt5mZGbr9tiEnKLm/Ti5P5HO4AnnN4OAgTpw4gU2bNrFUI2q14ZVYarKV+PRypWl8fiWYNytN331EvqFLQVi2csuyEjujuLhYSU1NVWw2G0v+i9owUtQqcuW9Vi1qI07p7Oxkz3SN0tJSxWQysS3XyMrKcvrzyaI2FtmznEP2qye4opZ8lmjHO8XbrinZhhuKM7d3vtKtHKCPrynslHiN8fFxJTExUWltbWUJPzx9+lRJSUlRqqurWeIeXinefFVP5QakGxUzy14yXK7spSVDrxhf2/kKcmAMBoOitu5ZwgdVVVVKbm6ux7+XV17j561murbXNeM+ffQv3tuLlQlVZljXmLeQmZlJp17dvHmTJb7P2NgY1FoMFy9e9HguoVeKD9+fDNI7DfvsNJJXolc4/rkJEw7dGjOrSGMwPz+fDnTwMq9eLe0oKSmht509xfe+0rQtH4Epl2HPvAZLzSnoWCzRho/14+0wXa2EXXcKt36V0j3Bt0q8WtpDDt/Ht7138PX7LJO4he+UeKsJp3P6US6lrwu+Id7ajPzMSmQ0NCFbSl8XvF+8vR/ff/4b9H/cwKlIlhEm+tHv2jR0iRO8W7xDlf5lJeJ/MeKTd1nG6PrpMrrYY4l2vFe8Kr3yGxOSfyiHfnXz3TGK5j+BaD7/Quqt4KWteitMWdHIqLKybSccNsLcnE0HeiTa8coSP/Xzp2tLVwnY/4GU7gHynxEJim905yTrjhQvKFK8oEjxgiLFC4oULyhSvKBI8YIixQuKFC8oUryQAH8DgCs65Sl0uMMAAAAASUVORK5CYII=)"
      ],
      "metadata": {
        "id": "GwRIGavYoqgI"
      }
    },
    {
      "cell_type": "markdown",
      "source": [
        "**El exponente debe ser `1+1` por lo que debemos agrupar ambos terminos dentro de un parentesis para conseguir `(1+1)`**\n",
        "\n",
        "De esta manera podemos elevar nuestra base de `2` a `(1+1)` para finalmente obtener :\n",
        "\n",
        "\n",
        "```\n",
        "Operacion = 2**(1+1)\n",
        "\n",
        "print(Operacion)\n",
        "```\n",
        "\n",
        "\n",
        "```\n",
        "Salida ➡ 4\n",
        "```\n",
        "\n",
        "\n",
        "---\n",
        "\n",
        "\n",
        "En este punto debe ser algo obvio pero, si el exponente lo hubieramos puesto directamente sin agruparlos, tendriamos :\n",
        "\n",
        "\n",
        "```\n",
        "Operacion = 2**1+1\n",
        "\n",
        "print(Operacion)\n",
        "```\n",
        "\n",
        "**La salida del programa seria :**\n",
        "\n",
        "```\n",
        "Salida ➡ 3\n",
        "```\n",
        " Ya que esta operacion se estaria leyendo como :\n",
        "\n",
        " ![image.png](data:image/png;base64,iVBORw0KGgoAAAANSUhEUgAAAI0AAAA5CAYAAAALBajGAAAAAXNSR0IArs4c6QAAAARnQU1BAACxjwv8YQUAAAAJcEhZcwAADsMAAA7DAcdvqGQAAANwSURBVHhe7dxPSJNxHMfxj4Gg0EEhxAcKMgoy7DDJQzvuluKhvG2kpNOTeVEQIjqK0LwUdbAtMJkeRD2ET4doeAjnScOCHRTXIdku0gMFe0Dh6Xm2nyW6wq9/xvOszwse9tvveXgQfG97/oxVWDYQCZxTj0RHxmhIjNGQGKMhMUZDYoyGxBgNiTEaEmM0JMZoSIzRkBijITFGQ2KMhsTKMpqdnR2sr69jZGQEzc3NyGQyag2dhrKLpqurC3V1dYhGo0gmk9je3lZr6LSU9ZewnIAWFxexvLwMTdPULJ0Uj2lIjNGQGKMhMUZDYoyGxBgNiTEaEmM0JMZoSMwT0Zgbcwi31KKioiK/VGvNCD1PwthVG3iNaSD7dRVzTzqgVYagq2mvcH00xtsw/ANpBOczcO54WLkMFnqrMDXgR+2lMHRDbXjA1tYW1tbWkMvlYBh/2ajkdISc6BsCGJxZgj4zh6wXw3fuPbnWj7jVc3/W+q6e7rf0sMa5Z2bhbtzKqTnH6OhoYb7I0tnZqbY6jk0rcstnRdLq6YnZ+2ty/q6gtaBmvMLV7zTZ6Rhik/ZbeGsMWTW35/bAYzQ6g/kY4vtWDg8PF96RiiwTExNqq2MyTcCrH4mnyNXR5IzC92DMdwms5Ef7XG2ELz/IwPiZH1CJuDoarcmPevux/kEI/sLUH7v2qz5PQ815NaSScHU0VXeiyNgfK5nXrahRc78tJzDnPLb3oMMpi0rG9WdPxZnQx2Mwa4JYeBM8HBSdKW9G83EIoWkfIsk4WllMyXkvGkNHqDeFyOclDF5Xc6co0Ve4gHh4uYKhLykMXSu2zl4qw0iofZQ7b0VjJNDfHkPb+w/oOYNgHIHx4qfrlrWJSFMjIuvF1tnLThQBtY9y551ozBTGuqcQmJ9F8KKac3xLIcVT7pLyRjS7djB9MfheR3HvgppTVl++wKoaU2m4Pxo7mNgjHf5nEQQOHvTuppH4BDTwOk1JuTwaA3q3H+GnQ/DXFjv4tA9OTR8a1NZeYmaTWNlwRgbS2b0Lld7g6miyrzrQNvnvO9RVTTfyV429IY2xm4Xgq7UQpvKt6OjXqtULwRtfk+DP3B+Z/Q9v6QBmVjB4WU39pxgNiXnnlJtcg9GQGKMhMUZDYoyGxBgNiTEaEmM0JMZoSIzRkBijITFGQ0LALziVF4/y9jzIAAAAAElFTkSuQmCC)\n"
      ],
      "metadata": {
        "id": "ELvSh4vqpnya"
      }
    },
    {
      "cell_type": "markdown",
      "source": [
        "# **Preguntas de agrupacion con exponentes.**\n",
        "\n",
        "\n",
        "---\n",
        "\n",
        "**En la siguiente operacion.**\n",
        "\n",
        "1.   `Cuantos terminos tiene?`\n",
        "2.    `Cual es el exponente?`\n",
        "\n"
      ],
      "metadata": {
        "id": "mTK_8IJ5rTGl"
      }
    },
    {
      "cell_type": "code",
      "source": [
        "operacion = 2 + 2**2 * 2"
      ],
      "metadata": {
        "id": "XtAhZllztKPz"
      },
      "execution_count": null,
      "outputs": []
    },
    {
      "cell_type": "markdown",
      "source": [
        "---\n",
        "\n",
        "**En la siguiente operacion.**\n",
        "\n",
        "1.   `Cuantos terminos tiene?`\n",
        "2.    `Cual es el exponente?`\n",
        "\n"
      ],
      "metadata": {
        "id": "B3Ol9y_jtPuJ"
      }
    },
    {
      "cell_type": "code",
      "source": [
        "operacion = 2 + 2**(3*2) * 2"
      ],
      "metadata": {
        "id": "dJSDlOdEtRu3"
      },
      "execution_count": null,
      "outputs": []
    },
    {
      "cell_type": "markdown",
      "source": [
        "---\n",
        "\n",
        "**En la siguiente operacion.**\n",
        "\n",
        "1.   `Cuantos terminos tiene?`\n",
        "2.    `Cual es el exponente?`\n",
        "\n"
      ],
      "metadata": {
        "id": "Wifqdmbvtb-T"
      }
    },
    {
      "cell_type": "code",
      "source": [
        "operacion = (3*1-1) + 2**3 - (2+1)"
      ],
      "metadata": {
        "id": "07vY2eY0teFA"
      },
      "execution_count": null,
      "outputs": []
    },
    {
      "cell_type": "markdown",
      "source": [
        "#**Algunos casos adicionales.**"
      ],
      "metadata": {
        "id": "9Fd6opOxt1c8"
      }
    },
    {
      "cell_type": "markdown",
      "source": [
        "**¿ Sabes cual sera la salida del siguiente codigo ?**"
      ],
      "metadata": {
        "id": "d05Bss6et9E8"
      }
    },
    {
      "cell_type": "code",
      "source": [
        "a = \"Texto\"\n",
        "\n",
        "b= 4\n",
        "\n",
        "print(a * 4 + 1)"
      ],
      "metadata": {
        "colab": {
          "base_uri": "https://localhost:8080/",
          "height": 182
        },
        "id": "56z_xDLjt6-r",
        "outputId": "b3968b60-40a5-441c-a036-c40986ffc8b0"
      },
      "execution_count": null,
      "outputs": [
        {
          "output_type": "error",
          "ename": "TypeError",
          "evalue": "can only concatenate str (not \"int\") to str",
          "traceback": [
            "\u001b[0;31m---------------------------------------------------------------------------\u001b[0m",
            "\u001b[0;31mTypeError\u001b[0m                                 Traceback (most recent call last)",
            "\u001b[0;32m<ipython-input-3-21a5497e04f9>\u001b[0m in \u001b[0;36m<cell line: 5>\u001b[0;34m()\u001b[0m\n\u001b[1;32m      3\u001b[0m \u001b[0mb\u001b[0m\u001b[0;34m=\u001b[0m \u001b[0;36m4\u001b[0m\u001b[0;34m\u001b[0m\u001b[0;34m\u001b[0m\u001b[0m\n\u001b[1;32m      4\u001b[0m \u001b[0;34m\u001b[0m\u001b[0m\n\u001b[0;32m----> 5\u001b[0;31m \u001b[0mprint\u001b[0m\u001b[0;34m(\u001b[0m\u001b[0ma\u001b[0m \u001b[0;34m*\u001b[0m \u001b[0;36m4\u001b[0m \u001b[0;34m+\u001b[0m \u001b[0;36m1\u001b[0m\u001b[0;34m)\u001b[0m\u001b[0;34m\u001b[0m\u001b[0;34m\u001b[0m\u001b[0m\n\u001b[0m",
            "\u001b[0;31mTypeError\u001b[0m: can only concatenate str (not \"int\") to str"
          ]
        }
      ]
    },
    {
      "cell_type": "code",
      "source": [
        "a = \"Texto\"\n",
        "\n",
        "b= 4\n",
        "\n",
        "print(a * (4+1))"
      ],
      "metadata": {
        "colab": {
          "base_uri": "https://localhost:8080/"
        },
        "id": "9WL4vMEwumCS",
        "outputId": "e14bd4de-c445-4298-ed18-5ceee15da78c"
      },
      "execution_count": null,
      "outputs": [
        {
          "output_type": "stream",
          "name": "stdout",
          "text": [
            "TextoTextoTextoTextoTexto\n"
          ]
        }
      ]
    },
    {
      "cell_type": "markdown",
      "source": [
        "**Viendo que el primer codigo da un error y el segundo se ejecuta correctamente, trata de explicar el motivo por el que pasa eso, recordando todo lo anteriormente visto.**"
      ],
      "metadata": {
        "id": "OzTKZl2xutoD"
      }
    },
    {
      "cell_type": "markdown",
      "source": [
        "\n",
        "\n",
        "---\n",
        "**Aplicando el mismo razonamiento para la solucion del anterior problema, como solucionarias el error del siguiente codigo?**\n",
        "\n",
        "\n",
        "\n",
        "> *Solo se puede aplicar un par de parentesis* `()`\n",
        "\n"
      ],
      "metadata": {
        "id": "RJGi9TlQvCJW"
      }
    },
    {
      "cell_type": "code",
      "source": [
        "a = \"Texto\"\n",
        "\n",
        "b= 4\n",
        "\n",
        "print(a * 2**2 + 1 )"
      ],
      "metadata": {
        "colab": {
          "base_uri": "https://localhost:8080/"
        },
        "id": "0GtCj70nvMTf",
        "outputId": "9eacd02b-762e-40a7-90ab-a5f4d9271750"
      },
      "execution_count": null,
      "outputs": [
        {
          "output_type": "stream",
          "name": "stdout",
          "text": [
            "TextoTextoTextoTextoTexto\n"
          ]
        }
      ]
    },
    {
      "cell_type": "markdown",
      "source": [
        "#**Problemas asociados a la agrupacion de terminos.**"
      ],
      "metadata": {
        "id": "psoGcWM0aE_d"
      }
    }
  ]
}