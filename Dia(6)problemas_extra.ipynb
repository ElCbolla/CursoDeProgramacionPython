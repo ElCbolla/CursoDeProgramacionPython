{
  "nbformat": 4,
  "nbformat_minor": 0,
  "metadata": {
    "colab": {
      "provenance": [],
      "authorship_tag": "ABX9TyPxdVJvBVLf2sYTPVYZXSOX",
      "include_colab_link": true
    },
    "kernelspec": {
      "name": "python3",
      "display_name": "Python 3"
    },
    "language_info": {
      "name": "python"
    }
  },
  "cells": [
    {
      "cell_type": "markdown",
      "metadata": {
        "id": "view-in-github",
        "colab_type": "text"
      },
      "source": [
        "<a href=\"https://colab.research.google.com/github/ElCbolla/CursoDeProgramacionPython/blob/main/Dia(6)problemas_extra.ipynb\" target=\"_parent\"><img src=\"https://colab.research.google.com/assets/colab-badge.svg\" alt=\"Open In Colab\"/></a>"
      ]
    },
    {
      "cell_type": "markdown",
      "source": [
        "# **Programa-1**\n",
        "\n",
        "Crea un programa donde:\n",
        "\n",
        "1. Se definan cuatro variables: `A`, `B`, `Texto1` y `Texto2`.  \n",
        "    - `A` debe ser igual a `20` y `B` debe ser igual a `5`.  \n",
        "    - `Texto1` debe ser igual a `\"Hola\"` y `Texto2` debe ser igual a `\"Mundo\"`.  \n",
        "\n",
        "2. Realiza las siguientes operaciones logicas y matematicas:  \n",
        "   - Verifica si `A` es mayor que `B` y si `B` es menor o igual a `10`.  \n",
        "   - Usa un operador de asignacion (`+=`) para sumar `B` a `A`.  \n",
        "   - Usa un operador de asignacion (`*=`) para multiplicar el valor de `A` por `2`.  \n",
        "\n",
        "3. Concatena `Texto1` y `Texto2` usando la coma `,` y muestra los resultados usando la funcion `print()`.  \n",
        "\n"
      ],
      "metadata": {
        "id": "BDyezYqUyZld"
      }
    },
    {
      "cell_type": "code",
      "execution_count": null,
      "metadata": {
        "id": "5i8iSosByMp5"
      },
      "outputs": [],
      "source": [
        "#Programa-1\n",
        "\n",
        "\n",
        "\n",
        "\n",
        "\n",
        "\n",
        "\n"
      ]
    },
    {
      "cell_type": "markdown",
      "source": [
        "\n",
        "\n",
        "---\n",
        "\n",
        "# **Programa-2**\n",
        "\n",
        "\n",
        "Crea un programa donde:\n",
        "\n",
        "1. Se definan cinco variables: `X`, `Y`, `Z`, `Texto1` y `Texto2`.  \n",
        "    - `X` debe ser igual a `15`, `Y` debe ser igual a `3` y `Z` debe ser igual a `10`.  \n",
        "    - `Texto1` debe ser igual a `\"Resultado\"` y `Texto2` igual a `\"Final\"`.  \n",
        "\n",
        "2. Realiza las siguientes operaciones:  \n",
        "   - Verifica si `X` dividido entre `Y` es igual a `Z`.  \n",
        "   - Usa un operador de asignacion (`+=`) para restarle `Y` a `X`.  \n",
        "   - Comprueba si `Z` multiplicado por `2` es mayor que `X`.  \n",
        "\n",
        "3. Concatena `Texto1` y `Texto2` y muestra los resultados con la funcion `print()`.  \n"
      ],
      "metadata": {
        "id": "TGpW_Ji4zBWr"
      }
    },
    {
      "cell_type": "code",
      "source": [
        "#Programa-2\n",
        "\n",
        "\n",
        "\n",
        "\n",
        "\n"
      ],
      "metadata": {
        "id": "2seEmaYgz8sH"
      },
      "execution_count": null,
      "outputs": []
    },
    {
      "cell_type": "markdown",
      "source": [
        "\n",
        "\n",
        "---\n",
        "# **Programa-3**\n",
        "\n",
        "Crea un programa donde:\n",
        "\n",
        "1. Se definan cinco variables: `M`, `N`, `P`, `Texto1` y `Texto2`.  \n",
        "    - `M` debe ser igual a `30`, `N` debe ser igual a `10` y `P` debe ser igual a `5`.  \n",
        "    - `Texto1` debe ser igual a `\"Tacos\"` y `Texto2` igual a `\"Baratos\"`.  \n",
        "\n",
        "2. Realiza las siguientes operaciones logicas y matematicas:  \n",
        "   - Verifica si `M` menos `P` es mayor que `N` y si `P` es distinto de `N`.  \n",
        "   - Usa un operador de asignacion (`+=`) para sumar `P` a `N`.  \n",
        "   - Usa un operador de asignacion (`*=`) para multiplicar el valor de `N` por `3`.  \n",
        "\n",
        "3. Concatena `Texto1` y `Texto2` usando la coma `,` y muestra los resultados usando la funcion `print()`.  \n"
      ],
      "metadata": {
        "id": "MDsQUtkWzVky"
      }
    },
    {
      "cell_type": "code",
      "source": [
        "#Programa-3\n",
        "\n",
        "\n",
        "\n",
        "\n",
        "\n",
        "\n",
        "\n"
      ],
      "metadata": {
        "id": "c5XCdaI1z8IY"
      },
      "execution_count": null,
      "outputs": []
    },
    {
      "cell_type": "markdown",
      "source": [
        "\n",
        "\n",
        "---\n",
        "# **Programa-4**\n",
        "\n",
        "Crea un programa donde:\n",
        "\n",
        "1. Se definan cinco variables: `A`, `B`, `C`, `Texto1` y `Texto2`.  \n",
        "    - `A` debe ser igual a `50`, `B` debe ser igual a `25` y `C` debe ser igual a `5`.  \n",
        "    - `Texto1` debe ser igual a `\"Inicio\"` y `Texto2` igual a `\"Fin\"`.  \n",
        "\n",
        "2. Realiza las siguientes operaciones:  \n",
        "   - Verifica si `A` dividido entre `B` es igual a `2` y si `C` multiplicado por `5` es igual a `A`.  \n",
        "   - Usa un operador de asignacion (`+=`) para restarle `B` a `A`.  \n",
        "   - Usa un operador de asignacion (`*=`) para multiplicar el valor de `C` por `4`.  \n",
        "\n",
        "3. Concatena `Texto1` y `Texto2` y muestra los resultados con la funcion `print()`.  \n"
      ],
      "metadata": {
        "id": "IH18DuYe0DOb"
      }
    },
    {
      "cell_type": "code",
      "source": [
        "#Programa-4\n",
        "\n",
        "\n",
        "\n",
        "\n",
        "\n",
        "\n",
        "\n",
        "\n"
      ],
      "metadata": {
        "id": "fhK6oLlm0OwS"
      },
      "execution_count": null,
      "outputs": []
    },
    {
      "cell_type": "markdown",
      "source": [
        "\n",
        "\n",
        "---\n",
        "\n",
        "# **Problema-5**\n",
        "\n",
        "Crea un programa donde:\n",
        "\n",
        "1. Se definan cinco variables: `X`, `Y`, `Z`, `Texto1` y `Texto2`.  \n",
        "    - `X` debe ser igual a `40`, `Y` debe ser igual a `8` y `Z` debe ser igual a `4`.  \n",
        "    - `Texto1` debe ser igual a `\"Velocidad\"` y `Texto2` igual a `\"Constante\"`.  \n",
        "\n",
        "2. Realiza las siguientes operaciones logicas y matematicas:  \n",
        "   - Verifica si `X` dividido entre `Y` es igual a `Z` y si `Z` multiplicado por `2` es menor que `Y`.  \n",
        "   - Usa un operador de asignacion (`+=`) para sumar `Z` a `Y`.  \n",
        "   - Usa un operador de asignacion (`*=`) para multiplicar el valor de `Y` por `2`.  \n",
        "\n",
        "3. Concatena `Texto1` y `Texto2` y muestra los resultados usando la funcion `print()`.  \n"
      ],
      "metadata": {
        "id": "J1pDPW1X0RAc"
      }
    },
    {
      "cell_type": "code",
      "source": [
        "#Programa-5\n",
        "\n",
        "\n",
        "\n",
        "\n",
        "\n",
        "\n"
      ],
      "metadata": {
        "id": "Y-seB1Wr0fdP"
      },
      "execution_count": null,
      "outputs": []
    },
    {
      "cell_type": "markdown",
      "source": [
        "\n",
        "\n",
        "---\n",
        "# **Programa-6**\n",
        "\n",
        "Crea un programa donde:\n",
        "\n",
        "1. Se definan cinco variables: `A`, `B`, `C`, `Texto1` y `Texto2`.  \n",
        "    - `A` debe ser igual a `60`, `B` debe ser igual a `15` y `C` debe ser igual a `3`.  \n",
        "    - `Texto1` debe ser igual a `\"Operacion\"` y `Texto2` igual a `\"Completa\"`.  \n",
        "\n",
        "2. Realiza las siguientes operaciones:  \n",
        "   - Verifica si `A` menos `B` es mayor o igual a `C` multiplicado por `10`.  \n",
        "   - Usa un operador de asignacion (`+=`) para restarle `C` a `B`.  \n",
        "   - Usa un operador de asignacion (`*=`) para multiplicar el valor de `B` por `2`.  \n",
        "\n",
        "3. Concatena `Texto1` y `Texto2` usando la coma `,` y muestra los resultados con la funcion `print()`.  \n",
        "\n"
      ],
      "metadata": {
        "id": "XikrMeBu0i8L"
      }
    },
    {
      "cell_type": "code",
      "source": [
        "#Programa-6\n",
        "\n",
        "\n",
        "\n",
        "\n",
        "\n",
        "\n",
        "\n",
        "\n",
        "\n"
      ],
      "metadata": {
        "id": "ljqs47iw0rgm"
      },
      "execution_count": null,
      "outputs": []
    },
    {
      "cell_type": "markdown",
      "source": [
        "\n",
        "\n",
        "---\n",
        "# **Programa-7**\n",
        "\n",
        "\n",
        "\n",
        "Crea un programa donde:\n",
        "\n",
        "1. Se definan cinco variables: `M`, `N`, `P`, `Texto1` y `Texto2`.  \n",
        "    - `M` debe ser igual a `25`, `N` debe ser igual a `5` y `P` debe ser igual a `15`.  \n",
        "    - `Texto1` debe ser igual a `\"Dia\"` y `Texto2` igual a `\"Noche\"`.  \n",
        "\n",
        "2. Realiza las siguientes operaciones logicas y matematicas:  \n",
        "   - Verifica si `M` multiplicado por `2` es mayor que `P` y si `P` menos `N` es igual a `10`.  \n",
        "   - Usa un operador de asignacion (`+=`) para sumar `N` a `P`.  \n",
        "   - Usa un operador de asignacion (`*=`) para multiplicar el valor de `P` por `2`.  \n",
        "\n",
        "3. Concatena `Texto1` y `Texto2` y muestra los resultados usando la funcion `print()`.  \n"
      ],
      "metadata": {
        "id": "zvMxx91b0yoE"
      }
    },
    {
      "cell_type": "code",
      "source": [
        "#Programa-7\n",
        "\n",
        "\n",
        "\n",
        "\n",
        "\n",
        "\n"
      ],
      "metadata": {
        "id": "NuPK7ODx06Wp"
      },
      "execution_count": null,
      "outputs": []
    },
    {
      "cell_type": "markdown",
      "source": [
        "\n",
        "\n",
        "---\n",
        "# **Programa-8**\n",
        "\n",
        "\n",
        "Crea un programa donde:\n",
        "\n",
        "1. Se definan cinco variables: `X`, `Y`, `Z`, `Texto1` y `Texto2`.  \n",
        "    - `X` debe ser igual a `100`, `Y` debe ser igual a `20` y `Z` debe ser igual a `4`.  \n",
        "    - `Texto1` debe ser igual a `\"Suma\"` y `Texto2` igual a `\"Total\"`.  \n",
        "\n",
        "2. Realiza las siguientes operaciones:  \n",
        "   - Verifica si `X` dividido entre `Y` es igual a `5` y si `Z` multiplicado por `5` es menor o igual a `Y`.  \n",
        "   - Usa un operador de asignacion (`+=`) para restarle `Z` a `Y`.  \n",
        "   - Usa un operador de asignacion (`*=`) para multiplicar el valor de `Y` por `3`.  \n",
        "\n",
        "3. Concatena `Texto1` y `Texto2` usando la coma `,` y muestra los resultados con la funcion `print()`.  \n",
        "\n"
      ],
      "metadata": {
        "id": "48pMumye1An4"
      }
    },
    {
      "cell_type": "code",
      "source": [
        "#Programa-8\n",
        "\n",
        "\n",
        "\n",
        "\n",
        "\n",
        "\n"
      ],
      "metadata": {
        "id": "s8S0T0Gl1Kz9"
      },
      "execution_count": null,
      "outputs": []
    }
  ]
}