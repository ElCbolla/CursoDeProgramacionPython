{
  "nbformat": 4,
  "nbformat_minor": 0,
  "metadata": {
    "colab": {
      "provenance": [],
      "authorship_tag": "ABX9TyMuAhL6UHw9bP9XFFcigRjs",
      "include_colab_link": true
    },
    "kernelspec": {
      "name": "python3",
      "display_name": "Python 3"
    },
    "language_info": {
      "name": "python"
    }
  },
  "cells": [
    {
      "cell_type": "markdown",
      "metadata": {
        "id": "view-in-github",
        "colab_type": "text"
      },
      "source": [
        "<a href=\"https://colab.research.google.com/github/ElCbolla/CursoDeProgramacionPython/blob/main/(1_5)Modulo_1_Programas_Asociados_a_Impresion_de_datos.ipynb\" target=\"_parent\"><img src=\"https://colab.research.google.com/assets/colab-badge.svg\" alt=\"Open In Colab\"/></a>"
      ]
    },
    {
      "cell_type": "markdown",
      "source": [
        "\n",
        "\n",
        "---\n",
        "#**Programa-1 :**\n",
        "\n",
        "***Define tres variables :***\n",
        "1.   La primera debe ser de tipo `{int}`\n",
        "2.   La segunda debe ser de tipo `{float}`\n",
        "3.   La tercera debe ser de tipo `{Bool}`\n",
        "\n",
        "* `Finalmente imprime todas las variables mediante un print()`\n"
      ],
      "metadata": {
        "id": "zUPoTr89VAnk"
      }
    },
    {
      "cell_type": "code",
      "source": [
        "#Programa-1\n",
        "\n",
        "\n",
        "\n",
        "\n",
        "\n",
        "\n"
      ],
      "metadata": {
        "id": "LKkxHUz3U_ok"
      },
      "execution_count": null,
      "outputs": []
    },
    {
      "cell_type": "markdown",
      "source": [
        "---\n",
        "#**Programa-2 :**\n",
        "\n",
        "***Define tres variables :***\n",
        "1.   La primera debe ser de tipo `{str}`\n",
        "2.   La segunda debe ser de tipo `{int}`\n",
        "3.   La tercera debe ser de tipo `{str}`\n",
        "\n",
        "* `Finalmente imprime todas las variables mediante un print()`"
      ],
      "metadata": {
        "id": "ox6SvbfnWGbg"
      }
    },
    {
      "cell_type": "code",
      "source": [
        "#Programa-2\n",
        "\n",
        "\n",
        "\n",
        "\n",
        "\n",
        "\n",
        "\n",
        "\n"
      ],
      "metadata": {
        "id": "GHEkmowoXXNr"
      },
      "execution_count": null,
      "outputs": []
    },
    {
      "cell_type": "markdown",
      "source": [
        "---\n",
        "#**Programa-3 :**\n",
        "\n",
        "***Define cuatro variables :***\n",
        "1.   La primera debe ser de tipo `{bool}`\n",
        "2.   La segunda debe ser de tipo `{int}`\n",
        "3.   La tercera debe ser de tipo `{float}`\n",
        "4. La cuarta debe ser de tipo `{bool}`\n",
        "\n",
        "* `Finalmente imprime todas las variables mediante un print()`"
      ],
      "metadata": {
        "id": "CCzw1opAW4jh"
      }
    },
    {
      "cell_type": "code",
      "source": [
        "#Programa-3\n",
        "\n",
        "\n",
        "\n",
        "\n",
        "\n",
        "\n",
        "\n",
        "\n"
      ],
      "metadata": {
        "id": "aEkxnhRMXVk9"
      },
      "execution_count": null,
      "outputs": []
    },
    {
      "cell_type": "markdown",
      "source": [
        "---\n",
        "#**Programa-4 :**\n",
        "\n",
        "***Define cuatro variables :***\n",
        "1.   La primera debe ser de tipo `{float}`\n",
        "2.   La segunda debe ser de tipo `{int}`\n",
        "3.   La tercera debe ser de tipo `{str}`\n",
        "4. La cuarta debe ser de tipo `{str}`\n",
        "\n",
        "* `Finalmente imprime todas las variables mediante un print()`"
      ],
      "metadata": {
        "id": "-qqUN5EmXWgC"
      }
    },
    {
      "cell_type": "code",
      "source": [
        "#Programa-4\n",
        "\n",
        "\n",
        "\n",
        "\n",
        "\n",
        "\n",
        "\n"
      ],
      "metadata": {
        "id": "73IAi6HeXurC"
      },
      "execution_count": null,
      "outputs": []
    },
    {
      "cell_type": "markdown",
      "source": [
        "---\n",
        "#**Programa-5 :**\n",
        "\n",
        "***Define cinco variables :***\n",
        "1.   La primera debe ser de tipo `{int}`\n",
        "2.   La segunda debe ser de tipo `{float}`\n",
        "3.   La tercera debe ser de tipo `{str}`\n",
        "4. La cuarta debe ser de tipo `{int}`\n",
        "5. La quinta debe ser de tipo `{bool}`\n",
        "\n",
        "* `Finalmente imprime todas las variables mediante un print()`"
      ],
      "metadata": {
        "id": "6ufS87GZX-Hm"
      }
    },
    {
      "cell_type": "code",
      "source": [
        "#Programa-5\n",
        "\n",
        "\n",
        "\n",
        "\n",
        "\n",
        "\n",
        "\n",
        "\n",
        "\n"
      ],
      "metadata": {
        "id": "jaXaGnR9YH31"
      },
      "execution_count": null,
      "outputs": []
    }
  ]
}
