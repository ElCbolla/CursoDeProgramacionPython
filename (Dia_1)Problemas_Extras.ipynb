{
  "nbformat": 4,
  "nbformat_minor": 0,
  "metadata": {
    "colab": {
      "provenance": [],
      "authorship_tag": "ABX9TyPQXj+dL1lMbH7VKp2pwrVE",
      "include_colab_link": true
    },
    "kernelspec": {
      "name": "python3",
      "display_name": "Python 3"
    },
    "language_info": {
      "name": "python"
    }
  },
  "cells": [
    {
      "cell_type": "markdown",
      "metadata": {
        "id": "view-in-github",
        "colab_type": "text"
      },
      "source": [
        "<a href=\"https://colab.research.google.com/github/ElCbolla/CursoDeProgramacionPython/blob/main/(Dia_1)Problemas_Extras.ipynb\" target=\"_parent\"><img src=\"https://colab.research.google.com/assets/colab-badge.svg\" alt=\"Open In Colab\"/></a>"
      ]
    },
    {
      "cell_type": "markdown",
      "source": [
        "#**Problemas dia 1**"
      ],
      "metadata": {
        "id": "ocnI_wvhkbso"
      }
    },
    {
      "cell_type": "markdown",
      "source": [
        "#**Problema-1 > Datos de una mascota**\n",
        "\n",
        "**Define las siguientes variables :**\n",
        "1. Nombre de la mascota (dato tipo str)\n",
        "2. Raza de la mascota (dato tipo str)\n",
        "3. Edad de la mascota (dato tipo int)\n",
        "4. Peso de la mascota (dato tipo float)\n",
        "\n"
      ],
      "metadata": {
        "id": "jVF5g5iQwLNg"
      }
    },
    {
      "cell_type": "code",
      "execution_count": null,
      "metadata": {
        "id": "nmKFlg-3iXkB"
      },
      "outputs": [],
      "source": [
        "#Programa-1\n",
        "\n",
        "\n",
        "\n",
        "\n",
        "\n"
      ]
    },
    {
      "cell_type": "markdown",
      "source": [
        "#**Problema-2 > Datos de un coche.**\n"
      ],
      "metadata": {
        "id": "aIKIm_tPyqUN"
      }
    },
    {
      "cell_type": "markdown",
      "source": [
        "**Define las siguientes variables y decide el tipo de dato bajo tu criterio. :**\n",
        "1. Marca del vehiculo\n",
        "2. Modelo del vehiculo\n",
        "3. Año de fabricacion\n",
        "4. Precio del vehiculo\n",
        "5. ¿Es electrico?\n",
        "6. Numero de puertas"
      ],
      "metadata": {
        "id": "x9wDkiQ7y0qO"
      }
    },
    {
      "cell_type": "code",
      "source": [
        "#Programa-2\n",
        "\n",
        "\n",
        "\n",
        "\n"
      ],
      "metadata": {
        "id": "4no_QXkX0WhT"
      },
      "execution_count": null,
      "outputs": []
    },
    {
      "cell_type": "markdown",
      "source": [
        "# **Problema-3 > Tomando de ejemplo los problemas anteriores, elige cualquier objeto o entidad y definele 4 variables relacionadas con sus caracteristicas.**"
      ],
      "metadata": {
        "id": "rdqRF3kI0mz2"
      }
    },
    {
      "cell_type": "code",
      "source": [
        "#Programa-3\n",
        "\n",
        "\n",
        "\n",
        "\n",
        "\n"
      ],
      "metadata": {
        "id": "HSIEZ9L81aV4"
      },
      "execution_count": null,
      "outputs": []
    },
    {
      "cell_type": "markdown",
      "source": [
        "\n",
        "\n",
        "---\n",
        "\n",
        "#**Apartado de preguntas.**\n",
        "\n"
      ],
      "metadata": {
        "id": "6jwEwV762DQI"
      }
    },
    {
      "cell_type": "markdown",
      "source": [
        "**1-Pregunta :**\n",
        "\n",
        "* Si necesitas guardar la placa de un automóvil, ¿en qué tipo de dato debería almacenarse esta información?\n",
        "\n",
        "1. Dentro del codigo simplemente escribe la abreviacion del tipo de dato que creas que sea `( str , int , float , bool )`."
      ],
      "metadata": {
        "id": "NW5t5H9B2Wc4"
      }
    },
    {
      "cell_type": "code",
      "source": [
        "#Pregunta-1\n",
        "\n",
        "\n",
        "\n"
      ],
      "metadata": {
        "id": "UL1I7KB23G_g"
      },
      "execution_count": null,
      "outputs": []
    },
    {
      "cell_type": "markdown",
      "source": [
        "\n",
        "\n",
        "---\n",
        "**2-Pregunta :**\n",
        "\n",
        "* Si dentro de un cable hay paso de corriente eléctrica, ¿en qué tipo de dato debería almacenarse la información sobre si hay corriente o no?\n",
        "\n",
        "1. Dentro del codigo simplemente escribe la abreviacion del tipo de dato que creas que sea `( str , int , float , bool )`."
      ],
      "metadata": {
        "id": "NWDlV4cV3I8l"
      }
    },
    {
      "cell_type": "code",
      "source": [
        "#Pregunta-2\n",
        "\n",
        "\n",
        "\n",
        "\n"
      ],
      "metadata": {
        "id": "AbU0sYHd361R"
      },
      "execution_count": null,
      "outputs": []
    },
    {
      "cell_type": "markdown",
      "source": [
        "\n",
        "\n",
        "---\n",
        "\n",
        "\n",
        "**3-Pregunta :**\n",
        "\n",
        "* Si deseas guardar la altura promedio de un grupo de personas en metros, ¿en qué tipo de dato debería almacenarse esta información?\n",
        "\n",
        "1. Dentro del codigo simplemente escribe la abreviacion del tipo de dato que creas que sea `( str , int , float , bool )`."
      ],
      "metadata": {
        "id": "-Kko-Iq44Bhn"
      }
    },
    {
      "cell_type": "code",
      "source": [
        "#Pregunta-3\n",
        "\n",
        "\n",
        "\n"
      ],
      "metadata": {
        "id": "UO1psoU94cD0"
      },
      "execution_count": null,
      "outputs": []
    }
  ]
}