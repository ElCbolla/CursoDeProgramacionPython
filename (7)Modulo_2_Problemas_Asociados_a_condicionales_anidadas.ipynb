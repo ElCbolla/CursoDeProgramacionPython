{
  "nbformat": 4,
  "nbformat_minor": 0,
  "metadata": {
    "colab": {
      "provenance": [],
      "authorship_tag": "ABX9TyOeWYy6SqLM1DkXiOYhIdRa",
      "include_colab_link": true
    },
    "kernelspec": {
      "name": "python3",
      "display_name": "Python 3"
    },
    "language_info": {
      "name": "python"
    }
  },
  "cells": [
    {
      "cell_type": "markdown",
      "metadata": {
        "id": "view-in-github",
        "colab_type": "text"
      },
      "source": [
        "<a href=\"https://colab.research.google.com/github/ElCbolla/CursoDeProgramacionPython/blob/main/(7)Modulo_2_Problemas_Asociados_a_condicionales_anidadas.ipynb\" target=\"_parent\"><img src=\"https://colab.research.google.com/assets/colab-badge.svg\" alt=\"Open In Colab\"/></a>"
      ]
    },
    {
      "cell_type": "markdown",
      "source": [
        "---\n",
        "#**Programa-1**\n",
        "\n",
        "Crea un programa donde:\n",
        "\n",
        "1. Se definan una variable mediante entrada del usuario:\n",
        "    - `Calificacion`, que debe ser un numero entero entre 0 y 100.\n",
        "\n",
        "2. El programa debe determinar la letra correspondiente a la calificacion:\n",
        "    - Si `Calificacion` es mayor o igual a 90, imprime `\"Tu letra es A.\"`.\n",
        "    - Si `Calificacion` esta entre 80 y 89, imprime `\"Tu letra es B.\"`.\n",
        "    - Si `Calificacion` esta entre 70 y 79, imprime `\"Tu letra es C.\"`.\n",
        "    - Si `Calificacion` es menor de 70, imprime `\"Tu letra es D.\"`.\n",
        "\n",
        "3. Imprime el resultado correspondiente mediante la funcion `print()`\n",
        "\n"
      ],
      "metadata": {
        "id": "oFntFNG6aeE7"
      }
    },
    {
      "cell_type": "code",
      "source": [
        "#Programa-1\n",
        "\n",
        "\n",
        "\n",
        "\n",
        "\n",
        "\n",
        "\n"
      ],
      "metadata": {
        "id": "cBNhTwiFagBO"
      },
      "execution_count": null,
      "outputs": []
    },
    {
      "cell_type": "markdown",
      "source": [
        "\n",
        "\n",
        "---\n",
        "\n",
        "\n",
        "# **Programa-2**\n",
        "\n",
        "Crea un programa donde:\n",
        "\n",
        "1. Se defina una variable mediante entrada del usuario:\n",
        "    - `Temperatura`, que debe ser un numero entero.\n",
        "\n",
        "2. El programa debe clasificar la temperatura en las siguientes categorias:\n",
        "    - Si `Temperatura` es mayor o igual a 30, imprime `\"Hace mucho calor.\"`.\n",
        "    - Si `Temperatura` esta entre 20 y 29, imprime `\"El clima es calido.\"`.\n",
        "    - Si `Temperatura` esta entre 10 y 19, imprime `\"El clima es fresco.\"`.\n",
        "    - Si `Temperatura` es menor de 10, imprime `\"Hace frio.\"`.\n",
        "3. Imprime el resultado correspondiente mediante la funcion `print()`"
      ],
      "metadata": {
        "id": "IcCZgR6uakc5"
      }
    },
    {
      "cell_type": "code",
      "source": [
        "#Programa-2\n",
        "\n",
        "\n",
        "\n",
        "\n",
        "\n",
        "\n",
        "\n"
      ],
      "metadata": {
        "id": "5WoXNs7tbELz"
      },
      "execution_count": null,
      "outputs": []
    },
    {
      "cell_type": "markdown",
      "source": [
        "\n",
        "\n",
        "---\n",
        "\n",
        "\n",
        "# **Programa-3**\n",
        "\n",
        "Crea un programa donde:\n",
        "\n",
        "1. Se defina una variable mediante entrada del usuario:\n",
        "   - `Presupuesto`, que debe ser un numero entero.\n",
        "\n",
        "2. El programa debe clasificar el transporte que se puede usar segun las siguientes categorias:\n",
        "\n",
        "   - Si `Presupuesto` es mayor o igual a 1000, imprime `\"Puedes viajar en avion.\"`  \n",
        "   - Si `Presupuesto` esta entre 500 y 999, imprime `\"Puedes viajar en tren.\"  `\n",
        "   - Si `Presupuesto` esta entre 200 y 499, imprime `\"Puedes viajar en autobus.\"`\n",
        "   - Si `Presupuesto` es menor de 200, imprime `\"Puedes viajar en bicicleta.\"`\n",
        "\n",
        "\n",
        "\n",
        "\n",
        "3. Imprime el resultado correspondiente mediante la funcion `print()`.\n"
      ],
      "metadata": {
        "id": "edzsE5CHbEg4"
      }
    },
    {
      "cell_type": "code",
      "source": [
        "#Programa-3\n",
        "\n",
        "\n",
        "\n",
        "\n",
        "\n",
        "\n",
        "\n",
        "\n",
        "\n"
      ],
      "metadata": {
        "id": "w7yWjnRkb6UZ"
      },
      "execution_count": null,
      "outputs": []
    },
    {
      "cell_type": "markdown",
      "source": [
        "\n",
        "\n",
        "---\n",
        "\n",
        "\n",
        "# **Programa-4**\n",
        "\n",
        "Crea un programa donde:\n",
        "\n",
        "1. Se defina una variable mediante entrada del usuario:\n",
        "   - `Edad`, que debe ser un numero entero.\n",
        "\n",
        "2. El programa debe clasificar la edad en las siguientes categorias:\n",
        "\n",
        "   - Si `Edad` es mayor o igual a 65, imprime `\"Eres adulto mayor.\"`\n",
        "   - Si `Edad` esta entre 30 y 64, imprime `\"Eres un adulto.\"`  \n",
        "   - Si `Edad` esta entre 13 y 29, imprime `\"Eres un joven.\"`  \n",
        "   - Si `Edad` es menor de 13, imprime `\"Eres un nino.\"`\n",
        "\n",
        "3. Imprime el resultado correspondiente mediante la funcion `print()`.\n"
      ],
      "metadata": {
        "id": "OFPN6X6ecQCh"
      }
    },
    {
      "cell_type": "code",
      "source": [
        "#Programa-4\n",
        "\n",
        "\n",
        "\n",
        "\n",
        "\n",
        "\n",
        "\n",
        "\n",
        "\n",
        "\n"
      ],
      "metadata": {
        "id": "pV5SJKzHeAta"
      },
      "execution_count": null,
      "outputs": []
    }
  ]
}