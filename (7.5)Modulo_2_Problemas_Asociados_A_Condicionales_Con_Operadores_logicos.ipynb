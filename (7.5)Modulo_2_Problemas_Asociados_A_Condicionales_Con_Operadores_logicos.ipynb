{
  "nbformat": 4,
  "nbformat_minor": 0,
  "metadata": {
    "colab": {
      "provenance": [],
      "authorship_tag": "ABX9TyOC9syS7W13dkxL7N+mee6L",
      "include_colab_link": true
    },
    "kernelspec": {
      "name": "python3",
      "display_name": "Python 3"
    },
    "language_info": {
      "name": "python"
    }
  },
  "cells": [
    {
      "cell_type": "markdown",
      "metadata": {
        "id": "view-in-github",
        "colab_type": "text"
      },
      "source": [
        "<a href=\"https://colab.research.google.com/github/ElCbolla/CursoDeProgramacionPython/blob/main/(7_5)Modulo_2_Problemas_Asociados_A_Condicionales_Con_Operadores_logicos.ipynb\" target=\"_parent\"><img src=\"https://colab.research.google.com/assets/colab-badge.svg\" alt=\"Open In Colab\"/></a>"
      ]
    },
    {
      "cell_type": "markdown",
      "source": [
        "#**Programa-1**\n",
        "\n",
        "Crea un programa utilizando condicionales con operadores logicos donde:\n",
        "\n",
        "1. Se defina una variable mediante entrada del usuario:\n",
        "   - `Edad`, que debe ser un numero entero mayor o igual a 0.\n",
        "\n",
        "2. El programa debe determinar si el usuario pertenece a una categoria de edad e imprimir el mensaje correspondiente:\n",
        "   - Si `Edad` es mayor o igual a 60 imprime `\"Eres un adulto mayor.\"`\n",
        "   - Si `Edad` esta entre 30 y 59 inclusive imprime `\"Eres un adulto.\"`\n",
        "   - Si `Edad` esta entre 18 y 29 inclusive imprime `\"Eres un joven adulto.\"`\n",
        "   - Si `Edad` es menor a 18 imprime `\"Eres un menor de edad.\"`\n",
        "\n",
        "4. Imprime el resultado correspondiente mediante la funcion `print()`\n",
        "\n",
        "---"
      ],
      "metadata": {
        "id": "gf5abAmowBNA"
      }
    },
    {
      "cell_type": "code",
      "execution_count": null,
      "metadata": {
        "id": "jmtrxmJ4v4b6"
      },
      "outputs": [],
      "source": [
        "#Programa-1\n",
        "\n",
        "\n",
        "\n",
        "\n",
        "\n",
        "\n",
        "\n"
      ]
    },
    {
      "cell_type": "markdown",
      "source": [
        "\n",
        "\n",
        "---\n",
        "\n",
        "# **Programa-2**\n",
        "\n",
        "Crea un programa utilizando condicionales con operadores logicos donde:\n",
        "\n",
        "1. Se definan dos variables mediante entrada del usuario:\n",
        "   - `A` y `B`, que deben ser numeros enteros.\n",
        "\n",
        "2. El programa debe determinar la relacion entre los numeros e imprimir los siguientes mensajes dependiendo los casos :\n",
        "   - Si ambos numeros son positivos y `A` es mayor que `B`, imprime `\"A es mayor que B y ambos son positivos.\"`\n",
        "   - Si ambos numeros son negativos, imprime `\"Ambos numeros son negativos.\"`\n",
        "   - Si uno de los numeros es positivo y el otro negativo, imprime `\"Uno de los numeros es positivo y el otro es negativo.\"`\n",
        "   - Si ambos numeros son iguales imprime `\"Ambos numeros son iguales.\"`\n",
        "\n",
        "3. Agrega tres casos mas que cubran otras posibles relaciones entre los numeros.\n",
        "\n",
        "4. Imprime el resultado correspondiente mediante la funcion `print()`\n",
        "\n",
        "---"
      ],
      "metadata": {
        "id": "BL-eOAGgwzXE"
      }
    },
    {
      "cell_type": "code",
      "source": [
        "#Programa-2\n",
        "\n",
        "\n",
        "\n",
        "\n",
        "\n",
        "\n",
        "\n",
        "\n",
        "\n",
        "\n"
      ],
      "metadata": {
        "id": "lcwTjRA4xiei"
      },
      "execution_count": null,
      "outputs": []
    },
    {
      "cell_type": "markdown",
      "source": [
        "\n",
        "\n",
        "---\n",
        "\n",
        "\n",
        "# **Programa-3**\n",
        "\n",
        "Crea un programa utilizando condicionales con operadores logicos donde:\n",
        "\n",
        "1. Se defina una variable mediante entrada del usuario:\n",
        "   - `Temperatura`, que debe ser un numero flotante representando grados Celsius.\n",
        "\n",
        "2. El programa debe determinar el estado del agua a esa temperatura e imprimir el mensaje que vaya con la temperatura :\n",
        "   - Si `Temperatura` es mayor o igual a 100 imprime `\"El agua esta en estado gaseoso (vapor).\"`\n",
        "   - Si `Temperatura` esta entre 0 y 99 inclusive imprime `\"El agua esta en estado liquido.\"`\n",
        "   - Si `Temperatura` es menor a 0 imprime `\"El agua esta en estado solido (hielo).\"`\n",
        "\n",
        "4. Imprime el resultado correspondiente mediante la funcion `print()`\n",
        "\n",
        "\n",
        "---\n",
        "\n"
      ],
      "metadata": {
        "id": "TZXH26IQxoa3"
      }
    },
    {
      "cell_type": "code",
      "source": [
        "#Programa-3\n",
        "\n",
        "\n",
        "\n",
        "\n",
        "\n",
        "\n",
        "\n",
        "\n",
        "\n",
        "\n",
        "\n"
      ],
      "metadata": {
        "id": "iZ6umIKczcCY"
      },
      "execution_count": null,
      "outputs": []
    },
    {
      "cell_type": "markdown",
      "source": [
        "# **Programa-4**\n",
        "\n",
        "Crea un programa que cumpla con las siguientes especificaciones:\n",
        "\n",
        "2. El programa debe usar al menos:\n",
        " - Tres datos de entrada mediante la funcion `input()`.\n",
        "   - Una condicional `if`.\n",
        "   - Cuatro condicionales `elif` para evaluar diferentes condiciones relacionadas con las entradas del usuario.\n",
        "   - Tres asignadores arimeticos para asignar valores a nuevas variables.\n",
        "   - Al menos dos operadores logicos en cada condicion que sean distintos `(and , or , not)`.\n",
        "  \n"
      ],
      "metadata": {
        "id": "uHIs_EW2ypli"
      }
    },
    {
      "cell_type": "code",
      "source": [
        "#Programa-4\n",
        "\n",
        "\n",
        "\n",
        "\n",
        "\n",
        "\n",
        "\n",
        "\n",
        "\n",
        "\n",
        "\n",
        "\n"
      ],
      "metadata": {
        "id": "yCEOnYHxxn5G"
      },
      "execution_count": null,
      "outputs": []
    }
  ]
}
