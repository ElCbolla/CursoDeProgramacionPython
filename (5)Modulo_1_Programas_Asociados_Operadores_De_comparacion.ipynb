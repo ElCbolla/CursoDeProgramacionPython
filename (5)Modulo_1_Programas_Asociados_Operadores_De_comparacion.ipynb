{
  "nbformat": 4,
  "nbformat_minor": 0,
  "metadata": {
    "colab": {
      "provenance": [],
      "authorship_tag": "ABX9TyMDy0xG7oqQWs3pFPSUzcpi",
      "include_colab_link": true
    },
    "kernelspec": {
      "name": "python3",
      "display_name": "Python 3"
    },
    "language_info": {
      "name": "python"
    }
  },
  "cells": [
    {
      "cell_type": "markdown",
      "metadata": {
        "id": "view-in-github",
        "colab_type": "text"
      },
      "source": [
        "<a href=\"https://colab.research.google.com/github/ElCbolla/CursoDeProgramacionPython/blob/main/(5)Modulo_1_Programas_Asociados_Operadores_De_comparacion.ipynb\" target=\"_parent\"><img src=\"https://colab.research.google.com/assets/colab-badge.svg\" alt=\"Open In Colab\"/></a>"
      ]
    },
    {
      "cell_type": "markdown",
      "source": [
        "## **Problema 1**\n",
        "\n",
        "Crea un programa donde:\n",
        "\n",
        "1. Se definan dos variables: `Numero1` y `Numero2`.  \n",
        "   - `Numero1` debe ser igual a `10`.  \n",
        "   - `Numero2` debe ser igual a `20`.  \n",
        "\n",
        "2. Realiza las siguientes comparaciones:  \n",
        "   - Verifica si `Numero1` es menor que `Numero2`.  \n",
        "   - Verifica si `Numero1` es igual a `Numero2`.  \n",
        "   - Verifica si `Numero1` es distinto de `Numero2`.  \n",
        "\n",
        "3. Imprime los resultados de cada comparacion usando la función `print()`.\n"
      ],
      "metadata": {
        "id": "RzDIvoQDA22q"
      }
    },
    {
      "cell_type": "code",
      "execution_count": null,
      "metadata": {
        "id": "JVWhFvQiAc-C"
      },
      "outputs": [],
      "source": [
        "#Programa-1\n",
        "\n",
        "\n",
        "\n",
        "\n",
        "\n",
        "\n"
      ]
    },
    {
      "cell_type": "markdown",
      "source": [
        "\n",
        "\n",
        "---\n",
        "\n",
        "\n",
        "## **Problema 2**\n",
        "\n",
        "Crea un programa donde:\n",
        "\n",
        "1. Se definan tres variables: `Edad1`, `Edad2` y `Edad3`.  \n",
        "   - `Edad1` debe ser igual a `15`.  \n",
        "   - `Edad2` debe ser igual a `18`.  \n",
        "   - `Edad3` debe ser igual a `15`.  \n",
        "\n",
        "2. Realiza las siguientes comparaciones:  \n",
        "   - Verifica si `Edad1` es mayor o igual a `Edad2`.  \n",
        "   - Verifica si `Edad1` es igual a `Edad3`.  \n",
        "   - Verifica si `Edad2` es menor o igual a `Edad3`.  \n",
        "\n",
        "3. Imprime los resultados de cada comparación usando la función `print()`.\n"
      ],
      "metadata": {
        "id": "zYNn19FBC5-U"
      }
    },
    {
      "cell_type": "code",
      "source": [
        "#Programa-2\n",
        "\n",
        "\n",
        "\n",
        "\n",
        "\n",
        "\n",
        "\n",
        "\n",
        "\n"
      ],
      "metadata": {
        "id": "7fyXqewfDGdx"
      },
      "execution_count": null,
      "outputs": []
    },
    {
      "cell_type": "markdown",
      "source": [
        "\n",
        "\n",
        "---\n",
        "\n",
        "\n",
        "## **Problema 3**\n",
        "\n",
        "Crea un programa donde:\n",
        "\n",
        "1. Se definan tres variables: `Altura1`, `Altura2` y `Altura3`.  \n",
        "   - `Altura1` debe ser igual a `1.70`.  \n",
        "   - `Altura2` debe ser igual a `1.85`.  \n",
        "   - `Altura3` debe ser igual a `1.70`.  \n",
        "\n",
        "2. Realiza las siguientes comparaciones:  \n",
        "   - Verifica si `Altura1` es menor que `Altura2`.  \n",
        "   - Verifica si `Altura1` es igual a `Altura3`.  \n",
        "   - Verifica si `Altura2` es mayor o igual a `Altura3`.  \n",
        "\n",
        "3. Imprime los resultados de cada comparacion usando la funcion `print()`.\n"
      ],
      "metadata": {
        "id": "1x7TWV5BDPmH"
      }
    },
    {
      "cell_type": "code",
      "source": [
        "#Programa-3\n",
        "\n",
        "\n",
        "\n",
        "\n",
        "\n",
        "\n",
        "\n",
        "\n",
        "\n",
        "\n"
      ],
      "metadata": {
        "id": "ZD5cPJSnDSje"
      },
      "execution_count": null,
      "outputs": []
    },
    {
      "cell_type": "markdown",
      "source": [
        "\n",
        "\n",
        "---\n",
        "\n",
        "\n",
        "## **Problema 4**\n",
        "\n",
        "Crea un programa donde:\n",
        "\n",
        "1. Se definan tres variables: `Temp1`, `Temp2` y `Temp3`.  \n",
        "   - `Temp1` debe ser igual a `25`.  \n",
        "   - `Temp2` debe ser igual a `30`.  \n",
        "   - `Temp3` debe ser igual a `25`.  \n",
        "\n",
        "2. Realiza las siguientes comparaciones:  \n",
        "   - Verifica si `Temp1` es mayor que `Temp2`.  \n",
        "   - Verifica si `Temp1` es menor o igual a `Temp3`.  \n",
        "   - Verifica si `Temp2` es distinto de `Temp3`.  \n",
        "\n",
        "3. Imprime los resultados de cada comparación usando la funcion `print()`."
      ],
      "metadata": {
        "id": "eH7YZV9_DUqt"
      }
    },
    {
      "cell_type": "code",
      "source": [
        "#Programa 4\n",
        "\n",
        "\n",
        "\n",
        "\n",
        "\n",
        "\n",
        "\n",
        "\n",
        "\n",
        "\n"
      ],
      "metadata": {
        "id": "vIYA-yMqD5kZ"
      },
      "execution_count": null,
      "outputs": []
    },
    {
      "cell_type": "markdown",
      "source": [
        "\n",
        "\n",
        "---\n",
        "\n",
        "\n",
        "## **Problema 5**\n",
        "Crea un programa donde:\n",
        "\n",
        "1. Se definan tres variables: `Peso1`, `Peso2` y `Peso3`.  \n",
        "   - `Peso1` debe ser igual a `60`.  \n",
        "   - `Peso2` debe ser igual a `75`.  \n",
        "   - `Peso3` debe ser igual a `60`.  \n",
        "\n",
        "2. Realiza las siguientes comparaciones:  \n",
        "   - Verifica si `Peso1` es menor o igual a `Peso2`.  \n",
        "   - Verifica si `Peso2` es mayor que `Peso3`.  \n",
        "   - Verifica si `Peso1` es igual a `Peso3`.  \n",
        "\n",
        "3. Imprime los resultados de cada comparación usando la función `print()`.\n"
      ],
      "metadata": {
        "id": "4w-IcVHbD8cv"
      }
    },
    {
      "cell_type": "code",
      "source": [
        "#Programa 5\n",
        "\n",
        "\n",
        "\n",
        "\n",
        "\n",
        "\n",
        "\n",
        "\n",
        "\n",
        "\n",
        "\n"
      ],
      "metadata": {
        "id": "2k6DO_PcEYk8"
      },
      "execution_count": null,
      "outputs": []
    },
    {
      "cell_type": "markdown",
      "source": [
        "\n",
        "\n",
        "---\n",
        "\n",
        "\n",
        "### **Problema 6**\n",
        "\n",
        "Crea un programa donde:\n",
        "\n",
        "1. Se definan tres variables: `Edad1`, `Edad2` y `Edad3`.\n",
        "   - Puedes elegir los datos que quieras pero deben cumplir con las siguientes condiciones :\n",
        "     - `Edad1` debe ser menor que `Edad2`.\n",
        "     - `Edad2` debe ser mayor o igual a `Edad3`.\n",
        "     - `Edad3` debe ser un número par.\n",
        "\n",
        "2. Realiza las siguientes comparaciones:\n",
        "   - Verifica si `Edad1` es mayor que `Edad3`.\n",
        "   - Verifica si `Edad2` es menor o igual a `Edad3`.\n",
        "   - Verifica si la diferencia entre `Edad2` y `Edad1` es mayor que 10.\n",
        "\n",
        "3. Imprime los resultados de cada comparacion usando la función `print()`."
      ],
      "metadata": {
        "id": "EKJ_DYWmFQsT"
      }
    },
    {
      "cell_type": "code",
      "source": [
        "#Programa 6\n",
        "\n",
        "\n",
        "\n",
        "\n",
        "\n",
        "\n",
        "\n"
      ],
      "metadata": {
        "id": "vCQNI8oIF98-"
      },
      "execution_count": null,
      "outputs": []
    },
    {
      "cell_type": "markdown",
      "source": [
        "\n",
        "\n",
        "---\n",
        "\n",
        "\n",
        "### **Problema 7**\n",
        "\n",
        "Crea un programa donde:\n",
        "\n",
        "1. Se definan tres variables: `Peso1`, `Peso2` y `Peso3`.\n",
        " - Puedes elegir los datos que quieras pero deben cumplir con las siguientes condiciones :\n",
        "     - `Peso1` debe ser mayor que 50.\n",
        "     - `Peso2` debe ser menor que `Peso1`.\n",
        "     - `Peso3` debe ser un múltiplo de 5.\n",
        "     - La suma de `Peso1` y `Peso2` debe ser menor a `Peso3`.\n",
        "\n",
        "2. Realiza las siguientes comparaciones:\n",
        "   - Verifica si `Peso1` es igual a `Peso2`.\n",
        "   - Verifica si `Peso2` es mayor o igual a `Peso3`.\n",
        "   - Verifica si `Peso3` es menor que la suma de `Peso1` y `Peso2`.\n",
        "\n",
        "3. Imprime los resultados de cada comparación usando la funcion `print()`.\n"
      ],
      "metadata": {
        "id": "YVZ7qpW5GB_T"
      }
    },
    {
      "cell_type": "code",
      "source": [
        "#Programa 7\n",
        "\n",
        "\n",
        "\n",
        "\n",
        "\n",
        "\n"
      ],
      "metadata": {
        "id": "TBETLbgDGhZJ"
      },
      "execution_count": null,
      "outputs": []
    },
    {
      "cell_type": "markdown",
      "source": [
        "\n",
        "\n",
        "---\n",
        "\n",
        "### **Problema 8**\n",
        "\n",
        "Crea un programa donde:\n",
        "\n",
        "1. Se definan tres variables: `Nota1`, `Nota2` y `Nota3`.\n",
        "   - Puedes elegir los datos que quieras pero deben cumplir con las siguientes condiciones :\n",
        "     - `Nota1` debe ser mayor o igual a 60.\n",
        "     - `Nota2` debe ser menor que `Nota1`.\n",
        "     - `Nota3` debe ser igual a la mitad de `Nota1`.\n",
        "     - La diferencia entre `Nota1` y `Nota3` debe ser menor que 40.\n",
        "\n",
        "2. Realiza las siguientes comparaciones:\n",
        "   - Verifica si `Nota1` es menor que `Nota2`.\n",
        "   - Verifica si `Nota3` es mayor que `Nota1`.\n",
        "   - Verifica si la suma de `Nota2` y `Nota3` es igual a `Nota1`.\n",
        "\n",
        "3. Imprime los resultados de cada comparación usando la función `print()`.\n",
        "\n",
        "\n"
      ],
      "metadata": {
        "id": "3L8WeNT9GlYs"
      }
    },
    {
      "cell_type": "code",
      "source": [
        "#Programa 8\n",
        "\n",
        "\n",
        "\n",
        "\n",
        "\n",
        "\n",
        "\n"
      ],
      "metadata": {
        "id": "Ft5IWbhfHQIc"
      },
      "execution_count": null,
      "outputs": []
    }
  ]
}