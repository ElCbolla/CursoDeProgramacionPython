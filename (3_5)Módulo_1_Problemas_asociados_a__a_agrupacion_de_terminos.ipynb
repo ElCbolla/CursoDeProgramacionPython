{
  "nbformat": 4,
  "nbformat_minor": 0,
  "metadata": {
    "colab": {
      "provenance": [],
      "authorship_tag": "ABX9TyN0Bc7+O5/2F2BZtlQ/mVOF",
      "include_colab_link": true
    },
    "kernelspec": {
      "name": "python3",
      "display_name": "Python 3"
    },
    "language_info": {
      "name": "python"
    }
  },
  "cells": [
    {
      "cell_type": "markdown",
      "metadata": {
        "id": "view-in-github",
        "colab_type": "text"
      },
      "source": [
        "<a href=\"https://colab.research.google.com/github/ElCbolla/CursoDeProgramacionPython/blob/main/(3_5)M%C3%B3dulo_1_Problemas_asociados_a__a_agrupacion_de_terminos.ipynb\" target=\"_parent\"><img src=\"https://colab.research.google.com/assets/colab-badge.svg\" alt=\"Open In Colab\"/></a>"
      ]
    },
    {
      "cell_type": "markdown",
      "source": [
        "**Crea un programa que realice la siguiente operacion :**\n",
        "\n",
        "![image.png](data:image/png;base64,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)\n",
        "\n",
        "\n",
        "\n",
        "*   El resultado debe ser : 3\n",
        "\n",
        "\n",
        "\n"
      ],
      "metadata": {
        "id": "qEb2q8hUpiji"
      }
    },
    {
      "cell_type": "code",
      "execution_count": null,
      "metadata": {
        "colab": {
          "base_uri": "https://localhost:8080/"
        },
        "id": "KLi3YF27o4-N",
        "outputId": "a4398ec1-2441-4904-b407-08ea89bca614"
      },
      "outputs": [
        {
          "output_type": "stream",
          "name": "stdout",
          "text": [
            "3.0\n"
          ]
        }
      ],
      "source": [
        "#Programa-1\n",
        "\n",
        "\n",
        "print() #Ingrese la operacion dentro del print."
      ]
    },
    {
      "cell_type": "markdown",
      "source": [
        "\n",
        "\n",
        "---\n",
        "\n",
        "\n",
        "**Crea un programa que realice la siguiente operacion :**\n",
        "\n",
        "![image.png](data:image/png;base64,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)\n",
        "\n",
        "*   El resultado debe ser : 5\n"
      ],
      "metadata": {
        "id": "UDzQvFNN1_BF"
      }
    },
    {
      "cell_type": "code",
      "source": [
        "#Programa-2\n",
        "\n",
        "\n",
        "print() #Ingrese la operacion dentro del print."
      ],
      "metadata": {
        "colab": {
          "base_uri": "https://localhost:8080/"
        },
        "id": "j68VzOIq2e4P",
        "outputId": "73e06ffa-95b3-48c8-bb40-8cf581ef0b9e"
      },
      "execution_count": null,
      "outputs": [
        {
          "output_type": "stream",
          "name": "stdout",
          "text": [
            "5.0\n"
          ]
        }
      ]
    },
    {
      "cell_type": "markdown",
      "source": [
        "\n",
        "\n",
        "---\n",
        "\n",
        "\n",
        "**Crea un programa que realice la siguiente operacion :**\n",
        "\n",
        "![image.png](data:image/png;base64,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)\n",
        "\n",
        "\n",
        "\n",
        "*   El resultado debe ser : 243\n"
      ],
      "metadata": {
        "id": "GAaiEa6m3Dhv"
      }
    },
    {
      "cell_type": "code",
      "source": [
        "#Programa-3\n",
        "\n",
        "\n",
        "print() #Ingrese la operacion dentro del print."
      ],
      "metadata": {
        "id": "oqBvvfNL31II"
      },
      "execution_count": null,
      "outputs": []
    },
    {
      "cell_type": "markdown",
      "source": [
        "\n",
        "\n",
        "---\n",
        "**Crea un programa que realice la siguiente operacion :**\n",
        "\n",
        "\n",
        "![image.png](data:image/png;base64,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)\n",
        "\n",
        "\n",
        "\n",
        "*   El resultado debe ser : 0.444...\n",
        "\n"
      ],
      "metadata": {
        "id": "jxOEdQP05COl"
      }
    },
    {
      "cell_type": "code",
      "source": [
        "#Programa-4\n",
        "\n",
        "\n",
        "print() #Ingrese la operacion dentro del print."
      ],
      "metadata": {
        "id": "MK1F4gNF6GmM"
      },
      "execution_count": null,
      "outputs": []
    },
    {
      "cell_type": "markdown",
      "source": [
        "\n",
        "\n",
        "---\n",
        "\n",
        "**Crea un programa que realice la siguiente operacion :**\n",
        "\n",
        "![image.png](data:image/png;base64,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)\n",
        "\n",
        "*   El resultado debe ser : 0.25"
      ],
      "metadata": {
        "id": "nv2BusK46Ym5"
      }
    },
    {
      "cell_type": "code",
      "source": [
        "#Programa-5\n",
        "\n",
        "\n",
        "print() #Ingrese la operacion dentro del print."
      ],
      "metadata": {
        "colab": {
          "base_uri": "https://localhost:8080/"
        },
        "id": "9W9Y2epV7Gvc",
        "outputId": "648408cc-4a80-4202-a0d3-71d6f8057528"
      },
      "execution_count": 4,
      "outputs": [
        {
          "output_type": "stream",
          "name": "stdout",
          "text": [
            "0.25\n"
          ]
        }
      ]
    },
    {
      "cell_type": "markdown",
      "source": [
        "---\n",
        "\n",
        "**Crea un programa que realice la siguiente operacion :**\n",
        "\n",
        "![image.png](data:image/png;base64,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)\n",
        "\n",
        "* El resultado debe ser : 0.208"
      ],
      "metadata": {
        "id": "g-2uZfjcBnDF"
      }
    },
    {
      "cell_type": "code",
      "source": [
        "#Programa-6\n",
        "\n",
        "\n",
        "print() #Ingrese la operacion dentro del print."
      ],
      "metadata": {
        "id": "p8NV2qamEN8N"
      },
      "execution_count": null,
      "outputs": []
    }
  ]
}