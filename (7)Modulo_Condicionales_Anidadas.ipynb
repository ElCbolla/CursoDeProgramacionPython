{
  "nbformat": 4,
  "nbformat_minor": 0,
  "metadata": {
    "colab": {
      "provenance": [],
      "authorship_tag": "ABX9TyMhip9MlmH+RXh4DiHWRcEU",
      "include_colab_link": true
    },
    "kernelspec": {
      "name": "python3",
      "display_name": "Python 3"
    },
    "language_info": {
      "name": "python"
    }
  },
  "cells": [
    {
      "cell_type": "markdown",
      "metadata": {
        "id": "view-in-github",
        "colab_type": "text"
      },
      "source": [
        "<a href=\"https://colab.research.google.com/github/ElCbolla/CursoDeProgramacionPython/blob/main/(7)Modulo_Condicionales_Anidadas.ipynb\" target=\"_parent\"><img src=\"https://colab.research.google.com/assets/colab-badge.svg\" alt=\"Open In Colab\"/></a>"
      ]
    },
    {
      "cell_type": "markdown",
      "source": [
        "Las condicionales anidadas son estructuras de control en programacion en las que una instruccion condicional (`if, else elif`) esta dentro de otra, permitiendo evaluar multiples condiciones de manera jerarquica, Este enfoque se utiliza cuando hay dependencias entre las condiciones o cuando se necesita una evaluacion mas especifica tras cumplir una condicion previa.\n",
        "\n",
        "Primero debemos establecer una condicional `if` de la manera convencional para crear nuestra primer condicional anidada.\n",
        "\n",
        "\n",
        "\n",
        "```\n",
        "if condicion1:\n",
        "    # Secuencia de codigo si se cumple la condicion.\n",
        "\n",
        "else:\n",
        "    # Secuencia de codigo si la condicion1 es falsa.\n",
        "\n",
        "\n",
        "```\n",
        "\n",
        "Para crear nuestra condicional anidada debemos crear otra condicion `if` dentro de nuestra primera `condicion1`, como se muestra a continuacion :\n",
        "\n",
        "\n",
        "```\n",
        "if condicion1:\n",
        "    # Secuencia de codigo si se cumple la condicion.\n",
        "\n",
        "    if condicion2:\n",
        "    # Secuencia de codigo si condicion1 y condicion 2 se cumple.\n",
        "\n",
        "else:\n",
        "    # Secuencia de codigo si la condicion1 es falsa.\n",
        "\n",
        "```\n",
        "\n",
        "De esta manera podemos crear condiciones mas complejas y estructuradas como se muestra a continuacion :\n",
        "\n"
      ],
      "metadata": {
        "id": "oy9EVprdZ0-V"
      }
    },
    {
      "cell_type": "code",
      "execution_count": null,
      "metadata": {
        "id": "Z4IV0AdPYaq1"
      },
      "outputs": [],
      "source": [
        "A = 5\n",
        "B = 3\n",
        "C = 2\n",
        "\n",
        "if A>B:\n",
        "  print(\"A es mayor que B\")\n",
        "\n",
        "  if C < B:\n",
        "    print(\"Y tambien C es menor que B\")\n",
        "  else:\n",
        "    print(\"Y C no es menor que B\")\n",
        "\n",
        "else:\n",
        "  print(\"A no es mayor que B\")"
      ]
    },
    {
      "cell_type": "markdown",
      "source": [
        "De esta manera se puede evaluar si `A es mayor que B` y a su vez si `C es menor que B`.\n",
        "\n",
        "- De esta manera se evalua primero `si A > B` y si es asi imprime mediante la funcion `print()` el texto `\"A es mayor que B\"`, despues se evalua si `C < B` y si esto tambien se cumple, se imprime el mensaje `\"Y C no es menor que B\"`."
      ],
      "metadata": {
        "id": "h8FDzCOGe1UV"
      }
    },
    {
      "cell_type": "markdown",
      "source": [
        "Las condicionales anidadas son utiles para entender la jerarquia de la programacion y crear condiciones dependientes de otras, por ejemplo, imaginate que tenemos una variable llamada `\"Edad\"` donde el usuario mediante una lectura de datos o funcion `input()` ingresara su edad, despues se evaluara si la edad es mayor o igual que `18`, lo que llevamos planteado del programa se veria algo asi :\n",
        "\n",
        "\n",
        "\n",
        "```\n",
        "Edad = int(input(\"Ingrese su edad\"))\n",
        "\n",
        "if Edad >= 18:\n",
        "  #Secuencia de codigo si se cumple la condicion.\n",
        "else:\n",
        " #Secuencia de codigo si no se cumple la condicion.\n",
        "\n",
        "```\n",
        "Y si la edad del usuario si es `igual o mayor que 18` entonces le preguntaremos si tiene posee una identificacion.\n",
        "\n",
        "```\n",
        "Edad = int(input(\"Ingrese su edad\"))\n",
        "\n",
        "if Edad >= 18:\n",
        "  #Secuencia de codigo si se cumple la condicion.\n",
        "  Identificacion = input(\"Tienes identificacion ? (Si) (No) \")\n",
        "\n",
        "else:\n",
        " #Secuencia de codigo si no se cumple la condicion.\n",
        "\n",
        "```\n",
        "\n",
        "Y si el usuario posee identificacion le podemos mencionar que ya puede votar.\n",
        "\n",
        "```\n",
        "Edad = int(input(\"Ingrese su edad\"))\n",
        "\n",
        "if Edad >= 18:\n",
        "  #Secuencia de codigo si se cumple la condicion.\n",
        "  Identificacion = input(\"Tienes identificacion ? (Si) (No) \")\n",
        "\n",
        "  if Identificacion == \"Si\":\n",
        "    print(\"Ya puedes votar\")\n",
        "  else:\n",
        "    print(\"Necesitas una identificacion para poder votar\")\n",
        "\n",
        "else:\n",
        " print(\"Aun no eres mayor de edad para poder votar\")\n",
        "\n",
        "```"
      ],
      "metadata": {
        "id": "i273lfNzhtnk"
      }
    },
    {
      "cell_type": "markdown",
      "source": [
        "El codigo que planteamos en una celda real de codigo se veria asi :"
      ],
      "metadata": {
        "id": "_VluqFJzmJeF"
      }
    },
    {
      "cell_type": "code",
      "source": [
        "Edad = int(input(\"Ingrese su edad :\"))\n",
        "\n",
        "if Edad >= 18:\n",
        "  #Secuencia de codigo si se cumple la condicion.\n",
        "  Identificacion = input(\"Tienes identificacion ? (Si) (No) \")\n",
        "\n",
        "  if Identificacion == \"Si\":\n",
        "    print(\"Ya puedes votar\")\n",
        "  else:\n",
        "    print(\"Necesitas una identificacion para poder votar\")\n",
        "\n",
        "else:\n",
        " print(\"Aun no eres mayor de edad para poder votar\")"
      ],
      "metadata": {
        "id": "wNdL9PT1mIjl"
      },
      "execution_count": null,
      "outputs": []
    },
    {
      "cell_type": "markdown",
      "source": [
        "El anterior ejemplo muestra lo que es una condicion dependiente, ya que para poder votar necesitas `ser mayor de edad` y tener una `identificacion`, y para tener una `identificacion` necesitas `ser mayor de edad`, por lo que la `identificacion` es una condicion dependiente de la `edad` como se mostro anteriormente.\n",
        "\n",
        "Otro ejemplo de variables dependientes seria por ejemplo el siguiente :\n",
        "\n",
        "Primero le preguntaremos al usuario si posee un tazon para cereal mediante una funcion `input()`\n",
        "\n",
        "\n",
        "\n",
        "```\n",
        "TazonDeCereal = input(\"Tienes un tazon de cereal? (Si) (No)\")\n",
        "\n",
        "if TazonDeCereal == \"Si\":\n",
        " #Secuencia de codigo si se cumple la primera condicion.\n",
        "\n",
        "else:\n",
        " #Secuencia de codigo si no se cumple la primera condicion\n",
        "```\n",
        "Si el usuario indica que si tiene un tazon para cereal le preguntaremos si tiene leche.\n",
        "\n",
        "```\n",
        "TazonDeCereal = input(\"Tienes un tazon de cereal? (Si) (No)\")\n",
        "\n",
        "if TazonDeCereal == \"Si\":\n",
        " Leche = input(\"Tienes leche? (Si) (No) \")\n",
        "\n",
        "\n",
        " if Leche == \"Si\":\n",
        "  #Condicion que se cumple si la primera y segunda condicion son verdad.\n",
        "\n",
        " else:\n",
        "  print(\"No tienes leche para el cereal\")\n",
        "\n",
        "\n",
        "else:\n",
        " print(\"No tienes un tazon para el cereal\")\n",
        "```\n",
        "\n",
        "Y si la respuesta es si, finalmente le preguntaremos al usuario si tiene cereal.\n",
        "\n",
        "\n",
        "```\n",
        "TazonDeCereal = input(\"Tienes un tazon de cereal? (Si) (No)\")\n",
        "\n",
        "if TazonDeCereal == \"Si\":\n",
        " Leche = input(\"Tienes leche? (Si) (No) \")\n",
        "\n",
        "\n",
        " if Leche == \"Si\":\n",
        "  Cereal = input(\"Tienes cereal? (Si) (No)\")\n",
        "\n",
        "  if Cereal == \"Si\":\n",
        "   print(\"Tienes todo para hacer un cereal\")\n",
        "\n",
        "  else:\n",
        "   print(\"Necesitas cereal para un cereal\")\n",
        "\n",
        " else:\n",
        "  print(\"No tienes leche para el cereal\")\n",
        "\n",
        "\n",
        "else:\n",
        " print(\"No tienes un tazon para el cereal\")\n",
        "```"
      ],
      "metadata": {
        "id": "Dl_wfJfjmhOT"
      }
    },
    {
      "cell_type": "markdown",
      "source": [
        "Y en una celda real de codigo se veria asi nuestro programa :"
      ],
      "metadata": {
        "id": "lTew_sd5qPK1"
      }
    },
    {
      "cell_type": "code",
      "source": [
        "TazonDeCereal = input(\"Tienes un tazon de cereal? (Si) (No)\")\n",
        "\n",
        "if TazonDeCereal == \"Si\":\n",
        " Leche = input(\"Tienes leche? (Si) (No) \")\n",
        "\n",
        "\n",
        " if Leche == \"Si\":\n",
        "  Cereal = input(\"Tienes cereal? (Si) (No)\")\n",
        "\n",
        "  if Cereal == \"Si\":\n",
        "   print(\"Tienes todo para hacer un cereal\")\n",
        "\n",
        "  else:\n",
        "    print(\"Necesitas cereal para un cereal\")\n",
        "\n",
        " else:\n",
        "  print(\"No tienes leche para el cereal\")\n",
        "\n",
        "\n",
        "else:\n",
        " print(\"No tienes un tazon para el cereal\")"
      ],
      "metadata": {
        "id": "rmBzO-GBd71D"
      },
      "execution_count": null,
      "outputs": []
    },
    {
      "cell_type": "markdown",
      "source": [
        "Este ejemplo nos muestra dos condiciones dependientes, Primero le pregunta al usuario si tiene un `tazon de cereal`, y si esto es asi, le pregunta luego si tiene `leche`, esto nos indica que `leche` es una condicion dependiente del `tazon`, ya que si el usuario no tuviera un `tazon` entonces no podria servir la `leche`, Despues se le pregunta al usuario si tiene `cereal` y si la respuesta es `no` entonces no podria hacer su `cereal`, esto nos dice que `leche` es dependiente de `tazon` y cereal es dependiente de `leche` y `tazon`."
      ],
      "metadata": {
        "id": "5T58wWN5qeQV"
      }
    },
    {
      "cell_type": "markdown",
      "source": [
        "Las condicionales anidadas tambien son utilides para limitar ciertos limites mediante esta jerarquia, imagina que nos piden un programa que tenga dos limites el primero debe ir de `0 a 10`, el segundo de `11 a 20`, y dependiendo el numero que ingrese el usuario sera la salida que recibira.\n",
        "\n",
        "Primero debemos pedirle al usuario que ingrese un numero entre `0 y 20` mediante una funcion `input()`.\n",
        "\n",
        "\n",
        "\n",
        "```\n",
        "DatoEntero = int(input(\"Ingrese un numero entre 0 y 20\"))\n",
        "\n",
        "```\n",
        "\n",
        "Despues debemos evaluar si el numero es menor o igual que `20`.\n",
        "\n",
        "\n",
        "\n",
        "\n",
        "```\n",
        "DatoEntero = int(input(\"Ingrese un numero entre 0 y 20\"))\n",
        "\n",
        "if DatoEntero =< 20:\n",
        " #Secuencia de codigo si el dato es menor o igual a 20\n",
        "\n",
        "else:\n",
        " #Secuencia de codigo si el numero es mayor que 20.\n",
        "```\n",
        "\n",
        "Ahora dentro de la condicional principal debemos anidar otra condicion que evalua si `DatoEntero` es mayor o igual a 0, para asi asegurarnos que el numero este dentro del intervalo establecido.\n",
        "\n",
        "\n",
        "\n",
        "```\n",
        "DatoEntero = int(input(\"Ingrese un numero entre 0 y 20\"))\n",
        "\n",
        "if DatoEntero =< 20:\n",
        "\n",
        " if Dato entero >= 0:\n",
        "  #Secuencia de numero si DatoEntero es menor o igual a 20 y mayor o igual a 0\n",
        "\n",
        " else:\n",
        "  #Secuencia de codigo si el codigo es menor o igual a 20 y menor a 0.\n",
        "\n",
        "\n",
        "else:\n",
        " #Secuencia de codigo si el numero es mayor que 20.\n",
        "```\n",
        "\n",
        "Ahora que establecimos nuestro primer intervalo de un numero entre `0 y 20` ahora podemos establecer un segundo intervalo para un numero entre `0 y 10`.\n",
        "\n",
        "```\n",
        "DatoEntero = int(input(\"Ingrese un numero entre 0 y 30\"))\n",
        "\n",
        "if DatoEntero <= 20:\n",
        "\n",
        " if DatoEntero >= 0:\n",
        "  \n",
        "  if DatoEntero <= 10:\n",
        "   #Secuencia de codigo si DatoEntero es menor o igual a 10\n",
        "\n",
        "  else:\n",
        "   #Secuencia de codigo si DatoEntero es menor o igual a 20 y mayor o igual a 0 pero mayor a 10.\n",
        "\n",
        " else:\n",
        "  print(\"El numero es menor a 20 pero es tambien es menor a 0, ingresa un valor dentro del parametro establecido (entre 0 y 20) \")\n",
        "\n",
        "\n",
        "\n",
        "else:\n",
        " print(\"El numero ingresado es mayor a 20, ingresa un nuevo numero valido que este en el intervalo (De 0 a 20) \")\n",
        "```\n",
        "\n",
        "Ahora debemos establecer el segundo intervalo `(11 a 20)`dentro del `else` de la funcion para que evalue el tercer intervalo `(11 a 20)`.\n",
        "\n",
        "```\n",
        "DatoEntero = int(input(\"Ingrese un numero entre 0 y 20\"))\n",
        "\n",
        "if DatoEntero =< 20:\n",
        "\n",
        " if DatoEntero >= 0:\n",
        "  \n",
        "  if DatoEntero <= 10\n",
        "\n",
        "   print(\"Su dato esta entre 0 y 10\")\n",
        "\n",
        "  else:\n",
        "   print(\"Su dato esta entre 11 y 20)\n",
        "   \n",
        "\n",
        "\n",
        " else:\n",
        "  print(\"El numero es menor a 30 pero es tambien es menor a 0, ingresa un valor dentro del parametro establecido (entre 0 y 20) \")\n",
        "\n",
        "\n",
        "\n",
        "else:\n",
        " print(\"El numero ingresado es mayor a 20, ingresa un nuevo numero valido que este en el intervalo (De 0 a 20) \")\n",
        "```"
      ],
      "metadata": {
        "id": "U1N7cEGtaXdB"
      }
    },
    {
      "cell_type": "markdown",
      "source": [
        "Nuestro codigo en una celda de codigo real se veria asi :"
      ],
      "metadata": {
        "id": "cNyl0CPtoLU6"
      }
    },
    {
      "cell_type": "code",
      "source": [
        "DatoEntero = int(input(\"Ingrese un numero entre 0 y 20 : \"))\n",
        "\n",
        "if DatoEntero <= 20:\n",
        "\n",
        " if DatoEntero >= 0:\n",
        "\n",
        "  if DatoEntero <= 10:\n",
        "\n",
        "   print(\"Su dato esta entre 0 y 10\")\n",
        "\n",
        "  else:\n",
        "   print(\"Su dato esta entre 11 y 20\")\n",
        "\n",
        " else:\n",
        "  print(\"El numero es menor a 20 pero es tambien es menor a 0, ingresa un valor dentro del parametro establecido (entre 0 y 20) \")\n",
        "\n",
        "else:\n",
        " print(\"El numero ingresado es mayor a 20, ingresa un nuevo numero valido que este en el intervalo (De 0 a 20) \")"
      ],
      "metadata": {
        "colab": {
          "base_uri": "https://localhost:8080/"
        },
        "id": "0pL4uOgcoOr7",
        "outputId": "2165686d-c61b-4f85-a662-d1c584d312d2"
      },
      "execution_count": null,
      "outputs": [
        {
          "output_type": "stream",
          "name": "stdout",
          "text": [
            "Ingrese un numero entre 0 y 20 : 12\n",
            "Su dato esta entre 11 y 20\n"
          ]
        }
      ]
    },
    {
      "cell_type": "markdown",
      "source": [
        "De esta manera, establecemos tres intervalos: el primero evalua si el numero ingresado `es menor o igual a 20`. Si esto no se cumple, significa que el numero `es mayor que 20` y se retorna el mensaje:\n",
        "`\"El numero ingresado es mayor a 20. Ingresa un numero valido que este en el intervalo (de 0 a 20).\"`\n",
        "\n",
        "Si el numero es `menor o igual a 20`, se evalua si el dato es `mayor o igual a 0`. Si esto no se cumple, se retorna:\n",
        "`\"El numero es menor o igual a 20, pero tambien es menor que 0. Ingresa un valor dentro del intervalo establecido (entre 0 y 20).\"`\n",
        "\n",
        "Si el numero `es mayor o igual a 0`, esto garantiza que esta dentro del rango de `0 a 20`. Ahora, para establecer limites mas precisos, se verifica si el numero `es menor o igual a 10`, lo que restringe el intervalo a` 0 a 10`. Si esta condicion no se cumple, el numero debe estar entre `11 y 20`.\n"
      ],
      "metadata": {
        "id": "STSvh0SXpYpj"
      }
    },
    {
      "cell_type": "markdown",
      "source": [
        "* En el anterior ejemplo existen tres niveles de anidacion :\n",
        "\n",
        "\n",
        "```\n",
        "DatoEntero = int(input(\"Ingrese un numero entre 0 y 20\"))\n",
        "\n",
        "if DatoEntero =< 20: #Primer nivel\n",
        " #Secuencia de codigo si el primer nivel se cumple.\n",
        " #(Para esto el numero debe ser menor o igual a 20)\n",
        "\n",
        " if DatoEntero >= 0: #Segundo nivel\n",
        "\n",
        "  #Secuencia de codigo si el primer y segundo nivel se cumplen.\n",
        "  #(Para esto el numero debe ser menor o igual a 20 y mayor o igual a 0)\n",
        "  \n",
        "   if DatoEntero <= 10 #Tercer nivel\n",
        "\n",
        "   #Secuencia de codigo si el primer y segundo y tercer nivel se cumplen.\n",
        "   #(Para esto el numero debe ser menor o igual a 20 y mayor o igual a 0 y menor o igual a 10)\n",
        "\n",
        "   \n",
        "   else:\n",
        "    #Secuencia de codigo si el primer y segundo nivel se cumplen, pero NO el tercero.\n",
        "    #(Para esto el numero debe ser menor o igual a 20 y mayor o igual a cero pero mayor a 10)\n",
        "     \n",
        "   \n",
        "\n",
        "\n",
        " else:\n",
        "    #Secuencia de codigo si el primer nivel se cumple pero NO el segundo.\n",
        "    #(Para esto el numero debe ser menor o igual a 20 pero menor a 0)\n",
        "  \n",
        "\n",
        "\n",
        "\n",
        "else:\n",
        "    #Secuencia de codigo si el primer nivel NO se cumple.\n",
        "    #(Para esto el numero debe ser mayor que 20)\n",
        "\n",
        "```\n",
        "\n"
      ],
      "metadata": {
        "id": "RYn1Aj56ZtZy"
      }
    },
    {
      "cell_type": "markdown",
      "source": [
        "Si quisieramos agregar un cuarto nivel entonces deberiamos acceder al `else` del tercer nivel y agregar un nuevo nivel de anidacion, que por ejemplo podria ser evaluar si `DatoEntero` es menor o igual que `15`, ya que el `else` se cumplira si y solo si `DatoEntero` `es menor a 20 y mayor a 0 pero mayor de 10` entonces esto nos hace entrar al intervalo de `11-20`, por lo que dentro de ahi podemos evaluar si `DatoEntero` es menor que `15 pero mayor a 10`."
      ],
      "metadata": {
        "id": "qBQ4lexIlSUt"
      }
    },
    {
      "cell_type": "markdown",
      "source": [
        "Ejemplo con 4 niveles de anidacion :\n",
        "\n",
        "```\n",
        "\n",
        "DatoEntero = int(input(\"Ingrese un numero entre 0 y 20\"))\n",
        "\n",
        "\n",
        "\n",
        "if DatoEntero =< 20: #Primer nivel\n",
        " #Secuencia de codigo si el primer nivel se cumple.\n",
        " #(Para esto el numero debe ser menor o igual a 20)\n",
        "\n",
        " - (Cualquier numero desde 20 positivo hasta - infinito es valido en este intervalo)\n",
        "\n",
        " if DatoEntero >= 0: #Segundo nivel\n",
        "  #Secuencia de codigo si el primer y segundo nivel se cumplen.\n",
        "  #(Para esto el numero debe ser menor o igual a 20 y mayor o igual a 0)\n",
        "\n",
        "  - (Cualquier numero desde el 20 positivo hasta el 0 son validos en este nivel)\n",
        "  \n",
        "   if DatoEntero <= 10 #Tercer nivel\n",
        "   #Secuencia de codigo si el primer y segundo y tercer nivel se cumplen.\n",
        "   #(Para esto el numero debe ser menor o igual a 20 y mayor o igual a 0 y menor o igual a 10)\n",
        "\n",
        "    - (Cualquier numero entre el 0 positivo hasta el 10 positivo es valido en este nivel)\n",
        "\n",
        "   \n",
        "   else:\n",
        "    #Secuencia de codigo si el primer y segundo nivel se cumplen, pero NO el tercero.\n",
        "    #(Para esto el numero debe ser menor o igual a 20 y mayor o igual a cero pero mayor a 10)\n",
        "\n",
        "    -(Cualquier numero entre el 10 positivo y el 20 positivo es valido en este nivel)\n",
        "\n",
        "\n",
        "\n",
        "    if DatoEntero <= 15: #Cuarto nivel de anidacion\n",
        "     #Secuencia de codigo si el primer y segundo nivel se cumplen, pero NO el tercer nivel.\n",
        "     #(Para esto el numero debe ser menor o igual a 20 y mayor o igual a 0 pero mayor a 10)\n",
        "\n",
        "      -(Cualquier numero entre el 10 positivo y 15 positivo es valido en este nivel)\n",
        "\n",
        "  else:\n",
        "      #Secuencia de codigo si el primer y segundo nivel se cumplen, pero el tercer y cuarto nivel NO se deben cumplir.\n",
        "      #(Para esto el numero debe ser menor o igual a 20 y mayor a 10 y tambien a mayor a 15)\n",
        "\n",
        "       -(Cualquier numero entre el 15 positivo y el 20 positivo es valido dentro de este nivel)\n",
        "     \n",
        "     \n",
        "     \n",
        "   \n",
        "\n",
        "\n",
        " else:\n",
        "    #Secuencia de codigo si el primer nivel se cumple pero NO el segundo.\n",
        "    #(Para esto el numero debe ser menor o igual a 20 pero menor a 0)\n",
        "  \n",
        "\n",
        "\n",
        "\n",
        "else:\n",
        "    #Secuencia de codigo si el primer nivel NO se cumple.\n",
        "    #(Para esto el numero debe ser mayor que 20)\n",
        "\n",
        "```\n"
      ],
      "metadata": {
        "id": "j1NNHLMzmgXP"
      }
    },
    {
      "cell_type": "code",
      "source": [
        "DatoEntero = int(input(\"Ingrese un numero entre 0 y 20 :\"))\n",
        "\n",
        "\n",
        "\n",
        "if DatoEntero <= 20:\n",
        "    print(\"Tu valor es menor o igual que 20\")\n",
        "    if DatoEntero >= 0:\n",
        "        print(\"Tu valor es menor o igual que 20 y mayor o igual que 0\")\n",
        "        if DatoEntero <= 10:\n",
        "            print(\"Tu valor es menor o igual que 20 y mayor o igual que 0, y también es menor o igual a 10\")\n",
        "        else:\n",
        "            print(\"Tu valor es menor o igual que 20 y mayor o igual que 0 y también mayor a 10\")\n",
        "            if DatoEntero <= 15:\n",
        "                print(\"Tu valor es menor o igual que 20 y mayor o igual que 0 y también mayor a 10 y también menor que 15\")\n",
        "            else:\n",
        "                print(\"Tu valor es menor o igual que 20 y mayor o igual que 0 y también mayor a 10 y también mayor que 15\")\n",
        "    else:\n",
        "        print(\"Tu valor es menor que 0\")\n",
        "else:\n",
        "    print(\"Tu valor es mayor que 20\")\n"
      ],
      "metadata": {
        "id": "u6QKSuUvq6Vg",
        "colab": {
          "base_uri": "https://localhost:8080/"
        },
        "outputId": "93d3d5fa-7016-4857-c58b-9abddc848436"
      },
      "execution_count": 4,
      "outputs": [
        {
          "output_type": "stream",
          "name": "stdout",
          "text": [
            "Ingrese un numero entre 0 y 20 :12\n",
            "Tu valor es menor o igual que 20\n",
            "Tu valor es menor o igual que 20 y mayor o igual que 0\n",
            "Tu valor es menor o igual que 20 y mayor o igual que 0 y también mayor a 10\n",
            "Tu valor es menor o igual que 20 y mayor o igual que 0 y también mayor a 10 y también menor que 15\n"
          ]
        }
      ]
    },
    {
      "cell_type": "markdown",
      "source": [
        "# **Preguntas acerca de condicionales anidadas.**"
      ],
      "metadata": {
        "id": "IBq0SEOAuyFB"
      }
    },
    {
      "cell_type": "markdown",
      "source": [
        "\n",
        "2. `El numero esta entre 0 y 50, pero es mayor o igual que 10 y menor que 25. ¿Que intervalo de numeros hay?`\n",
        "\n",
        "\n",
        "\n",
        "\n",
        "\n",
        "\n",
        "3. `Un valor esta entre 5 y 15, pero tambien es mayor que 8 y menor o igual que 12. ¿Que intervalo contiene este valor? `\n",
        "\n",
        "\n",
        "4. `Tu numero es mayor que 20, menor o igual que 40, pero tambien mayor o igual que 25 y menor que 30. ¿Cual es el intervalo resultante? `\n",
        "\n",
        "\n",
        "\n",
        "5. `Considera un numero mayor que 0, menor que 100, pero tambien mayor o igual que 35 y menor o igual que 50. ¿Que intervalo describe este numero?`\n",
        "\n",
        "\n",
        "\n",
        "\n",
        "\n",
        "\n",
        "\n",
        "6. `Un valor esta en el intervalo entre 10 y 25, pero ademas debe ser menor o igual que 20 y mayor que 15. ¿Que intervalo contiene este numero? `\n",
        "\n",
        "\n",
        "\n",
        "\n",
        "7. `El numero esta entre -10 y 10, pero tambien es mayor que -5 y menor que 7. ¿Que intervalo queda definido?`\n",
        "\n",
        "\n",
        "\n",
        "8. `Un valor es mayor o igual que 50, menor que 80, pero tambien menor o igual que 70 y mayor que 60. ¿Que intervalo describe este valor?  `\n",
        "\n",
        "\n",
        "\n",
        "9. `Considera un numero mayor o igual que -20, menor o igual que -5, pero tambien mayor que -15 y menor o igual que -10. ¿Que intervalo contiene este numero?  `\n",
        "\n",
        "\n",
        "\n",
        "\n",
        "10. `Tu valor esta en el rango de 0 a 1, pero tambien es mayor o igual que 0.3 y menor que 0.8. ¿Que intervalo de numeros hay?  `"
      ],
      "metadata": {
        "id": "3GN57XJtt0AZ"
      }
    },
    {
      "cell_type": "markdown",
      "source": [
        "# Respuestas a los intervalos\n",
        "\n",
        "\n",
        "2. El intervalo es **[10, 25)**.  \n",
        "\n",
        "-\n",
        "\n",
        "\n",
        "-\n",
        "\n",
        "\n",
        "-\n",
        "\n",
        "\n",
        "-\n",
        "3. El intervalo es **(8, 12]**.  \n",
        "\n",
        "-\n",
        "\n",
        "-\n",
        "\n",
        "-\n",
        "\n",
        "-\n",
        "\n",
        "-\n",
        "4. El intervalo es **[25, 30)**.  \n",
        "\n",
        "-\n",
        "\n",
        "-\n",
        "\n",
        "-\n",
        "\n",
        "-\n",
        "\n",
        "-\n",
        "\n",
        "-\n",
        "\n",
        "-\n",
        "5. El intervalo es **[35, 50]**.  \n",
        "\n",
        "-\n",
        "\n",
        "-\n",
        "\n",
        "-\n",
        "\n",
        "-\n",
        "\n",
        "-\n",
        "\n",
        "-\n",
        "\n",
        "6. El intervalo es **(15, 20]**.  \n",
        "-\n",
        "\n",
        "-\n",
        "\n",
        "-\n",
        "\n",
        "-\n",
        "\n",
        "-\n",
        "\n",
        "-\n",
        "7. El intervalo es **(-5, 7)**.  \n",
        "\n",
        "-\n",
        "\n",
        "-\n",
        "\n",
        "-\n",
        "\n",
        "-\n",
        "\n",
        "-\n",
        "\n",
        "-\n",
        "\n",
        "-\n",
        "\n",
        "8. El intervalo es **(60, 70]**.  \n",
        "-\n",
        "\n",
        "\n",
        "-\n",
        "\n",
        "\n",
        "-\n",
        "\n",
        "-\n",
        "\n",
        "-\n",
        "\n",
        "-\n",
        "\n",
        "9. El intervalo es **(-15, -10]**.\n",
        "\n",
        "-\n",
        "\n",
        "-\n",
        "\n",
        "-\n",
        "\n",
        "-\n",
        "\n",
        "-\n",
        "\n",
        "-\n",
        "\n",
        "10. El intervalo es **[0.3, 0.8)**.  \n"
      ],
      "metadata": {
        "id": "EDTgS8PDvVSg"
      }
    },
    {
      "cell_type": "markdown",
      "source": [
        "\n",
        "\n",
        "---\n",
        "\n",
        "* **Observa el siguiente codigo y menciona**\n",
        " 1. `Cuantos niveles de anidacion tiene la condicional.`\n",
        " 2.  `Cuales son las condiciones que se deben cumplir para que cada nivel se cumpla.`\n",
        " 3. `Que retornara el codigo.`\n",
        "\n",
        " - Por ejemplo, si nos dan :\n",
        "\n",
        " # Ejemplos de condicionales anidados\n",
        "\n",
        "\n",
        "```\n",
        "x = 6\n",
        "\n",
        "if x > 0: #Primer nivel de anidacion.\n",
        "\n",
        "    if x < 10:#Segundo nivel de anidacion\n",
        "        print(\"El numero esta entre 1 y 9.\")\n",
        "\n",
        "    else: #else del segundo nivel de anidacion.\n",
        "        print(\"El numero es mayor o igual a 10.\")\n",
        "\n",
        "else: #else del primer nivel de anidacion\n",
        "    print(\"El numero es menor o igual a 0.\")\n",
        "```\n",
        "\n",
        "1.  **En este ejemplo debes mencionar que tiene dos niveles de anidacion.**\n",
        "\n",
        "2. **Debes decir lo que pide cada nivel :**\n",
        " * El primer nivel pide :\n",
        "   1. `El numero debe ser mayor que 0 para que se cumpla la condicion.`\n",
        "   2. `El numero debe ser menor o igual a 0 para que el primer nivel no se cumpla.`\n",
        "   * Segundo nivel :\n",
        "   1. `El numero debe ser mayor que 0 y menor que 10 para que se cumpla el segundo nivel.`\n",
        "   2. `El numero debe ser mayor que 0 y igual o mayor que 10 para que no se cumpla el segundo nivel.`\n",
        "\n",
        "3. Finalmente debes decir lo que retornara el codigo, en este caso retornara `\"El numero esta entre 1 y 9.\"` ya que `x=6`\n"
      ],
      "metadata": {
        "id": "6ywL1X0E0kx2"
      }
    },
    {
      "cell_type": "markdown",
      "source": [
        "\n",
        "\n",
        "---\n",
        "#**Problema-1**\n",
        "\n",
        "* **Observa el siguiente codigo y menciona**\n",
        " 1. `Cuantos niveles de anidacion tiene la condicional.`\n",
        " 2.  `Cuales son las condiciones que se deben cumplir para que cada nivel se cumpla.`\n",
        " 3. `Que retornara el codigo.`\n",
        "\n",
        "\n",
        "\n"
      ],
      "metadata": {
        "id": "fQ05NvWA5mfs"
      }
    },
    {
      "cell_type": "code",
      "source": [
        "a = 7\n",
        "b= 4\n",
        "c = 3\n",
        "\n",
        "if a > 5:\n",
        "    if b < 10:\n",
        "        if c == 3:\n",
        "            print(\"a es mayor a 5, b es menor a 10, y c es igual a 3.\")\n",
        "        else:\n",
        "            print(\"a es mayor a 5, b es menor a 10, pero c no es igual a 3.\")\n",
        "    else:\n",
        "        print(\"a es mayor a 5, pero b no es menor a 10.\")\n",
        "else:\n",
        "    print(\"a no es mayor a 5.\")\n"
      ],
      "metadata": {
        "colab": {
          "base_uri": "https://localhost:8080/"
        },
        "collapsed": true,
        "id": "UmHuV6Nz5wmP",
        "outputId": "544ac691-1f48-4cb1-d45b-ab42ba194cb9"
      },
      "execution_count": 5,
      "outputs": [
        {
          "output_type": "stream",
          "name": "stdout",
          "text": [
            "a es mayor a 5, b es menor a 10, y c es igual a 3.\n"
          ]
        }
      ]
    },
    {
      "cell_type": "markdown",
      "source": [
        "\n",
        "\n",
        "---\n",
        "\n",
        "\n",
        "#**Problema-2**\n",
        "\n",
        "* **Observa el siguiente codigo y menciona**\n",
        " 1. `Cuantos niveles de anidacion tiene la condicional.`\n",
        " 2.  `Cuales son las condiciones que se deben cumplir para que cada nivel se cumpla.`\n",
        " 3. `Que retornara el codigo.`\n"
      ],
      "metadata": {
        "id": "1Gwf1UgI6gY-"
      }
    },
    {
      "cell_type": "code",
      "source": [
        "x = 3\n",
        "y=2\n",
        "z=4\n",
        "\n",
        "if x > 0:\n",
        "    if y > 0:\n",
        "        if z > 0:\n",
        "            print(\"Todos los numeros son positivos.\")\n",
        "        else:\n",
        "            print(\"x e y son positivos, pero z no lo es.\")\n",
        "    else:\n",
        "        print(\"x es positivo, pero y no lo es.\")\n",
        "else:\n",
        "    print(\"x no es positivo.\")\n"
      ],
      "metadata": {
        "id": "m8NBRl4t6gBK"
      },
      "execution_count": null,
      "outputs": []
    },
    {
      "cell_type": "markdown",
      "source": [
        "\n",
        "\n",
        "---\n",
        "\n",
        "#**Problema-3**\n",
        "\n",
        "* **Observa el siguiente codigo y menciona**\n",
        " 1. `Cuantos niveles de anidacion tiene la condicional.`\n",
        " 2.  `Cuales son las condiciones que se deben cumplir para que cada nivel se cumpla.`\n",
        " 3. `Que retornara el codigo.`"
      ],
      "metadata": {
        "id": "-bJJDnei6rII"
      }
    },
    {
      "cell_type": "code",
      "source": [
        "numero1 = 10\n",
        "\n",
        "numero2 = 5\n",
        "\n",
        "numero3 = 6\n",
        "\n",
        "\n",
        "if numero1 > 0:\n",
        "\n",
        "    if numero2 > numero1:\n",
        "\n",
        "        if numero3 > numero2:\n",
        "            print(\"Todos los números están en orden ascendente.\")\n",
        "\n",
        "        else:\n",
        "            print(\"numero3 no es mayor que numero2.\")\n",
        "    else:\n",
        "\n",
        "        if numero2 == numero1:\n",
        "            print(\"numero2 es igual a numero1.\")\n",
        "\n",
        "        else:\n",
        "            print(\"numero2 no es mayor que numero1.\")\n",
        "else:\n",
        "    print(\"numero1 no es mayor que 0.\")\n",
        "\n"
      ],
      "metadata": {
        "colab": {
          "base_uri": "https://localhost:8080/"
        },
        "collapsed": true,
        "id": "izWSdAyp6vuM",
        "outputId": "36658803-03b6-464e-db05-01b094df5d3e"
      },
      "execution_count": 6,
      "outputs": [
        {
          "output_type": "stream",
          "name": "stdout",
          "text": [
            "numero2 no es mayor que numero1.\n"
          ]
        }
      ]
    }
  ]
}