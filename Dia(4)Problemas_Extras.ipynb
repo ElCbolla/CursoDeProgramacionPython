{
  "nbformat": 4,
  "nbformat_minor": 0,
  "metadata": {
    "colab": {
      "provenance": [],
      "authorship_tag": "ABX9TyMA+iBZuF9n2CAxEJN4WsIP",
      "include_colab_link": true
    },
    "kernelspec": {
      "name": "python3",
      "display_name": "Python 3"
    },
    "language_info": {
      "name": "python"
    }
  },
  "cells": [
    {
      "cell_type": "markdown",
      "metadata": {
        "id": "view-in-github",
        "colab_type": "text"
      },
      "source": [
        "<a href=\"https://colab.research.google.com/github/ElCbolla/CursoDeProgramacionPython/blob/main/Dia(4)Problemas_Extras.ipynb\" target=\"_parent\"><img src=\"https://colab.research.google.com/assets/colab-badge.svg\" alt=\"Open In Colab\"/></a>"
      ]
    },
    {
      "cell_type": "markdown",
      "source": [
        "### **Problema 1**\n",
        "\n",
        "Crea un programa donde:\n",
        "\n",
        "1. Se definan cuatro variables : `Texto1`, `Texto2`, `Numero1`, `Numero2`.  \n",
        "2. Las variables `Texto1` y `Texto2` deben ser de tipo `{str}`.  \n",
        "3. Las variables `Numero1` y `Numero2` deben ser de tipo `{float}`.  \n",
        "4. Convierte el resultado de la suma de `Numero1` y `Numero2` a un número entero usando la función `int()`.  \n",
        "5. Calcula el exponente de la suma `(Numero1 + Numero2)` elevado a la suma de dos términos `(2 + 3)` usando `**`.  \n",
        "6. **Concatena** los resultados anteriores con `Texto1` y `Texto2` usando la función `print()` y el operador `( , )`.\n"
      ],
      "metadata": {
        "id": "WUxGG49aQcyQ"
      }
    },
    {
      "cell_type": "code",
      "execution_count": null,
      "metadata": {
        "id": "MBt4uYG7yrJc"
      },
      "outputs": [],
      "source": [
        "#Programa-1\n",
        "\n",
        "\n",
        "\n",
        "\n",
        "\n",
        "\n",
        "\n",
        "\n"
      ]
    },
    {
      "cell_type": "markdown",
      "source": [
        "\n",
        "\n",
        "---\n",
        "### **Problema 2**\n",
        "\n",
        "Crea un programa donde:\n",
        "\n",
        "1. Se definan cuatro variables: `TextoA`, `TextoB`, `NumeroA`, `NumeroB`.  \n",
        "2. Las variables `TextoA` y `TextoB` deben ser de tipo `{str}`.  \n",
        "3. Las variables `NumeroA` y `NumeroB` deben ser de tipo `{int}`.  \n",
        "4. Convierte el resultado de la multiplicacion de `NumeroA` entre `NumeroB` a un número decimal usando la función `float()`.  \n",
        "5. Concatena el resultado convertido con las variables `TextoA` y `TextoB` usando la funcion `print()` y el operador `( , ) `.\n",
        "\n"
      ],
      "metadata": {
        "id": "9LqpwIhjRmLT"
      }
    },
    {
      "cell_type": "code",
      "source": [
        "#Programa-2\n",
        "\n",
        "\n",
        "\n",
        "\n",
        "\n",
        "\n",
        "\n",
        "\n",
        "\n"
      ],
      "metadata": {
        "id": "aTgrBx7pS2UF"
      },
      "execution_count": null,
      "outputs": []
    },
    {
      "cell_type": "markdown",
      "source": [
        "\n",
        "\n",
        "---\n",
        "\n",
        "\n",
        "### **Problema 3**\n",
        "\n",
        "Crea un programa donde:\n",
        "\n",
        "1. Se definan cuatro variables: `Texto1`, `Texto2`, `Numero1`, `Numero2`.  \n",
        "2. Las variables `Texto1` y `Texto2` deben ser de tipo `{str}`.  \n",
        "3. Las variables `Numero1` y `Numero2` deben ser de tipo `{int}`.  \n",
        "4. Convierte el resultado de la suma de `Numero1` y `Numero2` a una cadena de texto usando la función `str()`.  \n",
        "5. Concatena el resultado anterior con las variables `Texto1` y `Texto2` usando el operador `( + )` y muestra el resultado final usando la función `print()`.\n"
      ],
      "metadata": {
        "id": "5WmWJH5KRT66"
      }
    },
    {
      "cell_type": "code",
      "source": [
        "#Programa-3"
      ],
      "metadata": {
        "id": "VIsQc_5fRiBx"
      },
      "execution_count": null,
      "outputs": []
    },
    {
      "cell_type": "markdown",
      "source": [
        "### **Problema 4**\n",
        "\n",
        "Crea un programa donde:\n",
        "\n",
        "1. Se definan cuatro variables: `Texto1`, `Texto2`, `Numero1` y `Numero2`.  \n",
        "2. Las variables `Texto1` y `Texto2` deben ser de tipo `{str}`.  \n",
        "3. Las variables `Numero1` y `Numero2` deben ser de tipo `{int}`.  \n",
        "4. Convierte el resultado de la división de `Numero1` entre `Numero2` a un número decimal usando la función `float()`.  \n",
        "5. Muestra el resultado convertido junto con las variables `Texto1` y `Texto2`, separándolos por comas en la función `print()`."
      ],
      "metadata": {
        "id": "HhheLGL6TVhK"
      }
    },
    {
      "cell_type": "code",
      "source": [
        "#Programa-4\n",
        "\n",
        "\n",
        "\n",
        "\n",
        "\n",
        "\n",
        "\n"
      ],
      "metadata": {
        "id": "4l6E2J8XT-GL"
      },
      "execution_count": null,
      "outputs": []
    },
    {
      "cell_type": "markdown",
      "source": [
        "### **Problema 5**\n",
        "\n",
        "Crea un programa donde:\n",
        "\n",
        "1. Se definan cinco variables: `TextoX`, `TextoY`, `NumeroX`, `NumeroY` y `NumeroZ`.  \n",
        "2. Las variables `TextoX` y `TextoY` deben ser de tipo `{str}`.  \n",
        "3. Las variables `NumeroX`, `NumeroY` y `NumeroZ` deben ser de tipo `{int}`.  \n",
        "4. Convierte el resultado de la división de `NumeroX` entre la suma de `NumeroY` y `NumeroZ` a un numero decimal usando la función `float()`.  \n",
        "5. Concatena el resultado convertido con las variables `TextoX` y `TextoY`, convirtiendolo nuevamente a texto con `str()` y usando el operador `( + )`.  \n",
        "6. Muestra el resultado final usando la función `print()`."
      ],
      "metadata": {
        "id": "eflo19JKUEAs"
      }
    },
    {
      "cell_type": "code",
      "source": [
        "#Programa-5\n",
        "\n",
        "\n",
        "\n",
        "\n",
        "\n",
        "\n",
        "\n",
        "\n"
      ],
      "metadata": {
        "id": "xHnKRPgjUiuN"
      },
      "execution_count": null,
      "outputs": []
    }
  ]
}