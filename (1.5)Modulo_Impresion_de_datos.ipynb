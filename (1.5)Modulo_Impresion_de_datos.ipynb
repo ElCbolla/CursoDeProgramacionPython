{
  "nbformat": 4,
  "nbformat_minor": 0,
  "metadata": {
    "colab": {
      "provenance": [],
      "authorship_tag": "ABX9TyODlSfBI1MOFAVr+kEswxQt",
      "include_colab_link": true
    },
    "kernelspec": {
      "name": "python3",
      "display_name": "Python 3"
    },
    "language_info": {
      "name": "python"
    }
  },
  "cells": [
    {
      "cell_type": "markdown",
      "metadata": {
        "id": "view-in-github",
        "colab_type": "text"
      },
      "source": [
        "<a href=\"https://colab.research.google.com/github/ElCbolla/CursoDeProgramacionPython/blob/main/(1.5)Modulo_Impresion_de_datos.ipynb\" target=\"_parent\"><img src=\"https://colab.research.google.com/assets/colab-badge.svg\" alt=\"Open In Colab\"/></a>"
      ]
    },
    {
      "cell_type": "markdown",
      "source": [
        "# **En python podemos mostrar informacion en la salida mediante la funcion `print()`, esta funcion cumple con el mismo objetivo que el algoritmo `\"Escribir\"` en pseint.**\n",
        "\n",
        "* **La estructura de ambas funciones es bastante similar, en ambas debes empezar con el nombre de la funcion y despues el dato que deseas mostrar en la salida del programa.**\n",
        "\n",
        "---\n",
        "* En pseint :\n",
        "\n",
        "![image.png](data:image/png;base64,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)\n",
        "\n",
        "\n",
        "---\n",
        "\n",
        "* En python :\n",
        "\n",
        "\n",
        "\n",
        "```\n",
        "print(DatoAImprimir)\n",
        "```\n",
        "\n",
        "\n",
        "\n",
        "\n",
        "\n"
      ],
      "metadata": {
        "id": "jKqQWmuNE9C9"
      }
    },
    {
      "cell_type": "markdown",
      "source": [
        "Al analizar ambas estructuras puedes notar que el algoritmo `\"Escribir`\" en python se traduce a `\"print\"` y en el contexto de python debes continuar con un par de parentesis `()`, Dentro de estos parentesis ya puedes imprimir el dato que desees.\n",
        "\n",
        "***Ejemplo- 1***:"
      ],
      "metadata": {
        "id": "AtAigaEmG8wI"
      }
    },
    {
      "cell_type": "markdown",
      "source": [
        "**Imprimir un dato tipo `{str}` o texto, que vimos anteriormente que este tipo se define cuando el texto esta dentro de unas comillas `\" \"`** :"
      ],
      "metadata": {
        "id": "WFBWYiDSHt7s"
      }
    },
    {
      "cell_type": "code",
      "execution_count": 1,
      "metadata": {
        "colab": {
          "base_uri": "https://localhost:8080/"
        },
        "id": "WKIiIUr2Ea0B",
        "outputId": "02c7f4e3-508a-4f77-a9d1-b7ef133ebb51"
      },
      "outputs": [
        {
          "output_type": "stream",
          "name": "stdout",
          "text": [
            "Hola\n"
          ]
        }
      ],
      "source": [
        "print(\"Hola\")"
      ]
    },
    {
      "cell_type": "markdown",
      "source": [
        "\n",
        "\n",
        "---\n",
        "\n",
        "***Ejemplo-2:***\n",
        "\n",
        "**imprimir un dato tipo `{int}` o entero, que vimos anteriormente que este tipo de dato se define cuando se trata de un valor numerico entero sin decimales.**\n",
        "\n"
      ],
      "metadata": {
        "id": "25QLjx_DH-cp"
      }
    },
    {
      "cell_type": "code",
      "source": [
        "print(5)"
      ],
      "metadata": {
        "colab": {
          "base_uri": "https://localhost:8080/"
        },
        "id": "cdZNZGkLIWGL",
        "outputId": "a7440c31-dae7-46a2-f487-6b197608f1a1"
      },
      "execution_count": 2,
      "outputs": [
        {
          "output_type": "stream",
          "name": "stdout",
          "text": [
            "5\n"
          ]
        }
      ]
    },
    {
      "cell_type": "markdown",
      "source": [
        "\n",
        "\n",
        "---\n",
        "\n",
        "***Ejemplo-3:***\n",
        "\n",
        "**imprimir un dato tipo `{float}` o decimal, que vimos anteriormente que este tipo de dato se define cuando se trata de un valor numerico con decimales.**\n",
        "\n"
      ],
      "metadata": {
        "id": "pbLZ_xlCIZil"
      }
    },
    {
      "cell_type": "code",
      "source": [
        "print(2.5)"
      ],
      "metadata": {
        "id": "BeYZnO14IhNV"
      },
      "execution_count": null,
      "outputs": []
    },
    {
      "cell_type": "markdown",
      "source": [
        "---\n",
        "\n",
        "***Ejemplo-4:***\n",
        "\n",
        "**imprimir un dato tipo `{bool}` o logico, que vimos anteriormente que este tipo de dato se define cuando se trata de un (`True` o `False`).**\n"
      ],
      "metadata": {
        "id": "Eh8cetxzIlkz"
      }
    },
    {
      "cell_type": "code",
      "source": [
        "print(True)"
      ],
      "metadata": {
        "colab": {
          "base_uri": "https://localhost:8080/"
        },
        "id": "iUK2E5NKI3oE",
        "outputId": "026c0a2e-49e7-478e-9585-947364c80f64"
      },
      "execution_count": 4,
      "outputs": [
        {
          "output_type": "stream",
          "name": "stdout",
          "text": [
            "True\n"
          ]
        }
      ]
    },
    {
      "cell_type": "code",
      "source": [
        "print(False)"
      ],
      "metadata": {
        "colab": {
          "base_uri": "https://localhost:8080/"
        },
        "id": "rDPB8cbCI5ly",
        "outputId": "95f48dcc-ad05-4a61-879c-1b948c3ae920"
      },
      "execution_count": 5,
      "outputs": [
        {
          "output_type": "stream",
          "name": "stdout",
          "text": [
            "False\n"
          ]
        }
      ]
    },
    {
      "cell_type": "markdown",
      "source": [
        "\n",
        "\n",
        "---\n",
        "\n",
        "**Al igual que podemos imprimir valores ingresandolos directamente dentro de los parentesis especificando previamente el tipo de dato, tambien se puede lograr haciendolo de manera indirecta.**\n",
        "\n",
        "* Esto se logra al imprimir el nombre de una variable ya previamente definida.\n",
        "\n",
        "\n",
        "\n",
        "---\n",
        "***Ejemplo-1 :***\n"
      ],
      "metadata": {
        "id": "SXHw1sTlI-ym"
      }
    },
    {
      "cell_type": "code",
      "source": [
        "NombreDeLaVariable = 10 #Recordemos que las variables tipo entero son aquello valores numericos sin decimales.\n",
        "\n",
        "print(NombreDeLaVariable)"
      ],
      "metadata": {
        "colab": {
          "base_uri": "https://localhost:8080/"
        },
        "id": "iNYHozsDJhrW",
        "outputId": "b9a0843e-b17f-429e-85a8-a70404bc31d4"
      },
      "execution_count": 6,
      "outputs": [
        {
          "output_type": "stream",
          "name": "stdout",
          "text": [
            "10\n"
          ]
        }
      ]
    },
    {
      "cell_type": "markdown",
      "source": [
        "**En el anterior ejemplo vemos que el programa retorna el valor entero** ` (int)` : `{10}`, esto se debe a que nuestra variable` NombreDeLaVariable` almacena el valor entero `{int}` de `10`, y al imprimir muestra el valor asignado a nuestra variable."
      ],
      "metadata": {
        "id": "GNHvXTlJJrH9"
      }
    },
    {
      "cell_type": "markdown",
      "source": [
        "\n",
        "\n",
        "---\n",
        "***Ejemplo-2 :***\n",
        "\n",
        "**Si por ejemplo en nuestra variable se almacenara un valor tipo Texto o `{str}` esto es lo que sucederia :**\n",
        "\n"
      ],
      "metadata": {
        "id": "17xLcEqsKjiN"
      }
    },
    {
      "cell_type": "code",
      "source": [
        "VariableTipoTexto = \"Texto\" #Recordemos que las variables tipo texto son aquellas que tienen comas.\n",
        "\n",
        "print(VariableTipoTexto)"
      ],
      "metadata": {
        "colab": {
          "base_uri": "https://localhost:8080/"
        },
        "id": "IV5g5baKKiAN",
        "outputId": "41f14cc4-8f3a-4ef8-f611-d137c3285d4e"
      },
      "execution_count": 8,
      "outputs": [
        {
          "output_type": "stream",
          "name": "stdout",
          "text": [
            "Texto\n"
          ]
        }
      ]
    },
    {
      "cell_type": "markdown",
      "source": [
        "**Esto nos imprime el valor asignado a nuestra variable `VariableTipoTexto`, que este en caso es de dato tipo texto o `{str}` : `\"Texto\"`**"
      ],
      "metadata": {
        "id": "DviXayvBLOrz"
      }
    },
    {
      "cell_type": "markdown",
      "source": [
        "\n",
        "\n",
        "---\n",
        "***Ejemplo-3 :***\n",
        "\n",
        "\n",
        "**Ahora probemos con una variable que posea un dato tipo decimal o `{float}`, aplicando lo anteriormente visto.**\n"
      ],
      "metadata": {
        "id": "HaRFBDoCLibx"
      }
    },
    {
      "cell_type": "code",
      "source": [
        "VariableTipoDecimal = 2.5 #Recordemos que las variables tipo decimal son aquellos valores numericos con decimales.\n",
        "\n",
        "print(VariableTipoDecimal)"
      ],
      "metadata": {
        "colab": {
          "base_uri": "https://localhost:8080/"
        },
        "id": "7IZyZRtGL8IP",
        "outputId": "1ec76100-6b04-4625-b61a-76ea8a860e7f"
      },
      "execution_count": 9,
      "outputs": [
        {
          "output_type": "stream",
          "name": "stdout",
          "text": [
            "2.5\n"
          ]
        }
      ]
    },
    {
      "cell_type": "markdown",
      "source": [
        "\n",
        "\n",
        "\n",
        "---\n",
        "\n",
        "\n",
        "***Ejemplo-4 :***\n",
        "\n",
        "**Finalmente probemos imprimir un dato tipo logico `{bool}`, que recordemos que los valores logicos son `True` y `False`.**"
      ],
      "metadata": {
        "id": "RkAPVbhmMU2g"
      }
    },
    {
      "cell_type": "code",
      "source": [
        "VariableBooleana = True\n",
        "\n",
        "print(VariableBooleana)"
      ],
      "metadata": {
        "colab": {
          "base_uri": "https://localhost:8080/"
        },
        "id": "iSGsHMtNMupk",
        "outputId": "1c4d8390-9585-4b2a-d64d-1d41cf6a174b"
      },
      "execution_count": 10,
      "outputs": [
        {
          "output_type": "stream",
          "name": "stdout",
          "text": [
            "True\n"
          ]
        }
      ]
    },
    {
      "cell_type": "markdown",
      "source": [
        "#**Preguntas acerca del print().**"
      ],
      "metadata": {
        "id": "QXdGAKm_NykC"
      }
    },
    {
      "cell_type": "markdown",
      "source": [
        "\n",
        "\n",
        "---\n",
        "\n",
        "\n",
        "1. `Que mensaje retornara el siguiente codigo y que tipo de dato almacena la variable?`"
      ],
      "metadata": {
        "id": "rJVcStdTN-yZ"
      }
    },
    {
      "cell_type": "code",
      "source": [
        "Variable = \"Hola\"\n",
        "\n",
        "print(Variable)"
      ],
      "metadata": {
        "id": "ILMWRkhqN-cQ"
      },
      "execution_count": null,
      "outputs": []
    },
    {
      "cell_type": "markdown",
      "source": [
        "\n",
        "\n",
        "---\n",
        "\n",
        "2. `Que mensaje retornara el siguiente codigo y que tipo de dato almacena la variable?`"
      ],
      "metadata": {
        "id": "Ipz--ptHOSAj"
      }
    },
    {
      "cell_type": "code",
      "source": [
        "Variable = 12\n",
        "\n",
        "print(Variable)"
      ],
      "metadata": {
        "id": "uXoL5eP4ORth"
      },
      "execution_count": null,
      "outputs": []
    },
    {
      "cell_type": "markdown",
      "source": [
        "\n",
        "\n",
        "---\n",
        "\n",
        "\n",
        "3. `Que mensaje retornara el siguiente codigo y que tipo de dato almacena la variable?`"
      ],
      "metadata": {
        "id": "7xh6ELc1OdbB"
      }
    },
    {
      "cell_type": "code",
      "source": [
        "Variable = \"12\"\n",
        "\n",
        "print(Variable)"
      ],
      "metadata": {
        "id": "G04S-9hROs06"
      },
      "execution_count": null,
      "outputs": []
    },
    {
      "cell_type": "markdown",
      "source": [
        "---\n",
        "\n",
        "\n",
        "4. `Que mensaje retornara el siguiente codigo y que tipo de dato almacena la variable?`"
      ],
      "metadata": {
        "id": "PFEhiCP6OwR-"
      }
    },
    {
      "cell_type": "code",
      "source": [
        "Variable = True\n",
        "\n",
        "print(Variable)"
      ],
      "metadata": {
        "id": "rbuXbKnOOv6P"
      },
      "execution_count": null,
      "outputs": []
    },
    {
      "cell_type": "markdown",
      "source": [
        "---\n",
        "\n",
        "\n",
        "5. `Que mensaje retornara el siguiente codigo y que tipo de dato almacena la variable?`"
      ],
      "metadata": {
        "id": "yUJd2QaqO2Nj"
      }
    },
    {
      "cell_type": "code",
      "source": [
        "Variable = 2.2\n",
        "\n",
        "print(Variable)"
      ],
      "metadata": {
        "id": "yH73gJQBO4A-"
      },
      "execution_count": null,
      "outputs": []
    },
    {
      "cell_type": "markdown",
      "source": [
        "---\n",
        "\n",
        "\n",
        "6. `Que mensaje retornara el siguiente codigo y que tipo de dato almacena la variable?`"
      ],
      "metadata": {
        "id": "D1JFPzPQO41Z"
      }
    },
    {
      "cell_type": "code",
      "source": [
        "Variable = False\n",
        "\n",
        "print(Variable)"
      ],
      "metadata": {
        "id": "NFYkGAqfO62T"
      },
      "execution_count": null,
      "outputs": []
    },
    {
      "cell_type": "markdown",
      "source": [
        "\n",
        "\n",
        "---\n",
        "\n",
        "\n",
        "7. `Que mensaje retonara el siguiente codigo?`\n",
        "* `Que tipo de dato almacena Variable1`\n",
        "* `Que tipo de dato almacena Variable2`"
      ],
      "metadata": {
        "id": "hODXvfsXPKGk"
      }
    },
    {
      "cell_type": "code",
      "source": [
        "Variable1 = 25\n",
        "Variable2 = \"Tamales\"\n",
        "\n",
        "print(Variable2)"
      ],
      "metadata": {
        "id": "tBzUaFoJPJ3O"
      },
      "execution_count": null,
      "outputs": []
    },
    {
      "cell_type": "markdown",
      "source": [
        "\n",
        "\n",
        "---\n",
        "\n",
        "\n",
        "8. `Que mensaje retonara el siguiente codigo?`\n",
        "* `Que tipo de dato almacena Variable1`\n",
        "* `Que tipo de dato almacena Variable2`"
      ],
      "metadata": {
        "id": "2NyFz0-UPso_"
      }
    },
    {
      "cell_type": "code",
      "source": [
        "Variable1 = False\n",
        "Variable2 = 12.2\n",
        "\n",
        "print(Variable1)"
      ],
      "metadata": {
        "id": "eMwoR4RbPz-O"
      },
      "execution_count": null,
      "outputs": []
    },
    {
      "cell_type": "markdown",
      "source": [
        "---\n",
        "\n",
        "\n",
        "9. `Que mensaje retonara el siguiente codigo?`\n",
        "* `Que tipo de dato almacena Variable1`\n",
        "* `Que tipo de dato almacena Variable2`"
      ],
      "metadata": {
        "id": "9RUdOsvoP7mq"
      }
    },
    {
      "cell_type": "code",
      "source": [
        "Variable1 = \"Hola\"\n",
        "Variable2 = 1.0\n",
        "\n",
        "print(Variable2)"
      ],
      "metadata": {
        "id": "o2PqHU_2QAGe"
      },
      "execution_count": null,
      "outputs": []
    },
    {
      "cell_type": "markdown",
      "source": [
        "---\n",
        "\n",
        "\n",
        "10. `Que mensaje retonara el siguiente codigo?`\n",
        "* `Que tipo de dato almacena Variable1`\n",
        "* `Que tipo de dato almacena Variable2`"
      ],
      "metadata": {
        "id": "_fui9vcqQHJ4"
      }
    },
    {
      "cell_type": "code",
      "source": [
        "Variable1 = \"Hola\"\n",
        "Variable2 = \"Arroz\"\n",
        "\n",
        "print(Variable1)"
      ],
      "metadata": {
        "id": "4fXJwJEtQLIT"
      },
      "execution_count": null,
      "outputs": []
    },
    {
      "cell_type": "markdown",
      "source": [
        "---\n",
        "\n",
        "\n",
        "11. `Que mensaje retonara el siguiente codigo?`\n",
        "* `Que tipo de dato almacena Variable1`\n",
        "* `Que tipo de dato almacena Variable2`\n",
        "* `Que tipo de dato almacena Variable3`"
      ],
      "metadata": {
        "id": "-DJ00y6dQT3M"
      }
    },
    {
      "cell_type": "code",
      "source": [
        "Variable1 = \"Hola\"\n",
        "Variable2 = True\n",
        "Variable3 = 10.0\n",
        "\n",
        "print(Variable3)"
      ],
      "metadata": {
        "id": "H6XLuVKcQeJw"
      },
      "execution_count": null,
      "outputs": []
    },
    {
      "cell_type": "markdown",
      "source": [
        "---\n",
        "\n",
        "\n",
        "12. `Que mensaje retonara el siguiente codigo?`\n",
        "* `Que tipo de dato almacena Variable1`\n",
        "* `Que tipo de dato almacena Variable2`\n",
        "* `Que tipo de dato almacena Variable3`"
      ],
      "metadata": {
        "id": "kiYX_Q_KQpdz"
      }
    },
    {
      "cell_type": "code",
      "source": [
        "Variable1 = False\n",
        "Variable2 = 5\n",
        "Variable3 = 2.2\n",
        "\n",
        "print(Variable2)"
      ],
      "metadata": {
        "colab": {
          "base_uri": "https://localhost:8080/"
        },
        "id": "TpPLjxvaQpGo",
        "outputId": "bb61177b-7db0-4844-86f3-6dbf54069d06"
      },
      "execution_count": 11,
      "outputs": [
        {
          "output_type": "stream",
          "name": "stdout",
          "text": [
            "5\n"
          ]
        }
      ]
    },
    {
      "cell_type": "markdown",
      "source": [
        "# **Problemas relacionados a la impresion de mensajes.**"
      ],
      "metadata": {
        "id": "Nd5EdTW2Q34t"
      }
    }
  ]
}