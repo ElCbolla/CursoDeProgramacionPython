{
  "nbformat": 4,
  "nbformat_minor": 0,
  "metadata": {
    "colab": {
      "provenance": [],
      "authorship_tag": "ABX9TyNL5SKPLjhL4RO+QwCsBmeG",
      "include_colab_link": true
    },
    "kernelspec": {
      "name": "python3",
      "display_name": "Python 3"
    },
    "language_info": {
      "name": "python"
    }
  },
  "cells": [
    {
      "cell_type": "markdown",
      "metadata": {
        "id": "view-in-github",
        "colab_type": "text"
      },
      "source": [
        "<a href=\"https://colab.research.google.com/github/ElCbolla/CursoDeProgramacionPython/blob/main/Repaso_Programacion(2).ipynb\" target=\"_parent\"><img src=\"https://colab.research.google.com/assets/colab-badge.svg\" alt=\"Open In Colab\"/></a>"
      ]
    },
    {
      "cell_type": "markdown",
      "source": [
        "# **Problema 1**\n",
        "\n",
        "Crea un programa donde:\n",
        "\n",
        "1. Se solicite al usuario que seleccione una accion para un ventilador automatico:\n",
        "   - `\"encender\"`, `\"apagar\"`.\n",
        "\n",
        "2. El programa debe realizar lo siguiente:\n",
        "   - Si la accion es `\"encender\"`, imprime `\"El ventilador esta encendido\"`.\n",
        "   - Si la accion es `\"apagar\"`, imprime `\"El ventilador esta apagado\"`.\n",
        "   - Si la accion ingresada no es valida, imprime `\"Accion no valida\"`."
      ],
      "metadata": {
        "id": "WWsi-gCB2gnL"
      }
    },
    {
      "cell_type": "code",
      "execution_count": null,
      "metadata": {
        "id": "pA2YRXT42fLf"
      },
      "outputs": [],
      "source": [
        "#Programa-1\n",
        "\n",
        "\n",
        "\n",
        "\n",
        "\n"
      ]
    },
    {
      "cell_type": "markdown",
      "source": [
        "\n",
        "\n",
        "---\n",
        "\n",
        "# **Problema 2**\n",
        "\n",
        "Crea un programa donde:\n",
        "\n",
        "1. Se solicite al usuario que seleccione una accion para un semaforo:\n",
        "   - `\"verde\"`, `\"amarillo\"`, `\"rojo\"`.\n",
        "\n",
        "2. El programa debe realizar lo siguiente:\n",
        "   - Si la accion es `\"verde\"`, imprime `\"El semaforo esta en verde. Avance.\"`.\n",
        "   - Si la accion es `\"amarillo\"`, imprime `\"El semaforo esta en amarillo. Precaucion.\"`.\n",
        "   - Si la accion es `\"rojo\"`, imprime `\"El semaforo esta en rojo. Detengase.\"`.\n",
        "   - Si la accion ingresada no es valida, imprime `\"Accion no valida\"`.\n"
      ],
      "metadata": {
        "id": "WLw9fgkB2wpM"
      }
    },
    {
      "cell_type": "code",
      "source": [
        "#Programa-2\n",
        "\n",
        "\n",
        "\n",
        "\n",
        "\n",
        "\n"
      ],
      "metadata": {
        "id": "hm606x8n23yQ"
      },
      "execution_count": null,
      "outputs": []
    },
    {
      "cell_type": "markdown",
      "source": [
        "---\n",
        "\n",
        "# **Problema 3**\n",
        "\n",
        "Crea un programa donde:\n",
        "\n",
        "1. Se solicite al usuario que seleccione una accion para una lampara inteligente:\n",
        "   - `\"encender\"`, `\"apagar\"`.\n",
        "\n",
        "2. El programa debe realizar lo siguiente:\n",
        "   - Si la accion es `\"encender\"`, imprime `\"La lampara esta encendida\"`.\n",
        "   - Si la accion es `\"apagar\"`, imprime `\"La lampara esta apagada\"`.\n",
        "   - Si la accion ingresada no es valida, imprime `\"Accion no valida\"`.\n"
      ],
      "metadata": {
        "id": "k9uiyzld2__d"
      }
    },
    {
      "cell_type": "code",
      "source": [
        "#Programa-3\n",
        "\n",
        "\n",
        "\n",
        "\n",
        "\n"
      ],
      "metadata": {
        "id": "yX5nIv4_3OD1"
      },
      "execution_count": null,
      "outputs": []
    },
    {
      "cell_type": "markdown",
      "source": [
        "\n",
        "\n",
        "---\n",
        "\n",
        "\n",
        "# **Problema 4**\n",
        "\n",
        "Crea un programa donde:\n",
        "\n",
        "1. Se solicite al usuario que seleccione una accion para un robot:\n",
        "   - `\"avanzar\"`, `\"retroceder\"`.\n",
        "\n",
        "2. El programa debe realizar lo siguiente:\n",
        "   - Si la accion es `\"avanzar\"`, imprime `\"El robot esta avanzando\"`.\n",
        "   - Si la accion es `\"retroceder\"`, imprime `\"El robot esta retrocediendo\"`.\n",
        "   - Si la accion ingresada no es valida, imprime `\"Accion no valida\"`."
      ],
      "metadata": {
        "id": "pxA-FxnC3W6C"
      }
    },
    {
      "cell_type": "code",
      "source": [
        "#Programa-4\n",
        "\n",
        "\n",
        "\n",
        "\n",
        "\n",
        "\n",
        "\n"
      ],
      "metadata": {
        "id": "KNmKV7HP3fhs"
      },
      "execution_count": null,
      "outputs": []
    }
  ]
}