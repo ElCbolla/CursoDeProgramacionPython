{
  "nbformat": 4,
  "nbformat_minor": 0,
  "metadata": {
    "colab": {
      "provenance": [],
      "authorship_tag": "ABX9TyMaZy/J0dCkRCddvaXRfn8W",
      "include_colab_link": true
    },
    "kernelspec": {
      "name": "python3",
      "display_name": "Python 3"
    },
    "language_info": {
      "name": "python"
    }
  },
  "cells": [
    {
      "cell_type": "markdown",
      "metadata": {
        "id": "view-in-github",
        "colab_type": "text"
      },
      "source": [
        "<a href=\"https://colab.research.google.com/github/ElCbolla/CursoDeProgramacionPython/blob/main/Programas__Asociados_a_inputs.ipynb\" target=\"_parent\"><img src=\"https://colab.research.google.com/assets/colab-badge.svg\" alt=\"Open In Colab\"/></a>"
      ]
    },
    {
      "cell_type": "markdown",
      "source": [
        "# **Programa-1**\n",
        "\n",
        "Crea un programa donde:\n",
        "\n",
        "1. Se definan dos variables mediante entradas del usuario:\n",
        "    - `Texto1` y `Texto2`, que deben ser cadenas de texto.\n",
        "\n",
        "2. El programa debe concatenar `Texto1` y `Texto2`, separados por un espacio, e imprimir el resultado con la funcion `print()`\n",
        "\n",
        "\n"
      ],
      "metadata": {
        "id": "AA_i_nD6ISxm"
      }
    },
    {
      "cell_type": "code",
      "execution_count": null,
      "metadata": {
        "id": "THgzblKxHh5Q"
      },
      "outputs": [],
      "source": [
        "#Programa-1\n",
        "\n",
        "\n",
        "\n",
        "\n",
        "\n"
      ]
    },
    {
      "cell_type": "markdown",
      "source": [
        "\n",
        "\n",
        "---\n",
        "\n",
        "# **Programa-2**\n",
        "\n",
        "Crea un programa donde:\n",
        "\n",
        "1. Se definan tres variables mediante entradas del usuario:\n",
        "    - `Numero1` y `Numero2`, que deben ser numeros enteros.\n",
        "    - `Multiplicador`, que debe ser un numero entero,\n",
        "\n",
        "2. Calcula el producto de `Numero1` y `Numero2` y multiplica este resultado por el valor de `Multiplicador`.\n",
        "\n",
        "3. Imprime el resultado final.\n"
      ],
      "metadata": {
        "id": "omDCEFwWIlr-"
      }
    },
    {
      "cell_type": "code",
      "source": [
        "#Programa-2"
      ],
      "metadata": {
        "id": "5EqluQB2JpZD"
      },
      "execution_count": null,
      "outputs": []
    },
    {
      "cell_type": "markdown",
      "source": [
        "\n",
        "\n",
        "---\n",
        "#**Programa-3**\n",
        "\n",
        "\n",
        "Crea un programa donde:\n",
        "\n",
        "1. Se definan tres variables mediante entradas del usuario:\n",
        "    - `Texto` debe ser una cadena de texto.\n",
        "    - `Repeticiones` debe ser un numero entero positivo.\n",
        "\n",
        "2. El programa debe repetir `Texto` la cantidad de veces indicada por `Repeticiones`, e imprimir mediante la funcion `print()`\n",
        "\n"
      ],
      "metadata": {
        "id": "Mk-CkPc2I3IZ"
      }
    },
    {
      "cell_type": "code",
      "source": [
        "#Programa-3"
      ],
      "metadata": {
        "id": "dHkua7IBJofO"
      },
      "execution_count": null,
      "outputs": []
    },
    {
      "cell_type": "markdown",
      "source": [
        "\n",
        "\n",
        "---\n",
        "# **Programa-4**\n",
        "\n",
        "Crea un programa donde:\n",
        "\n",
        "1. Se definan tres variables mediante entradas del usuario:\n",
        "    - `Numero1`, `Numero2` y `Numero3`, que deben ser numeros enteros.\n",
        "\n",
        "2. Calcula el promedio de los tres numeros recordando que el promedio es la suma de los datos entre la cantidad de datos e imprime el resultado mediante una funcion `print()`\n"
      ],
      "metadata": {
        "id": "xzUNNxgWJGFb"
      }
    },
    {
      "cell_type": "code",
      "source": [
        "#Programa-4"
      ],
      "metadata": {
        "id": "DkkVBMGKJxlA"
      },
      "execution_count": null,
      "outputs": []
    },
    {
      "cell_type": "markdown",
      "source": [
        "\n",
        "\n",
        "---\n",
        "#**Programa-5**\n",
        "\n",
        "Crea un programa donde:\n",
        "\n",
        "1. Se definan una variable mediante entrada del usuario:\n",
        "    - `Calificacion`, que debe ser un numero entero entre 0 y 100.\n",
        "\n",
        "2. El programa debe determinar la letra correspondiente a la calificacion:\n",
        "    - Si `Calificacion` es mayor o igual a 90, imprime `\"Tu letra es A.\"`.\n",
        "    - Si `Calificacion` esta entre 80 y 89, imprime `\"Tu letra es B.\"`.\n",
        "    - Si `Calificacion` esta entre 70 y 79, imprime `\"Tu letra es C.\"`.\n",
        "    - Si `Calificacion` es menor de 70, imprime `\"Tu letra es D.\"`.\n",
        "\n",
        "3. Imprime el resultado correspondiente mediante la funcion `print()`\n",
        "\n"
      ],
      "metadata": {
        "id": "Bsbd2y48J6mo"
      }
    },
    {
      "cell_type": "code",
      "source": [
        "#Programa-5\n",
        "\n",
        "\n",
        "\n",
        "\n",
        "\n",
        "\n"
      ],
      "metadata": {
        "id": "-WiL04frWNpP"
      },
      "execution_count": null,
      "outputs": []
    },
    {
      "cell_type": "markdown",
      "source": [
        "# **Programa-6**\n",
        "\n",
        "Crea un programa donde:\n",
        "\n",
        "1. Se defina una variable mediante entrada del usuario:\n",
        "    - `Temperatura`, que debe ser un numero entero.\n",
        "\n",
        "2. El programa debe clasificar la temperatura en las siguientes categorias:\n",
        "    - Si `Temperatura` es mayor o igual a 30, imprime `\"Hace mucho calor.\"`.\n",
        "    - Si `Temperatura` esta entre 20 y 29, imprime `\"El clima es calido.\"`.\n",
        "    - Si `Temperatura` esta entre 10 y 19, imprime `\"El clima es fresco.\"`.\n",
        "    - Si `Temperatura` es menor de 10, imprime `\"Hace frio.\"`.\n",
        "3. Imprime el resultado correspondiente mediante la funcion `print()`"
      ],
      "metadata": {
        "id": "qO7uX290WCuA"
      }
    },
    {
      "cell_type": "code",
      "source": [
        "#Programa-6\n",
        "\n",
        "\n",
        "\n",
        "\n",
        "\n",
        "\n",
        "\n"
      ],
      "metadata": {
        "id": "Hcz61WtgXt5G"
      },
      "execution_count": null,
      "outputs": []
    },
    {
      "cell_type": "markdown",
      "source": [
        "# **Programa-7**\n",
        "Crea un programa donde:\n",
        "\n",
        "1. Se definan tres variables mediante entradas del usuario:\n",
        "    - `Numero1` y `Numero2`, que deben ser numeros enteros.\n",
        "    - `Operacion`, que debe ser un texto que indique la operacion a realizar: `\"suma\"`, `\"resta\"`, `\"multiplicacion\"`\n",
        "\n",
        "2. El programa debe realizar la operacion seleccionada:\n",
        "    - Si `Operacion` es `\"suma\"`, calcula e imprime la suma de los dos numeros.\n",
        "    - Si `Operacion` es `\"resta\"`, calcula e imprime la resta de los dos numeros.\n",
        "    - Si `Operacion` es `\"multiplicacion\"`, calcula e imprime el producto de los dos numeros.\n",
        "  \n",
        "- Si la operacion ingresada no es valida, imprime `\"Operacion no reconocida.\"`."
      ],
      "metadata": {
        "id": "oeLVun_QXhnP"
      }
    },
    {
      "cell_type": "code",
      "source": [
        "#Programa-7\n",
        "\n",
        "\n",
        "\n",
        "\n",
        "\n",
        "\n",
        "\n",
        "\n"
      ],
      "metadata": {
        "id": "rF7_KJJwXwmC"
      },
      "execution_count": null,
      "outputs": []
    },
    {
      "cell_type": "markdown",
      "source": [
        "---\n",
        "\n",
        "# **Problema 8**\n",
        "\n",
        "Crea un programa donde:\n",
        "\n",
        "1. Se solicite al usuario que ingrese un comando para controlar una luz:\n",
        "   - `\"encender\"`, `\"apagar\"`, o `\"estado\"`.\n",
        "\n",
        "2. El programa debe realizar lo siguiente:\n",
        "   - Si el comando es `\"encender\"`, imprime `\"La luz está encendida\"`.\n",
        "   - Si el comando es `\"apagar\"`, imprime `\"La luz está apagada\"`.\n",
        "   - Si el comando ingresado no es valido, imprime `\"Comando no reconocido.\"`.\n",
        "\n"
      ],
      "metadata": {
        "id": "EwC37F13ZAPg"
      }
    },
    {
      "cell_type": "code",
      "source": [
        "#Programa-8\n",
        "\n",
        "\n",
        "\n",
        "\n",
        "\n",
        "\n"
      ],
      "metadata": {
        "id": "RmsqK7ZIZXs5"
      },
      "execution_count": null,
      "outputs": []
    }
  ]
}