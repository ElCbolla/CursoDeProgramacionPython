{
  "nbformat": 4,
  "nbformat_minor": 0,
  "metadata": {
    "colab": {
      "provenance": [],
      "authorship_tag": "ABX9TyOxlLFsDwALs7x0c2XYGqR4",
      "include_colab_link": true
    },
    "kernelspec": {
      "name": "python3",
      "display_name": "Python 3"
    },
    "language_info": {
      "name": "python"
    }
  },
  "cells": [
    {
      "cell_type": "markdown",
      "metadata": {
        "id": "view-in-github",
        "colab_type": "text"
      },
      "source": [
        "<a href=\"https://colab.research.google.com/github/ElCbolla/CursoDeProgramacionPython/blob/main/Dia(9)Problemas_extras.ipynb\" target=\"_parent\"><img src=\"https://colab.research.google.com/assets/colab-badge.svg\" alt=\"Open In Colab\"/></a>"
      ]
    },
    {
      "cell_type": "markdown",
      "source": [
        "#**Programa-1**\n",
        "\n",
        "Crea un programa donde:\n",
        "\n",
        "1. Se definan dos variables mediante entradas del usuario:\n",
        "   - `Figura`, que debe ser un texto que indique la figura geometrica: `\"cuadrado\"`, `\"rectangulo\"` o `\"circulo\"`.\n",
        "   - Los datos necesarios para calcular el perimetro segun la figura seleccionada:\n",
        "     - Si es `\"cuadrado\"`, pide el valor de un lado.\n",
        "     - Si es `\"rectangulo\"`, pide la base y la altura.\n",
        "     - Si es `\"circulo\"`, pide el radio.\n",
        "\n",
        "2. El programa debe calcular e imprimir el perimetro de la figura seleccionada:\n",
        "   - Para `\"cuadrado\"`, el perimetro es 4 × lado.\n",
        "   - Para `\"rectangulo\"`, el perimetro es 2 × (base + altura).\n",
        "   - Para `\"circulo\"`, el perimetro es 2 × pi × radio (usa 3.14 como valor de pi).\n",
        "\n",
        "3. Si la figura ingresada no es valida, imprime `\"Figura no reconocida.\"`"
      ],
      "metadata": {
        "id": "yCBGXCQafMj7"
      }
    },
    {
      "cell_type": "code",
      "execution_count": null,
      "metadata": {
        "id": "bHRzhIFEe33i"
      },
      "outputs": [],
      "source": [
        "#Programa-1\n",
        "\n",
        "\n",
        "\n",
        "\n",
        "\n",
        "\n",
        "\n",
        "\n"
      ]
    },
    {
      "cell_type": "markdown",
      "source": [
        "\n",
        "\n",
        "---\n",
        "\n",
        "---\n",
        "\n",
        "### **Programa-2**\n",
        "\n",
        "Crea un programa donde:\n",
        "\n",
        "1. Se definan dos variables mediante entradas del usuario:\n",
        "   - `Vehiculo`, que debe ser un texto que indique el tipo de vehiculo: `\"coche\"`, `\"bicicleta\"` o `\"motocicleta\"`.\n",
        "   - La `distancia`, que debe ser ingresada en kilometros.\n",
        "\n",
        "2. El programa debe calcular el tiempo estimado de viaje utilizando velocidades promedio predefinidas:\n",
        "   - Para `\"coche\"`, la velocidad promedio es de `100 km/h`.\n",
        "   - Para `\"bicicleta\"`, la velocidad promedio es de `20 km/h`.\n",
        "   - Para `\"motocicleta\"`, la velocidad promedio es de `80 km/h`.\n",
        "\n",
        "   El tiempo estimado se calcula como:` (Distancia/VelocidadPromedio`)\n",
        "\n",
        "\n",
        "\n",
        "3. El programa debe imprimir el tiempo estimado de viaje mediante una funcion `print()`\n",
        "\n",
        "4. Si el vehiculo ingresado no es valido imprime `\"Vehiculo no reconocido.\"` mediante una funcion `print()`."
      ],
      "metadata": {
        "id": "NEE5ex3YgOai"
      }
    },
    {
      "cell_type": "code",
      "source": [
        "#Programa-2\n",
        "\n",
        "\n",
        "\n",
        "\n",
        "\n",
        "\n",
        "\n"
      ],
      "metadata": {
        "id": "aPxQsbUehBmk"
      },
      "execution_count": null,
      "outputs": []
    }
  ]
}