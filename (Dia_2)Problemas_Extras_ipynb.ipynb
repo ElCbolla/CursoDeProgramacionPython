{
  "nbformat": 4,
  "nbformat_minor": 0,
  "metadata": {
    "colab": {
      "provenance": [],
      "authorship_tag": "ABX9TyOFtiHUzA00kDf/beIOHCeN",
      "include_colab_link": true
    },
    "kernelspec": {
      "name": "python3",
      "display_name": "Python 3"
    },
    "language_info": {
      "name": "python"
    }
  },
  "cells": [
    {
      "cell_type": "markdown",
      "metadata": {
        "id": "view-in-github",
        "colab_type": "text"
      },
      "source": [
        "<a href=\"https://colab.research.google.com/github/ElCbolla/CursoDeProgramacionPython/blob/main/(Dia_2)Problemas_Extras_ipynb.ipynb\" target=\"_parent\"><img src=\"https://colab.research.google.com/assets/colab-badge.svg\" alt=\"Open In Colab\"/></a>"
      ]
    },
    {
      "cell_type": "markdown",
      "source": [
        "#**Problemas dia 2**"
      ],
      "metadata": {
        "id": "gXQ0u5Ll5sdU"
      }
    },
    {
      "cell_type": "markdown",
      "source": [
        "#**Problema-1**\n",
        "\n",
        "1. `   El siguiente ejemplo retornara error o se ejecutara correctamente, y si se ejecuta, que retornara?`\n",
        "2.   Que tipo de dato es `Variable1`?\n",
        "3. Que tipo de dato es `Variable2`?\n",
        "3. Que tipo de dato es `Variable3`?\n",
        "\n",
        "```\n",
        "Variable1 = True + 5 - 2\n",
        "\n",
        "Variable2 = 2 * 1\n",
        "\n",
        "Variable3 = \"Texto\"\n",
        "\n",
        "print(Variable1 + Variable2)\n",
        "```\n",
        "\n"
      ],
      "metadata": {
        "id": "-PPerMqN6uMH"
      }
    },
    {
      "cell_type": "markdown",
      "source": [
        "---\n",
        "**El la siguiente celda de codigo escribe el tipo de dato de `Variable1`.**\n",
        "\n",
        "`(str , int , float , bool)`"
      ],
      "metadata": {
        "id": "FID5SK388e7w"
      }
    },
    {
      "cell_type": "code",
      "source": [],
      "metadata": {
        "id": "mU_ZSlvP8eGQ"
      },
      "execution_count": 1,
      "outputs": []
    },
    {
      "cell_type": "markdown",
      "source": [
        "---\n",
        "**El la siguiente celda de codigo escribe el tipo de dato de `Variable2`.**\n",
        "\n",
        "`(str , int , float , bool)`"
      ],
      "metadata": {
        "id": "gj3fG3qd8naI"
      }
    },
    {
      "cell_type": "code",
      "source": [],
      "metadata": {
        "id": "byT__Qmm9Ev9"
      },
      "execution_count": null,
      "outputs": []
    },
    {
      "cell_type": "markdown",
      "source": [
        "---\n",
        "**El la siguiente celda de codigo escribe el tipo de dato de `Variable3`.**\n",
        "\n",
        "`(str , int , float , bool)`"
      ],
      "metadata": {
        "id": "J8C32RJZ9FTo"
      }
    },
    {
      "cell_type": "code",
      "source": [],
      "metadata": {
        "id": "vT_IfQKB9G29"
      },
      "execution_count": null,
      "outputs": []
    },
    {
      "cell_type": "markdown",
      "source": [
        "---\n",
        "**En la siguiente celda de codigo escribe el valor que crees que retornar, o si consideras que el codigo generara un error, escribe `( error )`.**\n",
        "\n"
      ],
      "metadata": {
        "id": "RkERnkTA9HjE"
      }
    },
    {
      "cell_type": "code",
      "source": [],
      "metadata": {
        "id": "_AqMqeG69cAG"
      },
      "execution_count": null,
      "outputs": []
    },
    {
      "cell_type": "markdown",
      "source": [
        "\n",
        "\n",
        "---\n",
        "\n",
        "\n",
        "# **Problema-2**\n",
        "\n",
        "\n",
        "1. `   El siguiente ejemplo retornara error o se ejecutara correctamente, y si se ejecuta, que retornara?`\n",
        "2.   Que tipo de dato es `Variable1`?\n",
        "3. Que tipo de dato es `Variable2`?\n",
        "```\n",
        "Variable1 = True + False - 1\n",
        "Variable2 = 2.5 + 1\n",
        "print(Variable1 + Variable2)\n",
        "```\n"
      ],
      "metadata": {
        "id": "ouwSsOdR9dak"
      }
    },
    {
      "cell_type": "markdown",
      "source": [
        "---\n",
        "**El la siguiente celda de codigo escribe el tipo de dato de `Variable1`.**\n",
        "\n",
        "`(str , int , float , bool)`"
      ],
      "metadata": {
        "id": "14PT3LGP98oQ"
      }
    },
    {
      "cell_type": "code",
      "source": [],
      "metadata": {
        "id": "0bKxNBdj99zU",
        "colab": {
          "base_uri": "https://localhost:8080/"
        },
        "outputId": "e413faee-dd90-418e-8536-527e20df2ba6"
      },
      "execution_count": 2,
      "outputs": [
        {
          "output_type": "stream",
          "name": "stdout",
          "text": [
            "3.5\n"
          ]
        }
      ]
    },
    {
      "cell_type": "markdown",
      "source": [
        "---\n",
        "**El la siguiente celda de codigo escribe el tipo de dato de `Variable2`.**\n",
        "\n",
        "`(str , int , float , bool)`"
      ],
      "metadata": {
        "id": "Xiq8KxL79-X1"
      }
    },
    {
      "cell_type": "code",
      "source": [],
      "metadata": {
        "id": "SDirRolo9_YO"
      },
      "execution_count": null,
      "outputs": []
    },
    {
      "cell_type": "markdown",
      "source": [
        "---\n",
        "**En la siguiente celda de codigo escribe el valor que crees que retornar, o si consideras que el codigo generara un error, escribe `( error )`.**\n"
      ],
      "metadata": {
        "id": "obhfrM_Z-Q4f"
      }
    },
    {
      "cell_type": "code",
      "source": [],
      "metadata": {
        "id": "P0breJnV-UPw"
      },
      "execution_count": null,
      "outputs": []
    },
    {
      "cell_type": "markdown",
      "source": [
        "\n",
        "\n",
        "---\n",
        "\n",
        "#**Problema-3**\n",
        "\n",
        "1. `El siguiente ejemplo, ¿retornará error o se ejecutará correctamente? Si se ejecuta, ¿qué retornará?`\n",
        "2. ¿Qué tipo de dato es `Variable3`?\n",
        "3. ¿Qué tipo de dato es `Variable4`?\n",
        "\n",
        "```\n",
        "Variable3 = 10 / 2\n",
        "Variable4 = \"Resultado: \" + str(Variable3)\n",
        "print(Variable4)\n",
        "```"
      ],
      "metadata": {
        "id": "Hr-H5J_cKUKS"
      }
    },
    {
      "cell_type": "markdown",
      "source": [
        "---\n",
        "**El la siguiente celda de codigo escribe el tipo de dato de `Variable1`.**\n",
        "\n",
        "`(str , int , float , bool)`"
      ],
      "metadata": {
        "id": "DI1EacRUKg_4"
      }
    },
    {
      "cell_type": "code",
      "source": [],
      "metadata": {
        "id": "HYowg218KnIO"
      },
      "execution_count": null,
      "outputs": []
    },
    {
      "cell_type": "markdown",
      "source": [
        "---\n",
        "**El la siguiente celda de codigo escribe el tipo de dato de `Variable2`.**\n",
        "\n",
        "`(str , int , float , bool)`"
      ],
      "metadata": {
        "id": "kjQHcYX5Kn6y"
      }
    },
    {
      "cell_type": "code",
      "source": [],
      "metadata": {
        "id": "D28sOoThKq6o"
      },
      "execution_count": null,
      "outputs": []
    },
    {
      "cell_type": "markdown",
      "source": [
        "---\n",
        "**En la siguiente celda de codigo escribe el valor que crees que retornar, o si consideras que el codigo generara un error, escribe `( error )`.**\n"
      ],
      "metadata": {
        "id": "sdYpIb--KxC5"
      }
    },
    {
      "cell_type": "code",
      "source": [],
      "metadata": {
        "id": "BT1_KtMzKx-s"
      },
      "execution_count": null,
      "outputs": []
    },
    {
      "cell_type": "markdown",
      "source": [
        "\n",
        "\n",
        "---\n",
        "\n",
        "\n",
        "#**Problema-4**\n",
        "\n",
        "\n",
        "Escribe un programa que cumpla con las siguientes instrucciones:\n",
        "\n",
        "1. Define una variable `var1` que sea el resultado de restar `True` menos `False` y luego multiplicarlo por un numero entero cualquiera.  \n",
        "2. Define otra variable `var2` que sea el resultado de dividir un numero decimal entre un entero.  \n",
        "3. Imprime la suma de `var1` y `var2`.  \n",
        "\n",
        "Y responde las siguientes preguntas:  \n",
        "\n",
        "- que tipo de dato es `var1`?  \n",
        "- que tipo de dato es `var2`?  \n",
        "- `que retorna el programa al ejecutarse?  `\n"
      ],
      "metadata": {
        "id": "ErgyuaXXLa7A"
      }
    },
    {
      "cell_type": "code",
      "source": [
        "#Programa-4\n",
        "\n",
        "\n",
        "\n",
        "\n",
        "\n",
        "\n",
        "\n"
      ],
      "metadata": {
        "id": "Xowxgi1OL3PA"
      },
      "execution_count": null,
      "outputs": []
    },
    {
      "cell_type": "markdown",
      "source": [
        "\n",
        "\n",
        "---\n",
        "\n",
        "\n",
        "#**Problema-5**\n",
        "\n",
        "Escribe un programa que cumpla con las siguientes instrucciones:\n",
        "\n",
        "1. Crea una variable llamada `resultado1` que sea la suma de `True` con `False` y un numero decimal cualquiera.  \n",
        "2. Crea otra variable llamada `resultado2` que sea el resultado de elevar un numero entero a la potencia de otro numero entero.  \n",
        "3. Imprime la suma de `resultado1` y `resultado2`.  \n",
        "\n",
        "Y tambien responde las siguientes preguntas:  \n",
        "\n",
        "- que tipo de dato es `resultado1`?  \n",
        "- que tipo de dato es `resultado2`?  \n",
        "- `que retorna el programa al ejecutarse?  `"
      ],
      "metadata": {
        "id": "v4HYi_CmMHAp"
      }
    },
    {
      "cell_type": "code",
      "source": [
        "#Programa-5"
      ],
      "metadata": {
        "id": "ZC5puMeCNImM"
      },
      "execution_count": null,
      "outputs": []
    },
    {
      "cell_type": "markdown",
      "source": [
        "\n",
        "\n",
        "---\n",
        "\n",
        "#**Problema-6**\n",
        "\n",
        "Escribe un programa que haga lo siguiente:\n",
        "\n",
        "1. Define una variable `valor1` que sea el resultado de dividir `True` entre un numero entero positivo.  \n",
        "2. Define otra variable `valor2` que sea el resultado de restar un numero decimal menos un numero entero.  \n",
        "3. Imprime el producto de `valor1` y `valor2`.  \n",
        "\n",
        "Y tambien responde las siguiente preguntas:  \n",
        "\n",
        "- que tipo de dato es `valor1`?  \n",
        "- que tipo de dato es `valor2`?  \n",
        "- `que retorna el programa al ejecutarse?  `\n",
        "\n"
      ],
      "metadata": {
        "id": "HI3S4c9NNgGu"
      }
    },
    {
      "cell_type": "code",
      "source": [
        "#Programa-6"
      ],
      "metadata": {
        "id": "ao9icl1ZOMy-"
      },
      "execution_count": null,
      "outputs": []
    }
  ]
}