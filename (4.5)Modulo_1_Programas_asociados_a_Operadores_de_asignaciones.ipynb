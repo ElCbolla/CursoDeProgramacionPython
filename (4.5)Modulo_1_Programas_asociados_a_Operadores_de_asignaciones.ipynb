{
  "nbformat": 4,
  "nbformat_minor": 0,
  "metadata": {
    "colab": {
      "provenance": [],
      "authorship_tag": "ABX9TyOAvSOU7kdnnXYShtWIfb2j",
      "include_colab_link": true
    },
    "kernelspec": {
      "name": "python3",
      "display_name": "Python 3"
    },
    "language_info": {
      "name": "python"
    }
  },
  "cells": [
    {
      "cell_type": "markdown",
      "metadata": {
        "id": "view-in-github",
        "colab_type": "text"
      },
      "source": [
        "<a href=\"https://colab.research.google.com/github/ElCbolla/CursoDeProgramacionPython/blob/main/(4_5)Modulo_1_Programas_asociados_a_Operadores_de_asignaciones.ipynb\" target=\"_parent\"><img src=\"https://colab.research.google.com/assets/colab-badge.svg\" alt=\"Open In Colab\"/></a>"
      ]
    },
    {
      "cell_type": "markdown",
      "source": [
        "**Programa-1**\n",
        "\n",
        "**Crea un programa donde :**\n",
        "\n",
        "1.   `Se establezca una variable numerica.`\n",
        "*    `Mediante tres operadores de asignacion debes hacer que imprima lo siguiente :`\n",
        "\n",
        " 1. `El doble del valor de la variable.`\n",
        " 2.  `Al doble del valor de la variable sumale 50`\n",
        " 3. `Y finalmente divide ese valor entre tres.`\n",
        "\n",
        "**Ejemplo de salida :**\n",
        "\n",
        "\n",
        "\n",
        "```\n",
        "Variable = 10\n",
        "```\n",
        "\n",
        "\n",
        "```\n",
        "Salida-1 >> El doble de la variable es : 20\n",
        "```\n",
        "\n",
        "```\n",
        "Salida-2 >> El doble del valor mas 50 es : 70\n",
        "```\n",
        "\n",
        "```\n",
        "Salida-3 >> El doble del valor mas 50 entre tres es : 23.33...\n",
        "```\n",
        "\n"
      ],
      "metadata": {
        "id": "GtnGKhFjSXzT"
      }
    },
    {
      "cell_type": "code",
      "execution_count": null,
      "metadata": {
        "id": "9ThnC00jR58h"
      },
      "outputs": [],
      "source": [
        "#Programa-1\n",
        "\n",
        "print(\"El doble de la variable es : \", )\n",
        "\n",
        "print(\"El doble del valor mas 50 es :\", )\n",
        "\n",
        "print(\"El doble del valor mas 50 entre tres es :\",)"
      ]
    },
    {
      "cell_type": "markdown",
      "source": [
        "**Programa-2**\n",
        "\n",
        "**Crea un programa donde :**\n",
        "\n",
        "1.   `Se establezca una variable numerica.`\n",
        "*    `Mediante tres operadores de asignacion debes hacer que imprima lo siguiente :`\n",
        "\n",
        " 1. `El valor al cuadrado.`\n",
        " 2.  `Al valor al cuadrado multiplicalo por tres`\n",
        " 3. `Al valor al cuadrado multiplicado por tres dividelo entre 3.`\n",
        "\n",
        "**Ejemplo de salida :**\n",
        "\n",
        "\n",
        "\n",
        "```\n",
        "Variable = 5\n",
        "```\n",
        "\n",
        "\n",
        "```\n",
        "Salida-1 >> El cuadrado del numero es : 25\n",
        "```\n",
        "\n",
        "```\n",
        "Salida-2 >> El cuadrado del numero multiplicado por tres es : 75\n",
        "```\n",
        "\n",
        "```\n",
        "Salida-3 >> El cuadrado del numero multiplicado por tres entre 3 es : 25\n",
        "```\n"
      ],
      "metadata": {
        "id": "EFz9mNvscZOM"
      }
    },
    {
      "cell_type": "code",
      "source": [
        "#Programa-2\n",
        "\n",
        "print(\"El cuadrado del numero es : \", )\n",
        "\n",
        "print(\"El cuadrado del numero multiplicado por tres es :\", )\n",
        "\n",
        "print(\"El cuadrado del numero multiplicado por tres dividido entre 3 es : \",)"
      ],
      "metadata": {
        "id": "UkY419GFcaoY"
      },
      "execution_count": null,
      "outputs": []
    },
    {
      "cell_type": "markdown",
      "source": [
        "**Programa-3**\n",
        "\n",
        "**Crea un programa donde :**\n",
        "\n",
        "1.   `Se establezca una variable numerica.`\n",
        "*    `Mediante tres operadores de asignacion debes hacer que imprima lo siguiente :`\n",
        "\n",
        " 1. `El valor menos 10.`\n",
        " 2.  `Al valor menos 10 multiplicalo por 2`\n",
        " 3. `Al valor valor menos 10 multiplicado por 2 elevalo al cuadrado.`\n",
        "\n",
        "**Ejemplo de salida :**\n",
        "\n",
        "\n",
        "\n",
        "```\n",
        "Variable = 12\n",
        "```\n",
        "\n",
        "\n",
        "```\n",
        "Salida-1 >> El valor menos 10 es : 2\n",
        "```\n",
        "\n",
        "```\n",
        "Salida-2 >> El valor menos 10 multiplicado por 2 es : 4\n",
        "```\n",
        "\n",
        "```\n",
        "Salida-3 >> El valor menos 10 multiplicado por 2 elevado al cuadrado es : 16\n",
        "```\n"
      ],
      "metadata": {
        "id": "WSYK9fPZdRjV"
      }
    },
    {
      "cell_type": "code",
      "source": [
        "#Programa-3\n",
        "\n",
        "print(\"El valor menos 10 es : \", )\n",
        "\n",
        "print(\"El valor menos 10 multiplicado por 2 es :\", )\n",
        "\n",
        "print(\"El valor menos 10 multiplicado por 2 elevado al cuadrado es : \",)"
      ],
      "metadata": {
        "id": "wiIZCm87d38U"
      },
      "execution_count": null,
      "outputs": []
    },
    {
      "cell_type": "markdown",
      "source": [
        "**Programa-4**\n",
        "\n",
        "**Crea un programa donde :**\n",
        "\n",
        "1.   `Se establezca una variable numerica.`\n",
        "*    `Mediante tres operadores de asignacion debes hacer que imprima lo siguiente :`\n",
        "\n",
        " 1. `El valor mas 3.`\n",
        " 2.  `Al valor menos 3 dividelo entre 2`\n",
        " 3. `Al valor valor menos 3 dividido entre 2 restale 2.`\n"
      ],
      "metadata": {
        "id": "KjMnl2uQeZdb"
      }
    },
    {
      "cell_type": "code",
      "source": [
        "#Programa-4\n",
        "\n",
        "\n",
        "print(\"El valor mas 3 es : \", )\n",
        "\n",
        "print(\"El valor menos 3 dividido entre 2 es :\", )\n",
        "\n",
        "print(\"El valor menos 3 dividido entre 2 menos 2 es : \",)"
      ],
      "metadata": {
        "id": "_gagXI_YexSG"
      },
      "execution_count": null,
      "outputs": []
    },
    {
      "cell_type": "markdown",
      "source": [
        "**Programa-5**\n",
        "\n",
        "**Crea un programa donde :**\n",
        "\n",
        "1.   `Se establezca una variable numerica.`\n",
        "*    `Mediante tres operadores de asignacion debes hacer que imprima lo siguiente :`\n",
        "\n",
        " 1. `El valor al cuadrado.`\n",
        " 2.  `El valor al cuadrado entre 2`\n",
        " 3. `El valor al cuadrado entre 2 mas 5.`\n"
      ],
      "metadata": {
        "id": "QlsMZG4tfdL4"
      }
    },
    {
      "cell_type": "code",
      "source": [
        "#Programa-5\n",
        "\n",
        "print()\n",
        "\n",
        "print()\n",
        "\n",
        "print()"
      ],
      "metadata": {
        "id": "DaIXk13lftAe"
      },
      "execution_count": null,
      "outputs": []
    }
  ]
}
