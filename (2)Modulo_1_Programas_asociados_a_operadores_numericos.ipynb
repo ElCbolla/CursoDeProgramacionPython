{
  "nbformat": 4,
  "nbformat_minor": 0,
  "metadata": {
    "colab": {
      "provenance": [],
      "authorship_tag": "ABX9TyMcKIG66YDd+QYRtPNCJVzB",
      "include_colab_link": true
    },
    "kernelspec": {
      "name": "python3",
      "display_name": "Python 3"
    },
    "language_info": {
      "name": "python"
    }
  },
  "cells": [
    {
      "cell_type": "markdown",
      "metadata": {
        "id": "view-in-github",
        "colab_type": "text"
      },
      "source": [
        "<a href=\"https://colab.research.google.com/github/ElCbolla/CursoDeProgramacionPython/blob/main/Programas_asociados_a_operadores_numericos.ipynb\" target=\"_parent\"><img src=\"https://colab.research.google.com/assets/colab-badge.svg\" alt=\"Open In Colab\"/></a>"
      ]
    },
    {
      "cell_type": "markdown",
      "source": [
        "**Crea un programa donde :**\n",
        "\n",
        "1.   Se definan tres variables, `Variable1` , `Variable2` , `Variable3` Donde la dos variables deben ser de tipo `{bool}` y la tercera debe ser de tipo `{float}`.\n",
        "\n",
        "2.   Multiplica la variable de tipo `{float}` por alguna de tipo `{bool}` y luego restale la variable faltante.\n",
        "\n"
      ],
      "metadata": {
        "id": "WKRnhTtQSZrB"
      }
    },
    {
      "cell_type": "code",
      "execution_count": null,
      "metadata": {
        "colab": {
          "base_uri": "https://localhost:8080/"
        },
        "id": "3cAE4J3rQHlB",
        "outputId": "93f0a44b-5582-40b4-e8f4-f6bd2ba5d513"
      },
      "outputs": [
        {
          "output_type": "stream",
          "name": "stdout",
          "text": [
            "a\n"
          ]
        }
      ],
      "source": [
        "#Programa-1\n",
        "\n",
        "\n",
        "\n",
        "\n"
      ]
    },
    {
      "cell_type": "markdown",
      "source": [
        "**Crea un programa donde :**\n",
        "\n",
        "1. Se definan tres variables, `A`, `B`, `C` donde las dos variables deben ser de tipo `{bool}` y la tercera debe ser de tipo `{float}`.\n",
        "\n",
        "2. Divide la variable de tipo `{float}` por alguna de tipo `{bool}` y luego multiplícalo por la variable faltante."
      ],
      "metadata": {
        "id": "ofMk15sCU6Rx"
      }
    },
    {
      "cell_type": "code",
      "source": [
        "#Programa-2\n",
        "\n",
        "\n",
        "\n",
        "\n"
      ],
      "metadata": {
        "id": "FbE5QkCUVZtM"
      },
      "execution_count": null,
      "outputs": []
    },
    {
      "cell_type": "markdown",
      "source": [
        "**Crea un programa donde :**\n",
        "\n",
        "1. Se definan tres variables, `A1`, `A2`, `A3` donde las dos variables deben ser de tipo `{bool}` y la tercera debe ser de tipo `{float}`.\n",
        "\n",
        "2. Eleva al cuadrado la variable de tipo `{float}` si una de las variables de tipo `{bool}` es True, de lo contrario, divídela entre 2."
      ],
      "metadata": {
        "id": "86CXYefPVcYN"
      }
    },
    {
      "cell_type": "code",
      "source": [
        "#Programa-3\n",
        "\n",
        "\n",
        "\n",
        "\n"
      ],
      "metadata": {
        "id": "chj9tNQMV3rK"
      },
      "execution_count": null,
      "outputs": []
    },
    {
      "cell_type": "markdown",
      "source": [
        "\n",
        "**Crea un programa donde :**\n",
        "\n",
        "Se definan tres variables, `Condition1`, `Condition2`, `Condition3` donde las dos primeras variables deben ser de tipo `{bool}` y la tercera debe ser de tipo `{float}`.\n",
        "\n",
        "Realiza las siguientes operaciones:\n",
        "\n",
        "1. Si ambas variables de tipo `{bool}` son `True`, multiplica la variable de tipo `{float}` por 10.\n",
        "\n",
        "2. Si una de las variables de tipo `{bool}` es `True`, eleva al cuadrado la variable de tipo `{float}`.\n",
        "\n",
        "3. Si ambas variables de tipo `{bool}` son `False`, divide la variable de tipo `{float}` entre 3."
      ],
      "metadata": {
        "id": "zSQouwM2V5l3"
      }
    },
    {
      "cell_type": "code",
      "source": [
        "#Programa-4\n",
        "\n",
        "\n",
        "\n",
        "\n",
        "\n",
        "\n"
      ],
      "metadata": {
        "id": "Kfwz8JWMW-4w"
      },
      "execution_count": null,
      "outputs": []
    },
    {
      "cell_type": "markdown",
      "source": [],
      "metadata": {
        "id": "Y4tbc_-ac3C1"
      }
    }
  ]
}
