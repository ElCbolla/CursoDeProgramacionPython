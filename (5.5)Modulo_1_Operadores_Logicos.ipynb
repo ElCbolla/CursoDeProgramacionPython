{
  "nbformat": 4,
  "nbformat_minor": 0,
  "metadata": {
    "colab": {
      "provenance": [],
      "authorship_tag": "ABX9TyMNn8E4EGZ2usnT44A8vcSL",
      "include_colab_link": true
    },
    "kernelspec": {
      "name": "python3",
      "display_name": "Python 3"
    },
    "language_info": {
      "name": "python"
    }
  },
  "cells": [
    {
      "cell_type": "markdown",
      "metadata": {
        "id": "view-in-github",
        "colab_type": "text"
      },
      "source": [
        "<a href=\"https://colab.research.google.com/github/ElCbolla/CursoDeProgramacionPython/blob/main/(5.5)Modulo_1_Operadores_Logicos.ipynb\" target=\"_parent\"><img src=\"https://colab.research.google.com/assets/colab-badge.svg\" alt=\"Open In Colab\"/></a>"
      ]
    },
    {
      "cell_type": "markdown",
      "source": [
        "# **Operadores logicos**"
      ],
      "metadata": {
        "id": "jOyIWg2-JnMN"
      }
    },
    {
      "cell_type": "markdown",
      "source": [
        "Los operadores logicos sirven para establecer varias condiciones de comparacion, por ejemplo si tienes tres cuatro variables `A` `B` `C` `D`, podrias pedir la condicion de que `A` sea mayor que `B` y `C` sea menor que `D` mediante el operador logico `and` de la siguiente manera :"
      ],
      "metadata": {
        "id": "-TNU4mDgKKEW"
      }
    },
    {
      "cell_type": "code",
      "execution_count": 1,
      "metadata": {
        "colab": {
          "base_uri": "https://localhost:8080/"
        },
        "id": "CJYT9leqIXMD",
        "outputId": "b0216e22-aaa6-45ff-cd29-fb8cd60ed705"
      },
      "outputs": [
        {
          "output_type": "stream",
          "name": "stdout",
          "text": [
            "True\n"
          ]
        }
      ],
      "source": [
        "A = 5\n",
        "\n",
        "B = 3\n",
        "\n",
        "C = 2\n",
        "\n",
        "D = 4\n",
        "\n",
        "print( A > B and C < D)"
      ]
    },
    {
      "cell_type": "markdown",
      "source": [
        "Como viste en el anterior ejemplo, establecimos las siguiente variables numericas :\n",
        "\n",
        "\n",
        "\n",
        "```\n",
        "A = 5\n",
        "B = 3\n",
        "C = 2\n",
        "D = 4\n",
        "```\n",
        "\n",
        "Y mediante la linea :\n",
        "\n",
        "\n",
        "\n",
        "```\n",
        "print( A > B and C < D)\n",
        "```\n",
        "\n",
        "Primero verificamos si :\n",
        "\n",
        "\n",
        "```\n",
        "A > B\n",
        "```\n",
        "Y si esto es verdad verificamos la segunda parte de la condicion :\n",
        "\n",
        "```\n",
        "and C < D\n",
        "```\n",
        "Y si esto tambien se cumple retornara `True`, pero si cualquiera de las dos condiciones no se cumple entonces retornara `False`.\n",
        "\n",
        "\n",
        "\n"
      ],
      "metadata": {
        "id": "f-aLyGLLK_Bt"
      }
    },
    {
      "cell_type": "markdown",
      "source": [
        "Basicamente el operador `and` sirve para evaluar una o mas condiciones, y si todas las condiciones se cumplen entonces retornara `True`, pero si de lo contrario alguna falla retornara `False`."
      ],
      "metadata": {
        "id": "Ucgw7DbCUYYd"
      }
    },
    {
      "cell_type": "markdown",
      "source": [
        "- ***Ejemplo donde no todas las condiciones se cumplen :***"
      ],
      "metadata": {
        "id": "-AzypAIPUmeV"
      }
    },
    {
      "cell_type": "code",
      "source": [
        "A = 5\n",
        "\n",
        "B = 3\n",
        "\n",
        "C = 2\n",
        "\n",
        "D = 4\n",
        "\n",
        "E = 3\n",
        "\n",
        "F = 7\n",
        "\n",
        "print( A > B and C < D and E > F)\n",
        "\n"
      ],
      "metadata": {
        "colab": {
          "base_uri": "https://localhost:8080/"
        },
        "id": "0_Ewb8jBUsLA",
        "outputId": "04436953-44f8-40c7-f28e-c161e90e4a3d"
      },
      "execution_count": 2,
      "outputs": [
        {
          "output_type": "stream",
          "name": "stdout",
          "text": [
            "False\n"
          ]
        }
      ]
    },
    {
      "cell_type": "markdown",
      "source": [
        "Como vimos anteriormente, las primeras dos condiciones  `A > B` y `C < D` son verdad, ya que `A=5` es mayor que `B=3` y `C=2` es menor que `D=4`, pero `E=3` no es mayor que `F=7` por lo tanto una de las condiciones no cumple y retorna `False`."
      ],
      "metadata": {
        "id": "yPXPkJwvVDPV"
      }
    },
    {
      "cell_type": "markdown",
      "source": [
        "Si por ejemplo quieres que de un grupo de condiciones al menos se deba cumplir una para retornar `True` esta el operador logico de `or`, y este se plantearia de la siguiente manera :"
      ],
      "metadata": {
        "id": "fWsCb6PKV6sV"
      }
    },
    {
      "cell_type": "markdown",
      "source": [
        "\n",
        "\n",
        "```\n",
        "A = 5\n",
        "B = 3\n",
        "C = 2\n",
        "D = 4\n",
        "```\n",
        "\n",
        "\n",
        "\n",
        "```\n",
        "print(A == B or C > D or B != D)\n",
        "```\n",
        "\n",
        "Primero se verifica la condicion de :\n",
        "\n",
        "\n",
        "```\n",
        "(A == B)\n",
        "```\n",
        "\n",
        "Cosa que no es verdad ya que `A=5` no es igual a `B=3`, por lo tanto seguiriamos a la siguiente condicion :\n",
        "\n",
        "\n",
        "```\n",
        "(C > B)\n",
        "```\n",
        "\n",
        "Cosa que tampoco es verdad ya que `C=2` no es mayor que `B=3`, entonces finalmente evaluamos :\n",
        "\n",
        "\n",
        "\n",
        "```\n",
        "B != D\n",
        "```\n",
        "\n",
        "Condicion que si se cumple, ya que `B=3` es diferente de `D=4`, por lo que toda la condicion se vuelve cierta y retorna `True`.\n",
        "\n",
        "\n"
      ],
      "metadata": {
        "id": "k1omEQHgWUGv"
      }
    },
    {
      "cell_type": "code",
      "source": [
        "A = 5\n",
        "B = 3\n",
        "C = 2\n",
        "D = 4\n",
        "\n",
        "print(A == B or C > D or B != D)"
      ],
      "metadata": {
        "colab": {
          "base_uri": "https://localhost:8080/"
        },
        "id": "VxbNFA5SkFun",
        "outputId": "2ecb3797-637c-486d-d5dd-88f9b9ca2409"
      },
      "execution_count": 3,
      "outputs": [
        {
          "output_type": "stream",
          "name": "stdout",
          "text": [
            "True\n"
          ]
        }
      ]
    },
    {
      "cell_type": "markdown",
      "source": [
        "Con esto podemos notar que el operador logico `or` es util cuando tenemos un conjunto de dos o mas condiciones y queremos que al menos una se cumpla para que retorne `True`.\n",
        "\n",
        "- Pero si ninguna condicion del conjunto se cumple entonces retornara `False`."
      ],
      "metadata": {
        "id": "XMq6zaJ_kQeH"
      }
    },
    {
      "cell_type": "code",
      "source": [
        "A = 5\n",
        "B = 4\n",
        "C = 2\n",
        "D = 4\n",
        "\n",
        "print(A == B or C > D or B != D)"
      ],
      "metadata": {
        "colab": {
          "base_uri": "https://localhost:8080/"
        },
        "id": "G5OX0bPSkj0E",
        "outputId": "a5efd9ff-ee8f-4716-e6d5-be175d72dcd3"
      },
      "execution_count": 4,
      "outputs": [
        {
          "output_type": "stream",
          "name": "stdout",
          "text": [
            "False\n"
          ]
        }
      ]
    },
    {
      "cell_type": "markdown",
      "source": [
        "En el caso anterior, ninguna de las condiciones se cumple por lo que retorna `False`.\n",
        "\n",
        "\n",
        "---\n",
        "\n",
        "\n",
        "* El ultimo operador logico es `not`, su utilidad se basa en asegurarse que las condiciones establecidos sean `False`."
      ],
      "metadata": {
        "id": "GPxO2fY6k71X"
      }
    },
    {
      "cell_type": "markdown",
      "source": [
        "Si por ejemplo tenemos las siguientes variable :\n",
        "\n",
        "\n",
        "\n",
        "```\n",
        "A = 3\n",
        "B = 3\n",
        "\n",
        "```\n",
        "Y imprimimos la siguiente condicion :\n",
        "\n",
        "\n",
        "```\n",
        "print( not A == B )\n",
        "```\n",
        "\n",
        "Esto nos retornara `False` ya que se busca que la condicion establecida sea falsa, y como efectivamente `A = 3` es igual a `B = 3` entonces la condicion sera falsa ya que mediante el `not` se busca que la condicion no se cumpla.\n"
      ],
      "metadata": {
        "id": "76_WzILcxXAh"
      }
    },
    {
      "cell_type": "code",
      "source": [
        "A = 3\n",
        "B= 3\n",
        "\n",
        "print(not A == B)"
      ],
      "metadata": {
        "colab": {
          "base_uri": "https://localhost:8080/"
        },
        "id": "TDEiyrduvSpD",
        "outputId": "330d5905-4679-48a7-aecd-b1fff09ce15a"
      },
      "execution_count": 8,
      "outputs": [
        {
          "output_type": "stream",
          "name": "stdout",
          "text": [
            "False\n"
          ]
        }
      ]
    },
    {
      "cell_type": "markdown",
      "source": [
        "Pero si de lo contrario no se cumpliera la condicion de `(A==B)` entonces devolveria `True` ya que como se menciono anteriormente, el `not` busca que la condicion establecida, en este caso `(A==B)` no se cumpla para retornar `True`\n",
        "\n",
        "* En el siguiente ejemplo la condicion no se cumple por lo tanto retorna `True` :"
      ],
      "metadata": {
        "id": "qhjfN34dzn2e"
      }
    },
    {
      "cell_type": "code",
      "source": [
        "A = 3\n",
        "B= 2\n",
        "\n",
        "print(not A == B)"
      ],
      "metadata": {
        "colab": {
          "base_uri": "https://localhost:8080/"
        },
        "id": "aEhzucdULlj3",
        "outputId": "db1647ec-c6ea-4729-adbf-f620227f6a72"
      },
      "execution_count": 1,
      "outputs": [
        {
          "output_type": "stream",
          "name": "stdout",
          "text": [
            "True\n"
          ]
        }
      ]
    },
    {
      "cell_type": "markdown",
      "source": [
        "***Otro ejemplo del operador logico `not` :***"
      ],
      "metadata": {
        "id": "CL9r_1hSL5Ht"
      }
    },
    {
      "cell_type": "code",
      "source": [
        "A = 5\n",
        "B= 3\n",
        "\n",
        "print(not A >= B)"
      ],
      "metadata": {
        "colab": {
          "base_uri": "https://localhost:8080/"
        },
        "id": "Ytndm-d_MBau",
        "outputId": "74a2baad-5217-40ca-8198-754d003e6638"
      },
      "execution_count": 2,
      "outputs": [
        {
          "output_type": "stream",
          "name": "stdout",
          "text": [
            "False\n"
          ]
        }
      ]
    },
    {
      "cell_type": "markdown",
      "source": [
        "El anterior ejemplo normalmente retornaria `True` ya que efectivamente `A=5` es mayor que `B=3` pero como mencionamos, el `not` busca que la condicion no se cumpla para ser `True`, por lo que retornara `False` ya que la condicion si se cumple."
      ],
      "metadata": {
        "id": "aHMjsV7sMFap"
      }
    },
    {
      "cell_type": "markdown",
      "source": [
        "* Los operadores logicos se pueden combinar para comprobar condiciones mas complejas.\n",
        "\n",
        "***Ejemplo :***"
      ],
      "metadata": {
        "id": "_oYAJkKEMcwJ"
      }
    },
    {
      "cell_type": "code",
      "source": [
        "A=2\n",
        "B=3\n",
        "C=4\n",
        "D=5\n",
        "\n",
        "print(not A == B and D > C )"
      ],
      "metadata": {
        "colab": {
          "base_uri": "https://localhost:8080/"
        },
        "collapsed": true,
        "id": "hybPNT9ZMw1X",
        "outputId": "f6a9b6a9-93b8-4db2-9fbe-1961f739712e"
      },
      "execution_count": 3,
      "outputs": [
        {
          "output_type": "stream",
          "name": "stdout",
          "text": [
            "True\n"
          ]
        }
      ]
    },
    {
      "cell_type": "markdown",
      "source": [
        "En el anterior ejemplo se utiliza el operador logico `not` y `and`, de esta manera, primero evaluamos la primera condicion `not A == B`, esta condicion bucar que `A=2` No `( not )` sea igual `( == )` a `B=3`, cosa que es verdad ya que `A=2` no es igual a `B=3`, entonces seguimos a la siguiente condicion mediante el `and` y esta nos dice `(D > C)` cosa que tambien es verdad ya que `D=5` Es mayor que `C=4` por lo tanto como ambas condiciones se cumplen y el codigo en conjunto retornara `True`."
      ],
      "metadata": {
        "id": "Fv4pBrd3NCPu"
      }
    },
    {
      "cell_type": "markdown",
      "source": [
        "* La condicion en conjunto para cumplirse nos piden que : `A no sea igual B y D sea mayor a C`.\n",
        "\n",
        "***Otro ejemplo :***"
      ],
      "metadata": {
        "id": "Ivhg4KEdOXGE"
      }
    },
    {
      "cell_type": "code",
      "source": [
        "A=2\n",
        "B=3\n",
        "C=5\n",
        "D=4\n",
        "\n",
        "print(A != B and D > C or not A > B and D != C)"
      ],
      "metadata": {
        "colab": {
          "base_uri": "https://localhost:8080/"
        },
        "collapsed": true,
        "outputId": "98134e0e-2ba3-471c-ec1e-323c6025f838",
        "id": "hX69qD1XOsOL"
      },
      "execution_count": 7,
      "outputs": [
        {
          "output_type": "stream",
          "name": "stdout",
          "text": [
            "True\n"
          ]
        }
      ]
    },
    {
      "cell_type": "markdown",
      "source": [
        "En el anterior ejemplo se usan los operadores logicos `and` `or` y `not`, primero se verifica la primera condicion `(A != B)` que nos dice que `A=2` debe ser diferente de `B=3`, cosa que es verdad ya que `2` no es igual a `3`, despues de esto, se busca que `D=4` sea mayor que `C=5`, condicion que no se cumple por lo que todo el primer conjunto de condiciones es `False`, pero mediante el `or` se evalua la segunda mitad de todo el conjunto `or not A > B and D != C`, ya que recordemos que el operador `or` establece varios conjuntos de condiciones y al menos un conjunto debe cumplirse.\n",
        "\n",
        "Los conjuntos se dividen por medio de el operador logico `or`, por lo que el conjunto completo es :\n",
        "`(A != B and D > C or not A > B and D != C)`\n",
        "Pero debemos ver todo lo que esta antes y despues del `or`, Lo que esta antes del `or` sera nuestro primer conjunto, y lo que esta despues sera nuestro segundo conjunto\n",
        "\n",
        "* Primer conjunto :\n",
        "1. `A != B and D > C`\n",
        "\n",
        "* Segundo conjunto :\n",
        "2. `not A > B and D != C`\n",
        "\n",
        "Y sabemos que por el `or` alguno de estos dos conjuntos de condiciones debe cumplirse para volver `True` toda la condicion."
      ],
      "metadata": {
        "id": "o5-1_6OWPmsb"
      }
    },
    {
      "cell_type": "markdown",
      "source": [
        "#**Preguntas de conjuntos de condiciones**"
      ],
      "metadata": {
        "id": "1IsF7cEWnomj"
      }
    },
    {
      "cell_type": "markdown",
      "source": [
        "***Instrucciones***\n",
        "\n",
        "1. Primero menciona la cantidad de conjuntos que tiene cada ejemplo, por ejemplo, si te dan :\n",
        "\n",
        "```\n",
        "A == B or A > B\n",
        "```\n",
        "\n",
        "Debes decir que tiene 2 conjuntos, `A == B` y `A > B`\n",
        "\n",
        "2. Menciona lo que piden los conjuntos, por ejemplo si tienes :\n",
        "\n",
        "```\n",
        "C >= B or D <= F\n",
        "```\n",
        "\n",
        "Debes decir que el conjunto de condiciones busca que `C` sea mayor o igual que `B` o que `D` sea menor o igual que `F`.\n",
        "\n",
        "* O si por ejemplo tienes\n",
        "\n",
        "```\n",
        "J != K or P > 3 or not B == 2\n",
        "```\n",
        "\n",
        "Debes mencionar primero los conjuntos, en este caso 3.\n",
        "\n",
        "1. **Primer conjunto:**\n",
        "\n",
        "\n",
        "```\n",
        "J != K\n",
        "```\n",
        "\n",
        "2. **Segundo conjunto:**\n",
        "\n",
        "\n",
        "\n",
        "```\n",
        "P > 3\n",
        "```\n",
        "\n",
        "3. **Tercer conjunto**\n",
        "\n",
        "```\n",
        "not B == 2\n",
        "```\n",
        "\n",
        "Recuerda que para hallar los conjuntos debes encontrar las divisiones por medio del operador logico `or`\n",
        "\n",
        "Despues debes mencionar lo que hace el conjunto de condiciones, en el caso de :\n",
        "\n",
        "```\n",
        "J != K or P > 3 or not B == 2\n",
        "```\n",
        "\n",
        "Seria : J debe ser diferente de K o P debe ser mayor a 3 o B no debe ser igual a 2."
      ],
      "metadata": {
        "id": "KR4Q-Aftn67e"
      }
    },
    {
      "cell_type": "markdown",
      "source": [
        "\n",
        "\n",
        "---\n",
        "\n",
        "**Pregunta-1** :\n",
        "\n",
        "* En el siguiente ejemplo menciona los siguientes aspectos.\n",
        " 1. `Cantidad de conjuntos de condiciones.`\n",
        " 2. `Indicaciones del conjunto completo.`\n",
        "\n",
        "\n",
        "\n",
        "\n",
        "```\n",
        "G >= 5 or B <= 3\n",
        "```\n",
        "\n"
      ],
      "metadata": {
        "id": "AQQXBoj1rSo_"
      }
    },
    {
      "cell_type": "markdown",
      "source": [
        "\n",
        "\n",
        "---\n",
        "\n",
        "\n",
        "**Pregunta-2** :\n",
        "\n",
        "* En el siguiente ejemplo menciona los siguientes aspectos.\n",
        "  1. `Cantidad de conjuntos de condiciones.`\n",
        "  2. `Indicaciones del conjunto completo.`\n",
        "\n",
        "\n",
        "\n",
        "```\n",
        "X == 10 and Y > 7\n",
        "```\n",
        "\n"
      ],
      "metadata": {
        "id": "gw7WZeNouNl-"
      }
    },
    {
      "cell_type": "markdown",
      "source": [
        "\n",
        "\n",
        "---\n",
        "\n"
      ],
      "metadata": {
        "id": "yCB9mc2ruUp3"
      }
    },
    {
      "cell_type": "markdown",
      "source": [
        "**Pregunta-3** :\n",
        "\n",
        "* En el siguiente ejemplo menciona los siguientes aspectos.\n",
        "  1. `Cantidad de conjuntos de condiciones.`\n",
        "  2. `Indicaciones del conjunto completo.`\n",
        "\n",
        "```\n",
        "A != 4 or C < 12\n",
        "```\n",
        "\n"
      ],
      "metadata": {
        "id": "pZWSexc6ub9m"
      }
    },
    {
      "cell_type": "markdown",
      "source": [
        "\n",
        "\n",
        "---\n",
        "\n",
        "\n",
        "**Pregunta-4** :\n",
        "\n",
        "* En el siguiente ejemplo menciona los siguientes aspectos.\n",
        "  1. `Cantidad de conjuntos de condiciones.`\n",
        "  2. `Indicaciones del conjunto completo.`\n",
        "\n",
        "```\n",
        "P > 3 and Q <= 8\n",
        "```\n",
        "\n"
      ],
      "metadata": {
        "id": "BVeSCucQujQL"
      }
    },
    {
      "cell_type": "markdown",
      "source": [
        "\n",
        "\n",
        "---\n",
        "\n",
        "\n",
        "**Pregunta-5** :\n",
        "\n",
        "* En el siguiente ejemplo menciona los siguientes aspectos.\n",
        "  1. `Cantidad de conjuntos de condiciones.`\n",
        "  2. `Indicaciones del conjunto completo.`\n",
        "\n",
        "\n",
        "\n",
        "```\n",
        "D == 6 or not E >= 9\n",
        "```\n",
        "\n",
        "\n"
      ],
      "metadata": {
        "id": "I-YVJUF5ur9p"
      }
    },
    {
      "cell_type": "markdown",
      "source": [
        "\n",
        "\n",
        "---\n",
        "**Pregunta-6** :\n",
        "\n",
        "* En el siguiente ejemplo menciona los siguientes aspectos.\n",
        "  1. `Cantidad de conjuntos de condiciones.`\n",
        "  2. `Indicaciones del conjunto completo.`\n",
        "\n",
        "```\n",
        "A > 5 and B < 10 or C == 7 and D != 3\n",
        "```\n",
        "\n",
        "\n",
        "\n"
      ],
      "metadata": {
        "id": "wbbDa3mNu9kL"
      }
    },
    {
      "cell_type": "markdown",
      "source": [
        "\n",
        "\n",
        "---\n",
        "**Pregunta-7** :\n",
        "\n",
        "* En el siguiente ejemplo menciona los siguientes aspectos.\n",
        "  1. `Cantidad de conjuntos de condiciones.`\n",
        "  2. `Indicaciones del conjunto completo.`\n",
        "\n",
        "\n",
        "\n",
        "```\n",
        "X <= 4 or Y > 8 and not Z == 2 or W != 6\n",
        "```\n",
        "\n",
        "\n",
        "\n"
      ],
      "metadata": {
        "id": "ITfcNzqTvcLL"
      }
    },
    {
      "cell_type": "markdown",
      "source": [
        "\n",
        "\n",
        "---\n",
        "\n",
        "**Pregunta-8** :\n",
        "\n",
        "* En el siguiente ejemplo menciona los siguientes aspectos.\n",
        "  1. `Cantidad de conjuntos de condiciones.`\n",
        "  2. `Indicaciones del conjunto completo.`\n",
        "\n",
        "```\n",
        "P > 3 and Q <= 5 or R == T and S != 0\n",
        "\n",
        "```\n",
        "\n",
        "\n"
      ],
      "metadata": {
        "id": "jLeHmO7rvl1Z"
      }
    },
    {
      "cell_type": "markdown",
      "source": [
        "\n",
        "\n",
        "---\n",
        "**Pregunta-9** :\n",
        "\n",
        "* En el siguiente ejemplo menciona los siguientes aspectos.\n",
        "  1. `Cantidad de conjuntos de condiciones.`\n",
        "  2. `Indicaciones del conjunto completo.`\n",
        "\n",
        "\n",
        "```\n",
        "A != 1 or B > 3 and not C < 7 or D == 4 or E >= 10 and F <= 2\n",
        "```\n",
        "\n",
        "\n"
      ],
      "metadata": {
        "id": "1IDWLiFbvyqs"
      }
    },
    {
      "cell_type": "markdown",
      "source": [
        "\n",
        "\n",
        "---\n",
        "\n",
        "**Pregunta-10** :\n",
        "\n",
        "* En el siguiente ejemplo menciona los siguientes aspectos.\n",
        "  1. `Cantidad de conjuntos de condiciones.`\n",
        "  2. `Indicaciones del conjunto completo.`\n",
        "\n",
        "\n",
        "```\n",
        "A > 5 and B < 3 or C != 8 or D == 2 and E > 6 or F <= 4\n",
        "```\n",
        "\n",
        "\n",
        "\n",
        "\n",
        "\n"
      ],
      "metadata": {
        "id": "YmGysBg7v_Ii"
      }
    },
    {
      "cell_type": "markdown",
      "source": [
        "\n",
        "\n",
        "---\n",
        "**Pregunta-11** :\n",
        "\n",
        "* En el siguiente ejemplo menciona los siguientes aspectos.\n",
        "  1. `Cantidad de conjuntos de condiciones.`\n",
        "  2. `Indicaciones del conjunto completo.`\n",
        "\n",
        "\n",
        "\n",
        "\n",
        "```\n",
        "not A > 5 and B < 10 or C == 7 and not D != 3\n",
        "```\n",
        "\n",
        "\n"
      ],
      "metadata": {
        "id": "SkgK8SDPwQda"
      }
    },
    {
      "cell_type": "markdown",
      "source": [
        "\n",
        "\n",
        "---\n",
        "\n",
        "\n",
        "**Pregunta-12** :\n",
        "\n",
        "* En el siguiente ejemplo menciona los siguientes aspectos.\n",
        "  1. `Cantidad de conjuntos de condiciones.`\n",
        "  2. `Indicaciones del conjunto completo.`\n",
        "  3. `¿Qué hace el conjunto completo? Explica cuándo se cumple y cuándo no.`\n",
        "\n",
        "\n",
        "\n",
        "```\n",
        "not X <= 4 or Y > 8 and not Z == 6 or W != 6\n",
        "```\n",
        "\n",
        "\n"
      ],
      "metadata": {
        "id": "vUmdRw6hwg0j"
      }
    }
  ]
}