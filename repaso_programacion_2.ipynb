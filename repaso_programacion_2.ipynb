{
  "nbformat": 4,
  "nbformat_minor": 0,
  "metadata": {
    "colab": {
      "provenance": [],
      "authorship_tag": "ABX9TyOGoCPyEmlGqTDEohVoXcsh",
      "include_colab_link": true
    },
    "kernelspec": {
      "name": "python3",
      "display_name": "Python 3"
    },
    "language_info": {
      "name": "python"
    }
  },
  "cells": [
    {
      "cell_type": "markdown",
      "metadata": {
        "id": "view-in-github",
        "colab_type": "text"
      },
      "source": [
        "<a href=\"https://colab.research.google.com/github/ElCbolla/CursoDeProgramacionPython/blob/main/repaso_programacion_2.ipynb\" target=\"_parent\"><img src=\"https://colab.research.google.com/assets/colab-badge.svg\" alt=\"Open In Colab\"/></a>"
      ]
    },
    {
      "cell_type": "markdown",
      "source": [
        "## **Problema 1**\n",
        "\n",
        "Crea un programa donde:\n",
        "\n",
        "1. Se definan tres variables: `X`, `Y` y `Z`.\n",
        "   - `X` debe ser igual a 15.\n",
        "   - `Y` debe ser igual a 30.\n",
        "   - `Z` debe ser igual a 10.\n",
        "\n",
        "2. Realiza las siguientes comparaciones:\n",
        "   - Si `X` mas `Z` es igual a `Y`, imprime `\"X mas Z es igual a Y.\"`.\n",
        "   - Si `Y` menos `Z` es igual a `X`, imprime `\"Y menos Z es igual a X.\"`.\n",
        "   - Si `Z` multiplicado por 2 es mayor que `X`, imprime `\"El doble de Z es mayor que X.\"`.\n",
        "   - Si ninguna de las condiciones anteriores se cumple, imprime `\"No se cumple ninguna condicion.\"`.\n",
        "\n",
        "3. Imprime los resultados usando la funcion `print()`.\n"
      ],
      "metadata": {
        "id": "VVF1gv0Ispms"
      }
    },
    {
      "cell_type": "code",
      "source": [
        "#Programa-1\n",
        "\n",
        "\n",
        "\n",
        "\n"
      ],
      "metadata": {
        "id": "KtJtozYBtnrw"
      },
      "execution_count": null,
      "outputs": []
    },
    {
      "cell_type": "markdown",
      "source": [
        "\n",
        "\n",
        "---\n",
        "\n",
        "\n",
        "## **Problema 2**\n",
        "\n",
        "Crea un programa donde:\n",
        "\n",
        "1. Se definan tres variables: `A`, `B` y `C`.\n",
        "   - `A` debe ser igual a 8.\n",
        "   - `B` debe ser igual a 16.\n",
        "   - `C` debe ser igual a 4.\n",
        "\n",
        "2. Realiza las siguientes comparaciones:\n",
        "   - Si `A` multiplicado por `C` es igual a `B`, imprime `\"A multiplicado por C es igual a B.\"`.\n",
        "   - Si `B` dividido entre `A` es igual a `C`, imprime `\"B dividido entre A es igual a C.\"`.\n",
        "   - Si `A` mas `C` es menor que `B`, imprime `\"La suma de A y C es menor que B.\"`.\n",
        "   - Si ninguna de las condiciones anteriores se cumple, imprime `\"No se cumple ninguna condicion.\"`.\n",
        "\n",
        "3. Imprime los resultados usando la funcion `print()`.\n"
      ],
      "metadata": {
        "id": "rgLor6CdtTWa"
      }
    },
    {
      "cell_type": "code",
      "source": [
        "#Programa-2\n",
        "\n",
        "\n",
        "\n",
        "\n",
        "\n",
        "\n"
      ],
      "metadata": {
        "id": "Bdkqo7oNt4b6"
      },
      "execution_count": null,
      "outputs": []
    },
    {
      "cell_type": "markdown",
      "source": [
        "\n",
        "\n",
        "---\n",
        "\n",
        "\n",
        "## **Problema 3**\n",
        "\n",
        "Crea un programa donde:\n",
        "\n",
        "1. Se definan tres variables: `P`, `Q` y `R`.\n",
        "   - `P` debe ser igual a 12.\n",
        "   - `Q` debe ser igual a 24.\n",
        "   - `R` debe ser igual a 6.\n",
        "\n",
        "2. Realiza las siguientes comparaciones:\n",
        "   - Si `P` multiplicado por `R` es igual a `Q`, imprime `\"P multiplicado por R es igual a Q.\"`.\n",
        "   - Si `Q` dividido entre `R` es igual a `P`, imprime `\"Q dividido entre R es igual a P.\"`.\n",
        "   - Si `P` mas `R` es mayor que `Q`, imprime `\"La suma de P y R es mayor que Q.\"`.\n",
        "   - Si ninguna de las condiciones anteriores se cumple, imprime `\"No se cumple ninguna condicion.\"`.\n",
        "\n",
        "3. Imprime los resultados usando la funcion `print()`.\n"
      ],
      "metadata": {
        "id": "uJpWzqmjt85u"
      }
    },
    {
      "cell_type": "code",
      "source": [
        "#Programa-3\n",
        "\n",
        "\n",
        "\n",
        "\n",
        "\n",
        "\n",
        "\n"
      ],
      "metadata": {
        "id": "NVg8NBiEuCdP"
      },
      "execution_count": null,
      "outputs": []
    },
    {
      "cell_type": "markdown",
      "source": [
        "\n",
        "\n",
        "---\n",
        "\n",
        "## **Programa 4**\n",
        "\n",
        "Crea un programa donde:\n",
        "\n",
        "1. Se definan tres variables: `Texto`, `Numero1`, `Numero2`.\n",
        "2. La variable `Texto` debe ser de tipo `str` y las otras dos de tipo `int`.\n",
        "3. Usa un operador de asignacion (`+=`) para sumar `Numero1` y `Numero2` y actualizar el valor de `Numero1`.\n",
        "4. Concatena `Texto` con `\"Suma actualizada:\"` y el valor actualizado de `Numero1` convertido a `str` usando `( + )`.\n",
        "5. Muestra los resultados con `print()`."
      ],
      "metadata": {
        "id": "FYmV4puCvKjp"
      }
    },
    {
      "cell_type": "code",
      "source": [
        "#Programa-4\n",
        "\n",
        "\n",
        "\n",
        "\n",
        "\n",
        "\n",
        "\n"
      ],
      "metadata": {
        "id": "kX15LJRcvcq1"
      },
      "execution_count": null,
      "outputs": []
    },
    {
      "cell_type": "markdown",
      "source": [
        "\n",
        "\n",
        "---\n",
        "\n",
        "\n",
        "## **Programa 5**\n",
        "\n",
        "Crea un programa donde:\n",
        "\n",
        "1. Se definan tres variables: `Mensaje`, `Base`, `Potencia`.\n",
        "2. La variable `Mensaje` debe ser de tipo `str` y las otras dos de tipo `int`.\n",
        "3. Usa un operador de asignacion (`**=`) para elevar `Base` al exponente `Potencia` y actualizar su valor.\n",
        "4. Concatena `Mensaje` con `\"Resultado de la potencia:\"` y el valor actualizado de `Base` convertido a `str` usando `( + )`.\n",
        "5. Muestra los resultados con `print()`.\n"
      ],
      "metadata": {
        "id": "F8FYKGbUvl5Q"
      }
    },
    {
      "cell_type": "code",
      "source": [
        "#Programa-5\n",
        "\n",
        "\n",
        "\n",
        "\n"
      ],
      "metadata": {
        "id": "3poDFtXwvw1M"
      },
      "execution_count": null,
      "outputs": []
    },
    {
      "cell_type": "markdown",
      "source": [
        "\n",
        "\n",
        "---\n",
        "\n",
        "\n",
        "## **Programa 6**\n",
        "\n",
        "Crea un programa donde:\n",
        "\n",
        "1. Se definan tres variables: `Frase`, `ValorInicial`, `Incremento`.\n",
        "2. La variable `Frase` debe ser de tipo `str` y las otras dos de tipo `int`.\n",
        "3. Usa un operador de asignacion (`*=`) para multiplicar `ValorInicial` por `Incremento` y actualizar su valor.\n",
        "4. Concatena `Frase` con `\"Multiplicacion final:\"` y el valor actualizado de `ValorInicial` convertido a `str` usando `( + )`.\n",
        "5. Muestra los resultados con `print()`.\n"
      ],
      "metadata": {
        "id": "3tH-aRyvwFHw"
      }
    },
    {
      "cell_type": "code",
      "source": [
        "#Programa-6\n",
        "\n",
        "\n",
        "\n",
        "\n",
        "\n",
        "\n"
      ],
      "metadata": {
        "id": "E8yLEjsZv9nq"
      },
      "execution_count": null,
      "outputs": []
    },
    {
      "cell_type": "markdown",
      "source": [
        "\n",
        "\n",
        "---\n",
        "\n",
        "\n",
        "# **Problema 7**\n",
        "\n",
        "Crea un programa donde:\n",
        "\n",
        "1. Se solicite al usuario que seleccione una accion para un ventilador automatico:\n",
        "   - `\"encender\"`, `\"apagar\"`.\n",
        "\n",
        "2. El programa debe realizar lo siguiente:\n",
        "   - Si la accion es `\"encender\"`, imprime `\"El ventilador esta encendido\"`.\n",
        "   - Si la accion es `\"apagar\"`, imprime `\"El ventilador esta apagado\"`.\n",
        "   - Si la accion ingresada no es valida, imprime `\"Accion no valida\"`."
      ],
      "metadata": {
        "id": "WWsi-gCB2gnL"
      }
    },
    {
      "cell_type": "code",
      "execution_count": null,
      "metadata": {
        "id": "pA2YRXT42fLf"
      },
      "outputs": [],
      "source": [
        "#Programa-7\n",
        "\n",
        "\n",
        "\n",
        "\n",
        "\n"
      ]
    },
    {
      "cell_type": "markdown",
      "source": [
        "\n",
        "\n",
        "---\n",
        "\n",
        "# **Problema 8**\n",
        "\n",
        "Crea un programa donde:\n",
        "\n",
        "1. Se solicite al usuario que seleccione una accion para un semaforo:\n",
        "   - `\"verde\"`, `\"amarillo\"`, `\"rojo\"`.\n",
        "\n",
        "2. El programa debe realizar lo siguiente:\n",
        "   - Si la accion es `\"verde\"`, imprime `\"El semaforo esta en verde. Avance.\"`.\n",
        "   - Si la accion es `\"amarillo\"`, imprime `\"El semaforo esta en amarillo. Precaucion.\"`.\n",
        "   - Si la accion es `\"rojo\"`, imprime `\"El semaforo esta en rojo. Detengase.\"`.\n",
        "   - Si la accion ingresada no es valida, imprime `\"Accion no valida\"`.\n"
      ],
      "metadata": {
        "id": "WLw9fgkB2wpM"
      }
    },
    {
      "cell_type": "code",
      "source": [
        "#Programa-8\n",
        "\n",
        "\n",
        "\n",
        "\n",
        "\n",
        "\n"
      ],
      "metadata": {
        "id": "hm606x8n23yQ"
      },
      "execution_count": null,
      "outputs": []
    },
    {
      "cell_type": "markdown",
      "source": [
        "---\n",
        "\n",
        "# **Problema 9**\n",
        "\n",
        "Crea un programa donde:\n",
        "\n",
        "1. Se solicite al usuario que seleccione una accion para una lampara inteligente:\n",
        "   - `\"encender\"`, `\"apagar\"`.\n",
        "\n",
        "2. El programa debe realizar lo siguiente:\n",
        "   - Si la accion es `\"encender\"`, imprime `\"La lampara esta encendida\"`.\n",
        "   - Si la accion es `\"apagar\"`, imprime `\"La lampara esta apagada\"`.\n",
        "   - Si la accion ingresada no es valida, imprime `\"Accion no valida\"`.\n"
      ],
      "metadata": {
        "id": "k9uiyzld2__d"
      }
    },
    {
      "cell_type": "code",
      "source": [
        "#Programa-9\n",
        "\n",
        "\n",
        "\n",
        "\n",
        "\n"
      ],
      "metadata": {
        "id": "yX5nIv4_3OD1"
      },
      "execution_count": null,
      "outputs": []
    },
    {
      "cell_type": "markdown",
      "source": [
        "\n",
        "\n",
        "---\n",
        "\n",
        "\n",
        "# **Problema 10**\n",
        "\n",
        "Crea un programa donde:\n",
        "\n",
        "1. Se solicite al usuario que seleccione una accion para un robot:\n",
        "   - `\"avanzar\"`, `\"retroceder\"`.\n",
        "\n",
        "2. El programa debe realizar lo siguiente:\n",
        "   - Si la accion es `\"avanzar\"`, imprime `\"El robot esta avanzando\"`.\n",
        "   - Si la accion es `\"retroceder\"`, imprime `\"El robot esta retrocediendo\"`.\n",
        "   - Si la accion ingresada no es valida, imprime `\"Accion no valida\"`."
      ],
      "metadata": {
        "id": "pxA-FxnC3W6C"
      }
    },
    {
      "cell_type": "code",
      "source": [
        "#Programa-10\n",
        "\n",
        "\n",
        "\n",
        "\n",
        "\n",
        "\n",
        "\n"
      ],
      "metadata": {
        "id": "KNmKV7HP3fhs"
      },
      "execution_count": null,
      "outputs": []
    }
  ]
}