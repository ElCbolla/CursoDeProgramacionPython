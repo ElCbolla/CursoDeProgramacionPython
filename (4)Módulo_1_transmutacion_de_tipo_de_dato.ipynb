{
  "nbformat": 4,
  "nbformat_minor": 0,
  "metadata": {
    "colab": {
      "provenance": [],
      "authorship_tag": "ABX9TyP7Cuc+B8Anl+0/TSjqqyqo",
      "include_colab_link": true
    },
    "kernelspec": {
      "name": "python3",
      "display_name": "Python 3"
    },
    "language_info": {
      "name": "python"
    }
  },
  "cells": [
    {
      "cell_type": "markdown",
      "metadata": {
        "id": "view-in-github",
        "colab_type": "text"
      },
      "source": [
        "<a href=\"https://colab.research.google.com/github/ElCbolla/CursoDeProgramacionPython/blob/main/(4)M%C3%B3dulo_1_transmutacion_de_tipo_de_dato.ipynb\" target=\"_parent\"><img src=\"https://colab.research.google.com/assets/colab-badge.svg\" alt=\"Open In Colab\"/></a>"
      ]
    },
    {
      "cell_type": "markdown",
      "source": [
        "#**Una de las mayores cualidades de python es su tipado dinamico, esto quiere decir que los tipos de las variables se determinan en el tiempo de ejecucion, Entonces nos permite cambiar el tipo de una variable las veces que queramos a diferencia de otros idiomas como Java o C++ que poseen tipado estatico, esto significa que una vez defines el tipo de dato de una variable este ya no se puede volver a cambiar dentro del codigo.**\n",
        "\n",
        "# **Alguno de las funciones que tenemos para poder cambiar el tipo de dato de nuestras variables son los siguientes : `int()` , `float()` , `str()`**\n",
        "\n",
        "*Ejemplo :*\n",
        "\n",
        "\n",
        "\n",
        "```\n",
        "VariableNumerica = 1\n",
        "\n",
        "print(type(VariableNumerica))\n",
        "\n",
        "\n",
        "```\n",
        "\n",
        "\n",
        "```\n",
        "Salida ->> El tipo de nuestra variable es {int}\n",
        "```\n",
        "\n",
        "\n",
        "---\n",
        "\n",
        "\n",
        "Pero si aplicaramos la funcion `str(NombreDeLaVariable)` sucederia lo siguiente :\n",
        "\n",
        "```\n",
        "VariableNumerica = str(1)\n",
        "\n",
        "print(type(VariableNumerica))\n",
        "\n",
        "\n",
        "```\n",
        "\n",
        "\n",
        "```\n",
        "Salida ->> El tipo de nuestra variable es {str} y nuestro valor (1) pasaria a\n",
        "ser (\"1\") con las comillas respectivas de una variable tipo {str}.\n",
        "```"
      ],
      "metadata": {
        "id": "ozigU4aJFBfH"
      }
    },
    {
      "cell_type": "markdown",
      "source": [
        "**Como vimos en temas anteriores, la concatenacion por medio de un `\"+\"` solo se aplica para datos de tipo `{str}` Pero que pasaria si tratamos de operar una variable de tipo `{str}` con otra de tipo `{int}` pero en la variable numerica aplicamos el metodo `str()`**"
      ],
      "metadata": {
        "id": "W7i0MRKPOR32"
      }
    },
    {
      "cell_type": "code",
      "execution_count": 3,
      "metadata": {
        "colab": {
          "base_uri": "https://localhost:8080/"
        },
        "id": "KehOlhpjE_9R",
        "outputId": "84c18996-3274-492a-ead9-a27a364485b8"
      },
      "outputs": [
        {
          "output_type": "stream",
          "name": "stdout",
          "text": [
            "Hola10\n"
          ]
        }
      ],
      "source": [
        "VariableDeTexto = \"Hola\"\n",
        "\n",
        "VariableNumerica = 10\n",
        "\n",
        "print(VariableDeTexto + str(VariableNumerica) ) #Gracias al metodo str() y el nombre de nuestra variable numerica dentro de los parentesis pasa a ser tipo {str} lo que permite que se pueda concatenar a un texto mediante un ( + )"
      ]
    },
    {
      "cell_type": "markdown",
      "source": [
        "**Imprime el tipo de la variable numerica sin usar la funcion `str()`**"
      ],
      "metadata": {
        "id": "mDK01ktRQU1Z"
      }
    },
    {
      "cell_type": "code",
      "source": [
        "print(type(VariableNumerica))"
      ],
      "metadata": {
        "colab": {
          "base_uri": "https://localhost:8080/"
        },
        "id": "0NffpvgaQDVw",
        "outputId": "23d5cd23-edf9-41ef-9bde-a2189154bd4d"
      },
      "execution_count": 6,
      "outputs": [
        {
          "output_type": "stream",
          "name": "stdout",
          "text": [
            "<class 'int'>\n"
          ]
        }
      ]
    },
    {
      "cell_type": "markdown",
      "source": [
        "\n",
        "\n",
        "---\n",
        "**Imprime el tipo de la variable despues de aplicar la funcion `str()`**\n"
      ],
      "metadata": {
        "id": "cBB_T6TXQeIF"
      }
    },
    {
      "cell_type": "code",
      "source": [
        "print(type(str(VariableNumerica)))"
      ],
      "metadata": {
        "colab": {
          "base_uri": "https://localhost:8080/"
        },
        "id": "sFvjdODuQn4A",
        "outputId": "933dac81-7c59-4a20-8928-4037bbc839c1"
      },
      "execution_count": 7,
      "outputs": [
        {
          "output_type": "stream",
          "name": "stdout",
          "text": [
            "<class 'str'>\n"
          ]
        }
      ]
    },
    {
      "cell_type": "markdown",
      "source": [
        "**Recordemos que existen otros metodos para cambiar al tipo de dato que deseemos.**\n",
        "\n",
        "\n",
        "\n",
        "*   `str()` <-Para cambiar a dato texto.\n",
        "\n",
        "*   `int()` <- Para cambiar a dato entero.\n",
        "\n",
        "*   `float()` <- Para cambiar a dato decimal.\n",
        "\n",
        "**Esos son las funciones principales que debes recordar, si bien existe un metodo para cada tipo de dato, los que se usan el 90% de las veces son los puestos anteriormente.**\n",
        "\n",
        "\n",
        "\n",
        "---\n",
        "\n",
        "\n",
        "***Estructura del metodo***:\n",
        "\n",
        "\n",
        "Primero escribe la abreviacion del tipo de dato al que deseas otorgarle a tu variable `( str , int , float )`.\n",
        "\n",
        "```\n",
        "#Ejemplo con int\n",
        "\n",
        "int\n",
        "\n",
        "```\n",
        "A continuacion agrega unos parentesis enfrente del tipo que elegiste.\n",
        "\n",
        "\n",
        "```\n",
        "int()\n",
        "```\n",
        "\n",
        "**Finalmente dentro de los parentesis agrega el nombre de tu variable ya previamente definida.**\n",
        "\n",
        "\n",
        "\n",
        "```\n",
        "NombreDeLaVariable = \"10\" <-Tipo str\n",
        "\n",
        "int(NombreDeLaVariable)\n",
        "\n",
        "```\n",
        "De esta manera tu variable `\"10\"` pasara a ser una variable de tipo entera con el valor de `(10)`\n",
        "\n",
        "\n",
        "Aplicando la misma estructura podemos cambiar el dato de nuestras variables al tipo que queramos.\n",
        "\n",
        "\n",
        "\n"
      ],
      "metadata": {
        "id": "iA7xB9r6SE6m"
      }
    },
    {
      "cell_type": "markdown",
      "source": [
        "**Al momento de cambiar el tipo de dato de nuestras variables debemos tener algunos cuidados, por ejemplo, si cambiamos una variable de tipo texto a una de tipo entero mediante la funcion `int()` vamos a recibir el siguiente error :**"
      ],
      "metadata": {
        "id": "DMFxKIG0gMU6"
      }
    },
    {
      "cell_type": "code",
      "source": [
        "VariableDeTexto = \"Texto\"\n",
        "\n",
        "print( int(VariableDeTexto) )"
      ],
      "metadata": {
        "colab": {
          "base_uri": "https://localhost:8080/",
          "height": 176
        },
        "id": "6b6qSkYWgGf8",
        "outputId": "2db9986c-9610-403c-d92d-16ae63c0be95"
      },
      "execution_count": 8,
      "outputs": [
        {
          "output_type": "error",
          "ename": "ValueError",
          "evalue": "invalid literal for int() with base 10: 'Texto'",
          "traceback": [
            "\u001b[0;31m---------------------------------------------------------------------------\u001b[0m",
            "\u001b[0;31mValueError\u001b[0m                                Traceback (most recent call last)",
            "\u001b[0;32m<ipython-input-8-41408417ed32>\u001b[0m in \u001b[0;36m<cell line: 3>\u001b[0;34m()\u001b[0m\n\u001b[1;32m      1\u001b[0m \u001b[0mVariableDeTexto\u001b[0m \u001b[0;34m=\u001b[0m \u001b[0;34m\"Texto\"\u001b[0m\u001b[0;34m\u001b[0m\u001b[0;34m\u001b[0m\u001b[0m\n\u001b[1;32m      2\u001b[0m \u001b[0;34m\u001b[0m\u001b[0m\n\u001b[0;32m----> 3\u001b[0;31m \u001b[0mprint\u001b[0m\u001b[0;34m(\u001b[0m \u001b[0mint\u001b[0m\u001b[0;34m(\u001b[0m\u001b[0mVariableDeTexto\u001b[0m\u001b[0;34m)\u001b[0m \u001b[0;34m)\u001b[0m\u001b[0;34m\u001b[0m\u001b[0;34m\u001b[0m\u001b[0m\n\u001b[0m",
            "\u001b[0;31mValueError\u001b[0m: invalid literal for int() with base 10: 'Texto'"
          ]
        }
      ]
    },
    {
      "cell_type": "markdown",
      "source": [
        "**Esto sucede por que los dato `{int}` deben ser explicitamente valores numericos, por lo que un texto no puede tomar un valor entero `{int}` ni decimal `{float}`**\n",
        "\n",
        "**Esta restriccion solo aplica para los datos de texto, ya que todos los tipos de datos comunes pueden ser texto pero los textos no pueden ser de todos los tipos de datos.**"
      ],
      "metadata": {
        "id": "hgj3hSIgi-uj"
      }
    },
    {
      "cell_type": "markdown",
      "source": [
        "---\n",
        "Valor decimal `{float}` a texto` {str}` :"
      ],
      "metadata": {
        "id": "T6kgnd6aj1aF"
      }
    },
    {
      "cell_type": "code",
      "source": [
        "ValorDecimal = 1.5\n",
        "\n",
        "print( str(ValorDecimal) )"
      ],
      "metadata": {
        "colab": {
          "base_uri": "https://localhost:8080/"
        },
        "id": "wwVS7Eypj-Tp",
        "outputId": "729c2c98-8592-4328-978c-d1f74a0b89d2"
      },
      "execution_count": 9,
      "outputs": [
        {
          "output_type": "stream",
          "name": "stdout",
          "text": [
            "1.5\n"
          ]
        }
      ]
    },
    {
      "cell_type": "markdown",
      "source": [
        "---\n",
        "Valor de texto `{str}` a decimal `{float}` (Error) :"
      ],
      "metadata": {
        "id": "n3Nb_b9mkDu4"
      }
    },
    {
      "cell_type": "code",
      "source": [
        "ValorDeTexto = \"Texto\"\n",
        "\n",
        "print( float(ValorDeTexto) )"
      ],
      "metadata": {
        "colab": {
          "base_uri": "https://localhost:8080/",
          "height": 176
        },
        "id": "Gavvw3PzkMct",
        "outputId": "66f87713-dd13-44dd-8ff1-c0434bfdcb7a"
      },
      "execution_count": 11,
      "outputs": [
        {
          "output_type": "error",
          "ename": "ValueError",
          "evalue": "could not convert string to float: 'Texto'",
          "traceback": [
            "\u001b[0;31m---------------------------------------------------------------------------\u001b[0m",
            "\u001b[0;31mValueError\u001b[0m                                Traceback (most recent call last)",
            "\u001b[0;32m<ipython-input-11-22763adf8931>\u001b[0m in \u001b[0;36m<cell line: 3>\u001b[0;34m()\u001b[0m\n\u001b[1;32m      1\u001b[0m \u001b[0mValorDeTexto\u001b[0m \u001b[0;34m=\u001b[0m \u001b[0;34m\"Texto\"\u001b[0m\u001b[0;34m\u001b[0m\u001b[0;34m\u001b[0m\u001b[0m\n\u001b[1;32m      2\u001b[0m \u001b[0;34m\u001b[0m\u001b[0m\n\u001b[0;32m----> 3\u001b[0;31m \u001b[0mprint\u001b[0m\u001b[0;34m(\u001b[0m \u001b[0mfloat\u001b[0m\u001b[0;34m(\u001b[0m\u001b[0mValorDeTexto\u001b[0m\u001b[0;34m)\u001b[0m \u001b[0;34m)\u001b[0m\u001b[0;34m\u001b[0m\u001b[0;34m\u001b[0m\u001b[0m\n\u001b[0m",
            "\u001b[0;31mValueError\u001b[0m: could not convert string to float: 'Texto'"
          ]
        }
      ]
    },
    {
      "cell_type": "markdown",
      "source": [
        "---\n",
        "Valor entero `{int}` a texto `{str} `:\n",
        "\n",
        "\n"
      ],
      "metadata": {
        "id": "3GLK4GBvkVzQ"
      }
    },
    {
      "cell_type": "code",
      "source": [
        "ValorEntero = 10\n",
        "\n",
        "print( str(ValorEntero) )"
      ],
      "metadata": {
        "colab": {
          "base_uri": "https://localhost:8080/"
        },
        "id": "X4IRew16km2S",
        "outputId": "385771bf-824f-4de5-ac00-41dd2ecf182c"
      },
      "execution_count": 12,
      "outputs": [
        {
          "output_type": "stream",
          "name": "stdout",
          "text": [
            "10\n"
          ]
        }
      ]
    },
    {
      "cell_type": "markdown",
      "source": [
        "\n",
        "\n",
        "---\n",
        "\n",
        "\n",
        "Valor de Texto `{str}` a Entero `{int} `:\n"
      ],
      "metadata": {
        "id": "SsT9eiZEk1eX"
      }
    },
    {
      "cell_type": "code",
      "source": [
        "ValorDeTexto = \"Texto\"\n",
        "\n",
        "print( int(ValorDeTexto) )"
      ],
      "metadata": {
        "colab": {
          "base_uri": "https://localhost:8080/",
          "height": 176
        },
        "id": "2by5gv2hk0gF",
        "outputId": "da2b5d63-8db1-4558-e19b-8d9008384505"
      },
      "execution_count": 13,
      "outputs": [
        {
          "output_type": "error",
          "ename": "ValueError",
          "evalue": "invalid literal for int() with base 10: 'Texto'",
          "traceback": [
            "\u001b[0;31m---------------------------------------------------------------------------\u001b[0m",
            "\u001b[0;31mValueError\u001b[0m                                Traceback (most recent call last)",
            "\u001b[0;32m<ipython-input-13-24ac9134d3cf>\u001b[0m in \u001b[0;36m<cell line: 3>\u001b[0;34m()\u001b[0m\n\u001b[1;32m      1\u001b[0m \u001b[0mValorDeTexto\u001b[0m \u001b[0;34m=\u001b[0m \u001b[0;34m\"Texto\"\u001b[0m\u001b[0;34m\u001b[0m\u001b[0;34m\u001b[0m\u001b[0m\n\u001b[1;32m      2\u001b[0m \u001b[0;34m\u001b[0m\u001b[0m\n\u001b[0;32m----> 3\u001b[0;31m \u001b[0mprint\u001b[0m\u001b[0;34m(\u001b[0m \u001b[0mint\u001b[0m\u001b[0;34m(\u001b[0m\u001b[0mValorDeTexto\u001b[0m\u001b[0;34m)\u001b[0m \u001b[0;34m)\u001b[0m\u001b[0;34m\u001b[0m\u001b[0;34m\u001b[0m\u001b[0m\n\u001b[0m",
            "\u001b[0;31mValueError\u001b[0m: invalid literal for int() with base 10: 'Texto'"
          ]
        }
      ]
    },
    {
      "cell_type": "markdown",
      "source": [
        "Con esto podemos ver que los valores enteros `{int}` y decimales `{float`} pueden ser tipo texto `{str}` pero los textos `{str}` no pueden ser decimales `{float}` ni enteros `{int}`, la unica manera de evitar esta restriccion es que el valor almacenado como `{str}` sea un numero.\n",
        "\n",
        "\n",
        "---\n",
        "\n",
        "\n",
        "***Ejemplo-1 :***\n",
        "\n",
        "* Valor de texto numerico a entero."
      ],
      "metadata": {
        "id": "YFgzvmpAlTqQ"
      }
    },
    {
      "cell_type": "code",
      "source": [
        "ValorDeTextoNumerico = \"10\"\n",
        "\n",
        "print(int(ValorDeTextoNumerico))"
      ],
      "metadata": {
        "colab": {
          "base_uri": "https://localhost:8080/"
        },
        "id": "TFsxy74Gmfv2",
        "outputId": "430aca9f-8c8a-4151-c94d-7f4e0bd1fb72"
      },
      "execution_count": 14,
      "outputs": [
        {
          "output_type": "stream",
          "name": "stdout",
          "text": [
            "10\n"
          ]
        }
      ]
    },
    {
      "cell_type": "markdown",
      "source": [
        "\n",
        "\n",
        "---\n",
        "***Ejemplo-2 :***\n",
        "\n",
        "* Valor de texto numerico a decimal."
      ],
      "metadata": {
        "id": "_0paHH7imu_q"
      }
    },
    {
      "cell_type": "code",
      "source": [
        "ValorDeTextoNumerico = \"10.5\"\n",
        "\n",
        "print(float(ValorDeTextoNumerico))"
      ],
      "metadata": {
        "colab": {
          "base_uri": "https://localhost:8080/"
        },
        "id": "h3C3vdr9mzyQ",
        "outputId": "ede97f35-d3e7-480f-b9b5-bd4ab60979a8"
      },
      "execution_count": 15,
      "outputs": [
        {
          "output_type": "stream",
          "name": "stdout",
          "text": [
            "10.5\n"
          ]
        }
      ]
    },
    {
      "cell_type": "markdown",
      "source": [
        "**En los casos anteriores es posible ya que el dato almacenado como texto es de valor numerico.**\n",
        "\n",
        "* Es importante saber que estas restricciones no existen en el contexto de cambiar un dato tipo `{int}` a un dato tipo `{float}` y viceversa, ya que ambos son valores numericos.\n",
        "\n",
        "---\n",
        "***Ejemplo-1 :***\n",
        "\n",
        "* Valor Entero `{int}` a valor Decimal `{float}`."
      ],
      "metadata": {
        "id": "uMyPTU_bnOFo"
      }
    },
    {
      "cell_type": "code",
      "source": [
        "ValorEntero = 10\n",
        "\n",
        "print(float(ValorEntero)) #El valor entero aparece con un decimal ( 0 )."
      ],
      "metadata": {
        "colab": {
          "base_uri": "https://localhost:8080/"
        },
        "id": "Zr8YxNAtoAoJ",
        "outputId": "1a110001-3c19-423e-998d-1d9b3bb44a1e"
      },
      "execution_count": 16,
      "outputs": [
        {
          "output_type": "stream",
          "name": "stdout",
          "text": [
            "10.0\n"
          ]
        }
      ]
    },
    {
      "cell_type": "markdown",
      "source": [
        "\n",
        "\n",
        "---\n",
        "***Ejemplo-2 :***\n",
        "* Valor Decimal `{float}` a valor entero `{int}`.\n"
      ],
      "metadata": {
        "id": "jj5EeJAKoSuX"
      }
    },
    {
      "cell_type": "code",
      "source": [
        "ValorEntero = 2.5\n",
        "\n",
        "print(int(ValorEntero)) #El decimal aparece como entero (sin decimales.)."
      ],
      "metadata": {
        "colab": {
          "base_uri": "https://localhost:8080/"
        },
        "id": "A87WgYjmogEG",
        "outputId": "86629de4-bdb3-4025-b9d6-e518deac5952"
      },
      "execution_count": 17,
      "outputs": [
        {
          "output_type": "stream",
          "name": "stdout",
          "text": [
            "2\n"
          ]
        }
      ]
    },
    {
      "cell_type": "markdown",
      "source": [
        "\n",
        "\n",
        "---\n",
        "#**Preguntas de transmutacion de tipos de dato.**\n"
      ],
      "metadata": {
        "id": "gh22gquXozCh"
      }
    },
    {
      "cell_type": "markdown",
      "source": [
        "* `Al final del codigo, que tipo de dato almacena la variable.`"
      ],
      "metadata": {
        "id": "54UhI0tApDf9"
      }
    },
    {
      "cell_type": "code",
      "source": [
        "Variable = \"10\"\n",
        "\n",
        "print( type(float(Variable) ) )"
      ],
      "metadata": {
        "colab": {
          "base_uri": "https://localhost:8080/"
        },
        "id": "038Mm7_mo_FN",
        "outputId": "d2e2659e-377c-4fce-c207-2da78fee148d"
      },
      "execution_count": 19,
      "outputs": [
        {
          "output_type": "stream",
          "name": "stdout",
          "text": [
            "<class 'float'>\n"
          ]
        }
      ]
    },
    {
      "cell_type": "markdown",
      "source": [
        "\n",
        "\n",
        "---\n",
        "**Problema-1**\n",
        "* `Al final del codigo, que tipo de dato almacena la variable.`"
      ],
      "metadata": {
        "id": "8PdZ4boUpgSH"
      }
    },
    {
      "cell_type": "code",
      "source": [
        "Variable = 10\n",
        "\n",
        "print( type( str(Variable)) )"
      ],
      "metadata": {
        "colab": {
          "base_uri": "https://localhost:8080/"
        },
        "id": "0OpwpA_dpkn1",
        "outputId": "a75122a7-217f-4055-fe0b-e9ca0fe316b8"
      },
      "execution_count": 20,
      "outputs": [
        {
          "output_type": "stream",
          "name": "stdout",
          "text": [
            "<class 'str'>\n"
          ]
        }
      ]
    },
    {
      "cell_type": "markdown",
      "source": [
        "\n",
        "\n",
        "---\n",
        "**Problema-2**\n",
        "* `Al final del codigo, que tipo de dato almacena la variable.`"
      ],
      "metadata": {
        "id": "YUkhgm20pqgO"
      }
    },
    {
      "cell_type": "code",
      "source": [
        "Variable = 2\n",
        "\n",
        "print( type( float(Variable) ) )"
      ],
      "metadata": {
        "id": "SWahz80tptEX"
      },
      "execution_count": null,
      "outputs": []
    },
    {
      "cell_type": "markdown",
      "source": [
        "---\n",
        "**Problema-3**\n",
        "* `Al final del codigo, que tipo de dato almacena la variable.`"
      ],
      "metadata": {
        "id": "cH13pP69p0qD"
      }
    },
    {
      "cell_type": "code",
      "source": [
        "Variable = 2.5\n",
        "\n",
        "print( type( str(Variable) ) )"
      ],
      "metadata": {
        "colab": {
          "base_uri": "https://localhost:8080/"
        },
        "id": "PYDY8kdDp43A",
        "outputId": "c64613f7-6ccd-4657-953d-096ae76484f2"
      },
      "execution_count": 21,
      "outputs": [
        {
          "output_type": "stream",
          "name": "stdout",
          "text": [
            "<class 'str'>\n"
          ]
        }
      ]
    },
    {
      "cell_type": "markdown",
      "source": [
        "---\n",
        "**Problema-4**\n",
        "1. `Al inicio del codigo, que tipo de dato almacena la variable.`\n",
        "2. `Al final del codigo, que tipo de dato almacena la variable.`\n",
        "\n"
      ],
      "metadata": {
        "id": "HxcGGsasqT9G"
      }
    },
    {
      "cell_type": "code",
      "source": [
        "Variable = \"10\"\n",
        "\n",
        "print(type(str(Variable)))"
      ],
      "metadata": {
        "id": "3O5ETam5qrAn"
      },
      "execution_count": null,
      "outputs": []
    },
    {
      "cell_type": "markdown",
      "source": [
        "---\n",
        "**Problema-5**\n",
        "1. `Al inicio del codigo, que tipo de dato almacena la variable.`\n",
        "2. `Al final del codigo, que tipo de dato almacena la variable.`\n",
        "\n"
      ],
      "metadata": {
        "id": "bqvnn4Pmq9He"
      }
    },
    {
      "cell_type": "code",
      "source": [
        "Variable = 10\n",
        "\n",
        "print(type(float(Variable)))"
      ],
      "metadata": {
        "id": "dziiyT9Lq_1P"
      },
      "execution_count": null,
      "outputs": []
    },
    {
      "cell_type": "markdown",
      "source": [
        "---\n",
        "**Problema-6**\n",
        "1. `Al inicio del codigo, que tipo de dato almacena la variable.`\n",
        "2. `Al final del codigo, que tipo de dato almacena la variable.`\n",
        "\n"
      ],
      "metadata": {
        "id": "5SXdnvw9rFiW"
      }
    },
    {
      "cell_type": "code",
      "source": [
        "Variable = 1.5\n",
        "\n",
        "print(type(int(Variable)))"
      ],
      "metadata": {
        "id": "PB8z3tw-rE5p"
      },
      "execution_count": null,
      "outputs": []
    },
    {
      "cell_type": "markdown",
      "source": [
        "---\n",
        "**Problema-7**\n",
        "1. `Al inicio del codigo, que tipo de dato almacena la variable.`\n",
        "2. `Al final del codigo, que tipo de dato almacena la variable.`\n",
        "\n"
      ],
      "metadata": {
        "id": "_uhsdSaurOd_"
      }
    },
    {
      "cell_type": "code",
      "source": [
        "Variable = 6\n",
        "\n",
        "print(type(str(Variable)))"
      ],
      "metadata": {
        "id": "dmjHOA9ZrNHi"
      },
      "execution_count": null,
      "outputs": []
    },
    {
      "cell_type": "markdown",
      "source": [
        "---\n",
        "**Problema-8**\n",
        "1. `Al inicio del codigo, que tipo de dato almacena la variable.`\n",
        "2. `Al final del codigo, que tipo de dato almacena la variable.`\n",
        "\n"
      ],
      "metadata": {
        "id": "XWpkkcjSreWZ"
      }
    },
    {
      "cell_type": "code",
      "source": [
        "Variable = 2.2\n",
        "\n",
        "print(type(str(Variable)))"
      ],
      "metadata": {
        "id": "ESBFFHpNrgKl"
      },
      "execution_count": null,
      "outputs": []
    },
    {
      "cell_type": "markdown",
      "source": [
        "---\n",
        "**Problema-9**\n",
        "\n",
        "Analiza el siguiente codigo y asegurate si no generara un error, y si crees que no generara un error responde lo siguiente :\n",
        "1. `Al inicio del codigo, que tipo de dato almacena la {Variable1}.`\n",
        "2. `Al final del codigo, que tipo de dato almacena la {Variable1}.`\n",
        "3. `Al inicio del codigo, que tipo de dato almacena la {Variable2}.`\n",
        "4. `Al final del codigo, que tipo de dato almacena la {Variable2}.`\n",
        "5. `Que texto retornara.`\n"
      ],
      "metadata": {
        "id": "agnmA5WxrvrT"
      }
    },
    {
      "cell_type": "code",
      "source": [
        "Variable1 = \"Hola\"\n",
        "\n",
        "Variable2 = 2\n",
        "\n",
        "print(Variable1 + str(Variable2))"
      ],
      "metadata": {
        "colab": {
          "base_uri": "https://localhost:8080/"
        },
        "id": "5YfdFjddsTek",
        "outputId": "b2879450-4970-4c21-a41f-22334a20b0f1"
      },
      "execution_count": 23,
      "outputs": [
        {
          "output_type": "stream",
          "name": "stdout",
          "text": [
            "Hola2\n"
          ]
        }
      ]
    },
    {
      "cell_type": "markdown",
      "source": [
        "---\n",
        "**Problema-10**\n",
        "\n",
        "Analiza el siguiente codigo y asegurate si no generara un error, y si crees que no generara un error responde lo siguiente :\n",
        "1. `Al inicio del codigo, que tipo de dato almacena la {Variable1}.`\n",
        "2. `Al final del codigo, que tipo de dato almacena la {Variable1}.`\n",
        "3. `Al inicio del codigo, que tipo de dato almacena la {Variable2}.`\n",
        "4. `Al final del codigo, que tipo de dato almacena la {Variable2}.`\n",
        "5. `Que texto retornara.`\n"
      ],
      "metadata": {
        "id": "MDHSbKJZs3zU"
      }
    },
    {
      "cell_type": "code",
      "source": [
        "Variable1 = \"Hola\"\n",
        "\n",
        "Variable2 = \"2\"\n",
        "\n",
        "print(Variable1 * int(Variable2))"
      ],
      "metadata": {
        "colab": {
          "base_uri": "https://localhost:8080/"
        },
        "id": "YKCoGhhls70k",
        "outputId": "c7b82856-8caa-472a-cf97-105aef996e97"
      },
      "execution_count": 24,
      "outputs": [
        {
          "output_type": "stream",
          "name": "stdout",
          "text": [
            "HolaHola\n"
          ]
        }
      ]
    },
    {
      "cell_type": "markdown",
      "source": [
        "---\n",
        "**Problema-11**\n",
        "\n",
        "Analiza el siguiente codigo y asegurate si no generara un error, y si crees que no generara un error responde lo siguiente :\n",
        "1. `Al inicio del codigo, que tipo de dato almacena la {Variable1}.`\n",
        "2. `Al final del codigo, que tipo de dato almacena la {Variable1}.`\n",
        "3. `Al inicio del codigo, que tipo de dato almacena la {Variable2}.`\n",
        "4. `Al final del codigo, que tipo de dato almacena la {Variable2}.`\n",
        "5. `Que texto retornara.`\n"
      ],
      "metadata": {
        "id": "odFrcA2StQ5a"
      }
    },
    {
      "cell_type": "code",
      "source": [
        "Variable1 = \"Hola\"\n",
        "\n",
        "Variable2 = 2\n",
        "\n",
        "print(Variable1 * str(Variable2))"
      ],
      "metadata": {
        "colab": {
          "base_uri": "https://localhost:8080/",
          "height": 176
        },
        "id": "LoaWI_09tXm4",
        "outputId": "fd8bb1b9-e0a3-4fad-ef33-55694246812e"
      },
      "execution_count": 25,
      "outputs": [
        {
          "output_type": "error",
          "ename": "TypeError",
          "evalue": "can't multiply sequence by non-int of type 'str'",
          "traceback": [
            "\u001b[0;31m---------------------------------------------------------------------------\u001b[0m",
            "\u001b[0;31mTypeError\u001b[0m                                 Traceback (most recent call last)",
            "\u001b[0;32m<ipython-input-25-311b710cdb4c>\u001b[0m in \u001b[0;36m<cell line: 5>\u001b[0;34m()\u001b[0m\n\u001b[1;32m      3\u001b[0m \u001b[0mVariable2\u001b[0m \u001b[0;34m=\u001b[0m \u001b[0;36m2\u001b[0m\u001b[0;34m\u001b[0m\u001b[0;34m\u001b[0m\u001b[0m\n\u001b[1;32m      4\u001b[0m \u001b[0;34m\u001b[0m\u001b[0m\n\u001b[0;32m----> 5\u001b[0;31m \u001b[0mprint\u001b[0m\u001b[0;34m(\u001b[0m\u001b[0mVariable1\u001b[0m \u001b[0;34m*\u001b[0m \u001b[0mstr\u001b[0m\u001b[0;34m(\u001b[0m\u001b[0mVariable2\u001b[0m\u001b[0;34m)\u001b[0m\u001b[0;34m)\u001b[0m\u001b[0;34m\u001b[0m\u001b[0;34m\u001b[0m\u001b[0m\n\u001b[0m",
            "\u001b[0;31mTypeError\u001b[0m: can't multiply sequence by non-int of type 'str'"
          ]
        }
      ]
    },
    {
      "cell_type": "markdown",
      "source": [
        "---\n",
        "**Problema-12**\n",
        "\n",
        "Analiza el siguiente codigo y asegurate si no generara un error, y si crees que no generara un error responde lo siguiente :\n",
        "1. `Al inicio del codigo, que tipo de dato almacena la {Variable1}.`\n",
        "2. `Al final del codigo, que tipo de dato almacena la {Variable1}.`\n",
        "3. `Al inicio del codigo, que tipo de dato almacena la {Variable2}.`\n",
        "4. `Al final del codigo, que tipo de dato almacena la {Variable2}.`\n",
        "5. `Que texto retornara.`"
      ],
      "metadata": {
        "id": "8OcQQubdtmgj"
      }
    },
    {
      "cell_type": "code",
      "source": [
        "Variable1 = 10\n",
        "\n",
        "Variable2 = \"10\"\n",
        "\n",
        "print(int(Variable1),str(Variable2))"
      ],
      "metadata": {
        "colab": {
          "base_uri": "https://localhost:8080/"
        },
        "id": "GCLKe0_Vtqwg",
        "outputId": "a8e3c5d6-3e55-44e0-c7cd-7009b38139b9"
      },
      "execution_count": 27,
      "outputs": [
        {
          "output_type": "stream",
          "name": "stdout",
          "text": [
            "10 10\n"
          ]
        }
      ]
    },
    {
      "cell_type": "markdown",
      "source": [
        "---\n",
        "**Problema-13**\n",
        "\n",
        "Analiza el siguiente codigo y asegurate si no generara un error, y si crees que no generara un error responde lo siguiente :\n",
        "1. `Al inicio del codigo, que tipo de dato almacena la {Variable1}.`\n",
        "2. `Al final del codigo, que tipo de dato almacena la {Variable1}.`\n",
        "3. `Al inicio del codigo, que tipo de dato almacena la {Variable2}.`\n",
        "4. `Al final del codigo, que tipo de dato almacena la {Variable2}.`\n",
        "5. `Que texto retornara.`"
      ],
      "metadata": {
        "id": "mNAqUrzmtDSS"
      }
    },
    {
      "cell_type": "code",
      "source": [
        "Variable1 = 10\n",
        "\n",
        "Variable2 = 2.5\n",
        "\n",
        "print(str(Variable1),str(Variable2))"
      ],
      "metadata": {
        "colab": {
          "base_uri": "https://localhost:8080/"
        },
        "id": "u-qA9YzCt7im",
        "outputId": "be745a95-a94f-441d-be2b-40e92242d25d"
      },
      "execution_count": 28,
      "outputs": [
        {
          "output_type": "stream",
          "name": "stdout",
          "text": [
            "10 2.5\n"
          ]
        }
      ]
    },
    {
      "cell_type": "markdown",
      "source": [
        "#**Problemas asociados a transmutadores de tipos.**"
      ],
      "metadata": {
        "id": "TyTjYnlsuJz1"
      }
    }
  ]
}