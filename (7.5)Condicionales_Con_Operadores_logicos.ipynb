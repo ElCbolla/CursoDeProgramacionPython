{
  "nbformat": 4,
  "nbformat_minor": 0,
  "metadata": {
    "colab": {
      "provenance": [],
      "authorship_tag": "ABX9TyMByYAZdTjQ81yJJvYXeiBI",
      "include_colab_link": true
    },
    "kernelspec": {
      "name": "python3",
      "display_name": "Python 3"
    },
    "language_info": {
      "name": "python"
    }
  },
  "cells": [
    {
      "cell_type": "markdown",
      "metadata": {
        "id": "view-in-github",
        "colab_type": "text"
      },
      "source": [
        "<a href=\"https://colab.research.google.com/github/ElCbolla/CursoDeProgramacionPython/blob/main/(7.5)Condicionales_Con_Operadores_logicos.ipynb\" target=\"_parent\"><img src=\"https://colab.research.google.com/assets/colab-badge.svg\" alt=\"Open In Colab\"/></a>"
      ]
    },
    {
      "cell_type": "markdown",
      "source": [
        "Los operadores logicos `(and,or,not)` son aplicables y muy utiles en el contexto de condicionales, ya que de esta manera podemos lograr casi los mismos resultados que con bucles anidados, por ejemplo, imaginate que debemos evaluar si `A>B` y a su vez `C<B`, para hacer esto primero debemos definir nuestras variables `[A,B,C]` :\n",
        "\n",
        "\n",
        "\n",
        "```\n",
        "A = 5\n",
        "B = 2\n",
        "C = 1\n",
        "```\n",
        "\n",
        "Despues de definir nuestras variables debemos evaluar si `A>B` mediante un `if`.\n",
        "\n",
        "\n",
        "\n",
        "```\n",
        "A = 5\n",
        "B = 2\n",
        "C = 1\n",
        "\n",
        "if A>B:\n",
        " #Secuencia de codigo si se cumple la condicion.\n",
        "\n",
        "else:\n",
        " #Secuencia de codigo si no se cumple la condicion.\n",
        "\n",
        "```\n",
        "\n",
        "Recordemos que tambien queremos evaluar si `C<B` para debemos añadir nuestro operador logico `and` despues de la primera condicion que establecimos`(A>B)`.\n",
        "\n",
        "\n",
        "\n",
        "```\n",
        "if A>B and C<B:\n",
        " #Secuencia de codigo si A>B y C<B\n",
        "\n",
        "else:\n",
        " #Secuencia de codigo si A no es mayor que B o si B no es mayor que C.\n",
        "```\n",
        "\n",
        "De esta manera la condicion se cumplira si y solo `si A es mayor que B ` **Y** `C es menor que B`.\n",
        "\n"
      ],
      "metadata": {
        "id": "q-f4imQbqH6r"
      }
    },
    {
      "cell_type": "markdown",
      "source": [
        "* Asi se veria el codigo en una celda real de codigo."
      ],
      "metadata": {
        "id": "2SkDZb3BvUi2"
      }
    },
    {
      "cell_type": "code",
      "execution_count": null,
      "metadata": {
        "colab": {
          "base_uri": "https://localhost:8080/"
        },
        "collapsed": true,
        "id": "nEfdlPh0nMQN",
        "outputId": "d5097d0b-b3dd-40d8-828a-f9a92017fefd"
      },
      "outputs": [
        {
          "output_type": "stream",
          "name": "stdout",
          "text": [
            "A es mayor que B y C es menor que B\n"
          ]
        }
      ],
      "source": [
        "A = 5\n",
        "B = 2\n",
        "C = 1\n",
        "\n",
        "if A>B and C<B:\n",
        " print(\"A es mayor que B y C es menor que B\")\n",
        "\n",
        "else:\n",
        "  print(\"Alguna condicion no se cumplio correctamente.\")\n"
      ]
    },
    {
      "cell_type": "markdown",
      "source": [
        "De esta manera podemos facilitar las variables dependientes, imagina que nuevamente quieres ver si el usuario es mayor de `edad` y tiene una `identificacion` para votar.\n",
        "\n",
        "Primero debemos pedirle los datos al usuario mediante una funcion `input().`\n",
        "\n",
        "\n",
        "\n",
        "```\n",
        "Edad = int(input(\"Ingresa tu edad\"))\n",
        "Identificacion = input(\"Tienes identificacion? (Si) (No)\")\n",
        "```\n",
        "\n",
        "Despues mediante una condicional `if` debemos evaluar si la `edad es mayor o igual que 18` **Y** `\"Si\"` posee identificacion, de la siguiente manera :\n",
        "\n",
        "```\n",
        "Edad = int(input(\"Ingresa tu edad\"))\n",
        "Identificacion = input(\"Tienes identificacion? (Si) (No)\")\n",
        "\n",
        "if Edad >= 18 and Identificacion == \"Si\":\n",
        " print(\"Ya puedes votar\")\n",
        "\n",
        "else:\n",
        " print(\"No cumples con los requisitos necesarios para votar\")\n",
        "\n",
        "\n",
        "```\n",
        "\n",
        "De esta manera evaluamos en una misma linea si la `edad` del usuario es `Mayor o igual a 18` **Y** que posea una `identificacion`, y si ambos parametros se cumplen entonces le podemos imprimir que `\"Ya puede votar\"`, de caso contrario le diremos que `\"No cumples con los requisitos necesarios para votar`\".\n"
      ],
      "metadata": {
        "id": "Ut1EgSJxv1N3"
      }
    },
    {
      "cell_type": "markdown",
      "source": [
        "* Asi se veria el codigo en una celda real de codigo."
      ],
      "metadata": {
        "id": "9oQxWJGjyOse"
      }
    },
    {
      "cell_type": "code",
      "source": [
        "\n",
        "Edad = int(input(\"Ingresa tu edad :\"))\n",
        "Identificacion = input(\"Tienes identificacion? (Si) (No) :\")\n",
        "\n",
        "if Edad >= 18 and Identificacion == \"Si\":\n",
        " print(\"Ya puedes votar\")\n",
        "\n",
        "else:\n",
        " print(\"No cumples con los requisitos necesarios para votar\")\n",
        "\n",
        "\n"
      ],
      "metadata": {
        "id": "9tc-NFtpyRnx"
      },
      "execution_count": null,
      "outputs": []
    },
    {
      "cell_type": "markdown",
      "source": [
        "De esta manera podemos establecer mas condiciones para que se cumpla el conjunto, por ejemplo, si aplicamos nuevamente el ejemplo del `cereal`, primero le pediremos al usuario un conjunto de elementos que se necesitan para hacer un cereal mediante funciones `input()`.\n",
        "\n",
        "\n",
        "\n",
        "```\n",
        "TazonParaCereal = input(\"Tienes un tazon para el cereal? (Si) (No) :\")\n",
        "\n",
        "Leche = input(\"Tienes leche para el cereal? (Si) (No) :\")\n",
        "\n",
        "Cereal = input(\"Tiene cereal para el cereal? (Si) (No) :\")\n",
        "\n",
        "Cuchara = input(\"Tienes una cucharada para el cereal? (Si) (No) :\")\n",
        "```\n",
        "\n",
        "Despues mediante una condicional `if` debemos evaluar si todos los parametros se contestaron con `\"Si\"` :\n",
        "\n",
        "```\n",
        "TazonParaCereal = input(\"Tienes un tazon para el cereal? (Si) (No) :\")\n",
        "\n",
        "Leche = input(\"Tienes leche para el cereal? (Si) (No) :\")\n",
        "\n",
        "Cereal = input(\"Tiene cereal para el cereal? (Si) (No) :\")\n",
        "\n",
        "Cuchara = input(\"Tienes una cucharada para el cereal? (Si) (No) :\")\n",
        "\n",
        "\n",
        "if TazonParaCereal == \"Si\" and Leche == \"Si\" and Cereal == \"Si\" and Cuchara == \"Si\":\n",
        " print(\"Tienes todo para hacer un comer un cereal\")\n",
        "else:\n",
        " print(\"No tienes todo lo necesario para hacer o comer el cereal\")\n",
        "```\n",
        "\n",
        "De esta manera podemos ver que es posible evaluar mas de una sola condicion mediante el operador `and`, y de esta manera podemos establecer condicionales mas complejas."
      ],
      "metadata": {
        "id": "mL9E1YyRypb_"
      }
    },
    {
      "cell_type": "markdown",
      "source": [
        "* Asi se veria el codigo en una celda real de codigo."
      ],
      "metadata": {
        "id": "Hiet0JyL0hoN"
      }
    },
    {
      "cell_type": "code",
      "source": [
        "TazonParaCereal = input(\"Tienes un tazon para el cereal? (Si) (No) :\")\n",
        "\n",
        "Leche = input(\"Tienes leche para el cereal? (Si) (No) :\")\n",
        "\n",
        "Cereal = input(\"Tiene cereal para el cereal? (Si) (No) :\")\n",
        "\n",
        "Cuchara = input(\"Tienes una cucharada para el cereal? (Si) (No) :\")\n",
        "\n",
        "\n",
        "if TazonParaCereal == \"Si\" and Leche == \"Si\" and Cereal == \"Si\" and Cuchara == \"Si\":\n",
        " print(\"Tienes todo para hacer un comer un cereal\")\n",
        "else:\n",
        " print(\"No tienes todo lo necesario para hacer o comer el cereal\")"
      ],
      "metadata": {
        "id": "viKQthQg0ir4"
      },
      "execution_count": null,
      "outputs": []
    },
    {
      "cell_type": "markdown",
      "source": [
        "De esta manera tambien podemos establecer intervalos de una manera mas sencilla.\n",
        "\n",
        "Imagina que queremos un programa que vaya desde el `0 hasta el 30` y que existan tres intervalos, de `0 a 10`, de `11 a 20`, de `21 a 30`.\n",
        "\n",
        "primero debemos preguntarle al usuario que ingrese un numero entre el `0 y el 30` mediante una funcion `input()` :\n",
        "\n",
        "\n",
        "\n",
        "```\n",
        "Intervalo = int(input(\"Ingresa un numero entre el 0 y el 30\"))\n",
        "\n",
        "```\n",
        "\n",
        "Despues debemos establecer una condicional `if` que evalue el primer intervalo `0 a 10` para esto debemos verificar que Intervalo sea `mayor o igual a 0` **Y** `menor o igual a 10`\n",
        "\n",
        "\n",
        "\n",
        "\n",
        "```\n",
        "if Intervalo >= 0 and Intervalo <=10:\n",
        "  #Secuencia de codigo que se ejecutara si el numero ingresado es mayor o igual a 0 Y menor o igual a 10\n",
        "\n",
        "```\n",
        "Ahora mediante una condicional `elif` debemos evaluar el segundo intervalo `de 11 a 20` de la siguiente manera :\n",
        "\n",
        "```\n",
        "if Intervalo >= 0 and Intervalo <=10: #Primer intervalo 0 a 10\n",
        " print(\"Tu numero esta entre 0 y 10.\")\n",
        "\n",
        "elif Intervalo >= 11 and Intervalo <= 20: #Segundo intervalo de 11 a 20\n",
        " #Secuencia de codigo que se ejecutara si el numero ingresado es mayor o igual a 11 Y menor o igual a 20\n",
        "\n",
        "\n",
        "```\n",
        "\n",
        "Si prestas atencion en el `elif` estamos evaluando que `Intervalo` sea `mayor o igual a 11` **Y** Intervalo tambien sea` menor o igual a 20`, por lo que esta condicional se cumplira con cualquier numero que este entre `11 y 20`.\n",
        "\n",
        "* Finalmente para el ultimo intervalo debemos utilizar otra condicional `elif ` que evalue si el numero es `mayor o igual a 21` **Y** `menor o igual a 30` :\n",
        "\n",
        "```\n",
        "if Intervalo >= 0 and Intervalo <=10: #Primer intervalo 0 a 10\n",
        " print(\"Tu numero esta entre 0 y 10.\")\n",
        "\n",
        "elif Intervalo >= 11 and Intervalo <= 20: #Segundo intervalo de 11 a 20\n",
        " print(\"Tu numero esta entre 11 y 20\")\n",
        "\n",
        "elif Intervalo >= 21 and Intervalo <= 30:#Tercer intervalo de 21 a 30\n",
        " print(\"Tu numero esta entre 21 y 30\")\n",
        "else:\n",
        " print(\"El numero esta fuera del intervalo\")\n",
        "\n",
        "\n",
        "\n",
        "```\n",
        "\n",
        "De esta manera ya esablecimos que el tercer intervalo debe ser para cuando `Intervalo` sea `mayor o igual a 21` **Y** `Intervalo` tambien sea `menor o igual a 30`, por lo que se cumplira con cualquier numero que este entre `21 y 30`.\n"
      ],
      "metadata": {
        "id": "a79gHj3m2iXq"
      }
    },
    {
      "cell_type": "markdown",
      "source": [
        "* Asi se veria el codigo en una celda real de codigo."
      ],
      "metadata": {
        "id": "v-DhXvvk6-rl"
      }
    },
    {
      "cell_type": "code",
      "source": [
        "Intervalo = int(input(\"Ingresa un numero entre el 0 y el 30 :\"))\n",
        "\n",
        "if Intervalo >= 0 and Intervalo <=10: #Primer intervalo 0 a 10\n",
        " print(\"Tu numero esta entre 0 y 10.\")\n",
        "\n",
        "elif Intervalo >= 11 and Intervalo <= 20: #Segundo intervalo de 11 a 20\n",
        " print(\"Tu numero esta entre 11 y 20\")\n",
        "\n",
        "elif Intervalo >= 21 and Intervalo <= 30:#Tercer intervalo de 21 a 30\n",
        " print(\"Tu numero esta entre 21 y 30\")\n",
        "\n",
        "else: #Para cualquier numero que este fuera del intervalo\n",
        "  print(\"El numero esta fuera del intervalo permitido (0 hasta 30)\")"
      ],
      "metadata": {
        "id": "H_9dfcH37HRb"
      },
      "execution_count": null,
      "outputs": []
    },
    {
      "cell_type": "markdown",
      "source": [
        "\n",
        "\n",
        "---\n",
        "\n",
        "Recordemos que al igual de los operadores logicos `and` podemos usar los operadores logicos `or`, que nos seran utiles cuando tengamos un conjuntos de condiciones dentro de una estructura de control `if` y queramos que al menos una de esas condiciones se cumpla para que toda la estructura de control retorne una secuencia de codigo.\n",
        "\n",
        "Imagina que tenemos una serie de variables numericas definidas.\n",
        "\n",
        "\n",
        "\n",
        "```\n",
        "A=5\n",
        "B=6\n",
        "C=2\n",
        "```\n",
        "\n",
        "Y queremos que para que se cumpla nuestra condicion `A sea mayor que B` **O** `C sea menor que A`\n",
        "\n",
        "Para esto debemos usar la condicional `if` y el operador logico `or`, para que nos quede de la siguiente manera :\n",
        "\n",
        "\n",
        "\n",
        "```\n",
        "if A>B or C<A:\n",
        " #La condicion se cumplira si A es mayor que B - O - si C es menor que A.\n",
        "```\n",
        "O podemos mezclar el operador logico `or` con el operador logico `and` para crear condiciones aun mas complejas.\n",
        "\n",
        "\n",
        "\n",
        "```\n",
        "if A>B or C<A and C>A or A == B:\n",
        " #Esto se cumplira SI A es mayor que B O SI C es menor que A Y que tambien C sea mayor que A O QUE A sea igual que B.\n",
        "```\n",
        "\n",
        "Y si por ejemplo tuvieramos las siguientes variables :\n",
        "\n",
        "```\n",
        "A = 1\n",
        "B = 2\n",
        "C = 2\n",
        "\n",
        "if A>B or C>A and C==B or C > B:\n",
        " print(\"La condicion se cumple\")\n",
        "else:\n",
        " print(\"La condicion no se cumple\")\n",
        "```\n",
        "\n",
        "La condicion retornara `\"La condicion se cumple\"`, primero se evalua si `A>B` cosa que es `False` ya que `A=1` no es mayor que `B=2` despues pasamos a la siguiente condicion establecida por el operador logico `or` que evalua si `C>A` cosa que es `True` ya que `C=2` si es mayor que `A=1` lo que vuelve toda las primera condicion en True ya que recordemos que con el operador logico `or` al menos una de las dos condiciones puestas (A la derecha y a la izquierda) debe ser `True` para que todo el conjunto se vuelva `True`, entonces despues se evalua la segunda mitad a partir del `and` `( C==B or C > B )` y debemos buscar que alguna de las dos condiciones se cumpla, primero evaluamos si `C==B` cosa que es verdad ya que `C==2` es igual a `B==2`, con esta condicion ya nos bastaria para deducir que toda el conjunto de condiciones es `True` y se ejecutara el codigo de la condicion `if` ya que al menos una de las condiciones puestas por el `or` es verdad.\n"
      ],
      "metadata": {
        "id": "V6-9YRsf-MDe"
      }
    },
    {
      "cell_type": "markdown",
      "source": [
        "Ejemplo puesto en una celda de codigo real :"
      ],
      "metadata": {
        "id": "XI5KPu37KS4H"
      }
    },
    {
      "cell_type": "code",
      "source": [
        "A = 1\n",
        "B = 2\n",
        "C = 2\n",
        "\n",
        "if A>B or C>A and C==B or C > B:\n",
        " print(\"La condicion se cumple\")\n",
        "else:\n",
        " print(\"La condicion no se cumple\")"
      ],
      "metadata": {
        "colab": {
          "base_uri": "https://localhost:8080/"
        },
        "collapsed": true,
        "id": "L0jGoJ2IIhUD",
        "outputId": "e3f9e6bb-02f8-4439-94a6-52c076e23c60"
      },
      "execution_count": null,
      "outputs": [
        {
          "output_type": "stream",
          "name": "stdout",
          "text": [
            "La condicion se cumple\n"
          ]
        }
      ]
    },
    {
      "cell_type": "markdown",
      "source": [
        "# **Preguntas acerca de condicionales con operadores logicos.**"
      ],
      "metadata": {
        "id": "fEuCYIOjrIXe"
      }
    },
    {
      "cell_type": "markdown",
      "source": [
        "* Observa el siguiente codigo y menciona :\n",
        "\n",
        " 1. `Lo que pide cada conjunto de condicionales para cumplirse.`\n",
        " 2. `El retorno del programa.`"
      ],
      "metadata": {
        "id": "5LxBeyrlrTyB"
      }
    },
    {
      "cell_type": "code",
      "source": [
        "X = 5\n",
        "Y = 10\n",
        "Z = 15\n",
        "\n",
        "if X < Y and Z > Y or X + Z > Y:\n",
        "    print(\"La condición se cumple\")\n",
        "else:\n",
        "    print(\"La condición no se cumple\")\n"
      ],
      "metadata": {
        "collapsed": true,
        "colab": {
          "base_uri": "https://localhost:8080/"
        },
        "id": "KI7CDbkvsb44",
        "outputId": "378e73b0-8275-4870-bb81-4b3e3c99a7b4"
      },
      "execution_count": null,
      "outputs": [
        {
          "output_type": "stream",
          "name": "stdout",
          "text": [
            "La condición se cumple\n"
          ]
        }
      ]
    },
    {
      "cell_type": "markdown",
      "source": [
        "\n",
        "\n",
        "---\n",
        "\n",
        "\n",
        "* Observa el siguiente codigo y menciona :\n",
        "\n",
        " 1. `Lo que pide cada conjunto de condicionales para cumplirse.`\n",
        " 2. `El retorno del programa.`"
      ],
      "metadata": {
        "id": "ILFZ4xkQsg56"
      }
    },
    {
      "cell_type": "code",
      "source": [
        "A = 10\n",
        "B = 20\n",
        "C = 30\n",
        "\n",
        "if A + B > C or B - A < C and C /2 == 0:\n",
        "    print(\"La condicion se cumple\")\n",
        "else:\n",
        "    print(\"La condicion no se cumple\")\n"
      ],
      "metadata": {
        "colab": {
          "base_uri": "https://localhost:8080/"
        },
        "collapsed": true,
        "id": "e_n0jS7cslUG",
        "outputId": "4b3ee53e-6dec-4b2a-cb3a-f85c570ccb63"
      },
      "execution_count": null,
      "outputs": [
        {
          "output_type": "stream",
          "name": "stdout",
          "text": [
            "La condicion no se cumple\n"
          ]
        }
      ]
    },
    {
      "cell_type": "markdown",
      "source": [
        "---\n",
        "\n",
        "\n",
        "* Observa el siguiente codigo y menciona :\n",
        "\n",
        " 1. `Lo que pide cada conjunto de condicionales para cumplirse.`\n",
        " 2. `El retorno del programa.`"
      ],
      "metadata": {
        "id": "DslZn-J5syuy"
      }
    },
    {
      "cell_type": "code",
      "source": [
        "X = 8\n",
        "Y = 3\n",
        "Z = 5\n",
        "\n",
        "if X / 2 == 0 and Y + Z > X or Z * 2 == X and Y < Z:\n",
        "    print(\"La condicion se cumple\")\n",
        "else:\n",
        "    print(\"La condicion no se cumple\")\n"
      ],
      "metadata": {
        "id": "-fBKe9Axsz5L"
      },
      "execution_count": null,
      "outputs": []
    },
    {
      "cell_type": "markdown",
      "source": [
        "---\n",
        "\n",
        "\n",
        "* Observa el siguiente codigo y menciona :\n",
        "\n",
        " 1. `Lo que pide cada conjunto de condicionales para cumplirse.`\n",
        " 2. `El retorno del programa.`"
      ],
      "metadata": {
        "id": "6ZyOEwittOLG"
      }
    },
    {
      "cell_type": "code",
      "source": [
        "A = 15\n",
        "B = 10\n",
        "C = 20\n",
        "\n",
        "if A > B and C < A:\n",
        "    print(\"A es mayor que B y C es mayor que A\")\n",
        "elif A < B or C < A:\n",
        "    print(\"A es menor que B o C es menor que A\")\n",
        "elif B + C == A * 2:\n",
        "    print(\"La suma de B y C es igual al doble de A\")\n",
        "else:\n",
        "    print(\"Ninguna de las condiciones anteriores se cumple\")\n"
      ],
      "metadata": {
        "colab": {
          "base_uri": "https://localhost:8080/"
        },
        "collapsed": true,
        "id": "UDzoWpZxtEDA",
        "outputId": "714123b6-abd1-41c1-f359-ac5785f616c7"
      },
      "execution_count": null,
      "outputs": [
        {
          "output_type": "stream",
          "name": "stdout",
          "text": [
            "La suma de B y C es igual al doble de A\n"
          ]
        }
      ]
    },
    {
      "cell_type": "markdown",
      "source": [
        "---\n",
        "\n",
        "\n",
        "* Observa el siguiente codigo y menciona :\n",
        "\n",
        " 1. `Lo que pide cada conjunto de condicionales para cumplirse.`\n",
        " 2. `El retorno del programa.`"
      ],
      "metadata": {
        "id": "nilntUCctV3R"
      }
    },
    {
      "cell_type": "code",
      "source": [
        "X = 4\n",
        "Y = 8\n",
        "Z = 15\n",
        "\n",
        "if X > Y and Z > X:\n",
        "    print(\"Z es el mayor de los tres numeros\")\n",
        "elif X == Y and X > Z:\n",
        "    print(\"X y Y son iguales y mayores que Z\")\n",
        "elif Z < Y:\n",
        "    print(\"Z es menor que Y\")\n",
        "else:\n",
        "    print(\"Ninguna condicion especifica se cumple\")\n"
      ],
      "metadata": {
        "colab": {
          "base_uri": "https://localhost:8080/"
        },
        "collapsed": true,
        "id": "VmzZTut9tVb2",
        "outputId": "5303025b-5e8e-4ed7-9c6d-77708a15c8e2"
      },
      "execution_count": null,
      "outputs": [
        {
          "output_type": "stream",
          "name": "stdout",
          "text": [
            "Ninguna condición específica se cumple\n"
          ]
        }
      ]
    },
    {
      "cell_type": "markdown",
      "source": [
        "---\n",
        "\n",
        "\n",
        "* Observa el siguiente codigo y menciona :\n",
        "\n",
        " 1. `Lo que pide cada conjunto de condicionales para cumplirse.`\n",
        " 2. `El retorno del programa.`"
      ],
      "metadata": {
        "id": "0P5d5OhHthoR"
      }
    },
    {
      "cell_type": "code",
      "source": [
        "numero = 45\n",
        "\n",
        "if numero >= 0 and numero < 20:\n",
        "    print(\"El numero está en el intervalo [0, 20)\")\n",
        "elif numero >= 20 and numero < 40:\n",
        "    print(\"El numero está en el intervalo [20, 40)\")\n",
        "elif numero >= 40 and numero < 60:\n",
        "    print(\"El numero está en el intervalo [40, 60)\")\n",
        "elif numero >= 60 and numero <= 100:\n",
        "    print(\"El numero está en el intervalo [60, 100]\")\n",
        "else:\n",
        "    print(\"El numero está fuera del rango [0, 100]\")\n"
      ],
      "metadata": {
        "id": "mB8Red1CvsfY"
      },
      "execution_count": null,
      "outputs": []
    },
    {
      "cell_type": "markdown",
      "source": [
        "---\n",
        "\n",
        "\n",
        "* Observa el siguiente codigo y menciona :\n",
        "\n",
        " 1. `Lo que pide cada conjunto de condicionales para cumplirse.`\n",
        " 2. `¿Que retorna si el usuario ingresa (20)?`\n",
        ""
      ],
      "metadata": {
        "id": "vuc1cPWLx88b"
      }
    },
    {
      "cell_type": "code",
      "source": [
        "numero = int(input(\"Introduce un numero entero: \"))\n",
        "\n",
        "if numero >= 1 and numero <= 10:\n",
        "    print(\"El numero está en el intervalo [1, 10]\")\n",
        "elif numero > 10 and numero <= 20:\n",
        "    print(\"El numero está en el intervalo (10, 20]\")\n",
        "elif numero > 20 and numero <= 50:\n",
        "    print(\"El numero está en el intervalo (20, 50]\")\n",
        "elif numero > 50 and numero <= 100:\n",
        "    print(\"El numero está en el intervalo (50, 100]\")\n",
        "else:\n",
        "    print(\"El numero está fuera de los intervalos [1, 100]\")\n"
      ],
      "metadata": {
        "id": "1Rz93kEDx2Ld"
      },
      "execution_count": null,
      "outputs": []
    }
  ]
}