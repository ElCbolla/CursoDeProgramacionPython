{
  "nbformat": 4,
  "nbformat_minor": 0,
  "metadata": {
    "colab": {
      "provenance": [],
      "authorship_tag": "ABX9TyP4qDvWgppVYaNvsMCtFWUe",
      "include_colab_link": true
    },
    "kernelspec": {
      "name": "python3",
      "display_name": "Python 3"
    },
    "language_info": {
      "name": "python"
    }
  },
  "cells": [
    {
      "cell_type": "markdown",
      "metadata": {
        "id": "view-in-github",
        "colab_type": "text"
      },
      "source": [
        "<a href=\"https://colab.research.google.com/github/ElCbolla/CursoDeProgramacionPython/blob/main/(8)Modulo_2_Programas_Asociados_a_Bucles_while.ipynb\" target=\"_parent\"><img src=\"https://colab.research.google.com/assets/colab-badge.svg\" alt=\"Open In Colab\"/></a>"
      ]
    },
    {
      "cell_type": "markdown",
      "source": [
        "\n",
        "\n",
        "# **Programa-1**\n",
        "\n",
        "Crea un programa que cumpla con las siguientes especificaciones:\n",
        "\n",
        "2. El programa debe usar al menos:\n",
        " - Un dato de entrada mediante la funcion `input()`.\n",
        " - Un bucle `while`.\n",
        " - Tres asignadores aritmeticos.\n"
      ],
      "metadata": {
        "id": "dMx964MkUJQj"
      }
    },
    {
      "cell_type": "code",
      "execution_count": null,
      "metadata": {
        "id": "hpICg_eATNZk"
      },
      "outputs": [],
      "source": [
        "#Programa-1\n",
        "\n",
        "\n",
        "\n",
        "\n",
        "\n",
        "\n",
        "\n",
        "\n",
        "\n",
        "\n",
        "\n",
        "\n"
      ]
    },
    {
      "cell_type": "markdown",
      "source": [
        "\n",
        "\n",
        "---\n",
        "\n",
        "# **Programa-2**\n",
        "\n",
        "Crea un programa que cumpla con las siguientes especificaciones:\n",
        "\n",
        "2. El programa debe usar al menos:\n",
        " - Un dato de entrada mediante la funcion `input()`.\n",
        " - Un bucle `while`.\n",
        " - Una condicional `if` .\n",
        " - Una instruccion `break.`\n"
      ],
      "metadata": {
        "id": "Y62-pSTFVHZ7"
      }
    },
    {
      "cell_type": "code",
      "source": [
        "#Programa-2\n",
        "\n",
        "\n",
        "\n",
        "\n",
        "\n",
        "\n",
        "\n",
        "\n"
      ],
      "metadata": {
        "id": "Lz2C8xDgWlcX"
      },
      "execution_count": null,
      "outputs": []
    },
    {
      "cell_type": "markdown",
      "source": [
        "---\n",
        "\n",
        "# **Programa-3**\n",
        "\n",
        "Crea un programa que cumpla con las siguientes especificaciones:\n",
        "\n",
        "2. El programa debe usar al menos:\n",
        " - Dos datos de entrada mediante la funcion `input()`.\n",
        " - Un bucle `while`.\n",
        " - Una condicional `if` .\n",
        "  1. La condicional debe tener un `else`.\n",
        "  2. La condicion debe tener al menos un `elif`.\n",
        " - Una instruccion `break`.\n",
        " - Tres asignadores arimeticos."
      ],
      "metadata": {
        "id": "aJ0b07kEWmHH"
      }
    },
    {
      "cell_type": "code",
      "source": [
        "#Programa-3\n",
        "\n",
        "\n",
        "\n",
        "\n",
        "\n",
        "\n",
        "\n",
        "\n",
        "\n",
        "\n",
        "\n",
        "\n",
        "\n",
        "\n"
      ],
      "metadata": {
        "id": "tMgaqLeqXT5M"
      },
      "execution_count": null,
      "outputs": []
    },
    {
      "cell_type": "markdown",
      "source": [
        "---\n",
        "\n",
        "# **Programa-4**\n",
        "\n",
        "Crea un programa que cumpla con las siguientes especificaciones:\n",
        "\n",
        "2. El programa debe usar al menos:\n",
        " - Tres datos de entrada mediante la funcion `input()`.\n",
        " - Un bucle `while`.\n",
        " - Una condicional `if` .\n",
        "  1. La condicional debe tener un `else`.\n",
        "  2. La condicional debe tener al menos dos `elif`.\n",
        "  3. La condicional debe tener operadores logicos `(or, and , not)`\n",
        " - Una instruccion `break`.\n",
        " - Tres asignadores arimeticos."
      ],
      "metadata": {
        "id": "lmEELcRKXRSG"
      }
    },
    {
      "cell_type": "code",
      "source": [
        "#Programa-4\n",
        "\n",
        "\n",
        "\n",
        "\n",
        "\n",
        "\n",
        "\n",
        "\n",
        "\n",
        "\n",
        "\n",
        "\n",
        "\n"
      ],
      "metadata": {
        "id": "UgpKaldNYP_l"
      },
      "execution_count": null,
      "outputs": []
    },
    {
      "cell_type": "markdown",
      "source": [
        "\n",
        "\n",
        "---\n",
        "\n",
        "# **Programa-5**\n",
        "\n",
        "Crea un programa que calcule el factorial de un numero ingresado por el usuario, cumpliendo con las siguientes condiciones:\n",
        "\n",
        "1. El programa debe solicitar un numero entero mediante entrada del usuario:\n",
        "   - `Numero`, que debe ser un entero mayor o igual a 0.\n",
        "\n",
        "2. El programa debe calcular el factorial del numero ingresado y manejar los siguientes casos:\n",
        "   - Si el numero es `0` o `1`, imprime: \"El factorial de 0 o 1 es 1.\"\n",
        "   - Si el numero es mayor que `1`, calcula el factorial utilizando un bucle.\n",
        "   - Si el numero ingresado es negativo imprime: \"No se puede calcular el factorial de un numero negativo.\"\n",
        "\n",
        "3. Imprime el resultado correspondiente mediante la funcion `print()`.\n",
        "\n"
      ],
      "metadata": {
        "id": "Qi8_aBvZZT1Z"
      }
    },
    {
      "cell_type": "code",
      "source": [
        "#Prograna-5\n",
        "\n",
        "\n",
        "\n",
        "\n",
        "\n",
        "\n",
        "\n",
        "\n",
        "\n"
      ],
      "metadata": {
        "id": "57ILZZjIZkHw"
      },
      "execution_count": null,
      "outputs": []
    }
  ]
}