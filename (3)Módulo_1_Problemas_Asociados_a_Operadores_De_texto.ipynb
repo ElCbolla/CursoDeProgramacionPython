{
  "nbformat": 4,
  "nbformat_minor": 0,
  "metadata": {
    "colab": {
      "provenance": [],
      "authorship_tag": "ABX9TyOD9fuOi/UW0JzxWCz7urkd",
      "include_colab_link": true
    },
    "kernelspec": {
      "name": "python3",
      "display_name": "Python 3"
    },
    "language_info": {
      "name": "python"
    }
  },
  "cells": [
    {
      "cell_type": "markdown",
      "metadata": {
        "id": "view-in-github",
        "colab_type": "text"
      },
      "source": [
        "<a href=\"https://colab.research.google.com/github/ElCbolla/CursoDeProgramacionPython/blob/main/Problemas_asociados_a_operadores_aritmeticos_aplicados_a_textos_y_concatenacion.ipynb\" target=\"_parent\"><img src=\"https://colab.research.google.com/assets/colab-badge.svg\" alt=\"Open In Colab\"/></a>"
      ]
    },
    {
      "cell_type": "markdown",
      "source": [
        "**Crea un programa donde :**\n",
        "\n",
        "1.   Se definan tres variables : `VariableDeTexto`, `VariableDeTexto1` , `VariableNumerica`.\n",
        "\n",
        "2.   `VariableDeTexto` y `VariableDeTexto1` debe tener un dato tipo `{str}`, y `VariableNumerica` debe tener un dato tipo `{int}`.\n",
        "\n",
        "3. Las variables de texto deben ir concatenadas entre si mediante un `( + )` y la variable numerica debe ir concatenada al resto mediante un `( , )`.\n",
        "\n"
      ],
      "metadata": {
        "id": "o7TkqPaYt9qb"
      }
    },
    {
      "cell_type": "code",
      "execution_count": null,
      "metadata": {
        "id": "635WfI4otyx5"
      },
      "outputs": [],
      "source": [
        "#Programa-1\n",
        "\n",
        "print() #Dentro del print ingrese sus variables concatenadas para obtener lo que se le pide."
      ]
    },
    {
      "cell_type": "markdown",
      "source": [
        "**Crea un programa donde :**\n",
        "\n",
        "1. Se definan tres variables : `VariableDeTexto`, `VariableDeTexto1` , `VariableNumerica`, `VariableNumerica1`.\n",
        "\n",
        "2. `VariableDeTexto` y `VariableDeTexto1` debe tener un dato tipo `{str}`, y `VariableNumerica` y `VariableNumerica1` debe tener un dato tipo `{float}`.\n",
        "\n",
        "3. Las variables de texto deben estar concatenadas al resultado de la suma de las dos variables numericas.\n",
        "\n",
        "> Solo puedes usar dos `( + )` y un `( , )`"
      ],
      "metadata": {
        "id": "uRLZEEDDwfU_"
      }
    },
    {
      "cell_type": "code",
      "source": [
        "#Programa-2\n",
        "\n",
        "print() #Dentro del print ingrese sus variables concatenadas para obtener lo que se le pide."
      ],
      "metadata": {
        "colab": {
          "base_uri": "https://localhost:8080/"
        },
        "id": "8BQ48Gig2RVW",
        "outputId": "92d107c6-91dd-4bf1-8bbd-c3ad25d7a824"
      },
      "execution_count": null,
      "outputs": [
        {
          "output_type": "stream",
          "name": "stdout",
          "text": [
            "HolaManolo 4.8\n"
          ]
        }
      ]
    },
    {
      "cell_type": "markdown",
      "source": [
        "**Crea un programa donde :**\n",
        "\n",
        "1. Se definan dos variables, una con valor `{str}` y la otra con valor `{int}` , luego mediante un `( * )` has que tu variable tipo `{str}` aparezca 5 veces en la salida.\n",
        "\n",
        "\n"
      ],
      "metadata": {
        "id": "9vkBIiZ02vQu"
      }
    },
    {
      "cell_type": "code",
      "source": [
        "#Programa-3\n",
        "\n",
        "print() #Dentro del print ingrese sus variables concatenadas para obtener lo que se le pide."
      ],
      "metadata": {
        "id": "SWEefou14WUD"
      },
      "execution_count": null,
      "outputs": []
    },
    {
      "cell_type": "markdown",
      "source": [
        "**Crea un programa donde :**\n",
        "\n",
        "1. Se definan 6 variables, 2 deben ser de tipo `{str}`, otras 2 de tipo `{int}`, y otras 2 de tipo {bool}\n",
        "\n",
        "2. Las variables tipo {str} deben estar concatenadas a las de tipo {int} y a su vez esas deben estar concatenadas a las de tipo {bool}\n",
        "\n",
        "\n",
        "\n",
        "> Solo puedes usar un `( + )` pero las `( , )` que quieras.\n",
        "\n",
        "\n",
        "\n",
        "\n",
        "\n",
        "\n"
      ],
      "metadata": {
        "id": "CJFEzYQy4cWZ"
      }
    },
    {
      "cell_type": "code",
      "source": [
        "#Programa-4\n",
        "\n",
        "print() #Dentro del print ingrese sus variables concatenadas para obtener lo que se le pide."
      ],
      "metadata": {
        "colab": {
          "base_uri": "https://localhost:8080/"
        },
        "id": "4oJN6ttj5V8M",
        "outputId": "bb7f6784-16bc-49ec-a4f4-0abe96fe3952"
      },
      "execution_count": null,
      "outputs": [
        {
          "output_type": "stream",
          "name": "stdout",
          "text": [
            "\n"
          ]
        }
      ]
    }
  ]
}
