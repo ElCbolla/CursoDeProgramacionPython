{
  "nbformat": 4,
  "nbformat_minor": 0,
  "metadata": {
    "colab": {
      "provenance": [],
      "authorship_tag": "ABX9TyOUzptkVFDFVzuB7o9LHChH",
      "include_colab_link": true
    },
    "kernelspec": {
      "name": "python3",
      "display_name": "Python 3"
    },
    "language_info": {
      "name": "python"
    }
  },
  "cells": [
    {
      "cell_type": "markdown",
      "metadata": {
        "id": "view-in-github",
        "colab_type": "text"
      },
      "source": [
        "<a href=\"https://colab.research.google.com/github/ElCbolla/CursoDeProgramacionPython/blob/main/Dia(3)(Pt_2)Problemas_extras.ipynb\" target=\"_parent\"><img src=\"https://colab.research.google.com/assets/colab-badge.svg\" alt=\"Open In Colab\"/></a>"
      ]
    },
    {
      "cell_type": "markdown",
      "source": [
        "**Crea un programa que realice la siguiente operacion :**\n",
        "\n",
        "![image.png](data:image/png;base64,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)\n",
        "\n",
        "\n",
        "*   El resultado debe ser : 6.5"
      ],
      "metadata": {
        "id": "yAYg6ipjeGkP"
      }
    },
    {
      "cell_type": "code",
      "execution_count": null,
      "metadata": {
        "id": "4Ogfug5-dDlL"
      },
      "outputs": [],
      "source": [
        "#Programa-1"
      ]
    },
    {
      "cell_type": "markdown",
      "source": [
        "\n",
        "\n",
        "---\n",
        "\n",
        "\n",
        "**Crea un programa que realice la siguiente operacion :**\n",
        "\n",
        "![image.png](data:image/png;base64,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)\n",
        "\n",
        "*   El resultado debe ser : 10"
      ],
      "metadata": {
        "id": "mH1nfFl9eY7E"
      }
    },
    {
      "cell_type": "code",
      "source": [
        "#Programa-2"
      ],
      "metadata": {
        "id": "4w_x6aaKejKz"
      },
      "execution_count": null,
      "outputs": []
    },
    {
      "cell_type": "markdown",
      "source": [
        "---\n",
        "\n",
        "\n",
        "**Crea un programa que realice la siguiente operacion :**\n",
        "\n",
        "![image.png](data:image/png;base64,iVBORw0KGgoAAAANSUhEUgAAANcAAABQCAYAAACKyODVAAAAAXNSR0IArs4c6QAAAARnQU1BAACxjwv8YQUAAAAJcEhZcwAADsMAAA7DAcdvqGQAAA0qSURBVHhe7Z0LdIzXFsd3QkQQiUdI4pESIp6NV4jekNJHlNKiFG1V1Vupq9SNR7lFqeZSqqH0xvUsopI2aFUViSKuoOKVRCNEJN6KECJz53+cyU0kkdd8+b6Z2b+1Zs2cnRlrzMz/nH322Xt/Vjo9xDCM0bGW9wzDGBkWF8MoBIuLYRSCxcUwCsHiYhiFYHExjEKwuBhGIVhcDKMQLC6GUQgWF8MoBIuLYRRCU+JKTEqhL1dskCPzIeLgUfphR4QcMZaCZsR16/Ydmr0omHq+3FFazIf2rZvRnv3RFHX0hLQwloAmxIXE/GWrt5BX04b0TB0XaTUfbMqWpcH9ulPg0nViEmEsA02I62RsAoXvjKRXX/SVFvPDs8EzVKaMNa0P3SEtjLmjurgyMh7RguXrqUXjBlTbpYa0mh9ly5ahd/q8Qov/vZEuJKdKK2POqC6u0/Hn6MdfIug1/05kZWUlrcXn0uWr5Obdk6xqtRM3PIZNC7R5trG4D/t5r7hnzBvVxRWydRfZlbelxg3rSUvxgYj6j5pGB8K/Jd3Fg3Q7djfVq+tKri27CQGrTbUqDuTt1ZTWbN7Oey8LQFVx4Qf202/7xYxes3pVaS0+WBECp48jlxrVxbhSRTsxrmBXngKXraM7d+8Ju1pgZX7Bty0diYkV+0zGvFFVXOcuXKKTcQnUqpmn2JOUBAjnu7BfqGOv4XT4j9PSStTI3Y3aejWhhPPJdPvuXWlVD7faLpSpy6T9h49LC2OuqCqus+eS6PadNPJs4CYtxQerlFstZ6pe1ZFcnR+vXNmBe2hfsaIcqQeOGrBKYwLg3kDmjariOh2fKFasGkZwCcF/vvyEEqPCstxCgNUKq9aE4QOEANWmYgU7cqlZnc5fTFHdTWWURVVxnTmbSOVsbERAQylWbdpGowb11swZGg6UIbDzF1PpTlqatDLmiGriwqydqJ+983PjjAFcL4fKlejj0e9Ii/pUrFCeajk70dXrNyk5RRtHBIwyqLpyKQnC8ou+3UBv9eoqLdoAEcOyZUoWvGFMA9XE9TAjg+6mKbPnMJx3zZ0yOmufNe3zZZo5TAYPHj6ke/fT5YgxR1QT1/30dLp89YYcPR38CJE2VKtVd5F1Uc7tOXpj2D/obGKSfMb/MQhr/defZgU24IIiMmesaCEmhq+CN1GNFv5Z72foxDmUdOmyfEbBIO3rxq2/5IgxFr/sjaJhkz6TI3XRvFuIH/LUeUvF3ulMxCaReXF81zo6djKO2vi/m6OMAyKCsFDegawMQwqUvYefyOczRrQQ72fs1EC6duMWJRzYQhnn91NY8HwKCd9FzTsP4LISFcFkPX7GAkpPfyAt6qKauMrb2lKN6lXkKH/iE5Jo5cZwsXKlP3j8oeFgeMKIgXTzr9u0ZvNPwgZhdR/0dyGsvGjiUfL0KrDv0B9Uy8WJpo8fIqJ+yHTv2rkDLZ41Qbyf6fO/KZS7hyOIKg6V5YgpKfBMvgvbQddvaMcbUE1chpB0QSAfD1kNT1JJvta+UgVxj1Vpd0iQWNnyuhkrYngwOkbs3ybPWSItj/Hr0FpEAU/FnRMiKwiljyAsjYNHToiqCg/3utKiPpp3C7G6Rf+8ig5tWymEBjBLIX3IsbI99enWWdhKCyQYY9XBnil7hgVWsDKFiALiNRmPHskRYwyQo4pEgRd8vaVFG6gmLkO6UlHPe7DnWbEuTBQdrvlqJrVs1kj+peQgeol//2n0eMmXHib+ToGfjBNhdQM3b93Ru6Zp9GJHb3Kqmr+7ezftPl1MuaLo+Z4lgcnq14hD1OVvbcnaWltrharvBnunwoaksVn1+FsfEZkbP2MhBS+YTv5+PvKvJQfZIvV9Xqe+wwPofjE2xL9GHhIr67QPhzw1CRnihYjr1qqpd20fu7RM8fnjVDzVca1ZqP17aaOquJCwC/fq8tXr0pI/+PBiI0MoM+kARYZ+I6JCCGAYqy4K+7+qjg7k7FStyIe88eeSKPSnPbRtzUL9/tBZWvMGwrqUelUvLmdN5DqaMghi4bM0FKFqDVXF5f5MbRGQQAJvYYEr5tXUg2Z/PFLUgk2evUQItKRgM3xqzwYKmvtxkcpfIO5lq7+nlQunUwP9/6cgUGaTqp9MWrfwzOFWMkUH++52rZpp9nNUVVwov2jSsB5Fx5wuskC8vZqQc41qtPHHnRSXcEFaSxcIa/naMJowfGCh+38kJl0iaytr8mndXFq0wwdTvxD9FYvjFpc2CGAgOlvFwV5atIeq4nKwr0T+z/vQf4+dErN5XixfG0pl6viI++zY2dmKcDZcg8KEvo0N9k6/7TtMQwf2FCI3ELRqc75pVth879Rvvls28zDauZuxwOd4/PRZ6jn4I7Kr75t1AP/kzb1DL0q9UrAbrzTocdn0+TdzvDckC+Ccc1XINjH26zNS/L/UQlVxAYTSEdA4FZd32Xtk1DHKzMwU5xjZuXcvXQRDbG1tRBl/aQJhoYvuy37txQRhAF/klWs3802zQlYHMjje6t01x+u0gKHurSAmjnyLajoZp/6uJKz4Ykqus8zkI1vFXhZdtjDGuaea+1rVxYV+fqi1QkAg+7mRAZToY3WbNOptaXlM1NGTlHL5GnVo04I86pfewSGENfvLYOrSdzRVcO+Ya+ZEdXV+XyhWaKBUV2Hk1G3f9bscFQ1EY/GjRMDoyR8tbjG71tOQ/j1o0Bvd5Cu0x8OHGWJ7Abe2oCOV0kB1cSF4MH5ofxFSzSvx9e0+XUUmA5Z7Q2QQz50yL0iEYOcGjC7VTAcUX8781wo5yg2OF/ICX/r323fTB+/1Fe9bCZBTV9wD6uSUK/kGWUTidPBGmjxmkCazSuCGo4UebsmpV8Q+HEc2g8bNlM9QCf1qoTp6t083b8kq3ZKVm6QlJ2n37usWfbtB59qym45cvXU2dTvo3v9otu5Ccqp8hvY5fipe13d4gE6/P5QW4/PO2Bm6H3bslaOi8WfiRZ3ebZWjnCxd/b1uzebtcsQUFtVXLoDZcvjbr9PRE3EiVP0kmC0x41+MDhcuyoPEfbR8foDJdOiFixK8IZwmjBigub2WATTwqeqYO5H4SMwZij17nvr2eEFamMKiCXEB/OimjB1slt1oDxyOoU4+rURDUFMC7uCSlSH03puvikRrpmhoRlwA2Q3j3u8nR+aDbzsvkZNoaiA4gnw9rR0bmAqaEhejHbBqfbM2lPz92ms2A0LrWGHjJR8rCqJRTMG4OjvJR3mDotGx0wLlqPCgPGfvlmXU3NNdWp4OUovQSmHr6gX0bJOG0lowIybPFddaKyoN69WhyNDlT03ALelvqKDP1tiUmrgCPvuaQvnqHk8FJTjb1y6Uo6KD0HOf7p2N0qMRAsb+Fxe1yN5kVU38eo+ky9cK13flSVZ8ESDOREuTUhMXozzGEteNW7fppf4fUHnbcrRt9cKsam+maPCei8kFWm2jvg2V1bzfKj4sLiYXEBcukMGUDBYXkwu1SnjMDYsUFy48h+t4IdkW5Sz9RkwRScDMY5AAayrsO3SMvLsNzkqe9nl1CO09cCTPJPDSxqLEhQ8cnXJ9Xx9Gwwa+JtKoYiM3UcyZszRn8Ur5LNPF1racUfrQI4HXtlw5ateyqaZbEWze+hvNWbSSNgTNFmlxf+7fQjY2ZalT7xE0P2iN+gJDtNBS2LHnoK6Ce0ddSPguadHpoo+f1lVp3EU3adZiaWFMgavXb+qGTJgl7rOjd2l1Ll6v6Bw9u4hkaTWxmJULhYyoXkV9GIocDaA12/WTO2nelDHSwpgCSPBGez3/geNEEaoBd7da9PxzrUV1esKFgos/lcRixHX0RKzwz59r24K7LpkBqIZG1fGjR5niZgBHB1q5RJPFiAvl9ShYbO7ZQKxgCGQYghlFuToJow0M3brQjTl7yhSqkNFoFp240CVMTSxGXMdOxIn79aE/C5HdidtNN/TuICqhO78xihKTUsTfGdMmPuECHYmJpbkBYxSr+C4sFhUtBIiCBYx9VxRgVravSLMmjaC0e/dpftBqTYRvmeKDotTP9d/jgpkfUq9X/KRVPSxOXGgOk73wz6laFWpQrw6F74yk5FS+RrGpgokR1xDo3/Ml6tfjRU2kbVmMuHDxPIDVKi/QEo0Pkk0TCAuRw2aN3MW10rSCxYiraaP68hFjbqD2DDVnqPg2gH6XuISrmliMuNq0aCyah+bn+jlVc8zROZcxDaKPnxGBi+yTJ1Yy5Efm1XCnNLEYcaEPBGY2XMspe8PIK9duiAjTa/6dyLUmXy/LlNgZESWas9Zt2yMrtxA369rtaUbgctWvf2Yx4kJ08J8Th1FE1FGRXwiB4WR/6udLydHBnsYPHcC1SyYE6s0Gjpme73UCtHD9M4urREbn3tFT5tOJM3+KqOGgvt3o04nD2SVkjA6X+TOMQliMW8gwpQ2Li2EUgsXFMArB4mIYhWBxMYxCsLgYRiFYXAyjECwuhlEIFhfDKASLi2EUgsXFMArB4mIYRSD6Hy4NgTtnUiqtAAAAAElFTkSuQmCC)\n",
        "\n",
        "*   El resultado debe ser : 8"
      ],
      "metadata": {
        "id": "Lfcdb6tDejRl"
      }
    },
    {
      "cell_type": "code",
      "source": [
        "#Programa-3"
      ],
      "metadata": {
        "id": "_EHgQqPkelpZ"
      },
      "execution_count": null,
      "outputs": []
    },
    {
      "cell_type": "markdown",
      "source": [
        "---\n",
        "\n",
        "\n",
        "**Crea un programa que realice la siguiente operacion :**\n",
        "\n",
        "![image.png](data:image/png;base64,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)\n",
        "*   El resultado debe ser : 1"
      ],
      "metadata": {
        "id": "ACmv18PcemdK"
      }
    },
    {
      "cell_type": "code",
      "source": [
        "#Progama-4"
      ],
      "metadata": {
        "id": "0y0I_c1zeps9"
      },
      "execution_count": null,
      "outputs": []
    },
    {
      "cell_type": "markdown",
      "source": [
        "---\n",
        "\n",
        "\n",
        "**Crea un programa que realice la siguiente operacion :**\n",
        "\n",
        "![image.png](data:image/png;base64,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)\n",
        "\n",
        "*   El resultado debe ser : 7"
      ],
      "metadata": {
        "id": "jZTc6MfDenWd"
      }
    },
    {
      "cell_type": "code",
      "source": [
        "#Programa-5"
      ],
      "metadata": {
        "id": "-qF5k1qjepYC"
      },
      "execution_count": null,
      "outputs": []
    }
  ]
}