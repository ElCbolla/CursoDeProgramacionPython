{
  "nbformat": 4,
  "nbformat_minor": 0,
  "metadata": {
    "colab": {
      "provenance": [],
      "authorship_tag": "ABX9TyN+sCnh4Q91ADFCkZYtNQJH",
      "include_colab_link": true
    },
    "kernelspec": {
      "name": "python3",
      "display_name": "Python 3"
    },
    "language_info": {
      "name": "python"
    }
  },
  "cells": [
    {
      "cell_type": "markdown",
      "metadata": {
        "id": "view-in-github",
        "colab_type": "text"
      },
      "source": [
        "<a href=\"https://colab.research.google.com/github/ElCbolla/CursoDeProgramacionPython/blob/main/(5.5)Modulo_1_Problemas_Asociados_a_Operadores_Logicos.ipynb\" target=\"_parent\"><img src=\"https://colab.research.google.com/assets/colab-badge.svg\" alt=\"Open In Colab\"/></a>"
      ]
    },
    {
      "cell_type": "markdown",
      "source": [
        "### **Problema 1**\n",
        "\n",
        "Crea un programa donde:\n",
        "\n",
        "1. Se definan dos variables: `Numero1` y `Numero2`.  \n",
        "   - `Numero1` debe ser igual a `10`.  \n",
        "   - `Numero2` debe ser igual a `20`.  \n",
        "\n",
        "2. Realiza las siguientes comparaciones logicas:  \n",
        "   - Verifica si `Numero1` es menor que `Numero2`.  \n",
        "   - Verifica si `Numero1` es igual a `Numero2`.  \n",
        "   - Verifica si `Numero1` es distinto de `Numero2`.  \n",
        "\n",
        "3. Imprime los resultados de cada comparacion usando la función `print()`.\n",
        "\n",
        "---"
      ],
      "metadata": {
        "id": "muS-Q2VIxz22"
      }
    },
    {
      "cell_type": "code",
      "source": [
        "#Programa 1\n",
        "\n",
        "\n",
        "\n",
        "\n"
      ],
      "metadata": {
        "id": "UToWBNzRx1Kk"
      },
      "execution_count": null,
      "outputs": []
    },
    {
      "cell_type": "markdown",
      "source": [
        "---\n",
        "\n",
        "### **Problema 2**\n",
        "\n",
        "Crea un programa donde:\n",
        "\n",
        "1. Se definan tres variables: `A`, `B` y `C`.  \n",
        "   - `A` debe ser igual a `15`.  \n",
        "   - `B` debe ser igual a `10`.  \n",
        "   - `C` debe ser igual a `20`.  \n",
        "\n",
        "2. Realiza las siguientes comparaciones logicas:  \n",
        "   - Verifica si `A` es mayor que `B` y menor que `C`.  \n",
        "   - Verifica si `A` es igual a `B` o `C` es mayor que `A`.  \n",
        "   - Verifica si no se cumple que `B` es mayor que `C`.  \n",
        "\n",
        "3. Imprime los resultados de cada comparacion usando la función `print()`.\n",
        "\n",
        "---"
      ],
      "metadata": {
        "id": "h4OAqaRGyEt9"
      }
    },
    {
      "cell_type": "code",
      "source": [
        "#Programa 2\n",
        "\n",
        "\n",
        "\n",
        "\n",
        "\n",
        "\n"
      ],
      "metadata": {
        "id": "8VY9K3mkyV7X"
      },
      "execution_count": null,
      "outputs": []
    },
    {
      "cell_type": "markdown",
      "source": [
        "### **Problema 3**\n",
        "\n",
        "Crea un programa donde:\n",
        "\n",
        "1. Se definan tres variables: `X`, `Y` y `Z`.  \n",
        "   - `X` debe ser igual a `5`.  \n",
        "   - `Y` debe ser igual a `8`.  \n",
        "   - `Z` debe ser igual a `12`.  \n",
        "\n",
        "2. Realiza las siguientes comparaciones logicas:  \n",
        "   - Verifica si `X` es menor que `Y` y `Z` es mayor que `Y`.  \n",
        "   - Verifica si `X` es distinto de `Z` o `Y` es igual a `8`.  \n",
        "   - Verifica si no se cumple que `Z` es menor que `X`.  \n",
        "\n",
        "3. Imprime los resultados de cada comparacion usando la funcion `print()`.\n",
        "\n",
        "---"
      ],
      "metadata": {
        "id": "rZjz1pcVyXFm"
      }
    },
    {
      "cell_type": "code",
      "source": [
        "#Programa 3\n",
        "\n",
        "\n",
        "\n",
        "\n",
        "\n",
        "\n"
      ],
      "metadata": {
        "id": "vzu4SMEGzCG8"
      },
      "execution_count": null,
      "outputs": []
    },
    {
      "cell_type": "markdown",
      "source": [
        "---\n",
        "\n",
        "### **Problema 4**\n",
        "\n",
        "Crea un programa donde:\n",
        "\n",
        "1. Se definan dos variables: `Numero1` y `Numero2`.  \n",
        "   - `Numero1` debe ser igual a `25`.  \n",
        "   - `Numero2` debe ser igual a `15`.  \n",
        "\n",
        "2. Realiza las siguientes comparaciones logicas:  \n",
        "   - Verifica si `Numero1` es mayor que `Numero2` o `Numero2` es igual a `30`.  \n",
        "   - Verifica si `Numero1` es menor que `50` y `Numero2` es distinto de `10`.  \n",
        "   - Verifica si no se cumple que `Numero1` es menor que `Numero2`.  \n",
        "\n",
        "3. Imprime los resultados de cada comparacion usando la funcion `print()`.\n",
        "\n",
        "---"
      ],
      "metadata": {
        "id": "0aHA_oZCzEnr"
      }
    },
    {
      "cell_type": "code",
      "source": [
        "#Programa 4\n",
        "\n",
        "\n",
        "\n",
        "\n",
        "\n",
        "\n",
        "\n",
        "\n"
      ],
      "metadata": {
        "id": "xcxsqaEVzZaj"
      },
      "execution_count": null,
      "outputs": []
    },
    {
      "cell_type": "markdown",
      "source": [
        "---\n",
        "\n",
        "### **Problema 5**\n",
        "\n",
        "Crea un programa donde:\n",
        "\n",
        "1. Se definan tres variables: `P`, `Q` y `R`.  \n",
        "   - `P` debe ser igual a `7`.  \n",
        "   - `Q` debe ser igual a `14`.  \n",
        "   - `R` debe ser igual a `21`.  \n",
        "\n",
        "2. Realiza las siguientes comparaciones logicas:  \n",
        "   - Verifica si `P` multiplicado por `2` es igual a `Q` y `R` dividido entre `3` es igual a `P`.  \n",
        "   - Verifica si `Q` es mayor o igual a `P` o `R` es menor o igual a `20`.  \n",
        "   - Verifica si no se cumple que `Q` sea menor que `P`.  \n",
        "\n",
        "3. Imprime los resultados de cada comparación usando la funcion `print()`.\n",
        "\n",
        "---"
      ],
      "metadata": {
        "id": "jyd2UoiOzfce"
      }
    },
    {
      "cell_type": "code",
      "source": [
        "#Programa 5\n",
        "\n",
        "\n",
        "\n",
        "\n",
        "\n",
        "\n",
        "\n"
      ],
      "metadata": {
        "id": "ihd9tig9z-Eq"
      },
      "execution_count": null,
      "outputs": []
    },
    {
      "cell_type": "markdown",
      "source": [
        "### **Problema 6**\n",
        "\n",
        "Crea un programa donde:\n",
        "\n",
        "1. Se definan tres variables: `M`, `N` y `O`.  \n",
        "   - `M` debe ser igual a `18`.  \n",
        "   - `N` debe ser igual a `12`.  \n",
        "   - `O` debe ser igual a `24`.  \n",
        "\n",
        "2. Realiza las siguientes comparaciones logicas:  \n",
        "   - Verifica si `M` es mayor que `N` y `O` es distinto de `M`.  \n",
        "   - Verifica si `N` es menor que `M` o `O` dividido entre `2` es igual a `N`.  \n",
        "   - Verifica si no se cumple que `M` sea menor o igual a `O`.  \n",
        "\n",
        "3. Imprime los resultados de cada comparación usando la funcion `print()`.\n"
      ],
      "metadata": {
        "id": "uDvQ6xz30NWk"
      }
    },
    {
      "cell_type": "code",
      "source": [
        "#Programa 6\n",
        "\n",
        "\n",
        "\n",
        "\n",
        "\n",
        "\n",
        "\n",
        "\n",
        "\n"
      ],
      "metadata": {
        "id": "IsiIc4o90dx6"
      },
      "execution_count": null,
      "outputs": []
    }
  ]
}