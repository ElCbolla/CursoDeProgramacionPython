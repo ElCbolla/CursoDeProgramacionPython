{
  "nbformat": 4,
  "nbformat_minor": 0,
  "metadata": {
    "colab": {
      "provenance": [],
      "authorship_tag": "ABX9TyN38/fmjEBAO1hGjy377UiP",
      "include_colab_link": true
    },
    "kernelspec": {
      "name": "python3",
      "display_name": "Python 3"
    },
    "language_info": {
      "name": "python"
    }
  },
  "cells": [
    {
      "cell_type": "markdown",
      "metadata": {
        "id": "view-in-github",
        "colab_type": "text"
      },
      "source": [
        "<a href=\"https://colab.research.google.com/github/ElCbolla/CursoDeProgramacionPython/blob/main/(4_5)Modulo_1_Operadores_de_asignaciones.ipynb\" target=\"_parent\"><img src=\"https://colab.research.google.com/assets/colab-badge.svg\" alt=\"Open In Colab\"/></a>"
      ]
    },
    {
      "cell_type": "markdown",
      "source": [
        "# **Operadores de asignacion en python.**"
      ],
      "metadata": {
        "id": "A12OK0PgCH4z"
      }
    },
    {
      "cell_type": "markdown",
      "source": [
        "**Los operadores de asignacion seran nuestra manera para operar y actualizar los valores de nuestras variables.**\n",
        "\n",
        "**Estos operadores son muy utiles cuando necesitamos actualizar constantemente el valor de nuestra variable numerica respecto a su valor inicial.**\n",
        "\n",
        "* En pseint esta asignacion se daba de la siguiente manera :\n",
        "\n",
        "\n",
        "![image.png](data:image/png;base64,iVBORw0KGgoAAAANSUhEUgAAApUAAAEjCAYAAABjKvpSAAAAAXNSR0IArs4c6QAAAARnQU1BAACxjwv8YQUAAAAJcEhZcwAADsMAAA7DAcdvqGQAACwGSURBVHhe7d2/j9vI/fDxzz7/QBo/z9UJJAPx1z4gTQoKd0U6yUhgOMC2izTSAVdIl8BJYyAXYJvAjVQYl1WRxEWKLHCGYWCpLsndQSpSxvvdAyw2l+7gAxL/BXxmOKREiT9EckSttH6/AGJ3KYkzIkcffoYczR75igAAAAAW/k/4EwAAAKiMpBIAAADWSCoBAABgjaQSAAAA1kgqAQAAYI2kEgAAANZIKgEAAGCNpBIAAADWSCoBAABgjaQSAAAA1kgqAQAAYI2kEgAAANZIKgEAAGCNpBIAAADWSCoBAABgjaQSAAAA1kgqAQAAYI2kEgAAANZIKgEAAGCNpBIAAADWSCoBAABgjaQSAAAA1kgqAQAAYI2kEgAAANZIKgEAAGCNpBIAAADWSCoBAABgjaQSAAAA1kgqAQAAYI2kEgAAANZIKgEAAGCNpBIAAADWSCoBAABgjaQSAAAA1kgqAQAAYI2kEgAAANZIKgvyRi05OjqS1sgL1wD1tYtq2/Vk1DoKXhdfaLP1ICYgDTEB77K9SionPdPge5NwxTpvJC39och8wrsp2m/rS6vVk9Fki8Fj0jPbrnP/FzzGUYC93qbgycX5LPhtdn6h/noXeTIZ9cwxa422vg+ICdUQE64LMaHumLB738i/nz+Wlz9/X5796k/yNlyLdHt5pXLc6QmnCHuz2VgGneZhfbAb9+XYUT/HL3LaQBi4naE8aoerrkVD7geVVVU5vq/+um4N6U998X2zzIembvXwxFMJReuoKZ3BWMxptD7EhO0gJtSNmLCrmFC/b+TtP3Uy+VP5+19eyn/Ctci3p7e/x3LK5fmSHBnOl8HD9+cyd7tqrTIbSPNgruREQXksL7Kq7F1IcP7Yg6Dd6E+D/T3tX//pY5e80Yk0O2OR7lCG7lC64fr6EBPKIyZcB2LCrmKC4n2lktjf1XJ1+u3zX8uL378U+fAT+dFvPpHvh+uRb2/HVM4GT7gyYaUhjfaZTOdDcxIZn8qhnJMb94+DOo8zziDexbnqBTtyfP/dCtr7ZHHiPOtLv307XFuO530XLEURE2wRE1CfbcSEffK9h3+Vk8//JT/r/0Le//EPwrXYZA+Tyq64qjete6WdMt0PbyKjnhlTsxg/1BtJcvjQRHr6cb1tbyS9YBBza9HT8aKxILF1SZ5M4mW19HOzonM0UDq8fbco0ywtVUj6K00Zpi7hc1tqG2VPAo2+PAtueczk/CLtxVsqZxN1fHpqP0Vl5JaTe7srus11LKnnjzLlBCocn2gcWWwpNPC9dN0iZdpbVTtqByFv9AdpNp8GS2u0KbEkJhjEBGJC5ObFBNwQqmexN9R5w1cnEN/1576Keep3xx/Owwe1+dBXccWXrhuuCLldsz51cfzVp7u+Oj2pbXTNz8WiylXbWX2trosxHzrBOmfohnVLLs5KZSPRezHbT62nquDqK8M6ZizJt6/Xr+2ruKz9VrIcvZ+DxxIPbJDYr6tL2uai/Z14LHwvqfu6QjmVjk9KOenHPqZk3aq3t6XlNjbUrWw7SAhf7wzX2nGaN+r9fKq2axZn+CZcn46YECEmEBNuakywMP9SHZ9PC9TH1j/8Lx7e8//8yz/6/w3XIN2e3v5uSP+ZvkUzk8HJpgHlqqfXMYOCna4rqgEHl+BVaxO3q8KBeiR1kP94LJfDefBc9UHTK6SjttN19bq5DNUnQuRSXq8VPht0ZKCvnCzGKqlygtfrx05ybiddyumpGW+y8lpVx+6DdmwckO4ld1Rt1HpVl+X7UfVUZ4qgpmW/tNC4LXf1z8vXsX1ZQzkZdJndoTo2K+O7dDnmNlxaOYvbXaerxz/vNleVcpaKHh+lfbbcvtpXRVStW/X2VtTu2oEZ//RUBvrDKu+p8j6Waf9W8NBmxARiAjFBu1ExoZTvVL1+J0dHsaX5t+BzPu6srW99tdJGsEOqoewN1V5VL2h5JcD8HesVpfSuo55XfF1ctI1lzyylBxX1GBPbXfb0F+Vk9P6z6xH1etMeSxHWJfOpKY+b95hzVSLe8w7XVCknWlfofRQVHtPkJtOuTIXrqvR+N5ZT8X2F+2Rzzz9HSt2qt7el6Dm5davSDhI2X5WYu58HVxTMFcrP/O7wynfdnCXcEDFBqXCMiAkFEBPSVWkHCXVcqVy9y5G7OF9usVyNK5VF7e0XdbT2mav6Y3m9omhOMEeGGfNItB+ZXl9izrC7t1d7mopzpxn+lqP7WNK+1Bf1old7/nHZdYzzXl8GP8ed5TiWlUV/u065XL9cUtKuylnwPDN3WWxskl5aJ4Ogp5ksJ/rGZ2zcV5FveJYuJ1Ls+FipUrfK7a2YnbSDyXNpdl4F79H4VsaDc+l0spfTi/RxlsSElIWYQExQDiomVHJL+tPfiu/HlvlPgvfcddfWTz/Ibg+o1V4nlSr8yyPVZVTNO2M6kblc6U+e3JXbWS0ous0zu1LPtpd5konKyZRTx5i5eUNbFu4n545Eta+nnAx67rJmOHfZWrHrf8c1+o+DBGJx8p9fqUCb8w3PiuUYxY5PZRXrVr29FbOTdtB+KPPhe+Efmrn1PZ9nL88yb4sTE7aDmJBXjkFMAMra86QyFkT0WJFtnAEOguohr42zWV9KzYHmvZag75m4ErPlctJ4I2mpnq0O/Gnjh/xoepNUbXlgziCiL0xMXqgecuY3PG3Kqdk+1y1Qfzto9D8KrioEQxr1lcrOUzm5eKMeuCWNtCV4VTpiQvpCTFhDTLCwg3aAG2nvk0odRM7cIIrI4PTcrFpoyp3gk5ccPL8QBc9Yj7wWmUG6iplcbfFkaQaySzC4fNV2y0kzeWJu43TdqZz12yphMOsXgisN2drmDCLnFyMx54/021y25dSplrrtcXvL1PhAzqYfi9s1Vy1ng3Nptp5XmKKEmGCLmKAQE3LsKCbgxjmApFJpP5LgjtdstvZBW46xGTxJH2EVfXi39Z8WsiZgjoJ0oTFYOUzAlMQ3HCtTPeKT4Ou2XYmfP7ZeTi5H0neLJyP97co87QfhValB8G3E/MmNLcqpXbW6HVx72+iWtM8+krl7T+0RZfZKXlQ5eRETqiMmKMSELLuPCbhJDiOpVKHfTCeSFN0Kk3FnbVJaT/TErZ3gs9mVx1u7VD+WTis+gbIeaN2SZhikrctZnCwH0gwmmo19rPWgbj3hrV4frsoUDQBvhifQ4SNZuSaxrXIKMSf4eIDygkl/m+H0MnnC211a1m2uBZty6la1bgfS3kpqtB/KNBxUf7Z+sawQYkKgzDHSzyUmlCinbsQEa40PgjhSLYagFv4eMdNgxKa4WBNNBSLrcxm4VSY6jq1MmQLCTL2wPn2I+tsNpzBJLOvlRFKm7tgkmiYlY3HWClrsl4xl/fkLJcuJ9tOmZeVleWU4Q98tMcVF7nMql1Ph+GzYD4ndXaFu1dpb2LZzl5T3WbYdJNQxfYhBTAiVPEbEBKVyOcSE0u0gob6YcD2YUqioA7lSaURTgSQE/8/WlaH5FsCCE0xaO91eL0b3itv9oKyusyzLcfREtFssp6HKCCa07apth+s09YeejHZaqCAnfP85z99KORvoMhLHRtfNlfm0X2xMW3C7a8Ntrm2UU5eqdTuo9nY9iAnEhEzbKKcuVetGTMCeO9KZZfg7AAAAUMlBXakEAADAfiKpBAAAgDWSSgAAAFgjqQQAAIA1kkoAAABYI6kEAACANZJKAAAAWCOpBAAAgDWSSgAAAFgjqQQAAIA1kkoAAABYI6kEAACANZJKAAAAWCOpBAAAgDWSSgAAAFgjqQQAAIA1kkoAAABYI6kEAACANZJKAAAAWCOpBAAAgDWSSgAAAFgjqQQAAIA1kkoAAABYI6kEAACANZJKAAAAWCOpBAAAgDWSSgAAAFgjqQQAAIA1kkoAAABYI6kEAACANZJKAAAAWCOpBAAAgDWSSgAAAFgjqQQAAIA1kkoAAABYI6kEAACANZJKAAAAWCOpBAAAgDWSSgAAAFgjqQQAAIA1kkoAAABYI6kEAACANZJKAAAAWCOpBAAAgDWSSgAAAFgjqQQAAIA1kkoAAABYI6kEAACANZJKAAAAWCOpBAAAgDWSyoK8UUuOjo6kNfLCNUB97aLadj0ZtY6C18UX2mw9iAlIQ0zAu2yvkspJzzT43iRcsc4bSUt/KDKf8G6K9tv60mr1ZDTZYvCY9My269z/BY9xFGCvtyl4cnE+C36bnV+ov95FnkxGPXPMWqOt7wNiQjXEhOtCTKg7JuzeN/Lv54/l5c/fl2e/+pO8Ddci3V5eqRx3esIpwt5sNpZBp3lYH+zGfTl21M/xi5w2EAZuZyiP2uGqa9GQ+0FlVVWO76u/rltD+lNffN8s86GpWz088VRC0TpqSmcwFnMarQ8xYTuICXUjJuwqJtTvG3n7T51M/lT+/peX8p9wLfLt6e3vsZxyeb4kR4bzZfDw/bnM3a5aq8wG0jyYKzlRUB7Li6wqexcSnD/2IGg3+tNgf0/713/62CVvdCLNzlikO5ShO5RuuL4+xITyiAnXgZiwq5hQr7fPfy0vfv9S5MNP5Ee/+US+H65Hvr0dUzkbPOHKhJWGNNpnMp0PzUlkfCqHck5u3D8O6jzOOIN4F+eqF+zI8f13K2jvk8WJ86wv/fbtcG05nvddsBRFTLBFTEB9thET9sn3Hv5VTj7/l/ys/wt5/8c/CNdikz1MKrviqt607pV2yvSkvYmMemZMzWL8UG8kyeFDE+npx/W2vZH0gkHMrcU4HC8aCxJbl+TJJF5WSz83KzpHA6XD23eLMs3SUoWkv9KUYeoSPreltlH2JNDoy7PglsdMzi/SXrylcjZRx6en9lNURm45ube7ottcx5J6/ihTTqDC8YnGkcWWQgPfS9ctUqa9VbWjdhDyRn+QZvNpsLRGmxJLYoJBTCAmRG5eTMANoXoWe0OdN3x1AvFdf+6rmKd+d/zhPHxQmw99FVd86brhipDbNetTF8dffbrrq9OT2kbX/Fwsqly1ndXX6roY86ETrHOGbli35OKsVDYSvRez/dR6qgquvjKsY8aSfPt6/dq+isvabyXL0fs5eCzxwAaJ/bq6pG0u2t+Jx8L3krqvK5RT6fiklJN+7GNK1q16e1tabmND3cq2g4Tw9c5wrR2neaPez6dqu2Zxhm/C9emICRFiAjHhpsaEQ/AP/4uH9/w///KP/n/DNUi3p7e/G9J/pm/RzGRwsmlAuerpdcygYKfrimrAwSV49fERt6vCgXokdZD/eCyXw3nwXPVB0yuko7bTdfW6uQzVJ0LkUl6vFT4bdGSgr5wsxiqpcoLX68dOcm4nXcrpqRlvsvJaVcfug3ZsHJDuJXdUbdR6VZfl+1H1VGeKoKZlv7TQuC139c/L17F9WUM5GXSZ3aE6Nivju3Q55jZcWjmL212nq8c/7zZXlXKWih4fpX223L7aV0VUrVv19lbU7tqBeF9J6+ipDPSHVd5T5X0s0/6t4KHNiAnEBGKCdqNiAm4e1VD2hmqvqhe0vBJg/o71ilJ611HPK74uLtrGsmeW0oOKeoyJ7S57+otyMnr/2fWIer1pj6UI65L51JTHzXvMuSoR73mHa6qUE60r9D6KCo9pcpNpV6bCdVV6vxvLqfi+wn2yueefI6Vu1dvbUvSc3LpVaQcJm69KzN3P1XuMrlB+5neHV77r5izhhogJSoVjREwogJiQrko7SKjpSuX8y1gcyVo+y2n3VXGlsqi9/aKO1j5zVX8sr1cUzQnmyDBjHon2I9PrS8wZdvf2ak9Tce40w99ydB9L2pf6ol70as8/LruOcd7ry+DnuLMcx7Ky6G/XKZfrl0tK2lU5C55n5i6LjU3SS+tkEFxRSpYTfeMzNu6ryDc8S5cTKXZ8rFSpW+X2VsxO2sHkuTQ7r4L3aHwr48G5dDrZy+lF+jhLYkLKQkwgJigHFRNwY+11UqnCvzxSXUbVvDOmE5nLlf7kyV25nRVRots8syv1bHuZJ5monEw5dYyZmze0ZeF+cu5IVPt6ysmg5y5rhnOXrRW7/ndco/84SCAWJ//5lQq0Od/wrFiOUez4VFaxbtXbWzE7aQfthzIfvhf+oZlb3/N59vIs87Y4MWE7iAl55RjEhL3T+ECm/m/Fz10+Sk26sRt7nlTGgogeK7KNM8BBUD3ktXE260upOdC81xL0PRNXYrZcThpvJC3Vs9WBP238kB9Nb5KqLQ/MGUT0hYnJC9VDzvyGp005NdvnugXqbweN/kfqff5EgiGN+kpl56mcXLxRD9ySRtoSvCodMSF9ISasISZY2EE7wI2090mlDiJnbhBFZHB6blYtNOVO8MlLDp5fiIJnrEdei8wgXcVMrrZ4sjQD2SUYXL5qu+WkmTwxt3G67lTO+m2VMJj1C8GVhmxtcwaR84uRmPNH+m0u23LqVEvd9ri9ZWp8IGfTj8XtmquWs8G5NFvPK0xRQkywRUxQiAk5dhQTcOMcQFKptB9JcMdrNlv7oC3H2AyepI+wij682/pPC1kTMEdButAYrBwmYEriG46VqR7xSfB1267Ezx9bLyeXI+m7xZOR/nZlnvaD8KrUIPg2Yv7kxhbl1K5a3Q6uvW10S9pnH8ncvaf2iDJ7JS+qnLyICdURExRiQpbdxwTcJIeRVKrQb6YTSYpuhcm4szYprSd64tZO8NnsyuOtXaofS6cVn0BZD7RuSTMM0tblLE6WA2kGE83GPtZ6ULee8FavD1dligaAN8MT6PCRrFyT2FY5hZgTfDxAecGkv81wepk84e0uLes214JNOXWrWrcDaW8lNdoPF2OjztYvlhVCTAiUOUb6ucSEEuXUjZiAG8jfI2YajNgUF2uiqUBkfS4Dt8pEx7GVKVNAmKkX1qcPUX+74RQmiWW9nEjK1B2bRNOkZCzOWkGL/ZKxrD9/oWQ50X7atKy8LK8MZ+i7Jaa4yH1O5XIqHJ8N+yGxuyvUrVp7C9t27pLyPsu2g4Sapg9RiAmhkseImKBULoeYULodJNQXE64HUwoVdSBXKo1oKpCE4P/ZujI03wJYcIJJa6cVr4Sk0L3idj8oq+ssy3IcPRHtFstpqDKCCW27atvhOk39oSejnRYqyAnff87zt1LOBrqMxLHRdXNlPu0XG9MW3O7acJtrG+XUpWrdDqq9XQ9iAjEh0zbKqUvVuhETsOeOdGYZ/g4AAABUclBXKgEAALCfSCoBAABgjaQSAAAA1kgqAQAAYI2kEgAAANZIKgEAAGCNpBIAAADWSCoBAABgjaQSAAAA1kgqAQAAYI2kEgAAANZIKgEAAGCNpBIAAADWSCoBAABgjaQSAAAA1kgqAQAAYI2kEgAAANZIKgEAAGCNpBIAAADWSCoBAABgjaQSAAAA1kgqAQAAYI2kEgAAANZIKgEAAGCNpBIAAADWSCoBAABgjaQSAAAA1kgqAQAAYI2kEgAAANZIKgEAAGCNpBIAAADWSCoBAABgjaQSAAAA1kgqAQAAYI2kEgAAANZIKgEAAGCNpBIAAADWSCoBAABgjaQSAAAA1kgqAQAAYI2kEgAAANZIKgEAAGCNpBIAAADWSCoBAABgjaQSAAAA1kgqAQAAYI2kEgAAANZIKgEAAGCNpBIAAADWSCoBAABgjaSyIG/UkqOjI2mNvHANUF+7qLZdT0ato+B18YU2Ww9iAtIQE/Au26ukctIzDb43CVes80bS0h+KzCe8m6L9tr60Wj0ZTbYYPCY9s+0693/BYxwF2OttCp5cnM+C32bnF+qvd5Enk1HPHLPWaOv7gJhQDTHhuhAT6o4Ju/eN/Pv5Y3n58/fl2a/+JG/DtUi3l1cqx52ecIqwN5uNZdBpHtYHu3Ffjh31c/wipw2EgdsZyqN2uOpaNOR+UFlVleP76q/r1pD+1BffN8t8aOpWD088lVC0jprSGYzFnEbrQ0zYDmJC3YgJu4oJ9ftG3v5TJ5M/lb//5aX8J1yLfHt6+3ssp1yeL8mR4XwZPHx/LnO3q9Yqs4E0D+ZKThSUx/Iiq8rehQTnjz0I2o3+NNjf0/71nz52yRudSLMzFukOZegOpRuurw8xoTxiwnUgJuwqJugy/yBHR7+T1ui7cM32vH3+a3nx+5ciH34iP/rNJ/L9cD3y7e2YytngCVcmrDSk0T6T6XxoTiLjUzmUc3Lj/nFQ53HGGcS7OFe9YEeO779bQXufLE6cZ33pt2+Ha8vxvO+CpShigi1iAuqzjZhQVuP2/wt+3r19K/i5Td97+Fc5+fxf8rP+L+T9H/8gXItN9jCp7IqretO6V9op05P2JjLqmTE1i/FDvZEkhw9NpKcf19v2RtILBjG3FuNwvGgsSGxdkieTeFkt/dys6BwNlA5v3y3KNEtLFZL+SlOGqUv43JbaRtmTQKMvz4JbHjM5v0h78ZbK2UQdn57aT1EZueXk3u6KbnMdS+r5o0w5gQrHJxpHFlsKDXwvXbdImfZW1Y7aQUhfYWg2nwbL5qsMxASDmEBMiNy8mFCI7oiGvwaa/9d0kLA/VM9ib6jzhq9OIL7rz30V89Tvjj+chw9q86GvGpAvXTdcEXK7Zn3q4virT3d9dXpS2+ian4tFlau2s/paXRdjPnSCdc7QDeuWXJyVykai92K2n1pPVcHVV4Z1zFiSb1+vX9tXcVn7rWQ5ej8HjyUe2CCxX1eXtM1F+zvxWPheUvd1hXIqHZ+UctKPfUzJulVvb0vLbWyoW9l2kBC+3hmuteM0b9T7+VRt1yzO8E24Ph0xIUJMICbc1JhQnNsN40b3yp/rDc+/VMfns7Cdv/Hd4efq781xpbx/+F88vOf/+Zd/9P8brkG6Pb393ZD+M32LZiaDk00DylVPr2MGBTtdV1TbCi7Bq9YmbleFA/VI6iD/8Vguh/PgueqDpldIR22n6+p1cxmqT4TIpbxeK3w26MhAXzlZjFVS5QSv14+d5NxOupTTUzPeZOW1qo7dB+3YOCDdS+6o2qj1qi7L96Pqqc4UQU3LfmmhcVvu6p+Xr2P7soZyMugyu0N1bFbGd+lyzG24tHIWt7tOV49/3m2uKuUsFT0+SvtsuX21r4qoWrfq7a2o3bUD8b6S1tFTGegPq7ynyvtYpv2it62ICcQEYoJ2o2JCKd9J88FPpOu8J7PxuTSbv5PWk/9V67+V8xM9tvKpdAav1If+nhzv5u470qiGsjdUe1W9kOWVAPN3rFeU0ruOel7xdXHRNpY9s5QeVNRjTGx32dNflJPR+8+uR9TrTXssRViXzKemPG7eY85ViXjPO1xTpZxoXaH3UVR4TJObTLsyFa6r0vvdWE7F9xXuk809/xwpdave3pai5+TWrUo7SNh8VWLumisI5grlZ353eOW7bs4SboiYoFQ4RsSEAogJ6aq0g4R6rlTGzedX6jiFMcX5UsWMbV+djONKZVF7+0UdrX3mqv5YXq8omhPMkWHGPBLtR6bXl5gz7O7t1Z6m4txphr/l6D6WtC/1Rb3o1Z5/XHYd47zXl8HPcWc5jmVl0d+uUy7XL5eUtKtyFjzPzF0WG5ukl9bJILiilCwn+sZnbNxXkW94li4nUuz4WKlSt8rtrZidtIPJc2l2XgXv0fhWxoNz6XSyl9OL9HGWxISUhZhATFAOKiZsQUO+C459t3tPNYn/ldey/S/roLy9TipV+JdHqsuomnfGdCJzudKfPLkrt7MiSnSbZ3alnm0v8yQTlZMpp44xc/OGtizcT84diWpfTzkZ9NxlzXDusrVi1/+Oa/QfBwnE4uQ/v1KBNucbnhXLMYodn8oq1q16eytmJ+2g/VDmw/fCPzRz63s+z16eZd4WJyZsBzEhrxyDmLC39FCa5t9k1j2Ws7OH4na/lUHz+fV+iQiBPU8qY0FEjxXZxhngIKge8to4m/Wl1Bxo3msJ+p6JKzFbLieNN5KW6tnqwJ82fsiPpjdJ1ZYH5gwi+sLE5IXqIWd+w9OmnJrtc90C9beDRv8j9T71eCj917cy7jyVk4s36oFb0khbglelIyakL8SENcQECztoB5V9LT2dUMo9cc9+GKxpnx2rmPBKOjqxDNbguux9UqmDyJkbRBEZnJ6bVQtNuRN88pKD5xei4BnrkdciM0hXMZOrLZ4szUB2CQaXr9puOWkmT8xtnK47lbN+WyUMZv1CcKUhW9ucQeT8YiTm/JF+m8u2nDrVUrc9bm+ZGh/I2fRjcbvmquVscC7NVpWrC8QEW8QEhZiQY0cxoYJJ7wvRN+C77kMVCSI/VDHhnvr5Sk5rmAgdxR1AUqm0H0lwx2s2W/ugLcfYDJ6k90+iD++2/tNC1gTMUZAuNAYrhwmYkviGY2WqR3wSfN22K/Hzx9bLyeVI+m7xZKS/XZmn/SC8KjUIvo2YP7mxRTm1q1a3g2tvG92S9tlHMlcngCD3m72SF1VOXsSE6ogJCjEhy+5jQjkmfnwsZ+v9ofaHwfriM0qgDoeRVKrQb6YTSYpuhcm4szYprad6NC3pBJ/Nrjze2qX6sXRa8QmU9UDrljTDIG1dzuJkOZBmMNFs7GOtB3XrCW/1+nBVpmgAeDM8gQ4fxXp1yrbKKcSc4OMBygsm/W2G08vkCW93aVm3uRZsyqlb1bodSHsrqdF+KFP/t+KrJXFyKISYEChzjPRziQklyqkbMaGqRjstcbyVsR475e8RMw1GbIqLNdFUILI+l4FbZaLj2MqUKSDM1Avr04eov91wCpPEsl5OJGXqjk2iaVIyFmetoMV+yVjWn79QspxoP21aVl6WV4Yz9N0SU1zkPqdyORWOz4b9kNjdFepWrb2FbTt3SXmfZdtBQn3ThxATQiWPETFBqVwOMaF0O0ioLyZcD6YUKupArlQa0VQgCcH/s3VlaL4FsOAEk9ZOK14JSaF7xe1+UFbXWZblOHoi2i2W01BlBBPadtW2w3Wa+kNPRjstVJATvv+c52+lnA10GYljo+vmynzaLzamLbjdteE21zbKqUvVuh1Ue7sexARiQqZtlFOXqnUjJmDPHenMMvwdAAAAqOSgrlQCAABgP5FUAgAAwBpJJQAAAKyRVAIAAMAaSSUAAACskVQCAADAGkklAAAArJFUAgAAwBpJJQAAAKyRVAIAAMAaSSUAAACskVQCAADAGkklAAAArJFUAgAAwBpJJQAAAKyRVAIAAMAaSSUAAACskVQCAADAGkklAAAArJFUAgAAwBpJJQAAAKyRVAIAAMAaSSUAAACskVQCAADAGkklAAAArJFUAgAAwBpJJQAAAKyRVAIAAMAaSSUAAACskVQCAADAGkklAAAArJFUAgAAwBpJJQAAAKyRVAIAAMAaSSUAAACskVQCAADAGkklAAAArJFUAgAAwBpJJQAAAKyRVAIAAMAaSSUAAACskVQCAADAGkklAAAArJFUAgAAwBpJJQAAAKyRVAIAAMAaSSUAAACskVQCAADAGkklAAAArJFUAgAAwBpJZUHeqCVHR0fSGnnhGqC+dlFtu56MWkfB6+ILbbYexASkISZcH2/0B2n1vpIJH8lrs1dJ5aRnGnxvEq5Y542kpT8UmU94N0X7bX1ptXoy2uana9Iz265z/xc8xlGAvd6m4MnF+Sz4bXZ+of56F3kyGfXMMWuNtr4PiAnVEBOuCzGh7piQ7Wt5MvhWZuM3Io1w1VZ8I/9+/lhe/vx9efarP8nbcC3S7eWVynGnJ5wi7M1mYxl0mjv+YFtq3JdjR/0cv8hpA2HgdobyqB2uuhYNuR9UVlXl+P5241glDelPffF9s8yHpm718MRTCUXrqCmdwVjMabQ+xITtICbUjZiwq5iQMPlaxuqHM/xQttMEvpG3/9TJ5E/l7395Kf8J1yLfnt7+Hsspt5RKcmQ4XwYP35/L3O2qtcpsIM2DuZITBeWxvMiqsnchwfljD4J2oz8N9ve0f/2nj13yRifS7KgQ3h3K0B1KN1xfH2JCecSE60BM2FVMiPtORqev1M978rh/y6yy9Pb5r+XF71+KfPiJ/Og3n8j3w/XIt7djKmeDJ1yZsNKQRvtMpvOhOYmMT+VQzsmN+8dBnccZZxDv4lz1gh05vv9uBe19sjhxnvWl374dri3H874LlqKICbaICajPNmJCZZMvZaAvjXZ/uKWrlCLfe/hXOfn8X/Kz/i/k/R//IFyLTfYwqeyKq3rTulfaKdOT9iYy6pkxNYvxQ71RyoDdifT043rb3kh6wSDm1mIcjheNBYmtS/JkEi+rpZ+bFZ2jgdLh7btFmWZpqULSX2nKMHUJn9tS2yh7Emj05Vlwy2Mm5xdpL95SOZuo49NT+ykqI7ec3Ntd0W2uY0k9f5QpJ1Dh+ETjyGJLoYHvpesWKdPeqtpROwjpAfXN5tNgaY02JZbEBIOYQEyI3LyYUF10lfI9GT76oVmF66N6FntDnTd8dQLxXX/uq5infnf84Tx8UJsPfRVXfOm64YqQ2zXrUxfHX32666vTk9pG1/xcLKpctZ3V1+q6GPOhE6xzhm5Yt+TirFQ2Er0Xs/3UeqoKrr4yrGPGknz7ev3avorL2m8ly9H7OXgs8cAGif26uqRtLtrficfC95K6ryuUU+n4pJSTfuxjStatentbWm5jQ93KtoOE8PXOcK0dp3mj3s+nartmcYZvwvXpiAkRYgIx4abGBEvu56pOKp50r8IVdfiH/8XDe/6ff/lH/7/hGqTb09vfDek/07doZjI42TSgXPX0OmZQsNN1RTXg4BK8+viI21XhQD2SOsh/PJbL4Tx4rvqg6RXSUdvpunrdXIbqEyFyKa/XCp8NOjLQV04WY5VUOcHr9WMnObeTLuX01Iw3WXmtqmP3QTs2Dkj3kjuqNmq9qsvy/ah6qjNFUNOyX1po3Ja7+ufl69i+rKGcDLrM7lAdm5XxXboccxsurZzF7a7T1eOfd5urSjlLRY+P0j5bbl/tqyKq1q16eytqd+1AvK+kdfTU3KaS91R5H8u08PgnYgIxgZig3aiYsAWTF1yl3CuqoewN1V5Vj2N5JcD8HesVpfSuo55XfF1ctI1lzyylBxX1GBPbXfb0F+Vk9P6z6xH1etMeSxHWJfOpKY+b95hzVSLe8w7XVCknWlfofRQVHtPkJtOuTIXrqvR+N5ZT8X2F+2Rzzz9HSt2qt7el6Dm5davSDhI2X5WYu5+r9xhdofzM7w6vfNfNWcINEROUCseImFAAMSFdlXaQsKMrlfMvTVyp9SqlxpXKovb2izpa+8xV/bG8XlE0J5ijeinpw3Pbj0yvLzFn2N3bqz1NxbnTDH/L0X0saV/qi3rRqz3/uOw6xnmvL4Of485yHMvKor9dp1yuXy4paVflLHiembssNjZJL62TQXBFKVlO9I3P2LivIt/wLF1OpNjxsVKlbpXbWzE7aQeT59LsvAreo/GtjAfn0ulkL6cX6eMsiQkpCzGBmKAcVEzYksmTv6n9xFXKfbLXSaUK//JIdRlV886YTmQuV/qTJ3fldlZEiW7zzK7Us+1lnmSicjLl1DFmbt7QloX7ybkjUe3rKSeDnrusGc5dtlbs+t9xjf7jIIFYnPznVyqA5HzDs2I5RrHjU1nFulVvb8XspB20H8p8+F74h2Zufc/n2cuzzNvixITtICbklWMQE/aa95Xo0Qni/E/6F7RwLfY8qYwFET1WZBtngIOgeshr42zWl1JzoHmvJeh7Jq7EbLmcNN5IWqpnqwN/2vghP5reJFVbHpgziOgLE5MXKoJkfsPTppya7XPdAvW3g0b/I/U+fyLBkEZ9pbLzVE4u9H++uCWNtCV4VTpiQvpCTFhDTLCwg3ZgyVyl1BduP8iNF9itvU8qdRA5c4MoIoPTc7NqoSl3gk9ecvD8QhQ8Yz3yWmQG6SpmcrXFk6UZyK4+fA/Wb+Vst5w0kyfmNk7XncpZv60SBrN+IbjSkK1tziByfjESc/5Iv81lW06daqnbHre3TI0P5Gz6sbhdc9VyNjiXZut5hSlKiAm2iAkKMSHHjmJCZV8Hx16cn1zzf1DCugNIKpX2IwnueM1max+05RibwZP0EVbRh3db/2khawLmKEgXGoOVwwRMSXzDsTLVIz4xs8JK/Pyx9XJyOZK+WzwZBfcvcrQfhFelBsG3EfMnN7Yop3bV6nZw7W2jW9I++0jm7j21R5TZK3lR5eRFTKiOmKAQE7LsPiaU542+UMdetWCuUu6dw0gqVbMx04kkRbfCZNxZm5TWEz1xayf4bHbl8dYu1Y+l04pPoKwHWrekGQZp63IWJ8uBNIOJZmMfaz2oW094q9eHqzJFA8Cb4Ql0+EhWOnTbKqcQc4KPBygvmPS3GU4vkye83aVl3eZasCmnblXrdiDtraRG+6FM/d+Kr5azSlcaiAmBMsdIP5eYUKKcuhETqvlangy+Vceeq5R7yd8jZhqM2BQXa6KpQGR9LgO3ykTHsZUpU0CYqRfWpw9Rf7vhFCaJZb2cSMrUHZtE06RkLM5aQYv9krGsP3+hZDnRftq0rLwsrwxn6LslprjIfU7lciocnw37IbG7K9StWnsL23bukvI+y7aDhPqmDyEmhEoeI2KCUrkcYkLpdpBQX0yYDz9Tddj8jxO2iymFijqQK5VGNBVIQvD/bF0Zmm8BLDjBpLXTildCUuhecbsflNV1lmU5jp6IdovlNFQZwYS2XbXtcJ2m/tCT0U4LFeSE7z/n+VspZwNdRuLY6Lq5Mp/2i41pC253bbjNtY1y6lK1bgfV3q4HMYGYkGkb5dSlat3e+ZgQXqWUe/K48D9OwC4d6cwy/B0AAGA/eV9L7+RcLo/L/Dcu7BJJJQAAAKwd1O1vAAAA7CeSSgAAAFgjqQQAAIA1kkoAAABYI6kEAACANZJKAAAAWCOpBAAAgDWSSgAAAFgjqQQAAIA1kkoAAABYI6kEAACANZJKAAAAWCOpBAAAgDWSSgAAAFgjqQQAAIA1kkoAAABYI6kEAACANZJKAAAAWCOpBAAAgDWSSgAAAFgjqQQAAIA1kkoAAABYI6kEAACANZJKAAAAWCOpBAAAgDWSSgAAAFgjqQQAAIA1kkoAAABYI6kEAACANZJKAAAAWCOpBAAAgCWR/w+N10IsxKGmgAAAAABJRU5ErkJggg==)\n",
        "\n",
        "* **En python la asignacion se da la siguiente manera :**\n",
        "\n",
        "\n"
      ],
      "metadata": {
        "id": "yqdxSNdLu8jj"
      }
    },
    {
      "cell_type": "markdown",
      "source": [
        "* Operador para sumar `+=`\n",
        "\n",
        "* Operador para restar `-=`\n",
        "\n",
        "* Operador para multiplicar `*=`\n",
        "\n",
        "* Operador para dividir `/=`\n",
        "\n",
        "* Operador para aplicar una potencia `**=`\n",
        "\n",
        "***Ejemplo del uso de asignadores :***\n",
        "\n"
      ],
      "metadata": {
        "id": "f3CapFI-w5PG"
      }
    },
    {
      "cell_type": "markdown",
      "source": [
        "Imaginate que tenemos una variable numerica cuyo valor es unicamente un valor entero :"
      ],
      "metadata": {
        "id": "DXzCaZI0x0-K"
      }
    },
    {
      "cell_type": "code",
      "execution_count": 2,
      "metadata": {
        "id": "bdYoZpWjCEIP"
      },
      "outputs": [],
      "source": [
        "VariableNumerica = 1"
      ]
    },
    {
      "cell_type": "markdown",
      "source": [
        "En este caso estamos usando un asignador convencional `( = )` cuya unica utilidad es darle un valor a nuestras variables, este asignador solo le otorga el valor `{int}` de `( 1 )` , por lo que este valor siempre sera `1`."
      ],
      "metadata": {
        "id": "CdtAdbbsyX58"
      }
    },
    {
      "cell_type": "code",
      "source": [
        "print(VariableNumerica + 1) # En esta linea le sumamos 1 a nuestra variable numerica por lo que retornaria 2."
      ],
      "metadata": {
        "colab": {
          "base_uri": "https://localhost:8080/"
        },
        "id": "um5pTikVy_Z_",
        "outputId": "96c4e6d6-f5f8-4738-da13-124a9a3833ff"
      },
      "execution_count": 3,
      "outputs": [
        {
          "output_type": "stream",
          "name": "stdout",
          "text": [
            "2\n"
          ]
        }
      ]
    },
    {
      "cell_type": "markdown",
      "source": [
        "**En la anterior linea de codigo le estamos sumando `1` a nuestra `VariableNumerica` por lo que su valor pasa a ser `2`, pero es importante saber que ese valor de `2` solo lo posee en esa linea en especifico.**"
      ],
      "metadata": {
        "id": "3DoD2VmazbI9"
      }
    },
    {
      "cell_type": "code",
      "source": [
        "print(VariableNumerica + 1) #Linea donde se le suma 1 a nuestra variable\n",
        "\n",
        "print(VariableNumerica) #Volvemos a escribir el valor de nuestra variable pero ahora sin sumarle y vemos que vuelve a ser 1."
      ],
      "metadata": {
        "colab": {
          "base_uri": "https://localhost:8080/"
        },
        "id": "guMceBW9z8Kn",
        "outputId": "4b03556e-86a4-4c60-d177-8f603bd434bb"
      },
      "execution_count": 4,
      "outputs": [
        {
          "output_type": "stream",
          "name": "stdout",
          "text": [
            "2\n",
            "1\n"
          ]
        }
      ]
    },
    {
      "cell_type": "markdown",
      "source": [
        "**Con ese ejemplo podemos concluir que cuando operamos nuestra variable sin algun asignador, el valor que adapta es temporal.**"
      ],
      "metadata": {
        "id": "UpRyjfSM0KSs"
      }
    },
    {
      "cell_type": "markdown",
      "source": [
        "Si queremos que al operar una variable su valor sea permanente debemos utilizar alguno de los operadores de asignacion `( += , -= , *= , /= )`\n",
        "\n",
        "Y la estrucuta que debemos seguir es la siguiente :\n",
        "\n",
        "1. **Primero definimos la variable que deseamos actualizar de la manera convencional.**\n",
        "```\n",
        "NombreDeLaVariable = 1\n",
        "```\n",
        "2. Despues en otra linea diferente llamamos a nuestra variable y aplicamos alguno de los asignadores `( += , -= , *= , /= )`.\n",
        "\n",
        "```\n",
        "1- NombreDeLaVariable = 1\n",
        "\n",
        "2- NombreDeLaVariable += 1\n",
        "```\n",
        "* Ya con esto cuando el programa pase por la linea 2 le sumara 1 a nuestra variable `{NombreDeLaVariable}` y el valor que tome sera permanente y se actualizara constantemente.\n",
        "\n"
      ],
      "metadata": {
        "id": "tXk96svF0nQs"
      }
    },
    {
      "cell_type": "code",
      "source": [
        "NombreDeLaVariable = 1"
      ],
      "metadata": {
        "id": "xt3dA-wv1ZrK"
      },
      "execution_count": 20,
      "outputs": []
    },
    {
      "cell_type": "code",
      "source": [
        "NombreDeLaVariable += 1\n",
        "\n",
        "print(NombreDeLaVariable)"
      ],
      "metadata": {
        "colab": {
          "base_uri": "https://localhost:8080/"
        },
        "id": "VhzPaCKk2U_Y",
        "outputId": "b38dd395-9f64-42af-c1bf-fd3cad6850ee"
      },
      "execution_count": 53,
      "outputs": [
        {
          "output_type": "stream",
          "name": "stdout",
          "text": [
            "14\n"
          ]
        }
      ]
    },
    {
      "cell_type": "markdown",
      "source": [
        "**De esta manera vemos que el valor de la variable se actualiza cada vez que corremos el codigo.**\n",
        "\n",
        "* **Importante : Cada vez que corramos la primera linea, donde establecemos el valor de nuestra variable en `1`, el valor de nuestra variable nuevamente pasara a ser `1`.**"
      ],
      "metadata": {
        "id": "xw6bD3du2d7w"
      }
    },
    {
      "cell_type": "markdown",
      "source": [
        "\n",
        "\n",
        "---\n",
        "***Ejemplo con resta :***\n",
        "\n",
        "* Asignador resta : `{ -= }`\n"
      ],
      "metadata": {
        "id": "qRC5UYgf3UC9"
      }
    },
    {
      "cell_type": "code",
      "source": [
        "NombreDeLaVariable -= 1\n",
        "\n",
        "print(NombreDeLaVariable)"
      ],
      "metadata": {
        "colab": {
          "base_uri": "https://localhost:8080/"
        },
        "id": "-_DHH9W_3Q8f",
        "outputId": "1bbceca5-c884-4f32-a377-9993aa96fba6"
      },
      "execution_count": 57,
      "outputs": [
        {
          "output_type": "stream",
          "name": "stdout",
          "text": [
            "1.5\n"
          ]
        }
      ]
    },
    {
      "cell_type": "markdown",
      "source": [
        "\n",
        "---\n",
        "***Ejemplo con multiplicacion :***\n",
        "\n",
        "* Asignador multiplicacion : `{ *= }`\n"
      ],
      "metadata": {
        "id": "yiORPkmk3wvz"
      }
    },
    {
      "cell_type": "code",
      "source": [
        "NombreDeLaVariable *= 2\n",
        "\n",
        "print(NombreDeLaVariable)"
      ],
      "metadata": {
        "colab": {
          "base_uri": "https://localhost:8080/"
        },
        "id": "bSRfp3OM3wIf",
        "outputId": "a60930de-9a59-460e-f53e-6f4278146554"
      },
      "execution_count": 58,
      "outputs": [
        {
          "output_type": "stream",
          "name": "stdout",
          "text": [
            "3.0\n"
          ]
        }
      ]
    },
    {
      "cell_type": "markdown",
      "source": [
        "\n",
        "---\n",
        "***Ejemplo con division :***\n",
        "\n",
        "* Asignador division : `{ /= }`\n"
      ],
      "metadata": {
        "id": "xHZN7oSq4AMB"
      }
    },
    {
      "cell_type": "code",
      "source": [
        "NombreDeLaVariable /= 2\n",
        "\n",
        "print(NombreDeLaVariable)"
      ],
      "metadata": {
        "colab": {
          "base_uri": "https://localhost:8080/"
        },
        "id": "iE4Y_NAH4HEe",
        "outputId": "3814f1aa-9f3d-43b8-f0cf-be4c31eb9c50"
      },
      "execution_count": 59,
      "outputs": [
        {
          "output_type": "stream",
          "name": "stdout",
          "text": [
            "1.5\n"
          ]
        }
      ]
    },
    {
      "cell_type": "markdown",
      "source": [
        "\n",
        "---\n",
        "***Ejemplo con potencia :***\n",
        "\n",
        "* Asignador de potencia : `{ **= }`\n"
      ],
      "metadata": {
        "id": "5mQprvfZ4U-8"
      }
    },
    {
      "cell_type": "code",
      "source": [
        "NombreDeLaVariable **= 2\n",
        "\n",
        "print(NombreDeLaVariable)"
      ],
      "metadata": {
        "colab": {
          "base_uri": "https://localhost:8080/"
        },
        "id": "Fv1rb8sa4b5h",
        "outputId": "e86a06d6-a961-4130-ca99-1e3cc5516567"
      },
      "execution_count": 62,
      "outputs": [
        {
          "output_type": "stream",
          "name": "stdout",
          "text": [
            "25.62890625\n"
          ]
        }
      ]
    },
    {
      "cell_type": "markdown",
      "source": [
        "\n",
        "\n",
        "---\n",
        "**Restablecer el valor de nuestra variable a 1 :**\n"
      ],
      "metadata": {
        "id": "diUfnrkJ4jSl"
      }
    },
    {
      "cell_type": "code",
      "source": [
        "NombreDeLaVariable = 1\n",
        "\n",
        "print(NombreDeLaVariable)"
      ],
      "metadata": {
        "colab": {
          "base_uri": "https://localhost:8080/"
        },
        "id": "bI_5eLx-4qJ8",
        "outputId": "8705f77c-b4d1-4744-ee90-5a7adf6eb4d0"
      },
      "execution_count": 63,
      "outputs": [
        {
          "output_type": "stream",
          "name": "stdout",
          "text": [
            "1\n"
          ]
        }
      ]
    },
    {
      "cell_type": "markdown",
      "source": [
        "**Con los ejemplos anteriores pudimos notar que los operadores de asignacion toman el valor actual de la variable, y actualizan el valor dependiendo del operador que apliques.**"
      ],
      "metadata": {
        "id": "8RiSiR5f4seA"
      }
    },
    {
      "cell_type": "markdown",
      "source": [
        "# **Preguntas de asignadores.**"
      ],
      "metadata": {
        "id": "WCAYpQMv6J-X"
      }
    },
    {
      "cell_type": "markdown",
      "source": [
        "\n",
        "\n",
        "---\n",
        "***Pregunta-1 :***\n",
        "\n",
        "* **Analiza el codigo y menciona lo siguiente :**\n",
        "\n",
        "1.   El valor de `{Variable}` antes de la asignacion.\n",
        "2.   El valor de `{Variable}` despues de la asignacion.\n",
        "\n"
      ],
      "metadata": {
        "id": "LAUpPu2z6RbS"
      }
    },
    {
      "cell_type": "code",
      "source": [
        "Variable = 1\n",
        "\n",
        "print(Variable) #Antes de asignar.\n",
        "\n",
        "Variable -= 2\n",
        "\n",
        "print(Variable) #Despues de asignar."
      ],
      "metadata": {
        "colab": {
          "base_uri": "https://localhost:8080/"
        },
        "id": "mg6glYoR6Jg7",
        "outputId": "53c1df4b-ea99-42d2-878f-f24701ba45db"
      },
      "execution_count": 66,
      "outputs": [
        {
          "output_type": "stream",
          "name": "stdout",
          "text": [
            "1\n",
            "-1\n"
          ]
        }
      ]
    },
    {
      "cell_type": "markdown",
      "source": [
        "---\n",
        "***Pregunta-2 :***\n",
        "\n",
        "* **Analiza el codigo y menciona lo siguiente :**\n",
        "\n",
        "1.   El valor de `{Variable}` antes de la asignacion.\n",
        "2.   El valor de `{Variable}` despues de la asignacion.\n",
        "\n"
      ],
      "metadata": {
        "id": "7r4yGK758pmT"
      }
    },
    {
      "cell_type": "code",
      "source": [
        "Variable = 5\n",
        "\n",
        "print(Variable) #Antes de asignar.\n",
        "\n",
        "Variable **= 2\n",
        "\n",
        "print(Variable) #Despues de asignar."
      ],
      "metadata": {
        "colab": {
          "base_uri": "https://localhost:8080/"
        },
        "id": "e4eCX_wd8oEf",
        "outputId": "057d44ec-7e68-464a-9060-f75113248f5d"
      },
      "execution_count": 67,
      "outputs": [
        {
          "output_type": "stream",
          "name": "stdout",
          "text": [
            "5\n",
            "25\n"
          ]
        }
      ]
    },
    {
      "cell_type": "markdown",
      "source": [
        "---\n",
        "***Pregunta-3 :***\n",
        "\n",
        "* **Analiza el codigo y menciona lo siguiente :**\n",
        "\n",
        "1.   El valor de `{Variable}` antes de la asignacion.\n",
        "2.   El valor de `{Variable}` despues de la asignacion.\n",
        "\n"
      ],
      "metadata": {
        "id": "qesDbrOf802P"
      }
    },
    {
      "cell_type": "code",
      "source": [
        "Variable = 3 * 2\n",
        "\n",
        "print(Variable) #Antes de asignar.\n",
        "\n",
        "Variable /=  3\n",
        "\n",
        "print(Variable) #Despues de asignar."
      ],
      "metadata": {
        "colab": {
          "base_uri": "https://localhost:8080/"
        },
        "id": "FnSqFmG29A3P",
        "outputId": "607ee74b-8964-4c56-dfe8-8cd073f24add"
      },
      "execution_count": 68,
      "outputs": [
        {
          "output_type": "stream",
          "name": "stdout",
          "text": [
            "6\n",
            "2.0\n"
          ]
        }
      ]
    },
    {
      "cell_type": "markdown",
      "source": [
        "---\n",
        "***Pregunta-4 :***\n",
        "\n",
        "* **Analiza el codigo y menciona lo siguiente :**\n",
        "\n",
        "1.   El valor de `{Variable}` antes de la asignacion.\n",
        "2.   El valor de `{Variable}` despues de la asignacion.\n",
        "\n"
      ],
      "metadata": {
        "id": "f_gUsIaj9KiZ"
      }
    },
    {
      "cell_type": "code",
      "source": [
        "Variable = 6/2\n",
        "\n",
        "print(Variable) #Antes de asignar.\n",
        "\n",
        "Variable -=  3 * 2\n",
        "\n",
        "print(Variable) #Despues de asignar."
      ],
      "metadata": {
        "colab": {
          "base_uri": "https://localhost:8080/"
        },
        "id": "W4A9_9lq9Nq7",
        "outputId": "c544c89a-9304-4e7b-d4f8-b19cc3b35a26"
      },
      "execution_count": 69,
      "outputs": [
        {
          "output_type": "stream",
          "name": "stdout",
          "text": [
            "3.0\n",
            "-3.0\n"
          ]
        }
      ]
    },
    {
      "cell_type": "markdown",
      "source": [
        "---\n",
        "***Pregunta-5 :***\n",
        "\n",
        "* **Analiza el codigo y menciona lo siguiente :**\n",
        "\n",
        "1.   El valor de `{Variable}` antes de la asignacion.\n",
        "2.   El valor de `{Variable}` despues de la asignacion.\n",
        "\n"
      ],
      "metadata": {
        "id": "0FeX7qWT9Ue9"
      }
    },
    {
      "cell_type": "code",
      "source": [
        "Variable = 1 + 4/(1+1)\n",
        "\n",
        "print(Variable) #Antes de asignar.\n",
        "\n",
        "Variable -=  2**2 - 1\n",
        "\n",
        "print(Variable) #Despues de asignar."
      ],
      "metadata": {
        "colab": {
          "base_uri": "https://localhost:8080/"
        },
        "id": "K9BUACpx9akh",
        "outputId": "c44e4e35-e519-4dd8-9598-f277661f08d8"
      },
      "execution_count": 72,
      "outputs": [
        {
          "output_type": "stream",
          "name": "stdout",
          "text": [
            "3.0\n",
            "0.0\n"
          ]
        }
      ]
    },
    {
      "cell_type": "markdown",
      "source": [
        "---\n",
        "***Pregunta-6 :***\n",
        "\n",
        "* **Analiza el codigo y menciona lo siguiente :**\n",
        "\n",
        "1.   El valor de `{Variable}` antes de la asignacion.\n",
        "2.   El valor de `{Variable}` despues de la asignacion.\n",
        "\n"
      ],
      "metadata": {
        "id": "sUzlWXn49ZIP"
      }
    },
    {
      "cell_type": "code",
      "source": [
        "Variable = 1 + (2*3)/3 + 1\n",
        "\n",
        "print(Variable) #Antes de asignar.\n",
        "\n",
        "Variable +=  2**(1+2)\n",
        "\n",
        "print(Variable) #Despues de asignar."
      ],
      "metadata": {
        "colab": {
          "base_uri": "https://localhost:8080/"
        },
        "id": "qfciddwT9bN9",
        "outputId": "fac05121-be8f-45d3-b87e-b3b1d1815ef8"
      },
      "execution_count": 75,
      "outputs": [
        {
          "output_type": "stream",
          "name": "stdout",
          "text": [
            "4.0\n",
            "12.0\n"
          ]
        }
      ]
    },
    {
      "cell_type": "markdown",
      "source": [
        "---\n",
        "***Pregunta-7 :***\n",
        "\n",
        "* **Analiza el codigo y menciona lo siguiente :**\n",
        "\n",
        "1.   El valor de `{Variable}` Antes de la primera asignacion.\n",
        "2.   El valor de `{Variable}` En la primera asignacion.\n",
        "3.   El valor de `{Variable}` En la segunda asignacion.\n",
        "\n"
      ],
      "metadata": {
        "id": "ZuygTMO2-RNe"
      }
    },
    {
      "cell_type": "code",
      "source": [
        "Variable = 2\n",
        "\n",
        "print(Variable) #Antes de la primera asignacion.\n",
        "\n",
        "Variable +=  2\n",
        "\n",
        "print(Variable) #Primera asignacion.\n",
        "\n",
        "Variable *= 2\n",
        "\n",
        "print(Variable) #Segunda asignacion"
      ],
      "metadata": {
        "colab": {
          "base_uri": "https://localhost:8080/"
        },
        "id": "6oGWfJV1-UZ3",
        "outputId": "4099e669-7f16-4ffe-b85c-52aa4be7dafb"
      },
      "execution_count": 77,
      "outputs": [
        {
          "output_type": "stream",
          "name": "stdout",
          "text": [
            "2\n",
            "4\n",
            "8\n"
          ]
        }
      ]
    },
    {
      "cell_type": "markdown",
      "source": [
        "---\n",
        "***Pregunta-8 :***\n",
        "\n",
        "* **Analiza el codigo y menciona lo siguiente :**\n",
        "\n",
        "1.   El valor de `{Variable}` Antes de la primera asignacion.\n",
        "2.   El valor de `{Variable}` En la primera asignacion.\n",
        "3.   El valor de `{Variable}` En la segunda asignacion.\n",
        "\n"
      ],
      "metadata": {
        "id": "P_O2n6bsPMzA"
      }
    },
    {
      "cell_type": "code",
      "source": [
        "Variable = 4\n",
        "\n",
        "print(Variable) #Antes de la primera asignacion.\n",
        "\n",
        "Variable /=  2\n",
        "\n",
        "print(Variable) #Primera asignacion.\n",
        "\n",
        "Variable **= 3\n",
        "\n",
        "print(Variable) #Segunda asignacion"
      ],
      "metadata": {
        "colab": {
          "base_uri": "https://localhost:8080/"
        },
        "id": "6oeC5B_IPQml",
        "outputId": "f9b16fb6-9062-480a-aa19-e7e8f9a0e465"
      },
      "execution_count": 78,
      "outputs": [
        {
          "output_type": "stream",
          "name": "stdout",
          "text": [
            "4\n",
            "2.0\n",
            "8.0\n"
          ]
        }
      ]
    },
    {
      "cell_type": "markdown",
      "source": [
        "---\n",
        "***Pregunta-9 :***\n",
        "\n",
        "* **Analiza el codigo y menciona lo siguiente :**\n",
        "\n",
        "1.   El valor de `{Variable}` Antes de la primera asignacion.\n",
        "2.   El valor de `{Variable}` En la primera asignacion.\n",
        "3.   El valor de `{Variable}` En la segunda asignacion.\n"
      ],
      "metadata": {
        "id": "KwYotkNAPe92"
      }
    },
    {
      "cell_type": "code",
      "source": [
        "Variable = 2**(2+1) - 4\n",
        "\n",
        "print(Variable) #Antes de la primera asignacion.\n",
        "\n",
        "Variable /=  2**(2+1)/2\n",
        "\n",
        "print(Variable) #Primera asignacion.\n",
        "\n",
        "Variable -= 1\n",
        "\n",
        "print(Variable) #Segunda asignacion"
      ],
      "metadata": {
        "colab": {
          "base_uri": "https://localhost:8080/"
        },
        "id": "ILNWNIeGPjlT",
        "outputId": "ce208fc6-c884-464f-d2fe-e4f97ce1ea2c"
      },
      "execution_count": 83,
      "outputs": [
        {
          "output_type": "stream",
          "name": "stdout",
          "text": [
            "4\n",
            "1.0\n",
            "0.0\n"
          ]
        }
      ]
    },
    {
      "cell_type": "markdown",
      "source": [
        "---\n",
        "***Pregunta-10 :***\n",
        "\n",
        "* **Analiza el codigo y menciona lo siguiente :**\n",
        "\n",
        "1.   El valor de `{Variable}` Antes de la primera asignacion.\n",
        "2.   El valor de `{Variable}` En la primera asignacion.\n",
        "3.   El valor de `{Variable}` En la segunda asignacion.\n"
      ],
      "metadata": {
        "id": "wwKP6PFEP-Lz"
      }
    },
    {
      "cell_type": "code",
      "source": [
        "Variable = (2*3)/(1*2+1-1) + 2\n",
        "\n",
        "print(Variable) #Antes de la primera asignacion.\n",
        "\n",
        "Variable *=  (2*1)**(1+1)/(3-1)\n",
        "\n",
        "print(Variable) #Primera asignacion.\n",
        "\n",
        "Variable /= (2*2)**2/(2*2**2)\n",
        "\n",
        "print(Variable) #Segunda asignacion"
      ],
      "metadata": {
        "colab": {
          "base_uri": "https://localhost:8080/"
        },
        "id": "X40-uASsP9WS",
        "outputId": "1a778cd1-add8-4d8f-a70a-80e172785052"
      },
      "execution_count": 88,
      "outputs": [
        {
          "output_type": "stream",
          "name": "stdout",
          "text": [
            "5.0\n",
            "10.0\n",
            "5.0\n"
          ]
        }
      ]
    }
  ]
}