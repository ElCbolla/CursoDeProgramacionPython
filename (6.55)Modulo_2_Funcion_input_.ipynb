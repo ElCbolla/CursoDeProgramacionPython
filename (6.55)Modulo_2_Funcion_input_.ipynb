{
  "nbformat": 4,
  "nbformat_minor": 0,
  "metadata": {
    "colab": {
      "provenance": [],
      "authorship_tag": "ABX9TyNNO6BPGKPSEUjvCFpm4NRl",
      "include_colab_link": true
    },
    "kernelspec": {
      "name": "python3",
      "display_name": "Python 3"
    },
    "language_info": {
      "name": "python"
    }
  },
  "cells": [
    {
      "cell_type": "markdown",
      "metadata": {
        "id": "view-in-github",
        "colab_type": "text"
      },
      "source": [
        "<a href=\"https://colab.research.google.com/github/ElCbolla/CursoDeProgramacionPython/blob/main/(6_5)Modulo_2_Funcion_input_.ipynb\" target=\"_parent\"><img src=\"https://colab.research.google.com/assets/colab-badge.svg\" alt=\"Open In Colab\"/></a>"
      ]
    },
    {
      "cell_type": "markdown",
      "source": [
        "La manera que tenemos en python para leer datos ingresados por el usuario es mediante la funcion `input()`\n",
        "\n",
        "Esta funcion le pide al usuario que ingrese algun tipo de dato para luego almacenar ese valor dentro de una variable y darle el uso que queramos.\n",
        "\n",
        "La estructura de la funcion `input()` es la siguiente :\n",
        "\n",
        "Primero definimos una variable y le asignamos el valor de la funcion `input()` de la siguiente manera :\n",
        "\n",
        "\n",
        "\n",
        "```\n",
        "NombreDeVariable = input()\n",
        "```\n",
        "\n",
        "Dentro de los parentesis de la funcion input debemos ingresar un dato tipo texto o `str` que servira para darle las indicaciones al usuario de lo que debe ingresar, de la siguiente forma :\n",
        "\n",
        "\n",
        "\n",
        "```\n",
        "NombreDeVariable = input(\"Ingrese un numero\")\n",
        "```\n",
        "Esto hara que al correr el codigo, aparezca un mensaje de `\"Ingrese un numero\"` y el usuario debera ingresar un dato.\n",
        "\n",
        "\n",
        "\n",
        "***Ejemplo del codigo :***\n"
      ],
      "metadata": {
        "id": "oMcWlZAv98UG"
      }
    },
    {
      "cell_type": "code",
      "execution_count": 1,
      "metadata": {
        "id": "Ttnrmv7c1wdu",
        "colab": {
          "base_uri": "https://localhost:8080/"
        },
        "outputId": "67bfb0bd-c3e2-48f4-d025-146b0642b2b2"
      },
      "outputs": [
        {
          "name": "stdout",
          "output_type": "stream",
          "text": [
            "Ingrese un numero5\n"
          ]
        }
      ],
      "source": [
        "NombreDeVariable = input(\"Ingrese un numero\")"
      ]
    },
    {
      "cell_type": "markdown",
      "source": [
        "En el anterior ejemplo el codigo no hace nada fuera de pedirle al usuario que `\"Ingrese un numero\"`, Es importante aclarar que el dato ingresado por el usuario se almacenara dentro de la variable que definimos, en este caso `NombreDeVariable`\n",
        "\n",
        "* En el siguiente ejemplo le pediremos al usuario que `\"Ingrese un numero\"` y luego imprimiremos la variable donde esta almacenada el `input()` {`NombreDeVariable`}."
      ],
      "metadata": {
        "id": "miY38pbTApn-"
      }
    },
    {
      "cell_type": "code",
      "source": [
        "NombreDeVariable = input(\"Ingrese un numero\")\n",
        "\n",
        "print(\"La variable ingresada por el usuario es : \",NombreDeVariable)"
      ],
      "metadata": {
        "colab": {
          "base_uri": "https://localhost:8080/",
          "height": 347
        },
        "id": "0rZv4SfQBqV8",
        "outputId": "8b293110-f507-41db-e2a3-92164e0af431"
      },
      "execution_count": 7,
      "outputs": [
        {
          "output_type": "error",
          "ename": "KeyboardInterrupt",
          "evalue": "Interrupted by user",
          "traceback": [
            "\u001b[0;31m---------------------------------------------------------------------------\u001b[0m",
            "\u001b[0;31mKeyboardInterrupt\u001b[0m                         Traceback (most recent call last)",
            "\u001b[0;32m<ipython-input-7-8900de0f9e42>\u001b[0m in \u001b[0;36m<cell line: 1>\u001b[0;34m()\u001b[0m\n\u001b[0;32m----> 1\u001b[0;31m \u001b[0mNombreDeVariable\u001b[0m \u001b[0;34m=\u001b[0m \u001b[0minput\u001b[0m\u001b[0;34m(\u001b[0m\u001b[0;34m\"Ingrese un numero\"\u001b[0m\u001b[0;34m)\u001b[0m\u001b[0;34m\u001b[0m\u001b[0;34m\u001b[0m\u001b[0m\n\u001b[0m\u001b[1;32m      2\u001b[0m \u001b[0;34m\u001b[0m\u001b[0m\n\u001b[1;32m      3\u001b[0m \u001b[0mprint\u001b[0m\u001b[0;34m(\u001b[0m\u001b[0;34m\"La variable ingresada por el usuario es : \"\u001b[0m\u001b[0;34m,\u001b[0m\u001b[0mNombreDeVariable\u001b[0m\u001b[0;34m)\u001b[0m\u001b[0;34m\u001b[0m\u001b[0;34m\u001b[0m\u001b[0m\n",
            "\u001b[0;32m/usr/local/lib/python3.10/dist-packages/ipykernel/kernelbase.py\u001b[0m in \u001b[0;36mraw_input\u001b[0;34m(self, prompt)\u001b[0m\n\u001b[1;32m    849\u001b[0m                 \u001b[0;34m\"raw_input was called, but this frontend does not support input requests.\"\u001b[0m\u001b[0;34m\u001b[0m\u001b[0;34m\u001b[0m\u001b[0m\n\u001b[1;32m    850\u001b[0m             )\n\u001b[0;32m--> 851\u001b[0;31m         return self._input_request(str(prompt),\n\u001b[0m\u001b[1;32m    852\u001b[0m             \u001b[0mself\u001b[0m\u001b[0;34m.\u001b[0m\u001b[0m_parent_ident\u001b[0m\u001b[0;34m,\u001b[0m\u001b[0;34m\u001b[0m\u001b[0;34m\u001b[0m\u001b[0m\n\u001b[1;32m    853\u001b[0m             \u001b[0mself\u001b[0m\u001b[0;34m.\u001b[0m\u001b[0m_parent_header\u001b[0m\u001b[0;34m,\u001b[0m\u001b[0;34m\u001b[0m\u001b[0;34m\u001b[0m\u001b[0m\n",
            "\u001b[0;32m/usr/local/lib/python3.10/dist-packages/ipykernel/kernelbase.py\u001b[0m in \u001b[0;36m_input_request\u001b[0;34m(self, prompt, ident, parent, password)\u001b[0m\n\u001b[1;32m    893\u001b[0m             \u001b[0;32mexcept\u001b[0m \u001b[0mKeyboardInterrupt\u001b[0m\u001b[0;34m:\u001b[0m\u001b[0;34m\u001b[0m\u001b[0;34m\u001b[0m\u001b[0m\n\u001b[1;32m    894\u001b[0m                 \u001b[0;31m# re-raise KeyboardInterrupt, to truncate traceback\u001b[0m\u001b[0;34m\u001b[0m\u001b[0;34m\u001b[0m\u001b[0m\n\u001b[0;32m--> 895\u001b[0;31m                 \u001b[0;32mraise\u001b[0m \u001b[0mKeyboardInterrupt\u001b[0m\u001b[0;34m(\u001b[0m\u001b[0;34m\"Interrupted by user\"\u001b[0m\u001b[0;34m)\u001b[0m \u001b[0;32mfrom\u001b[0m \u001b[0;32mNone\u001b[0m\u001b[0;34m\u001b[0m\u001b[0;34m\u001b[0m\u001b[0m\n\u001b[0m\u001b[1;32m    896\u001b[0m             \u001b[0;32mexcept\u001b[0m \u001b[0mException\u001b[0m \u001b[0;32mas\u001b[0m \u001b[0me\u001b[0m\u001b[0;34m:\u001b[0m\u001b[0;34m\u001b[0m\u001b[0;34m\u001b[0m\u001b[0m\n\u001b[1;32m    897\u001b[0m                 \u001b[0mself\u001b[0m\u001b[0;34m.\u001b[0m\u001b[0mlog\u001b[0m\u001b[0;34m.\u001b[0m\u001b[0mwarning\u001b[0m\u001b[0;34m(\u001b[0m\u001b[0;34m\"Invalid Message:\"\u001b[0m\u001b[0;34m,\u001b[0m \u001b[0mexc_info\u001b[0m\u001b[0;34m=\u001b[0m\u001b[0;32mTrue\u001b[0m\u001b[0;34m)\u001b[0m\u001b[0;34m\u001b[0m\u001b[0;34m\u001b[0m\u001b[0m\n",
            "\u001b[0;31mKeyboardInterrupt\u001b[0m: Interrupted by user"
          ]
        }
      ]
    },
    {
      "cell_type": "markdown",
      "source": [
        "Es importante destacar que el dato ingresado por el usuario mediante la funcion `input()` se tomara como un dato tipo `str` en todos los contextos, es decir, si el usuario ingresa un dato de tipo `int` este mediante la funcion `input()` pasara a ser un dato tipo `str`, si por ejemplo se ingresa un dato tipo `bool`, este pasara a ser tipo `str`, y asi con todos.\n",
        "\n",
        "1. **Ingresar dato entero:**"
      ],
      "metadata": {
        "id": "w-rJ_-70Dmd4"
      }
    },
    {
      "cell_type": "code",
      "source": [
        "NombreDeVariable = input(\"Ingrese un dato entero :\")\n",
        "\n",
        "print(\"Tu dato tipo entero paso a ser tipo :\",type(NombreDeVariable))"
      ],
      "metadata": {
        "colab": {
          "base_uri": "https://localhost:8080/"
        },
        "id": "tZj0SKAdE5YP",
        "outputId": "def2d579-7223-452e-d4b7-31343f088b44"
      },
      "execution_count": 13,
      "outputs": [
        {
          "output_type": "stream",
          "name": "stdout",
          "text": [
            "Ingrese un dato entero :10\n",
            "Tu dato tipo entero paso a ser tipo : <class 'str'>\n"
          ]
        }
      ]
    },
    {
      "cell_type": "markdown",
      "source": [
        "2. **Ingresar dato decimal:**"
      ],
      "metadata": {
        "id": "AT2Br-BNF_ZR"
      }
    },
    {
      "cell_type": "code",
      "source": [
        "NombreDeVariable = input(\"Ingrese un dato decimal :\")\n",
        "\n",
        "print(\"Tu dato tipo decimal paso a ser tipo :\",type(NombreDeVariable))"
      ],
      "metadata": {
        "colab": {
          "base_uri": "https://localhost:8080/"
        },
        "id": "DH-FlJdNGD2M",
        "outputId": "8448b6a9-013d-4d5e-9e7b-bb03b9825b72"
      },
      "execution_count": 14,
      "outputs": [
        {
          "output_type": "stream",
          "name": "stdout",
          "text": [
            "Ingrese un dato decimal :2.0\n",
            "Tu dato tipo decimal paso a ser tipo : <class 'str'>\n"
          ]
        }
      ]
    },
    {
      "cell_type": "markdown",
      "source": [
        "3.**Ingresar dato booleano:**"
      ],
      "metadata": {
        "id": "SbqEFIfWGJNI"
      }
    },
    {
      "cell_type": "code",
      "source": [
        "NombreDeVariable = input(\"Ingrese un dato booleano :\")\n",
        "\n",
        "print(\"Tu dato tipo booleano paso a ser tipo :\",type(NombreDeVariable))"
      ],
      "metadata": {
        "colab": {
          "base_uri": "https://localhost:8080/"
        },
        "id": "8i5E-1hXGXb4",
        "outputId": "258b0d6e-230a-47b3-c980-b4d8b4991c67"
      },
      "execution_count": 15,
      "outputs": [
        {
          "output_type": "stream",
          "name": "stdout",
          "text": [
            "Ingrese un dato booleano :True\n",
            "Tu dato tipo booleano paso a ser tipo : <class 'str'>\n"
          ]
        }
      ]
    },
    {
      "cell_type": "markdown",
      "source": [
        "Con esto podemos ver que sin importar el dato que ingresemos, este siempre pasara a ser de tipo `str`, hay que tomar este dato en cuenta ya que si por ejemplo queremos hacer un codigo el cual se le sume `10` al dato que ingrese el usuario, seguramente pensarias en lo siguiente :"
      ],
      "metadata": {
        "id": "HSSNpxnmGqiM"
      }
    },
    {
      "cell_type": "code",
      "source": [
        "NombreDeVariable = input(\"Ingrese un numero para sumarle 10 : \")\n",
        "\n",
        "print(\"Tu numero mas 10 es :\", NombreDeVariable + 10)"
      ],
      "metadata": {
        "colab": {
          "base_uri": "https://localhost:8080/",
          "height": 198
        },
        "collapsed": true,
        "id": "BVAHDmuNHkfS",
        "outputId": "70b84af6-3092-4a52-88ea-806a1f5e8f96"
      },
      "execution_count": 18,
      "outputs": [
        {
          "name": "stdout",
          "output_type": "stream",
          "text": [
            "Ingrese un numero para sumarle 10 : 5\n"
          ]
        },
        {
          "output_type": "error",
          "ename": "TypeError",
          "evalue": "can only concatenate str (not \"int\") to str",
          "traceback": [
            "\u001b[0;31m---------------------------------------------------------------------------\u001b[0m",
            "\u001b[0;31mTypeError\u001b[0m                                 Traceback (most recent call last)",
            "\u001b[0;32m<ipython-input-18-c91712ecd359>\u001b[0m in \u001b[0;36m<cell line: 3>\u001b[0;34m()\u001b[0m\n\u001b[1;32m      1\u001b[0m \u001b[0mNombreDeVariable\u001b[0m \u001b[0;34m=\u001b[0m \u001b[0minput\u001b[0m\u001b[0;34m(\u001b[0m\u001b[0;34m\"Ingrese un numero para sumarle 10 : \"\u001b[0m\u001b[0;34m)\u001b[0m\u001b[0;34m\u001b[0m\u001b[0;34m\u001b[0m\u001b[0m\n\u001b[1;32m      2\u001b[0m \u001b[0;34m\u001b[0m\u001b[0m\n\u001b[0;32m----> 3\u001b[0;31m \u001b[0mprint\u001b[0m\u001b[0;34m(\u001b[0m\u001b[0;34m\"Tu numero mas 10 es :\"\u001b[0m\u001b[0;34m,\u001b[0m \u001b[0mNombreDeVariable\u001b[0m \u001b[0;34m+\u001b[0m \u001b[0;36m10\u001b[0m\u001b[0;34m)\u001b[0m\u001b[0;34m\u001b[0m\u001b[0;34m\u001b[0m\u001b[0m\n\u001b[0m",
            "\u001b[0;31mTypeError\u001b[0m: can only concatenate str (not \"int\") to str"
          ]
        }
      ]
    },
    {
      "cell_type": "markdown",
      "source": [
        "Esto claramente generara un error, ya que como dijimos, la funcion `input()` transforma cualquier dato que le ingresemos a `str`, y en el anterior codigo estamos tratando de sumarle `10` a un dato tipo `str`.\n",
        "\n",
        "* `¿Como se te ocurre que podriamos solucionar ese error?`\n",
        "\n",
        "\n",
        "\n",
        "\n",
        "-\n",
        "\n",
        "\n",
        "-\n",
        "\n",
        "\n",
        "-\n",
        "\n",
        "\n",
        "-\n",
        "\n",
        "\n",
        "\n",
        "-\n",
        "\n",
        "-\n",
        "Solucion :"
      ],
      "metadata": {
        "id": "orzxX4sVH7DG"
      }
    },
    {
      "cell_type": "code",
      "source": [
        "NombreDeVariable = input(\"Ingrese un numero para sumarle 10 : \")\n",
        "\n",
        "print(\"Tu numero mas 10 es :\", int(NombreDeVariable) + 10)"
      ],
      "metadata": {
        "colab": {
          "base_uri": "https://localhost:8080/"
        },
        "collapsed": true,
        "id": "u-zXDu-2Ih9X",
        "outputId": "52d001bf-91fd-4d79-d779-b32e9e1ac86b"
      },
      "execution_count": 19,
      "outputs": [
        {
          "output_type": "stream",
          "name": "stdout",
          "text": [
            "Ingrese un numero para sumarle 10 : 10\n",
            "Tu numero mas 10 es : 20\n"
          ]
        }
      ]
    },
    {
      "cell_type": "markdown",
      "source": [
        "La solucion se basa en transformar nuestro dato de tipo `str` en un dato tipo `int` mediante la funcion de transmutacion de tipo `int()`"
      ],
      "metadata": {
        "id": "lTWfU_vGIpJS"
      }
    },
    {
      "cell_type": "markdown",
      "source": [
        "\n",
        "\n",
        "---\n",
        "La transmutacion de tipo en el contexto de la funcion `input()` tambien se puede lograr metiendo el `input()` dentro de alguna funcion de transmutacion de tipo `{int(),float(),bool()}`\n",
        "\n",
        "- **Ejemplo :**\n"
      ],
      "metadata": {
        "id": "WusxXs9njAjH"
      }
    },
    {
      "cell_type": "code",
      "source": [
        "VariableAtipoEntero = int(input(\"Ingresa un dato tipo int :\"))\n",
        "\n",
        "print(\"El tipo de dato ingresado es : \",type(VariableAtipoEntero))"
      ],
      "metadata": {
        "colab": {
          "base_uri": "https://localhost:8080/"
        },
        "id": "8-V_QeanjYet",
        "outputId": "4b52ecfc-88b9-4f79-c0d8-b9119971e767"
      },
      "execution_count": 21,
      "outputs": [
        {
          "output_type": "stream",
          "name": "stdout",
          "text": [
            "Ingresa un dato tipo int :5\n",
            "El tipo de dato ingresado es :  <class 'int'>\n"
          ]
        }
      ]
    },
    {
      "cell_type": "markdown",
      "source": [
        "Con este ejemplo podemos ver que efectivamente el tipo de dato cambia de `str` a `int` mediante la funcion `int()`, hay que tener cuidado si hacemos esto ya que si el usuario ingresa un texto y no un numero esto generara un error al momento de cambiar a tipo `int` :"
      ],
      "metadata": {
        "id": "U76p-HJSjqAU"
      }
    },
    {
      "cell_type": "code",
      "source": [
        "VariableAtipoEntero = int(input(\"Ingresa un dato tipo int :\")) #Ingresamos un dato tipo texto y no un dato tipo entero.\n",
        "\n",
        "print(\"El tipo de dato ingresado es : \",type(VariableAtipoEntero))"
      ],
      "metadata": {
        "colab": {
          "base_uri": "https://localhost:8080/",
          "height": 198
        },
        "id": "iQDtcQT8kFWR",
        "outputId": "94ff3e2b-c466-4fa2-a1e3-d56c8e407a35"
      },
      "execution_count": 22,
      "outputs": [
        {
          "name": "stdout",
          "output_type": "stream",
          "text": [
            "Ingresa un dato tipo int :texto\n"
          ]
        },
        {
          "output_type": "error",
          "ename": "ValueError",
          "evalue": "invalid literal for int() with base 10: 'texto'",
          "traceback": [
            "\u001b[0;31m---------------------------------------------------------------------------\u001b[0m",
            "\u001b[0;31mValueError\u001b[0m                                Traceback (most recent call last)",
            "\u001b[0;32m<ipython-input-22-0df83598e6ff>\u001b[0m in \u001b[0;36m<cell line: 1>\u001b[0;34m()\u001b[0m\n\u001b[0;32m----> 1\u001b[0;31m \u001b[0mVariableAtipoEntero\u001b[0m \u001b[0;34m=\u001b[0m \u001b[0mint\u001b[0m\u001b[0;34m(\u001b[0m\u001b[0minput\u001b[0m\u001b[0;34m(\u001b[0m\u001b[0;34m\"Ingresa un dato tipo int :\"\u001b[0m\u001b[0;34m)\u001b[0m\u001b[0;34m)\u001b[0m\u001b[0;34m\u001b[0m\u001b[0;34m\u001b[0m\u001b[0m\n\u001b[0m\u001b[1;32m      2\u001b[0m \u001b[0;34m\u001b[0m\u001b[0m\n\u001b[1;32m      3\u001b[0m \u001b[0mprint\u001b[0m\u001b[0;34m(\u001b[0m\u001b[0;34m\"El tipo de dato ingresado es : \"\u001b[0m\u001b[0;34m,\u001b[0m\u001b[0mtype\u001b[0m\u001b[0;34m(\u001b[0m\u001b[0mVariableAtipoEntero\u001b[0m\u001b[0;34m)\u001b[0m\u001b[0;34m)\u001b[0m\u001b[0;34m\u001b[0m\u001b[0;34m\u001b[0m\u001b[0m\n",
            "\u001b[0;31mValueError\u001b[0m: invalid literal for int() with base 10: 'texto'"
          ]
        }
      ]
    },
    {
      "cell_type": "markdown",
      "source": [
        "Pero si manejamos de una manera cuidadosa el cambio de tipo entonces no deberia generar ningun error."
      ],
      "metadata": {
        "id": "5yw0D7VHkRfk"
      }
    },
    {
      "cell_type": "markdown",
      "source": [
        "\n",
        "\n",
        "---\n",
        "\n",
        "* Mas cambios de tipos de la funcion `input()`."
      ],
      "metadata": {
        "id": "SD2p7iL-kYUi"
      }
    },
    {
      "cell_type": "markdown",
      "source": [
        "1. Leer dato de tipo flotante :"
      ],
      "metadata": {
        "id": "BZ68zuqckgVi"
      }
    },
    {
      "cell_type": "code",
      "source": [
        "VariableTipoFloat = float(input(\"Ingresa un dato tipo float :\"))\n",
        "\n",
        "print(\"El tipo de dato ingresado es : \",type(VariableTipoFloat))"
      ],
      "metadata": {
        "colab": {
          "base_uri": "https://localhost:8080/",
          "height": 198
        },
        "collapsed": true,
        "id": "j9fN0jhHkXxC",
        "outputId": "7f2c3799-3491-46db-cd38-fa0438e59594"
      },
      "execution_count": 28,
      "outputs": [
        {
          "name": "stdout",
          "output_type": "stream",
          "text": [
            "Ingresa un dato tipo float :ola\n"
          ]
        },
        {
          "output_type": "error",
          "ename": "ValueError",
          "evalue": "could not convert string to float: 'ola'",
          "traceback": [
            "\u001b[0;31m---------------------------------------------------------------------------\u001b[0m",
            "\u001b[0;31mValueError\u001b[0m                                Traceback (most recent call last)",
            "\u001b[0;32m<ipython-input-28-5db219434d4a>\u001b[0m in \u001b[0;36m<cell line: 1>\u001b[0;34m()\u001b[0m\n\u001b[0;32m----> 1\u001b[0;31m \u001b[0mVariableAtipoEntero\u001b[0m \u001b[0;34m=\u001b[0m \u001b[0mfloat\u001b[0m\u001b[0;34m(\u001b[0m\u001b[0minput\u001b[0m\u001b[0;34m(\u001b[0m\u001b[0;34m\"Ingresa un dato tipo float :\"\u001b[0m\u001b[0;34m)\u001b[0m\u001b[0;34m)\u001b[0m\u001b[0;34m\u001b[0m\u001b[0;34m\u001b[0m\u001b[0m\n\u001b[0m\u001b[1;32m      2\u001b[0m \u001b[0;34m\u001b[0m\u001b[0m\n\u001b[1;32m      3\u001b[0m \u001b[0mprint\u001b[0m\u001b[0;34m(\u001b[0m\u001b[0;34m\"El tipo de dato ingresado es : \"\u001b[0m\u001b[0;34m,\u001b[0m\u001b[0mtype\u001b[0m\u001b[0;34m(\u001b[0m\u001b[0mVariableAtipoEntero\u001b[0m\u001b[0;34m)\u001b[0m\u001b[0;34m)\u001b[0m\u001b[0;34m\u001b[0m\u001b[0;34m\u001b[0m\u001b[0m\n",
            "\u001b[0;31mValueError\u001b[0m: could not convert string to float: 'ola'"
          ]
        }
      ]
    },
    {
      "cell_type": "markdown",
      "source": [
        "\n",
        "\n",
        "---\n",
        "2. Leer dato tipo bool :\n"
      ],
      "metadata": {
        "id": "d5efdr1xkpk6"
      }
    },
    {
      "cell_type": "code",
      "source": [
        "VariableTipoBool = bool(input(\"Ingresa un dato tipo bool :\"))\n",
        "\n",
        "print(\"El tipo de dato ingresado es : \",type(VariableTipoBool))"
      ],
      "metadata": {
        "colab": {
          "base_uri": "https://localhost:8080/"
        },
        "collapsed": true,
        "id": "n6wA058Yku2Z",
        "outputId": "2d081016-b019-4760-f8d9-6914c1d4e3c4"
      },
      "execution_count": 27,
      "outputs": [
        {
          "output_type": "stream",
          "name": "stdout",
          "text": [
            "Ingresa un dato tipo bool :ola\n",
            "El tipo de dato ingresado es :  <class 'bool'>\n"
          ]
        }
      ]
    },
    {
      "cell_type": "markdown",
      "source": [
        "De esta manera mediante la lectura de datos `input() `podemos obtener los tipos de datos que necesitemos y trabajar con ellos de una manera mas comoda."
      ],
      "metadata": {
        "id": "QumQ1kaHk-fT"
      }
    },
    {
      "cell_type": "markdown",
      "source": [
        "- Programa para sumarle `2.5` a un dato flotante ingresado por el usuario :"
      ],
      "metadata": {
        "id": "HwVed5HglMsa"
      }
    },
    {
      "cell_type": "code",
      "source": [
        "VariableTipoFloat = float(input(\"Ingresa un dato tipo float :\"))\n",
        "\n",
        "print(\"El tipo de dato float ingresado mas 2.5 es : \",VariableTipoFloat+2.5)"
      ],
      "metadata": {
        "id": "C2wa3sW8lbLW"
      },
      "execution_count": null,
      "outputs": []
    },
    {
      "cell_type": "markdown",
      "source": [
        "\n",
        "\n",
        "---\n",
        "* Programa para concatenar el nombre del usuario con la cadena de texto `\"Hola\"`.\n"
      ],
      "metadata": {
        "id": "jiv8S0Ggl6jL"
      }
    },
    {
      "cell_type": "code",
      "source": [
        "VariableTipoTexto = input(\"Ingresa tu nombre :\")\n",
        "\n",
        "print(\"Hola\",VariableTipoTexto)"
      ],
      "metadata": {
        "id": "yvGRWONQmEv-"
      },
      "execution_count": null,
      "outputs": []
    },
    {
      "cell_type": "markdown",
      "source": [
        "* Los anteriores ejemplos contienen solo una lectura de dato dado por el usuario mediante un solo `input()`, pero en un programa podemos poner mas de un solo `input()` para almacenar varios datos dados por el usuario de la siguiente forma :"
      ],
      "metadata": {
        "id": "FmZQC87xmaJv"
      }
    },
    {
      "cell_type": "code",
      "source": [
        "PrimerVariableDadaPorElUsuario = input(\"Ingrese la primer variable : \")\n",
        "\n",
        "SegundaVariableDadaPorElUsuario = input(\"Ingrese la segunda variable : \")\n",
        "\n",
        "print(\"Primer variable dada por el usuario : \",PrimerVariableDadaPorElUsuario)\n",
        "\n",
        "print(\"Primer variable dada por el usuario : \",SegundaVariableDadaPorElUsuario)"
      ],
      "metadata": {
        "colab": {
          "base_uri": "https://localhost:8080/"
        },
        "collapsed": true,
        "id": "WI6GjmpBnFXe",
        "outputId": "2ec2e2ae-22ee-4371-d6fe-cd0634f420ef"
      },
      "execution_count": 32,
      "outputs": [
        {
          "output_type": "stream",
          "name": "stdout",
          "text": [
            "Ingrese la primer variable : Hola\n",
            "Ingrese la segunda variable : 5\n",
            "Primer variable dada por el usuario :  Hola\n",
            "Primer variable dada por el usuario :  5\n"
          ]
        }
      ]
    },
    {
      "cell_type": "markdown",
      "source": [
        "Como podemos ver en el ejemplo tenemos dos lecturas de datos o inputs, la primera se almacena dentro de la variable : `PrimerVariableDadaPorElUsuario` y la segunda segunda lectura de datos se guarda dentro de :`SegundaVariableDadaPorElUsuario`\n",
        "\n",
        "- Y finalmente se imprimen estas dos variables mediante las funciones `print()`."
      ],
      "metadata": {
        "id": "BMHn9z7Rn-DV"
      }
    },
    {
      "cell_type": "markdown",
      "source": [
        "\n",
        "\n",
        "---\n",
        "Mediante dos lecturas de datos podemos crear progamas un poco mas complejos como por ejemplo un programa que calcule la suma de dos variables numericas dadas por el usuario :\n"
      ],
      "metadata": {
        "id": "SGBumjP0pCRG"
      }
    },
    {
      "cell_type": "code",
      "source": [
        "PrimerNumero = int(input(\"Primer numero : \"))\n",
        "SegundoNumero = int(input(\"Segundo numero : \"))\n",
        "\n",
        "print(\"La suma de ambos numeros es : \", PrimerNumero + SegundoNumero)"
      ],
      "metadata": {
        "colab": {
          "base_uri": "https://localhost:8080/"
        },
        "id": "P5xOjP8qpz3w",
        "outputId": "ffa8d7f5-54c3-4d1a-99c5-4b85f121eea1"
      },
      "execution_count": 35,
      "outputs": [
        {
          "output_type": "stream",
          "name": "stdout",
          "text": [
            "Primer numero : 12\n",
            "Segundo numero : 5\n",
            "La suma de ambos numeros es :  17\n"
          ]
        }
      ]
    },
    {
      "cell_type": "markdown",
      "source": [
        "* En el anterior ejemplo primero se pide `\"Primer numero\"` al usuario y el dato ingresado se guarda dentro de la variable `PrimerNumero` pero mediante un transmutador de tipo `int()` cambia de su tipo de dato inicial texto `str` al dato entero `int()`, Despues se pide `\"Segundo numero\"` que se almacena dentro de la variable `SegundoNumero` y mediante un transmutador de tipo cambia de texto `str` a entero `int`.\n",
        "\n",
        "* Finalmente se imprime la suma de ambas variables `(PrimerNumero + SegundoNumero)` y se concatenan al texto `\"La suma de ambos numeros es : \"`"
      ],
      "metadata": {
        "id": "8-VBc6MfqKxt"
      }
    },
    {
      "cell_type": "markdown",
      "source": [
        "\n",
        "\n",
        "---\n",
        "\n",
        "#**Preguntas acerca de lecturas de datos.**\n"
      ],
      "metadata": {
        "id": "PA6uaOXHrumd"
      }
    },
    {
      "cell_type": "markdown",
      "source": [
        "* En el siguiente ejemplo menciona :\n",
        " 1. `Cual sera la salida si el usuario ingresa \"Hola\"`."
      ],
      "metadata": {
        "id": "r5WUu6iMsEnP"
      }
    },
    {
      "cell_type": "code",
      "source": [
        "Variable1 = input(\"Ingrese algo : \")\n",
        "\n",
        "\n",
        "print(Variable1+\"Manolo\")"
      ],
      "metadata": {
        "colab": {
          "base_uri": "https://localhost:8080/"
        },
        "collapsed": true,
        "id": "0nF8-7iAs4QK",
        "outputId": "f5201652-188e-4f60-9a4f-a046c722936d"
      },
      "execution_count": 36,
      "outputs": [
        {
          "output_type": "stream",
          "name": "stdout",
          "text": [
            "Primer numero : Hola\n",
            "HolaManolo\n"
          ]
        }
      ]
    },
    {
      "cell_type": "markdown",
      "source": [
        "\n",
        "\n",
        "---\n",
        "\n",
        "* En el siguiente ejemplo menciona :\n",
        " 1. `Cual sera la salida si el usuario ingresa 10`."
      ],
      "metadata": {
        "id": "_ict_U-XtVDj"
      }
    },
    {
      "cell_type": "code",
      "source": [
        "Variable1 = input(\"Ingrese un numero : \")\n",
        "\n",
        "\n",
        "print(Variable1 + 10)"
      ],
      "metadata": {
        "id": "eBBq055stbku"
      },
      "execution_count": null,
      "outputs": []
    },
    {
      "cell_type": "markdown",
      "source": [
        "\n",
        "\n",
        "---\n",
        "\n",
        "\n",
        "* En el siguiente ejemplo menciona :\n",
        " 1. `Cual sera la salida si el usuario ingresa True`.\n"
      ],
      "metadata": {
        "id": "lo8Uj_y7t2_x"
      }
    },
    {
      "cell_type": "code",
      "source": [
        "Variable1 = input(\"Ingrese un numero : \")\n",
        "\n",
        "\n",
        "print(\"La condicion es :\",Variable1)"
      ],
      "metadata": {
        "colab": {
          "base_uri": "https://localhost:8080/"
        },
        "collapsed": true,
        "id": "e6Se9KxxuC15",
        "outputId": "a0383bfb-d60e-4a6e-ae5e-0dddb9e4246b"
      },
      "execution_count": 38,
      "outputs": [
        {
          "output_type": "stream",
          "name": "stdout",
          "text": [
            "Ingrese un numero : True\n",
            "La condicion es : True\n"
          ]
        }
      ]
    },
    {
      "cell_type": "markdown",
      "source": [
        "---\n",
        "\n",
        "* En el siguiente ejemplo menciona :\n",
        " 1. `Cual sera la salida si el usuario ingresa 1 y 10`."
      ],
      "metadata": {
        "id": "4SeQLtgft7jc"
      }
    },
    {
      "cell_type": "code",
      "source": [
        "Variable1 = input(\"Ingrese un numero : \")\n",
        "Variable2 = input(\"Otro numero : \")\n",
        "\n",
        "print(Variable1+Variable2)"
      ],
      "metadata": {
        "colab": {
          "base_uri": "https://localhost:8080/"
        },
        "collapsed": true,
        "id": "Mbz4GoCNubUl",
        "outputId": "615d4922-aae9-44ed-976f-3b578d9e8e5c"
      },
      "execution_count": 39,
      "outputs": [
        {
          "output_type": "stream",
          "name": "stdout",
          "text": [
            "Ingrese un numero : 1\n",
            "Otro numero : 10\n",
            "110\n"
          ]
        }
      ]
    },
    {
      "cell_type": "markdown",
      "source": [
        "---\n",
        "\n",
        "* En el siguiente ejemplo menciona :\n",
        " 1. `Cual sera la salida si el usuario ingresa \"Hola\" y \"Taquero\"`."
      ],
      "metadata": {
        "id": "pAg4PnxWt8Mp"
      }
    },
    {
      "cell_type": "code",
      "source": [
        "Variable1 = input(\"Ingrese un numero : \")\n",
        "Variable2 = input(\"Otro numero : \")\n",
        "\n",
        "print(Variable1+Variable2)"
      ],
      "metadata": {
        "id": "p-ihqg1tvh22"
      },
      "execution_count": null,
      "outputs": []
    },
    {
      "cell_type": "markdown",
      "source": [
        "---\n",
        "\n",
        "* En el siguiente ejemplo menciona :\n",
        " 1. `Cual sera la salida si el usuario ingresa \"Jamon\" y 4`."
      ],
      "metadata": {
        "id": "uUhTMytKt87Q"
      }
    },
    {
      "cell_type": "code",
      "source": [
        "Variable1 = input(\"Ingrese un texto : \")\n",
        "Variable2 = int(input(\"Ingrese un numero : \"))\n",
        "\n",
        "print(Variable1*Variable2)"
      ],
      "metadata": {
        "colab": {
          "base_uri": "https://localhost:8080/"
        },
        "collapsed": true,
        "id": "gpyvhVtpvp0k",
        "outputId": "2abd442b-ea90-4f1b-e100-f783e712a133"
      },
      "execution_count": 40,
      "outputs": [
        {
          "output_type": "stream",
          "name": "stdout",
          "text": [
            "Ingrese un texto : Jamon\n",
            "Ingrese un numero : 4\n",
            "JamonJamonJamonJamon\n"
          ]
        }
      ]
    },
    {
      "cell_type": "markdown",
      "source": [
        "---\n",
        "\n",
        "* En el siguiente ejemplo menciona :\n",
        " 1. `Cual sera la salida si el usuario ingresa 2 y 3`."
      ],
      "metadata": {
        "id": "h6VW57mht9wc"
      }
    },
    {
      "cell_type": "code",
      "source": [
        "Variable1 = input(\"Ingrese un texto : \")\n",
        "Variable2 = int(input(\"Ingrese un numero : \"))\n",
        "\n",
        "print(int(Variable1)*Variable2)"
      ],
      "metadata": {
        "id": "b4IgoXJzv7ch"
      },
      "execution_count": null,
      "outputs": []
    },
    {
      "cell_type": "markdown",
      "source": [
        "---\n",
        "\n",
        "* En el siguiente ejemplo menciona :\n",
        " 1. `Cual sera la salida si el usuario ingresa 5 y \"Hola\"`."
      ],
      "metadata": {
        "id": "hRokwE4Ht-WF"
      }
    },
    {
      "cell_type": "code",
      "source": [
        "Variable1 = input(\"Ingrese un texto : \")\n",
        "Variable2 = input(\"Ingrese un numero : \")\n",
        "\n",
        "print(Variable1*Variable2)"
      ],
      "metadata": {
        "id": "lcYz2fW-xDmm"
      },
      "execution_count": null,
      "outputs": []
    },
    {
      "cell_type": "markdown",
      "source": [
        "---\n",
        "\n",
        "* En el siguiente ejemplo menciona :\n",
        " 1. `Cual sera la salida si el usuario ingresa : Hola y 3 y Mundo`."
      ],
      "metadata": {
        "id": "BvyMVtYCt-6a"
      }
    },
    {
      "cell_type": "code",
      "source": [
        "Variable1 = input(\"Ingrese un texto: \")\n",
        "Variable2 = input(\"Ingrese un numero: \")\n",
        "Variable3 = input(\"Ingrese otro numero: \")\n",
        "\n",
        "print(Variable1 * int(Variable2) + Variable3)\n"
      ],
      "metadata": {
        "colab": {
          "base_uri": "https://localhost:8080/"
        },
        "collapsed": true,
        "id": "RPypdEi3xTnT",
        "outputId": "7fd36061-1e9f-41b9-ebd4-97d748a677f1"
      },
      "execution_count": 41,
      "outputs": [
        {
          "output_type": "stream",
          "name": "stdout",
          "text": [
            "Ingrese un texto: Hola\n",
            "Ingrese un numero: 3\n",
            "Ingrese otro numero: !\n",
            "HolaHolaHola!\n"
          ]
        }
      ]
    },
    {
      "cell_type": "markdown",
      "source": [
        "---\n",
        "\n",
        "* En el siguiente ejemplo menciona :\n",
        " 1. `Que se imprimira si el usuario ingresa 3 y 2 y \"Adios \"`."
      ],
      "metadata": {
        "id": "ThYqFe69t_cX"
      }
    },
    {
      "cell_type": "code",
      "source": [
        "Variable1 = input(\"Ingrese un numero: \")\n",
        "Variable2 = input(\"Ingrese otro numero: \")\n",
        "Variable3 = input(\"Ingrese un texto: \")\n",
        "\n",
        "print(Variable3 * (int(Variable1) + int(Variable2)))\n"
      ],
      "metadata": {
        "colab": {
          "base_uri": "https://localhost:8080/"
        },
        "collapsed": true,
        "id": "5c3BBNZ5ynAb",
        "outputId": "cf0c63a6-c01b-445a-8e29-d834e0f9c7e3"
      },
      "execution_count": 42,
      "outputs": [
        {
          "output_type": "stream",
          "name": "stdout",
          "text": [
            "Ingrese un numero: 3\n",
            "Ingrese otro numero: 2\n",
            "Ingrese un texto: Adios\n",
            "AdiosAdiosAdiosAdiosAdios\n"
          ]
        }
      ]
    },
    {
      "cell_type": "markdown",
      "source": [
        "---\n",
        "\n",
        "* En el siguiente ejemplo menciona :\n",
        " 1. `Que se imprimira si el usuario ingresa \"Hola\", \" Mundo\" y 3`."
      ],
      "metadata": {
        "id": "JmHH3a9guABo"
      }
    },
    {
      "cell_type": "code",
      "source": [
        "Variable1 = input(\"Ingrese un texto: \")\n",
        "Variable2 = input(\"Ingrese un texto: \")\n",
        "Variable3 = input(\"Ingrese un numero: \")\n",
        "\n",
        "print((Variable1 + Variable2) * int(Variable3))\n"
      ],
      "metadata": {
        "colab": {
          "base_uri": "https://localhost:8080/"
        },
        "collapsed": true,
        "id": "Lh_BptQQzH0G",
        "outputId": "12065f56-03bc-44be-8be8-7ba8433d73cf"
      },
      "execution_count": 43,
      "outputs": [
        {
          "output_type": "stream",
          "name": "stdout",
          "text": [
            "Ingrese un texto: Hola\n",
            "Ingrese un texto: Mundo\n",
            "Ingrese un numero: 3\n",
            "HolaMundoHolaMundoHolaMundo\n"
          ]
        }
      ]
    },
    {
      "cell_type": "markdown",
      "source": [
        "---\n",
        "\n",
        "* En el siguiente ejemplo menciona :\n",
        " 1. `Que se imprimira si el usuario ingresa 4 y 5 y 9`."
      ],
      "metadata": {
        "id": "JtvjKYnNuAl4"
      }
    },
    {
      "cell_type": "code",
      "source": [
        "Variable1 = int(input(\"Ingrese un numero: \"))\n",
        "Variable2 = int(input(\"Ingrese otro numero: \"))\n",
        "Variable3 = int(input(\"Ingrese un tercer numero: \"))\n",
        "\n",
        "if Variable1 + Variable2 == Variable3:\n",
        "    print(\"La suma del primer y segundo numero es igual al tercero\")\n",
        "elif Variable1 + Variable3 == Variable2:\n",
        "    print(\"La suma del primero y tercero es igual al segundo\")\n",
        "else:\n",
        "    print(\"Ninguna suma es igual a alguno de los numeros\")\n"
      ],
      "metadata": {
        "id": "Xw_SETUCzor1"
      },
      "execution_count": null,
      "outputs": []
    },
    {
      "cell_type": "markdown",
      "source": [
        "---\n",
        "\n",
        "* En el siguiente ejemplo menciona :\n",
        " 1. `Que se imprimira si el usuario ingresa 2, 3 y 6`."
      ],
      "metadata": {
        "id": "q5vSko0guBDh"
      }
    },
    {
      "cell_type": "code",
      "source": [
        "Variable1 = int(input(\"Ingrese un numero: \"))\n",
        "Variable2 = int(input(\"Ingrese otro numero: \"))\n",
        "Variable3 = int(input(\"Ingrese un tercer numero: \"))\n",
        "\n",
        "if Variable1 * Variable2 == Variable3:\n",
        "    print(\"El producto del primer y segundo numero es igual al tercero\")\n",
        "elif Variable1 * Variable3 == Variable2:\n",
        "    print(\"El producto del primero y tercero es igual al segundo\")\n",
        "else:\n",
        "    print(\"Ningun producto es igual a alguno de los numeros\")\n"
      ],
      "metadata": {
        "id": "oAMeKEelz3Uu"
      },
      "execution_count": null,
      "outputs": []
    },
    {
      "cell_type": "markdown",
      "source": [
        "---\n",
        "\n",
        "* En el siguiente ejemplo menciona :\n",
        " 1. `Que se imprimira si el usuario ingresa 10 y 4 y 6`."
      ],
      "metadata": {
        "id": "6EYQZX2puBhu"
      }
    },
    {
      "cell_type": "code",
      "source": [
        "Variable1 = int(input(\"Ingrese un numero: \"))\n",
        "Variable2 = int(input(\"Ingrese otro numero: \"))\n",
        "Variable3 = int(input(\"Ingrese un tercer numero: \"))\n",
        "\n",
        "if Variable1 - Variable2 == Variable3:\n",
        "    print(\"La resta del primer y segundo numero es igual al tercero\")\n",
        "elif Variable2 - Variable3 == Variable1:\n",
        "    print(\"La resta del segundo y tercer numero es igual al primero\")\n",
        "else:\n",
        "    print(\"Ninguna resta es igual a alguno de los numeros\")\n"
      ],
      "metadata": {
        "id": "zd4JspBK0NpB"
      },
      "execution_count": null,
      "outputs": []
    },
    {
      "cell_type": "markdown",
      "source": [
        "---\n",
        "\n",
        "* En el siguiente ejemplo menciona :\n",
        " 1. `Que se imprimira si el usuario ingresa 40, 30 y 20`.\n",
        "\n",
        ""
      ],
      "metadata": {
        "id": "XmWb0x2Y0QXG"
      }
    },
    {
      "cell_type": "code",
      "source": [
        "Variable1 = int(input(\"Ingrese un numero: \"))\n",
        "Variable2 = int(input(\"Ingrese otro numero: \"))\n",
        "Variable3 = int(input(\"Ingrese un tercer numero: \"))\n",
        "\n",
        "if Variable1 + Variable2 + Variable3 > 100:\n",
        "    print(\"La suma de los tres numeros es mayor que 100\")\n",
        "elif Variable1 + Variable2 + Variable3 == 100:\n",
        "    print(\"La suma de los tres numeros es igual a 100\")\n",
        "else:\n",
        "    print(\"La suma de los tres numeros es menor que 100\")\n"
      ],
      "metadata": {
        "id": "pm-Y49B30emq"
      },
      "execution_count": null,
      "outputs": []
    }
  ]
}
