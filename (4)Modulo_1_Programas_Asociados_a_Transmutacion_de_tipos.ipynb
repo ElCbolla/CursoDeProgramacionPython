{
  "nbformat": 4,
  "nbformat_minor": 0,
  "metadata": {
    "colab": {
      "provenance": [],
      "authorship_tag": "ABX9TyOCSHkHC2QD4DhYUW+Uhqar",
      "include_colab_link": true
    },
    "kernelspec": {
      "name": "python3",
      "display_name": "Python 3"
    },
    "language_info": {
      "name": "python"
    }
  },
  "cells": [
    {
      "cell_type": "markdown",
      "metadata": {
        "id": "view-in-github",
        "colab_type": "text"
      },
      "source": [
        "<a href=\"https://colab.research.google.com/github/ElCbolla/CursoDeProgramacionPython/blob/main/(4)Programas_Asociados_a_Transmutacion_de_tipos.ipynb\" target=\"_parent\"><img src=\"https://colab.research.google.com/assets/colab-badge.svg\" alt=\"Open In Colab\"/></a>"
      ]
    },
    {
      "cell_type": "markdown",
      "source": [
        "**Crea un programa donde :**\n",
        "\n",
        "1.   `Se definan dos variables, Ambas variables deben ser de tipo entero.`\n",
        "2.   `Al final del codigo las variables deben cambiar a tipo texto`\n",
        "3.    `Dentro del print ingresa tus variables concatenadas.`\n",
        "\n"
      ],
      "metadata": {
        "id": "U8HURwmd59M1"
      }
    },
    {
      "cell_type": "code",
      "execution_count": null,
      "metadata": {
        "id": "NAxK_4A_uh-p"
      },
      "outputs": [],
      "source": [
        "#Programa-1\n",
        "\n",
        "\n",
        "\n",
        "print() #Dentro del print ingresa tus variables para que cambien a texto."
      ]
    },
    {
      "cell_type": "markdown",
      "source": [
        "**Crea un programa donde :**\n",
        "\n",
        "1.   `Se definan dos variables, Ambas variables deben ser de tipo float.`\n",
        "2.   `Al final del codigo las variables deben cambiar a tipo entero`\n",
        "3.    `Dentro del print ingresa tus variables concatenadas.`"
      ],
      "metadata": {
        "id": "W-LNZW7g7Vdi"
      }
    },
    {
      "cell_type": "code",
      "source": [
        "#Programa-2\n",
        "\n",
        "\n",
        "\n",
        "print() #Dentro del print ingresa tus variables para que cambien a entero."
      ],
      "metadata": {
        "id": "LsTDpVdj7UrO"
      },
      "execution_count": null,
      "outputs": []
    },
    {
      "cell_type": "markdown",
      "source": [
        "**Crea un programa donde :**\n",
        "\n",
        "1.   `Se definan dos variables, Ambas variables deben ser de tipo texto.`\n",
        "2.   `Al final del codigo las variables deben cambiar a tipo entero`\n",
        "3.    `Dentro del print ingresa tus variables concatenadas.`"
      ],
      "metadata": {
        "id": "vog3618V7zUw"
      }
    },
    {
      "cell_type": "code",
      "source": [
        "#Programa-3\n",
        "\n",
        "\n",
        "\n",
        "print() #Dentro del print ingresa tus variables para que cambien a texto."
      ],
      "metadata": {
        "id": "yIkeNWW971QZ"
      },
      "execution_count": null,
      "outputs": []
    },
    {
      "cell_type": "markdown",
      "source": [
        "**Crea un programa donde :**\n",
        "\n",
        "1.   `Se definan dos variables, Ambas variables deben ser de tipo flotante.`\n",
        "2.   `Al final del codigo las variables deben cambiar a tipo texto`\n",
        "3.    `Las variables deben estar concatenadas a textos que digan \"Tu variable1 es : (Valor de la variable1), y tu variable2 es : (Valor de la variable2)`\n",
        "\n",
        "**Ejemplo de la salida :**\n",
        "\n",
        "\n",
        "\n",
        "```\n",
        "Tu variable1 es : 1 y tu variable2 es : 5\n",
        "```\n",
        "\n"
      ],
      "metadata": {
        "id": "iZ0pgTRt8Fvh"
      }
    },
    {
      "cell_type": "code",
      "source": [
        "#Programa-4\n",
        "\n",
        "\n",
        "\n",
        "print()"
      ],
      "metadata": {
        "id": "hvEcv3SB8J5a"
      },
      "execution_count": null,
      "outputs": []
    },
    {
      "cell_type": "markdown",
      "source": [
        "**Crea un programa donde :**\n",
        "\n",
        "1.   `Se definan cuatro variables, dos deben ser tipo texto, y dos tipo entero.`\n",
        "\n",
        "2. `Concatena las variables de texto con las de numeros enteros unicamente por medio de ( + )`\n",
        "**Ejemplo de la salida :**\n",
        "```\n",
        "Tu VariableDeTexto1 es : 2 y tu VariableDeTexto2 es : 5\n",
        "```\n",
        "\n",
        "\n",
        "\n"
      ],
      "metadata": {
        "id": "fwRmZbqe8-Ix"
      }
    },
    {
      "cell_type": "code",
      "source": [
        "#Programa-5\n",
        "\n",
        "\n",
        "\n",
        "print()"
      ],
      "metadata": {
        "id": "imU_KQsSBJ4U"
      },
      "execution_count": null,
      "outputs": []
    },
    {
      "cell_type": "markdown",
      "source": [
        "**Crea un programa donde :**\n",
        "\n",
        "1.   **Se definan tres variables de texto, una de ellas debe contener `\"Tu variable es\"`, y las otras dos deben contener `\"2.5\"` y `\"1.2`.\"**\n",
        "\n",
        "2. Debes sumar la variable `\"2.5\"` con la `\"1.2\"` para conseguir` 3.7` y mostrarlo en la salida junto con la primera variable.\n",
        "\n",
        "**Ejemplo de la salida :**\n",
        "\n",
        "\n",
        "```\n",
        "Tu variable es : 3.7\n",
        "```\n",
        "\n"
      ],
      "metadata": {
        "id": "1bCnX7OS990p"
      }
    },
    {
      "cell_type": "code",
      "source": [
        "#Programa-6\n",
        "\n",
        "\n",
        "\n",
        "print()"
      ],
      "metadata": {
        "id": "WYkgDSe_-AgO"
      },
      "execution_count": null,
      "outputs": []
    }
  ]
}
