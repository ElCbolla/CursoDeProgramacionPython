{
  "nbformat": 4,
  "nbformat_minor": 0,
  "metadata": {
    "colab": {
      "provenance": [],
      "authorship_tag": "ABX9TyPHJltnZ6jf8aYQUHf75zYS",
      "include_colab_link": true
    },
    "kernelspec": {
      "name": "python3",
      "display_name": "Python 3"
    },
    "language_info": {
      "name": "python"
    }
  },
  "cells": [
    {
      "cell_type": "markdown",
      "metadata": {
        "id": "view-in-github",
        "colab_type": "text"
      },
      "source": [
        "<a href=\"https://colab.research.google.com/github/ElCbolla/CursoDeProgramacionPython/blob/main/(6)Modulo_2_Condicionales_Sencillas_Logicos.ipynb\" target=\"_parent\"><img src=\"https://colab.research.google.com/assets/colab-badge.svg\" alt=\"Open In Colab\"/></a>"
      ]
    },
    {
      "cell_type": "markdown",
      "source": [
        "Las condicionales son estructuras que funcionan para ejecutar una serie de acciones dependiendo si la condicion que establezcamos sea `True` o `False`.\n",
        "\n",
        "***Ejemplo :***\n",
        "\n",
        "Si tenemos las siguientes variables numericas :\n",
        "```\n",
        "A = 5\n",
        "\n",
        "B = 3\n",
        "```\n",
        "\n",
        "Y luego establecemos una condicional mediante la estructura de control `if` y despues establecemos la condicion que debe cumplirse mediante comparadores, como por ejemplo :\n",
        "\n",
        "\n",
        "\n",
        "```\n",
        "if A > B\n",
        "```\n",
        "\n",
        "Finalmente denbemos cerrar nuestra estructura de control por medio de un `( : )` de tal manera que nos quede de la siguiente forma :\n",
        "\n",
        "\n",
        "\n",
        "```\n",
        "if A > B:\n",
        "```\n",
        "\n",
        "Finalmente debemos presionar `enter` despues de los puntos dobles para generar una linea que este dentro de la condicional, o simplemente podemos acceder directamente a la linea de abajo de la condicion y presionar `space` o `tabulador` para entrar dentro de la condicion y poder ejecutar una serie de codigo si nuestra condicional se cumple.\n",
        "\n",
        "-\n",
        "\n",
        "Y finalmente el codigo deberia quedar algo asi:\n",
        "```\n",
        "1- if A > B:\n",
        "2-  print(\"a\")\n",
        "```\n",
        "- Si prestas atencion hay un pequeño espacio en la linea 2 respecto a la linea 1, es decir, la funcion `print()` no esta alineada con el `if`, cosa que es necesaria para poder acceder dentro de la condicional.\n",
        "\n",
        "\n"
      ],
      "metadata": {
        "id": "fqnC0guVZPQy"
      }
    },
    {
      "cell_type": "markdown",
      "source": [
        "Estructura correcta (Con un espacio en la linea despues del `if`)"
      ],
      "metadata": {
        "id": "fbuSzFiuk1yG"
      }
    },
    {
      "cell_type": "code",
      "execution_count": null,
      "metadata": {
        "colab": {
          "base_uri": "https://localhost:8080/"
        },
        "id": "M8SXw_LTXxFQ",
        "outputId": "c36175a8-0010-4a44-8b1d-31b81fd240f0"
      },
      "outputs": [
        {
          "output_type": "stream",
          "name": "stdout",
          "text": [
            "a\n"
          ]
        }
      ],
      "source": [
        "A = 5\n",
        "\n",
        "B = 3\n",
        "\n",
        "if A > B:\n",
        " print(\"a\")\n",
        "\n"
      ]
    },
    {
      "cell_type": "markdown",
      "source": [
        "Estructura incorrecta (Sin un espacio despues de la linea del `if`)"
      ],
      "metadata": {
        "id": "ORaAPKD0lXUt"
      }
    },
    {
      "cell_type": "code",
      "source": [
        "A = 5\n",
        "\n",
        "B = 3\n",
        "\n",
        "if A > B:\n",
        "print(\"a\")\n",
        "\n"
      ],
      "metadata": {
        "colab": {
          "base_uri": "https://localhost:8080/",
          "height": 109
        },
        "id": "AReLcT2olYMG",
        "outputId": "9e5c530f-bec4-4792-90f2-caecb0af7cf5"
      },
      "execution_count": null,
      "outputs": [
        {
          "output_type": "error",
          "ename": "IndentationError",
          "evalue": "expected an indented block after 'if' statement on line 5 (<ipython-input-11-5ac083215ead>, line 6)",
          "traceback": [
            "\u001b[0;36m  File \u001b[0;32m\"<ipython-input-11-5ac083215ead>\"\u001b[0;36m, line \u001b[0;32m6\u001b[0m\n\u001b[0;31m    print(\"a\")\u001b[0m\n\u001b[0m    ^\u001b[0m\n\u001b[0;31mIndentationError\u001b[0m\u001b[0;31m:\u001b[0m expected an indented block after 'if' statement on line 5\n"
          ]
        }
      ]
    },
    {
      "cell_type": "markdown",
      "source": [
        "Este error ocurre porque las estructuras de control deben tener al menos un parametro en su interior. La unica forma de acceder a su interior es presionando `'Enter'` al final de la linea donde se establece la estructura de control `(if A > B:)` o utilizando la tecla de `space` o `tabulador` en la linea siguiente, Si no se añade ningun tipo de espacio, el programa interpretara que el codigo esta fuera de la estructura condicional."
      ],
      "metadata": {
        "id": "1O_u53VllxAr"
      }
    },
    {
      "cell_type": "code",
      "source": [
        "A = 5\n",
        "\n",
        "B = 3\n",
        "\n",
        "if A > B:\n",
        " print(\"Dentro de la condicion\")\n",
        "\n",
        "print(\"Fuera de la condicion\")\n"
      ],
      "metadata": {
        "colab": {
          "base_uri": "https://localhost:8080/"
        },
        "id": "oku8WrK-njFQ",
        "outputId": "20b7389a-e5e5-44b4-a239-f298b5b25324"
      },
      "execution_count": null,
      "outputs": [
        {
          "output_type": "stream",
          "name": "stdout",
          "text": [
            "Dentro de la condicion\n",
            "Fuera de la condicion\n"
          ]
        }
      ]
    },
    {
      "cell_type": "markdown",
      "source": [
        "Como se ve en el anterior ejemplo, la linea que esta alineada con el if `{ print(\"Fuera de la condicion\") }`, siempre se ejecutara ya que esta fuera de la estructura de control, mientras que la linea con un espacio `{ print(\"Dentro de la condicion\") }` solo se ejecutara cuando se cumpla la condicional."
      ],
      "metadata": {
        "id": "DV2pvAcAnyRt"
      }
    },
    {
      "cell_type": "markdown",
      "source": [
        "La estructura basica de las condicionales posee `if` para cuando la condicion sea `True` y `else` para cuando la condicion sea `False`\n",
        "\n",
        "El `else` debe ponerse justo al final de la secuencia de codigo que queremos que se ejecute si la condicion es verdadera para que no interfiera; en el caso de `else` debe ir alineado con el `if`, y debes poner doble punto `( : )`  al final del `else`.\n",
        "\n",
        "***Ejemplo :***\n",
        "\n",
        "\n",
        "```\n",
        "if A > B\n",
        "\n",
        " --Inicio de lo que se ejecutara SI se cumple la condicion---\n",
        "\n",
        " --Fin de lo que se ejecutara SI se cumple la condicion---\n",
        "\n",
        "else:\n",
        "\n",
        " --Inicio de lo que se ejecutara NO se cumple la condicion---\n",
        "\n",
        " --Fin de lo que se ejecutara NO se cumple la condicion---\n",
        "\n",
        "\n",
        "\n",
        "```\n",
        "\n",
        "\n",
        "Para evitar errores debemos crear un espacio al inicio de cada linea al momento de establecer un codigo que queremos que se ejecuta cuando la condicion es verdadera o falsa.\n",
        "\n",
        "\n"
      ],
      "metadata": {
        "id": "6zNjyq-_3eI2"
      }
    },
    {
      "cell_type": "code",
      "source": [
        "A = 5\n",
        "\n",
        "B = 3\n",
        "\n",
        "if A > B:\n",
        "\n",
        " print(\"La condicion es verdadera\")\n",
        "\n",
        "else:\n",
        "\n",
        "  print(\"La no condicion es verdadera\")"
      ],
      "metadata": {
        "colab": {
          "base_uri": "https://localhost:8080/"
        },
        "id": "k3ruh4nU37j7",
        "outputId": "754e1491-af9a-47e5-9937-f38b1eeeae2b"
      },
      "execution_count": null,
      "outputs": [
        {
          "output_type": "stream",
          "name": "stdout",
          "text": [
            "La condicion es verdadera\n"
          ]
        }
      ]
    },
    {
      "cell_type": "markdown",
      "source": [
        "Nota que los `print()` no estan alineados con el `else` ni con el `if`, de esta manera podemos saber que estan dentro de la condicional.\n",
        "\n",
        "* Si queremos que nuestra condicional evalue mas de una condicional, tenemos a los `elif`, estos deben ir entre el `if` y el `else`, y se estructura igual que el `if`.\n",
        "\n",
        "* ***Ejemplo :***\n",
        "\n",
        "Primero establecemos la primera condicion mediante un `if`.\n",
        "\n",
        "\n",
        "\n",
        "```\n",
        "if A>B:\n",
        "```\n",
        "\n",
        "Despues debemos darle algun contenido por si se cumple la condicion :\n",
        "\n",
        "\n",
        "\n",
        "```\n",
        "if A>B:\n",
        " print(\"Se cumplio la primera condicion\")\n",
        "```\n",
        "- Aclaracion : Notemos que el `print()` no esta alineado con el `if`, lo que nos indica que la funcion `print()` esta metida dentro de la condicional correctamente.\n"
      ],
      "metadata": {
        "id": "xS_u7tzE5k0S"
      }
    },
    {
      "cell_type": "markdown",
      "source": [
        "Ahora debemos ingresar a la linea de abajo para establecer una nueva condicion mediante `elif`.\n",
        "\n",
        "```\n",
        "if A>B:\n",
        " print(\"Se cumplio la primera condicion\")\n",
        "elif\n",
        "\n",
        "```\n",
        "\n",
        "- **Importante**\n",
        " - El `elif ` debe estar alineado con el `if` de la funcion para que funcione correctamente.\n",
        "\n",
        " * Enfrente del `elif` debemos poner una nueva condicion y cerrar la condicion mediante un `( : )`.\n",
        "\n",
        "```\n",
        "if A>B:\n",
        " print(\"Se cumplio la primera condicion\")\n",
        "elif A<B:\n",
        "\n",
        "```\n",
        "\n",
        "Y finalmente debemos establecer una secuencia de codigo en caso de que se cumpla la segunda condicion.\n",
        "\n",
        "```\n",
        "if A>B: -Primera condicion-\n",
        " print(\"Se cumplio la primera condicion\")\n",
        "elif A<B: -segunda condicion-\n",
        " print(\"Se cumplio la segunda condicion\")\n",
        "\n",
        "```\n",
        "\n",
        "Despues podemos agregar un `else` para ejecutar algo en caso de que ninguna condicion establecida sea verdadera.\n",
        "\n",
        "```\n",
        "if A>B: -Primera condicion-\n",
        " print(\"Se cumplio la primera condicion\")\n",
        "elif A<B: -segunda condicion-\n",
        " print(\"Se cumplio la segunda condicion\")\n",
        "else:\n",
        " print(\"Ninguna condicion se cumplio\")\n",
        "\n",
        "```\n",
        "\n",
        "* Recordemos que el `else` se establece de la misma manera, debemos alinearlo con el `if` (y `elif` en caso de que tengamos en nuestra condicional) y al final debemos cerrarlo mediante un `( : )` .\n",
        "\n",
        "* Despues debemos establecer una secuencia de codigo que se ejecute si ninguna condicion establecida es `True`."
      ],
      "metadata": {
        "id": "9MkBtVhW38jv"
      }
    },
    {
      "cell_type": "markdown",
      "source": [
        "***Finalmente nuestro codigo deberia quedar algo asi :***"
      ],
      "metadata": {
        "id": "3ioqp6nM61ba"
      }
    },
    {
      "cell_type": "code",
      "source": [
        "A = 5\n",
        "B = 3\n",
        "\n",
        "if A>B: # Primera condicion.\n",
        " print(\"Se cumplio la primera condicion\")\n",
        "elif A<B: #Segunda condicion.\n",
        " print(\"Se cumplio la segunda condicion\")\n",
        "else: #Condicion que se cumplira si ninguna de las anteriores se cumple.\n",
        " print(\"Ninguna condicion se cumplio\")"
      ],
      "metadata": {
        "colab": {
          "base_uri": "https://localhost:8080/"
        },
        "id": "vZUKKE-K6Zso",
        "outputId": "d915dc14-ab5c-4557-97ec-9689d83c99db"
      },
      "execution_count": null,
      "outputs": [
        {
          "output_type": "stream",
          "name": "stdout",
          "text": [
            "Se cumplio la primera condicion\n"
          ]
        }
      ]
    },
    {
      "cell_type": "markdown",
      "source": [
        "# **Preguntas acerca de condicionales sencillas.**"
      ],
      "metadata": {
        "id": "7E3mma4N7zBt"
      }
    },
    {
      "cell_type": "markdown",
      "source": [
        "* **Instrucciones**\n",
        "\n",
        " * `Analiza los siguientes codigos y responde lo siguiente.`\n",
        "   1. `¿Cuantas condiciones posee la siguiente condicional?.`\n",
        "\n",
        "   2. `¿Que es lo que pide cada condicion y que ejecutara si se cumple?`\n",
        "\n",
        "   3. `¿Que retornara la condicional?`\n",
        "\n",
        "   **Si por ejemplo tenemos :**\n",
        "\n",
        "\n",
        "```\n",
        "F = 4\n",
        "A = 2\n",
        "B = 2\n",
        "\n",
        "if F >= 3:\n",
        " print(\"A\")\n",
        "elif A != B:\n",
        " print(\"B)\n",
        "else:\n",
        " print(\"C)\n",
        "```\n",
        "\n",
        "1. Debes primero la cantidad de condiciones, en este caso son `2`.\n",
        " 1. `F >= 3`\n",
        " 2. `A != B`\n",
        "\n",
        "2. Ahora debes decir lo que pide cada condicion y lo que hara si se ejecuta.\n",
        "\n",
        " 1. La primera condicion pide que `F` sea mayor o igual que `3`, y si esto es verdad entonces imprimira `\"A\"`\n",
        "\n",
        " 2. La segunda condicion pide que `A` sea diferente de `B`, y si esto es verdad entonces imprimira `\"B\"`\n",
        "\n",
        " 3. Y si ninguna condicion se cumple entonces se imprimira `\"C\"`\n",
        "\n",
        "3. Al final debes decir lo que retornara el codigo, en el ejemplo anterior la unica condicion que se cumple es `F >= 3` ya que `F=4` es mayor que `3`, por lo que el codigo retornara `\"A\"`"
      ],
      "metadata": {
        "id": "m-0dmqVM73yt"
      }
    },
    {
      "cell_type": "markdown",
      "source": [
        "\n",
        "\n",
        "---\n",
        "\n",
        "#**Pregunta-1**\n",
        "\n",
        " * `Analiza los siguientes codigos y responde lo siguiente.`\n",
        "   1. `¿Cuantas condiciones posee la siguiente condicional?.`\n",
        "\n",
        "   2. `¿Que es lo que pide cada condicion y que ejecutara si se cumple?`\n",
        "\n",
        "   3. `¿Que retornara la condicional?`\n"
      ],
      "metadata": {
        "id": "bis9nZmP_Akc"
      }
    },
    {
      "cell_type": "code",
      "source": [
        "A=3\n",
        "B=2\n",
        "C=1\n",
        "\n",
        "if A <= C:\n",
        "  print(\"A1\")\n",
        "elif A >= B:\n",
        "  print(\"B2\")\n",
        "else:\n",
        "  print(\"C3\")"
      ],
      "metadata": {
        "id": "iwTHPsK57gtL",
        "colab": {
          "base_uri": "https://localhost:8080/"
        },
        "collapsed": true,
        "outputId": "4090e5bb-0770-48ee-f792-fbf4d8ce72d2"
      },
      "execution_count": 1,
      "outputs": [
        {
          "output_type": "stream",
          "name": "stdout",
          "text": [
            "B2\n"
          ]
        }
      ]
    },
    {
      "cell_type": "markdown",
      "source": [
        "---\n",
        "\n",
        "#**Pregunta-2**\n",
        "\n",
        " * `Analiza los siguientes codigos y responde lo siguiente.`\n",
        "   1. `¿Cuantas condiciones posee la siguiente condicional?.`\n",
        "\n",
        "   2. `¿Que es lo que pide cada condicion y que ejecutara si se cumple?`\n",
        "\n",
        "   3. `¿Que retornara la condicional?`\n"
      ],
      "metadata": {
        "id": "j6Ap8Hh1Wr3D"
      }
    },
    {
      "cell_type": "code",
      "source": [
        "N1=True\n",
        "N2=True\n",
        "N3=False\n",
        "\n",
        "if N1 <= N2:\n",
        "  print(\"Primera condicion\")\n",
        "elif N1 > N2:\n",
        "  print(\"Segunda condicion\")\n",
        "else:\n",
        "  print(\"Tercera condicion\")"
      ],
      "metadata": {
        "colab": {
          "base_uri": "https://localhost:8080/"
        },
        "collapsed": true,
        "id": "iNSr9iMlW963",
        "outputId": "f7cadc5b-98d0-49b2-8949-89e596015c22"
      },
      "execution_count": 2,
      "outputs": [
        {
          "output_type": "stream",
          "name": "stdout",
          "text": [
            "A1\n"
          ]
        }
      ]
    },
    {
      "cell_type": "markdown",
      "source": [
        "---\n",
        "\n",
        "#**Pregunta-3**\n",
        "\n",
        " * `Analiza los siguientes codigos y responde lo siguiente.`\n",
        "   1. `¿Cuantas condiciones posee la siguiente condicional?.`\n",
        "\n",
        "   2. `¿Que es lo que pide cada condicion y que ejecutara si se cumple?`\n",
        "\n",
        "   3. `¿Que retornara la condicional?`\n"
      ],
      "metadata": {
        "id": "Bna6l5v5XfOn"
      }
    },
    {
      "cell_type": "code",
      "source": [
        "Variable1=10\n",
        "Variable2=2**2\n",
        "Variable3=5*2\n",
        "\n",
        "if Variable1 != Variable3:\n",
        "  print(\"Se cumplio la primera condicion\")\n",
        "elif Variable2 == Variable3:\n",
        "  print(\"Se cumplio la segunda condicion\")\n",
        "else:\n",
        "  print(\"Se cumplio la tercera condicion\")"
      ],
      "metadata": {
        "colab": {
          "base_uri": "https://localhost:8080/"
        },
        "collapsed": true,
        "id": "Q2Zy7rF4XhDI",
        "outputId": "75e43c85-1d40-4cd1-f0e7-b6a86f1d4009"
      },
      "execution_count": 7,
      "outputs": [
        {
          "output_type": "stream",
          "name": "stdout",
          "text": [
            "Tercera condicion\n"
          ]
        }
      ]
    },
    {
      "cell_type": "markdown",
      "source": [
        "---\n",
        "\n",
        "#**Pregunta-4**\n",
        "\n",
        " * `Analiza los siguientes codigos y responde lo siguiente.`\n",
        "   1. `¿Cuantas condiciones posee la siguiente condicional?.`\n",
        "\n",
        "   2. `¿Que es lo que pide cada condicion y que ejecutara si se cumple?`\n",
        "\n",
        "   3. `¿Que retornara la condicional?`\n"
      ],
      "metadata": {
        "id": "sBp0b3UrY2iJ"
      }
    },
    {
      "cell_type": "code",
      "source": [
        "Variable1 = 25\n",
        "Variable2 = 5 * 5\n",
        "Variable3 = 30\n",
        "Variable4 = 50 / 2\n",
        "\n",
        "if Variable1 < Variable3:\n",
        "    print(\"Primera condicion cumplida\")\n",
        "elif Variable2 == Variable4:\n",
        "    print(\"Segunda condicion cumplida\")\n",
        "elif Variable3 > Variable2:\n",
        "    print(\"Tercera condicion cumplida\")\n",
        "else:\n",
        "    print(\"Ninguna condicion se cumplio\")\n"
      ],
      "metadata": {
        "colab": {
          "base_uri": "https://localhost:8080/"
        },
        "collapsed": true,
        "id": "w5Od-fRVY236",
        "outputId": "07d965ec-33b3-42c7-87cf-c73eb182d73a"
      },
      "execution_count": 10,
      "outputs": [
        {
          "output_type": "stream",
          "name": "stdout",
          "text": [
            "Primera condicion cumplida\n"
          ]
        }
      ]
    },
    {
      "cell_type": "markdown",
      "source": [
        "---\n",
        "\n",
        "#**Pregunta-5**\n",
        "\n",
        " * `Analiza los siguientes codigos y responde lo siguiente.`\n",
        "   1. `¿Cuantas condiciones posee la siguiente condicional?.`\n",
        "\n",
        "   2. `¿Que es lo que pide cada condicion y que ejecutara si se cumple?`\n",
        "\n",
        "   3. `¿Que retornara la condicional?`\n"
      ],
      "metadata": {
        "id": "ezoc-9gTZDyQ"
      }
    },
    {
      "cell_type": "code",
      "source": [
        "Variable1 = 50\n",
        "Variable2 = 10 * 5\n",
        "Variable3 = 25 + 25\n",
        "Variable4 = 100 / 2\n",
        "\n",
        "if Variable1 < Variable2:\n",
        "    print(\"Primera condicion cumplida\")\n",
        "elif Variable2 == Variable3:\n",
        "    print(\"Segunda condicion cumplida\")\n",
        "elif Variable4 > Variable1:\n",
        "    print(\"Tercera condicion cumplida\")\n",
        "else:\n",
        "    print(\"Ninguna condicion se cumplió\")\n"
      ],
      "metadata": {
        "colab": {
          "base_uri": "https://localhost:8080/"
        },
        "collapsed": true,
        "id": "RorYHGkgZF7u",
        "outputId": "173a47e3-7f75-472d-8546-c82cb72cf513"
      },
      "execution_count": 11,
      "outputs": [
        {
          "output_type": "stream",
          "name": "stdout",
          "text": [
            "Segunda condicion cumplida\n"
          ]
        }
      ]
    },
    {
      "cell_type": "markdown",
      "source": [
        "---\n",
        "\n",
        "#**Pregunta-6**\n",
        "\n",
        " * `Analiza los siguientes codigos y responde lo siguiente.`\n",
        "   1. `¿Cuantas condiciones posee la siguiente condicional?.`\n",
        "\n",
        "   2. `¿Que es lo que pide cada condicion y que ejecutara si se cumple?`\n",
        "\n",
        "   3. `¿Que retornara la condicional?`\n"
      ],
      "metadata": {
        "id": "q2RZrLjiaS1n"
      }
    },
    {
      "cell_type": "code",
      "source": [
        "Variable1 = 20\n",
        "Variable2 = 5 * 4\n",
        "Variable3 = 30\n",
        "\n",
        "if Variable1 < Variable2:\n",
        "    Variable1 += 10\n",
        "    print(\"Primera condicion cumplida,\", \"Variable1:\", Variable1)\n",
        "elif Variable2 > Variable3:\n",
        "    Variable2 -= 5\n",
        "    print(\"Segunda condicion cumplida,\", \"Variable2:\", Variable2)\n",
        "else:\n",
        "    Variable3 += 15\n",
        "    print(\"Tercera condicion cumplida,\", \"Variable3:\", Variable3)\n"
      ],
      "metadata": {
        "colab": {
          "base_uri": "https://localhost:8080/"
        },
        "collapsed": true,
        "id": "PJcC0NyiaTMU",
        "outputId": "7eee9c03-0f34-42ce-f0be-841f18c35d01"
      },
      "execution_count": 12,
      "outputs": [
        {
          "output_type": "stream",
          "name": "stdout",
          "text": [
            "Tercera condicion cumplida, Variable3: 45\n"
          ]
        }
      ]
    },
    {
      "cell_type": "markdown",
      "source": [
        "---\n",
        "\n",
        "#**Pregunta-7**\n",
        "\n",
        " * `Analiza los siguientes codigos y responde lo siguiente.`\n",
        "   1. `¿Cuantas condiciones posee la siguiente condicional?.`\n",
        "\n",
        "   2. `¿Que es lo que pide cada condicion y que ejecutara si se cumple?`\n",
        "\n",
        "   3. `¿Que retornara la condicional?`\n"
      ],
      "metadata": {
        "id": "UCCSGTs6awNo"
      }
    },
    {
      "cell_type": "code",
      "source": [
        "Variable1 = 50\n",
        "Variable2 = 25 + 25\n",
        "Variable3 = 75\n",
        "\n",
        "if Variable1 != Variable2:\n",
        "    Variable2 += 10\n",
        "    print(\"Primera condicion verdadera,\",Variable2)\n",
        "elif Variable3 > Variable1:\n",
        "    Variable3 -= 20\n",
        "    print(\"Segunda condicion verdadera,\",Variable3)\n",
        "else:\n",
        "    Variable1 += 5\n",
        "    print(\"Tercera condicion verdadera,\",Variable1)\n"
      ],
      "metadata": {
        "colab": {
          "base_uri": "https://localhost:8080/"
        },
        "collapsed": true,
        "id": "6jrJVq34a0rG",
        "outputId": "fb242a62-298d-4b88-e0dc-79f20c9651f7"
      },
      "execution_count": 18,
      "outputs": [
        {
          "output_type": "stream",
          "name": "stdout",
          "text": [
            "Segunda condicion verdadera, 55\n"
          ]
        }
      ]
    },
    {
      "cell_type": "markdown",
      "source": [
        "---\n",
        "\n",
        "#**Pregunta-8**\n",
        "\n",
        " * `Analiza los siguientes codigos y responde lo siguiente.`\n",
        "   1. `¿Cuantas condiciones posee la siguiente condicional?.`\n",
        "\n",
        "   2. `¿Que es lo que pide cada condicion y que ejecutara si se cumple?`\n",
        "\n",
        "   3. `¿Que retornara la condicional?`\n"
      ],
      "metadata": {
        "id": "ZKJn-hFAbOad"
      }
    },
    {
      "cell_type": "code",
      "source": [
        "Variable1 = 4**2\n",
        "Variable2 = 2**4\n",
        "Variable3 = 36 / 6\n",
        "\n",
        "if Variable1 == Variable2:\n",
        "    Variable1 += 2**3\n",
        "    print(\"Primera condicion verdadera,\", \"Variable1:\", Variable1)\n",
        "elif Variable2 < Variable3:\n",
        "    Variable2 **= 2\n",
        "    print(\"Segunda condicion verdadera,\", \"Variable2:\", Variable2)\n",
        "else:\n",
        "    Variable3 *= 2\n",
        "    print(\"Tercera condicion verdadera,\", \"Variable3:\", Variable3)\n"
      ],
      "metadata": {
        "colab": {
          "base_uri": "https://localhost:8080/"
        },
        "collapsed": true,
        "id": "540gtmVBbMxz",
        "outputId": "82a1c478-62ad-4aa2-b000-8a60e98bb6f0"
      },
      "execution_count": 15,
      "outputs": [
        {
          "output_type": "stream",
          "name": "stdout",
          "text": [
            "Primera condicion verdadera, Variable1: 24\n"
          ]
        }
      ]
    },
    {
      "cell_type": "markdown",
      "source": [
        "---\n",
        "\n",
        "#**Pregunta-9**\n",
        "\n",
        " * `Analiza los siguientes codigos y responde lo siguiente.`\n",
        "   1. `¿Cuantas condiciones posee la siguiente condicional?.`\n",
        "\n",
        "   2. `¿Que es lo que pide cada condicion y que ejecutara si se cumple?`\n",
        "\n",
        "   3. `¿Que retornara la condicional?`\n"
      ],
      "metadata": {
        "id": "Tt_d_YhtbjdI"
      }
    },
    {
      "cell_type": "code",
      "source": [
        "Variable1 = 10**2\n",
        "Variable2 = 5**2\n",
        "Variable3 = 50\n",
        "\n",
        "if Variable1 < Variable3:\n",
        "    Variable3 += Variable2 / 5\n",
        "    print(\"Primera condicion cumplida,\", \"Variable3:\", Variable3)\n",
        "elif Variable2 ** 2 < Variable1:\n",
        "    Variable2 -= 5**2\n",
        "    print(\"Segunda condicion cumplida,\", \"Variable2:\", Variable2)\n",
        "else:\n",
        "    Variable1 /= 10\n",
        "    print(\"Tercera condicion cumplida,\", \"Variable1:\", Variable1)\n"
      ],
      "metadata": {
        "colab": {
          "base_uri": "https://localhost:8080/"
        },
        "collapsed": true,
        "id": "wYqq48hmbnan",
        "outputId": "cba8de8a-9423-447a-d1f6-76e8ed4e1e2a"
      },
      "execution_count": 17,
      "outputs": [
        {
          "output_type": "stream",
          "name": "stdout",
          "text": [
            "Tercera condicion cumplida, Variable1: 10.0\n"
          ]
        }
      ]
    },
    {
      "cell_type": "markdown",
      "source": [
        "---\n",
        "\n",
        "#**Pregunta-10**\n",
        "\n",
        " * `Analiza los siguientes codigos y responde lo siguiente.`\n",
        "   1. `¿Cuantas condiciones posee la siguiente condicional?.`\n",
        "\n",
        "   2. `¿Que es lo que pide cada condicion y que ejecutara si se cumple?`\n",
        "\n",
        "   3. `¿Que retornara la condicional?`\n"
      ],
      "metadata": {
        "id": "E6t5div1cPpp"
      }
    },
    {
      "cell_type": "code",
      "source": [
        "Variable1 = 2**5\n",
        "Variable2 = 4**2\n",
        "Variable3 = 64 / 4\n",
        "\n",
        "if Variable1 != Variable3:\n",
        "    Variable1 -= Variable2\n",
        "    print(\"Primera condicion exitosa,\", \"Variable1:\", Variable1, \"Variable3:\", Variable3)\n",
        "elif Variable2 == Variable3:\n",
        "    Variable2 **= 2\n",
        "    print(\"Segunda condicion exitosa,\", \"Variable2:\", Variable2)\n",
        "else:\n",
        "    Variable3 += 2**3\n",
        "    print(\"Tercera condicion exitosa,\", \"Variable3:\", Variable3)\n"
      ],
      "metadata": {
        "colab": {
          "base_uri": "https://localhost:8080/"
        },
        "collapsed": true,
        "id": "NMiR5bijcKQn",
        "outputId": "9960b23f-8096-4977-866c-0c6ef3d7f430"
      },
      "execution_count": 19,
      "outputs": [
        {
          "output_type": "stream",
          "name": "stdout",
          "text": [
            "Primera condicion exitosa, Variable1: 16 Variable3: 16\n"
          ]
        }
      ]
    }
  ]
}