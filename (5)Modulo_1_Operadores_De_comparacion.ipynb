{
  "nbformat": 4,
  "nbformat_minor": 0,
  "metadata": {
    "colab": {
      "provenance": [],
      "authorship_tag": "ABX9TyOYIY+MDEvAqLCOGYDZW/0m",
      "include_colab_link": true
    },
    "kernelspec": {
      "name": "python3",
      "display_name": "Python 3"
    },
    "language_info": {
      "name": "python"
    }
  },
  "cells": [
    {
      "cell_type": "markdown",
      "metadata": {
        "id": "view-in-github",
        "colab_type": "text"
      },
      "source": [
        "<a href=\"https://colab.research.google.com/github/ElCbolla/CursoDeProgramacionPython/blob/main/(5)Modulo_1_Operadores_De_comparacion.ipynb\" target=\"_parent\"><img src=\"https://colab.research.google.com/assets/colab-badge.svg\" alt=\"Open In Colab\"/></a>"
      ]
    },
    {
      "cell_type": "markdown",
      "source": [
        "#**Comparadores en python**\n",
        "\n",
        "Los comparadores en python sirven para comparar dos variables o tipos de datos y comprobar si existe alguna relacion entre ambos datos.\n",
        "\n",
        "* **Los comparadores en python son los siguientes :**\n",
        "\n",
        "* Comparador de igualdad `( == )`\n",
        "\n",
        " 1. `Este comparador comprueba si dos variables o datos almacenan el mismo valor.`"
      ],
      "metadata": {
        "id": "5mY3lAvXhS2l"
      }
    },
    {
      "cell_type": "markdown",
      "source": [
        " * El siguiente codigo mediante un comparador de igualdad verifica si el primer dato ingresado `(5)` es el mismo que el segundo dato ingresado, tambien `(5)`"
      ],
      "metadata": {
        "id": "kIBVuljkiuw7"
      }
    },
    {
      "cell_type": "code",
      "execution_count": null,
      "metadata": {
        "colab": {
          "base_uri": "https://localhost:8080/"
        },
        "id": "VDUUYmsPgrWW",
        "outputId": "569203d3-785a-455d-bc0c-2d590f004d38"
      },
      "outputs": [
        {
          "output_type": "stream",
          "name": "stdout",
          "text": [
            "True\n"
          ]
        }
      ],
      "source": [
        "print(5 == 5)"
      ]
    },
    {
      "cell_type": "markdown",
      "source": [
        "* Esto retorna el valor `bool` de `True` ya que la condicion de igualdad si se cumple, ya que efectivamente, `5` es igual a `5`\n",
        "\n",
        "* Pero si de lo contrario metemos dos valores que no coinciden y los comparamos mediante un comparador de igualdad `( == )` :"
      ],
      "metadata": {
        "id": "uvdP8NXwjFzl"
      }
    },
    {
      "cell_type": "code",
      "source": [
        "print(3 == 5)"
      ],
      "metadata": {
        "colab": {
          "base_uri": "https://localhost:8080/"
        },
        "id": "9OqdeAe1voG0",
        "outputId": "3e9adee9-0ed9-415b-9ba5-94785430078f"
      },
      "execution_count": null,
      "outputs": [
        {
          "output_type": "stream",
          "name": "stdout",
          "text": [
            "False\n"
          ]
        }
      ]
    },
    {
      "cell_type": "markdown",
      "source": [
        "* Esto claramente retornara el valor bool de False ya que el primer parametro `(3)` no es el mismo que `(5)`"
      ],
      "metadata": {
        "id": "Td6zgluyvqZP"
      }
    },
    {
      "cell_type": "markdown",
      "source": [
        "\n",
        "\n",
        "---\n",
        "Los datos tipos numericos no son los unicos que se pueden comparar, tambien podemos comparar dos cadenas de texto `{str}` y ver si estas coinciden; Como se muestra a continuacion :\n"
      ],
      "metadata": {
        "id": "N-sdIP1ev6S8"
      }
    },
    {
      "cell_type": "code",
      "source": [
        "print(\"Hola\"==\"Hola\")"
      ],
      "metadata": {
        "colab": {
          "base_uri": "https://localhost:8080/"
        },
        "id": "bGVhZSmnv5mi",
        "outputId": "51381192-4df3-40d0-c5d9-c1825d5921da"
      },
      "execution_count": null,
      "outputs": [
        {
          "output_type": "stream",
          "name": "stdout",
          "text": [
            "True\n"
          ]
        }
      ]
    },
    {
      "cell_type": "markdown",
      "source": [
        "En este caso retorna el valor `bool` de `True`, ya que ambas cadenas contienen `\"Hola\"` y se cumple la igualdad.\n",
        "\n",
        "* Pero si lo contrario ingresamos dos cadenas de texto que no coinciden :"
      ],
      "metadata": {
        "id": "NTrXEAwrwOdp"
      }
    },
    {
      "cell_type": "code",
      "source": [
        "print(\"Queso\"==\"Azul\")"
      ],
      "metadata": {
        "colab": {
          "base_uri": "https://localhost:8080/"
        },
        "id": "643NtVz4weDw",
        "outputId": "f58f8cf8-3a03-437b-e4b4-7962fc7b8f0e"
      },
      "execution_count": null,
      "outputs": [
        {
          "output_type": "stream",
          "name": "stdout",
          "text": [
            "False\n"
          ]
        }
      ]
    },
    {
      "cell_type": "markdown",
      "source": [
        "* Esto claramente retornara `False` por no cumplir la condicion de igualdad que establecemos.\n",
        "\n",
        "\n",
        "\n",
        "---\n",
        "Bajo el contexto de la comparacion de igualdad no hay ningun tipo de restricciones, es decir, se puede comprobar la igualdad de dos datos de cualquier tipo y esto no generara ningun error.\n",
        "\n"
      ],
      "metadata": {
        "id": "AdUCzDs1wiRW"
      }
    },
    {
      "cell_type": "markdown",
      "source": [
        "* Comparacion de un dato tipo `{int}` con uno de tipo `{str}`."
      ],
      "metadata": {
        "id": "x5y8LlVnyWyM"
      }
    },
    {
      "cell_type": "code",
      "source": [
        "print(5==\"5\")"
      ],
      "metadata": {
        "colab": {
          "base_uri": "https://localhost:8080/"
        },
        "id": "qlhiFU2Bx15p",
        "outputId": "d911ffb0-1a5e-4730-c3a8-64865c17354a"
      },
      "execution_count": null,
      "outputs": [
        {
          "output_type": "stream",
          "name": "stdout",
          "text": [
            "False\n"
          ]
        }
      ]
    },
    {
      "cell_type": "markdown",
      "source": [
        "Esto simplemente retornara `False` pero no generara ningun error.\n",
        "\n",
        "\n",
        "---\n",
        "\n",
        "* Comparacion de un dato tipo `{float}` con un tipo `{bool}`\n"
      ],
      "metadata": {
        "id": "A2K85XqsyopR"
      }
    },
    {
      "cell_type": "code",
      "source": [
        "print(2.5==False)"
      ],
      "metadata": {
        "colab": {
          "base_uri": "https://localhost:8080/"
        },
        "id": "7rcwfEPXy8Ze",
        "outputId": "0980c6b0-9ef8-4ad1-ea36-f558f5b26404"
      },
      "execution_count": null,
      "outputs": [
        {
          "output_type": "stream",
          "name": "stdout",
          "text": [
            "False\n"
          ]
        }
      ]
    },
    {
      "cell_type": "markdown",
      "source": [
        "Nuevamente se retorna `False` pero no causa ningun error.\n",
        "\n",
        "\n",
        "---\n",
        "\n"
      ],
      "metadata": {
        "id": "glIHl8hqzEyV"
      }
    },
    {
      "cell_type": "markdown",
      "source": [
        "* Comparacion de un tipo `{str}` con un tipo `{bool}`"
      ],
      "metadata": {
        "id": "hvEi8ktozQsk"
      }
    },
    {
      "cell_type": "code",
      "source": [
        "print(\"Texto\"==True)"
      ],
      "metadata": {
        "colab": {
          "base_uri": "https://localhost:8080/"
        },
        "id": "rVmEJT05zWOm",
        "outputId": "4f8c989f-f1e3-497a-b314-9c4bd626a513"
      },
      "execution_count": null,
      "outputs": [
        {
          "output_type": "stream",
          "name": "stdout",
          "text": [
            "False\n"
          ]
        }
      ]
    },
    {
      "cell_type": "markdown",
      "source": [
        "Y vemos que sigue sin haber ningun error, esto demuestra que se puede verificar la igualdad de dos datos de cualquier tipo sin generar un error.\n",
        "\n",
        "\n",
        "---\n",
        "\n"
      ],
      "metadata": {
        "id": "1V_qKz2kzcLI"
      }
    },
    {
      "cell_type": "markdown",
      "source": [
        "* Comparador de Diferencia `( != )`\n",
        "\n",
        "1. `Este comparador verifica si el primer valor es diferente al segundo.`\n",
        "\n",
        "* El siguiente codigo mediante un comparador de Diferencia verifica si el primer dato ingreso es diferente al segundo."
      ],
      "metadata": {
        "id": "F2lLpqUM7WUF"
      }
    },
    {
      "cell_type": "code",
      "source": [
        "print(5 != 1)"
      ],
      "metadata": {
        "colab": {
          "base_uri": "https://localhost:8080/"
        },
        "id": "s3O9grrw8W6r",
        "outputId": "95072d72-9254-4e1e-e5c7-2ffe1f79bd99"
      },
      "execution_count": null,
      "outputs": [
        {
          "output_type": "stream",
          "name": "stdout",
          "text": [
            "True\n"
          ]
        }
      ]
    },
    {
      "cell_type": "markdown",
      "source": [
        "* Esto retornara `True` ya que el primer parametro `(5)` es diferente al segundo parametro `(1)`\n",
        "\n",
        "\n",
        "---\n",
        "\n",
        "Pero si de lo contrario, ambos parametros ingresados son iguales :\n",
        "\n"
      ],
      "metadata": {
        "id": "OeelYPkD_hZW"
      }
    },
    {
      "cell_type": "code",
      "source": [
        "print(5 != 5)"
      ],
      "metadata": {
        "colab": {
          "base_uri": "https://localhost:8080/"
        },
        "id": "T6rLbFGxDp3Z",
        "outputId": "3b9346e3-63ae-4c3a-b219-220da874b7b2"
      },
      "execution_count": null,
      "outputs": [
        {
          "output_type": "stream",
          "name": "stdout",
          "text": [
            "False\n"
          ]
        }
      ]
    },
    {
      "cell_type": "markdown",
      "source": [
        "Esto retornara `False` ya que `5` es igual a `5` y no existe una diferencia.\n",
        "\n",
        "\n",
        "---\n",
        "\n",
        "Con el comparador de diferencia tampoco existe restricciones en cuanto tipo de datos, esto significa que puedes evaluar la diferencia entre dos datos de cualquier tipo.\n"
      ],
      "metadata": {
        "id": "yKfh5iOqDtQJ"
      }
    },
    {
      "cell_type": "markdown",
      "source": [
        "* Diferencia entre un numero entero y un texto."
      ],
      "metadata": {
        "id": "UmYHL4BenG6M"
      }
    },
    {
      "cell_type": "code",
      "source": [
        "print(5!=\"Hola\")"
      ],
      "metadata": {
        "colab": {
          "base_uri": "https://localhost:8080/"
        },
        "id": "ZqV8hldNnGT2",
        "outputId": "dc5e8b83-0e46-4eee-ecf6-39dc7a3a868c"
      },
      "execution_count": null,
      "outputs": [
        {
          "output_type": "stream",
          "name": "stdout",
          "text": [
            "True\n"
          ]
        }
      ]
    },
    {
      "cell_type": "markdown",
      "source": [
        "Esto retorna `True` ya que el dato entero efectivamente no es lo mismo que la cadena de texto.\n",
        "\n",
        "\n",
        "---\n",
        "\n",
        "* Diferencia entre un numero entero y un flotante.\n"
      ],
      "metadata": {
        "id": "OufGIt9knqNH"
      }
    },
    {
      "cell_type": "code",
      "source": [
        "print(5!=2.0)"
      ],
      "metadata": {
        "colab": {
          "base_uri": "https://localhost:8080/"
        },
        "id": "OZf6ihzAn57n",
        "outputId": "aab224c4-2386-4718-f6cc-aed862b00078"
      },
      "execution_count": null,
      "outputs": [
        {
          "output_type": "stream",
          "name": "stdout",
          "text": [
            "True\n"
          ]
        }
      ]
    },
    {
      "cell_type": "markdown",
      "source": [
        "Esto nuevamente retorna `True` por que el dato Entero sigue sin ser el mismo que el flotante.\n",
        "\n",
        "\n",
        "---\n",
        "\n",
        "* Diferencia entre un numero flotante y un valor booleano.\n"
      ],
      "metadata": {
        "id": "PA_oOGqsoBNX"
      }
    },
    {
      "cell_type": "code",
      "source": [
        "print(1.0!=True)"
      ],
      "metadata": {
        "colab": {
          "base_uri": "https://localhost:8080/"
        },
        "id": "_9Bn-wRLoSRl",
        "outputId": "03c6ad51-eb80-4319-bed8-b5bfd33abdfe"
      },
      "execution_count": null,
      "outputs": [
        {
          "output_type": "stream",
          "name": "stdout",
          "text": [
            "False\n"
          ]
        }
      ]
    },
    {
      "cell_type": "markdown",
      "source": [
        "En este caso retorna `False` ya que el valor `True `almacena un valor numerico de `1` y se busca la diferencia con respecto a `1.0`, por lo que son el mismo numero.\n",
        "\n",
        "Con esto podemos darnos cuenta que podemos evaluar la diferencia entre dos datos de cualquier tipo."
      ],
      "metadata": {
        "id": "5OCuSRKsoZN8"
      }
    },
    {
      "cell_type": "markdown",
      "source": [
        "\n",
        "\n",
        "---\n",
        "\n",
        "\n",
        "* Comparador Mayor que `( > )`\n",
        "\n",
        "1. `Este comparador verifica si el primer valor es mayor que el segundo.`\n",
        "\n",
        " * El siguiente codigo mediante un comparador de Mayor que verifica si el primer dato ingresado `(8)` es mayor que el segundo dato ingresado `(3)`."
      ],
      "metadata": {
        "id": "BNBlLfT_0DjO"
      }
    },
    {
      "cell_type": "code",
      "source": [
        "print(8>3)"
      ],
      "metadata": {
        "colab": {
          "base_uri": "https://localhost:8080/"
        },
        "id": "OopwAq600s0H",
        "outputId": "58797f59-125a-4f2e-ed63-bb2cb850655f"
      },
      "execution_count": null,
      "outputs": [
        {
          "output_type": "stream",
          "name": "stdout",
          "text": [
            "True\n"
          ]
        }
      ]
    },
    {
      "cell_type": "markdown",
      "source": [
        "Esto retornara `True` ya que la condicion se cumple, efectivamente `8` es mayor que `3`\n",
        "\n",
        "* Pero si de lo contrario ingresamos el `3` como primer parametro y el `8` como segundo parametro vamos a obtener lo siguiente."
      ],
      "metadata": {
        "id": "nvZIDU3n02Sq"
      }
    },
    {
      "cell_type": "code",
      "source": [
        "print(3>5)"
      ],
      "metadata": {
        "colab": {
          "base_uri": "https://localhost:8080/"
        },
        "id": "bs5UJiFE1MCC",
        "outputId": "c0527742-83ad-432f-aac1-5fcd7760af36"
      },
      "execution_count": null,
      "outputs": [
        {
          "output_type": "stream",
          "name": "stdout",
          "text": [
            "False\n"
          ]
        }
      ]
    },
    {
      "cell_type": "markdown",
      "source": [
        "Claramente se retorna `False` ya que la condicion no se cumple, `3` no es mayor que `5`."
      ],
      "metadata": {
        "id": "2RWaAiRx1Wos"
      }
    },
    {
      "cell_type": "markdown",
      "source": [
        "\n",
        "\n",
        "---\n",
        "\n",
        "\n",
        "Bajo este contexto si existe una restriccion, no podemos verificar si un dato tipo `{str}` es mayor que un dato `({int} , {float} , {bool})`, solo podemos aplicar el Mayor que, en dos datos numericos."
      ],
      "metadata": {
        "id": "UtRaUhQj1jY_"
      }
    },
    {
      "cell_type": "code",
      "source": [
        "print(\"A\" > 5)"
      ],
      "metadata": {
        "colab": {
          "base_uri": "https://localhost:8080/",
          "height": 144
        },
        "collapsed": true,
        "id": "uxcxzc8Q1i6t",
        "outputId": "6c932cef-4f37-4a48-9c97-8a6fe9458e3b"
      },
      "execution_count": null,
      "outputs": [
        {
          "output_type": "error",
          "ename": "TypeError",
          "evalue": "'>' not supported between instances of 'str' and 'int'",
          "traceback": [
            "\u001b[0;31m---------------------------------------------------------------------------\u001b[0m",
            "\u001b[0;31mTypeError\u001b[0m                                 Traceback (most recent call last)",
            "\u001b[0;32m<ipython-input-13-e6d70a779601>\u001b[0m in \u001b[0;36m<cell line: 1>\u001b[0;34m()\u001b[0m\n\u001b[0;32m----> 1\u001b[0;31m \u001b[0mprint\u001b[0m\u001b[0;34m(\u001b[0m\u001b[0;34m\"A\"\u001b[0m \u001b[0;34m>\u001b[0m \u001b[0;36m5\u001b[0m\u001b[0;34m)\u001b[0m\u001b[0;34m\u001b[0m\u001b[0;34m\u001b[0m\u001b[0m\n\u001b[0m",
            "\u001b[0;31mTypeError\u001b[0m: '>' not supported between instances of 'str' and 'int'"
          ]
        }
      ]
    },
    {
      "cell_type": "markdown",
      "source": [
        "Como vemos en el anterior ejemplo, se genera un error ya que estamos tratando de verificar si un dato de tipo `{str}` es mayor que uno de tipo `{int} `, cosa que es imposible ya que `str` no contiene un valor numerico.\n",
        "\n",
        "\n",
        "---\n"
      ],
      "metadata": {
        "id": "Bb1QAjoH3gGt"
      }
    },
    {
      "cell_type": "markdown",
      "source": [
        "* Comparador Mayor que , con datos tipo numericos."
      ],
      "metadata": {
        "id": "54VYa3S64FyP"
      }
    },
    {
      "cell_type": "code",
      "source": [
        "print(True > 5)"
      ],
      "metadata": {
        "colab": {
          "base_uri": "https://localhost:8080/"
        },
        "collapsed": true,
        "id": "Vnd74hRe4LMv",
        "outputId": "6722e4df-56ae-4266-c3ed-8ad7b4e6adc9"
      },
      "execution_count": null,
      "outputs": [
        {
          "output_type": "stream",
          "name": "stdout",
          "text": [
            "False\n"
          ]
        }
      ]
    },
    {
      "cell_type": "code",
      "source": [
        "print(True > False)"
      ],
      "metadata": {
        "collapsed": true,
        "colab": {
          "base_uri": "https://localhost:8080/"
        },
        "id": "wX0usAMw4O9C",
        "outputId": "82d10fcc-89e6-4041-d711-d6194205af46"
      },
      "execution_count": null,
      "outputs": [
        {
          "output_type": "stream",
          "name": "stdout",
          "text": [
            "True\n"
          ]
        }
      ]
    },
    {
      "cell_type": "code",
      "source": [
        "print(5 > 2.0 )"
      ],
      "metadata": {
        "colab": {
          "base_uri": "https://localhost:8080/"
        },
        "collapsed": true,
        "id": "r8-OfSMd4UUx",
        "outputId": "fe6ce828-053b-445e-c576-f926bc3222fb"
      },
      "execution_count": null,
      "outputs": [
        {
          "output_type": "stream",
          "name": "stdout",
          "text": [
            "True\n"
          ]
        }
      ]
    },
    {
      "cell_type": "code",
      "source": [
        "print(0.0 > False)"
      ],
      "metadata": {
        "colab": {
          "base_uri": "https://localhost:8080/"
        },
        "collapsed": true,
        "id": "SpOfvKhD4ZeD",
        "outputId": "2a5a4c08-527a-4982-9efb-785dcec1366d"
      },
      "execution_count": null,
      "outputs": [
        {
          "output_type": "stream",
          "name": "stdout",
          "text": [
            "False\n"
          ]
        }
      ]
    },
    {
      "cell_type": "markdown",
      "source": [
        "De manera muy similar podemos verificar si un valor es Menor, que mediante el comparador `( < )`"
      ],
      "metadata": {
        "id": "fxRtIg-941bo"
      }
    },
    {
      "cell_type": "markdown",
      "source": [
        "\n",
        "\n",
        "---\n",
        " * El siguiente codigo mediante un comparador de Menor que verifica si el primer dato ingresado `(6)` es menor que el segundo dato ingresado `(8)`.\n"
      ],
      "metadata": {
        "id": "qCvZXQR_5His"
      }
    },
    {
      "cell_type": "code",
      "source": [
        "print( 6 < 8)"
      ],
      "metadata": {
        "colab": {
          "base_uri": "https://localhost:8080/"
        },
        "id": "_THUlBzx5kGK",
        "outputId": "462e37dd-4147-413b-ac8f-e54c622e1e9b"
      },
      "execution_count": null,
      "outputs": [
        {
          "output_type": "stream",
          "name": "stdout",
          "text": [
            "True\n"
          ]
        }
      ]
    },
    {
      "cell_type": "markdown",
      "source": [
        "Esto retorna `True`, ya que efectivamente `6` es menor que `8`.\n",
        "\n",
        "\n",
        "\n",
        "---\n",
        "\n",
        "* Mas ejemplo de menor que.\n"
      ],
      "metadata": {
        "id": "eMJ9WSNS5tnx"
      }
    },
    {
      "cell_type": "code",
      "source": [
        "print( 8 < 3 )"
      ],
      "metadata": {
        "id": "ma28Mpmv6lQP"
      },
      "execution_count": null,
      "outputs": []
    },
    {
      "cell_type": "code",
      "source": [
        "print( 2 < 4.2)"
      ],
      "metadata": {
        "colab": {
          "base_uri": "https://localhost:8080/"
        },
        "id": "HliVBXYu61-y",
        "outputId": "f41a425c-8e85-4e1d-dc9f-ae8477ac5c37"
      },
      "execution_count": null,
      "outputs": [
        {
          "output_type": "stream",
          "name": "stdout",
          "text": [
            "True\n"
          ]
        }
      ]
    },
    {
      "cell_type": "code",
      "source": [
        "print( False < 5 )"
      ],
      "metadata": {
        "colab": {
          "base_uri": "https://localhost:8080/"
        },
        "id": "yBY-_z_W64j7",
        "outputId": "14233533-1ea3-4b5c-8e4b-3876b0128c11"
      },
      "execution_count": null,
      "outputs": [
        {
          "output_type": "stream",
          "name": "stdout",
          "text": [
            "True\n"
          ]
        }
      ]
    },
    {
      "cell_type": "code",
      "source": [
        "print(12 < True )"
      ],
      "metadata": {
        "colab": {
          "base_uri": "https://localhost:8080/"
        },
        "id": "n2EbBTLk67yW",
        "outputId": "1711fb76-03a3-48ea-9b83-fbb8220216e8"
      },
      "execution_count": null,
      "outputs": [
        {
          "output_type": "stream",
          "name": "stdout",
          "text": [
            "False\n"
          ]
        }
      ]
    },
    {
      "cell_type": "code",
      "source": [
        "print(1.0 < True)"
      ],
      "metadata": {
        "colab": {
          "base_uri": "https://localhost:8080/"
        },
        "id": "zNuqGlOY7A3y",
        "outputId": "236d7d19-0d2b-48d7-8653-7767db09d75d"
      },
      "execution_count": null,
      "outputs": [
        {
          "output_type": "stream",
          "name": "stdout",
          "text": [
            "False\n"
          ]
        }
      ]
    },
    {
      "cell_type": "code",
      "source": [
        "print(False < True)"
      ],
      "metadata": {
        "colab": {
          "base_uri": "https://localhost:8080/"
        },
        "id": "THqcSbB-7J4U",
        "outputId": "bf8987e2-515c-4fa2-ee60-973c2d7b03a6"
      },
      "execution_count": null,
      "outputs": [
        {
          "output_type": "stream",
          "name": "stdout",
          "text": [
            "True\n"
          ]
        }
      ]
    },
    {
      "cell_type": "markdown",
      "source": [
        "En el caso de Mayor que `( > )` y Menor que `( < )`, debemos tener cuidado de no comparar datos numericos con datos tipo texto ya que esto causara un error en ambos casos.\n",
        "\n",
        "***Ejemplos :***"
      ],
      "metadata": {
        "id": "cTfGsS7ppPn6"
      }
    },
    {
      "cell_type": "code",
      "source": [
        "print(10>\"a\")"
      ],
      "metadata": {
        "colab": {
          "base_uri": "https://localhost:8080/",
          "height": 144
        },
        "collapsed": true,
        "id": "fgCNNnp7pyaH",
        "outputId": "12451ec2-a032-4f40-8a3c-50daee563bfe"
      },
      "execution_count": null,
      "outputs": [
        {
          "output_type": "error",
          "ename": "TypeError",
          "evalue": "'>' not supported between instances of 'int' and 'str'",
          "traceback": [
            "\u001b[0;31m---------------------------------------------------------------------------\u001b[0m",
            "\u001b[0;31mTypeError\u001b[0m                                 Traceback (most recent call last)",
            "\u001b[0;32m<ipython-input-5-4abb221ab15e>\u001b[0m in \u001b[0;36m<cell line: 1>\u001b[0;34m()\u001b[0m\n\u001b[0;32m----> 1\u001b[0;31m \u001b[0mprint\u001b[0m\u001b[0;34m(\u001b[0m\u001b[0;36m10\u001b[0m\u001b[0;34m>\u001b[0m\u001b[0;34m\"a\"\u001b[0m\u001b[0;34m)\u001b[0m\u001b[0;34m\u001b[0m\u001b[0;34m\u001b[0m\u001b[0m\n\u001b[0m",
            "\u001b[0;31mTypeError\u001b[0m: '>' not supported between instances of 'int' and 'str'"
          ]
        }
      ]
    },
    {
      "cell_type": "code",
      "source": [
        "print(5<\"Azul\")"
      ],
      "metadata": {
        "id": "ioLoL9BSp6G6"
      },
      "execution_count": null,
      "outputs": []
    },
    {
      "cell_type": "markdown",
      "source": [
        "* Ambos causan errores por comparar datos tipo numericos con datos tipo texto."
      ],
      "metadata": {
        "id": "Xs8Fxsy_qHBT"
      }
    },
    {
      "cell_type": "markdown",
      "source": [
        "* Al igual que podemos hallar si un numero es mayor o menor que otro tambien podemos evaluar si un numero es mayor o igual, o menor o igual mediante los siguientes comparadores :\n",
        "\n",
        "* Mayor o igual que `( >= )`\n",
        "\n",
        "* Menor o igual que `( <= ) `\n",
        "\n",
        "De misma manera podemos utilizar estos comparadores para evaluar dos tipos de datos teniendo cuidado de no mezclar datos numericos con datos de texto.\n",
        "\n",
        "***Ejemplo-1 :***"
      ],
      "metadata": {
        "id": "AiiIcq9rqPwH"
      }
    },
    {
      "cell_type": "code",
      "source": [
        "print(5>=5)"
      ],
      "metadata": {
        "colab": {
          "base_uri": "https://localhost:8080/"
        },
        "id": "I30E5O68ku5c",
        "outputId": "024b0423-97e2-4908-a22b-ced8c32c98eb"
      },
      "execution_count": 1,
      "outputs": [
        {
          "output_type": "stream",
          "name": "stdout",
          "text": [
            "True\n"
          ]
        }
      ]
    },
    {
      "cell_type": "markdown",
      "source": [
        "El anterior ejemplo retornara `True`, ya que el primer parametro no es mayor pero si igual al segundo parametro.\n",
        "\n",
        "* Pero si de lo contrario el primer parametro fuera mayor al segundo entonces :"
      ],
      "metadata": {
        "id": "W13jWqOqk1Vl"
      }
    },
    {
      "cell_type": "code",
      "source": [
        "print(10>=5)"
      ],
      "metadata": {
        "colab": {
          "base_uri": "https://localhost:8080/"
        },
        "id": "-SvQJhailk71",
        "outputId": "389c5387-3600-40b9-9c25-c1108759142f"
      },
      "execution_count": 2,
      "outputs": [
        {
          "output_type": "stream",
          "name": "stdout",
          "text": [
            "True\n"
          ]
        }
      ]
    },
    {
      "cell_type": "markdown",
      "source": [
        "* Tambien retornara `True` ya que se sigue cumpliendo con la condicion de ser Mayor o igual que.\n",
        "\n",
        "De esta misma manera funciona el Menor o igual que  :"
      ],
      "metadata": {
        "id": "HuQ2J1fNlu77"
      }
    },
    {
      "cell_type": "code",
      "source": [
        "print(3<=3)"
      ],
      "metadata": {
        "colab": {
          "base_uri": "https://localhost:8080/"
        },
        "id": "7WU_y98Il3Q_",
        "outputId": "69d68a5f-c1d7-4a6b-91df-10bcc3b58c51"
      },
      "execution_count": 3,
      "outputs": [
        {
          "output_type": "stream",
          "name": "stdout",
          "text": [
            "True\n"
          ]
        }
      ]
    },
    {
      "cell_type": "markdown",
      "source": [
        "Vuelve a retornar `True`, ya que el segundo parametro es igual al primero, pero si el primer parametro fuera menor al segundo seguiria retornando `True`."
      ],
      "metadata": {
        "id": "D1KHHjFvmHxe"
      }
    },
    {
      "cell_type": "code",
      "source": [
        "print(1<=3)"
      ],
      "metadata": {
        "colab": {
          "base_uri": "https://localhost:8080/"
        },
        "id": "UYT1j7McmTcE",
        "outputId": "bc36f584-31f3-43ef-d51b-495a0bbf736e"
      },
      "execution_count": 4,
      "outputs": [
        {
          "output_type": "stream",
          "name": "stdout",
          "text": [
            "True\n"
          ]
        }
      ]
    },
    {
      "cell_type": "markdown",
      "source": [
        "# **Preguntas de comparadores.**"
      ],
      "metadata": {
        "id": "6tywRPZYmc7A"
      }
    },
    {
      "cell_type": "markdown",
      "source": [
        "* `¿Que retornara el siguiente codigo?`"
      ],
      "metadata": {
        "id": "gNQGZgfgmo0W"
      }
    },
    {
      "cell_type": "code",
      "source": [
        "Variable1 = 5\n",
        "\n",
        "Variable2 = 2 + 3\n",
        "\n",
        "print(Variable1>=Variable2)"
      ],
      "metadata": {
        "colab": {
          "base_uri": "https://localhost:8080/"
        },
        "collapsed": true,
        "id": "2f1-byA6nbrr",
        "outputId": "cba57d5b-e19d-4ccf-f296-cbff552468ea"
      },
      "execution_count": 5,
      "outputs": [
        {
          "output_type": "stream",
          "name": "stdout",
          "text": [
            "True\n"
          ]
        }
      ]
    },
    {
      "cell_type": "markdown",
      "source": [
        "\n",
        "\n",
        "---\n",
        "\n",
        "* `¿Que retornara el siguiente codigo?`"
      ],
      "metadata": {
        "id": "M0S7pNulnreF"
      }
    },
    {
      "cell_type": "code",
      "source": [
        "Variable1 = 2**2\n",
        "\n",
        "Variable2 = 2 + 3\n",
        "\n",
        "print(Variable1>=Variable2)"
      ],
      "metadata": {
        "colab": {
          "base_uri": "https://localhost:8080/"
        },
        "collapsed": true,
        "id": "HEfgffwfnpy1",
        "outputId": "1da20c74-43ca-43a9-e3bf-bd578009ebcf"
      },
      "execution_count": 6,
      "outputs": [
        {
          "output_type": "stream",
          "name": "stdout",
          "text": [
            "False\n"
          ]
        }
      ]
    },
    {
      "cell_type": "markdown",
      "source": [
        "\n",
        "\n",
        "---\n",
        "\n",
        "* `¿Que retornara el siguiente codigo?`"
      ],
      "metadata": {
        "id": "80XtGa7DnxvT"
      }
    },
    {
      "cell_type": "code",
      "source": [
        "Variable1 = 2**0\n",
        "\n",
        "Variable2 = (2+2)/(2*2)\n",
        "\n",
        "print(Variable1!=Variable2)"
      ],
      "metadata": {
        "colab": {
          "base_uri": "https://localhost:8080/"
        },
        "collapsed": true,
        "id": "cHJG6wNpn1Rk",
        "outputId": "a2a53b8e-ac9c-400d-f89b-3e159f4d0b6b"
      },
      "execution_count": 8,
      "outputs": [
        {
          "output_type": "stream",
          "name": "stdout",
          "text": [
            "False\n"
          ]
        }
      ]
    },
    {
      "cell_type": "markdown",
      "source": [
        "\n",
        "\n",
        "---\n",
        "\n",
        "* `¿Que retornara el siguiente codigo?`"
      ],
      "metadata": {
        "id": "GQPHQSBXoDjW"
      }
    },
    {
      "cell_type": "code",
      "source": [
        "Variable1 = 2\n",
        "\n",
        "Variable2 = (2+2)**Variable1\n",
        "\n",
        "print(Variable1<=Variable2)"
      ],
      "metadata": {
        "colab": {
          "base_uri": "https://localhost:8080/"
        },
        "collapsed": true,
        "id": "fhQLWWZhoBiS",
        "outputId": "ca98c3bf-f909-445f-de21-6c3e5240b127"
      },
      "execution_count": 9,
      "outputs": [
        {
          "output_type": "stream",
          "name": "stdout",
          "text": [
            "True\n"
          ]
        }
      ]
    },
    {
      "cell_type": "markdown",
      "source": [
        "\n",
        "\n",
        "---\n",
        "\n",
        "* `¿Que retornara el siguiente codigo?`"
      ],
      "metadata": {
        "id": "SdbnWjQBoL9u"
      }
    },
    {
      "cell_type": "code",
      "source": [
        "Variable1 = 2**(2+1)-3\n",
        "\n",
        "Variable2 = 2*2+1\n",
        "\n",
        "print(Variable1==Variable2)"
      ],
      "metadata": {
        "colab": {
          "base_uri": "https://localhost:8080/"
        },
        "collapsed": true,
        "id": "Nbxp8S55oeBn",
        "outputId": "8e723aca-5d28-4347-9684-f4a5a082f3a4"
      },
      "execution_count": 10,
      "outputs": [
        {
          "output_type": "stream",
          "name": "stdout",
          "text": [
            "True\n"
          ]
        }
      ]
    },
    {
      "cell_type": "markdown",
      "source": [
        "\n",
        "\n",
        "---\n",
        "\n",
        "* `¿Que retornara el siguiente codigo?`"
      ],
      "metadata": {
        "id": "5MFvY7qOoUgy"
      }
    },
    {
      "cell_type": "code",
      "source": [
        "Variable1 = \"Texto\"\n",
        "\n",
        "Variable2 = \"Texto1\"\n",
        "\n",
        "Variable3 = \"1\"\n",
        "\n",
        "print((Variable1+Variable3)!=Variable2)"
      ],
      "metadata": {
        "colab": {
          "base_uri": "https://localhost:8080/"
        },
        "collapsed": true,
        "id": "xLuaKydnoeSj",
        "outputId": "238fcace-80ce-4f04-d591-22bdd1f160a9"
      },
      "execution_count": 16,
      "outputs": [
        {
          "output_type": "stream",
          "name": "stdout",
          "text": [
            "False\n"
          ]
        }
      ]
    },
    {
      "cell_type": "markdown",
      "source": [
        "\n",
        "\n",
        "---\n",
        "\n",
        "* `¿Que retornara el siguiente codigo?`"
      ],
      "metadata": {
        "id": "Fa9Jqs-goWgA"
      }
    },
    {
      "cell_type": "code",
      "source": [
        "Variable1 = 1\n",
        "\n",
        "Variable2 = \"2\"\n",
        "\n",
        "\n",
        "\n",
        "print((Variable1+1)==Variable2)"
      ],
      "metadata": {
        "colab": {
          "base_uri": "https://localhost:8080/"
        },
        "collapsed": true,
        "id": "OW3RESF8oejY",
        "outputId": "c9663b40-dd03-4b58-f801-d1d760103894"
      },
      "execution_count": 19,
      "outputs": [
        {
          "output_type": "stream",
          "name": "stdout",
          "text": [
            "True\n"
          ]
        }
      ]
    },
    {
      "cell_type": "markdown",
      "source": [
        "\n",
        "\n",
        "---\n",
        "\n",
        "* `¿Que retornara el siguiente codigo?`"
      ],
      "metadata": {
        "id": "bw7kUYfeoXrY"
      }
    },
    {
      "cell_type": "code",
      "source": [
        "Variable1 = 1\n",
        "\n",
        "Variable2 = int(\"2\")\n",
        "\n",
        "print(Variable1>=Variable2)"
      ],
      "metadata": {
        "colab": {
          "base_uri": "https://localhost:8080/"
        },
        "collapsed": true,
        "id": "8kwvVApVofMT",
        "outputId": "e58c7b0b-0f18-421c-8fa0-acb029c0e5f3"
      },
      "execution_count": 20,
      "outputs": [
        {
          "output_type": "stream",
          "name": "stdout",
          "text": [
            "False\n"
          ]
        }
      ]
    },
    {
      "cell_type": "markdown",
      "source": [
        "\n",
        "\n",
        "---\n",
        "\n",
        "* `¿Que retornara el siguiente codigo?`"
      ],
      "metadata": {
        "id": "QlqbC2iRoYXJ"
      }
    },
    {
      "cell_type": "code",
      "source": [
        "Variable1 = 12\n",
        "\n",
        "Variable2 = \"1\" + \"2\"\n",
        "\n",
        "print(Variable1>=int(Variable2))"
      ],
      "metadata": {
        "colab": {
          "base_uri": "https://localhost:8080/"
        },
        "collapsed": true,
        "id": "rFsDh-5Goftn",
        "outputId": "e7b7fc91-0423-4428-b5b1-8ab72717fee4"
      },
      "execution_count": 22,
      "outputs": [
        {
          "output_type": "stream",
          "name": "stdout",
          "text": [
            "True\n"
          ]
        }
      ]
    },
    {
      "cell_type": "markdown",
      "source": [
        "\n",
        "\n",
        "---\n",
        "\n",
        "* `¿Que retornara el siguiente codigo?`"
      ],
      "metadata": {
        "id": "gwSWxethoZL5"
      }
    },
    {
      "cell_type": "code",
      "source": [
        "Variable1 = \"Texto\"\n",
        "\n",
        "print(Variable1==5)"
      ],
      "metadata": {
        "colab": {
          "base_uri": "https://localhost:8080/"
        },
        "collapsed": true,
        "id": "9TWawfwtogAB",
        "outputId": "ba984cf9-dc1a-4dfd-993c-0de44977b287"
      },
      "execution_count": 23,
      "outputs": [
        {
          "output_type": "stream",
          "name": "stdout",
          "text": [
            "False\n"
          ]
        }
      ]
    },
    {
      "cell_type": "markdown",
      "source": [
        "\n",
        "\n",
        "---\n",
        "\n",
        "* `¿Que retornara el siguiente codigo?`"
      ],
      "metadata": {
        "id": "pM-3VAj_oZzg"
      }
    },
    {
      "cell_type": "code",
      "source": [
        "Variable1 = 2\n",
        "\n",
        "Variable1 **= 2\n",
        "\n",
        "Variable2 = 6\n",
        "\n",
        "Variable2 -= 2\n",
        "\n",
        "print(Variable1<=Variable2)"
      ],
      "metadata": {
        "colab": {
          "base_uri": "https://localhost:8080/"
        },
        "id": "ClEEgYNlogWF",
        "outputId": "870db8d9-fe27-43a9-c4ff-0c1e990c45b1"
      },
      "execution_count": 24,
      "outputs": [
        {
          "output_type": "stream",
          "name": "stdout",
          "text": [
            "True\n"
          ]
        }
      ]
    },
    {
      "cell_type": "markdown",
      "source": [
        "\n",
        "\n",
        "---\n",
        "\n",
        "* `¿Que retornara el siguiente codigo?`"
      ],
      "metadata": {
        "id": "QTm7QOJnoab3"
      }
    },
    {
      "cell_type": "code",
      "source": [
        "Variable1 = int(\"4\")\n",
        "\n",
        "Variable1 /= 2\n",
        "\n",
        "Variable2 = 2\n",
        "\n",
        "Variable2 *= 2\n",
        "\n",
        "print(str(Variable1)<=Variable2)"
      ],
      "metadata": {
        "colab": {
          "base_uri": "https://localhost:8080/"
        },
        "collapsed": true,
        "id": "Os1Y3eqOogun",
        "outputId": "56f93782-2d50-452c-f196-6c32b224a13e"
      },
      "execution_count": 26,
      "outputs": [
        {
          "output_type": "stream",
          "name": "stdout",
          "text": [
            "True\n"
          ]
        }
      ]
    },
    {
      "cell_type": "markdown",
      "source": [
        "\n",
        "\n",
        "---\n",
        "\n",
        "* `¿Que retornara el siguiente codigo?`"
      ],
      "metadata": {
        "id": "ZOKR6f_yobBk"
      }
    },
    {
      "cell_type": "code",
      "source": [
        "Variable1 = 16\n",
        "\n",
        "Variable2 -= 2**(2+1)\n",
        "\n",
        "Variable2 = 5/(2**2+1)\n",
        "\n",
        "Variable2 += 7\n",
        "\n",
        "print(Variable1!=Variable2)"
      ],
      "metadata": {
        "colab": {
          "base_uri": "https://localhost:8080/"
        },
        "collapsed": true,
        "id": "8pG9X048ohEI",
        "outputId": "82824d99-ddcc-41f1-9ad3-b24792895c38"
      },
      "execution_count": 27,
      "outputs": [
        {
          "output_type": "stream",
          "name": "stdout",
          "text": [
            "True\n"
          ]
        }
      ]
    },
    {
      "cell_type": "markdown",
      "source": [
        "\n",
        "\n",
        "---\n",
        "\n",
        "* `¿Que retornara el siguiente codigo?`"
      ],
      "metadata": {
        "id": "NCRif3skobqH"
      }
    },
    {
      "cell_type": "code",
      "source": [
        "Variable1 = 16\n",
        "\n",
        "Variable2 -= 2**(2+1)\n",
        "\n",
        "Variable2 = 5/(2**2+1)\n",
        "\n",
        "Variable2 += 7\n",
        "\n",
        "print(Variable1!=Variable2)"
      ],
      "metadata": {
        "id": "CaCg1QXJohcf"
      },
      "execution_count": null,
      "outputs": []
    },
    {
      "cell_type": "markdown",
      "source": [
        "\n",
        "\n",
        "---\n",
        "\n",
        "* `¿Que retornara el siguiente codigo?`"
      ],
      "metadata": {
        "id": "TNABYqsgocRw"
      }
    },
    {
      "cell_type": "code",
      "source": [
        "Variable1 = 17\n",
        "\n",
        "Variable1 -= 2**(2+2)\n",
        "\n",
        "Variable2 = 5/(2**2+1)\n",
        "\n",
        "Variable2 += 1\n",
        "\n",
        "Variable3 = 3\n",
        "\n",
        "Variable2 -= 2-1\n",
        "\n",
        "print(Variable1==Variable2)"
      ],
      "metadata": {
        "colab": {
          "base_uri": "https://localhost:8080/"
        },
        "collapsed": true,
        "id": "iDlreF-woh6j",
        "outputId": "6e2fed55-586c-4fd3-e4b9-5061ac417133"
      },
      "execution_count": 34,
      "outputs": [
        {
          "output_type": "stream",
          "name": "stdout",
          "text": [
            "True\n"
          ]
        }
      ]
    },
    {
      "cell_type": "markdown",
      "source": [
        "\n",
        "\n",
        "---\n",
        "\n",
        "* `¿Que retornara el siguiente codigo?`"
      ],
      "metadata": {
        "id": "jDBRRUr4oc_a"
      }
    },
    {
      "cell_type": "code",
      "source": [
        "A = 20\n",
        "\n",
        "A += 3 * (2**2)\n",
        "\n",
        "B = 50 / (2**3)\n",
        "\n",
        "B -= 4\n",
        "\n",
        "A -= B\n",
        "\n",
        "print(A == B)\n"
      ],
      "metadata": {
        "colab": {
          "base_uri": "https://localhost:8080/"
        },
        "collapsed": true,
        "id": "yf1XQljjsOJ3",
        "outputId": "798b5c79-6fd3-4ec2-ab7a-d8934b2c4468"
      },
      "execution_count": 33,
      "outputs": [
        {
          "output_type": "stream",
          "name": "stdout",
          "text": [
            "False\n"
          ]
        }
      ]
    },
    {
      "cell_type": "markdown",
      "source": [
        "---\n",
        "\n",
        "* `¿Que retornara el siguiente codigo?`"
      ],
      "metadata": {
        "id": "aNKMCWEasPO2"
      }
    },
    {
      "cell_type": "code",
      "source": [
        "X = 15\n",
        "\n",
        "X -= 2**(1+2)\n",
        "\n",
        "Y = 8 / (2 + 2)\n",
        "\n",
        "Y *= 3\n",
        "\n",
        "X += Y\n",
        "\n",
        "print(X != Y)\n"
      ],
      "metadata": {
        "collapsed": true,
        "colab": {
          "base_uri": "https://localhost:8080/"
        },
        "id": "h-T7TIK4sTjv",
        "outputId": "1c4a03fd-db86-4f35-8ef5-b6deca217bee"
      },
      "execution_count": 32,
      "outputs": [
        {
          "output_type": "stream",
          "name": "stdout",
          "text": [
            "True\n"
          ]
        }
      ]
    },
    {
      "cell_type": "markdown",
      "source": [
        "# **Programas asociados a comparadores.**"
      ],
      "metadata": {
        "id": "pU6dPGCdsc6P"
      }
    }
  ]
}