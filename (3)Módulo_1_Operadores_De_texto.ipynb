{
  "nbformat": 4,
  "nbformat_minor": 0,
  "metadata": {
    "colab": {
      "provenance": [],
      "authorship_tag": "ABX9TyMY8p70Qc3h7EFi7oF5FLMB",
      "include_colab_link": true
    },
    "kernelspec": {
      "name": "python3",
      "display_name": "Python 3"
    },
    "language_info": {
      "name": "python"
    }
  },
  "cells": [
    {
      "cell_type": "markdown",
      "metadata": {
        "id": "view-in-github",
        "colab_type": "text"
      },
      "source": [
        "<a href=\"https://colab.research.google.com/github/ElCbolla/CursoDeProgramacionPython/blob/main/(3)M%C3%B3dulo_1_Operadores_De_texto.ipynb\" target=\"_parent\"><img src=\"https://colab.research.google.com/assets/colab-badge.svg\" alt=\"Open In Colab\"/></a>"
      ]
    },
    {
      "cell_type": "markdown",
      "source": [
        "#**Operadores aritmeticos en textos Python**\n",
        "\n",
        "Los textos o datos tipo `{str}` tambien son compatibles con algunos operadores aritmeticos, en este contexto se puede utilizar Suma `(+)` y Multiplicacion `(*)`"
      ],
      "metadata": {
        "id": "835KX_zmtpcr"
      }
    },
    {
      "cell_type": "markdown",
      "source": [
        "***Algunos ejemplos en el contexto de operadores aritmeticos aplicados a Texto o datos tipo `{str}` :***"
      ],
      "metadata": {
        "id": "a-KN64VYuIF0"
      }
    },
    {
      "cell_type": "markdown",
      "source": [
        "En el siguiente ejemplo se aplica lo que se le llama **concatenacion** en programacion, esto basicamente se basa en juntar dos o mas cadenas de texto de tipo : `{str}`, formando un solo texto mediante el conjunto de textos dados."
      ],
      "metadata": {
        "id": "LojlV8s0vkhx"
      }
    },
    {
      "cell_type": "code",
      "source": [
        "#La siguiente linea de codigo generara una concatenacion entre el texto (\"Hola\") y el texto (\"Como estas\").\n",
        "print(\"Hola\" + \"Como estas?\")"
      ],
      "metadata": {
        "colab": {
          "base_uri": "https://localhost:8080/"
        },
        "id": "OXBrtYUgu9pt",
        "outputId": "b5a5cdd0-6bf5-4199-c117-dd57c378bb9c"
      },
      "execution_count": null,
      "outputs": [
        {
          "output_type": "stream",
          "name": "stdout",
          "text": [
            "HolaComo estas?\n"
          ]
        }
      ]
    },
    {
      "cell_type": "markdown",
      "source": [
        "Es importante aclarar que puedes concatenar la cantidad de cadenas de texto que quieras :\n",
        "\n",
        "Y tambien se puede concatenar por medio de variables."
      ],
      "metadata": {
        "id": "AvGmYxBj1ewS"
      }
    },
    {
      "cell_type": "code",
      "source": [
        "print(\"a\" + \"b\" + \"c\" + \"d\")"
      ],
      "metadata": {
        "colab": {
          "base_uri": "https://localhost:8080/"
        },
        "id": "rsocsn5Z1msZ",
        "outputId": "af6087cc-3608-4940-efe9-67804da14c55"
      },
      "execution_count": null,
      "outputs": [
        {
          "output_type": "stream",
          "name": "stdout",
          "text": [
            "abcd\n"
          ]
        }
      ]
    },
    {
      "cell_type": "code",
      "source": [
        "VariableDeTexto1 = \"Que\"\n",
        "\n",
        "VariableDeTexto2 = \"So\"\n",
        "\n",
        "print(VariableDeTexto1 + VariableDeTexto2)\n",
        "\n"
      ],
      "metadata": {
        "colab": {
          "base_uri": "https://localhost:8080/"
        },
        "id": "xOxwIYo1P6Md",
        "outputId": "6e63c9ca-360a-453a-ed96-b6ce054ce6b1"
      },
      "execution_count": null,
      "outputs": [
        {
          "output_type": "stream",
          "name": "stdout",
          "text": [
            "QueSo\n"
          ]
        }
      ]
    },
    {
      "cell_type": "markdown",
      "source": [
        "Existen dos tipos de concatenaciones, la primera es mediante el operador aritmetico de suma `(+)` , con este metodo solo se pueden concatenar dos datos de tipo `{str}`.\n",
        "\n",
        "Si se aplica la concatenacion mediante una suma `(+)` entre un dato tipo `{str}` y un dato `{int}` esto generara un error, como se muestra a continuacion :"
      ],
      "metadata": {
        "id": "DHirWcCAxUsg"
      }
    },
    {
      "cell_type": "code",
      "source": [
        "print(\"Hola\" + 1)"
      ],
      "metadata": {
        "colab": {
          "base_uri": "https://localhost:8080/",
          "height": 146
        },
        "id": "uGIn0Ee6vkDC",
        "outputId": "92eccff0-e704-43b2-cb54-7e2d29763431"
      },
      "execution_count": null,
      "outputs": [
        {
          "output_type": "error",
          "ename": "TypeError",
          "evalue": "can only concatenate str (not \"int\") to str",
          "traceback": [
            "\u001b[0;31m---------------------------------------------------------------------------\u001b[0m",
            "\u001b[0;31mTypeError\u001b[0m                                 Traceback (most recent call last)",
            "\u001b[0;32m<ipython-input-2-9e722972ff3d>\u001b[0m in \u001b[0;36m<cell line: 1>\u001b[0;34m()\u001b[0m\n\u001b[0;32m----> 1\u001b[0;31m \u001b[0mprint\u001b[0m\u001b[0;34m(\u001b[0m\u001b[0;34m\"Hola\"\u001b[0m \u001b[0;34m+\u001b[0m \u001b[0;36m1\u001b[0m\u001b[0;34m)\u001b[0m\u001b[0;34m\u001b[0m\u001b[0;34m\u001b[0m\u001b[0m\n\u001b[0m",
            "\u001b[0;31mTypeError\u001b[0m: can only concatenate str (not \"int\") to str"
          ]
        }
      ]
    },
    {
      "cell_type": "markdown",
      "source": [
        "Si necesitamos concatenar un dato de tipo `{str}`, con un dato entero `{int}`, o decimal `{float}`, o booleano `{bool}` ocupamos hacerlo mediante una coma `( , )` de esta forma la concatenacion se puede realizar con casi cualquier tipo de dato.\n",
        "\n",
        "***Ejemplo :***"
      ],
      "metadata": {
        "id": "nwg4zWL7ybJm"
      }
    },
    {
      "cell_type": "code",
      "source": [
        "print(\"Tu dinero ahorrado es : \", 5)"
      ],
      "metadata": {
        "colab": {
          "base_uri": "https://localhost:8080/"
        },
        "id": "6ZsVzlDCzJ-w",
        "outputId": "36506e72-be27-4d2e-96f7-5c8ae8f717bc"
      },
      "execution_count": null,
      "outputs": [
        {
          "output_type": "stream",
          "name": "stdout",
          "text": [
            "Tu dinero ahorrado es :  5\n"
          ]
        }
      ]
    },
    {
      "cell_type": "markdown",
      "source": [
        "De esta misma manera puedes concatenar textos con decimales o booleanos.\n",
        "\n",
        "***Mas ejemplos :***"
      ],
      "metadata": {
        "id": "qCLnEAiFzhN4"
      }
    },
    {
      "cell_type": "code",
      "source": [
        "print(\"Tu estatura es de : \", 1.65)"
      ],
      "metadata": {
        "colab": {
          "base_uri": "https://localhost:8080/"
        },
        "id": "-K62TcpqzdjT",
        "outputId": "73811e34-6795-49ea-97c9-709b0d6cb687"
      },
      "execution_count": null,
      "outputs": [
        {
          "output_type": "stream",
          "name": "stdout",
          "text": [
            "Tu estatura es de :  1.65\n"
          ]
        }
      ]
    },
    {
      "cell_type": "code",
      "source": [
        "print(\"Tu valor booleano es : \", True)"
      ],
      "metadata": {
        "colab": {
          "base_uri": "https://localhost:8080/",
          "height": 146
        },
        "id": "4lA2clFTz6KN",
        "outputId": "a16ad247-8cb1-4dc4-eee5-1a4007303007"
      },
      "execution_count": null,
      "outputs": [
        {
          "output_type": "error",
          "ename": "TypeError",
          "evalue": "can only concatenate str (not \"bool\") to str",
          "traceback": [
            "\u001b[0;31m---------------------------------------------------------------------------\u001b[0m",
            "\u001b[0;31mTypeError\u001b[0m                                 Traceback (most recent call last)",
            "\u001b[0;32m<ipython-input-6-664b0a2c9e4d>\u001b[0m in \u001b[0;36m<cell line: 1>\u001b[0;34m()\u001b[0m\n\u001b[0;32m----> 1\u001b[0;31m \u001b[0mprint\u001b[0m\u001b[0;34m(\u001b[0m\u001b[0;34m\"Tu valor booleano es : \"\u001b[0m \u001b[0;34m+\u001b[0m \u001b[0;32mTrue\u001b[0m\u001b[0;34m)\u001b[0m\u001b[0;34m\u001b[0m\u001b[0;34m\u001b[0m\u001b[0m\n\u001b[0m",
            "\u001b[0;31mTypeError\u001b[0m: can only concatenate str (not \"bool\") to str"
          ]
        }
      ]
    },
    {
      "cell_type": "markdown",
      "source": [
        "Una gran diferencia que hay entre concatenar con `( + )` y concatenar con `( , )` es que al concatenar con `( + )` La salida dara el resultado de la concatenacion sin espacio como por ejemplo :\n",
        "\n",
        "\n",
        "\n",
        "```\n",
        "print( \"Que\" + \"so\" )\n",
        "```\n",
        "\n",
        "\n",
        "```\n",
        "# Salida ➡ Queso\n",
        "```\n",
        "\n",
        "Pero si la concatenacion se hiciera por medio de un` ( , )` :\n",
        "\n",
        "```\n",
        "print( \"Que\" , \"so\" )\n",
        "```\n",
        "\n",
        "\n",
        "```\n",
        "# Salida ➡ Que so\n",
        "```\n",
        "\n",
        "\n"
      ],
      "metadata": {
        "id": "7y2L3ClSKPpL"
      }
    },
    {
      "cell_type": "markdown",
      "source": [
        "Es importante aclarar que todos los ejemplos anteriores si se hubieran hecho mediante una **concatenacion** de suma `( + )` hubieran generado un error.\n",
        "\n",
        "El simbolo ` ( , )` no solo sirve para concatenar datos de tipo `{str}` con datos de otros tipos, mediante la coma tambien puedes concatenar dos datos de tipo `{int}` o dos datos de tipo `{bool}` o incluso un dato de tipo `{int}` con otro de tipo `{bool}` como se muestra a continuacion :"
      ],
      "metadata": {
        "id": "NUfDOG220Fe9"
      }
    },
    {
      "cell_type": "code",
      "source": [
        "#Concatenacion entre dos datos de tipo entero {int}\n",
        "print(1 , 1)"
      ],
      "metadata": {
        "colab": {
          "base_uri": "https://localhost:8080/"
        },
        "id": "d31I4v6X2Cnu",
        "outputId": "4c1a28ff-0b3b-4aff-dd5f-b5cb4d601b94"
      },
      "execution_count": null,
      "outputs": [
        {
          "output_type": "stream",
          "name": "stdout",
          "text": [
            "1 1\n"
          ]
        }
      ]
    },
    {
      "cell_type": "code",
      "source": [
        "#Concatenacion entre dos datos de tipo decimal {float}\n",
        "print(1.5 , 1.3)"
      ],
      "metadata": {
        "colab": {
          "base_uri": "https://localhost:8080/"
        },
        "id": "xAXj7VvG2Pmw",
        "outputId": "9def94b2-c5f8-4828-9fa1-7df84f7bc3ac"
      },
      "execution_count": null,
      "outputs": [
        {
          "output_type": "stream",
          "name": "stdout",
          "text": [
            "1.5 1.3\n"
          ]
        }
      ]
    },
    {
      "cell_type": "code",
      "source": [
        "#Concatenacion entre dos datos de tipo booleanos {bool}\n",
        "print(False , True )"
      ],
      "metadata": {
        "colab": {
          "base_uri": "https://localhost:8080/"
        },
        "id": "s1UREl9s10sK",
        "outputId": "3a024eff-6ec3-4f10-d531-ff3209879972"
      },
      "execution_count": null,
      "outputs": [
        {
          "output_type": "stream",
          "name": "stdout",
          "text": [
            "False True\n"
          ]
        }
      ]
    },
    {
      "cell_type": "code",
      "source": [
        "#Concatenacion entre un dato de tipo {bool} y otro de tipo {int}\n",
        "print(True,10)"
      ],
      "metadata": {
        "colab": {
          "base_uri": "https://localhost:8080/"
        },
        "id": "1j0eT55oJTCg",
        "outputId": "88ba1915-f3d5-437a-a879-b858549aff5a"
      },
      "execution_count": null,
      "outputs": [
        {
          "output_type": "stream",
          "name": "stdout",
          "text": [
            "True 10\n"
          ]
        }
      ]
    },
    {
      "cell_type": "code",
      "source": [
        "#Concatenacion entre un dato entero {int} otro de tipo decimal {float}\n",
        "print(10.5,10)"
      ],
      "metadata": {
        "colab": {
          "base_uri": "https://localhost:8080/"
        },
        "id": "hxQmHCvNJcNV",
        "outputId": "5fc601b1-04a6-468c-92a3-302c2ce5c172"
      },
      "execution_count": null,
      "outputs": [
        {
          "output_type": "stream",
          "name": "stdout",
          "text": [
            "10.5 10\n"
          ]
        }
      ]
    },
    {
      "cell_type": "markdown",
      "source": [
        "De esta manera tambien se pueden concatenar la cantidad de datos que desees y del tipo que quieras.\n",
        "\n",
        "Y se pueden concatenar igualmente por medio de variables."
      ],
      "metadata": {
        "id": "xjB6TuW_KBtr"
      }
    },
    {
      "cell_type": "code",
      "source": [
        "print(10,True,\"hola\",2.5)"
      ],
      "metadata": {
        "colab": {
          "base_uri": "https://localhost:8080/"
        },
        "id": "rszeGHdqK1K1",
        "outputId": "5003243d-4589-479b-a648-f8b28f7f78d1"
      },
      "execution_count": null,
      "outputs": [
        {
          "output_type": "stream",
          "name": "stdout",
          "text": [
            "10 True hola 2.5\n"
          ]
        }
      ]
    },
    {
      "cell_type": "code",
      "source": [
        "Variable1 = True\n",
        "\n",
        "Variable2 = \"a\"\n",
        "\n",
        "print(Variable1,Variable2)"
      ],
      "metadata": {
        "colab": {
          "base_uri": "https://localhost:8080/"
        },
        "id": "TvsgoogDQShl",
        "outputId": "48bc03f2-6c2c-4ec8-df1b-365b446685bd"
      },
      "execution_count": null,
      "outputs": [
        {
          "output_type": "stream",
          "name": "stdout",
          "text": [
            "True a\n"
          ]
        }
      ]
    },
    {
      "cell_type": "markdown",
      "source": [
        "#**Tabla de ejemplos de concatenacion**."
      ],
      "metadata": {
        "id": "8Hxa_Y24LAQP"
      }
    },
    {
      "cell_type": "code",
      "source": [
        "import pandas as pd\n",
        "\n",
        "data = {\n",
        "    \"Metodo\": [\n",
        "        \"Concatenacion con `+` ( Solo funciona con datos de tipo {str}).\" , \"Concatenacion con `+` ( Solo funciona con datos de tipo {str}).\", \"Concatenacion con `+` ( Solo funciona con datos de tipo {str}).\",\n",
        "        \"Concatenacion con `,` Funciona con datos de casi todos los tipos.\", \"Concatenacion con `,` Funciona con datos de casi todos los tipos.\", \"Concatenacion con `,` Funciona con datos de casi todos los tipos.\"\n",
        "    ],\n",
        "    \"Ejemplo\": [\n",
        "        '\"Hola\" + \"Mundo\" = \"HolaMundo\"',\n",
        "        '\"Nombre\" + \"Juan\" = \"NombreJuan\"',\n",
        "        '\"Edad: \" + \"25\" = \"Edad:25\"',\n",
        "        '\"Hola\" , \"Mundo\" = Hola mundo',\n",
        "        '\"Nombre\" , \"Juan\" = Nombre Juan',\n",
        "        '\"Edad:\" , \"25\" = Edad: 25'\n",
        "    ]\n",
        "}\n",
        "\n",
        "\n",
        "df = pd.DataFrame(data)\n",
        "\n",
        "df\n"
      ],
      "metadata": {
        "colab": {
          "base_uri": "https://localhost:8080/",
          "height": 237
        },
        "id": "dQ2swoovLMQT",
        "outputId": "a7a53d9f-a1d6-4315-d74f-e25f7b44d4f6"
      },
      "execution_count": null,
      "outputs": [
        {
          "output_type": "execute_result",
          "data": {
            "text/plain": [
              "                                              Metodo  \\\n",
              "0  Concatenacion con `+` ( Solo funciona con dato...   \n",
              "1  Concatenacion con `+` ( Solo funciona con dato...   \n",
              "2  Concatenacion con `+` ( Solo funciona con dato...   \n",
              "3  Concatenacion con `,` Funciona con datos de ca...   \n",
              "4  Concatenacion con `,` Funciona con datos de ca...   \n",
              "5  Concatenacion con `,` Funciona con datos de ca...   \n",
              "\n",
              "                            Ejemplo  \n",
              "0    \"Hola\" + \"Mundo\" = \"HolaMundo\"  \n",
              "1  \"Nombre\" + \"Juan\" = \"NombreJuan\"  \n",
              "2       \"Edad: \" + \"25\" = \"Edad:25\"  \n",
              "3     \"Hola\" , \"Mundo\" = Hola mundo  \n",
              "4   \"Nombre\" , \"Juan\" = Nombre Juan  \n",
              "5         \"Edad:\" , \"25\" = Edad: 25  "
            ],
            "text/html": [
              "\n",
              "  <div id=\"df-847ce726-cfbb-4b76-a6f1-5ac1351e2ae9\" class=\"colab-df-container\">\n",
              "    <div>\n",
              "<style scoped>\n",
              "    .dataframe tbody tr th:only-of-type {\n",
              "        vertical-align: middle;\n",
              "    }\n",
              "\n",
              "    .dataframe tbody tr th {\n",
              "        vertical-align: top;\n",
              "    }\n",
              "\n",
              "    .dataframe thead th {\n",
              "        text-align: right;\n",
              "    }\n",
              "</style>\n",
              "<table border=\"1\" class=\"dataframe\">\n",
              "  <thead>\n",
              "    <tr style=\"text-align: right;\">\n",
              "      <th></th>\n",
              "      <th>Metodo</th>\n",
              "      <th>Ejemplo</th>\n",
              "    </tr>\n",
              "  </thead>\n",
              "  <tbody>\n",
              "    <tr>\n",
              "      <th>0</th>\n",
              "      <td>Concatenacion con `+` ( Solo funciona con dato...</td>\n",
              "      <td>\"Hola\" + \"Mundo\" = \"HolaMundo\"</td>\n",
              "    </tr>\n",
              "    <tr>\n",
              "      <th>1</th>\n",
              "      <td>Concatenacion con `+` ( Solo funciona con dato...</td>\n",
              "      <td>\"Nombre\" + \"Juan\" = \"NombreJuan\"</td>\n",
              "    </tr>\n",
              "    <tr>\n",
              "      <th>2</th>\n",
              "      <td>Concatenacion con `+` ( Solo funciona con dato...</td>\n",
              "      <td>\"Edad: \" + \"25\" = \"Edad:25\"</td>\n",
              "    </tr>\n",
              "    <tr>\n",
              "      <th>3</th>\n",
              "      <td>Concatenacion con `,` Funciona con datos de ca...</td>\n",
              "      <td>\"Hola\" , \"Mundo\" = Hola mundo</td>\n",
              "    </tr>\n",
              "    <tr>\n",
              "      <th>4</th>\n",
              "      <td>Concatenacion con `,` Funciona con datos de ca...</td>\n",
              "      <td>\"Nombre\" , \"Juan\" = Nombre Juan</td>\n",
              "    </tr>\n",
              "    <tr>\n",
              "      <th>5</th>\n",
              "      <td>Concatenacion con `,` Funciona con datos de ca...</td>\n",
              "      <td>\"Edad:\" , \"25\" = Edad: 25</td>\n",
              "    </tr>\n",
              "  </tbody>\n",
              "</table>\n",
              "</div>\n",
              "    <div class=\"colab-df-buttons\">\n",
              "\n",
              "  <div class=\"colab-df-container\">\n",
              "    <button class=\"colab-df-convert\" onclick=\"convertToInteractive('df-847ce726-cfbb-4b76-a6f1-5ac1351e2ae9')\"\n",
              "            title=\"Convert this dataframe to an interactive table.\"\n",
              "            style=\"display:none;\">\n",
              "\n",
              "  <svg xmlns=\"http://www.w3.org/2000/svg\" height=\"24px\" viewBox=\"0 -960 960 960\">\n",
              "    <path d=\"M120-120v-720h720v720H120Zm60-500h600v-160H180v160Zm220 220h160v-160H400v160Zm0 220h160v-160H400v160ZM180-400h160v-160H180v160Zm440 0h160v-160H620v160ZM180-180h160v-160H180v160Zm440 0h160v-160H620v160Z\"/>\n",
              "  </svg>\n",
              "    </button>\n",
              "\n",
              "  <style>\n",
              "    .colab-df-container {\n",
              "      display:flex;\n",
              "      gap: 12px;\n",
              "    }\n",
              "\n",
              "    .colab-df-convert {\n",
              "      background-color: #E8F0FE;\n",
              "      border: none;\n",
              "      border-radius: 50%;\n",
              "      cursor: pointer;\n",
              "      display: none;\n",
              "      fill: #1967D2;\n",
              "      height: 32px;\n",
              "      padding: 0 0 0 0;\n",
              "      width: 32px;\n",
              "    }\n",
              "\n",
              "    .colab-df-convert:hover {\n",
              "      background-color: #E2EBFA;\n",
              "      box-shadow: 0px 1px 2px rgba(60, 64, 67, 0.3), 0px 1px 3px 1px rgba(60, 64, 67, 0.15);\n",
              "      fill: #174EA6;\n",
              "    }\n",
              "\n",
              "    .colab-df-buttons div {\n",
              "      margin-bottom: 4px;\n",
              "    }\n",
              "\n",
              "    [theme=dark] .colab-df-convert {\n",
              "      background-color: #3B4455;\n",
              "      fill: #D2E3FC;\n",
              "    }\n",
              "\n",
              "    [theme=dark] .colab-df-convert:hover {\n",
              "      background-color: #434B5C;\n",
              "      box-shadow: 0px 1px 3px 1px rgba(0, 0, 0, 0.15);\n",
              "      filter: drop-shadow(0px 1px 2px rgba(0, 0, 0, 0.3));\n",
              "      fill: #FFFFFF;\n",
              "    }\n",
              "  </style>\n",
              "\n",
              "    <script>\n",
              "      const buttonEl =\n",
              "        document.querySelector('#df-847ce726-cfbb-4b76-a6f1-5ac1351e2ae9 button.colab-df-convert');\n",
              "      buttonEl.style.display =\n",
              "        google.colab.kernel.accessAllowed ? 'block' : 'none';\n",
              "\n",
              "      async function convertToInteractive(key) {\n",
              "        const element = document.querySelector('#df-847ce726-cfbb-4b76-a6f1-5ac1351e2ae9');\n",
              "        const dataTable =\n",
              "          await google.colab.kernel.invokeFunction('convertToInteractive',\n",
              "                                                    [key], {});\n",
              "        if (!dataTable) return;\n",
              "\n",
              "        const docLinkHtml = 'Like what you see? Visit the ' +\n",
              "          '<a target=\"_blank\" href=https://colab.research.google.com/notebooks/data_table.ipynb>data table notebook</a>'\n",
              "          + ' to learn more about interactive tables.';\n",
              "        element.innerHTML = '';\n",
              "        dataTable['output_type'] = 'display_data';\n",
              "        await google.colab.output.renderOutput(dataTable, element);\n",
              "        const docLink = document.createElement('div');\n",
              "        docLink.innerHTML = docLinkHtml;\n",
              "        element.appendChild(docLink);\n",
              "      }\n",
              "    </script>\n",
              "  </div>\n",
              "\n",
              "\n",
              "<div id=\"df-fc31d449-5b09-44ee-b98a-7b7f93c35398\">\n",
              "  <button class=\"colab-df-quickchart\" onclick=\"quickchart('df-fc31d449-5b09-44ee-b98a-7b7f93c35398')\"\n",
              "            title=\"Suggest charts\"\n",
              "            style=\"display:none;\">\n",
              "\n",
              "<svg xmlns=\"http://www.w3.org/2000/svg\" height=\"24px\"viewBox=\"0 0 24 24\"\n",
              "     width=\"24px\">\n",
              "    <g>\n",
              "        <path d=\"M19 3H5c-1.1 0-2 .9-2 2v14c0 1.1.9 2 2 2h14c1.1 0 2-.9 2-2V5c0-1.1-.9-2-2-2zM9 17H7v-7h2v7zm4 0h-2V7h2v10zm4 0h-2v-4h2v4z\"/>\n",
              "    </g>\n",
              "</svg>\n",
              "  </button>\n",
              "\n",
              "<style>\n",
              "  .colab-df-quickchart {\n",
              "      --bg-color: #E8F0FE;\n",
              "      --fill-color: #1967D2;\n",
              "      --hover-bg-color: #E2EBFA;\n",
              "      --hover-fill-color: #174EA6;\n",
              "      --disabled-fill-color: #AAA;\n",
              "      --disabled-bg-color: #DDD;\n",
              "  }\n",
              "\n",
              "  [theme=dark] .colab-df-quickchart {\n",
              "      --bg-color: #3B4455;\n",
              "      --fill-color: #D2E3FC;\n",
              "      --hover-bg-color: #434B5C;\n",
              "      --hover-fill-color: #FFFFFF;\n",
              "      --disabled-bg-color: #3B4455;\n",
              "      --disabled-fill-color: #666;\n",
              "  }\n",
              "\n",
              "  .colab-df-quickchart {\n",
              "    background-color: var(--bg-color);\n",
              "    border: none;\n",
              "    border-radius: 50%;\n",
              "    cursor: pointer;\n",
              "    display: none;\n",
              "    fill: var(--fill-color);\n",
              "    height: 32px;\n",
              "    padding: 0;\n",
              "    width: 32px;\n",
              "  }\n",
              "\n",
              "  .colab-df-quickchart:hover {\n",
              "    background-color: var(--hover-bg-color);\n",
              "    box-shadow: 0 1px 2px rgba(60, 64, 67, 0.3), 0 1px 3px 1px rgba(60, 64, 67, 0.15);\n",
              "    fill: var(--button-hover-fill-color);\n",
              "  }\n",
              "\n",
              "  .colab-df-quickchart-complete:disabled,\n",
              "  .colab-df-quickchart-complete:disabled:hover {\n",
              "    background-color: var(--disabled-bg-color);\n",
              "    fill: var(--disabled-fill-color);\n",
              "    box-shadow: none;\n",
              "  }\n",
              "\n",
              "  .colab-df-spinner {\n",
              "    border: 2px solid var(--fill-color);\n",
              "    border-color: transparent;\n",
              "    border-bottom-color: var(--fill-color);\n",
              "    animation:\n",
              "      spin 1s steps(1) infinite;\n",
              "  }\n",
              "\n",
              "  @keyframes spin {\n",
              "    0% {\n",
              "      border-color: transparent;\n",
              "      border-bottom-color: var(--fill-color);\n",
              "      border-left-color: var(--fill-color);\n",
              "    }\n",
              "    20% {\n",
              "      border-color: transparent;\n",
              "      border-left-color: var(--fill-color);\n",
              "      border-top-color: var(--fill-color);\n",
              "    }\n",
              "    30% {\n",
              "      border-color: transparent;\n",
              "      border-left-color: var(--fill-color);\n",
              "      border-top-color: var(--fill-color);\n",
              "      border-right-color: var(--fill-color);\n",
              "    }\n",
              "    40% {\n",
              "      border-color: transparent;\n",
              "      border-right-color: var(--fill-color);\n",
              "      border-top-color: var(--fill-color);\n",
              "    }\n",
              "    60% {\n",
              "      border-color: transparent;\n",
              "      border-right-color: var(--fill-color);\n",
              "    }\n",
              "    80% {\n",
              "      border-color: transparent;\n",
              "      border-right-color: var(--fill-color);\n",
              "      border-bottom-color: var(--fill-color);\n",
              "    }\n",
              "    90% {\n",
              "      border-color: transparent;\n",
              "      border-bottom-color: var(--fill-color);\n",
              "    }\n",
              "  }\n",
              "</style>\n",
              "\n",
              "  <script>\n",
              "    async function quickchart(key) {\n",
              "      const quickchartButtonEl =\n",
              "        document.querySelector('#' + key + ' button');\n",
              "      quickchartButtonEl.disabled = true;  // To prevent multiple clicks.\n",
              "      quickchartButtonEl.classList.add('colab-df-spinner');\n",
              "      try {\n",
              "        const charts = await google.colab.kernel.invokeFunction(\n",
              "            'suggestCharts', [key], {});\n",
              "      } catch (error) {\n",
              "        console.error('Error during call to suggestCharts:', error);\n",
              "      }\n",
              "      quickchartButtonEl.classList.remove('colab-df-spinner');\n",
              "      quickchartButtonEl.classList.add('colab-df-quickchart-complete');\n",
              "    }\n",
              "    (() => {\n",
              "      let quickchartButtonEl =\n",
              "        document.querySelector('#df-fc31d449-5b09-44ee-b98a-7b7f93c35398 button');\n",
              "      quickchartButtonEl.style.display =\n",
              "        google.colab.kernel.accessAllowed ? 'block' : 'none';\n",
              "    })();\n",
              "  </script>\n",
              "</div>\n",
              "\n",
              "  <div id=\"id_f273bece-fad8-4e25-9408-0d553687ecf0\">\n",
              "    <style>\n",
              "      .colab-df-generate {\n",
              "        background-color: #E8F0FE;\n",
              "        border: none;\n",
              "        border-radius: 50%;\n",
              "        cursor: pointer;\n",
              "        display: none;\n",
              "        fill: #1967D2;\n",
              "        height: 32px;\n",
              "        padding: 0 0 0 0;\n",
              "        width: 32px;\n",
              "      }\n",
              "\n",
              "      .colab-df-generate:hover {\n",
              "        background-color: #E2EBFA;\n",
              "        box-shadow: 0px 1px 2px rgba(60, 64, 67, 0.3), 0px 1px 3px 1px rgba(60, 64, 67, 0.15);\n",
              "        fill: #174EA6;\n",
              "      }\n",
              "\n",
              "      [theme=dark] .colab-df-generate {\n",
              "        background-color: #3B4455;\n",
              "        fill: #D2E3FC;\n",
              "      }\n",
              "\n",
              "      [theme=dark] .colab-df-generate:hover {\n",
              "        background-color: #434B5C;\n",
              "        box-shadow: 0px 1px 3px 1px rgba(0, 0, 0, 0.15);\n",
              "        filter: drop-shadow(0px 1px 2px rgba(0, 0, 0, 0.3));\n",
              "        fill: #FFFFFF;\n",
              "      }\n",
              "    </style>\n",
              "    <button class=\"colab-df-generate\" onclick=\"generateWithVariable('df')\"\n",
              "            title=\"Generate code using this dataframe.\"\n",
              "            style=\"display:none;\">\n",
              "\n",
              "  <svg xmlns=\"http://www.w3.org/2000/svg\" height=\"24px\"viewBox=\"0 0 24 24\"\n",
              "       width=\"24px\">\n",
              "    <path d=\"M7,19H8.4L18.45,9,17,7.55,7,17.6ZM5,21V16.75L18.45,3.32a2,2,0,0,1,2.83,0l1.4,1.43a1.91,1.91,0,0,1,.58,1.4,1.91,1.91,0,0,1-.58,1.4L9.25,21ZM18.45,9,17,7.55Zm-12,3A5.31,5.31,0,0,0,4.9,8.1,5.31,5.31,0,0,0,1,6.5,5.31,5.31,0,0,0,4.9,4.9,5.31,5.31,0,0,0,6.5,1,5.31,5.31,0,0,0,8.1,4.9,5.31,5.31,0,0,0,12,6.5,5.46,5.46,0,0,0,6.5,12Z\"/>\n",
              "  </svg>\n",
              "    </button>\n",
              "    <script>\n",
              "      (() => {\n",
              "      const buttonEl =\n",
              "        document.querySelector('#id_f273bece-fad8-4e25-9408-0d553687ecf0 button.colab-df-generate');\n",
              "      buttonEl.style.display =\n",
              "        google.colab.kernel.accessAllowed ? 'block' : 'none';\n",
              "\n",
              "      buttonEl.onclick = () => {\n",
              "        google.colab.notebook.generateWithVariable('df');\n",
              "      }\n",
              "      })();\n",
              "    </script>\n",
              "  </div>\n",
              "\n",
              "    </div>\n",
              "  </div>\n"
            ],
            "application/vnd.google.colaboratory.intrinsic+json": {
              "type": "dataframe",
              "variable_name": "df",
              "summary": "{\n  \"name\": \"df\",\n  \"rows\": 6,\n  \"fields\": [\n    {\n      \"column\": \"Metodo\",\n      \"properties\": {\n        \"dtype\": \"category\",\n        \"num_unique_values\": 2,\n        \"samples\": [\n          \"Concatenacion con `,` Funciona con datos de casi todos los tipos.\",\n          \"Concatenacion con `+` ( Solo funciona con datos de tipo {str}).\"\n        ],\n        \"semantic_type\": \"\",\n        \"description\": \"\"\n      }\n    },\n    {\n      \"column\": \"Ejemplo\",\n      \"properties\": {\n        \"dtype\": \"string\",\n        \"num_unique_values\": 6,\n        \"samples\": [\n          \"\\\"Hola\\\" + \\\"Mundo\\\" = \\\"HolaMundo\\\"\",\n          \"\\\"Nombre\\\" + \\\"Juan\\\" = \\\"NombreJuan\\\"\"\n        ],\n        \"semantic_type\": \"\",\n        \"description\": \"\"\n      }\n    }\n  ]\n}"
            }
          },
          "metadata": {},
          "execution_count": 20
        }
      ]
    },
    {
      "cell_type": "code",
      "source": [
        "data = {\"Concatenacion con ( , ) \" : [\"Es compatible con la gran mayor de tipos de datos.\",\"Al usarte este tipo de concatenacion no es necesario agregar espacios ya que se ponen automaticamente.\"],\n",
        "        \"Concatenacion con ( . )\" : [\"Solo se puede usar con datos tipo {str}(Texto)\",\"Este tipo de concatenacion no genera espacios entre los elementos asi que en la salida nunca habran espacios.\"]}\n",
        "\n",
        "df = pd.DataFrame(data,index=[\"Versatilidad\",\"Estructura del texto\"])\n",
        "\n",
        "df\n"
      ],
      "metadata": {
        "id": "KqYqE6Wdd37n",
        "colab": {
          "base_uri": "https://localhost:8080/",
          "height": 125
        },
        "outputId": "b050ba86-e7cf-4e89-b2bf-2b5d9c8fc1e0"
      },
      "execution_count": null,
      "outputs": [
        {
          "output_type": "execute_result",
          "data": {
            "text/plain": [
              "                                               Concatenacion con ( , )   \\\n",
              "Versatilidad          Es compatible con la gran mayor de tipos de da...   \n",
              "Estructura del texto  Al usarte este tipo de concatenacion no es nec...   \n",
              "\n",
              "                                                Concatenacion con ( . )  \n",
              "Versatilidad             Solo se puede usar con datos tipo {str}(Texto)  \n",
              "Estructura del texto  Este tipo de concatenacion no genera espacios ...  "
            ],
            "text/html": [
              "\n",
              "  <div id=\"df-663d2805-00fd-46eb-8fb4-4d1d057d9506\" class=\"colab-df-container\">\n",
              "    <div>\n",
              "<style scoped>\n",
              "    .dataframe tbody tr th:only-of-type {\n",
              "        vertical-align: middle;\n",
              "    }\n",
              "\n",
              "    .dataframe tbody tr th {\n",
              "        vertical-align: top;\n",
              "    }\n",
              "\n",
              "    .dataframe thead th {\n",
              "        text-align: right;\n",
              "    }\n",
              "</style>\n",
              "<table border=\"1\" class=\"dataframe\">\n",
              "  <thead>\n",
              "    <tr style=\"text-align: right;\">\n",
              "      <th></th>\n",
              "      <th>Concatenacion con ( , )</th>\n",
              "      <th>Concatenacion con ( . )</th>\n",
              "    </tr>\n",
              "  </thead>\n",
              "  <tbody>\n",
              "    <tr>\n",
              "      <th>Versatilidad</th>\n",
              "      <td>Es compatible con la gran mayor de tipos de da...</td>\n",
              "      <td>Solo se puede usar con datos tipo {str}(Texto)</td>\n",
              "    </tr>\n",
              "    <tr>\n",
              "      <th>Estructura del texto</th>\n",
              "      <td>Al usarte este tipo de concatenacion no es nec...</td>\n",
              "      <td>Este tipo de concatenacion no genera espacios ...</td>\n",
              "    </tr>\n",
              "  </tbody>\n",
              "</table>\n",
              "</div>\n",
              "    <div class=\"colab-df-buttons\">\n",
              "\n",
              "  <div class=\"colab-df-container\">\n",
              "    <button class=\"colab-df-convert\" onclick=\"convertToInteractive('df-663d2805-00fd-46eb-8fb4-4d1d057d9506')\"\n",
              "            title=\"Convert this dataframe to an interactive table.\"\n",
              "            style=\"display:none;\">\n",
              "\n",
              "  <svg xmlns=\"http://www.w3.org/2000/svg\" height=\"24px\" viewBox=\"0 -960 960 960\">\n",
              "    <path d=\"M120-120v-720h720v720H120Zm60-500h600v-160H180v160Zm220 220h160v-160H400v160Zm0 220h160v-160H400v160ZM180-400h160v-160H180v160Zm440 0h160v-160H620v160ZM180-180h160v-160H180v160Zm440 0h160v-160H620v160Z\"/>\n",
              "  </svg>\n",
              "    </button>\n",
              "\n",
              "  <style>\n",
              "    .colab-df-container {\n",
              "      display:flex;\n",
              "      gap: 12px;\n",
              "    }\n",
              "\n",
              "    .colab-df-convert {\n",
              "      background-color: #E8F0FE;\n",
              "      border: none;\n",
              "      border-radius: 50%;\n",
              "      cursor: pointer;\n",
              "      display: none;\n",
              "      fill: #1967D2;\n",
              "      height: 32px;\n",
              "      padding: 0 0 0 0;\n",
              "      width: 32px;\n",
              "    }\n",
              "\n",
              "    .colab-df-convert:hover {\n",
              "      background-color: #E2EBFA;\n",
              "      box-shadow: 0px 1px 2px rgba(60, 64, 67, 0.3), 0px 1px 3px 1px rgba(60, 64, 67, 0.15);\n",
              "      fill: #174EA6;\n",
              "    }\n",
              "\n",
              "    .colab-df-buttons div {\n",
              "      margin-bottom: 4px;\n",
              "    }\n",
              "\n",
              "    [theme=dark] .colab-df-convert {\n",
              "      background-color: #3B4455;\n",
              "      fill: #D2E3FC;\n",
              "    }\n",
              "\n",
              "    [theme=dark] .colab-df-convert:hover {\n",
              "      background-color: #434B5C;\n",
              "      box-shadow: 0px 1px 3px 1px rgba(0, 0, 0, 0.15);\n",
              "      filter: drop-shadow(0px 1px 2px rgba(0, 0, 0, 0.3));\n",
              "      fill: #FFFFFF;\n",
              "    }\n",
              "  </style>\n",
              "\n",
              "    <script>\n",
              "      const buttonEl =\n",
              "        document.querySelector('#df-663d2805-00fd-46eb-8fb4-4d1d057d9506 button.colab-df-convert');\n",
              "      buttonEl.style.display =\n",
              "        google.colab.kernel.accessAllowed ? 'block' : 'none';\n",
              "\n",
              "      async function convertToInteractive(key) {\n",
              "        const element = document.querySelector('#df-663d2805-00fd-46eb-8fb4-4d1d057d9506');\n",
              "        const dataTable =\n",
              "          await google.colab.kernel.invokeFunction('convertToInteractive',\n",
              "                                                    [key], {});\n",
              "        if (!dataTable) return;\n",
              "\n",
              "        const docLinkHtml = 'Like what you see? Visit the ' +\n",
              "          '<a target=\"_blank\" href=https://colab.research.google.com/notebooks/data_table.ipynb>data table notebook</a>'\n",
              "          + ' to learn more about interactive tables.';\n",
              "        element.innerHTML = '';\n",
              "        dataTable['output_type'] = 'display_data';\n",
              "        await google.colab.output.renderOutput(dataTable, element);\n",
              "        const docLink = document.createElement('div');\n",
              "        docLink.innerHTML = docLinkHtml;\n",
              "        element.appendChild(docLink);\n",
              "      }\n",
              "    </script>\n",
              "  </div>\n",
              "\n",
              "\n",
              "<div id=\"df-0990c5d7-7e8e-4828-898f-53a9f011dbe0\">\n",
              "  <button class=\"colab-df-quickchart\" onclick=\"quickchart('df-0990c5d7-7e8e-4828-898f-53a9f011dbe0')\"\n",
              "            title=\"Suggest charts\"\n",
              "            style=\"display:none;\">\n",
              "\n",
              "<svg xmlns=\"http://www.w3.org/2000/svg\" height=\"24px\"viewBox=\"0 0 24 24\"\n",
              "     width=\"24px\">\n",
              "    <g>\n",
              "        <path d=\"M19 3H5c-1.1 0-2 .9-2 2v14c0 1.1.9 2 2 2h14c1.1 0 2-.9 2-2V5c0-1.1-.9-2-2-2zM9 17H7v-7h2v7zm4 0h-2V7h2v10zm4 0h-2v-4h2v4z\"/>\n",
              "    </g>\n",
              "</svg>\n",
              "  </button>\n",
              "\n",
              "<style>\n",
              "  .colab-df-quickchart {\n",
              "      --bg-color: #E8F0FE;\n",
              "      --fill-color: #1967D2;\n",
              "      --hover-bg-color: #E2EBFA;\n",
              "      --hover-fill-color: #174EA6;\n",
              "      --disabled-fill-color: #AAA;\n",
              "      --disabled-bg-color: #DDD;\n",
              "  }\n",
              "\n",
              "  [theme=dark] .colab-df-quickchart {\n",
              "      --bg-color: #3B4455;\n",
              "      --fill-color: #D2E3FC;\n",
              "      --hover-bg-color: #434B5C;\n",
              "      --hover-fill-color: #FFFFFF;\n",
              "      --disabled-bg-color: #3B4455;\n",
              "      --disabled-fill-color: #666;\n",
              "  }\n",
              "\n",
              "  .colab-df-quickchart {\n",
              "    background-color: var(--bg-color);\n",
              "    border: none;\n",
              "    border-radius: 50%;\n",
              "    cursor: pointer;\n",
              "    display: none;\n",
              "    fill: var(--fill-color);\n",
              "    height: 32px;\n",
              "    padding: 0;\n",
              "    width: 32px;\n",
              "  }\n",
              "\n",
              "  .colab-df-quickchart:hover {\n",
              "    background-color: var(--hover-bg-color);\n",
              "    box-shadow: 0 1px 2px rgba(60, 64, 67, 0.3), 0 1px 3px 1px rgba(60, 64, 67, 0.15);\n",
              "    fill: var(--button-hover-fill-color);\n",
              "  }\n",
              "\n",
              "  .colab-df-quickchart-complete:disabled,\n",
              "  .colab-df-quickchart-complete:disabled:hover {\n",
              "    background-color: var(--disabled-bg-color);\n",
              "    fill: var(--disabled-fill-color);\n",
              "    box-shadow: none;\n",
              "  }\n",
              "\n",
              "  .colab-df-spinner {\n",
              "    border: 2px solid var(--fill-color);\n",
              "    border-color: transparent;\n",
              "    border-bottom-color: var(--fill-color);\n",
              "    animation:\n",
              "      spin 1s steps(1) infinite;\n",
              "  }\n",
              "\n",
              "  @keyframes spin {\n",
              "    0% {\n",
              "      border-color: transparent;\n",
              "      border-bottom-color: var(--fill-color);\n",
              "      border-left-color: var(--fill-color);\n",
              "    }\n",
              "    20% {\n",
              "      border-color: transparent;\n",
              "      border-left-color: var(--fill-color);\n",
              "      border-top-color: var(--fill-color);\n",
              "    }\n",
              "    30% {\n",
              "      border-color: transparent;\n",
              "      border-left-color: var(--fill-color);\n",
              "      border-top-color: var(--fill-color);\n",
              "      border-right-color: var(--fill-color);\n",
              "    }\n",
              "    40% {\n",
              "      border-color: transparent;\n",
              "      border-right-color: var(--fill-color);\n",
              "      border-top-color: var(--fill-color);\n",
              "    }\n",
              "    60% {\n",
              "      border-color: transparent;\n",
              "      border-right-color: var(--fill-color);\n",
              "    }\n",
              "    80% {\n",
              "      border-color: transparent;\n",
              "      border-right-color: var(--fill-color);\n",
              "      border-bottom-color: var(--fill-color);\n",
              "    }\n",
              "    90% {\n",
              "      border-color: transparent;\n",
              "      border-bottom-color: var(--fill-color);\n",
              "    }\n",
              "  }\n",
              "</style>\n",
              "\n",
              "  <script>\n",
              "    async function quickchart(key) {\n",
              "      const quickchartButtonEl =\n",
              "        document.querySelector('#' + key + ' button');\n",
              "      quickchartButtonEl.disabled = true;  // To prevent multiple clicks.\n",
              "      quickchartButtonEl.classList.add('colab-df-spinner');\n",
              "      try {\n",
              "        const charts = await google.colab.kernel.invokeFunction(\n",
              "            'suggestCharts', [key], {});\n",
              "      } catch (error) {\n",
              "        console.error('Error during call to suggestCharts:', error);\n",
              "      }\n",
              "      quickchartButtonEl.classList.remove('colab-df-spinner');\n",
              "      quickchartButtonEl.classList.add('colab-df-quickchart-complete');\n",
              "    }\n",
              "    (() => {\n",
              "      let quickchartButtonEl =\n",
              "        document.querySelector('#df-0990c5d7-7e8e-4828-898f-53a9f011dbe0 button');\n",
              "      quickchartButtonEl.style.display =\n",
              "        google.colab.kernel.accessAllowed ? 'block' : 'none';\n",
              "    })();\n",
              "  </script>\n",
              "</div>\n",
              "\n",
              "  <div id=\"id_d15cb657-5202-4d11-bf8a-aa30c685a437\">\n",
              "    <style>\n",
              "      .colab-df-generate {\n",
              "        background-color: #E8F0FE;\n",
              "        border: none;\n",
              "        border-radius: 50%;\n",
              "        cursor: pointer;\n",
              "        display: none;\n",
              "        fill: #1967D2;\n",
              "        height: 32px;\n",
              "        padding: 0 0 0 0;\n",
              "        width: 32px;\n",
              "      }\n",
              "\n",
              "      .colab-df-generate:hover {\n",
              "        background-color: #E2EBFA;\n",
              "        box-shadow: 0px 1px 2px rgba(60, 64, 67, 0.3), 0px 1px 3px 1px rgba(60, 64, 67, 0.15);\n",
              "        fill: #174EA6;\n",
              "      }\n",
              "\n",
              "      [theme=dark] .colab-df-generate {\n",
              "        background-color: #3B4455;\n",
              "        fill: #D2E3FC;\n",
              "      }\n",
              "\n",
              "      [theme=dark] .colab-df-generate:hover {\n",
              "        background-color: #434B5C;\n",
              "        box-shadow: 0px 1px 3px 1px rgba(0, 0, 0, 0.15);\n",
              "        filter: drop-shadow(0px 1px 2px rgba(0, 0, 0, 0.3));\n",
              "        fill: #FFFFFF;\n",
              "      }\n",
              "    </style>\n",
              "    <button class=\"colab-df-generate\" onclick=\"generateWithVariable('df')\"\n",
              "            title=\"Generate code using this dataframe.\"\n",
              "            style=\"display:none;\">\n",
              "\n",
              "  <svg xmlns=\"http://www.w3.org/2000/svg\" height=\"24px\"viewBox=\"0 0 24 24\"\n",
              "       width=\"24px\">\n",
              "    <path d=\"M7,19H8.4L18.45,9,17,7.55,7,17.6ZM5,21V16.75L18.45,3.32a2,2,0,0,1,2.83,0l1.4,1.43a1.91,1.91,0,0,1,.58,1.4,1.91,1.91,0,0,1-.58,1.4L9.25,21ZM18.45,9,17,7.55Zm-12,3A5.31,5.31,0,0,0,4.9,8.1,5.31,5.31,0,0,0,1,6.5,5.31,5.31,0,0,0,4.9,4.9,5.31,5.31,0,0,0,6.5,1,5.31,5.31,0,0,0,8.1,4.9,5.31,5.31,0,0,0,12,6.5,5.46,5.46,0,0,0,6.5,12Z\"/>\n",
              "  </svg>\n",
              "    </button>\n",
              "    <script>\n",
              "      (() => {\n",
              "      const buttonEl =\n",
              "        document.querySelector('#id_d15cb657-5202-4d11-bf8a-aa30c685a437 button.colab-df-generate');\n",
              "      buttonEl.style.display =\n",
              "        google.colab.kernel.accessAllowed ? 'block' : 'none';\n",
              "\n",
              "      buttonEl.onclick = () => {\n",
              "        google.colab.notebook.generateWithVariable('df');\n",
              "      }\n",
              "      })();\n",
              "    </script>\n",
              "  </div>\n",
              "\n",
              "    </div>\n",
              "  </div>\n"
            ],
            "application/vnd.google.colaboratory.intrinsic+json": {
              "type": "dataframe",
              "variable_name": "df",
              "summary": "{\n  \"name\": \"df\",\n  \"rows\": 2,\n  \"fields\": [\n    {\n      \"column\": \"Concatenacion con ( , ) \",\n      \"properties\": {\n        \"dtype\": \"string\",\n        \"num_unique_values\": 2,\n        \"samples\": [\n          \"Al usarte este tipo de concatenacion no es necesario agregar espacios ya que se ponen automaticamente.\",\n          \"Es compatible con la gran mayor de tipos de datos.\"\n        ],\n        \"semantic_type\": \"\",\n        \"description\": \"\"\n      }\n    },\n    {\n      \"column\": \"Concatenacion con ( . )\",\n      \"properties\": {\n        \"dtype\": \"string\",\n        \"num_unique_values\": 2,\n        \"samples\": [\n          \"Este tipo de concatenacion no genera espacios entre los elementos asi que en la salida nunca habran espacios.\",\n          \"Solo se puede usar con datos tipo {str}(Texto)\"\n        ],\n        \"semantic_type\": \"\",\n        \"description\": \"\"\n      }\n    }\n  ]\n}"
            }
          },
          "metadata": {},
          "execution_count": 26
        }
      ]
    },
    {
      "cell_type": "markdown",
      "source": [
        "# La mayor diferencia entre la concatenacion con coma `( , )` y la concatenacion con suma`( + )` es que la concatenacion con suma `(+)` como se ve en la tabla solo se aplica para los datos de tipo `{str}` ya que de otra manera te devolvera la suma de esos dos valores y no los datos concatenados.\n",
        "\n",
        "\n",
        "\n",
        "\n"
      ],
      "metadata": {
        "id": "vPuv_PfrMqPq"
      }
    },
    {
      "cell_type": "markdown",
      "source": [
        "***Ejemplos adicionales :***"
      ],
      "metadata": {
        "id": "RBe8HBUxOQNB"
      }
    },
    {
      "cell_type": "code",
      "source": [
        "#Concatenacion con datos de tipo {str}.\n",
        "\n",
        "print(\"Hola\"+\"Mundo\")"
      ],
      "metadata": {
        "id": "SUjnW9nQOGOZ"
      },
      "execution_count": null,
      "outputs": []
    },
    {
      "cell_type": "code",
      "source": [
        "#Suma aritmetica (Datos de tipo numerico).\n",
        "\n",
        "print(5 + 5)\n",
        "\n",
        "print(True + False)"
      ],
      "metadata": {
        "id": "AhQXfjzSOj80"
      },
      "execution_count": null,
      "outputs": []
    },
    {
      "cell_type": "code",
      "source": [
        "#Concatenacion con datos de tipo numerico.\n",
        "\n",
        "print(10, 5)\n",
        "\n",
        "print(True,5)"
      ],
      "metadata": {
        "colab": {
          "base_uri": "https://localhost:8080/"
        },
        "id": "LMj8GIwdOxLa",
        "outputId": "66df8f95-b3ff-492b-b936-37e29d13d70f"
      },
      "execution_count": null,
      "outputs": [
        {
          "output_type": "stream",
          "name": "stdout",
          "text": [
            "10 5\n",
            "True 5\n"
          ]
        }
      ]
    },
    {
      "cell_type": "markdown",
      "source": [
        "#**Preguntas de concatenacion.**\n",
        "\n"
      ],
      "metadata": {
        "id": "3aTgREwMPEC4"
      }
    },
    {
      "cell_type": "markdown",
      "source": [
        "\n",
        "\n",
        "1.   `El siguiente ejemplo retornara error o se ejecutara correctamente, y si se ejecuta, que retornara?`\n",
        "\n",
        "\n"
      ],
      "metadata": {
        "id": "oaeVivEhPXO1"
      }
    },
    {
      "cell_type": "code",
      "source": [
        "Variable = \"a\"\n",
        "\n",
        "Variable1 = \"zul\"\n",
        "\n",
        "print(Variable+Variable1)"
      ],
      "metadata": {
        "colab": {
          "base_uri": "https://localhost:8080/"
        },
        "id": "JRtIObZ5Pl-X",
        "outputId": "41bf7d88-97a6-4920-b806-1dee35276b49"
      },
      "execution_count": null,
      "outputs": [
        {
          "output_type": "stream",
          "name": "stdout",
          "text": [
            "azul\n"
          ]
        }
      ]
    },
    {
      "cell_type": "markdown",
      "source": [
        "\n",
        "2.   `El siguiente ejemplo retornara error o se ejecutara correctamente, y si se ejecuta, que retornara?`\n",
        "\n",
        "\n"
      ],
      "metadata": {
        "id": "nyZp1I9bQpRs"
      }
    },
    {
      "cell_type": "code",
      "source": [
        "Variable1 = \"A\"\n",
        "\n",
        "Variable2 = 4\n",
        "\n",
        "print(Variable1 , Variable2)"
      ],
      "metadata": {
        "colab": {
          "base_uri": "https://localhost:8080/"
        },
        "id": "x4yjGaTgQsHq",
        "outputId": "7e6dfef7-9f84-41db-f9e8-fd28cafefea1"
      },
      "execution_count": null,
      "outputs": [
        {
          "output_type": "stream",
          "name": "stdout",
          "text": [
            "A 4\n"
          ]
        }
      ]
    },
    {
      "cell_type": "markdown",
      "source": [
        "\n",
        "3.   `El siguiente ejemplo retornara error o se ejecutara correctamente, y si se ejecuta, que retornara?`\n"
      ],
      "metadata": {
        "id": "9FfS6yOxQ6dd"
      }
    },
    {
      "cell_type": "code",
      "source": [
        "Variable1 = \"Tu estatura es de :\"\n",
        "\n",
        "Variable2 = 1.65\n",
        "\n",
        "print(Variable1 + Variable2)"
      ],
      "metadata": {
        "colab": {
          "base_uri": "https://localhost:8080/",
          "height": 182
        },
        "id": "38pM5ZyfQ3fv",
        "outputId": "0850fe0f-a4c5-4302-899d-7914130b4ea8"
      },
      "execution_count": null,
      "outputs": [
        {
          "output_type": "error",
          "ename": "TypeError",
          "evalue": "can only concatenate str (not \"float\") to str",
          "traceback": [
            "\u001b[0;31m---------------------------------------------------------------------------\u001b[0m",
            "\u001b[0;31mTypeError\u001b[0m                                 Traceback (most recent call last)",
            "\u001b[0;32m<ipython-input-39-36060d18c1d2>\u001b[0m in \u001b[0;36m<cell line: 5>\u001b[0;34m()\u001b[0m\n\u001b[1;32m      3\u001b[0m \u001b[0mVariable2\u001b[0m \u001b[0;34m=\u001b[0m \u001b[0;36m1.65\u001b[0m\u001b[0;34m\u001b[0m\u001b[0;34m\u001b[0m\u001b[0m\n\u001b[1;32m      4\u001b[0m \u001b[0;34m\u001b[0m\u001b[0m\n\u001b[0;32m----> 5\u001b[0;31m \u001b[0mprint\u001b[0m\u001b[0;34m(\u001b[0m\u001b[0mVariable1\u001b[0m \u001b[0;34m+\u001b[0m \u001b[0mVariable2\u001b[0m\u001b[0;34m)\u001b[0m\u001b[0;34m\u001b[0m\u001b[0;34m\u001b[0m\u001b[0m\n\u001b[0m",
            "\u001b[0;31mTypeError\u001b[0m: can only concatenate str (not \"float\") to str"
          ]
        }
      ]
    },
    {
      "cell_type": "markdown",
      "source": [
        "4.   `El siguiente ejemplo retornara error o se ejecutara correctamente, y si se ejecuta, que retornara?`\n",
        "\n"
      ],
      "metadata": {
        "id": "rEgy2wgpRGI3"
      }
    },
    {
      "cell_type": "code",
      "source": [
        "Variable1 = \"Tu valor booleano es : \"\n",
        "\n",
        "Variable2 = True\n",
        "\n",
        "print(Variable1 , Variable2)"
      ],
      "metadata": {
        "colab": {
          "base_uri": "https://localhost:8080/"
        },
        "id": "fLxVJtQBRNyq",
        "outputId": "936907d4-9f06-40e6-ca60-f44c0fc75938"
      },
      "execution_count": null,
      "outputs": [
        {
          "output_type": "stream",
          "name": "stdout",
          "text": [
            "Tu valor booleano es :  True\n"
          ]
        }
      ]
    },
    {
      "cell_type": "markdown",
      "source": [
        "5.   `El siguiente ejemplo retornara error o se ejecutara correctamente, y si se ejecuta, que retornara?`\n",
        "\n"
      ],
      "metadata": {
        "id": "d2VoirTGRacD"
      }
    },
    {
      "cell_type": "code",
      "source": [
        "Variable1 = 10\n",
        "\n",
        "Variable2 = False\n",
        "\n",
        "print(Variable1 + Variable2)\n"
      ],
      "metadata": {
        "colab": {
          "base_uri": "https://localhost:8080/"
        },
        "id": "zMpOFWZzRXYS",
        "outputId": "661b37b1-2ab6-4c2e-ee45-68c0cb305615"
      },
      "execution_count": null,
      "outputs": [
        {
          "output_type": "stream",
          "name": "stdout",
          "text": [
            "10\n"
          ]
        }
      ]
    },
    {
      "cell_type": "markdown",
      "source": [
        "6.   `El siguiente ejemplo retornara error o se ejecutara correctamente, y si se ejecuta, que retornara?`\n",
        "\n"
      ],
      "metadata": {
        "id": "aMf1oqRnRsj5"
      }
    },
    {
      "cell_type": "code",
      "source": [
        "Variable1 = 10\n",
        "\n",
        "Variable2 = False\n",
        "\n",
        "print(Variable1 + Variable2)\n"
      ],
      "metadata": {
        "id": "ad8hWsNZRryL"
      },
      "execution_count": null,
      "outputs": []
    },
    {
      "cell_type": "markdown",
      "source": [
        "7.   `El siguiente ejemplo retornara error o se ejecutara correctamente, y si se ejecuta, que retornara?`\n",
        "\n"
      ],
      "metadata": {
        "id": "UFy0CHVZSHFu"
      }
    },
    {
      "cell_type": "code",
      "source": [
        "Variable1 = \"Tu valor booleano es : \"\n",
        "\n",
        "Variable2 = False\n",
        "\n",
        "print(Variable1 + Variable2)"
      ],
      "metadata": {
        "id": "uzAuy5l6SLtI"
      },
      "execution_count": null,
      "outputs": []
    },
    {
      "cell_type": "markdown",
      "source": [
        "8. `El siguiente ejemplo retornara error o se ejecutara correctamente, y si se ejecuta, que retornara?`"
      ],
      "metadata": {
        "id": "BnXiR1VHSVMB"
      }
    },
    {
      "cell_type": "code",
      "source": [
        "Variable1 = \"Tu peso es de \"\n",
        "\n",
        "print(Variable1 , 1.5 + 2)"
      ],
      "metadata": {
        "colab": {
          "base_uri": "https://localhost:8080/"
        },
        "id": "wdueclwqScX_",
        "outputId": "de386b99-a409-4aba-ebdd-ce330bb72857"
      },
      "execution_count": null,
      "outputs": [
        {
          "output_type": "stream",
          "name": "stdout",
          "text": [
            "Tu peso es de  3.5\n"
          ]
        }
      ]
    },
    {
      "cell_type": "markdown",
      "source": [
        "9. `El siguiente ejemplo retornara error o se ejecutara correctamente, y si se ejecuta, que retornara?`"
      ],
      "metadata": {
        "id": "HlVx49YMS8eE"
      }
    },
    {
      "cell_type": "code",
      "source": [
        "Variable1 = \"Maria tiene\"\n",
        "\n",
        "print(Variable1 , 1.5 , \"Hijos\")"
      ],
      "metadata": {
        "colab": {
          "base_uri": "https://localhost:8080/"
        },
        "id": "ld03ORluS_pZ",
        "outputId": "d643897d-95c6-4f21-85e5-f9bc53546324"
      },
      "execution_count": null,
      "outputs": [
        {
          "output_type": "stream",
          "name": "stdout",
          "text": [
            "Maria tiene 1.5 Hijos\n"
          ]
        }
      ]
    },
    {
      "cell_type": "markdown",
      "source": [
        "10. `El siguiente ejemplo retornara error o se ejecutara correctamente, y si se ejecuta, que retornara?`"
      ],
      "metadata": {
        "id": "s4GwtEO0TcPW"
      }
    },
    {
      "cell_type": "code",
      "source": [
        "Variable1 = \"Tu tienes\"\n",
        "\n",
        "Variable2 = \"Paletas\"\n",
        "\n",
        "print(Variable1 , 1.5 + Variable2)"
      ],
      "metadata": {
        "id": "dn00v_LVTNKl"
      },
      "execution_count": null,
      "outputs": []
    },
    {
      "cell_type": "markdown",
      "source": [
        "11. `El siguiente ejemplo retornara error o se ejecutara correctamente, y si se ejecuta, que retornara?`"
      ],
      "metadata": {
        "id": "3YzY0rHuTp5V"
      }
    },
    {
      "cell_type": "code",
      "source": [
        "Variable1 = \"Ho\"\n",
        "\n",
        "Variable2 = \"la\"\n",
        "\n",
        "print(Variable1 + Variable2 , True)"
      ],
      "metadata": {
        "colab": {
          "base_uri": "https://localhost:8080/"
        },
        "id": "Q8U0gOgWTs-9",
        "outputId": "9bf26a94-e96d-4b24-9c41-1bae7c701c13"
      },
      "execution_count": null,
      "outputs": [
        {
          "output_type": "stream",
          "name": "stdout",
          "text": [
            "Hola 5\n"
          ]
        }
      ]
    },
    {
      "cell_type": "markdown",
      "source": [
        "12. `El siguiente ejemplo retornara error o se ejecutara correctamente, y si se ejecuta, que retornara?`"
      ],
      "metadata": {
        "id": "StD_wyuzUDG1"
      }
    },
    {
      "cell_type": "code",
      "source": [
        "Variable1 = \"Ho\"\n",
        "\n",
        "Variable2 = \"la\"\n",
        "\n",
        "print(Variable1 + Variable2 , 10 + 15)"
      ],
      "metadata": {
        "colab": {
          "base_uri": "https://localhost:8080/"
        },
        "id": "Q4b8_uJrT_Rc",
        "outputId": "58b1eb8b-c918-4dad-fd01-2efb3b90b07c"
      },
      "execution_count": null,
      "outputs": [
        {
          "output_type": "stream",
          "name": "stdout",
          "text": [
            "Hola 25\n"
          ]
        }
      ]
    },
    {
      "cell_type": "markdown",
      "source": [
        "#**Como se menciono al principio se pueden operar los textos mediante dos operadores aritmeticos, la suma `( + )` como vimos anteriormente, pero el otro operador funcional con cadenas de textos es la multiplicacion `( * )`.**\n",
        "\n",
        "En este contexto, para que funcione correctamente necesitamos un dato tipo `{str}` y ese se multiplicara a un dato entero `{int}`, esto hara que nuestro dato de tipo `{str}` se escriba en la terminal la misma cantidad de veces que indique nuestro dato entero `{int}`\n",
        "\n",
        "***Ejemplo :***"
      ],
      "metadata": {
        "id": "bEAyc8ZdUYmO"
      }
    },
    {
      "cell_type": "code",
      "source": [
        "DatoTipoTexto = \"Hola\"\n",
        "\n",
        "DatoTipoEntero = 4\n",
        "\n",
        "print(DatoTipoTexto * DatoTipoEntero)"
      ],
      "metadata": {
        "colab": {
          "base_uri": "https://localhost:8080/"
        },
        "id": "MZPTysPvVfLN",
        "outputId": "c5eb942e-d775-4778-929a-f5e423e04f3c"
      },
      "execution_count": null,
      "outputs": [
        {
          "output_type": "stream",
          "name": "stdout",
          "text": [
            "HolaHolaHolaHola\n"
          ]
        }
      ]
    },
    {
      "cell_type": "markdown",
      "source": [
        "En el anterior ejemplo vimos que el texto \"hola\" se repitio la cantidad de veces que el dato entero indico \"4\" veces.\n",
        "\n",
        "Es importante recordar que si un dato numerico ( `{int}` , `{float}` , `{bool}` ) se multiplica con otro dato numerico esto dara el producto entre esos numeros, pero si el dato numerico multiplica a un dato de tipo texto `{str}` este se aparecera en la terminal la misma cantidad de veces que indique el numero."
      ],
      "metadata": {
        "id": "VR0O1sYyV124"
      }
    },
    {
      "cell_type": "code",
      "source": [
        "#Producto entre dos datos tipo numericos\n",
        "\n",
        "VariableNumerica1 = 10 # Int\n",
        "\n",
        "VariableNumerica2 = 2.5 # Float\n",
        "\n",
        "print(VariableNumerica1 * VariableNumerica2 )"
      ],
      "metadata": {
        "colab": {
          "base_uri": "https://localhost:8080/"
        },
        "id": "pd7A-pXMW2Fe",
        "outputId": "eb76511d-f9d2-4936-c090-391daf1a836b"
      },
      "execution_count": null,
      "outputs": [
        {
          "output_type": "stream",
          "name": "stdout",
          "text": [
            "25.0\n"
          ]
        }
      ]
    },
    {
      "cell_type": "code",
      "source": [
        "#Producto entre un dato tipo numerico otro de tipo texto\n",
        "\n",
        "VariableDeTipoTexto = \"Tamal\"\n",
        "\n",
        "VariableNumerica1 = 5\n",
        "\n",
        "print(VariableDeTipoTexto * VariableNumerica1)"
      ],
      "metadata": {
        "colab": {
          "base_uri": "https://localhost:8080/"
        },
        "id": "hVVzMcaAgscG",
        "outputId": "a21cb19c-d40e-4761-c157-e8f86e3cbc81"
      },
      "execution_count": null,
      "outputs": [
        {
          "output_type": "stream",
          "name": "stdout",
          "text": [
            "TamalTamalTamalTamalTamal\n"
          ]
        }
      ]
    },
    {
      "cell_type": "code",
      "source": [
        "#Producto entre un dato de tipo numerico y otro de tipo texto.\n",
        "\n",
        "VariableDeTipoTexto = \"Jamon\"\n",
        "\n",
        "VariableNumerica = True #Recordemos que True posee un valor numerico de 1 y False posee un valor numerico de 0\n",
        "\n",
        "print(VariableDeTipoTexto * VariableNumerica)"
      ],
      "metadata": {
        "colab": {
          "base_uri": "https://localhost:8080/"
        },
        "id": "P2LeR0qiXG0-",
        "outputId": "af940e22-4f31-4710-f02c-c2bc0dba2797"
      },
      "execution_count": null,
      "outputs": [
        {
          "output_type": "stream",
          "name": "stdout",
          "text": [
            "Jamon\n"
          ]
        }
      ]
    },
    {
      "cell_type": "markdown",
      "source": [
        "#**Preguntas de concatenacion y multiplicacion.**"
      ],
      "metadata": {
        "id": "VIIjoDL3izck"
      }
    },
    {
      "cell_type": "markdown",
      "source": [
        "1.   `El siguiente ejemplo retornara error o se ejecutara correctamente, y si se ejecuta, que retornara?`\n"
      ],
      "metadata": {
        "id": "ihKe_tWejPTL"
      }
    },
    {
      "cell_type": "code",
      "source": [
        "VariableDeTexto1 = \"Arroz\"\n",
        "\n",
        "VariableNumerica1 = 2\n",
        "\n",
        "print(VariableDeTexto1 * VariableNumerica1 )"
      ],
      "metadata": {
        "colab": {
          "base_uri": "https://localhost:8080/"
        },
        "id": "zFiV9nXujBn9",
        "outputId": "ed0f84f3-1838-4b92-9b41-e3380b81c812"
      },
      "execution_count": null,
      "outputs": [
        {
          "output_type": "stream",
          "name": "stdout",
          "text": [
            "ArrozArroz\n"
          ]
        }
      ]
    },
    {
      "cell_type": "markdown",
      "source": [],
      "metadata": {
        "id": "TxvxbYeXsUTK"
      }
    },
    {
      "cell_type": "markdown",
      "source": [
        "2.   `El siguiente ejemplo retornara error o se ejecutara correctamente, y si se ejecuta, que retornara?`\n"
      ],
      "metadata": {
        "id": "bArPE1TvjQaZ"
      }
    },
    {
      "cell_type": "code",
      "source": [
        "VariableDeTexto1 = \"Torta\"\n",
        "\n",
        "VariableDeTexto2 = \"De jamon\"\n",
        "\n",
        "print(VariableDeTexto1 + VariableDeTexto2 * 3)\n"
      ],
      "metadata": {
        "colab": {
          "base_uri": "https://localhost:8080/"
        },
        "id": "GxJJ4U9jjSJF",
        "outputId": "c7107850-45e2-4be0-916a-cbc05b5325af"
      },
      "execution_count": null,
      "outputs": [
        {
          "output_type": "stream",
          "name": "stdout",
          "text": [
            "TortaDe jamonDe jamonDe jamon\n"
          ]
        }
      ]
    },
    {
      "cell_type": "markdown",
      "source": [
        "3.   `El siguiente ejemplo retornara error o se ejecutara correctamente, y si se ejecuta, que retornara?`\n"
      ],
      "metadata": {
        "id": "PRDh9ULRkze5"
      }
    },
    {
      "cell_type": "code",
      "source": [
        "VariableDeTexto1 = \"En tu cuenta tienes :\"\n",
        "\n",
        "VariableDeTexto2 = \"Pesos\"\n",
        "\n",
        "VariableNumerica1 = 1\n",
        "\n",
        "print(VariableDeTexto1, VariableNumerica1 * 100 , VariableDeTexto2)"
      ],
      "metadata": {
        "colab": {
          "base_uri": "https://localhost:8080/"
        },
        "id": "FoiwtAtBk1mu",
        "outputId": "c21e5eb0-66cc-481e-ebdf-727e7679872e"
      },
      "execution_count": null,
      "outputs": [
        {
          "output_type": "stream",
          "name": "stdout",
          "text": [
            "En tu cuenta tienes : 100 Pesos\n"
          ]
        }
      ]
    },
    {
      "cell_type": "markdown",
      "source": [
        "4.   `El siguiente ejemplo retornara error o se ejecutara correctamente, y si se ejecuta, que retornara?`\n"
      ],
      "metadata": {
        "id": "JuaHVRW2k2K_"
      }
    },
    {
      "cell_type": "code",
      "source": [
        "Variable1 = \"Hola\"\n",
        "\n",
        "Variable2 = \"4\"\n",
        "\n",
        "print(Variable1 * Variable2)"
      ],
      "metadata": {
        "colab": {
          "base_uri": "https://localhost:8080/",
          "height": 182
        },
        "id": "AtXE8T6ck3Wz",
        "outputId": "4d8f0309-02eb-4ecc-a5d6-73dffa3be4b6"
      },
      "execution_count": null,
      "outputs": [
        {
          "output_type": "error",
          "ename": "TypeError",
          "evalue": "can't multiply sequence by non-int of type 'str'",
          "traceback": [
            "\u001b[0;31m---------------------------------------------------------------------------\u001b[0m",
            "\u001b[0;31mTypeError\u001b[0m                                 Traceback (most recent call last)",
            "\u001b[0;32m<ipython-input-22-05b70b465857>\u001b[0m in \u001b[0;36m<cell line: 5>\u001b[0;34m()\u001b[0m\n\u001b[1;32m      3\u001b[0m \u001b[0mVariable2\u001b[0m \u001b[0;34m=\u001b[0m \u001b[0;34m\"4\"\u001b[0m\u001b[0;34m\u001b[0m\u001b[0;34m\u001b[0m\u001b[0m\n\u001b[1;32m      4\u001b[0m \u001b[0;34m\u001b[0m\u001b[0m\n\u001b[0;32m----> 5\u001b[0;31m \u001b[0mprint\u001b[0m\u001b[0;34m(\u001b[0m\u001b[0mVariable1\u001b[0m \u001b[0;34m*\u001b[0m \u001b[0mVariable2\u001b[0m\u001b[0;34m)\u001b[0m\u001b[0;34m\u001b[0m\u001b[0;34m\u001b[0m\u001b[0m\n\u001b[0m",
            "\u001b[0;31mTypeError\u001b[0m: can't multiply sequence by non-int of type 'str'"
          ]
        }
      ]
    },
    {
      "cell_type": "markdown",
      "source": [
        "5.   `El siguiente ejemplo retornara error o se ejecutara correctamente, y si se ejecuta, que retornara?`\n"
      ],
      "metadata": {
        "id": "iDSGNVyak3v8"
      }
    },
    {
      "cell_type": "code",
      "source": [
        "Variable1 = \"Texto\"\n",
        "\n",
        "Variable2 = \"TextoA\"\n",
        "\n",
        "Variable3 = 2\n",
        "\n",
        "Variable4 = 5\n",
        "\n",
        "print(Variable3 + Variable4, Variable1 + Variable2 * Variable3)\n"
      ],
      "metadata": {
        "colab": {
          "base_uri": "https://localhost:8080/"
        },
        "id": "uXV3EVLzk5Uu",
        "outputId": "ce1500dc-f651-4a6e-8715-ba8060129b18"
      },
      "execution_count": null,
      "outputs": [
        {
          "output_type": "stream",
          "name": "stdout",
          "text": [
            "7 TextoTextoATextoA\n"
          ]
        }
      ]
    },
    {
      "cell_type": "markdown",
      "source": [
        "6.   `El siguiente ejemplo retornara error o se ejecutara correctamente, y si se ejecuta, que retornara?`\n"
      ],
      "metadata": {
        "id": "7unqZf1hriu5"
      }
    },
    {
      "cell_type": "code",
      "source": [
        "Variable1 = \"TextoA\"\n",
        "\n",
        "Variable2 = \"TextoB\"\n",
        "\n",
        "Variable3 = \"TextoC\"\n",
        "\n",
        "Variable4 = 2\n",
        "\n",
        "Variable6 = 1\n",
        "\n",
        "print(Variable1,Variable2, Variable4 + Variable6, Variable3)"
      ],
      "metadata": {
        "colab": {
          "base_uri": "https://localhost:8080/"
        },
        "id": "EctG_OG0rrH_",
        "outputId": "22da4155-8f94-469c-c1d1-d38b2214bf80"
      },
      "execution_count": null,
      "outputs": [
        {
          "output_type": "stream",
          "name": "stdout",
          "text": [
            "TextoA TextoB 3 TextoC\n"
          ]
        }
      ]
    },
    {
      "cell_type": "markdown",
      "source": [
        "7.   `El siguiente ejemplo retornara error o se ejecutara correctamente, y si se ejecuta, que retornara?`\n"
      ],
      "metadata": {
        "id": "cQ5TnoiVsA3r"
      }
    },
    {
      "cell_type": "code",
      "source": [
        "Variable1 = \"TextoA\"\n",
        "\n",
        "Variable2 = 3\n",
        "\n",
        "Variable3 = \"TextoC\"\n",
        "\n",
        "Variable4 = 2\n",
        "\n",
        "Variable6 = \"TextoD\"\n",
        "\n",
        "print(Variable1,Variable2, Variable4 + Variable6 + Variable3)"
      ],
      "metadata": {
        "colab": {
          "base_uri": "https://localhost:8080/",
          "height": 182
        },
        "id": "CyigPh06sFjt",
        "outputId": "229bd10a-ff2e-44c8-89d3-dec522d095ef"
      },
      "execution_count": null,
      "outputs": [
        {
          "output_type": "error",
          "ename": "TypeError",
          "evalue": "unsupported operand type(s) for +: 'int' and 'str'",
          "traceback": [
            "\u001b[0;31m---------------------------------------------------------------------------\u001b[0m",
            "\u001b[0;31mTypeError\u001b[0m                                 Traceback (most recent call last)",
            "\u001b[0;32m<ipython-input-27-b927cd42efff>\u001b[0m in \u001b[0;36m<cell line: 11>\u001b[0;34m()\u001b[0m\n\u001b[1;32m      9\u001b[0m \u001b[0mVariable6\u001b[0m \u001b[0;34m=\u001b[0m \u001b[0;34m\"TextoD\"\u001b[0m\u001b[0;34m\u001b[0m\u001b[0;34m\u001b[0m\u001b[0m\n\u001b[1;32m     10\u001b[0m \u001b[0;34m\u001b[0m\u001b[0m\n\u001b[0;32m---> 11\u001b[0;31m \u001b[0mprint\u001b[0m\u001b[0;34m(\u001b[0m\u001b[0mVariable1\u001b[0m\u001b[0;34m,\u001b[0m\u001b[0mVariable2\u001b[0m\u001b[0;34m,\u001b[0m \u001b[0mVariable4\u001b[0m \u001b[0;34m+\u001b[0m \u001b[0mVariable6\u001b[0m \u001b[0;34m+\u001b[0m \u001b[0mVariable3\u001b[0m\u001b[0;34m)\u001b[0m\u001b[0;34m\u001b[0m\u001b[0;34m\u001b[0m\u001b[0m\n\u001b[0m",
            "\u001b[0;31mTypeError\u001b[0m: unsupported operand type(s) for +: 'int' and 'str'"
          ]
        }
      ]
    },
    {
      "cell_type": "markdown",
      "source": [
        "8.   `El siguiente ejemplo retornara error o se ejecutara correctamente, y si se ejecuta, que retornara?`\n"
      ],
      "metadata": {
        "id": "R1BQOgfmsXCK"
      }
    },
    {
      "cell_type": "code",
      "source": [
        "Variable1 = \"TextoA\"\n",
        "\n",
        "Variable2 = \"TextoB\"\n",
        "\n",
        "Variable3 = 3\n",
        "\n",
        "Variable4 = 2\n",
        "\n",
        "Variable5 = 2\n",
        "\n",
        "print(Variable3 * Variable4, Variable1 + Variable2 * Variable5)\n"
      ],
      "metadata": {
        "colab": {
          "base_uri": "https://localhost:8080/"
        },
        "id": "0qKLCoIjscu3",
        "outputId": "38197630-ee99-417e-889d-ab5a00e00c19"
      },
      "execution_count": null,
      "outputs": [
        {
          "output_type": "stream",
          "name": "stdout",
          "text": [
            "6 TextoATextoBTextoB\n"
          ]
        }
      ]
    },
    {
      "cell_type": "markdown",
      "source": [
        "#**Problemas asociados a operadores aritmeticos aplicados a textos y concatenacion.**"
      ],
      "metadata": {
        "id": "qd8mY5YVtIE0"
      }
    }
  ]
}