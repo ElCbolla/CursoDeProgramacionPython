{
  "nbformat": 4,
  "nbformat_minor": 0,
  "metadata": {
    "colab": {
      "provenance": [],
      "authorship_tag": "ABX9TyNIx+/Hmii5+bLeJVDFBNkH",
      "include_colab_link": true
    },
    "kernelspec": {
      "name": "python3",
      "display_name": "Python 3"
    },
    "language_info": {
      "name": "python"
    }
  },
  "cells": [
    {
      "cell_type": "markdown",
      "metadata": {
        "id": "view-in-github",
        "colab_type": "text"
      },
      "source": [
        "<a href=\"https://colab.research.google.com/github/ElCbolla/CursoDeProgramacionPython/blob/main/Repaso_Programacion.ipynb\" target=\"_parent\"><img src=\"https://colab.research.google.com/assets/colab-badge.svg\" alt=\"Open In Colab\"/></a>"
      ]
    },
    {
      "cell_type": "markdown",
      "source": [
        "## **Problema 1**\n",
        "\n",
        "Crea un programa donde:\n",
        "\n",
        "1. Se definan tres variables : `Nombre`, `Apellido`, `Edad`.\n",
        "2. Las variables `Nombre` y `Apellido` deben ser de tipo `{str}`.\n",
        "3. La variable `Edad` debe ser de tipo `{int}`.\n",
        "4. Concatena `Nombre` y `Apellido` con un espacio entre ellos usando el operador `( + )`.\n",
        "5. Muestra el nombre completo y la edad usando la funcion `print`.\n"
      ],
      "metadata": {
        "id": "K-WuEuxQJRZf"
      }
    },
    {
      "cell_type": "code",
      "execution_count": null,
      "metadata": {
        "id": "NsZeI1FhIHsb"
      },
      "outputs": [],
      "source": [
        "#Programa-1\n",
        "\n",
        "\n",
        "\n",
        "\n",
        "\n",
        "\n",
        "\n",
        "\n",
        "\n",
        "\n"
      ]
    },
    {
      "cell_type": "markdown",
      "source": [
        "\n",
        "\n",
        "---\n",
        "## **Problema 2**\n",
        "\n",
        "Crea un programa donde:\n",
        "\n",
        "1. Se definan cinco variables : `Producto1`, `Producto2`, `Precio1`, `Precio2`, `Cantidad`.\n",
        "2. Las variables `Producto1` y `Producto2` deben ser de tipo `{str}`.\n",
        "3. Las variables `Precio1`, `Precio2` y `Cantidad` deben ser de tipo `{float}`.\n",
        "4. Calcula el costo total sumando los precios de ambos productos y multiplicandolo por `Cantidad`.\n",
        "5. Muestra el resultado usando la funcion `print` junto con los nombres de los productos.\n",
        "\n"
      ],
      "metadata": {
        "id": "xj6slPa6JuYu"
      }
    },
    {
      "cell_type": "code",
      "source": [
        "#Programa-2\n",
        "\n",
        "\n",
        "\n",
        "\n",
        "\n",
        "\n",
        "\n",
        "\n",
        "\n"
      ],
      "metadata": {
        "id": "_UOWR6MSJ4F9"
      },
      "execution_count": null,
      "outputs": []
    },
    {
      "cell_type": "markdown",
      "source": [
        "\n",
        "\n",
        "---\n",
        "\n",
        "\n",
        "### **Problema 3**\n",
        "\n",
        "Crea un programa donde:\n",
        "\n",
        "1. Se definan cuatro variables: `Texto1`, `Texto2`, `Numero1`, `Numero2`.  \n",
        "2. Las variables `Texto1` y `Texto2` deben ser de tipo `{str}`.  \n",
        "3. Las variables `Numero1` y `Numero2` deben ser de tipo `{float}`.  \n",
        "4. Calcula la raiz cuadrada de `Numero1` usando el operador de exponente `**` (con valor 0.5).  \n",
        "5. Suma `Numero2` con la raiz cuadrada de `Numero1` y convierte el resultado a un entero usando `int()`.  \n",
        "6. Concatena el resultado de la suma con `Texto1` y `Texto2` usando la función `print()` y el operador `( , )`.\n",
        "\n"
      ],
      "metadata": {
        "id": "jkZG8SsyKvOx"
      }
    },
    {
      "cell_type": "code",
      "source": [
        "#Programa-3\n",
        "\n",
        "\n",
        "\n",
        "\n",
        "\n",
        "\n",
        "\n"
      ],
      "metadata": {
        "id": "A8JlTskQK-sz"
      },
      "execution_count": null,
      "outputs": []
    },
    {
      "cell_type": "markdown",
      "source": [
        "\n",
        "\n",
        "---\n",
        "\n",
        "\n",
        "### **Problema 4**\n",
        "\n",
        "Crea un programa donde:\n",
        "\n",
        "1. Se definan cuatro variables: `Frase1`, `Frase2`, `ValorA`, `ValorB`.  \n",
        "2. Las variables `Frase1` y `Frase2` deben ser de tipo `{str}`.  \n",
        "3. Las variables `ValorA` y `ValorB` deben ser de tipo `{int}`.  \n",
        "4. Calcula la suma de `ValorA` elevado al cuadrado más `ValorB` elevado al cubo usando el operador `**`.  \n",
        "5. Convierte el resultado de la suma a un numero flotante usando la funcion `float()`.  \n",
        "6. Concatena los valores calculados con `Frase1` y `Frase2` usando la función `print()` y el operador `( , )`.\n"
      ],
      "metadata": {
        "id": "-Go_XTd2LFJZ"
      }
    },
    {
      "cell_type": "code",
      "source": [
        "#Programa-4\n",
        "\n",
        "\n",
        "\n",
        "\n",
        "\n",
        "\n",
        "\n",
        "\n",
        "\n",
        "\n"
      ],
      "metadata": {
        "id": "Cq4Y0UUoLUTw"
      },
      "execution_count": null,
      "outputs": []
    },
    {
      "cell_type": "markdown",
      "source": [
        "\n",
        "\n",
        "---\n",
        "## **Programa 5**\n",
        "Crea un programa donde:\n",
        "\n",
        "1. Se definan tres variables: `Mensaje`, `Valor1`, `Valor2`.  \n",
        "2. La variable `Mensaje` debe ser de tipo `str` y las otras dos de tipo `float`.  \n",
        "3. Usa un operador de asignación (`*=`) para multiplicar el valor de `Valor1` por `2` y actualizar su valor.  \n",
        "4. Concatena `Valor1` convertido a `str` con `\"Resultado multiplicado:\"` usando `( + )`.  \n",
        "5. Muestra los resultados con `print()`.\n"
      ],
      "metadata": {
        "id": "0V8FIBGpLtw-"
      }
    },
    {
      "cell_type": "code",
      "source": [
        "#Programa-5\n",
        "\n",
        "\n",
        "\n",
        "\n",
        "\n",
        "\n",
        "\n"
      ],
      "metadata": {
        "id": "gb7NVpMFMNHu"
      },
      "execution_count": null,
      "outputs": []
    },
    {
      "cell_type": "markdown",
      "source": [
        "\n",
        "\n",
        "---\n",
        "\n",
        "\n",
        "## **Programa 6**\n",
        "Crea un programa donde:\n",
        "\n",
        "1. Se definan tres variables: `Texto`, `Decimal1`, `Decimal2`.  \n",
        "2. La variable `Texto` debe ser de tipo `str` y las otras dos de tipo `float`.  \n",
        "3. Usa un operador de asignación (`/=`) para dividir `Decimal1` entre `Decimal2` y actualizar su valor.  \n",
        "4. Concatena `Decimal1` convertido a `str` con `\"División:\"` usando `( + )`.  \n",
        "5. Muestra los resultados con `print()`.\n"
      ],
      "metadata": {
        "id": "Svl2wWMOMPdV"
      }
    },
    {
      "cell_type": "code",
      "source": [
        "#Programa-6\n",
        "\n",
        "\n",
        "\n",
        "\n",
        "\n",
        "\n"
      ],
      "metadata": {
        "id": "1ussWiZPMY_G"
      },
      "execution_count": null,
      "outputs": []
    },
    {
      "cell_type": "markdown",
      "source": [
        "\n",
        "\n",
        "---\n",
        "\n",
        "## **Programa 7**\n",
        "Crea un programa donde:\n",
        "\n",
        "1. Se definan tres variables: `Frase`, `ValorA`, `ValorB`.  \n",
        "2. La variable `Frase` debe ser de tipo `str` y las otras dos de tipo `int`.  \n",
        "3. Usa un operador de asignación (`**=`) para elevar `ValorA` al exponente `ValorB` y actualizar su valor.  \n",
        "4. Concatena `ValorA` convertido a `str` con `\"Exponente calculado:\"` usando `( + )`.  \n",
        "5. Muestra los resultados con `print()`.\n"
      ],
      "metadata": {
        "id": "xQHVn49DMmvP"
      }
    },
    {
      "cell_type": "code",
      "source": [
        "#Programa-7\n",
        "\n",
        "\n",
        "\n",
        "\n",
        "\n",
        "\n",
        "\n"
      ],
      "metadata": {
        "id": "8aARKxE4MxQk"
      },
      "execution_count": null,
      "outputs": []
    },
    {
      "cell_type": "markdown",
      "source": [
        "---\n",
        "\n",
        "# **Programa-8**\n",
        "\n",
        "Crea un programa donde:\n",
        "\n",
        "1. Se definan cinco variables: `J`, `K`, `L`, `TextoA` y `TextoB`.  \n",
        "    - `J` debe ser igual a `100`, `K` debe ser igual a `20` y `L` debe ser igual a `50`.  \n",
        "    - `TextoA` debe ser igual a `\"Proceso\"` y `TextoB` igual a `\"Terminado\"`.  \n",
        "\n",
        "2. Realiza las siguientes operaciones:  \n",
        "   - Verifica si `J` dividido entre `K` es igual a `L` dividido entre `2`.  \n",
        "   - Usa un operador de asignación (`*=`) para multiplicar `K` por `2` y actualizar su valor.  \n",
        "   - Comprueba si `L` elevado al cuadrado es mayor que `J`.  \n",
        "\n",
        "3. Concatena `TextoA` y `TextoB` y muestra los resultados con la funcion `print()`.\n"
      ],
      "metadata": {
        "id": "kklqgXxBOdVS"
      }
    },
    {
      "cell_type": "code",
      "source": [
        "#Programa-8\n",
        "\n",
        "\n",
        "\n",
        "\n",
        "\n",
        "\n",
        "\n"
      ],
      "metadata": {
        "id": "q_YzYk8FOqHC"
      },
      "execution_count": null,
      "outputs": []
    },
    {
      "cell_type": "markdown",
      "source": [
        "\n",
        "\n",
        "---\n",
        "\n",
        "\n",
        "# **Programa-9**\n",
        "\n",
        "Crea un programa donde:\n",
        "\n",
        "1. Se definan cinco variables: `A`, `B`, `C`, `Palabra1` y `Palabra2`.  \n",
        "    - `A` debe ser igual a `20`, `B` debe ser igual a `5` y `C` debe ser igual a `4`.  \n",
        "    - `Palabra1` debe ser igual a `\"Calculo\"` y `Palabra2` igual a `\"Listo\"`.  \n",
        "\n",
        "2. Realiza las siguientes operaciones:  \n",
        "   - Verifica si `A` menos `B` es igual a `C` multiplicado por `4`.  \n",
        "   - Usa un operador de asignación (`*=`) para multiplicar `B` por `3` y actualizar su valor.  \n",
        "   - Comprueba si `C` elevado al cuadrado es menor que `A`.  \n",
        "\n",
        "3. Concatena `Palabra1` y `Palabra2` y muestra los resultados con la función `print()`.\n"
      ],
      "metadata": {
        "id": "GmxLIpp7OqSG"
      }
    },
    {
      "cell_type": "code",
      "source": [
        "#Programa-9\n",
        "\n",
        "\n",
        "\n",
        "\n",
        "\n"
      ],
      "metadata": {
        "id": "gU5yGcgHQQ3E"
      },
      "execution_count": null,
      "outputs": []
    },
    {
      "cell_type": "markdown",
      "source": [
        "\n",
        "\n",
        "---\n",
        "\n",
        "\n",
        "# **Programa-10**\n",
        "\n",
        "Crea un programa donde:\n",
        "\n",
        "1. Se definan cinco variables: `P`, `Q`, `R`, `Texto1` y `Texto2`.  \n",
        "    - `P` debe ser igual a `12`, `Q` debe ser igual a `6` y `R` debe ser igual a `2`.  \n",
        "    - `Texto1` debe ser igual a `\"Progreso\"` y `Texto2` igual a `\"Completado\"`.  \n",
        "\n",
        "2. Realiza las siguientes operaciones:  \n",
        "   - Verifica si el cubo de `P` entre `Q` es igual a `R`.  \n",
        "   - Usa un operador de asignación (`-=`) para restarle `R` a `Q` y actualizar su valor.  \n",
        "   - Comprueba si `P` dividido entre `R` es mayor que `Q`.  \n",
        "\n",
        "3. Concatena `Texto1` y `Texto2` y muestra los resultados con la función `print()`."
      ],
      "metadata": {
        "id": "I4cUHTzCPX0O"
      }
    },
    {
      "cell_type": "code",
      "source": [
        "#Programa-10\n",
        "\n",
        "\n",
        "\n",
        "\n",
        "\n",
        "\n",
        "\n",
        "\n",
        "\n"
      ],
      "metadata": {
        "id": "6LAuvLxkQXQj"
      },
      "execution_count": null,
      "outputs": []
    },
    {
      "cell_type": "markdown",
      "source": [
        "\n",
        "\n",
        "---\n",
        "#**Programa 11**\n",
        "\n",
        "\n",
        "Crea un programa donde:\n",
        "\n",
        "1. Se definan tres variables: `X`, `Y` y `Z`.  \n",
        "   - `X` debe ser igual a `100`.  \n",
        "   - `Y` debe ser igual a `50`.  \n",
        "   - `Z` debe ser igual a `25`.  \n",
        "\n",
        "2. Realiza las siguientes comparaciones:  \n",
        "   - Si `X` dividido entre `2` es igual a `Y`, imprime \"`X dividido entre 2 es igual a Y`\".  \n",
        "   - Si `Y` multiplicado por `2` es igual a `X`, imprime \"`Y multiplicado por 2 es igual a X`\".  \n",
        "   - Si `Z` multiplicado por `4` es menor que `X`, imprime \"`Z multiplicado por 4 es menor que X`\".  \n",
        "   - Si ninguna de las condiciones anteriores se cumple, imprime \"`No se cumple ninguna condicion`\".  \n",
        "\n",
        "3. Imprime los resultados usando la funcion `print()`."
      ],
      "metadata": {
        "id": "IJS3B8BrR_ZM"
      }
    },
    {
      "cell_type": "code",
      "source": [
        "#Programa-11\n",
        "\n",
        "\n",
        "\n",
        "\n",
        "\n",
        "\n"
      ],
      "metadata": {
        "id": "vg0I8srHSDxY"
      },
      "execution_count": null,
      "outputs": []
    },
    {
      "cell_type": "markdown",
      "source": [
        "\n",
        "\n",
        "---\n",
        "\n",
        "\n",
        "\n",
        "### **Problema 12**\n",
        "\n",
        "Crea un programa donde:\n",
        "\n",
        "1. Se definan tres variables: `M`, `N` y `O`.  \n",
        "   - `M` debe ser igual a `30`.  \n",
        "   - `N` debe ser igual a `60`.  \n",
        "   - `O` debe ser igual a `90`.  \n",
        "\n",
        "2. Realiza las siguientes comparaciones:  \n",
        "   - Si `M` más `N` es igual a `O`, imprime \"`La suma de M y N es igual a O`\".  \n",
        "   - Si `O` menos `M` es mayor que `N`, imprime \"`O menos M es mayor que N`\".  \n",
        "   - Si `N` dividido entre `3` es igual a `M`, imprime \"`N dividido entre 3 es igual a M`\".  \n",
        "   - Si ninguna de las condiciones anteriores se cumple, imprime \"`No se cumple ninguna condicion`\".  \n",
        "\n",
        "3. Imprime los resultados usando la funcion `print()`."
      ],
      "metadata": {
        "id": "yJHzztcxSEDI"
      }
    },
    {
      "cell_type": "code",
      "source": [
        "#Programa-12\n",
        "\n",
        "\n",
        "\n",
        "\n",
        "\n",
        "\n",
        "\n"
      ],
      "metadata": {
        "id": "WE6dMLQsSRh8"
      },
      "execution_count": null,
      "outputs": []
    },
    {
      "cell_type": "markdown",
      "source": [
        "\n",
        "\n",
        "---\n",
        "\n",
        "\n",
        "### **Problema 13**\n",
        "\n",
        "Crea un programa donde:\n",
        "\n",
        "1. Se definan tres variables: `G`, `H` y `I`.  \n",
        "   - `G` debe ser igual a `10`.  \n",
        "   - `H` debe ser igual a `20`.  \n",
        "   - `I` debe ser igual a `5`.  \n",
        "\n",
        "2. Realiza las siguientes comparaciones:  \n",
        "   - Si `G` multiplicado por `I` es igual a `H`, imprime \"`G multiplicado por I es igual a H`\".  \n",
        "   - Si `H` dividido entre `G` es igual a `I`, imprime \"`H dividido entre G es igual a I`\".  \n",
        "   - Si `I` más `G` es menor que `H`, imprime \"`La suma de I y G es menor que H`\".  \n",
        "   - Si ninguna de las condiciones anteriores se cumple, imprime \"`No se cumple ninguna condicion`\".  \n",
        "\n",
        "3. Imprime los resultados usando la funcion `print()`"
      ],
      "metadata": {
        "id": "6e0E4gfzSWQX"
      }
    },
    {
      "cell_type": "code",
      "source": [
        "#Programa-13\n",
        "\n",
        "\n",
        "\n",
        "\n",
        "\n",
        "\n",
        "\n"
      ],
      "metadata": {
        "id": "cSU3kkM2SVwA"
      },
      "execution_count": null,
      "outputs": []
    },
    {
      "cell_type": "markdown",
      "source": [
        "\n",
        "\n",
        "---\n",
        "\n",
        "# **Problema 14**\n",
        "\n",
        "Crea un programa donde:\n",
        "\n",
        "1. Se solicite al usuario que ingrese una opcion para controlar un ventilador:  \n",
        "   - `\"prender\"`, `\"apagar\"`, `\"velocidad alta\"`, `\"velocidad baja\"`.  \n",
        "\n",
        "2. El programa debe realizar lo siguiente:  \n",
        "   - Si la opcion es `\"prender\"`, imprime `\"El ventilador esta encendido\"`.  \n",
        "   - Si la opcion es `\"apagar\"`, imprime `\"El ventilador esta apagado\"`.  \n",
        "   - Si la opcion es `\"velocidad alta\"`, imprime `\"El ventilador esta en velocidad alta\"`.  \n",
        "   - Si la opcion es `\"velocidad baja\"`, imprime `\"El ventilador esta en velocidad baja\"`.  \n",
        "   - Si la opcion ingresada no es valida, imprime `\"Opcion no valida\"`.  \n"
      ],
      "metadata": {
        "id": "hSJHv41oTuNC"
      }
    },
    {
      "cell_type": "code",
      "source": [
        "#Programa-14\n",
        "\n",
        "\n",
        "\n",
        "\n"
      ],
      "metadata": {
        "id": "aDEeCR1vUf1m"
      },
      "execution_count": null,
      "outputs": []
    },
    {
      "cell_type": "markdown",
      "source": [
        "---\n",
        "\n",
        "# **Problema 15**\n",
        "\n",
        "Crea un programa donde:\n",
        "\n",
        "1. Se solicite al usuario que seleccione una accion para una puerta automatica:  \n",
        "   - `\"abrir\"`, `\"cerrar\"`, `\"estado\"`.  \n",
        "\n",
        "2. El programa debe realizar lo siguiente:  \n",
        "   - Si la accion es `\"abrir\"`, imprime `\"La puerta se esta abriendo\"`.  \n",
        "   - Si la accion es `\"cerrar\"`, imprime `\"La puerta se esta cerrando\"`.  \n",
        "   - Si la accion es `\"estado\"`, imprime `\"La puerta esta cerrada\"` si la puerta esta cerrada o `\"La puerta esta abierta\"` si esta abierta (asume que inicialmente la puerta esta cerrada).  \n",
        "   - Si la accion ingresada no es valida, imprime `\"Accion no valida\"`.  \n"
      ],
      "metadata": {
        "id": "GsJuYaMOUlP2"
      }
    },
    {
      "cell_type": "code",
      "source": [
        "#Programa-15\n",
        "\n",
        "\n",
        "\n",
        "\n",
        "\n",
        "\n",
        "\n"
      ],
      "metadata": {
        "id": "SOMqAYqLklsD"
      },
      "execution_count": null,
      "outputs": []
    },
    {
      "cell_type": "markdown",
      "source": [
        "\n",
        "\n",
        "---\n",
        "\n",
        "\n",
        "# **Problema 16**\n",
        "\n",
        "Crea un programa donde:\n",
        "\n",
        "1. Se solicite al usuario que indique el estado de un ascensor:  \n",
        "   - `\"subir\"`, `\"bajar\"`, `\"detener\"`.  \n",
        "\n",
        "2. El programa debe realizar lo siguiente:  \n",
        "   - Si el estado es `\"subir\"`, imprime `\"El ascensor esta subiendo\"`.  \n",
        "   - Si el estado es `\"bajar\"`, imprime `\"El ascensor esta bajando\"`.  \n",
        "   - Si el estado es `\"detener\"`, imprime `\"El ascensor se ha detenido\"`.  \n",
        "   - Si el estado ingresado no es valido, imprime `\"Estado no reconocido\"`\n"
      ],
      "metadata": {
        "id": "L6BZc0D_koO8"
      }
    },
    {
      "cell_type": "code",
      "source": [
        "#Programa-16\n",
        "\n",
        "\n",
        "\n",
        "\n",
        "\n",
        "\n",
        "\n",
        "\n",
        "\n",
        "\n",
        "\n"
      ],
      "metadata": {
        "id": "qKh2Jo8TlNJ7"
      },
      "execution_count": null,
      "outputs": []
    }
  ]
}