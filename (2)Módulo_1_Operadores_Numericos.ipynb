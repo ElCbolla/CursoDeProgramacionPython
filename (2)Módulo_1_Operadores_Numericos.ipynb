{
  "nbformat": 4,
  "nbformat_minor": 0,
  "metadata": {
    "colab": {
      "provenance": [],
      "authorship_tag": "ABX9TyMUVSKgyYLzuatnqdwmXckc",
      "include_colab_link": true
    },
    "kernelspec": {
      "name": "python3",
      "display_name": "Python 3"
    },
    "language_info": {
      "name": "python"
    }
  },
  "cells": [
    {
      "cell_type": "markdown",
      "metadata": {
        "id": "view-in-github",
        "colab_type": "text"
      },
      "source": [
        "<a href=\"https://colab.research.google.com/github/ElCbolla/CursoDeProgramacionPython/blob/main/M%C3%B3dulo_1_Operadores_Numericos.ipynb\" target=\"_parent\"><img src=\"https://colab.research.google.com/assets/colab-badge.svg\" alt=\"Open In Colab\"/></a>"
      ]
    },
    {
      "cell_type": "markdown",
      "source": [
        "# **Operadores aritmeticos en python**\n",
        "\n",
        "Los operadores aritmeticos en python se definen mediante los simbolos convencionales de la aritmetica. Suma : `( + )` , Resta : `( - )` , Multiplicacion : `( * )` , Division : `( / )` , Potenciacion : `( ** )`"
      ],
      "metadata": {
        "id": "pzLNmTLQ2wOM"
      }
    },
    {
      "cell_type": "markdown",
      "source": [
        "***Ejemplo de operadores.***"
      ],
      "metadata": {
        "id": "eHVj_5sl-ytQ"
      }
    },
    {
      "cell_type": "code",
      "execution_count": 3,
      "metadata": {
        "colab": {
          "base_uri": "https://localhost:8080/"
        },
        "id": "dAguUqRR1j5i",
        "outputId": "38313d21-8434-49b1-c803-5799b716c437"
      },
      "outputs": [
        {
          "output_type": "stream",
          "name": "stdout",
          "text": [
            "7\n"
          ]
        }
      ],
      "source": [
        "print(5+2) #Suma entre dos numeros enteros {int}."
      ]
    },
    {
      "cell_type": "markdown",
      "source": [],
      "metadata": {
        "id": "NXc5iwwt_GxN"
      }
    },
    {
      "cell_type": "code",
      "source": [
        "print(7.0+2.5) #Suma entre dos numeros con decimales {float}."
      ],
      "metadata": {
        "colab": {
          "base_uri": "https://localhost:8080/"
        },
        "id": "LrJexLfF_UBE",
        "outputId": "b578e183-6279-4812-8283-e591205085bb"
      },
      "execution_count": 4,
      "outputs": [
        {
          "output_type": "stream",
          "name": "stdout",
          "text": [
            "9.0\n"
          ]
        }
      ]
    },
    {
      "cell_type": "code",
      "source": [
        "print(7 - 2) #Resta entre dos enteros {int}."
      ],
      "metadata": {
        "colab": {
          "base_uri": "https://localhost:8080/"
        },
        "id": "fGhWDW51_ezQ",
        "outputId": "dde0b18f-28b0-478e-902f-d0b50e22fb20"
      },
      "execution_count": 5,
      "outputs": [
        {
          "output_type": "stream",
          "name": "stdout",
          "text": [
            "5\n"
          ]
        }
      ]
    },
    {
      "cell_type": "code",
      "source": [
        "print(2.0-2.5) #Resta entre dos numeros con decimales {float}."
      ],
      "metadata": {
        "id": "UtLAhNNn_tSs"
      },
      "execution_count": null,
      "outputs": []
    },
    {
      "cell_type": "code",
      "source": [
        "print(4 * 2) #Multiplicacion entre dos numeros enteros {int}."
      ],
      "metadata": {
        "colab": {
          "base_uri": "https://localhost:8080/"
        },
        "id": "8YGvoT1__2bn",
        "outputId": "3946effe-506c-4609-9142-6762e083fa6d"
      },
      "execution_count": 6,
      "outputs": [
        {
          "output_type": "stream",
          "name": "stdout",
          "text": [
            "8\n"
          ]
        }
      ]
    },
    {
      "cell_type": "code",
      "source": [
        "print(2.0 * 2.5) #Multiplicacion entre dos numeros con decimales {float}."
      ],
      "metadata": {
        "colab": {
          "base_uri": "https://localhost:8080/"
        },
        "id": "rGfFnRhPABwq",
        "outputId": "63029c5a-7fa1-4236-b068-d1240a73e876"
      },
      "execution_count": 7,
      "outputs": [
        {
          "output_type": "stream",
          "name": "stdout",
          "text": [
            "5.0\n"
          ]
        }
      ]
    },
    {
      "cell_type": "code",
      "source": [
        "print(2/2) #Division entre dos numeros enteros {int}."
      ],
      "metadata": {
        "colab": {
          "base_uri": "https://localhost:8080/"
        },
        "id": "hZUqD9VgAXqM",
        "outputId": "8915b5cc-8ed5-4bc2-ca91-01ac5a6e108c"
      },
      "execution_count": 8,
      "outputs": [
        {
          "output_type": "stream",
          "name": "stdout",
          "text": [
            "4\n"
          ]
        }
      ]
    },
    {
      "cell_type": "code",
      "source": [
        "print(5.2/5.1) #Division entre dos numeros con decimales {float}."
      ],
      "metadata": {
        "colab": {
          "base_uri": "https://localhost:8080/"
        },
        "id": "i9iqJMuXAkGF",
        "outputId": "5c8d72f4-1756-400d-d506-f17d0265722f"
      },
      "execution_count": 9,
      "outputs": [
        {
          "output_type": "stream",
          "name": "stdout",
          "text": [
            "1.019607843137255\n"
          ]
        }
      ]
    },
    {
      "cell_type": "code",
      "source": [
        "print(2**2) #Potencia entre dos numeros enteros (Dos al cuadrado) {int}."
      ],
      "metadata": {
        "colab": {
          "base_uri": "https://localhost:8080/"
        },
        "id": "nBkG2po-A3-T",
        "outputId": "d9b618d5-696a-43c6-cd8e-d3250eda040e"
      },
      "execution_count": 10,
      "outputs": [
        {
          "output_type": "stream",
          "name": "stdout",
          "text": [
            "4\n"
          ]
        }
      ]
    },
    {
      "cell_type": "code",
      "source": [
        "print(2.5**1.2) #Potencia entre dos numeros decimales {int}."
      ],
      "metadata": {
        "id": "KqF952DQBBFG"
      },
      "execution_count": null,
      "outputs": []
    },
    {
      "cell_type": "markdown",
      "source": [
        "# **Los valores logicos** `{bool}` **tambien almacenan un valor entero. [El valor `True` contiene un 1 y el `False` un 0 Como el sistema binario.]**\n",
        "\n",
        "\n",
        "\n"
      ],
      "metadata": {
        "id": "tgWzEqscHxMc"
      }
    },
    {
      "cell_type": "code",
      "source": [
        "print(True + True) #Suma entre dos datos logicos {bool}"
      ],
      "metadata": {
        "colab": {
          "base_uri": "https://localhost:8080/"
        },
        "id": "wn_xrtx3JDie",
        "outputId": "c8372ba5-fda2-4e16-b1a9-8814d5a4cc47"
      },
      "execution_count": 25,
      "outputs": [
        {
          "output_type": "stream",
          "name": "stdout",
          "text": [
            "2\n"
          ]
        }
      ]
    },
    {
      "cell_type": "code",
      "source": [
        "print(True - False) #Resta entre dos datos logicos {bool}"
      ],
      "metadata": {
        "colab": {
          "base_uri": "https://localhost:8080/"
        },
        "id": "gPMiRW5RJMcF",
        "outputId": "0cb77850-fa42-4269-f542-692e1779acbd"
      },
      "execution_count": 26,
      "outputs": [
        {
          "output_type": "stream",
          "name": "stdout",
          "text": [
            "1\n"
          ]
        }
      ]
    },
    {
      "cell_type": "code",
      "source": [
        "print(True * False) #Multiplicacion entre dos datos logicos {bool}"
      ],
      "metadata": {
        "colab": {
          "base_uri": "https://localhost:8080/"
        },
        "id": "61I9lJ5iJTci",
        "outputId": "57270069-960d-428b-c3ef-d12c2a17f936"
      },
      "execution_count": 27,
      "outputs": [
        {
          "output_type": "stream",
          "name": "stdout",
          "text": [
            "1\n"
          ]
        }
      ]
    },
    {
      "cell_type": "code",
      "source": [
        "print(True/True) #Multiplicacion entre dos datos logicos {bool}"
      ],
      "metadata": {
        "colab": {
          "base_uri": "https://localhost:8080/"
        },
        "id": "UCQEmGZyJcvK",
        "outputId": "39035f30-8e0d-4eea-bf55-73ca972c6874"
      },
      "execution_count": 28,
      "outputs": [
        {
          "output_type": "stream",
          "name": "stdout",
          "text": [
            "1.0\n"
          ]
        }
      ]
    },
    {
      "cell_type": "code",
      "source": [
        "print(True**False) #Potenciacion entre dos datos logicos {bool}"
      ],
      "metadata": {
        "colab": {
          "base_uri": "https://localhost:8080/"
        },
        "id": "eYk3xfYDJn7Y",
        "outputId": "a3671d66-19d7-4d74-9dd6-66b8ca316dad"
      },
      "execution_count": 29,
      "outputs": [
        {
          "output_type": "stream",
          "name": "stdout",
          "text": [
            "1\n"
          ]
        }
      ]
    },
    {
      "cell_type": "markdown",
      "source": [
        "# **Tabla de ejemplos de operadores aritmeticos.**"
      ],
      "metadata": {
        "id": "RDt5Th0YBcmR"
      }
    },
    {
      "cell_type": "code",
      "source": [
        "import pandas as pd\n",
        "\n",
        "\n",
        "data = {\n",
        "    \"Operador\": [\"+\", \"-\", \"*\", \"/\", \"**\"],\n",
        "    \"Descripcion\": [\n",
        "        \"Suma\",\n",
        "        \"Resta\",\n",
        "        \"Multiplicación\",\n",
        "        \"División entera\",\n",
        "        \"Potencia\"\n",
        "    ],\n",
        "    \"Ejemplo\": [\n",
        "        \"5 + 3 = 8\",\n",
        "        \"5 - 3 = 2\",\n",
        "        \"5 * 3 = 15\",\n",
        "        \"5 / 2 = 2.5\",\n",
        "        \"5 ** 2 = 25\"\n",
        "    ],\n",
        "    \"Ejemplos (Datos logicos)\": [\"True + True = 2\",\"False - False = 0\",\" True * True = 1\",\"True/True = 1\",\"True**True = 1\"]\n",
        "}\n",
        "\n",
        "\n",
        "tabla = pd.DataFrame(data)\n",
        "\n",
        "tabla\n"
      ],
      "metadata": {
        "colab": {
          "base_uri": "https://localhost:8080/",
          "height": 206
        },
        "id": "auWXenqWBugB",
        "outputId": "1d8b878f-7f83-4721-ea4f-affde8bd34c1"
      },
      "execution_count": 32,
      "outputs": [
        {
          "output_type": "execute_result",
          "data": {
            "text/plain": [
              "  Operador      Descripcion      Ejemplo Ejemplos (Datos logicos)\n",
              "0        +             Suma    5 + 3 = 8          True + True = 2\n",
              "1        -            Resta    5 - 3 = 2        False - False = 0\n",
              "2        *   Multiplicación   5 * 3 = 15          True * True = 1\n",
              "3        /  División entera  5 / 2 = 2.5            True/True = 1\n",
              "4       **         Potencia  5 ** 2 = 25           True**True = 1"
            ],
            "text/html": [
              "\n",
              "  <div id=\"df-23e9709b-ceae-4599-9aea-2758cfae2399\" class=\"colab-df-container\">\n",
              "    <div>\n",
              "<style scoped>\n",
              "    .dataframe tbody tr th:only-of-type {\n",
              "        vertical-align: middle;\n",
              "    }\n",
              "\n",
              "    .dataframe tbody tr th {\n",
              "        vertical-align: top;\n",
              "    }\n",
              "\n",
              "    .dataframe thead th {\n",
              "        text-align: right;\n",
              "    }\n",
              "</style>\n",
              "<table border=\"1\" class=\"dataframe\">\n",
              "  <thead>\n",
              "    <tr style=\"text-align: right;\">\n",
              "      <th></th>\n",
              "      <th>Operador</th>\n",
              "      <th>Descripcion</th>\n",
              "      <th>Ejemplo</th>\n",
              "      <th>Ejemplos (Datos logicos)</th>\n",
              "    </tr>\n",
              "  </thead>\n",
              "  <tbody>\n",
              "    <tr>\n",
              "      <th>0</th>\n",
              "      <td>+</td>\n",
              "      <td>Suma</td>\n",
              "      <td>5 + 3 = 8</td>\n",
              "      <td>True + True = 2</td>\n",
              "    </tr>\n",
              "    <tr>\n",
              "      <th>1</th>\n",
              "      <td>-</td>\n",
              "      <td>Resta</td>\n",
              "      <td>5 - 3 = 2</td>\n",
              "      <td>False - False = 0</td>\n",
              "    </tr>\n",
              "    <tr>\n",
              "      <th>2</th>\n",
              "      <td>*</td>\n",
              "      <td>Multiplicación</td>\n",
              "      <td>5 * 3 = 15</td>\n",
              "      <td>True * True = 1</td>\n",
              "    </tr>\n",
              "    <tr>\n",
              "      <th>3</th>\n",
              "      <td>/</td>\n",
              "      <td>División entera</td>\n",
              "      <td>5 / 2 = 2.5</td>\n",
              "      <td>True/True = 1</td>\n",
              "    </tr>\n",
              "    <tr>\n",
              "      <th>4</th>\n",
              "      <td>**</td>\n",
              "      <td>Potencia</td>\n",
              "      <td>5 ** 2 = 25</td>\n",
              "      <td>True**True = 1</td>\n",
              "    </tr>\n",
              "  </tbody>\n",
              "</table>\n",
              "</div>\n",
              "    <div class=\"colab-df-buttons\">\n",
              "\n",
              "  <div class=\"colab-df-container\">\n",
              "    <button class=\"colab-df-convert\" onclick=\"convertToInteractive('df-23e9709b-ceae-4599-9aea-2758cfae2399')\"\n",
              "            title=\"Convert this dataframe to an interactive table.\"\n",
              "            style=\"display:none;\">\n",
              "\n",
              "  <svg xmlns=\"http://www.w3.org/2000/svg\" height=\"24px\" viewBox=\"0 -960 960 960\">\n",
              "    <path d=\"M120-120v-720h720v720H120Zm60-500h600v-160H180v160Zm220 220h160v-160H400v160Zm0 220h160v-160H400v160ZM180-400h160v-160H180v160Zm440 0h160v-160H620v160ZM180-180h160v-160H180v160Zm440 0h160v-160H620v160Z\"/>\n",
              "  </svg>\n",
              "    </button>\n",
              "\n",
              "  <style>\n",
              "    .colab-df-container {\n",
              "      display:flex;\n",
              "      gap: 12px;\n",
              "    }\n",
              "\n",
              "    .colab-df-convert {\n",
              "      background-color: #E8F0FE;\n",
              "      border: none;\n",
              "      border-radius: 50%;\n",
              "      cursor: pointer;\n",
              "      display: none;\n",
              "      fill: #1967D2;\n",
              "      height: 32px;\n",
              "      padding: 0 0 0 0;\n",
              "      width: 32px;\n",
              "    }\n",
              "\n",
              "    .colab-df-convert:hover {\n",
              "      background-color: #E2EBFA;\n",
              "      box-shadow: 0px 1px 2px rgba(60, 64, 67, 0.3), 0px 1px 3px 1px rgba(60, 64, 67, 0.15);\n",
              "      fill: #174EA6;\n",
              "    }\n",
              "\n",
              "    .colab-df-buttons div {\n",
              "      margin-bottom: 4px;\n",
              "    }\n",
              "\n",
              "    [theme=dark] .colab-df-convert {\n",
              "      background-color: #3B4455;\n",
              "      fill: #D2E3FC;\n",
              "    }\n",
              "\n",
              "    [theme=dark] .colab-df-convert:hover {\n",
              "      background-color: #434B5C;\n",
              "      box-shadow: 0px 1px 3px 1px rgba(0, 0, 0, 0.15);\n",
              "      filter: drop-shadow(0px 1px 2px rgba(0, 0, 0, 0.3));\n",
              "      fill: #FFFFFF;\n",
              "    }\n",
              "  </style>\n",
              "\n",
              "    <script>\n",
              "      const buttonEl =\n",
              "        document.querySelector('#df-23e9709b-ceae-4599-9aea-2758cfae2399 button.colab-df-convert');\n",
              "      buttonEl.style.display =\n",
              "        google.colab.kernel.accessAllowed ? 'block' : 'none';\n",
              "\n",
              "      async function convertToInteractive(key) {\n",
              "        const element = document.querySelector('#df-23e9709b-ceae-4599-9aea-2758cfae2399');\n",
              "        const dataTable =\n",
              "          await google.colab.kernel.invokeFunction('convertToInteractive',\n",
              "                                                    [key], {});\n",
              "        if (!dataTable) return;\n",
              "\n",
              "        const docLinkHtml = 'Like what you see? Visit the ' +\n",
              "          '<a target=\"_blank\" href=https://colab.research.google.com/notebooks/data_table.ipynb>data table notebook</a>'\n",
              "          + ' to learn more about interactive tables.';\n",
              "        element.innerHTML = '';\n",
              "        dataTable['output_type'] = 'display_data';\n",
              "        await google.colab.output.renderOutput(dataTable, element);\n",
              "        const docLink = document.createElement('div');\n",
              "        docLink.innerHTML = docLinkHtml;\n",
              "        element.appendChild(docLink);\n",
              "      }\n",
              "    </script>\n",
              "  </div>\n",
              "\n",
              "\n",
              "<div id=\"df-e8f9c6cc-d475-4bef-8934-67ee2f6b7e72\">\n",
              "  <button class=\"colab-df-quickchart\" onclick=\"quickchart('df-e8f9c6cc-d475-4bef-8934-67ee2f6b7e72')\"\n",
              "            title=\"Suggest charts\"\n",
              "            style=\"display:none;\">\n",
              "\n",
              "<svg xmlns=\"http://www.w3.org/2000/svg\" height=\"24px\"viewBox=\"0 0 24 24\"\n",
              "     width=\"24px\">\n",
              "    <g>\n",
              "        <path d=\"M19 3H5c-1.1 0-2 .9-2 2v14c0 1.1.9 2 2 2h14c1.1 0 2-.9 2-2V5c0-1.1-.9-2-2-2zM9 17H7v-7h2v7zm4 0h-2V7h2v10zm4 0h-2v-4h2v4z\"/>\n",
              "    </g>\n",
              "</svg>\n",
              "  </button>\n",
              "\n",
              "<style>\n",
              "  .colab-df-quickchart {\n",
              "      --bg-color: #E8F0FE;\n",
              "      --fill-color: #1967D2;\n",
              "      --hover-bg-color: #E2EBFA;\n",
              "      --hover-fill-color: #174EA6;\n",
              "      --disabled-fill-color: #AAA;\n",
              "      --disabled-bg-color: #DDD;\n",
              "  }\n",
              "\n",
              "  [theme=dark] .colab-df-quickchart {\n",
              "      --bg-color: #3B4455;\n",
              "      --fill-color: #D2E3FC;\n",
              "      --hover-bg-color: #434B5C;\n",
              "      --hover-fill-color: #FFFFFF;\n",
              "      --disabled-bg-color: #3B4455;\n",
              "      --disabled-fill-color: #666;\n",
              "  }\n",
              "\n",
              "  .colab-df-quickchart {\n",
              "    background-color: var(--bg-color);\n",
              "    border: none;\n",
              "    border-radius: 50%;\n",
              "    cursor: pointer;\n",
              "    display: none;\n",
              "    fill: var(--fill-color);\n",
              "    height: 32px;\n",
              "    padding: 0;\n",
              "    width: 32px;\n",
              "  }\n",
              "\n",
              "  .colab-df-quickchart:hover {\n",
              "    background-color: var(--hover-bg-color);\n",
              "    box-shadow: 0 1px 2px rgba(60, 64, 67, 0.3), 0 1px 3px 1px rgba(60, 64, 67, 0.15);\n",
              "    fill: var(--button-hover-fill-color);\n",
              "  }\n",
              "\n",
              "  .colab-df-quickchart-complete:disabled,\n",
              "  .colab-df-quickchart-complete:disabled:hover {\n",
              "    background-color: var(--disabled-bg-color);\n",
              "    fill: var(--disabled-fill-color);\n",
              "    box-shadow: none;\n",
              "  }\n",
              "\n",
              "  .colab-df-spinner {\n",
              "    border: 2px solid var(--fill-color);\n",
              "    border-color: transparent;\n",
              "    border-bottom-color: var(--fill-color);\n",
              "    animation:\n",
              "      spin 1s steps(1) infinite;\n",
              "  }\n",
              "\n",
              "  @keyframes spin {\n",
              "    0% {\n",
              "      border-color: transparent;\n",
              "      border-bottom-color: var(--fill-color);\n",
              "      border-left-color: var(--fill-color);\n",
              "    }\n",
              "    20% {\n",
              "      border-color: transparent;\n",
              "      border-left-color: var(--fill-color);\n",
              "      border-top-color: var(--fill-color);\n",
              "    }\n",
              "    30% {\n",
              "      border-color: transparent;\n",
              "      border-left-color: var(--fill-color);\n",
              "      border-top-color: var(--fill-color);\n",
              "      border-right-color: var(--fill-color);\n",
              "    }\n",
              "    40% {\n",
              "      border-color: transparent;\n",
              "      border-right-color: var(--fill-color);\n",
              "      border-top-color: var(--fill-color);\n",
              "    }\n",
              "    60% {\n",
              "      border-color: transparent;\n",
              "      border-right-color: var(--fill-color);\n",
              "    }\n",
              "    80% {\n",
              "      border-color: transparent;\n",
              "      border-right-color: var(--fill-color);\n",
              "      border-bottom-color: var(--fill-color);\n",
              "    }\n",
              "    90% {\n",
              "      border-color: transparent;\n",
              "      border-bottom-color: var(--fill-color);\n",
              "    }\n",
              "  }\n",
              "</style>\n",
              "\n",
              "  <script>\n",
              "    async function quickchart(key) {\n",
              "      const quickchartButtonEl =\n",
              "        document.querySelector('#' + key + ' button');\n",
              "      quickchartButtonEl.disabled = true;  // To prevent multiple clicks.\n",
              "      quickchartButtonEl.classList.add('colab-df-spinner');\n",
              "      try {\n",
              "        const charts = await google.colab.kernel.invokeFunction(\n",
              "            'suggestCharts', [key], {});\n",
              "      } catch (error) {\n",
              "        console.error('Error during call to suggestCharts:', error);\n",
              "      }\n",
              "      quickchartButtonEl.classList.remove('colab-df-spinner');\n",
              "      quickchartButtonEl.classList.add('colab-df-quickchart-complete');\n",
              "    }\n",
              "    (() => {\n",
              "      let quickchartButtonEl =\n",
              "        document.querySelector('#df-e8f9c6cc-d475-4bef-8934-67ee2f6b7e72 button');\n",
              "      quickchartButtonEl.style.display =\n",
              "        google.colab.kernel.accessAllowed ? 'block' : 'none';\n",
              "    })();\n",
              "  </script>\n",
              "</div>\n",
              "    </div>\n",
              "  </div>\n"
            ],
            "application/vnd.google.colaboratory.intrinsic+json": {
              "type": "dataframe",
              "variable_name": "tabla",
              "summary": "{\n  \"name\": \"tabla\",\n  \"rows\": 5,\n  \"fields\": [\n    {\n      \"column\": \"Operador\",\n      \"properties\": {\n        \"dtype\": \"string\",\n        \"num_unique_values\": 5,\n        \"samples\": [\n          \"-\",\n          \"**\",\n          \"*\"\n        ],\n        \"semantic_type\": \"\",\n        \"description\": \"\"\n      }\n    },\n    {\n      \"column\": \"Descripcion\",\n      \"properties\": {\n        \"dtype\": \"string\",\n        \"num_unique_values\": 5,\n        \"samples\": [\n          \"Resta\",\n          \"Potencia\",\n          \"Multiplicaci\\u00f3n\"\n        ],\n        \"semantic_type\": \"\",\n        \"description\": \"\"\n      }\n    },\n    {\n      \"column\": \"Ejemplo\",\n      \"properties\": {\n        \"dtype\": \"string\",\n        \"num_unique_values\": 5,\n        \"samples\": [\n          \"5 - 3 = 2\",\n          \"5 ** 2 = 25\",\n          \"5 * 3 = 15\"\n        ],\n        \"semantic_type\": \"\",\n        \"description\": \"\"\n      }\n    },\n    {\n      \"column\": \"Ejemplos (Datos logicos)\",\n      \"properties\": {\n        \"dtype\": \"string\",\n        \"num_unique_values\": 5,\n        \"samples\": [\n          \"False - False = 0\",\n          \"True**True = 1\",\n          \" True * True = 1\"\n        ],\n        \"semantic_type\": \"\",\n        \"description\": \"\"\n      }\n    }\n  ]\n}"
            }
          },
          "metadata": {},
          "execution_count": 32
        }
      ]
    },
    {
      "cell_type": "markdown",
      "source": [
        "# **Es importante saber que las variables numericas tambien se pueden operar siempre y cuando tengan un valor entero, decimal o logico**."
      ],
      "metadata": {
        "id": "vUYLH6lLCUm9"
      }
    },
    {
      "cell_type": "markdown",
      "source": [
        "Primero debemos definir dos nombres para nuestras variables como por ejemplo `Variable1` y `Variable2` despues debemos asignarles un valor entero `{int}` o decimal `{float}` o ` {bool}`.\n",
        "\n",
        "*Ejemplo-1 (Con numeros enteros `{int}`):*"
      ],
      "metadata": {
        "id": "czokKp5yCop8"
      }
    },
    {
      "cell_type": "code",
      "source": [
        "Variable1 = 10\n",
        "Variable2 = 20\n",
        "\n",
        "print(Variable1 + Variable2)\n"
      ],
      "metadata": {
        "colab": {
          "base_uri": "https://localhost:8080/"
        },
        "id": "poXsctjLCoY4",
        "outputId": "46648dbd-e166-4714-b4fc-3ac51533a2a3"
      },
      "execution_count": 24,
      "outputs": [
        {
          "output_type": "stream",
          "name": "stdout",
          "text": [
            "30\n"
          ]
        }
      ]
    },
    {
      "cell_type": "markdown",
      "source": [
        "*Ejemplo-2* (Con numeros decimales ` {float}`) :"
      ],
      "metadata": {
        "id": "BiCT6lxsDflE"
      }
    },
    {
      "cell_type": "code",
      "source": [
        "Variable1 = 10.0\n",
        "Variable2 = 2.2\n",
        "\n",
        "print(Variable1 + Variable2)"
      ],
      "metadata": {
        "colab": {
          "base_uri": "https://localhost:8080/"
        },
        "id": "IJ1KLSxyD1T5",
        "outputId": "f2a69771-1894-4c6d-b4f1-66b1c5024f8a"
      },
      "execution_count": 15,
      "outputs": [
        {
          "output_type": "stream",
          "name": "stdout",
          "text": [
            "12.2\n"
          ]
        }
      ]
    },
    {
      "cell_type": "code",
      "source": [
        "Variable1 = True\n",
        "Variable2 = False\n",
        "\n",
        "print(Variable1 - Variable2)"
      ],
      "metadata": {
        "colab": {
          "base_uri": "https://localhost:8080/"
        },
        "id": "JgP5pAbuKyI7",
        "outputId": "aab6e243-0b9b-4982-c501-b8aff7e4aad3"
      },
      "execution_count": 33,
      "outputs": [
        {
          "output_type": "stream",
          "name": "stdout",
          "text": [
            "1\n"
          ]
        }
      ]
    },
    {
      "cell_type": "markdown",
      "source": [
        "# **Preguntas de operadores aritmeticos.**"
      ],
      "metadata": {
        "id": "4BNCgYISEi5P"
      }
    },
    {
      "cell_type": "markdown",
      "source": [],
      "metadata": {
        "id": "Uf6EPNWoK8BW"
      }
    },
    {
      "cell_type": "markdown",
      "source": [
        "1. `   El siguiente ejemplo retornara error o se ejecutara correctamente, y si se ejecuta, que retornara?`\n",
        "2. Que tipo de dato es `Variable2` ?\n",
        "\n",
        "3. Que tipo de dato es `Variable1` ?"
      ],
      "metadata": {
        "id": "Cf8MM5MdFErK"
      }
    },
    {
      "cell_type": "code",
      "source": [
        "Variable1 = \"10\"\n",
        "\n",
        "Variable2 = 10\n",
        "\n",
        "print(Variable1 + Variable2)"
      ],
      "metadata": {
        "colab": {
          "base_uri": "https://localhost:8080/",
          "height": 182
        },
        "collapsed": true,
        "id": "lw9b2EHuD-qM",
        "outputId": "dc65f461-d3b6-40af-b5fc-4eea9b8cd597"
      },
      "execution_count": 19,
      "outputs": [
        {
          "output_type": "error",
          "ename": "TypeError",
          "evalue": "can only concatenate str (not \"int\") to str",
          "traceback": [
            "\u001b[0;31m---------------------------------------------------------------------------\u001b[0m",
            "\u001b[0;31mTypeError\u001b[0m                                 Traceback (most recent call last)",
            "\u001b[0;32m<ipython-input-19-bd05fd19015c>\u001b[0m in \u001b[0;36m<cell line: 5>\u001b[0;34m()\u001b[0m\n\u001b[1;32m      3\u001b[0m \u001b[0mVariable2\u001b[0m \u001b[0;34m=\u001b[0m \u001b[0;36m10\u001b[0m\u001b[0;34m\u001b[0m\u001b[0;34m\u001b[0m\u001b[0m\n\u001b[1;32m      4\u001b[0m \u001b[0;34m\u001b[0m\u001b[0m\n\u001b[0;32m----> 5\u001b[0;31m \u001b[0mprint\u001b[0m\u001b[0;34m(\u001b[0m\u001b[0mVariable1\u001b[0m \u001b[0;34m+\u001b[0m \u001b[0mVariable2\u001b[0m\u001b[0;34m)\u001b[0m\u001b[0;34m\u001b[0m\u001b[0;34m\u001b[0m\u001b[0m\n\u001b[0m",
            "\u001b[0;31mTypeError\u001b[0m: can only concatenate str (not \"int\") to str"
          ]
        }
      ]
    },
    {
      "cell_type": "markdown",
      "source": [
        "\n",
        "\n",
        "1. `   El siguiente ejemplo retornara error o se ejecutara correctamente, y si se ejecuta, que retornara?`\n",
        "2.   Que tipo de dato es `Variable1`?\n",
        "3. Que tipo de dato es `Variable2`?\n",
        "\n"
      ],
      "metadata": {
        "id": "zjbRHOzcLErL"
      }
    },
    {
      "cell_type": "code",
      "source": [
        "Variable1 = True\n",
        "Variable2 = 5\n",
        "\n",
        "print(Variable1 + Variable2)"
      ],
      "metadata": {
        "colab": {
          "base_uri": "https://localhost:8080/"
        },
        "id": "suJ4ef-6Lzdz",
        "outputId": "3efa5573-473c-4358-dc91-4f1ff211423f"
      },
      "execution_count": 34,
      "outputs": [
        {
          "output_type": "stream",
          "name": "stdout",
          "text": [
            "6\n"
          ]
        }
      ]
    },
    {
      "cell_type": "markdown",
      "source": [
        "1. `   El siguiente ejemplo retornara error o se ejecutara correctamente, y si se ejecuta, que retornara?`\n",
        "2.   Que tipo de dato es `Variable1`?\n",
        "3. Que tipo de dato es `Variable2`?\n"
      ],
      "metadata": {
        "id": "QZEUjwvfGYPf"
      }
    },
    {
      "cell_type": "code",
      "source": [
        "Variable1 = 10 + 2\n",
        "\n",
        "Variable2 = 2.1\n",
        "\n",
        "print(Variable1 + Variable2)"
      ],
      "metadata": {
        "id": "Eo-cwCi4MKlu"
      },
      "execution_count": null,
      "outputs": []
    },
    {
      "cell_type": "markdown",
      "source": [
        "1. `   El siguiente ejemplo retornara error o se ejecutara correctamente, y si se ejecuta, que retornara?`\n",
        "2.   Que tipo de dato es `Variable1`?\n",
        "3. Que tipo de dato es `Variable2`?\n",
        "4. En caso de que creas que retorne algo especifica el tipo de dato que retornara."
      ],
      "metadata": {
        "id": "J2wT4Z81M5rc"
      }
    },
    {
      "cell_type": "code",
      "source": [
        "Variable1 = 2.2\n",
        "Variable2 = 4\n",
        "\n",
        "print(Variable2 - Variable1)\n",
        "print(type(Variable2 - Variable1))"
      ],
      "metadata": {
        "colab": {
          "base_uri": "https://localhost:8080/"
        },
        "id": "gtLMv0hwNGx2",
        "outputId": "d1b842e0-90fd-42db-9a9b-954e935ee82b"
      },
      "execution_count": 36,
      "outputs": [
        {
          "output_type": "stream",
          "name": "stdout",
          "text": [
            "1.7999999999999998\n",
            "<class 'float'>\n"
          ]
        }
      ]
    },
    {
      "cell_type": "markdown",
      "source": [
        "1. `   El siguiente ejemplo retornara error o se ejecutara correctamente, y si se ejecuta, que retornara?`\n",
        "2.   Que tipo de dato es `Variable1`?\n",
        "3. Que tipo de dato es `Variable2`?\n",
        "4. En caso de que creas que retorne algo especifica el tipo de dato que retornara."
      ],
      "metadata": {
        "id": "bp5ks5gjNcPY"
      }
    },
    {
      "cell_type": "code",
      "source": [
        "Variable1 = 2.0 + 2\n",
        "Variable2 = \"True\"\n",
        "\n",
        "print(Variable2 - Variable1)\n",
        "print(type(Variable2 - Variable1))"
      ],
      "metadata": {
        "colab": {
          "base_uri": "https://localhost:8080/",
          "height": 200
        },
        "id": "2LsVs9iSNZD2",
        "outputId": "e45ef420-c5af-4f62-8795-bd4ad9e63ab3"
      },
      "execution_count": 39,
      "outputs": [
        {
          "output_type": "error",
          "ename": "TypeError",
          "evalue": "unsupported operand type(s) for -: 'str' and 'float'",
          "traceback": [
            "\u001b[0;31m---------------------------------------------------------------------------\u001b[0m",
            "\u001b[0;31mTypeError\u001b[0m                                 Traceback (most recent call last)",
            "\u001b[0;32m<ipython-input-39-46ff60bca981>\u001b[0m in \u001b[0;36m<cell line: 4>\u001b[0;34m()\u001b[0m\n\u001b[1;32m      2\u001b[0m \u001b[0mVariable2\u001b[0m \u001b[0;34m=\u001b[0m \u001b[0;34m\"True\"\u001b[0m\u001b[0;34m\u001b[0m\u001b[0;34m\u001b[0m\u001b[0m\n\u001b[1;32m      3\u001b[0m \u001b[0;34m\u001b[0m\u001b[0m\n\u001b[0;32m----> 4\u001b[0;31m \u001b[0mprint\u001b[0m\u001b[0;34m(\u001b[0m\u001b[0mVariable2\u001b[0m \u001b[0;34m-\u001b[0m \u001b[0mVariable1\u001b[0m\u001b[0;34m)\u001b[0m\u001b[0;34m\u001b[0m\u001b[0;34m\u001b[0m\u001b[0m\n\u001b[0m\u001b[1;32m      5\u001b[0m \u001b[0mprint\u001b[0m\u001b[0;34m(\u001b[0m\u001b[0mtype\u001b[0m\u001b[0;34m(\u001b[0m\u001b[0mVariable2\u001b[0m \u001b[0;34m-\u001b[0m \u001b[0mVariable1\u001b[0m\u001b[0;34m)\u001b[0m\u001b[0;34m)\u001b[0m\u001b[0;34m\u001b[0m\u001b[0;34m\u001b[0m\u001b[0m\n",
            "\u001b[0;31mTypeError\u001b[0m: unsupported operand type(s) for -: 'str' and 'float'"
          ]
        }
      ]
    },
    {
      "cell_type": "markdown",
      "source": [
        "1. `   El siguiente ejemplo retornara error o se ejecutara correctamente, y si se ejecuta, que retornara?`\n",
        "2.   Que tipo de dato es `Variable1`?\n",
        "3. Que tipo de dato es `Variable2`?\n",
        "4. En caso de que creas que retorne algo especifica el tipo de dato que retornara."
      ],
      "metadata": {
        "id": "F6xBpNx8N0Yu"
      }
    },
    {
      "cell_type": "code",
      "source": [
        "Variable1 = 10 + True\n",
        "Variable2 = False\n",
        "\n",
        "print(Variable1 * Variable2)\n",
        "print(type(Variable1 * Variable2))"
      ],
      "metadata": {
        "colab": {
          "base_uri": "https://localhost:8080/"
        },
        "id": "VdUlJXuUN5Y6",
        "outputId": "89a0e379-3abd-462d-848d-31ce189934a6"
      },
      "execution_count": 40,
      "outputs": [
        {
          "output_type": "stream",
          "name": "stdout",
          "text": [
            "0\n",
            "<class 'int'>\n"
          ]
        }
      ]
    },
    {
      "cell_type": "markdown",
      "source": [
        "1. `   El siguiente ejemplo retornara error o se ejecutara correctamente, y si se ejecuta, que retornara?`\n",
        "2.   Que tipo de dato es `Variable1`?\n",
        "3. Que tipo de dato es `Variable2`?\n",
        "4. En caso de que creas que retorne algo especifica el tipo de dato que retornara.\n"
      ],
      "metadata": {
        "id": "5hkWtoMUOHaa"
      }
    },
    {
      "cell_type": "code",
      "source": [
        "Variable1 = True\n",
        "Variable2 = False\n",
        "\n",
        "print(Variable1/Variable2)\n",
        "print(type(Variable1/Variable2))"
      ],
      "metadata": {
        "colab": {
          "base_uri": "https://localhost:8080/",
          "height": 200
        },
        "id": "TZjrB2vWOLIe",
        "outputId": "061b92b5-ec4a-420f-e6c0-fc774d176bee"
      },
      "execution_count": 42,
      "outputs": [
        {
          "output_type": "error",
          "ename": "ZeroDivisionError",
          "evalue": "division by zero",
          "traceback": [
            "\u001b[0;31m---------------------------------------------------------------------------\u001b[0m",
            "\u001b[0;31mZeroDivisionError\u001b[0m                         Traceback (most recent call last)",
            "\u001b[0;32m<ipython-input-42-67c8450a4a2b>\u001b[0m in \u001b[0;36m<cell line: 4>\u001b[0;34m()\u001b[0m\n\u001b[1;32m      2\u001b[0m \u001b[0mVariable2\u001b[0m \u001b[0;34m=\u001b[0m \u001b[0;32mFalse\u001b[0m\u001b[0;34m\u001b[0m\u001b[0;34m\u001b[0m\u001b[0m\n\u001b[1;32m      3\u001b[0m \u001b[0;34m\u001b[0m\u001b[0m\n\u001b[0;32m----> 4\u001b[0;31m \u001b[0mprint\u001b[0m\u001b[0;34m(\u001b[0m\u001b[0mVariable1\u001b[0m\u001b[0;34m/\u001b[0m\u001b[0mVariable2\u001b[0m\u001b[0;34m)\u001b[0m\u001b[0;34m\u001b[0m\u001b[0;34m\u001b[0m\u001b[0m\n\u001b[0m\u001b[1;32m      5\u001b[0m \u001b[0mprint\u001b[0m\u001b[0;34m(\u001b[0m\u001b[0mtype\u001b[0m\u001b[0;34m(\u001b[0m\u001b[0mVariable1\u001b[0m\u001b[0;34m/\u001b[0m\u001b[0mVariable2\u001b[0m\u001b[0;34m)\u001b[0m\u001b[0;34m)\u001b[0m\u001b[0;34m\u001b[0m\u001b[0;34m\u001b[0m\u001b[0m\n",
            "\u001b[0;31mZeroDivisionError\u001b[0m: division by zero"
          ]
        }
      ]
    },
    {
      "cell_type": "markdown",
      "source": [
        "#**Problemas asociados a operadores numericos**"
      ],
      "metadata": {
        "id": "7oHIc1uSO_VX"
      }
    }
  ]
}
