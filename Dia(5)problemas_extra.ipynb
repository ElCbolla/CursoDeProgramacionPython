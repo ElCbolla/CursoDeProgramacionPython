{
  "nbformat": 4,
  "nbformat_minor": 0,
  "metadata": {
    "colab": {
      "provenance": [],
      "authorship_tag": "ABX9TyNJDbb8s13w9n4+Rio4CY7U",
      "include_colab_link": true
    },
    "kernelspec": {
      "name": "python3",
      "display_name": "Python 3"
    },
    "language_info": {
      "name": "python"
    }
  },
  "cells": [
    {
      "cell_type": "markdown",
      "metadata": {
        "id": "view-in-github",
        "colab_type": "text"
      },
      "source": [
        "<a href=\"https://colab.research.google.com/github/ElCbolla/CursoDeProgramacionPython/blob/main/Dia(5)problemas_extra.ipynb\" target=\"_parent\"><img src=\"https://colab.research.google.com/assets/colab-badge.svg\" alt=\"Open In Colab\"/></a>"
      ]
    },
    {
      "cell_type": "markdown",
      "source": [
        "## **Programa 1**\n",
        "\n",
        "Crea un programa donde:\n",
        "\n",
        "1. Se definan cuatro variables: `Texto1`, `Texto2`, `Numero1`, `Numero2`.\n",
        "2. Las variables `Texto1` y `Texto2` deben ser de tipo **`str`**.\n",
        "3. Las variables `Numero1` y `Numero2` deben ser de tipo **`float`**.\n",
        "4. Usa un operador de asignacion (`+=`) para sumar el valor de `Numero2` a `Numero1`.\n",
        "5. Usa un operador de asignacion (`*=`) para multiplicar el resultado por `2`.\n",
        "6. Concatena `Texto1` y `Texto2` usando `(,)` y muestra los resultados con `print()`.\n"
      ],
      "metadata": {
        "id": "zmwvIGvD0z5i"
      }
    },
    {
      "cell_type": "code",
      "execution_count": null,
      "metadata": {
        "id": "W9PDzuJIw8Ce"
      },
      "outputs": [],
      "source": [
        "#Programa-1\n",
        "\n",
        "\n",
        "\n",
        "\n",
        "\n"
      ]
    },
    {
      "cell_type": "markdown",
      "source": [
        "\n",
        "## **Programa 2**\n",
        "\n",
        "Crea un programa donde:\n",
        "\n",
        "1. Se definan tres variables: `Texto`, `Numero1`, `Numero2`.\n",
        "2. La variable `Texto` debe ser de tipo `str` y las otras dos de tipo `int`.\n",
        "3. Usa un operador de asignacion (`-=`) para restar el valor de `Numero2` a `Numero1`.\n",
        "4. Usa un operador de asignacion (`*=`) para multiplicar el resultado por `3`.\n",
        "5. Concatena la cadena `\"Resultado:\"` con `Texto` usando `(,)` y muestra los resultados con `print()`.\n"
      ],
      "metadata": {
        "id": "8q-B1QM31qDF"
      }
    },
    {
      "cell_type": "code",
      "source": [
        "#Programa-2\n",
        "\n",
        "\n",
        "\n",
        "\n",
        "\n",
        "\n",
        "\n",
        "\n",
        "\n"
      ],
      "metadata": {
        "id": "Hy83JcwX2Ilk"
      },
      "execution_count": null,
      "outputs": []
    },
    {
      "cell_type": "markdown",
      "source": [
        "## **Programa 3**\n",
        "Crea un programa donde:\n",
        "\n",
        "1. Se definan tres variables: `Cadena1`, `NumeroA`, `NumeroB`.\n",
        "2. La variable `Cadena1` debe ser de tipo `str` y las otras dos de tipo `int`.\n",
        "3. Usa un operador de asignación (`+=`) para sumar el valor de `NumeroB` a `NumeroA`.\n",
        "4. Usa un operador de asignacion (`/=`) para dividir el resultado por `2`.\n",
        "5. Concatena la cadena `\"Resultado Final:\"` con `Cadena1` y `NumeroA` y `NumeroB` usando `(,)` y muestra los resultados con `print()`.\n"
      ],
      "metadata": {
        "id": "t1TTSLRA2qFG"
      }
    },
    {
      "cell_type": "code",
      "source": [
        "#Programa-3\n",
        "\n",
        "\n",
        "\n",
        "\n",
        "\n"
      ],
      "metadata": {
        "id": "_hhXvvUD2612"
      },
      "execution_count": null,
      "outputs": []
    },
    {
      "cell_type": "markdown",
      "source": [
        "\n",
        "\n",
        "---\n",
        "\n",
        "\n",
        "## **Programa 4**\n",
        "Crea un programa donde:\n",
        "\n",
        "1. Se definan tres variables: `Mensaje`, `Valor1`, `Valor2`.\n",
        "2. La variable `Mensaje` debe ser de tipo `str` y las otras dos de tipo `int`.\n",
        "3. Usa un operador de asignacion (`**=`) para elevar `Valor1` al cuadrado.\n",
        "4. Usa un operador de asignacion (`-=`) para restar `5` del valor de `Valor2`.\n",
        "5. Concatena la cadena `\"Calculo:\"` con `Mensaje` y `Valor1` y `Valor2` usando `(,)` y muestra los resultados con `print()`.\n",
        "\n"
      ],
      "metadata": {
        "id": "TNkHcBdq29Qs"
      }
    },
    {
      "cell_type": "code",
      "source": [
        "#Programa-4\n",
        "\n",
        "\n",
        "\n",
        "\n",
        "\n"
      ],
      "metadata": {
        "id": "f90K_ftq3okz"
      },
      "execution_count": null,
      "outputs": []
    },
    {
      "cell_type": "markdown",
      "source": [
        "\n",
        "\n",
        "---\n",
        "## **Programa 5**\n",
        "Crea un programa donde:\n",
        "\n",
        "1. Se definan tres variables: `Titulo`, `Dato1`, `Dato2`.\n",
        "2. La variable `Titulo` debe ser de tipo `str` y las otras dos de tipo `float`.\n",
        "3. Usa un operador de asignacion (`*=`) para multiplicar `Dato1` por `4`.\n",
        "4. Usa un operador de asignacion (`+=`) para sumar `10` al valor de `Dato2`.\n",
        "5. Concatena la cadena `\"Resultado obtenido:\"` con `Titulo` y `Dato1` y `Dato2` usando `(,)` y muestra los resultados con `print()`.\n"
      ],
      "metadata": {
        "id": "yS09s_iY3qXU"
      }
    },
    {
      "cell_type": "code",
      "source": [
        "#Programa-5\n",
        "\n",
        "\n",
        "\n",
        "\n",
        "\n",
        "\n",
        "\n",
        "\n"
      ],
      "metadata": {
        "id": "lLsx7dFk4M3_"
      },
      "execution_count": null,
      "outputs": []
    },
    {
      "cell_type": "markdown",
      "source": [
        "## **Programa 6**\n",
        "Crea un programa donde:\n",
        "\n",
        "1. Se definan tres variables: `Texto`, `Numero1`, `Numero2`.\n",
        "2. La variable `Texto` debe ser de tipo `str` y las otras dos de tipo `int`.\n",
        "3. Usa un operador de asignacion (`+=`) para sumar el valor de `Numero1` convertido a `float` a `Numero2`.\n",
        "4. Concatena `Numero2` convertido a `str` con `\"Suma total:\"` usando `( + )`.\n",
        "5. Muestra los resultados con `print()`.\n"
      ],
      "metadata": {
        "id": "pR5wvhrI5Eqb"
      }
    },
    {
      "cell_type": "code",
      "source": [
        "#Programa-6\n",
        "\n",
        "\n",
        "\n",
        "\n",
        "\n",
        "\n"
      ],
      "metadata": {
        "id": "yyMvjlW15sHG"
      },
      "execution_count": null,
      "outputs": []
    },
    {
      "cell_type": "markdown",
      "source": [
        "## **Programa 7**\n",
        "Crea un programa donde:\n",
        "\n",
        "1. Se definan tres variables: `Mensaje`, `Valor1`, `Valor2`.\n",
        "2. La variable `Mensaje` debe ser de tipo `str` y las otras dos de tipo `float`.\n",
        "3. Usa un operador de asignacion (`*=`) para multiplicar `Valor1` por `Valor2` convertido en `float`.\n",
        "4. Convierte el resultado final a `str` y concatenalo con `\"Multiplicación:\"` usando `( + )`.\n",
        "5. Muestra los resultados con `print()`.\n"
      ],
      "metadata": {
        "id": "HC7dIQgr5y5R"
      }
    },
    {
      "cell_type": "code",
      "source": [
        "#Programa-7\n",
        "\n",
        "\n",
        "\n",
        "\n",
        "\n",
        "\n"
      ],
      "metadata": {
        "id": "rem5mh075t2X"
      },
      "execution_count": null,
      "outputs": []
    },
    {
      "cell_type": "markdown",
      "source": [
        "\n",
        "\n",
        "---\n",
        "\n",
        "\n",
        "\n",
        "## **Programa 8**\n",
        "\n",
        "\n",
        "Crea un programa donde:\n",
        "\n",
        "1. Se definan tres variables: `Cadena`, `NumeroA`, `NumeroB`.\n",
        "2. La variable `Cadena` debe ser de tipo `str` y las otras dos de tipo `float`.\n",
        "3. Usa un operador de asignacion (`-=`) para restar el valor de `NumeroB` convertido en entero a `NumeroA`.\n",
        "4. Convierte el resultado a tipo `str` y concatenalo con `\"Resta final:\"` usando `( + )`.\n",
        "5. Muestra los resultados con `print()`.\n",
        "\n"
      ],
      "metadata": {
        "id": "FZ_WnGfq6Zzx"
      }
    },
    {
      "cell_type": "code",
      "source": [
        "#Programa-8\n",
        "\n",
        "\n",
        "\n",
        "\n",
        "\n",
        "\n",
        "\n",
        "\n"
      ],
      "metadata": {
        "id": "xVva_8x96vZk"
      },
      "execution_count": null,
      "outputs": []
    },
    {
      "cell_type": "markdown",
      "source": [
        "---\n",
        "\n",
        "## **Programa 9**\n",
        "Crea un programa donde:\n",
        "\n",
        "1. Se definan tres variables: `Titulo`, `Dato1`, `Dato2`.\n",
        "2. La variable `Titulo` debe ser de tipo `str` y las otras dos de tipo `int`.\n",
        "3. Usa un operador de asignacion (`/=`) para dividir `Dato1` por `Dato2 - 2 * 3` convertido en decimal.\n",
        "4. Convierte el resultado a `str` al momento y concatenalo con `\"Division:\"` usando `(+)`.\n",
        "5. Muestra los resultados con `print()`.\n"
      ],
      "metadata": {
        "id": "Ga3sF5HJ8Gcm"
      }
    },
    {
      "cell_type": "code",
      "source": [
        "#Programa-9\n",
        "\n"
      ],
      "metadata": {
        "id": "L0NF0UAE8bab"
      },
      "execution_count": null,
      "outputs": []
    },
    {
      "cell_type": "markdown",
      "source": [
        "\n",
        "\n",
        "---\n",
        "\n",
        "## **Programa 10**\n",
        "Crea un programa donde:\n",
        "\n",
        "1. Se definan tres variables: `Etiqueta`, `ValorX`, `ValorY`.\n",
        "2. La variable `Etiqueta` debe ser de tipo `str` y las otras dos de tipo `int`.\n",
        "3. Usa un operador de asignacion (`**=`) para elevar `ValorX` a `ValorY + 2` convertido en decimal.\n",
        "4. Convierte el resultado a tipo `str` y concatenalo con `\"Potencia:\"` usando `(+)`.\n",
        "5. Muestra los resultados con `print()`.\n"
      ],
      "metadata": {
        "id": "EaeOsjsn8c43"
      }
    },
    {
      "cell_type": "code",
      "source": [
        "#Programa-10\n",
        "\n",
        "\n",
        "\n",
        "\n",
        "\n",
        "\n"
      ],
      "metadata": {
        "id": "pqNF-msI86Z4"
      },
      "execution_count": null,
      "outputs": []
    }
  ]
}