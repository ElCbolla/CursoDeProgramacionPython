{
  "nbformat": 4,
  "nbformat_minor": 0,
  "metadata": {
    "colab": {
      "provenance": [],
      "authorship_tag": "ABX9TyMq+eXscNZ0bPRuYiVhedYs",
      "include_colab_link": true
    },
    "kernelspec": {
      "name": "python3",
      "display_name": "Python 3"
    },
    "language_info": {
      "name": "python"
    }
  },
  "cells": [
    {
      "cell_type": "markdown",
      "metadata": {
        "id": "view-in-github",
        "colab_type": "text"
      },
      "source": [
        "<a href=\"https://colab.research.google.com/github/ElCbolla/CursoDeProgramacionPython/blob/main/(8)Modulo_2_Bucles_While.ipynb\" target=\"_parent\"><img src=\"https://colab.research.google.com/assets/colab-badge.svg\" alt=\"Open In Colab\"/></a>"
      ]
    },
    {
      "cell_type": "markdown",
      "source": [
        "\n",
        "Los `while` en Python son un tipo de bucle que se utiliza para ejecutar un bloque de codigo repetidamente mientras se cumple una condicion, Este tipo de bucle es util cuando no sabes por cuanto tiempo quieres que se repita pero si sabes bajo que condiciones se debe repetir.\n",
        "\n",
        "* La estructura de los bucles `while ` es la siguiente :\n",
        "\n",
        " 1. Primero define el nombre `while` dentro de tu codigo.\n",
        "\n",
        "\n",
        "```\n",
        "while\n",
        "```\n",
        "   2.  Despues debes establecer una condicion enfrente del bucle `while`, por ejemplo la condicion `A <= 10`.\n",
        "\n",
        "\n",
        "\n",
        "```\n",
        "while A <= 10\n",
        "```\n",
        " 3. Finalmente debes poner `( : )` para cerrar la estrucutura de control iterativa:\n",
        "\n",
        "\n",
        "\n",
        "```\n",
        "while A <= 10:\n",
        "```\n",
        "4. Al igual que con las condicionales `if` debe haber un espacio en las lineas de codigo de bajo de nuestra estructura de control iterativa para que nuestra secuencia de codigo este dentro del bucle y se repita las veces que queramos :\n",
        "\n",
        "\n",
        "\n",
        "```\n",
        "while  A <= 10:\n",
        " print(\"Hola\")\n",
        "```\n",
        "\n",
        "5. En el anterior ejemplo pusimos ese pequeño espacio detras de la funcion `print()` para que el codigo al momento de leerlo interprete esa linea como dentro del bucle, pero debemos tener cuidado, ya que el bucle se repetira indefinidamente hasta que la condicion `A <= 10` sea `False`, y como en nuestro bucle la condicion `while A <= 10` no tiene manera de volverse `False` entonces se repetira indefinidamente.\n",
        "\n",
        "* Debemos analizar primero la condicion `A <= 10`, Esta condicion siempre se cumplira dentro del intervalo (**-ထ**,**10**], Basicamente se cumple para cualquier valor de `A` que sea igual o menor a `10`, por lo que debemos hacer que `A` en algun punto entre al intervalo (**10**,**ထ**) para que la condicion se vuelva `False` y se rompa el bucle.\n",
        "\n",
        " - Para lograr esto hay diversas maneras, en este caso simplemente utilizaremos un asignador arimetico de usa ( `+=` ) para sumarle `1` a nuestro valor de `A=0` para que asi eventualmente nuestra variable `A sea mayor que 10` y la condicion se rompa.\n",
        "\n",
        "\n",
        "\n"
      ],
      "metadata": {
        "id": "KyXkTJsy6V9p"
      }
    },
    {
      "cell_type": "code",
      "source": [
        "A = 0\n",
        "\n",
        "while A <= 10:\n",
        "  print(\"Iteracion numero :\",A)\n",
        "  A +=1\n",
        "\n"
      ],
      "metadata": {
        "colab": {
          "base_uri": "https://localhost:8080/"
        },
        "collapsed": true,
        "id": "ldH0jiK98-a-",
        "outputId": "5ba7e5c8-8bc3-40c2-e9f6-b7107222a60f"
      },
      "execution_count": null,
      "outputs": [
        {
          "output_type": "stream",
          "name": "stdout",
          "text": [
            "Iteracion numero : 0\n",
            "Iteracion numero : 1\n",
            "Iteracion numero : 2\n",
            "Iteracion numero : 3\n",
            "Iteracion numero : 4\n",
            "Iteracion numero : 5\n",
            "Iteracion numero : 6\n",
            "Iteracion numero : 7\n",
            "Iteracion numero : 8\n",
            "Iteracion numero : 9\n",
            "Iteracion numero : 10\n"
          ]
        }
      ]
    },
    {
      "cell_type": "markdown",
      "source": [
        "Otra manera de forzar a nuestro bucle que se detenga es mediante la instruccion `break`, esta instruccion rompera el bucle en el momento que el codigo lea la linea que contenga nuestro `break` :\n",
        "\n",
        "Primero definamos una estructura de control iterativa `while` :\n",
        " * Anteriormente dijimos que despues del `while` va una condicion, pero si lo deseamos podemos poner simplemente algun dato tipo `{bool}` ya sea `True` o `False`, como se muestra a continuacion :\n",
        "\n",
        "\n",
        "\n",
        "```\n",
        "while True:\n",
        " print(\"Hola mundo\")\n",
        "```\n",
        "\n",
        "De esta manera el bucle se ejecutara indefinidamente y no habria una condicion que vuelva `False` a la estructura de control iterativa, por lo que la unica manera que tendriamos de detener un bucle de este tipo seria mediante la instruccion `break` :\n",
        "\n",
        "\n",
        "\n",
        "```\n",
        "while True:\n",
        " print(\"Hola mundo\")\n",
        "\n",
        " break\n",
        "\n",
        "\n",
        "```\n",
        "\n",
        "El anterior bucle simplemente se ejecutaria una vez e imprimiria un unico mensaje `\"Hola Mundo\"` ya que en el momento que llegue a la instruccion `break` se forzara la detencion del bucle `while`.\n",
        "\n"
      ],
      "metadata": {
        "id": "VvHp5OqSCd73"
      }
    },
    {
      "cell_type": "code",
      "source": [
        "while True:\n",
        " print(\"Hola mundo\")\n",
        "\n",
        " break\n"
      ],
      "metadata": {
        "colab": {
          "base_uri": "https://localhost:8080/"
        },
        "collapsed": true,
        "id": "JqAP3wvPGNVL",
        "outputId": "cccccbd5-33f5-4044-b9d2-0389d25a5ed8"
      },
      "execution_count": null,
      "outputs": [
        {
          "output_type": "stream",
          "name": "stdout",
          "text": [
            "Hola mundo\n"
          ]
        }
      ]
    },
    {
      "cell_type": "markdown",
      "source": [
        "De esta manera tambien podriamos forzar la detencion de un bucle `while` mediante una condicional internal, de la siguiente manera :\n",
        "\n",
        "\n",
        "```\n",
        "Iteracion = 0\n",
        "\n",
        "while True:\n",
        " print(\"Iteracion numero :\", Iteracion)\n",
        "\n",
        " if Iteracion == 5:\n",
        "  break\n",
        "\n",
        " Iteracion += 1\n",
        "\n",
        "\n",
        "```\n",
        "Observa que la condicion posee el valor `bool` `True` por lo que la condicion externa nunca se volvera `False`, entonces para detener el bucle estamos utilizando una condicional `if` dentro de nuestra estructura de control iterativa que evalue si `Iteracion == 5`, y en el momento que la condicion se cumpla entonces se leera la instruccion `break` y detendra el bucle.\n",
        "\n",
        "\n"
      ],
      "metadata": {
        "id": "65tr0TSFG8er"
      }
    },
    {
      "cell_type": "code",
      "source": [
        "Iteracion = 0\n",
        "\n",
        "while True:\n",
        " print(\"Iteracion numero :\", Iteracion)\n",
        "\n",
        " if Iteracion == 5:\n",
        "  break\n",
        "\n",
        " Iteracion += 1\n",
        "\n",
        "\n"
      ],
      "metadata": {
        "colab": {
          "base_uri": "https://localhost:8080/"
        },
        "collapsed": true,
        "id": "htXvfK6LILCz",
        "outputId": "33d92dd6-99bc-4892-f677-60286b5c90a3"
      },
      "execution_count": null,
      "outputs": [
        {
          "output_type": "stream",
          "name": "stdout",
          "text": [
            "Iteracion numero : 0\n",
            "Iteracion numero : 1\n",
            "Iteracion numero : 2\n",
            "Iteracion numero : 3\n",
            "Iteracion numero : 4\n",
            "Iteracion numero : 5\n"
          ]
        }
      ]
    },
    {
      "cell_type": "markdown",
      "source": [
        "\n",
        "De esta manera podemos crear programas un poco mas complejos con funciones `input()`, imaginate que quieres crear un programa donde el usuario ingrese un texto y la cantidad de veces que quiera que el texto se imprima.\n",
        "\n",
        "* Primero debes tomar los datos del usuario, `el texto a ingresar`, `la cantidad de veces que quieres que se imprima`.\n",
        "\n",
        "\n",
        "\n",
        "```\n",
        "Texto = input(\"Ingrese el texto que quieres repetir.\")\n",
        "\n",
        "\n",
        "IteracionMaxima = int(input(\"Ingresa la cantidad de veces que quieres que el codigo se repita.\"))\n",
        "\n",
        "IteracionMinima = 0\n",
        "\n",
        "while IteracionMinima <= IteracionMaxima:\n",
        " print(Texto)\n",
        " IteracionMinima += 1\n",
        "```\n",
        "\n",
        "Observa los siguientes puntos del codigo :\n",
        " 1. A la variable `Texto` se le asigna una funcion `input()` que le solicitara al usuario el texto que quiera que se repita.\n",
        "\n",
        " 2. A la variable `IteracionMaxima` se le asigna otra funcion `input()` para solicitarle al usuario la cantidad de veces que quiere que su numero se repita.\n",
        "\n",
        " 3. A la variable `IteracionMinima` se le asigna el valor entero `0`.\n",
        "\n",
        " 4. Despues se estructura un bucle `while` con la condicion `IteracionMinima <= IteracionMaxima`, siendo `IteracionMinima = 0`, hasta `IteracionMaxima ` que sera el numero que determinara el usuario, por lo que el bucle se ejecutara desde `IteracionMinima=0` hasta `IteracionMaxima`, y se le sumara 1 a `IteracionMinima=0` mediante el operador de asignacion aritmetico `( += )` en cada iteracion hasta que `IteracionMinima` sea mayor o igual a `IteracionMaxima` y todo el bucle se detenga, a la par de esto, mediante la funcion `print()` se imprimira constantemente el `Texto` ingresado por el usuario.\n",
        "\n",
        "\n",
        "\n",
        "\n"
      ],
      "metadata": {
        "id": "2jVYkbC_Kb1x"
      }
    },
    {
      "cell_type": "code",
      "source": [
        "Texto = input(\"Ingrese el texto que quieres repetir.\")\n",
        "\n",
        "IteracionMinima = 0\n",
        "\n",
        "IteracionMaxima = int(input(\"Ingresa la cantidad de veces que quieres que el codigo se repita.\"))\n",
        "\n",
        "while IteracionMinima <= IteracionMaxima:\n",
        " print(Texto)\n",
        " IteracionMinima += 1"
      ],
      "metadata": {
        "id": "ZoQTzqEfKOGe"
      },
      "execution_count": null,
      "outputs": []
    },
    {
      "cell_type": "markdown",
      "source": [
        "Mediante los bucles `while` tambien es posible evaluar condiciones que conlleven texto mediante los comparadores `( ==  )` y `( != )`, imagina que quieres crear un programa que multiplique por `2` a un numero ingresado por el usuario, pero que en cada iteracion se le pregunte al usuario si quiere que el numero se siga multiplicando por dos.\n",
        "\n",
        "Para esto primero debemos tomar el primera dato que es el numero que se multiplicara por `2` constantemente hasta que el usuario indique lo contrario.\n",
        "\n",
        "\n",
        "\n",
        "```\n",
        "NumeroParaMultiplicar = float(input(\"Ingrese un numero del que quieras sacar su doble.\"))\n",
        "```\n",
        "\n",
        "Ahora debemos crear la variable que debe almacenar el valor `\"Si\"`, y el valor de esta variable la podra modificar el usuario para poder decirle al programa `\"Si\"` se debe seguir iterando o si ya se debe detener.\n",
        "\n",
        "```\n",
        "NumeroParaMultiplicar = float(input(\"Ingrese un numero del que quieras sacar su doble.\"))\n",
        "\n",
        "ContinuarIterando = \"Si\"\n",
        "```\n",
        "\n",
        "\n",
        "\n",
        "Despues debemos crear nuestro bucle `while` que evalue si nuestra condicion `ContinuarIterando` es igual a `\"Si\"`, y si es asi entonces debe sacar el doble del numero ingresado hasta que el usuario indique lo contrario.\n",
        "\n",
        "\n",
        "\n",
        "```\n",
        "NumeroParaMultiplicar = float(input(\"Ingrese un numero del que quieras sacar su doble.\"))\n",
        "\n",
        "ContinuarIterando = \"Si\"\n",
        "\n",
        "while ContinuarIterando == \"Si\":\n",
        "```\n",
        "\n",
        "\n",
        "\n",
        "* Y dentro de este bucle debemos sacar el doble del numero que ingreso el usuario.\n",
        "\n",
        "```\n",
        "NumeroParaMultiplicar = float(input(\"Ingrese un numero del que quieras sacar su doble.\"))\n",
        "\n",
        "ContinuarIterando = \"Si\"\n",
        "\n",
        "while ContinuarIterando == \"Si\":\n",
        " NumeroParaMultiplicar *= 2\n",
        "\n",
        "```\n",
        "\n",
        "* Finalmente dentro del bucle debemos preguntarle al usuario mediante la variable de la condicion `ContinuarIterando` y otra funcion `input()` si quieres seguir iterando.\n",
        "\n",
        "\n",
        "```\n",
        "NumeroParaMultiplicar = float(input(\"Ingrese un numero del que quieras sacar su doble.\"))\n",
        "\n",
        "ContinuarIterando = \"Si\"\n",
        "\n",
        "while ContinuarIterando == \"Si\":\n",
        " NumeroParaMultiplicar *= 2\n",
        " ContinuarIterando = input(\"Quieres seguir iterando? (Si) (No)\")\n",
        "\n",
        "\n",
        "```"
      ],
      "metadata": {
        "id": "ixPHDqX5RUT0"
      }
    },
    {
      "cell_type": "code",
      "source": [
        "NumeroParaMultiplicar = float(input(\"Ingrese un numero del que quieras sacar su doble.\"))\n",
        "\n",
        "ContinuarIterando = \"Si\"\n",
        "\n",
        "while ContinuarIterando == \"Si\":\n",
        " NumeroParaMultiplicar *= 2\n",
        " print(NumeroParaMultiplicar)\n",
        " ContinuarIterando = input(\"Quieres seguir iterando? (Si) (No)\")"
      ],
      "metadata": {
        "id": "8Z9vEjXFXC32"
      },
      "execution_count": null,
      "outputs": []
    },
    {
      "cell_type": "markdown",
      "source": [
        "#**Preguntas acerca de bucles `while`.**"
      ],
      "metadata": {
        "id": "Cy0UDkbJapGL"
      }
    },
    {
      "cell_type": "markdown",
      "source": [
        "Observa los siguientes ejemplos y determina los intervalos en los que se cumple y en los que no se cumple el bucle.\n",
        "\n",
        "Ejemplo :\n",
        "\n",
        "\n",
        "\n",
        "```\n",
        "while A < 10:\n",
        "```\n",
        "\n",
        "1. `Se cumple para cualquier valor dentro del intervalo (-ထ,10)`\n",
        "\n",
        "2. `La condicion se rompe en cualquier valor dentro del intervalo [10,ထ)`\n",
        "\n",
        "\n",
        "\n",
        "---\n",
        "\n"
      ],
      "metadata": {
        "id": "T8JytmJtctdd"
      }
    },
    {
      "cell_type": "markdown",
      "source": [
        "**Problema-1**\n",
        "\n",
        "Observa los siguientes ejemplos y determina los intervalos en los que se cumple y en los que no se cumple el bucle.\n",
        "\n",
        "```\n",
        "while A >= 5:\n",
        "```\n",
        "\n",
        "1. `Cual es seria el intervalo en el que siempre se cumple.`\n",
        "\n",
        "2. `Cual seria el intervalo donde se rompe.`\n",
        "\n",
        "\n",
        "\n",
        "---\n",
        "\n",
        "**Problema-2**\n",
        "\n",
        "Observa los siguientes ejemplos y determina los intervalos en los que se cumple y en los que no se cumple el bucle.\n",
        "\n",
        "```\n",
        "while D <=-3:\n",
        "```\n",
        "\n",
        "1. `Cual es seria el intervalo en el que siempre se cumple.`\n",
        "\n",
        "2. `Cual seria el intervalo donde se rompe.`\n",
        "\n",
        "---\n",
        "\n",
        "**Problema-3**\n",
        "\n",
        "Observa los siguientes ejemplos y determina los intervalos en los que se cumple y en los que no se cumple el bucle.\n",
        "\n",
        "```\n",
        "while W >= 3:\n",
        "```\n",
        "\n",
        "1. `Cual es seria el intervalo en el que siempre se cumple.`\n",
        "\n",
        "2. `Cual seria el intervalo donde se rompe.`\n",
        "\n",
        "---\n",
        "\n",
        "**Problema-4**\n",
        "\n",
        "Observa los siguientes ejemplos y determina los intervalos en los que se cumple y en los que no se cumple el bucle.\n",
        "\n",
        "```\n",
        "while F <= -10:\n",
        "```\n",
        "\n",
        "1. `Cual es seria el intervalo en el que siempre se cumple.`\n",
        "\n",
        "2. `Cual seria el intervalo donde se rompe.`\n",
        "---\n",
        "\n",
        "**Problema-5**\n",
        "\n",
        "Observa los siguientes ejemplos y determina los intervalos en los que se cumple y en los que no se cumple el bucle.\n",
        "\n",
        "```\n",
        "while K == 3:\n",
        "```\n",
        "\n",
        "1. `Cual es seria el intervalo en el que siempre se cumple.`\n",
        "\n",
        "2. `Cual seria el intervalo donde se rompe.`\n",
        "\n",
        "---\n",
        "\n",
        "**Problema-6**\n",
        "\n",
        "Observa los siguientes ejemplos y determina los intervalos en los que se cumple y en los que no se cumple el bucle.\n",
        "\n",
        "```\n",
        "while P != -6:\n",
        "```\n",
        "\n",
        "1. `Cual es seria el intervalo en el que siempre se cumple.`\n",
        "\n",
        "2. `Cual seria el intervalo donde se rompe.`\n",
        "\n",
        "\n"
      ],
      "metadata": {
        "id": "LC0OHYL5rkPQ"
      }
    },
    {
      "cell_type": "markdown",
      "source": [
        "#**Respuestas**\n",
        "\n",
        "\n",
        "\n",
        "-\n",
        "\n",
        "\n",
        "-\n",
        "\n",
        "\n",
        "-\n",
        "\n",
        "\n",
        "Pregunta-1 :\n",
        "1. Se cumple en : `[5,∞)`\n",
        "2. Se rompe en : `(−∞,5)`\n",
        "\n",
        "-\n",
        "\n",
        "-\n",
        "\n",
        "-\n",
        "\n",
        "-\n",
        "\n",
        "Pregunta-2 :\n",
        "1. Se cumple en : `(−∞,−3]`\n",
        "2. Se rompe en : `(−3,∞)`\n",
        "\n",
        "-\n",
        "\n",
        "-\n",
        "\n",
        "-\n",
        "\n",
        "Pregunta-3 :\n",
        "2. Se cumple en :  `[3,∞)`\n",
        "1. Se rompe en :` (-∞,3)`\n",
        "-\n",
        "\n",
        "-\n",
        "\n",
        "-\n",
        "Pregunta-4:\n",
        "\n",
        "1. Se cumple en : `(-∞,-10]`\n",
        "2. Se rompe en : `(-10,∞)`\n",
        "-\n",
        "\n",
        "-\n",
        "\n",
        "-\n",
        "\n",
        "Pregunta-5\n",
        "\n",
        "1. Se cumple en `{3}`\n",
        "2. Se rompe en `(−∞,0)∪(0,∞)`\n",
        "-\n",
        "\n",
        "-\n",
        "\n",
        "-\n",
        "Pregunta-6\n",
        "\n",
        "1. Se cumple en : `(−∞,−6)∪(−6,∞)`\n",
        "\n",
        "2. Se rompe en : `{-6}`"
      ],
      "metadata": {
        "id": "YNHMV1Y42v9R"
      }
    },
    {
      "cell_type": "markdown",
      "source": [
        "#**Preguntas acerca de bucles `while` `(2)`**"
      ],
      "metadata": {
        "id": "1PdJFSXi5p6K"
      }
    },
    {
      "cell_type": "markdown",
      "source": [
        "**Observa los siguientes ejemplos y menciona la cantidad de iteraciones que tendra el bucle.**"
      ],
      "metadata": {
        "id": "RAxcRTdA53SR"
      }
    },
    {
      "cell_type": "markdown",
      "source": [
        "\n",
        "\n",
        "---\n",
        "\n",
        "**Pregunta-1**\n",
        "\n",
        "`Observa el siguiente ejemplo y determina el numero de iteraciones.`\n",
        "\n"
      ],
      "metadata": {
        "id": "NwMu8TUa6bcU"
      }
    },
    {
      "cell_type": "code",
      "source": [
        "A = 5\n",
        "B = 0\n",
        "while A < 23:\n",
        "  A += 1\n",
        "  B += 1\n",
        "  print(\"Numero de iteraciones :\",B)"
      ],
      "metadata": {
        "colab": {
          "base_uri": "https://localhost:8080/"
        },
        "collapsed": true,
        "id": "5p7t_QU26nWY",
        "outputId": "2480c1b7-0a5f-43f1-9293-8fab245fdca5"
      },
      "execution_count": 2,
      "outputs": [
        {
          "output_type": "stream",
          "name": "stdout",
          "text": [
            "Numero de iteraciones : 1\n",
            "Numero de iteraciones : 2\n",
            "Numero de iteraciones : 3\n",
            "Numero de iteraciones : 4\n",
            "Numero de iteraciones : 5\n",
            "Numero de iteraciones : 6\n",
            "Numero de iteraciones : 7\n",
            "Numero de iteraciones : 8\n",
            "Numero de iteraciones : 9\n",
            "Numero de iteraciones : 10\n",
            "Numero de iteraciones : 11\n",
            "Numero de iteraciones : 12\n",
            "Numero de iteraciones : 13\n",
            "Numero de iteraciones : 14\n",
            "Numero de iteraciones : 15\n",
            "Numero de iteraciones : 16\n",
            "Numero de iteraciones : 17\n",
            "Numero de iteraciones : 18\n"
          ]
        }
      ]
    },
    {
      "cell_type": "markdown",
      "source": [
        "\n",
        "---\n",
        "\n",
        "**Pregunta-2**\n",
        "\n",
        "`Observa el siguiente ejemplo y determina el numero de iteraciones.`\n"
      ],
      "metadata": {
        "id": "YJSCcbyY78Kz"
      }
    },
    {
      "cell_type": "code",
      "source": [
        "A = -3\n",
        "B = 0\n",
        "while A < 16:\n",
        "  A += 1\n",
        "  B += 1\n",
        "  print(\"Numero de iteraciones :\",B)"
      ],
      "metadata": {
        "colab": {
          "base_uri": "https://localhost:8080/"
        },
        "collapsed": true,
        "id": "R0XnApGd77oc",
        "outputId": "caae6766-a95c-4d35-d358-5ef07ba7664a"
      },
      "execution_count": 7,
      "outputs": [
        {
          "output_type": "stream",
          "name": "stdout",
          "text": [
            "Numero de iteraciones : 1\n",
            "Numero de iteraciones : 2\n",
            "Numero de iteraciones : 3\n",
            "Numero de iteraciones : 4\n",
            "Numero de iteraciones : 5\n",
            "Numero de iteraciones : 6\n",
            "Numero de iteraciones : 7\n",
            "Numero de iteraciones : 8\n",
            "Numero de iteraciones : 9\n",
            "Numero de iteraciones : 10\n",
            "Numero de iteraciones : 11\n",
            "Numero de iteraciones : 12\n",
            "Numero de iteraciones : 13\n",
            "Numero de iteraciones : 14\n",
            "Numero de iteraciones : 15\n",
            "Numero de iteraciones : 16\n",
            "Numero de iteraciones : 17\n",
            "Numero de iteraciones : 18\n",
            "Numero de iteraciones : 19\n"
          ]
        }
      ]
    },
    {
      "cell_type": "markdown",
      "source": [
        "---\n",
        "\n",
        "**Pregunta-3**\n",
        "\n",
        "`Observa el siguiente ejemplo y determina el numero de iteraciones.`\n"
      ],
      "metadata": {
        "id": "vphmfYk48YO6"
      }
    },
    {
      "cell_type": "code",
      "source": [
        "A = 7\n",
        "B = 0\n",
        "while A <= 16:\n",
        "  A += 1\n",
        "  B += 1\n",
        "  print(\"Numero de iteraciones :\",B)"
      ],
      "metadata": {
        "colab": {
          "base_uri": "https://localhost:8080/"
        },
        "collapsed": true,
        "id": "52XIOheQ8rDp",
        "outputId": "2c53fd76-8ab6-4219-a3ab-e8d7aa4fa00b"
      },
      "execution_count": 6,
      "outputs": [
        {
          "output_type": "stream",
          "name": "stdout",
          "text": [
            "Numero de iteraciones : 1 8\n",
            "Numero de iteraciones : 2 9\n",
            "Numero de iteraciones : 3 10\n",
            "Numero de iteraciones : 4 11\n",
            "Numero de iteraciones : 5 12\n",
            "Numero de iteraciones : 6 13\n",
            "Numero de iteraciones : 7 14\n",
            "Numero de iteraciones : 8 15\n",
            "Numero de iteraciones : 9 16\n",
            "Numero de iteraciones : 10 17\n"
          ]
        }
      ]
    },
    {
      "cell_type": "markdown",
      "source": [
        "---\n",
        "\n",
        "**Pregunta-4**\n",
        "\n",
        "`Observa el siguiente ejemplo y determina el numero de iteraciones.`\n"
      ],
      "metadata": {
        "id": "A7Q8VHV-9c3a"
      }
    },
    {
      "cell_type": "code",
      "source": [
        "A = 2\n",
        "B = 0\n",
        "while A <= 12:\n",
        "  A += 1\n",
        "  B += 1\n",
        "  print(\"Numero de iteraciones :\",B)"
      ],
      "metadata": {
        "colab": {
          "base_uri": "https://localhost:8080/"
        },
        "collapsed": true,
        "id": "vsR4S3PC9f_w",
        "outputId": "a75936c3-ff4e-40ca-9d44-5506db5dfcf9"
      },
      "execution_count": 8,
      "outputs": [
        {
          "output_type": "stream",
          "name": "stdout",
          "text": [
            "Numero de iteraciones : 1\n",
            "Numero de iteraciones : 2\n",
            "Numero de iteraciones : 3\n",
            "Numero de iteraciones : 4\n",
            "Numero de iteraciones : 5\n",
            "Numero de iteraciones : 6\n",
            "Numero de iteraciones : 7\n",
            "Numero de iteraciones : 8\n",
            "Numero de iteraciones : 9\n",
            "Numero de iteraciones : 10\n",
            "Numero de iteraciones : 11\n"
          ]
        }
      ]
    },
    {
      "cell_type": "markdown",
      "source": [
        "---\n",
        "\n",
        "**Pregunta-5**\n",
        "\n",
        "`Observa el siguiente ejemplo y determina el numero de iteraciones.`\n"
      ],
      "metadata": {
        "id": "rXBHiTTN95LW"
      }
    },
    {
      "cell_type": "code",
      "source": [
        "A = -1\n",
        "B = 0\n",
        "while A != 12:\n",
        "  A += 1\n",
        "  B += 1\n",
        "  print(\"Numero de iteraciones :\",B)"
      ],
      "metadata": {
        "collapsed": true,
        "colab": {
          "base_uri": "https://localhost:8080/"
        },
        "id": "TdJ6ReMg-KDz",
        "outputId": "a8d2c0c6-43da-48a1-8dfc-b9b30e088c4c"
      },
      "execution_count": 9,
      "outputs": [
        {
          "output_type": "stream",
          "name": "stdout",
          "text": [
            "Numero de iteraciones : 1\n",
            "Numero de iteraciones : 2\n",
            "Numero de iteraciones : 3\n",
            "Numero de iteraciones : 4\n",
            "Numero de iteraciones : 5\n",
            "Numero de iteraciones : 6\n",
            "Numero de iteraciones : 7\n",
            "Numero de iteraciones : 8\n",
            "Numero de iteraciones : 9\n",
            "Numero de iteraciones : 10\n",
            "Numero de iteraciones : 11\n",
            "Numero de iteraciones : 12\n",
            "Numero de iteraciones : 13\n"
          ]
        }
      ]
    },
    {
      "cell_type": "markdown",
      "source": [
        "---\n",
        "\n",
        "**Pregunta-6**\n",
        "\n",
        "`Observa el siguiente ejemplo y determina el numero de iteraciones.`\n"
      ],
      "metadata": {
        "id": "QG9p3Ldl-idP"
      }
    },
    {
      "cell_type": "code",
      "source": [
        "A = 48\n",
        "B = 0\n",
        "while A >= 12:\n",
        "  A /= 2\n",
        "  B += 1\n",
        "  print(\"Numero de iteraciones :\",B)"
      ],
      "metadata": {
        "colab": {
          "base_uri": "https://localhost:8080/"
        },
        "collapsed": true,
        "id": "Vl5q04u0-mNi",
        "outputId": "d7bc7329-0f39-47cb-b8fe-a25cbeae1ca8"
      },
      "execution_count": 10,
      "outputs": [
        {
          "output_type": "stream",
          "name": "stdout",
          "text": [
            "Numero de iteraciones : 1\n",
            "Numero de iteraciones : 2\n",
            "Numero de iteraciones : 3\n"
          ]
        }
      ]
    },
    {
      "cell_type": "markdown",
      "source": [
        "---\n",
        "\n",
        "**Pregunta-7**\n",
        "\n",
        "`Observa el siguiente ejemplo y determina el numero de iteraciones.`\n"
      ],
      "metadata": {
        "id": "tPA1nx5Q-2GU"
      }
    },
    {
      "cell_type": "code",
      "source": [
        "A = 12\n",
        "B = 0\n",
        "while A >= 5:\n",
        "  A -= 2\n",
        "  B += 1\n",
        "  print(\"Numero de iteraciones :\",B)"
      ],
      "metadata": {
        "colab": {
          "base_uri": "https://localhost:8080/"
        },
        "collapsed": true,
        "id": "pXf4DubQ-1uk",
        "outputId": "19a19cf1-5a58-4ea5-d912-5d84a2a7d20f"
      },
      "execution_count": 11,
      "outputs": [
        {
          "output_type": "stream",
          "name": "stdout",
          "text": [
            "Numero de iteraciones : 1\n",
            "Numero de iteraciones : 2\n",
            "Numero de iteraciones : 3\n",
            "Numero de iteraciones : 4\n"
          ]
        }
      ]
    },
    {
      "cell_type": "markdown",
      "source": [
        "---\n",
        "\n",
        "**Pregunta-8**\n",
        "\n",
        "`Observa el siguiente ejemplo y determina el numero de iteraciones.`"
      ],
      "metadata": {
        "id": "WlSRn_PZ_HLv"
      }
    },
    {
      "cell_type": "code",
      "source": [
        "A = 2\n",
        "B = 0\n",
        "while A != 16:\n",
        "  A *= 2\n",
        "  B += 1\n",
        "  print(\"Numero de iteraciones :\",B)"
      ],
      "metadata": {
        "colab": {
          "base_uri": "https://localhost:8080/"
        },
        "collapsed": true,
        "id": "F90y4V9i_NOq",
        "outputId": "1793e1ac-b8e1-4d7e-bead-b48a4e0c64e8"
      },
      "execution_count": 14,
      "outputs": [
        {
          "output_type": "stream",
          "name": "stdout",
          "text": [
            "Numero de iteraciones : 1\n",
            "Numero de iteraciones : 2\n",
            "Numero de iteraciones : 3\n"
          ]
        }
      ]
    },
    {
      "cell_type": "markdown",
      "source": [
        "---\n",
        "\n",
        "**Pregunta-9**\n",
        "\n",
        "`Observa el siguiente ejemplo y determina el numero de iteraciones.`"
      ],
      "metadata": {
        "id": "ihSONbkx_bLX"
      }
    },
    {
      "cell_type": "code",
      "source": [
        "A = 2\n",
        "B = 0\n",
        "while A != 16:\n",
        "  A *= 2\n",
        "  B += 1\n",
        "  print(\"Numero de iteraciones :\",B)"
      ],
      "metadata": {
        "id": "i-Dsg31P_fUI"
      },
      "execution_count": null,
      "outputs": []
    },
    {
      "cell_type": "markdown",
      "source": [
        "---\n",
        "\n",
        "**Pregunta-10**\n",
        "\n",
        "`Observa el siguiente ejemplo y determina el numero de iteraciones.`"
      ],
      "metadata": {
        "id": "jlJqf_qr_pYU"
      }
    },
    {
      "cell_type": "code",
      "source": [
        "A = 4\n",
        "B = 0\n",
        "while A <= 124:\n",
        "  A **= 2\n",
        "  B += 1\n",
        "  print(\"Numero de iteraciones :\",B)"
      ],
      "metadata": {
        "colab": {
          "base_uri": "https://localhost:8080/"
        },
        "collapsed": true,
        "id": "2e-MNQpq_vti",
        "outputId": "86752959-4db1-4174-a4c8-69382275d59c"
      },
      "execution_count": 16,
      "outputs": [
        {
          "output_type": "stream",
          "name": "stdout",
          "text": [
            "Numero de iteraciones : 1\n",
            "Numero de iteraciones : 2\n"
          ]
        }
      ]
    },
    {
      "cell_type": "markdown",
      "source": [
        "---\n",
        "\n",
        "**Pregunta-11**\n",
        "\n",
        "`Observa el siguiente ejemplo y determina el numero de iteraciones.`"
      ],
      "metadata": {
        "id": "hK1TBPcOAiK0"
      }
    },
    {
      "cell_type": "code",
      "source": [
        "A = 4\n",
        "B = 0\n",
        "while True:\n",
        "  A += 2\n",
        "  B += 1\n",
        "  print(\"Numero de iteraciones :\",B)\n",
        "\n",
        "  if A >= 16:\n",
        "    break\n"
      ],
      "metadata": {
        "colab": {
          "base_uri": "https://localhost:8080/"
        },
        "collapsed": true,
        "id": "Qqm-61WXAlzu",
        "outputId": "4e0e8115-d59b-4a5e-de88-69d035d556bb"
      },
      "execution_count": 19,
      "outputs": [
        {
          "output_type": "stream",
          "name": "stdout",
          "text": [
            "Numero de iteraciones : 1\n",
            "Numero de iteraciones : 2\n",
            "Numero de iteraciones : 3\n",
            "Numero de iteraciones : 4\n",
            "Numero de iteraciones : 5\n",
            "Numero de iteraciones : 6\n"
          ]
        }
      ]
    },
    {
      "cell_type": "markdown",
      "source": [
        "---\n",
        "\n",
        "**Pregunta-12**\n",
        "\n",
        "`Observa el siguiente ejemplo y determina el numero de iteraciones.`"
      ],
      "metadata": {
        "id": "IvXZ4Fy8BuA6"
      }
    },
    {
      "cell_type": "code",
      "source": [
        "A = -2\n",
        "B = 0\n",
        "while True:\n",
        "  A **= 2\n",
        "  B += 1\n",
        "  print(\"Numero de iteraciones :\",B)\n",
        "\n",
        "  if A > 6:\n",
        "    break"
      ],
      "metadata": {
        "colab": {
          "base_uri": "https://localhost:8080/"
        },
        "collapsed": true,
        "id": "K0d169pmB0GK",
        "outputId": "c8527620-3cd8-493d-db93-ca61eab1bb0e"
      },
      "execution_count": 21,
      "outputs": [
        {
          "output_type": "stream",
          "name": "stdout",
          "text": [
            "Numero de iteraciones : 1\n",
            "Numero de iteraciones : 2\n"
          ]
        }
      ]
    },
    {
      "cell_type": "markdown",
      "source": [
        "---\n",
        "\n",
        "**Pregunta-13**\n",
        "\n",
        "`Observa el siguiente ejemplo y determina el numero de iteraciones.`"
      ],
      "metadata": {
        "id": "noqQqvomCCRZ"
      }
    },
    {
      "cell_type": "code",
      "source": [
        "A = 128\n",
        "B = 0\n",
        "while True:\n",
        "  A /= 2\n",
        "  B += 1\n",
        "  print(\"Numero de iteraciones :\",B)\n",
        "\n",
        "  if A < 24:\n",
        "    break"
      ],
      "metadata": {
        "colab": {
          "base_uri": "https://localhost:8080/"
        },
        "collapsed": true,
        "id": "lNpUqVGTCfiv",
        "outputId": "2ca74832-3bc3-4d07-ad8e-15f6d04cb22e"
      },
      "execution_count": 27,
      "outputs": [
        {
          "output_type": "stream",
          "name": "stdout",
          "text": [
            "Numero de iteraciones : 1\n",
            "Numero de iteraciones : 2\n",
            "Numero de iteraciones : 3\n"
          ]
        }
      ]
    },
    {
      "cell_type": "markdown",
      "source": [
        "---\n",
        "\n",
        "**Pregunta-14**\n",
        "\n",
        "`Observa el siguiente ejemplo y determina el numero de iteraciones.`"
      ],
      "metadata": {
        "id": "YNG_7vnhPhco"
      }
    },
    {
      "cell_type": "code",
      "source": [
        "A = 2\n",
        "B = 0\n",
        "while True:\n",
        "  A *= 2\n",
        "  B += 1\n",
        "  print(\"Numero de iteraciones :\",B)\n",
        "\n",
        "  if A > 256:\n",
        "    break"
      ],
      "metadata": {
        "colab": {
          "base_uri": "https://localhost:8080/"
        },
        "collapsed": true,
        "id": "p2bWtYpKPl7T",
        "outputId": "8f1396a6-089e-41cd-a32a-4f12568ab833"
      },
      "execution_count": 28,
      "outputs": [
        {
          "output_type": "stream",
          "name": "stdout",
          "text": [
            "Numero de iteraciones : 1\n",
            "Numero de iteraciones : 2\n",
            "Numero de iteraciones : 3\n",
            "Numero de iteraciones : 4\n",
            "Numero de iteraciones : 5\n",
            "Numero de iteraciones : 6\n",
            "Numero de iteraciones : 7\n",
            "Numero de iteraciones : 8\n"
          ]
        }
      ]
    },
    {
      "cell_type": "markdown",
      "source": [
        "---\n",
        "\n",
        "**Pregunta-15**\n",
        "\n",
        "`Observa el siguiente ejemplo y determina el numero de iteraciones.`"
      ],
      "metadata": {
        "id": "t5iLfZtBQDok"
      }
    },
    {
      "cell_type": "code",
      "source": [
        "A = 2\n",
        "B = 0\n",
        "while True:\n",
        "  A -= 4\n",
        "  B += 1\n",
        "  print(\"Numero de iteraciones :\",B)\n",
        "\n",
        "  if A < -16 :\n",
        "    break"
      ],
      "metadata": {
        "colab": {
          "base_uri": "https://localhost:8080/"
        },
        "collapsed": true,
        "id": "31Ry_GYCQKW7",
        "outputId": "714718a5-13e1-4a90-8d4e-7562376656ff"
      },
      "execution_count": 29,
      "outputs": [
        {
          "output_type": "stream",
          "name": "stdout",
          "text": [
            "Numero de iteraciones : 1\n",
            "Numero de iteraciones : 2\n",
            "Numero de iteraciones : 3\n",
            "Numero de iteraciones : 4\n",
            "Numero de iteraciones : 5\n"
          ]
        }
      ]
    }
  ]
}