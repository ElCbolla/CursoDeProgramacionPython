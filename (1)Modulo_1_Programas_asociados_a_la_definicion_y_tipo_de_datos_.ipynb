{
  "nbformat": 4,
  "nbformat_minor": 0,
  "metadata": {
    "colab": {
      "provenance": [],
      "authorship_tag": "ABX9TyMn9x0d9XtMlXsbGNuMaVGv",
      "include_colab_link": true
    },
    "kernelspec": {
      "name": "python3",
      "display_name": "Python 3"
    },
    "language_info": {
      "name": "python"
    }
  },
  "cells": [
    {
      "cell_type": "markdown",
      "metadata": {
        "id": "view-in-github",
        "colab_type": "text"
      },
      "source": [
        "<a href=\"https://colab.research.google.com/github/ElCbolla/CursoDeProgramacionPython/blob/main/(1)Modulo_1_Programas_asociados_a_la_definicion_y_tipo_de_datos_.ipynb\" target=\"_parent\"><img src=\"https://colab.research.google.com/assets/colab-badge.svg\" alt=\"Open In Colab\"/></a>"
      ]
    },
    {
      "cell_type": "markdown",
      "source": [
        "# Problema-1 : Datos de una persona."
      ],
      "metadata": {
        "id": "dZVSnqe-H0fH"
      }
    },
    {
      "cell_type": "markdown",
      "source": [
        "**Define las siguientes variables**\n",
        "\n",
        "\n",
        "\n",
        "1.   Nombre de la persona (Dato tipo str)\n",
        "2.   Edad de la persona (Dato tipo int)\n",
        "3.   Altura de la persona (Dato tipo float)\n",
        "\n",
        "\n",
        "\n",
        "\n"
      ],
      "metadata": {
        "id": "5vC9xo15H_eT"
      }
    },
    {
      "cell_type": "code",
      "execution_count": null,
      "metadata": {
        "id": "DDjiHa1DG1X-"
      },
      "outputs": [],
      "source": [
        "#Problema-1 :\n",
        "\n",
        "\n",
        "\n",
        "\n",
        "\n"
      ]
    },
    {
      "cell_type": "markdown",
      "source": [
        "# Problema-2 : Datos de un coche."
      ],
      "metadata": {
        "id": "U97ZEUndIkDG"
      }
    },
    {
      "cell_type": "markdown",
      "source": [
        "Define las siguientes variables.\n",
        "\n",
        "1.   Marca del coche (str)\n",
        "2.   Modelo del coche (str)\n",
        "2.   Año de fabricacion (int)\n"
      ],
      "metadata": {
        "id": "CVxFb-XEI9wu"
      }
    },
    {
      "cell_type": "code",
      "source": [
        "#Problema-2 :\n",
        "\n",
        "\n",
        "\n",
        "\n",
        "\n",
        "\n"
      ],
      "metadata": {
        "id": "fsBQbPO2I1Mc"
      },
      "execution_count": null,
      "outputs": []
    },
    {
      "cell_type": "markdown",
      "source": [
        "# Problema-3 : Datos de una casa."
      ],
      "metadata": {
        "id": "0ctvDvZ0Jql3"
      }
    },
    {
      "cell_type": "markdown",
      "source": [
        "Define las siguientes variables.\n",
        "\n",
        "1.   Cantidad de cuartos que tiene la casa (int)\n",
        "2.   Metros cuadrados de la casa (float)\n",
        "3.   ¿Esta habitada la casa? (bool) --- `True` si esta habitada y `False` si no lo esta.\n",
        "\n"
      ],
      "metadata": {
        "id": "KwB1pjoAKd90"
      }
    },
    {
      "cell_type": "code",
      "source": [
        "#Problema-3 :\n",
        "\n",
        "\n",
        "\n",
        "\n",
        "\n"
      ],
      "metadata": {
        "id": "q-yS5tB-LID8"
      },
      "execution_count": null,
      "outputs": []
    },
    {
      "cell_type": "markdown",
      "source": [
        "# Problema-4 : Seguir indicaciones del texto."
      ],
      "metadata": {
        "id": "ZHvQj9rALSqf"
      }
    },
    {
      "cell_type": "markdown",
      "source": [
        "# **Descripcion de una gallina**\n",
        "\n",
        "**Una gallina llamada \"Pepe el pollo\" tiene 3 meses de edad y se encuentra dentro de un gallinero.**"
      ],
      "metadata": {
        "id": "jLe24QHLLapx"
      }
    },
    {
      "cell_type": "code",
      "source": [
        "#Ingrese el nombre de la gallina.\n",
        "Nombre_De_la_Gallina =\n",
        "\n",
        "#Ingrese la edad de la gallina en meses.\n",
        "Edad_De_la_Gallina =\n",
        "\n",
        "#¿Se encontraba adentro de un gallinero? (Bool)\n",
        "La_Gallina_Se_Encuentra_En_su_gallinero ="
      ],
      "metadata": {
        "colab": {
          "base_uri": "https://localhost:8080/",
          "height": 109
        },
        "collapsed": true,
        "id": "ZdB-_DbyL2uv",
        "outputId": "e63fdec1-d55f-4ef9-9c46-79a464c1fa14"
      },
      "execution_count": null,
      "outputs": [
        {
          "output_type": "error",
          "ename": "SyntaxError",
          "evalue": "invalid character '¿' (U+00BF) (<ipython-input-1-25b2e9852b69>, line 5)",
          "traceback": [
            "\u001b[0;36m  File \u001b[0;32m\"<ipython-input-1-25b2e9852b69>\"\u001b[0;36m, line \u001b[0;32m5\u001b[0m\n\u001b[0;31m    ¿La_Gallina_Se_Encuentra_En su gallinero? =\u001b[0m\n\u001b[0m    ^\u001b[0m\n\u001b[0;31mSyntaxError\u001b[0m\u001b[0;31m:\u001b[0m invalid character '¿' (U+00BF)\n"
          ]
        }
      ]
    },
    {
      "cell_type": "markdown",
      "source": [
        "# Problema-5 : Seguir indicaciones del texto."
      ],
      "metadata": {
        "id": "tGxVr80XOJjq"
      }
    },
    {
      "cell_type": "markdown",
      "source": [
        "# Descripcion de una persona"
      ],
      "metadata": {
        "id": "VBEqJY3zM6QA"
      }
    },
    {
      "cell_type": "markdown",
      "source": [
        "**Una persona llamada juanito pela papas pelaba papas abajo de un puente.**\n",
        "\n"
      ],
      "metadata": {
        "id": "o-Rc-y4wNCBQ"
      }
    },
    {
      "cell_type": "code",
      "source": [
        "#Ingrese el nombre de la persona\n",
        "Nombre_De_La_Persona =\n",
        "\n",
        "#Ingrese el lugar donde pelaba las papas\n",
        "En_Donde_Pelaba_Papas =\n",
        "\n",
        "#Juanito pelaba papas? (Bool)\n",
        "Juanito_Pelaba_Papas ="
      ],
      "metadata": {
        "id": "e8rjC05vNOqU"
      },
      "execution_count": null,
      "outputs": []
    },
    {
      "cell_type": "markdown",
      "source": [
        "# Problema-6 : Seguir indicaciones del texto."
      ],
      "metadata": {
        "id": "nbsQbDsqOLue"
      }
    },
    {
      "cell_type": "markdown",
      "source": [
        "# **Descripcion de una situacion**\n",
        "\n",
        "Una persona llamada Lázaro que tiene 17 años de edad le encanta desviar recursos.\n",
        "\n",
        "Define las siguientes variables basándote en la situación (La ultima variable debe indicar si efectivamente a Lázaro le gusta desviar recursos con un valor Bool)."
      ],
      "metadata": {
        "id": "BynzqT1POAX9"
      }
    },
    {
      "cell_type": "code",
      "source": [
        "#Problema-6\n",
        "\n",
        "\n",
        "\n",
        "\n",
        "\n",
        "\n",
        "\n"
      ],
      "metadata": {
        "id": "gTBTFAfbPi2c"
      },
      "execution_count": null,
      "outputs": []
    },
    {
      "cell_type": "markdown",
      "source": [
        "# **Problema-7 : Seguir las indicaciones del texto.**\n",
        "\n",
        "**Una persona llamada hector tiene 17 años y duerme 2 horas al dia, ¿Crees que llegue a los 20 años?**\n",
        "\n",
        "Define las siguientes variables basandote en la situacion (La ultima variable debe indicar si crees que Hector llegue a los 20 años con un valor Bool)\n",
        "\n"
      ],
      "metadata": {
        "id": "W9R8HDjgQN5h"
      }
    },
    {
      "cell_type": "code",
      "source": [
        "#Problema-7\n",
        "\n",
        "\n",
        "\n",
        "\n",
        "\n"
      ],
      "metadata": {
        "id": "_4eWrMRqQ1F7"
      },
      "execution_count": null,
      "outputs": []
    },
    {
      "cell_type": "markdown",
      "source": [
        "# **Problema-8 : Seguir las indicaciones del texto.**\n",
        "\n",
        "**Una cebolla de 17 años le encantan los furros.**\n",
        "\n",
        "Define las siguientes variables basandote en la situacion (La ultima variable debe indicar si a cebolla le encantan los furros con un valor Bool)"
      ],
      "metadata": {
        "id": "NHnxSVuORwij"
      }
    },
    {
      "cell_type": "code",
      "source": [
        "#Problema-8\n",
        "\n",
        "\n",
        "\n",
        "\n",
        "\n",
        "\n",
        "\n"
      ],
      "metadata": {
        "id": "oPBp373uQ3xZ"
      },
      "execution_count": null,
      "outputs": []
    }
  ]
}